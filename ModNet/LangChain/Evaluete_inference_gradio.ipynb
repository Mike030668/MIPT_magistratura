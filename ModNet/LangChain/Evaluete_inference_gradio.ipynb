{
  "nbformat": 4,
  "nbformat_minor": 0,
  "metadata": {
    "colab": {
      "provenance": [],
      "gpuType": "T4",
      "toc_visible": true,
      "include_colab_link": true
    },
    "kernelspec": {
      "name": "python3",
      "display_name": "Python 3"
    },
    "language_info": {
      "name": "python"
    },
    "accelerator": "GPU",
    "widgets": {
      "application/vnd.jupyter.widget-state+json": {
        "6692d422eaac4839a58cf4142889ca32": {
          "model_module": "@jupyter-widgets/controls",
          "model_name": "HBoxModel",
          "model_module_version": "1.5.0",
          "state": {
            "_dom_classes": [],
            "_model_module": "@jupyter-widgets/controls",
            "_model_module_version": "1.5.0",
            "_model_name": "HBoxModel",
            "_view_count": null,
            "_view_module": "@jupyter-widgets/controls",
            "_view_module_version": "1.5.0",
            "_view_name": "HBoxView",
            "box_style": "",
            "children": [
              "IPY_MODEL_e91574c79fd5463996206e204cd2c904",
              "IPY_MODEL_baae353489734599a03b84e00c494a59",
              "IPY_MODEL_01234de0a6fe40e3ad4b64037b199a20"
            ],
            "layout": "IPY_MODEL_659cdf69d1304cc5999dbc8ea65c1da0"
          }
        },
        "e91574c79fd5463996206e204cd2c904": {
          "model_module": "@jupyter-widgets/controls",
          "model_name": "HTMLModel",
          "model_module_version": "1.5.0",
          "state": {
            "_dom_classes": [],
            "_model_module": "@jupyter-widgets/controls",
            "_model_module_version": "1.5.0",
            "_model_name": "HTMLModel",
            "_view_count": null,
            "_view_module": "@jupyter-widgets/controls",
            "_view_module_version": "1.5.0",
            "_view_name": "HTMLView",
            "description": "",
            "description_tooltip": null,
            "layout": "IPY_MODEL_b34375e84fef4b0a9ba753153fbd21b3",
            "placeholder": "​",
            "style": "IPY_MODEL_0897f85895e64079bddb85729a5a7957",
            "value": "tokenizer_config.json: 100%"
          }
        },
        "baae353489734599a03b84e00c494a59": {
          "model_module": "@jupyter-widgets/controls",
          "model_name": "FloatProgressModel",
          "model_module_version": "1.5.0",
          "state": {
            "_dom_classes": [],
            "_model_module": "@jupyter-widgets/controls",
            "_model_module_version": "1.5.0",
            "_model_name": "FloatProgressModel",
            "_view_count": null,
            "_view_module": "@jupyter-widgets/controls",
            "_view_module_version": "1.5.0",
            "_view_name": "ProgressView",
            "bar_style": "success",
            "description": "",
            "description_tooltip": null,
            "layout": "IPY_MODEL_78d5322a2a4c4a238a4dcc2ddf9eb558",
            "max": 700,
            "min": 0,
            "orientation": "horizontal",
            "style": "IPY_MODEL_c33d2ce49c064e74853dc81e0654becb",
            "value": 700
          }
        },
        "01234de0a6fe40e3ad4b64037b199a20": {
          "model_module": "@jupyter-widgets/controls",
          "model_name": "HTMLModel",
          "model_module_version": "1.5.0",
          "state": {
            "_dom_classes": [],
            "_model_module": "@jupyter-widgets/controls",
            "_model_module_version": "1.5.0",
            "_model_name": "HTMLModel",
            "_view_count": null,
            "_view_module": "@jupyter-widgets/controls",
            "_view_module_version": "1.5.0",
            "_view_name": "HTMLView",
            "description": "",
            "description_tooltip": null,
            "layout": "IPY_MODEL_f21ad5f8694e4cfcaa5631290fcfb42e",
            "placeholder": "​",
            "style": "IPY_MODEL_81a59ece197b4d5db493667127126ccc",
            "value": " 700/700 [00:00&lt;00:00, 16.6kB/s]"
          }
        },
        "659cdf69d1304cc5999dbc8ea65c1da0": {
          "model_module": "@jupyter-widgets/base",
          "model_name": "LayoutModel",
          "model_module_version": "1.2.0",
          "state": {
            "_model_module": "@jupyter-widgets/base",
            "_model_module_version": "1.2.0",
            "_model_name": "LayoutModel",
            "_view_count": null,
            "_view_module": "@jupyter-widgets/base",
            "_view_module_version": "1.2.0",
            "_view_name": "LayoutView",
            "align_content": null,
            "align_items": null,
            "align_self": null,
            "border": null,
            "bottom": null,
            "display": null,
            "flex": null,
            "flex_flow": null,
            "grid_area": null,
            "grid_auto_columns": null,
            "grid_auto_flow": null,
            "grid_auto_rows": null,
            "grid_column": null,
            "grid_gap": null,
            "grid_row": null,
            "grid_template_areas": null,
            "grid_template_columns": null,
            "grid_template_rows": null,
            "height": null,
            "justify_content": null,
            "justify_items": null,
            "left": null,
            "margin": null,
            "max_height": null,
            "max_width": null,
            "min_height": null,
            "min_width": null,
            "object_fit": null,
            "object_position": null,
            "order": null,
            "overflow": null,
            "overflow_x": null,
            "overflow_y": null,
            "padding": null,
            "right": null,
            "top": null,
            "visibility": null,
            "width": null
          }
        },
        "b34375e84fef4b0a9ba753153fbd21b3": {
          "model_module": "@jupyter-widgets/base",
          "model_name": "LayoutModel",
          "model_module_version": "1.2.0",
          "state": {
            "_model_module": "@jupyter-widgets/base",
            "_model_module_version": "1.2.0",
            "_model_name": "LayoutModel",
            "_view_count": null,
            "_view_module": "@jupyter-widgets/base",
            "_view_module_version": "1.2.0",
            "_view_name": "LayoutView",
            "align_content": null,
            "align_items": null,
            "align_self": null,
            "border": null,
            "bottom": null,
            "display": null,
            "flex": null,
            "flex_flow": null,
            "grid_area": null,
            "grid_auto_columns": null,
            "grid_auto_flow": null,
            "grid_auto_rows": null,
            "grid_column": null,
            "grid_gap": null,
            "grid_row": null,
            "grid_template_areas": null,
            "grid_template_columns": null,
            "grid_template_rows": null,
            "height": null,
            "justify_content": null,
            "justify_items": null,
            "left": null,
            "margin": null,
            "max_height": null,
            "max_width": null,
            "min_height": null,
            "min_width": null,
            "object_fit": null,
            "object_position": null,
            "order": null,
            "overflow": null,
            "overflow_x": null,
            "overflow_y": null,
            "padding": null,
            "right": null,
            "top": null,
            "visibility": null,
            "width": null
          }
        },
        "0897f85895e64079bddb85729a5a7957": {
          "model_module": "@jupyter-widgets/controls",
          "model_name": "DescriptionStyleModel",
          "model_module_version": "1.5.0",
          "state": {
            "_model_module": "@jupyter-widgets/controls",
            "_model_module_version": "1.5.0",
            "_model_name": "DescriptionStyleModel",
            "_view_count": null,
            "_view_module": "@jupyter-widgets/base",
            "_view_module_version": "1.2.0",
            "_view_name": "StyleView",
            "description_width": ""
          }
        },
        "78d5322a2a4c4a238a4dcc2ddf9eb558": {
          "model_module": "@jupyter-widgets/base",
          "model_name": "LayoutModel",
          "model_module_version": "1.2.0",
          "state": {
            "_model_module": "@jupyter-widgets/base",
            "_model_module_version": "1.2.0",
            "_model_name": "LayoutModel",
            "_view_count": null,
            "_view_module": "@jupyter-widgets/base",
            "_view_module_version": "1.2.0",
            "_view_name": "LayoutView",
            "align_content": null,
            "align_items": null,
            "align_self": null,
            "border": null,
            "bottom": null,
            "display": null,
            "flex": null,
            "flex_flow": null,
            "grid_area": null,
            "grid_auto_columns": null,
            "grid_auto_flow": null,
            "grid_auto_rows": null,
            "grid_column": null,
            "grid_gap": null,
            "grid_row": null,
            "grid_template_areas": null,
            "grid_template_columns": null,
            "grid_template_rows": null,
            "height": null,
            "justify_content": null,
            "justify_items": null,
            "left": null,
            "margin": null,
            "max_height": null,
            "max_width": null,
            "min_height": null,
            "min_width": null,
            "object_fit": null,
            "object_position": null,
            "order": null,
            "overflow": null,
            "overflow_x": null,
            "overflow_y": null,
            "padding": null,
            "right": null,
            "top": null,
            "visibility": null,
            "width": null
          }
        },
        "c33d2ce49c064e74853dc81e0654becb": {
          "model_module": "@jupyter-widgets/controls",
          "model_name": "ProgressStyleModel",
          "model_module_version": "1.5.0",
          "state": {
            "_model_module": "@jupyter-widgets/controls",
            "_model_module_version": "1.5.0",
            "_model_name": "ProgressStyleModel",
            "_view_count": null,
            "_view_module": "@jupyter-widgets/base",
            "_view_module_version": "1.2.0",
            "_view_name": "StyleView",
            "bar_color": null,
            "description_width": ""
          }
        },
        "f21ad5f8694e4cfcaa5631290fcfb42e": {
          "model_module": "@jupyter-widgets/base",
          "model_name": "LayoutModel",
          "model_module_version": "1.2.0",
          "state": {
            "_model_module": "@jupyter-widgets/base",
            "_model_module_version": "1.2.0",
            "_model_name": "LayoutModel",
            "_view_count": null,
            "_view_module": "@jupyter-widgets/base",
            "_view_module_version": "1.2.0",
            "_view_name": "LayoutView",
            "align_content": null,
            "align_items": null,
            "align_self": null,
            "border": null,
            "bottom": null,
            "display": null,
            "flex": null,
            "flex_flow": null,
            "grid_area": null,
            "grid_auto_columns": null,
            "grid_auto_flow": null,
            "grid_auto_rows": null,
            "grid_column": null,
            "grid_gap": null,
            "grid_row": null,
            "grid_template_areas": null,
            "grid_template_columns": null,
            "grid_template_rows": null,
            "height": null,
            "justify_content": null,
            "justify_items": null,
            "left": null,
            "margin": null,
            "max_height": null,
            "max_width": null,
            "min_height": null,
            "min_width": null,
            "object_fit": null,
            "object_position": null,
            "order": null,
            "overflow": null,
            "overflow_x": null,
            "overflow_y": null,
            "padding": null,
            "right": null,
            "top": null,
            "visibility": null,
            "width": null
          }
        },
        "81a59ece197b4d5db493667127126ccc": {
          "model_module": "@jupyter-widgets/controls",
          "model_name": "DescriptionStyleModel",
          "model_module_version": "1.5.0",
          "state": {
            "_model_module": "@jupyter-widgets/controls",
            "_model_module_version": "1.5.0",
            "_model_name": "DescriptionStyleModel",
            "_view_count": null,
            "_view_module": "@jupyter-widgets/base",
            "_view_module_version": "1.2.0",
            "_view_name": "StyleView",
            "description_width": ""
          }
        },
        "61d2bcccd2424c8085dddd0e6bf093e8": {
          "model_module": "@jupyter-widgets/controls",
          "model_name": "HBoxModel",
          "model_module_version": "1.5.0",
          "state": {
            "_dom_classes": [],
            "_model_module": "@jupyter-widgets/controls",
            "_model_module_version": "1.5.0",
            "_model_name": "HBoxModel",
            "_view_count": null,
            "_view_module": "@jupyter-widgets/controls",
            "_view_module_version": "1.5.0",
            "_view_name": "HBoxView",
            "box_style": "",
            "children": [
              "IPY_MODEL_0fffe23b038b493f9ad9da37e976442f",
              "IPY_MODEL_ddd14e9f65ed49f684c8ead897cf7f54",
              "IPY_MODEL_20ce37a537e34eb8accef6b4b2dd32bb"
            ],
            "layout": "IPY_MODEL_3a0a492308aa404eb91b44f1890668cc"
          }
        },
        "0fffe23b038b493f9ad9da37e976442f": {
          "model_module": "@jupyter-widgets/controls",
          "model_name": "HTMLModel",
          "model_module_version": "1.5.0",
          "state": {
            "_dom_classes": [],
            "_model_module": "@jupyter-widgets/controls",
            "_model_module_version": "1.5.0",
            "_model_name": "HTMLModel",
            "_view_count": null,
            "_view_module": "@jupyter-widgets/controls",
            "_view_module_version": "1.5.0",
            "_view_name": "HTMLView",
            "description": "",
            "description_tooltip": null,
            "layout": "IPY_MODEL_00fe8f8ab9c0463f8959ea3ef257bfe2",
            "placeholder": "​",
            "style": "IPY_MODEL_31befe6edf6c4fd0a6d497c8f8c1e327",
            "value": "tokenizer.model: 100%"
          }
        },
        "ddd14e9f65ed49f684c8ead897cf7f54": {
          "model_module": "@jupyter-widgets/controls",
          "model_name": "FloatProgressModel",
          "model_module_version": "1.5.0",
          "state": {
            "_dom_classes": [],
            "_model_module": "@jupyter-widgets/controls",
            "_model_module_version": "1.5.0",
            "_model_name": "FloatProgressModel",
            "_view_count": null,
            "_view_module": "@jupyter-widgets/controls",
            "_view_module_version": "1.5.0",
            "_view_name": "ProgressView",
            "bar_style": "success",
            "description": "",
            "description_tooltip": null,
            "layout": "IPY_MODEL_1bd6a1d4732d4ba1945cae8c97c94a93",
            "max": 499723,
            "min": 0,
            "orientation": "horizontal",
            "style": "IPY_MODEL_57286590c7cc4c0595ff2f2a963b9db9",
            "value": 499723
          }
        },
        "20ce37a537e34eb8accef6b4b2dd32bb": {
          "model_module": "@jupyter-widgets/controls",
          "model_name": "HTMLModel",
          "model_module_version": "1.5.0",
          "state": {
            "_dom_classes": [],
            "_model_module": "@jupyter-widgets/controls",
            "_model_module_version": "1.5.0",
            "_model_name": "HTMLModel",
            "_view_count": null,
            "_view_module": "@jupyter-widgets/controls",
            "_view_module_version": "1.5.0",
            "_view_name": "HTMLView",
            "description": "",
            "description_tooltip": null,
            "layout": "IPY_MODEL_7b03813b20be46a8a143a191eab962de",
            "placeholder": "​",
            "style": "IPY_MODEL_4e491cbce8d5433fa6989e9b259f911d",
            "value": " 500k/500k [00:00&lt;00:00, 9.68MB/s]"
          }
        },
        "3a0a492308aa404eb91b44f1890668cc": {
          "model_module": "@jupyter-widgets/base",
          "model_name": "LayoutModel",
          "model_module_version": "1.2.0",
          "state": {
            "_model_module": "@jupyter-widgets/base",
            "_model_module_version": "1.2.0",
            "_model_name": "LayoutModel",
            "_view_count": null,
            "_view_module": "@jupyter-widgets/base",
            "_view_module_version": "1.2.0",
            "_view_name": "LayoutView",
            "align_content": null,
            "align_items": null,
            "align_self": null,
            "border": null,
            "bottom": null,
            "display": null,
            "flex": null,
            "flex_flow": null,
            "grid_area": null,
            "grid_auto_columns": null,
            "grid_auto_flow": null,
            "grid_auto_rows": null,
            "grid_column": null,
            "grid_gap": null,
            "grid_row": null,
            "grid_template_areas": null,
            "grid_template_columns": null,
            "grid_template_rows": null,
            "height": null,
            "justify_content": null,
            "justify_items": null,
            "left": null,
            "margin": null,
            "max_height": null,
            "max_width": null,
            "min_height": null,
            "min_width": null,
            "object_fit": null,
            "object_position": null,
            "order": null,
            "overflow": null,
            "overflow_x": null,
            "overflow_y": null,
            "padding": null,
            "right": null,
            "top": null,
            "visibility": null,
            "width": null
          }
        },
        "00fe8f8ab9c0463f8959ea3ef257bfe2": {
          "model_module": "@jupyter-widgets/base",
          "model_name": "LayoutModel",
          "model_module_version": "1.2.0",
          "state": {
            "_model_module": "@jupyter-widgets/base",
            "_model_module_version": "1.2.0",
            "_model_name": "LayoutModel",
            "_view_count": null,
            "_view_module": "@jupyter-widgets/base",
            "_view_module_version": "1.2.0",
            "_view_name": "LayoutView",
            "align_content": null,
            "align_items": null,
            "align_self": null,
            "border": null,
            "bottom": null,
            "display": null,
            "flex": null,
            "flex_flow": null,
            "grid_area": null,
            "grid_auto_columns": null,
            "grid_auto_flow": null,
            "grid_auto_rows": null,
            "grid_column": null,
            "grid_gap": null,
            "grid_row": null,
            "grid_template_areas": null,
            "grid_template_columns": null,
            "grid_template_rows": null,
            "height": null,
            "justify_content": null,
            "justify_items": null,
            "left": null,
            "margin": null,
            "max_height": null,
            "max_width": null,
            "min_height": null,
            "min_width": null,
            "object_fit": null,
            "object_position": null,
            "order": null,
            "overflow": null,
            "overflow_x": null,
            "overflow_y": null,
            "padding": null,
            "right": null,
            "top": null,
            "visibility": null,
            "width": null
          }
        },
        "31befe6edf6c4fd0a6d497c8f8c1e327": {
          "model_module": "@jupyter-widgets/controls",
          "model_name": "DescriptionStyleModel",
          "model_module_version": "1.5.0",
          "state": {
            "_model_module": "@jupyter-widgets/controls",
            "_model_module_version": "1.5.0",
            "_model_name": "DescriptionStyleModel",
            "_view_count": null,
            "_view_module": "@jupyter-widgets/base",
            "_view_module_version": "1.2.0",
            "_view_name": "StyleView",
            "description_width": ""
          }
        },
        "1bd6a1d4732d4ba1945cae8c97c94a93": {
          "model_module": "@jupyter-widgets/base",
          "model_name": "LayoutModel",
          "model_module_version": "1.2.0",
          "state": {
            "_model_module": "@jupyter-widgets/base",
            "_model_module_version": "1.2.0",
            "_model_name": "LayoutModel",
            "_view_count": null,
            "_view_module": "@jupyter-widgets/base",
            "_view_module_version": "1.2.0",
            "_view_name": "LayoutView",
            "align_content": null,
            "align_items": null,
            "align_self": null,
            "border": null,
            "bottom": null,
            "display": null,
            "flex": null,
            "flex_flow": null,
            "grid_area": null,
            "grid_auto_columns": null,
            "grid_auto_flow": null,
            "grid_auto_rows": null,
            "grid_column": null,
            "grid_gap": null,
            "grid_row": null,
            "grid_template_areas": null,
            "grid_template_columns": null,
            "grid_template_rows": null,
            "height": null,
            "justify_content": null,
            "justify_items": null,
            "left": null,
            "margin": null,
            "max_height": null,
            "max_width": null,
            "min_height": null,
            "min_width": null,
            "object_fit": null,
            "object_position": null,
            "order": null,
            "overflow": null,
            "overflow_x": null,
            "overflow_y": null,
            "padding": null,
            "right": null,
            "top": null,
            "visibility": null,
            "width": null
          }
        },
        "57286590c7cc4c0595ff2f2a963b9db9": {
          "model_module": "@jupyter-widgets/controls",
          "model_name": "ProgressStyleModel",
          "model_module_version": "1.5.0",
          "state": {
            "_model_module": "@jupyter-widgets/controls",
            "_model_module_version": "1.5.0",
            "_model_name": "ProgressStyleModel",
            "_view_count": null,
            "_view_module": "@jupyter-widgets/base",
            "_view_module_version": "1.2.0",
            "_view_name": "StyleView",
            "bar_color": null,
            "description_width": ""
          }
        },
        "7b03813b20be46a8a143a191eab962de": {
          "model_module": "@jupyter-widgets/base",
          "model_name": "LayoutModel",
          "model_module_version": "1.2.0",
          "state": {
            "_model_module": "@jupyter-widgets/base",
            "_model_module_version": "1.2.0",
            "_model_name": "LayoutModel",
            "_view_count": null,
            "_view_module": "@jupyter-widgets/base",
            "_view_module_version": "1.2.0",
            "_view_name": "LayoutView",
            "align_content": null,
            "align_items": null,
            "align_self": null,
            "border": null,
            "bottom": null,
            "display": null,
            "flex": null,
            "flex_flow": null,
            "grid_area": null,
            "grid_auto_columns": null,
            "grid_auto_flow": null,
            "grid_auto_rows": null,
            "grid_column": null,
            "grid_gap": null,
            "grid_row": null,
            "grid_template_areas": null,
            "grid_template_columns": null,
            "grid_template_rows": null,
            "height": null,
            "justify_content": null,
            "justify_items": null,
            "left": null,
            "margin": null,
            "max_height": null,
            "max_width": null,
            "min_height": null,
            "min_width": null,
            "object_fit": null,
            "object_position": null,
            "order": null,
            "overflow": null,
            "overflow_x": null,
            "overflow_y": null,
            "padding": null,
            "right": null,
            "top": null,
            "visibility": null,
            "width": null
          }
        },
        "4e491cbce8d5433fa6989e9b259f911d": {
          "model_module": "@jupyter-widgets/controls",
          "model_name": "DescriptionStyleModel",
          "model_module_version": "1.5.0",
          "state": {
            "_model_module": "@jupyter-widgets/controls",
            "_model_module_version": "1.5.0",
            "_model_name": "DescriptionStyleModel",
            "_view_count": null,
            "_view_module": "@jupyter-widgets/base",
            "_view_module_version": "1.2.0",
            "_view_name": "StyleView",
            "description_width": ""
          }
        },
        "f149e735eb224288a5b1d0ec5d37dfad": {
          "model_module": "@jupyter-widgets/controls",
          "model_name": "HBoxModel",
          "model_module_version": "1.5.0",
          "state": {
            "_dom_classes": [],
            "_model_module": "@jupyter-widgets/controls",
            "_model_module_version": "1.5.0",
            "_model_name": "HBoxModel",
            "_view_count": null,
            "_view_module": "@jupyter-widgets/controls",
            "_view_module_version": "1.5.0",
            "_view_name": "HBoxView",
            "box_style": "",
            "children": [
              "IPY_MODEL_e07f6f63dca142ac84a75968b77eefd6",
              "IPY_MODEL_fda6053e56a843a38fae8ab07e5c8e56",
              "IPY_MODEL_2d9647b124a04e4aabfca08f057156b2"
            ],
            "layout": "IPY_MODEL_34c4a2d785b74a609309f9987693237c"
          }
        },
        "e07f6f63dca142ac84a75968b77eefd6": {
          "model_module": "@jupyter-widgets/controls",
          "model_name": "HTMLModel",
          "model_module_version": "1.5.0",
          "state": {
            "_dom_classes": [],
            "_model_module": "@jupyter-widgets/controls",
            "_model_module_version": "1.5.0",
            "_model_name": "HTMLModel",
            "_view_count": null,
            "_view_module": "@jupyter-widgets/controls",
            "_view_module_version": "1.5.0",
            "_view_name": "HTMLView",
            "description": "",
            "description_tooltip": null,
            "layout": "IPY_MODEL_8b6c41d804d846ecac87fdd4035f3e35",
            "placeholder": "​",
            "style": "IPY_MODEL_0be62acbefc54e869a74d88a22b432b2",
            "value": "special_tokens_map.json: 100%"
          }
        },
        "fda6053e56a843a38fae8ab07e5c8e56": {
          "model_module": "@jupyter-widgets/controls",
          "model_name": "FloatProgressModel",
          "model_module_version": "1.5.0",
          "state": {
            "_dom_classes": [],
            "_model_module": "@jupyter-widgets/controls",
            "_model_module_version": "1.5.0",
            "_model_name": "FloatProgressModel",
            "_view_count": null,
            "_view_module": "@jupyter-widgets/controls",
            "_view_module_version": "1.5.0",
            "_view_name": "ProgressView",
            "bar_style": "success",
            "description": "",
            "description_tooltip": null,
            "layout": "IPY_MODEL_eccc71ba14c84349baa44e259ccf16ca",
            "max": 411,
            "min": 0,
            "orientation": "horizontal",
            "style": "IPY_MODEL_44490201b92a4d2bba16199acdca53f7",
            "value": 411
          }
        },
        "2d9647b124a04e4aabfca08f057156b2": {
          "model_module": "@jupyter-widgets/controls",
          "model_name": "HTMLModel",
          "model_module_version": "1.5.0",
          "state": {
            "_dom_classes": [],
            "_model_module": "@jupyter-widgets/controls",
            "_model_module_version": "1.5.0",
            "_model_name": "HTMLModel",
            "_view_count": null,
            "_view_module": "@jupyter-widgets/controls",
            "_view_module_version": "1.5.0",
            "_view_name": "HTMLView",
            "description": "",
            "description_tooltip": null,
            "layout": "IPY_MODEL_45b280e9896d4c7ebae535ec613d7aa1",
            "placeholder": "​",
            "style": "IPY_MODEL_924ab50e44844fe5bb6a3f3c5b2f65df",
            "value": " 411/411 [00:00&lt;00:00, 16.7kB/s]"
          }
        },
        "34c4a2d785b74a609309f9987693237c": {
          "model_module": "@jupyter-widgets/base",
          "model_name": "LayoutModel",
          "model_module_version": "1.2.0",
          "state": {
            "_model_module": "@jupyter-widgets/base",
            "_model_module_version": "1.2.0",
            "_model_name": "LayoutModel",
            "_view_count": null,
            "_view_module": "@jupyter-widgets/base",
            "_view_module_version": "1.2.0",
            "_view_name": "LayoutView",
            "align_content": null,
            "align_items": null,
            "align_self": null,
            "border": null,
            "bottom": null,
            "display": null,
            "flex": null,
            "flex_flow": null,
            "grid_area": null,
            "grid_auto_columns": null,
            "grid_auto_flow": null,
            "grid_auto_rows": null,
            "grid_column": null,
            "grid_gap": null,
            "grid_row": null,
            "grid_template_areas": null,
            "grid_template_columns": null,
            "grid_template_rows": null,
            "height": null,
            "justify_content": null,
            "justify_items": null,
            "left": null,
            "margin": null,
            "max_height": null,
            "max_width": null,
            "min_height": null,
            "min_width": null,
            "object_fit": null,
            "object_position": null,
            "order": null,
            "overflow": null,
            "overflow_x": null,
            "overflow_y": null,
            "padding": null,
            "right": null,
            "top": null,
            "visibility": null,
            "width": null
          }
        },
        "8b6c41d804d846ecac87fdd4035f3e35": {
          "model_module": "@jupyter-widgets/base",
          "model_name": "LayoutModel",
          "model_module_version": "1.2.0",
          "state": {
            "_model_module": "@jupyter-widgets/base",
            "_model_module_version": "1.2.0",
            "_model_name": "LayoutModel",
            "_view_count": null,
            "_view_module": "@jupyter-widgets/base",
            "_view_module_version": "1.2.0",
            "_view_name": "LayoutView",
            "align_content": null,
            "align_items": null,
            "align_self": null,
            "border": null,
            "bottom": null,
            "display": null,
            "flex": null,
            "flex_flow": null,
            "grid_area": null,
            "grid_auto_columns": null,
            "grid_auto_flow": null,
            "grid_auto_rows": null,
            "grid_column": null,
            "grid_gap": null,
            "grid_row": null,
            "grid_template_areas": null,
            "grid_template_columns": null,
            "grid_template_rows": null,
            "height": null,
            "justify_content": null,
            "justify_items": null,
            "left": null,
            "margin": null,
            "max_height": null,
            "max_width": null,
            "min_height": null,
            "min_width": null,
            "object_fit": null,
            "object_position": null,
            "order": null,
            "overflow": null,
            "overflow_x": null,
            "overflow_y": null,
            "padding": null,
            "right": null,
            "top": null,
            "visibility": null,
            "width": null
          }
        },
        "0be62acbefc54e869a74d88a22b432b2": {
          "model_module": "@jupyter-widgets/controls",
          "model_name": "DescriptionStyleModel",
          "model_module_version": "1.5.0",
          "state": {
            "_model_module": "@jupyter-widgets/controls",
            "_model_module_version": "1.5.0",
            "_model_name": "DescriptionStyleModel",
            "_view_count": null,
            "_view_module": "@jupyter-widgets/base",
            "_view_module_version": "1.2.0",
            "_view_name": "StyleView",
            "description_width": ""
          }
        },
        "eccc71ba14c84349baa44e259ccf16ca": {
          "model_module": "@jupyter-widgets/base",
          "model_name": "LayoutModel",
          "model_module_version": "1.2.0",
          "state": {
            "_model_module": "@jupyter-widgets/base",
            "_model_module_version": "1.2.0",
            "_model_name": "LayoutModel",
            "_view_count": null,
            "_view_module": "@jupyter-widgets/base",
            "_view_module_version": "1.2.0",
            "_view_name": "LayoutView",
            "align_content": null,
            "align_items": null,
            "align_self": null,
            "border": null,
            "bottom": null,
            "display": null,
            "flex": null,
            "flex_flow": null,
            "grid_area": null,
            "grid_auto_columns": null,
            "grid_auto_flow": null,
            "grid_auto_rows": null,
            "grid_column": null,
            "grid_gap": null,
            "grid_row": null,
            "grid_template_areas": null,
            "grid_template_columns": null,
            "grid_template_rows": null,
            "height": null,
            "justify_content": null,
            "justify_items": null,
            "left": null,
            "margin": null,
            "max_height": null,
            "max_width": null,
            "min_height": null,
            "min_width": null,
            "object_fit": null,
            "object_position": null,
            "order": null,
            "overflow": null,
            "overflow_x": null,
            "overflow_y": null,
            "padding": null,
            "right": null,
            "top": null,
            "visibility": null,
            "width": null
          }
        },
        "44490201b92a4d2bba16199acdca53f7": {
          "model_module": "@jupyter-widgets/controls",
          "model_name": "ProgressStyleModel",
          "model_module_version": "1.5.0",
          "state": {
            "_model_module": "@jupyter-widgets/controls",
            "_model_module_version": "1.5.0",
            "_model_name": "ProgressStyleModel",
            "_view_count": null,
            "_view_module": "@jupyter-widgets/base",
            "_view_module_version": "1.2.0",
            "_view_name": "StyleView",
            "bar_color": null,
            "description_width": ""
          }
        },
        "45b280e9896d4c7ebae535ec613d7aa1": {
          "model_module": "@jupyter-widgets/base",
          "model_name": "LayoutModel",
          "model_module_version": "1.2.0",
          "state": {
            "_model_module": "@jupyter-widgets/base",
            "_model_module_version": "1.2.0",
            "_model_name": "LayoutModel",
            "_view_count": null,
            "_view_module": "@jupyter-widgets/base",
            "_view_module_version": "1.2.0",
            "_view_name": "LayoutView",
            "align_content": null,
            "align_items": null,
            "align_self": null,
            "border": null,
            "bottom": null,
            "display": null,
            "flex": null,
            "flex_flow": null,
            "grid_area": null,
            "grid_auto_columns": null,
            "grid_auto_flow": null,
            "grid_auto_rows": null,
            "grid_column": null,
            "grid_gap": null,
            "grid_row": null,
            "grid_template_areas": null,
            "grid_template_columns": null,
            "grid_template_rows": null,
            "height": null,
            "justify_content": null,
            "justify_items": null,
            "left": null,
            "margin": null,
            "max_height": null,
            "max_width": null,
            "min_height": null,
            "min_width": null,
            "object_fit": null,
            "object_position": null,
            "order": null,
            "overflow": null,
            "overflow_x": null,
            "overflow_y": null,
            "padding": null,
            "right": null,
            "top": null,
            "visibility": null,
            "width": null
          }
        },
        "924ab50e44844fe5bb6a3f3c5b2f65df": {
          "model_module": "@jupyter-widgets/controls",
          "model_name": "DescriptionStyleModel",
          "model_module_version": "1.5.0",
          "state": {
            "_model_module": "@jupyter-widgets/controls",
            "_model_module_version": "1.5.0",
            "_model_name": "DescriptionStyleModel",
            "_view_count": null,
            "_view_module": "@jupyter-widgets/base",
            "_view_module_version": "1.2.0",
            "_view_name": "StyleView",
            "description_width": ""
          }
        },
        "73a4c27ee84048ca92dabfd52de9432c": {
          "model_module": "@jupyter-widgets/controls",
          "model_name": "HBoxModel",
          "model_module_version": "1.5.0",
          "state": {
            "_dom_classes": [],
            "_model_module": "@jupyter-widgets/controls",
            "_model_module_version": "1.5.0",
            "_model_name": "HBoxModel",
            "_view_count": null,
            "_view_module": "@jupyter-widgets/controls",
            "_view_module_version": "1.5.0",
            "_view_name": "HBoxView",
            "box_style": "",
            "children": [
              "IPY_MODEL_570b454d10e440559a2312fa40d4c663",
              "IPY_MODEL_67009b10bb534c00a7c089024f29bfd9",
              "IPY_MODEL_c094d64f9c8a485b904eeb34173a07be"
            ],
            "layout": "IPY_MODEL_c2475a73dd0a4118aafc6d72632e6469"
          }
        },
        "570b454d10e440559a2312fa40d4c663": {
          "model_module": "@jupyter-widgets/controls",
          "model_name": "HTMLModel",
          "model_module_version": "1.5.0",
          "state": {
            "_dom_classes": [],
            "_model_module": "@jupyter-widgets/controls",
            "_model_module_version": "1.5.0",
            "_model_name": "HTMLModel",
            "_view_count": null,
            "_view_module": "@jupyter-widgets/controls",
            "_view_module_version": "1.5.0",
            "_view_name": "HTMLView",
            "description": "",
            "description_tooltip": null,
            "layout": "IPY_MODEL_efdda592cd9f49498524e69b2e1cf740",
            "placeholder": "​",
            "style": "IPY_MODEL_a946375484d24295a52f9635f2b96805",
            "value": "tokenizer.json: 100%"
          }
        },
        "67009b10bb534c00a7c089024f29bfd9": {
          "model_module": "@jupyter-widgets/controls",
          "model_name": "FloatProgressModel",
          "model_module_version": "1.5.0",
          "state": {
            "_dom_classes": [],
            "_model_module": "@jupyter-widgets/controls",
            "_model_module_version": "1.5.0",
            "_model_name": "FloatProgressModel",
            "_view_count": null,
            "_view_module": "@jupyter-widgets/controls",
            "_view_module_version": "1.5.0",
            "_view_name": "ProgressView",
            "bar_style": "success",
            "description": "",
            "description_tooltip": null,
            "layout": "IPY_MODEL_f94c43baf99745068f45ecec77cef864",
            "max": 1842665,
            "min": 0,
            "orientation": "horizontal",
            "style": "IPY_MODEL_f595bce38a334788819c39d70ecaee9f",
            "value": 1842665
          }
        },
        "c094d64f9c8a485b904eeb34173a07be": {
          "model_module": "@jupyter-widgets/controls",
          "model_name": "HTMLModel",
          "model_module_version": "1.5.0",
          "state": {
            "_dom_classes": [],
            "_model_module": "@jupyter-widgets/controls",
            "_model_module_version": "1.5.0",
            "_model_name": "HTMLModel",
            "_view_count": null,
            "_view_module": "@jupyter-widgets/controls",
            "_view_module_version": "1.5.0",
            "_view_name": "HTMLView",
            "description": "",
            "description_tooltip": null,
            "layout": "IPY_MODEL_c9d5140cde8c47d4af3fce2a5ef4efa1",
            "placeholder": "​",
            "style": "IPY_MODEL_b06e10193b554302ae4b1c87fdc8ffe6",
            "value": " 1.84M/1.84M [00:00&lt;00:00, 3.76MB/s]"
          }
        },
        "c2475a73dd0a4118aafc6d72632e6469": {
          "model_module": "@jupyter-widgets/base",
          "model_name": "LayoutModel",
          "model_module_version": "1.2.0",
          "state": {
            "_model_module": "@jupyter-widgets/base",
            "_model_module_version": "1.2.0",
            "_model_name": "LayoutModel",
            "_view_count": null,
            "_view_module": "@jupyter-widgets/base",
            "_view_module_version": "1.2.0",
            "_view_name": "LayoutView",
            "align_content": null,
            "align_items": null,
            "align_self": null,
            "border": null,
            "bottom": null,
            "display": null,
            "flex": null,
            "flex_flow": null,
            "grid_area": null,
            "grid_auto_columns": null,
            "grid_auto_flow": null,
            "grid_auto_rows": null,
            "grid_column": null,
            "grid_gap": null,
            "grid_row": null,
            "grid_template_areas": null,
            "grid_template_columns": null,
            "grid_template_rows": null,
            "height": null,
            "justify_content": null,
            "justify_items": null,
            "left": null,
            "margin": null,
            "max_height": null,
            "max_width": null,
            "min_height": null,
            "min_width": null,
            "object_fit": null,
            "object_position": null,
            "order": null,
            "overflow": null,
            "overflow_x": null,
            "overflow_y": null,
            "padding": null,
            "right": null,
            "top": null,
            "visibility": null,
            "width": null
          }
        },
        "efdda592cd9f49498524e69b2e1cf740": {
          "model_module": "@jupyter-widgets/base",
          "model_name": "LayoutModel",
          "model_module_version": "1.2.0",
          "state": {
            "_model_module": "@jupyter-widgets/base",
            "_model_module_version": "1.2.0",
            "_model_name": "LayoutModel",
            "_view_count": null,
            "_view_module": "@jupyter-widgets/base",
            "_view_module_version": "1.2.0",
            "_view_name": "LayoutView",
            "align_content": null,
            "align_items": null,
            "align_self": null,
            "border": null,
            "bottom": null,
            "display": null,
            "flex": null,
            "flex_flow": null,
            "grid_area": null,
            "grid_auto_columns": null,
            "grid_auto_flow": null,
            "grid_auto_rows": null,
            "grid_column": null,
            "grid_gap": null,
            "grid_row": null,
            "grid_template_areas": null,
            "grid_template_columns": null,
            "grid_template_rows": null,
            "height": null,
            "justify_content": null,
            "justify_items": null,
            "left": null,
            "margin": null,
            "max_height": null,
            "max_width": null,
            "min_height": null,
            "min_width": null,
            "object_fit": null,
            "object_position": null,
            "order": null,
            "overflow": null,
            "overflow_x": null,
            "overflow_y": null,
            "padding": null,
            "right": null,
            "top": null,
            "visibility": null,
            "width": null
          }
        },
        "a946375484d24295a52f9635f2b96805": {
          "model_module": "@jupyter-widgets/controls",
          "model_name": "DescriptionStyleModel",
          "model_module_version": "1.5.0",
          "state": {
            "_model_module": "@jupyter-widgets/controls",
            "_model_module_version": "1.5.0",
            "_model_name": "DescriptionStyleModel",
            "_view_count": null,
            "_view_module": "@jupyter-widgets/base",
            "_view_module_version": "1.2.0",
            "_view_name": "StyleView",
            "description_width": ""
          }
        },
        "f94c43baf99745068f45ecec77cef864": {
          "model_module": "@jupyter-widgets/base",
          "model_name": "LayoutModel",
          "model_module_version": "1.2.0",
          "state": {
            "_model_module": "@jupyter-widgets/base",
            "_model_module_version": "1.2.0",
            "_model_name": "LayoutModel",
            "_view_count": null,
            "_view_module": "@jupyter-widgets/base",
            "_view_module_version": "1.2.0",
            "_view_name": "LayoutView",
            "align_content": null,
            "align_items": null,
            "align_self": null,
            "border": null,
            "bottom": null,
            "display": null,
            "flex": null,
            "flex_flow": null,
            "grid_area": null,
            "grid_auto_columns": null,
            "grid_auto_flow": null,
            "grid_auto_rows": null,
            "grid_column": null,
            "grid_gap": null,
            "grid_row": null,
            "grid_template_areas": null,
            "grid_template_columns": null,
            "grid_template_rows": null,
            "height": null,
            "justify_content": null,
            "justify_items": null,
            "left": null,
            "margin": null,
            "max_height": null,
            "max_width": null,
            "min_height": null,
            "min_width": null,
            "object_fit": null,
            "object_position": null,
            "order": null,
            "overflow": null,
            "overflow_x": null,
            "overflow_y": null,
            "padding": null,
            "right": null,
            "top": null,
            "visibility": null,
            "width": null
          }
        },
        "f595bce38a334788819c39d70ecaee9f": {
          "model_module": "@jupyter-widgets/controls",
          "model_name": "ProgressStyleModel",
          "model_module_version": "1.5.0",
          "state": {
            "_model_module": "@jupyter-widgets/controls",
            "_model_module_version": "1.5.0",
            "_model_name": "ProgressStyleModel",
            "_view_count": null,
            "_view_module": "@jupyter-widgets/base",
            "_view_module_version": "1.2.0",
            "_view_name": "StyleView",
            "bar_color": null,
            "description_width": ""
          }
        },
        "c9d5140cde8c47d4af3fce2a5ef4efa1": {
          "model_module": "@jupyter-widgets/base",
          "model_name": "LayoutModel",
          "model_module_version": "1.2.0",
          "state": {
            "_model_module": "@jupyter-widgets/base",
            "_model_module_version": "1.2.0",
            "_model_name": "LayoutModel",
            "_view_count": null,
            "_view_module": "@jupyter-widgets/base",
            "_view_module_version": "1.2.0",
            "_view_name": "LayoutView",
            "align_content": null,
            "align_items": null,
            "align_self": null,
            "border": null,
            "bottom": null,
            "display": null,
            "flex": null,
            "flex_flow": null,
            "grid_area": null,
            "grid_auto_columns": null,
            "grid_auto_flow": null,
            "grid_auto_rows": null,
            "grid_column": null,
            "grid_gap": null,
            "grid_row": null,
            "grid_template_areas": null,
            "grid_template_columns": null,
            "grid_template_rows": null,
            "height": null,
            "justify_content": null,
            "justify_items": null,
            "left": null,
            "margin": null,
            "max_height": null,
            "max_width": null,
            "min_height": null,
            "min_width": null,
            "object_fit": null,
            "object_position": null,
            "order": null,
            "overflow": null,
            "overflow_x": null,
            "overflow_y": null,
            "padding": null,
            "right": null,
            "top": null,
            "visibility": null,
            "width": null
          }
        },
        "b06e10193b554302ae4b1c87fdc8ffe6": {
          "model_module": "@jupyter-widgets/controls",
          "model_name": "DescriptionStyleModel",
          "model_module_version": "1.5.0",
          "state": {
            "_model_module": "@jupyter-widgets/controls",
            "_model_module_version": "1.5.0",
            "_model_name": "DescriptionStyleModel",
            "_view_count": null,
            "_view_module": "@jupyter-widgets/base",
            "_view_module_version": "1.2.0",
            "_view_name": "StyleView",
            "description_width": ""
          }
        },
        "e56d514f67304a11a6670f9fbdf0b711": {
          "model_module": "@jupyter-widgets/controls",
          "model_name": "HBoxModel",
          "model_module_version": "1.5.0",
          "state": {
            "_dom_classes": [],
            "_model_module": "@jupyter-widgets/controls",
            "_model_module_version": "1.5.0",
            "_model_name": "HBoxModel",
            "_view_count": null,
            "_view_module": "@jupyter-widgets/controls",
            "_view_module_version": "1.5.0",
            "_view_name": "HBoxView",
            "box_style": "",
            "children": [
              "IPY_MODEL_c7e3fd6fb341441fad395d0411a26b57",
              "IPY_MODEL_845be410a265430488f99bf203e1ffc7",
              "IPY_MODEL_763b07d9867a41c2ac8aaedd1fb87d6e"
            ],
            "layout": "IPY_MODEL_1bed94d9c0d94139abfb7e56241802b4"
          }
        },
        "c7e3fd6fb341441fad395d0411a26b57": {
          "model_module": "@jupyter-widgets/controls",
          "model_name": "HTMLModel",
          "model_module_version": "1.5.0",
          "state": {
            "_dom_classes": [],
            "_model_module": "@jupyter-widgets/controls",
            "_model_module_version": "1.5.0",
            "_model_name": "HTMLModel",
            "_view_count": null,
            "_view_module": "@jupyter-widgets/controls",
            "_view_module_version": "1.5.0",
            "_view_name": "HTMLView",
            "description": "",
            "description_tooltip": null,
            "layout": "IPY_MODEL_615c0afa216944dc914cf422a3b34c8f",
            "placeholder": "​",
            "style": "IPY_MODEL_8e789774727042f69b0cd6d4f819a99b",
            "value": "config.json: 100%"
          }
        },
        "845be410a265430488f99bf203e1ffc7": {
          "model_module": "@jupyter-widgets/controls",
          "model_name": "FloatProgressModel",
          "model_module_version": "1.5.0",
          "state": {
            "_dom_classes": [],
            "_model_module": "@jupyter-widgets/controls",
            "_model_module_version": "1.5.0",
            "_model_name": "FloatProgressModel",
            "_view_count": null,
            "_view_module": "@jupyter-widgets/controls",
            "_view_module_version": "1.5.0",
            "_view_name": "ProgressView",
            "bar_style": "success",
            "description": "",
            "description_tooltip": null,
            "layout": "IPY_MODEL_7331546cecf742d5aeeb8e1e785834e8",
            "max": 428,
            "min": 0,
            "orientation": "horizontal",
            "style": "IPY_MODEL_f1afb2714f6b4809841dfcefaa7fce90",
            "value": 428
          }
        },
        "763b07d9867a41c2ac8aaedd1fb87d6e": {
          "model_module": "@jupyter-widgets/controls",
          "model_name": "HTMLModel",
          "model_module_version": "1.5.0",
          "state": {
            "_dom_classes": [],
            "_model_module": "@jupyter-widgets/controls",
            "_model_module_version": "1.5.0",
            "_model_name": "HTMLModel",
            "_view_count": null,
            "_view_module": "@jupyter-widgets/controls",
            "_view_module_version": "1.5.0",
            "_view_name": "HTMLView",
            "description": "",
            "description_tooltip": null,
            "layout": "IPY_MODEL_9d51e9015ff9452c815aa79a76bd07b4",
            "placeholder": "​",
            "style": "IPY_MODEL_0bb7e64ac195420b9697a0086b552594",
            "value": " 428/428 [00:00&lt;00:00, 20.0kB/s]"
          }
        },
        "1bed94d9c0d94139abfb7e56241802b4": {
          "model_module": "@jupyter-widgets/base",
          "model_name": "LayoutModel",
          "model_module_version": "1.2.0",
          "state": {
            "_model_module": "@jupyter-widgets/base",
            "_model_module_version": "1.2.0",
            "_model_name": "LayoutModel",
            "_view_count": null,
            "_view_module": "@jupyter-widgets/base",
            "_view_module_version": "1.2.0",
            "_view_name": "LayoutView",
            "align_content": null,
            "align_items": null,
            "align_self": null,
            "border": null,
            "bottom": null,
            "display": null,
            "flex": null,
            "flex_flow": null,
            "grid_area": null,
            "grid_auto_columns": null,
            "grid_auto_flow": null,
            "grid_auto_rows": null,
            "grid_column": null,
            "grid_gap": null,
            "grid_row": null,
            "grid_template_areas": null,
            "grid_template_columns": null,
            "grid_template_rows": null,
            "height": null,
            "justify_content": null,
            "justify_items": null,
            "left": null,
            "margin": null,
            "max_height": null,
            "max_width": null,
            "min_height": null,
            "min_width": null,
            "object_fit": null,
            "object_position": null,
            "order": null,
            "overflow": null,
            "overflow_x": null,
            "overflow_y": null,
            "padding": null,
            "right": null,
            "top": null,
            "visibility": null,
            "width": null
          }
        },
        "615c0afa216944dc914cf422a3b34c8f": {
          "model_module": "@jupyter-widgets/base",
          "model_name": "LayoutModel",
          "model_module_version": "1.2.0",
          "state": {
            "_model_module": "@jupyter-widgets/base",
            "_model_module_version": "1.2.0",
            "_model_name": "LayoutModel",
            "_view_count": null,
            "_view_module": "@jupyter-widgets/base",
            "_view_module_version": "1.2.0",
            "_view_name": "LayoutView",
            "align_content": null,
            "align_items": null,
            "align_self": null,
            "border": null,
            "bottom": null,
            "display": null,
            "flex": null,
            "flex_flow": null,
            "grid_area": null,
            "grid_auto_columns": null,
            "grid_auto_flow": null,
            "grid_auto_rows": null,
            "grid_column": null,
            "grid_gap": null,
            "grid_row": null,
            "grid_template_areas": null,
            "grid_template_columns": null,
            "grid_template_rows": null,
            "height": null,
            "justify_content": null,
            "justify_items": null,
            "left": null,
            "margin": null,
            "max_height": null,
            "max_width": null,
            "min_height": null,
            "min_width": null,
            "object_fit": null,
            "object_position": null,
            "order": null,
            "overflow": null,
            "overflow_x": null,
            "overflow_y": null,
            "padding": null,
            "right": null,
            "top": null,
            "visibility": null,
            "width": null
          }
        },
        "8e789774727042f69b0cd6d4f819a99b": {
          "model_module": "@jupyter-widgets/controls",
          "model_name": "DescriptionStyleModel",
          "model_module_version": "1.5.0",
          "state": {
            "_model_module": "@jupyter-widgets/controls",
            "_model_module_version": "1.5.0",
            "_model_name": "DescriptionStyleModel",
            "_view_count": null,
            "_view_module": "@jupyter-widgets/base",
            "_view_module_version": "1.2.0",
            "_view_name": "StyleView",
            "description_width": ""
          }
        },
        "7331546cecf742d5aeeb8e1e785834e8": {
          "model_module": "@jupyter-widgets/base",
          "model_name": "LayoutModel",
          "model_module_version": "1.2.0",
          "state": {
            "_model_module": "@jupyter-widgets/base",
            "_model_module_version": "1.2.0",
            "_model_name": "LayoutModel",
            "_view_count": null,
            "_view_module": "@jupyter-widgets/base",
            "_view_module_version": "1.2.0",
            "_view_name": "LayoutView",
            "align_content": null,
            "align_items": null,
            "align_self": null,
            "border": null,
            "bottom": null,
            "display": null,
            "flex": null,
            "flex_flow": null,
            "grid_area": null,
            "grid_auto_columns": null,
            "grid_auto_flow": null,
            "grid_auto_rows": null,
            "grid_column": null,
            "grid_gap": null,
            "grid_row": null,
            "grid_template_areas": null,
            "grid_template_columns": null,
            "grid_template_rows": null,
            "height": null,
            "justify_content": null,
            "justify_items": null,
            "left": null,
            "margin": null,
            "max_height": null,
            "max_width": null,
            "min_height": null,
            "min_width": null,
            "object_fit": null,
            "object_position": null,
            "order": null,
            "overflow": null,
            "overflow_x": null,
            "overflow_y": null,
            "padding": null,
            "right": null,
            "top": null,
            "visibility": null,
            "width": null
          }
        },
        "f1afb2714f6b4809841dfcefaa7fce90": {
          "model_module": "@jupyter-widgets/controls",
          "model_name": "ProgressStyleModel",
          "model_module_version": "1.5.0",
          "state": {
            "_model_module": "@jupyter-widgets/controls",
            "_model_module_version": "1.5.0",
            "_model_name": "ProgressStyleModel",
            "_view_count": null,
            "_view_module": "@jupyter-widgets/base",
            "_view_module_version": "1.2.0",
            "_view_name": "StyleView",
            "bar_color": null,
            "description_width": ""
          }
        },
        "9d51e9015ff9452c815aa79a76bd07b4": {
          "model_module": "@jupyter-widgets/base",
          "model_name": "LayoutModel",
          "model_module_version": "1.2.0",
          "state": {
            "_model_module": "@jupyter-widgets/base",
            "_model_module_version": "1.2.0",
            "_model_name": "LayoutModel",
            "_view_count": null,
            "_view_module": "@jupyter-widgets/base",
            "_view_module_version": "1.2.0",
            "_view_name": "LayoutView",
            "align_content": null,
            "align_items": null,
            "align_self": null,
            "border": null,
            "bottom": null,
            "display": null,
            "flex": null,
            "flex_flow": null,
            "grid_area": null,
            "grid_auto_columns": null,
            "grid_auto_flow": null,
            "grid_auto_rows": null,
            "grid_column": null,
            "grid_gap": null,
            "grid_row": null,
            "grid_template_areas": null,
            "grid_template_columns": null,
            "grid_template_rows": null,
            "height": null,
            "justify_content": null,
            "justify_items": null,
            "left": null,
            "margin": null,
            "max_height": null,
            "max_width": null,
            "min_height": null,
            "min_width": null,
            "object_fit": null,
            "object_position": null,
            "order": null,
            "overflow": null,
            "overflow_x": null,
            "overflow_y": null,
            "padding": null,
            "right": null,
            "top": null,
            "visibility": null,
            "width": null
          }
        },
        "0bb7e64ac195420b9697a0086b552594": {
          "model_module": "@jupyter-widgets/controls",
          "model_name": "DescriptionStyleModel",
          "model_module_version": "1.5.0",
          "state": {
            "_model_module": "@jupyter-widgets/controls",
            "_model_module_version": "1.5.0",
            "_model_name": "DescriptionStyleModel",
            "_view_count": null,
            "_view_module": "@jupyter-widgets/base",
            "_view_module_version": "1.2.0",
            "_view_name": "StyleView",
            "description_width": ""
          }
        },
        "552e165af19e4abe8a1af3c9bfe43519": {
          "model_module": "@jupyter-widgets/controls",
          "model_name": "HBoxModel",
          "model_module_version": "1.5.0",
          "state": {
            "_dom_classes": [],
            "_model_module": "@jupyter-widgets/controls",
            "_model_module_version": "1.5.0",
            "_model_name": "HBoxModel",
            "_view_count": null,
            "_view_module": "@jupyter-widgets/controls",
            "_view_module_version": "1.5.0",
            "_view_name": "HBoxView",
            "box_style": "",
            "children": [
              "IPY_MODEL_1fe260e716c944fb9bc2bc5c8e4ee320",
              "IPY_MODEL_7ac5aeeba1ea4b3a83f6d559cdb1a33e",
              "IPY_MODEL_8d76b340d80547d49906a1059de2217c"
            ],
            "layout": "IPY_MODEL_71b30a211edb4217bda1e94d0d5fc2fa"
          }
        },
        "1fe260e716c944fb9bc2bc5c8e4ee320": {
          "model_module": "@jupyter-widgets/controls",
          "model_name": "HTMLModel",
          "model_module_version": "1.5.0",
          "state": {
            "_dom_classes": [],
            "_model_module": "@jupyter-widgets/controls",
            "_model_module_version": "1.5.0",
            "_model_name": "HTMLModel",
            "_view_count": null,
            "_view_module": "@jupyter-widgets/controls",
            "_view_module_version": "1.5.0",
            "_view_name": "HTMLView",
            "description": "",
            "description_tooltip": null,
            "layout": "IPY_MODEL_bca00c21a1f44849a15899ee2d4af53c",
            "placeholder": "​",
            "style": "IPY_MODEL_fe81d8b813c74379b5c18f767a20ee93",
            "value": "pytorch_model.bin.index.json: 100%"
          }
        },
        "7ac5aeeba1ea4b3a83f6d559cdb1a33e": {
          "model_module": "@jupyter-widgets/controls",
          "model_name": "FloatProgressModel",
          "model_module_version": "1.5.0",
          "state": {
            "_dom_classes": [],
            "_model_module": "@jupyter-widgets/controls",
            "_model_module_version": "1.5.0",
            "_model_name": "FloatProgressModel",
            "_view_count": null,
            "_view_module": "@jupyter-widgets/controls",
            "_view_module_version": "1.5.0",
            "_view_name": "ProgressView",
            "bar_style": "success",
            "description": "",
            "description_tooltip": null,
            "layout": "IPY_MODEL_f7f119d9bed440d8b85ab58e8d31237d",
            "max": 25477,
            "min": 0,
            "orientation": "horizontal",
            "style": "IPY_MODEL_1f4ad7bd5afb4c05a1fe8f67f507dd55",
            "value": 25477
          }
        },
        "8d76b340d80547d49906a1059de2217c": {
          "model_module": "@jupyter-widgets/controls",
          "model_name": "HTMLModel",
          "model_module_version": "1.5.0",
          "state": {
            "_dom_classes": [],
            "_model_module": "@jupyter-widgets/controls",
            "_model_module_version": "1.5.0",
            "_model_name": "HTMLModel",
            "_view_count": null,
            "_view_module": "@jupyter-widgets/controls",
            "_view_module_version": "1.5.0",
            "_view_name": "HTMLView",
            "description": "",
            "description_tooltip": null,
            "layout": "IPY_MODEL_6af8791771ca47db970a3a1ac412a65c",
            "placeholder": "​",
            "style": "IPY_MODEL_52a3915a01894f109c8dceeb6a612ea3",
            "value": " 25.5k/25.5k [00:00&lt;00:00, 1.67MB/s]"
          }
        },
        "71b30a211edb4217bda1e94d0d5fc2fa": {
          "model_module": "@jupyter-widgets/base",
          "model_name": "LayoutModel",
          "model_module_version": "1.2.0",
          "state": {
            "_model_module": "@jupyter-widgets/base",
            "_model_module_version": "1.2.0",
            "_model_name": "LayoutModel",
            "_view_count": null,
            "_view_module": "@jupyter-widgets/base",
            "_view_module_version": "1.2.0",
            "_view_name": "LayoutView",
            "align_content": null,
            "align_items": null,
            "align_self": null,
            "border": null,
            "bottom": null,
            "display": null,
            "flex": null,
            "flex_flow": null,
            "grid_area": null,
            "grid_auto_columns": null,
            "grid_auto_flow": null,
            "grid_auto_rows": null,
            "grid_column": null,
            "grid_gap": null,
            "grid_row": null,
            "grid_template_areas": null,
            "grid_template_columns": null,
            "grid_template_rows": null,
            "height": null,
            "justify_content": null,
            "justify_items": null,
            "left": null,
            "margin": null,
            "max_height": null,
            "max_width": null,
            "min_height": null,
            "min_width": null,
            "object_fit": null,
            "object_position": null,
            "order": null,
            "overflow": null,
            "overflow_x": null,
            "overflow_y": null,
            "padding": null,
            "right": null,
            "top": null,
            "visibility": null,
            "width": null
          }
        },
        "bca00c21a1f44849a15899ee2d4af53c": {
          "model_module": "@jupyter-widgets/base",
          "model_name": "LayoutModel",
          "model_module_version": "1.2.0",
          "state": {
            "_model_module": "@jupyter-widgets/base",
            "_model_module_version": "1.2.0",
            "_model_name": "LayoutModel",
            "_view_count": null,
            "_view_module": "@jupyter-widgets/base",
            "_view_module_version": "1.2.0",
            "_view_name": "LayoutView",
            "align_content": null,
            "align_items": null,
            "align_self": null,
            "border": null,
            "bottom": null,
            "display": null,
            "flex": null,
            "flex_flow": null,
            "grid_area": null,
            "grid_auto_columns": null,
            "grid_auto_flow": null,
            "grid_auto_rows": null,
            "grid_column": null,
            "grid_gap": null,
            "grid_row": null,
            "grid_template_areas": null,
            "grid_template_columns": null,
            "grid_template_rows": null,
            "height": null,
            "justify_content": null,
            "justify_items": null,
            "left": null,
            "margin": null,
            "max_height": null,
            "max_width": null,
            "min_height": null,
            "min_width": null,
            "object_fit": null,
            "object_position": null,
            "order": null,
            "overflow": null,
            "overflow_x": null,
            "overflow_y": null,
            "padding": null,
            "right": null,
            "top": null,
            "visibility": null,
            "width": null
          }
        },
        "fe81d8b813c74379b5c18f767a20ee93": {
          "model_module": "@jupyter-widgets/controls",
          "model_name": "DescriptionStyleModel",
          "model_module_version": "1.5.0",
          "state": {
            "_model_module": "@jupyter-widgets/controls",
            "_model_module_version": "1.5.0",
            "_model_name": "DescriptionStyleModel",
            "_view_count": null,
            "_view_module": "@jupyter-widgets/base",
            "_view_module_version": "1.2.0",
            "_view_name": "StyleView",
            "description_width": ""
          }
        },
        "f7f119d9bed440d8b85ab58e8d31237d": {
          "model_module": "@jupyter-widgets/base",
          "model_name": "LayoutModel",
          "model_module_version": "1.2.0",
          "state": {
            "_model_module": "@jupyter-widgets/base",
            "_model_module_version": "1.2.0",
            "_model_name": "LayoutModel",
            "_view_count": null,
            "_view_module": "@jupyter-widgets/base",
            "_view_module_version": "1.2.0",
            "_view_name": "LayoutView",
            "align_content": null,
            "align_items": null,
            "align_self": null,
            "border": null,
            "bottom": null,
            "display": null,
            "flex": null,
            "flex_flow": null,
            "grid_area": null,
            "grid_auto_columns": null,
            "grid_auto_flow": null,
            "grid_auto_rows": null,
            "grid_column": null,
            "grid_gap": null,
            "grid_row": null,
            "grid_template_areas": null,
            "grid_template_columns": null,
            "grid_template_rows": null,
            "height": null,
            "justify_content": null,
            "justify_items": null,
            "left": null,
            "margin": null,
            "max_height": null,
            "max_width": null,
            "min_height": null,
            "min_width": null,
            "object_fit": null,
            "object_position": null,
            "order": null,
            "overflow": null,
            "overflow_x": null,
            "overflow_y": null,
            "padding": null,
            "right": null,
            "top": null,
            "visibility": null,
            "width": null
          }
        },
        "1f4ad7bd5afb4c05a1fe8f67f507dd55": {
          "model_module": "@jupyter-widgets/controls",
          "model_name": "ProgressStyleModel",
          "model_module_version": "1.5.0",
          "state": {
            "_model_module": "@jupyter-widgets/controls",
            "_model_module_version": "1.5.0",
            "_model_name": "ProgressStyleModel",
            "_view_count": null,
            "_view_module": "@jupyter-widgets/base",
            "_view_module_version": "1.2.0",
            "_view_name": "StyleView",
            "bar_color": null,
            "description_width": ""
          }
        },
        "6af8791771ca47db970a3a1ac412a65c": {
          "model_module": "@jupyter-widgets/base",
          "model_name": "LayoutModel",
          "model_module_version": "1.2.0",
          "state": {
            "_model_module": "@jupyter-widgets/base",
            "_model_module_version": "1.2.0",
            "_model_name": "LayoutModel",
            "_view_count": null,
            "_view_module": "@jupyter-widgets/base",
            "_view_module_version": "1.2.0",
            "_view_name": "LayoutView",
            "align_content": null,
            "align_items": null,
            "align_self": null,
            "border": null,
            "bottom": null,
            "display": null,
            "flex": null,
            "flex_flow": null,
            "grid_area": null,
            "grid_auto_columns": null,
            "grid_auto_flow": null,
            "grid_auto_rows": null,
            "grid_column": null,
            "grid_gap": null,
            "grid_row": null,
            "grid_template_areas": null,
            "grid_template_columns": null,
            "grid_template_rows": null,
            "height": null,
            "justify_content": null,
            "justify_items": null,
            "left": null,
            "margin": null,
            "max_height": null,
            "max_width": null,
            "min_height": null,
            "min_width": null,
            "object_fit": null,
            "object_position": null,
            "order": null,
            "overflow": null,
            "overflow_x": null,
            "overflow_y": null,
            "padding": null,
            "right": null,
            "top": null,
            "visibility": null,
            "width": null
          }
        },
        "52a3915a01894f109c8dceeb6a612ea3": {
          "model_module": "@jupyter-widgets/controls",
          "model_name": "DescriptionStyleModel",
          "model_module_version": "1.5.0",
          "state": {
            "_model_module": "@jupyter-widgets/controls",
            "_model_module_version": "1.5.0",
            "_model_name": "DescriptionStyleModel",
            "_view_count": null,
            "_view_module": "@jupyter-widgets/base",
            "_view_module_version": "1.2.0",
            "_view_name": "StyleView",
            "description_width": ""
          }
        },
        "cd54f25d1ec444759fc801ed47e9913e": {
          "model_module": "@jupyter-widgets/controls",
          "model_name": "HBoxModel",
          "model_module_version": "1.5.0",
          "state": {
            "_dom_classes": [],
            "_model_module": "@jupyter-widgets/controls",
            "_model_module_version": "1.5.0",
            "_model_name": "HBoxModel",
            "_view_count": null,
            "_view_module": "@jupyter-widgets/controls",
            "_view_module_version": "1.5.0",
            "_view_name": "HBoxView",
            "box_style": "",
            "children": [
              "IPY_MODEL_b35abc51efc14b56bace8bf36983a79d",
              "IPY_MODEL_dd4873916683417f84d6d981d95a306f",
              "IPY_MODEL_5862e4221c0c4a7ab5e6cab164ea5a8a"
            ],
            "layout": "IPY_MODEL_e5a38d8a76f34d1980faf230282afb66"
          }
        },
        "b35abc51efc14b56bace8bf36983a79d": {
          "model_module": "@jupyter-widgets/controls",
          "model_name": "HTMLModel",
          "model_module_version": "1.5.0",
          "state": {
            "_dom_classes": [],
            "_model_module": "@jupyter-widgets/controls",
            "_model_module_version": "1.5.0",
            "_model_name": "HTMLModel",
            "_view_count": null,
            "_view_module": "@jupyter-widgets/controls",
            "_view_module_version": "1.5.0",
            "_view_name": "HTMLView",
            "description": "",
            "description_tooltip": null,
            "layout": "IPY_MODEL_2140514a05ae43da90de093b53bff3e0",
            "placeholder": "​",
            "style": "IPY_MODEL_d38efd7fe90b4065b91b51008619d15a",
            "value": "Downloading shards: 100%"
          }
        },
        "dd4873916683417f84d6d981d95a306f": {
          "model_module": "@jupyter-widgets/controls",
          "model_name": "FloatProgressModel",
          "model_module_version": "1.5.0",
          "state": {
            "_dom_classes": [],
            "_model_module": "@jupyter-widgets/controls",
            "_model_module_version": "1.5.0",
            "_model_name": "FloatProgressModel",
            "_view_count": null,
            "_view_module": "@jupyter-widgets/controls",
            "_view_module_version": "1.5.0",
            "_view_name": "ProgressView",
            "bar_style": "success",
            "description": "",
            "description_tooltip": null,
            "layout": "IPY_MODEL_56a656ba153d425584fcaab94bf133c8",
            "max": 33,
            "min": 0,
            "orientation": "horizontal",
            "style": "IPY_MODEL_aed2f15a0e4b426a834b80ac4c26ffcf",
            "value": 33
          }
        },
        "5862e4221c0c4a7ab5e6cab164ea5a8a": {
          "model_module": "@jupyter-widgets/controls",
          "model_name": "HTMLModel",
          "model_module_version": "1.5.0",
          "state": {
            "_dom_classes": [],
            "_model_module": "@jupyter-widgets/controls",
            "_model_module_version": "1.5.0",
            "_model_name": "HTMLModel",
            "_view_count": null,
            "_view_module": "@jupyter-widgets/controls",
            "_view_module_version": "1.5.0",
            "_view_name": "HTMLView",
            "description": "",
            "description_tooltip": null,
            "layout": "IPY_MODEL_6e155dcb904940e68e8fbf5ecb7b4f85",
            "placeholder": "​",
            "style": "IPY_MODEL_0ba1fdca0f2841daacfddac115b4af92",
            "value": " 33/33 [05:57&lt;00:00, 15.16s/it]"
          }
        },
        "e5a38d8a76f34d1980faf230282afb66": {
          "model_module": "@jupyter-widgets/base",
          "model_name": "LayoutModel",
          "model_module_version": "1.2.0",
          "state": {
            "_model_module": "@jupyter-widgets/base",
            "_model_module_version": "1.2.0",
            "_model_name": "LayoutModel",
            "_view_count": null,
            "_view_module": "@jupyter-widgets/base",
            "_view_module_version": "1.2.0",
            "_view_name": "LayoutView",
            "align_content": null,
            "align_items": null,
            "align_self": null,
            "border": null,
            "bottom": null,
            "display": null,
            "flex": null,
            "flex_flow": null,
            "grid_area": null,
            "grid_auto_columns": null,
            "grid_auto_flow": null,
            "grid_auto_rows": null,
            "grid_column": null,
            "grid_gap": null,
            "grid_row": null,
            "grid_template_areas": null,
            "grid_template_columns": null,
            "grid_template_rows": null,
            "height": null,
            "justify_content": null,
            "justify_items": null,
            "left": null,
            "margin": null,
            "max_height": null,
            "max_width": null,
            "min_height": null,
            "min_width": null,
            "object_fit": null,
            "object_position": null,
            "order": null,
            "overflow": null,
            "overflow_x": null,
            "overflow_y": null,
            "padding": null,
            "right": null,
            "top": null,
            "visibility": null,
            "width": null
          }
        },
        "2140514a05ae43da90de093b53bff3e0": {
          "model_module": "@jupyter-widgets/base",
          "model_name": "LayoutModel",
          "model_module_version": "1.2.0",
          "state": {
            "_model_module": "@jupyter-widgets/base",
            "_model_module_version": "1.2.0",
            "_model_name": "LayoutModel",
            "_view_count": null,
            "_view_module": "@jupyter-widgets/base",
            "_view_module_version": "1.2.0",
            "_view_name": "LayoutView",
            "align_content": null,
            "align_items": null,
            "align_self": null,
            "border": null,
            "bottom": null,
            "display": null,
            "flex": null,
            "flex_flow": null,
            "grid_area": null,
            "grid_auto_columns": null,
            "grid_auto_flow": null,
            "grid_auto_rows": null,
            "grid_column": null,
            "grid_gap": null,
            "grid_row": null,
            "grid_template_areas": null,
            "grid_template_columns": null,
            "grid_template_rows": null,
            "height": null,
            "justify_content": null,
            "justify_items": null,
            "left": null,
            "margin": null,
            "max_height": null,
            "max_width": null,
            "min_height": null,
            "min_width": null,
            "object_fit": null,
            "object_position": null,
            "order": null,
            "overflow": null,
            "overflow_x": null,
            "overflow_y": null,
            "padding": null,
            "right": null,
            "top": null,
            "visibility": null,
            "width": null
          }
        },
        "d38efd7fe90b4065b91b51008619d15a": {
          "model_module": "@jupyter-widgets/controls",
          "model_name": "DescriptionStyleModel",
          "model_module_version": "1.5.0",
          "state": {
            "_model_module": "@jupyter-widgets/controls",
            "_model_module_version": "1.5.0",
            "_model_name": "DescriptionStyleModel",
            "_view_count": null,
            "_view_module": "@jupyter-widgets/base",
            "_view_module_version": "1.2.0",
            "_view_name": "StyleView",
            "description_width": ""
          }
        },
        "56a656ba153d425584fcaab94bf133c8": {
          "model_module": "@jupyter-widgets/base",
          "model_name": "LayoutModel",
          "model_module_version": "1.2.0",
          "state": {
            "_model_module": "@jupyter-widgets/base",
            "_model_module_version": "1.2.0",
            "_model_name": "LayoutModel",
            "_view_count": null,
            "_view_module": "@jupyter-widgets/base",
            "_view_module_version": "1.2.0",
            "_view_name": "LayoutView",
            "align_content": null,
            "align_items": null,
            "align_self": null,
            "border": null,
            "bottom": null,
            "display": null,
            "flex": null,
            "flex_flow": null,
            "grid_area": null,
            "grid_auto_columns": null,
            "grid_auto_flow": null,
            "grid_auto_rows": null,
            "grid_column": null,
            "grid_gap": null,
            "grid_row": null,
            "grid_template_areas": null,
            "grid_template_columns": null,
            "grid_template_rows": null,
            "height": null,
            "justify_content": null,
            "justify_items": null,
            "left": null,
            "margin": null,
            "max_height": null,
            "max_width": null,
            "min_height": null,
            "min_width": null,
            "object_fit": null,
            "object_position": null,
            "order": null,
            "overflow": null,
            "overflow_x": null,
            "overflow_y": null,
            "padding": null,
            "right": null,
            "top": null,
            "visibility": null,
            "width": null
          }
        },
        "aed2f15a0e4b426a834b80ac4c26ffcf": {
          "model_module": "@jupyter-widgets/controls",
          "model_name": "ProgressStyleModel",
          "model_module_version": "1.5.0",
          "state": {
            "_model_module": "@jupyter-widgets/controls",
            "_model_module_version": "1.5.0",
            "_model_name": "ProgressStyleModel",
            "_view_count": null,
            "_view_module": "@jupyter-widgets/base",
            "_view_module_version": "1.2.0",
            "_view_name": "StyleView",
            "bar_color": null,
            "description_width": ""
          }
        },
        "6e155dcb904940e68e8fbf5ecb7b4f85": {
          "model_module": "@jupyter-widgets/base",
          "model_name": "LayoutModel",
          "model_module_version": "1.2.0",
          "state": {
            "_model_module": "@jupyter-widgets/base",
            "_model_module_version": "1.2.0",
            "_model_name": "LayoutModel",
            "_view_count": null,
            "_view_module": "@jupyter-widgets/base",
            "_view_module_version": "1.2.0",
            "_view_name": "LayoutView",
            "align_content": null,
            "align_items": null,
            "align_self": null,
            "border": null,
            "bottom": null,
            "display": null,
            "flex": null,
            "flex_flow": null,
            "grid_area": null,
            "grid_auto_columns": null,
            "grid_auto_flow": null,
            "grid_auto_rows": null,
            "grid_column": null,
            "grid_gap": null,
            "grid_row": null,
            "grid_template_areas": null,
            "grid_template_columns": null,
            "grid_template_rows": null,
            "height": null,
            "justify_content": null,
            "justify_items": null,
            "left": null,
            "margin": null,
            "max_height": null,
            "max_width": null,
            "min_height": null,
            "min_width": null,
            "object_fit": null,
            "object_position": null,
            "order": null,
            "overflow": null,
            "overflow_x": null,
            "overflow_y": null,
            "padding": null,
            "right": null,
            "top": null,
            "visibility": null,
            "width": null
          }
        },
        "0ba1fdca0f2841daacfddac115b4af92": {
          "model_module": "@jupyter-widgets/controls",
          "model_name": "DescriptionStyleModel",
          "model_module_version": "1.5.0",
          "state": {
            "_model_module": "@jupyter-widgets/controls",
            "_model_module_version": "1.5.0",
            "_model_name": "DescriptionStyleModel",
            "_view_count": null,
            "_view_module": "@jupyter-widgets/base",
            "_view_module_version": "1.2.0",
            "_view_name": "StyleView",
            "description_width": ""
          }
        },
        "5cb5105cc3334f51b230f3176337edd1": {
          "model_module": "@jupyter-widgets/controls",
          "model_name": "HBoxModel",
          "model_module_version": "1.5.0",
          "state": {
            "_dom_classes": [],
            "_model_module": "@jupyter-widgets/controls",
            "_model_module_version": "1.5.0",
            "_model_name": "HBoxModel",
            "_view_count": null,
            "_view_module": "@jupyter-widgets/controls",
            "_view_module_version": "1.5.0",
            "_view_name": "HBoxView",
            "box_style": "",
            "children": [
              "IPY_MODEL_6209274847f74642913ddcff91e25d99",
              "IPY_MODEL_0a39b4375da748d7811a6d483e699bb8",
              "IPY_MODEL_c70b91a5f0264d008a4c35700547a7e6"
            ],
            "layout": "IPY_MODEL_9e20b4c81cbe4f43872d82b414b60528"
          }
        },
        "6209274847f74642913ddcff91e25d99": {
          "model_module": "@jupyter-widgets/controls",
          "model_name": "HTMLModel",
          "model_module_version": "1.5.0",
          "state": {
            "_dom_classes": [],
            "_model_module": "@jupyter-widgets/controls",
            "_model_module_version": "1.5.0",
            "_model_name": "HTMLModel",
            "_view_count": null,
            "_view_module": "@jupyter-widgets/controls",
            "_view_module_version": "1.5.0",
            "_view_name": "HTMLView",
            "description": "",
            "description_tooltip": null,
            "layout": "IPY_MODEL_edba5b8959cc4b548f350b03210aa569",
            "placeholder": "​",
            "style": "IPY_MODEL_06c065df053f425e81ef989676155cfa",
            "value": "pytorch_model-00001-of-00033.bin: 100%"
          }
        },
        "0a39b4375da748d7811a6d483e699bb8": {
          "model_module": "@jupyter-widgets/controls",
          "model_name": "FloatProgressModel",
          "model_module_version": "1.5.0",
          "state": {
            "_dom_classes": [],
            "_model_module": "@jupyter-widgets/controls",
            "_model_module_version": "1.5.0",
            "_model_name": "FloatProgressModel",
            "_view_count": null,
            "_view_module": "@jupyter-widgets/controls",
            "_view_module_version": "1.5.0",
            "_view_name": "ProgressView",
            "bar_style": "success",
            "description": "",
            "description_tooltip": null,
            "layout": "IPY_MODEL_6de817caf35a405b8b8ccfe8b1e7ceb3",
            "max": 404770755,
            "min": 0,
            "orientation": "horizontal",
            "style": "IPY_MODEL_28b321212adf4ed3a9f1b4972931dce2",
            "value": 404770755
          }
        },
        "c70b91a5f0264d008a4c35700547a7e6": {
          "model_module": "@jupyter-widgets/controls",
          "model_name": "HTMLModel",
          "model_module_version": "1.5.0",
          "state": {
            "_dom_classes": [],
            "_model_module": "@jupyter-widgets/controls",
            "_model_module_version": "1.5.0",
            "_model_name": "HTMLModel",
            "_view_count": null,
            "_view_module": "@jupyter-widgets/controls",
            "_view_module_version": "1.5.0",
            "_view_name": "HTMLView",
            "description": "",
            "description_tooltip": null,
            "layout": "IPY_MODEL_3cb72f4a2f794508888cc3ae792bd866",
            "placeholder": "​",
            "style": "IPY_MODEL_0176d3005b174d6da98c6ecc4914d94c",
            "value": " 405M/405M [00:03&lt;00:00, 131MB/s]"
          }
        },
        "9e20b4c81cbe4f43872d82b414b60528": {
          "model_module": "@jupyter-widgets/base",
          "model_name": "LayoutModel",
          "model_module_version": "1.2.0",
          "state": {
            "_model_module": "@jupyter-widgets/base",
            "_model_module_version": "1.2.0",
            "_model_name": "LayoutModel",
            "_view_count": null,
            "_view_module": "@jupyter-widgets/base",
            "_view_module_version": "1.2.0",
            "_view_name": "LayoutView",
            "align_content": null,
            "align_items": null,
            "align_self": null,
            "border": null,
            "bottom": null,
            "display": null,
            "flex": null,
            "flex_flow": null,
            "grid_area": null,
            "grid_auto_columns": null,
            "grid_auto_flow": null,
            "grid_auto_rows": null,
            "grid_column": null,
            "grid_gap": null,
            "grid_row": null,
            "grid_template_areas": null,
            "grid_template_columns": null,
            "grid_template_rows": null,
            "height": null,
            "justify_content": null,
            "justify_items": null,
            "left": null,
            "margin": null,
            "max_height": null,
            "max_width": null,
            "min_height": null,
            "min_width": null,
            "object_fit": null,
            "object_position": null,
            "order": null,
            "overflow": null,
            "overflow_x": null,
            "overflow_y": null,
            "padding": null,
            "right": null,
            "top": null,
            "visibility": null,
            "width": null
          }
        },
        "edba5b8959cc4b548f350b03210aa569": {
          "model_module": "@jupyter-widgets/base",
          "model_name": "LayoutModel",
          "model_module_version": "1.2.0",
          "state": {
            "_model_module": "@jupyter-widgets/base",
            "_model_module_version": "1.2.0",
            "_model_name": "LayoutModel",
            "_view_count": null,
            "_view_module": "@jupyter-widgets/base",
            "_view_module_version": "1.2.0",
            "_view_name": "LayoutView",
            "align_content": null,
            "align_items": null,
            "align_self": null,
            "border": null,
            "bottom": null,
            "display": null,
            "flex": null,
            "flex_flow": null,
            "grid_area": null,
            "grid_auto_columns": null,
            "grid_auto_flow": null,
            "grid_auto_rows": null,
            "grid_column": null,
            "grid_gap": null,
            "grid_row": null,
            "grid_template_areas": null,
            "grid_template_columns": null,
            "grid_template_rows": null,
            "height": null,
            "justify_content": null,
            "justify_items": null,
            "left": null,
            "margin": null,
            "max_height": null,
            "max_width": null,
            "min_height": null,
            "min_width": null,
            "object_fit": null,
            "object_position": null,
            "order": null,
            "overflow": null,
            "overflow_x": null,
            "overflow_y": null,
            "padding": null,
            "right": null,
            "top": null,
            "visibility": null,
            "width": null
          }
        },
        "06c065df053f425e81ef989676155cfa": {
          "model_module": "@jupyter-widgets/controls",
          "model_name": "DescriptionStyleModel",
          "model_module_version": "1.5.0",
          "state": {
            "_model_module": "@jupyter-widgets/controls",
            "_model_module_version": "1.5.0",
            "_model_name": "DescriptionStyleModel",
            "_view_count": null,
            "_view_module": "@jupyter-widgets/base",
            "_view_module_version": "1.2.0",
            "_view_name": "StyleView",
            "description_width": ""
          }
        },
        "6de817caf35a405b8b8ccfe8b1e7ceb3": {
          "model_module": "@jupyter-widgets/base",
          "model_name": "LayoutModel",
          "model_module_version": "1.2.0",
          "state": {
            "_model_module": "@jupyter-widgets/base",
            "_model_module_version": "1.2.0",
            "_model_name": "LayoutModel",
            "_view_count": null,
            "_view_module": "@jupyter-widgets/base",
            "_view_module_version": "1.2.0",
            "_view_name": "LayoutView",
            "align_content": null,
            "align_items": null,
            "align_self": null,
            "border": null,
            "bottom": null,
            "display": null,
            "flex": null,
            "flex_flow": null,
            "grid_area": null,
            "grid_auto_columns": null,
            "grid_auto_flow": null,
            "grid_auto_rows": null,
            "grid_column": null,
            "grid_gap": null,
            "grid_row": null,
            "grid_template_areas": null,
            "grid_template_columns": null,
            "grid_template_rows": null,
            "height": null,
            "justify_content": null,
            "justify_items": null,
            "left": null,
            "margin": null,
            "max_height": null,
            "max_width": null,
            "min_height": null,
            "min_width": null,
            "object_fit": null,
            "object_position": null,
            "order": null,
            "overflow": null,
            "overflow_x": null,
            "overflow_y": null,
            "padding": null,
            "right": null,
            "top": null,
            "visibility": null,
            "width": null
          }
        },
        "28b321212adf4ed3a9f1b4972931dce2": {
          "model_module": "@jupyter-widgets/controls",
          "model_name": "ProgressStyleModel",
          "model_module_version": "1.5.0",
          "state": {
            "_model_module": "@jupyter-widgets/controls",
            "_model_module_version": "1.5.0",
            "_model_name": "ProgressStyleModel",
            "_view_count": null,
            "_view_module": "@jupyter-widgets/base",
            "_view_module_version": "1.2.0",
            "_view_name": "StyleView",
            "bar_color": null,
            "description_width": ""
          }
        },
        "3cb72f4a2f794508888cc3ae792bd866": {
          "model_module": "@jupyter-widgets/base",
          "model_name": "LayoutModel",
          "model_module_version": "1.2.0",
          "state": {
            "_model_module": "@jupyter-widgets/base",
            "_model_module_version": "1.2.0",
            "_model_name": "LayoutModel",
            "_view_count": null,
            "_view_module": "@jupyter-widgets/base",
            "_view_module_version": "1.2.0",
            "_view_name": "LayoutView",
            "align_content": null,
            "align_items": null,
            "align_self": null,
            "border": null,
            "bottom": null,
            "display": null,
            "flex": null,
            "flex_flow": null,
            "grid_area": null,
            "grid_auto_columns": null,
            "grid_auto_flow": null,
            "grid_auto_rows": null,
            "grid_column": null,
            "grid_gap": null,
            "grid_row": null,
            "grid_template_areas": null,
            "grid_template_columns": null,
            "grid_template_rows": null,
            "height": null,
            "justify_content": null,
            "justify_items": null,
            "left": null,
            "margin": null,
            "max_height": null,
            "max_width": null,
            "min_height": null,
            "min_width": null,
            "object_fit": null,
            "object_position": null,
            "order": null,
            "overflow": null,
            "overflow_x": null,
            "overflow_y": null,
            "padding": null,
            "right": null,
            "top": null,
            "visibility": null,
            "width": null
          }
        },
        "0176d3005b174d6da98c6ecc4914d94c": {
          "model_module": "@jupyter-widgets/controls",
          "model_name": "DescriptionStyleModel",
          "model_module_version": "1.5.0",
          "state": {
            "_model_module": "@jupyter-widgets/controls",
            "_model_module_version": "1.5.0",
            "_model_name": "DescriptionStyleModel",
            "_view_count": null,
            "_view_module": "@jupyter-widgets/base",
            "_view_module_version": "1.2.0",
            "_view_name": "StyleView",
            "description_width": ""
          }
        },
        "3cd36e9065814358ac820cb7f32773c6": {
          "model_module": "@jupyter-widgets/controls",
          "model_name": "HBoxModel",
          "model_module_version": "1.5.0",
          "state": {
            "_dom_classes": [],
            "_model_module": "@jupyter-widgets/controls",
            "_model_module_version": "1.5.0",
            "_model_name": "HBoxModel",
            "_view_count": null,
            "_view_module": "@jupyter-widgets/controls",
            "_view_module_version": "1.5.0",
            "_view_name": "HBoxView",
            "box_style": "",
            "children": [
              "IPY_MODEL_9d0965ad33784659b425d5c93f838697",
              "IPY_MODEL_44e5c4284c154b24bd8b5d071e47a1ab",
              "IPY_MODEL_ce68b96c7c21431383943a57067d788a"
            ],
            "layout": "IPY_MODEL_b2c743ad9f2742168b6f6a13f601f354"
          }
        },
        "9d0965ad33784659b425d5c93f838697": {
          "model_module": "@jupyter-widgets/controls",
          "model_name": "HTMLModel",
          "model_module_version": "1.5.0",
          "state": {
            "_dom_classes": [],
            "_model_module": "@jupyter-widgets/controls",
            "_model_module_version": "1.5.0",
            "_model_name": "HTMLModel",
            "_view_count": null,
            "_view_module": "@jupyter-widgets/controls",
            "_view_module_version": "1.5.0",
            "_view_name": "HTMLView",
            "description": "",
            "description_tooltip": null,
            "layout": "IPY_MODEL_2472b4fbafa5460693023c9077d484a2",
            "placeholder": "​",
            "style": "IPY_MODEL_db9f8d791fb844e8833da49c72ee85cf",
            "value": "pytorch_model-00002-of-00033.bin: 100%"
          }
        },
        "44e5c4284c154b24bd8b5d071e47a1ab": {
          "model_module": "@jupyter-widgets/controls",
          "model_name": "FloatProgressModel",
          "model_module_version": "1.5.0",
          "state": {
            "_dom_classes": [],
            "_model_module": "@jupyter-widgets/controls",
            "_model_module_version": "1.5.0",
            "_model_name": "FloatProgressModel",
            "_view_count": null,
            "_view_module": "@jupyter-widgets/controls",
            "_view_module_version": "1.5.0",
            "_view_name": "ProgressView",
            "bar_style": "success",
            "description": "",
            "description_tooltip": null,
            "layout": "IPY_MODEL_7f60a4530c51414aaa6daef5bcd322ba",
            "max": 404770755,
            "min": 0,
            "orientation": "horizontal",
            "style": "IPY_MODEL_313a47409b8141d88fe9681b9028ea90",
            "value": 404770755
          }
        },
        "ce68b96c7c21431383943a57067d788a": {
          "model_module": "@jupyter-widgets/controls",
          "model_name": "HTMLModel",
          "model_module_version": "1.5.0",
          "state": {
            "_dom_classes": [],
            "_model_module": "@jupyter-widgets/controls",
            "_model_module_version": "1.5.0",
            "_model_name": "HTMLModel",
            "_view_count": null,
            "_view_module": "@jupyter-widgets/controls",
            "_view_module_version": "1.5.0",
            "_view_name": "HTMLView",
            "description": "",
            "description_tooltip": null,
            "layout": "IPY_MODEL_d2b6837b3c6f4bb6ab9019e71599c288",
            "placeholder": "​",
            "style": "IPY_MODEL_9e6247bfa2e24d959edb759858df1bd2",
            "value": " 405M/405M [00:33&lt;00:00, 11.0MB/s]"
          }
        },
        "b2c743ad9f2742168b6f6a13f601f354": {
          "model_module": "@jupyter-widgets/base",
          "model_name": "LayoutModel",
          "model_module_version": "1.2.0",
          "state": {
            "_model_module": "@jupyter-widgets/base",
            "_model_module_version": "1.2.0",
            "_model_name": "LayoutModel",
            "_view_count": null,
            "_view_module": "@jupyter-widgets/base",
            "_view_module_version": "1.2.0",
            "_view_name": "LayoutView",
            "align_content": null,
            "align_items": null,
            "align_self": null,
            "border": null,
            "bottom": null,
            "display": null,
            "flex": null,
            "flex_flow": null,
            "grid_area": null,
            "grid_auto_columns": null,
            "grid_auto_flow": null,
            "grid_auto_rows": null,
            "grid_column": null,
            "grid_gap": null,
            "grid_row": null,
            "grid_template_areas": null,
            "grid_template_columns": null,
            "grid_template_rows": null,
            "height": null,
            "justify_content": null,
            "justify_items": null,
            "left": null,
            "margin": null,
            "max_height": null,
            "max_width": null,
            "min_height": null,
            "min_width": null,
            "object_fit": null,
            "object_position": null,
            "order": null,
            "overflow": null,
            "overflow_x": null,
            "overflow_y": null,
            "padding": null,
            "right": null,
            "top": null,
            "visibility": null,
            "width": null
          }
        },
        "2472b4fbafa5460693023c9077d484a2": {
          "model_module": "@jupyter-widgets/base",
          "model_name": "LayoutModel",
          "model_module_version": "1.2.0",
          "state": {
            "_model_module": "@jupyter-widgets/base",
            "_model_module_version": "1.2.0",
            "_model_name": "LayoutModel",
            "_view_count": null,
            "_view_module": "@jupyter-widgets/base",
            "_view_module_version": "1.2.0",
            "_view_name": "LayoutView",
            "align_content": null,
            "align_items": null,
            "align_self": null,
            "border": null,
            "bottom": null,
            "display": null,
            "flex": null,
            "flex_flow": null,
            "grid_area": null,
            "grid_auto_columns": null,
            "grid_auto_flow": null,
            "grid_auto_rows": null,
            "grid_column": null,
            "grid_gap": null,
            "grid_row": null,
            "grid_template_areas": null,
            "grid_template_columns": null,
            "grid_template_rows": null,
            "height": null,
            "justify_content": null,
            "justify_items": null,
            "left": null,
            "margin": null,
            "max_height": null,
            "max_width": null,
            "min_height": null,
            "min_width": null,
            "object_fit": null,
            "object_position": null,
            "order": null,
            "overflow": null,
            "overflow_x": null,
            "overflow_y": null,
            "padding": null,
            "right": null,
            "top": null,
            "visibility": null,
            "width": null
          }
        },
        "db9f8d791fb844e8833da49c72ee85cf": {
          "model_module": "@jupyter-widgets/controls",
          "model_name": "DescriptionStyleModel",
          "model_module_version": "1.5.0",
          "state": {
            "_model_module": "@jupyter-widgets/controls",
            "_model_module_version": "1.5.0",
            "_model_name": "DescriptionStyleModel",
            "_view_count": null,
            "_view_module": "@jupyter-widgets/base",
            "_view_module_version": "1.2.0",
            "_view_name": "StyleView",
            "description_width": ""
          }
        },
        "7f60a4530c51414aaa6daef5bcd322ba": {
          "model_module": "@jupyter-widgets/base",
          "model_name": "LayoutModel",
          "model_module_version": "1.2.0",
          "state": {
            "_model_module": "@jupyter-widgets/base",
            "_model_module_version": "1.2.0",
            "_model_name": "LayoutModel",
            "_view_count": null,
            "_view_module": "@jupyter-widgets/base",
            "_view_module_version": "1.2.0",
            "_view_name": "LayoutView",
            "align_content": null,
            "align_items": null,
            "align_self": null,
            "border": null,
            "bottom": null,
            "display": null,
            "flex": null,
            "flex_flow": null,
            "grid_area": null,
            "grid_auto_columns": null,
            "grid_auto_flow": null,
            "grid_auto_rows": null,
            "grid_column": null,
            "grid_gap": null,
            "grid_row": null,
            "grid_template_areas": null,
            "grid_template_columns": null,
            "grid_template_rows": null,
            "height": null,
            "justify_content": null,
            "justify_items": null,
            "left": null,
            "margin": null,
            "max_height": null,
            "max_width": null,
            "min_height": null,
            "min_width": null,
            "object_fit": null,
            "object_position": null,
            "order": null,
            "overflow": null,
            "overflow_x": null,
            "overflow_y": null,
            "padding": null,
            "right": null,
            "top": null,
            "visibility": null,
            "width": null
          }
        },
        "313a47409b8141d88fe9681b9028ea90": {
          "model_module": "@jupyter-widgets/controls",
          "model_name": "ProgressStyleModel",
          "model_module_version": "1.5.0",
          "state": {
            "_model_module": "@jupyter-widgets/controls",
            "_model_module_version": "1.5.0",
            "_model_name": "ProgressStyleModel",
            "_view_count": null,
            "_view_module": "@jupyter-widgets/base",
            "_view_module_version": "1.2.0",
            "_view_name": "StyleView",
            "bar_color": null,
            "description_width": ""
          }
        },
        "d2b6837b3c6f4bb6ab9019e71599c288": {
          "model_module": "@jupyter-widgets/base",
          "model_name": "LayoutModel",
          "model_module_version": "1.2.0",
          "state": {
            "_model_module": "@jupyter-widgets/base",
            "_model_module_version": "1.2.0",
            "_model_name": "LayoutModel",
            "_view_count": null,
            "_view_module": "@jupyter-widgets/base",
            "_view_module_version": "1.2.0",
            "_view_name": "LayoutView",
            "align_content": null,
            "align_items": null,
            "align_self": null,
            "border": null,
            "bottom": null,
            "display": null,
            "flex": null,
            "flex_flow": null,
            "grid_area": null,
            "grid_auto_columns": null,
            "grid_auto_flow": null,
            "grid_auto_rows": null,
            "grid_column": null,
            "grid_gap": null,
            "grid_row": null,
            "grid_template_areas": null,
            "grid_template_columns": null,
            "grid_template_rows": null,
            "height": null,
            "justify_content": null,
            "justify_items": null,
            "left": null,
            "margin": null,
            "max_height": null,
            "max_width": null,
            "min_height": null,
            "min_width": null,
            "object_fit": null,
            "object_position": null,
            "order": null,
            "overflow": null,
            "overflow_x": null,
            "overflow_y": null,
            "padding": null,
            "right": null,
            "top": null,
            "visibility": null,
            "width": null
          }
        },
        "9e6247bfa2e24d959edb759858df1bd2": {
          "model_module": "@jupyter-widgets/controls",
          "model_name": "DescriptionStyleModel",
          "model_module_version": "1.5.0",
          "state": {
            "_model_module": "@jupyter-widgets/controls",
            "_model_module_version": "1.5.0",
            "_model_name": "DescriptionStyleModel",
            "_view_count": null,
            "_view_module": "@jupyter-widgets/base",
            "_view_module_version": "1.2.0",
            "_view_name": "StyleView",
            "description_width": ""
          }
        },
        "88f18830639c408dae07be8d51648ccb": {
          "model_module": "@jupyter-widgets/controls",
          "model_name": "HBoxModel",
          "model_module_version": "1.5.0",
          "state": {
            "_dom_classes": [],
            "_model_module": "@jupyter-widgets/controls",
            "_model_module_version": "1.5.0",
            "_model_name": "HBoxModel",
            "_view_count": null,
            "_view_module": "@jupyter-widgets/controls",
            "_view_module_version": "1.5.0",
            "_view_name": "HBoxView",
            "box_style": "",
            "children": [
              "IPY_MODEL_687db8df9ec74deebb0a292f79c82244",
              "IPY_MODEL_dd502f16c9dd4d4a9c74201952d0780f",
              "IPY_MODEL_87fd06b109f54d6a87539ec832d119ff"
            ],
            "layout": "IPY_MODEL_cf029ae600d94e0790a714e5a64f7228"
          }
        },
        "687db8df9ec74deebb0a292f79c82244": {
          "model_module": "@jupyter-widgets/controls",
          "model_name": "HTMLModel",
          "model_module_version": "1.5.0",
          "state": {
            "_dom_classes": [],
            "_model_module": "@jupyter-widgets/controls",
            "_model_module_version": "1.5.0",
            "_model_name": "HTMLModel",
            "_view_count": null,
            "_view_module": "@jupyter-widgets/controls",
            "_view_module_version": "1.5.0",
            "_view_name": "HTMLView",
            "description": "",
            "description_tooltip": null,
            "layout": "IPY_MODEL_46c7d72f73b14856b9dce6d17fcaecf6",
            "placeholder": "​",
            "style": "IPY_MODEL_def32de068044cc893f7fb273d0dce0c",
            "value": "pytorch_model-00003-of-00033.bin: 100%"
          }
        },
        "dd502f16c9dd4d4a9c74201952d0780f": {
          "model_module": "@jupyter-widgets/controls",
          "model_name": "FloatProgressModel",
          "model_module_version": "1.5.0",
          "state": {
            "_dom_classes": [],
            "_model_module": "@jupyter-widgets/controls",
            "_model_module_version": "1.5.0",
            "_model_name": "FloatProgressModel",
            "_view_count": null,
            "_view_module": "@jupyter-widgets/controls",
            "_view_module_version": "1.5.0",
            "_view_name": "ProgressView",
            "bar_style": "success",
            "description": "",
            "description_tooltip": null,
            "layout": "IPY_MODEL_a331e9b9cfea4321918286ab993e14a9",
            "max": 404770755,
            "min": 0,
            "orientation": "horizontal",
            "style": "IPY_MODEL_ccbf6c7d71fd4df0afadc1daeaa267d3",
            "value": 404770755
          }
        },
        "87fd06b109f54d6a87539ec832d119ff": {
          "model_module": "@jupyter-widgets/controls",
          "model_name": "HTMLModel",
          "model_module_version": "1.5.0",
          "state": {
            "_dom_classes": [],
            "_model_module": "@jupyter-widgets/controls",
            "_model_module_version": "1.5.0",
            "_model_name": "HTMLModel",
            "_view_count": null,
            "_view_module": "@jupyter-widgets/controls",
            "_view_module_version": "1.5.0",
            "_view_name": "HTMLView",
            "description": "",
            "description_tooltip": null,
            "layout": "IPY_MODEL_5f965708d7f0491fbaa5514146b6de44",
            "placeholder": "​",
            "style": "IPY_MODEL_76bde580a9734d3fb4224f3ab3329412",
            "value": " 405M/405M [00:03&lt;00:00, 197MB/s]"
          }
        },
        "cf029ae600d94e0790a714e5a64f7228": {
          "model_module": "@jupyter-widgets/base",
          "model_name": "LayoutModel",
          "model_module_version": "1.2.0",
          "state": {
            "_model_module": "@jupyter-widgets/base",
            "_model_module_version": "1.2.0",
            "_model_name": "LayoutModel",
            "_view_count": null,
            "_view_module": "@jupyter-widgets/base",
            "_view_module_version": "1.2.0",
            "_view_name": "LayoutView",
            "align_content": null,
            "align_items": null,
            "align_self": null,
            "border": null,
            "bottom": null,
            "display": null,
            "flex": null,
            "flex_flow": null,
            "grid_area": null,
            "grid_auto_columns": null,
            "grid_auto_flow": null,
            "grid_auto_rows": null,
            "grid_column": null,
            "grid_gap": null,
            "grid_row": null,
            "grid_template_areas": null,
            "grid_template_columns": null,
            "grid_template_rows": null,
            "height": null,
            "justify_content": null,
            "justify_items": null,
            "left": null,
            "margin": null,
            "max_height": null,
            "max_width": null,
            "min_height": null,
            "min_width": null,
            "object_fit": null,
            "object_position": null,
            "order": null,
            "overflow": null,
            "overflow_x": null,
            "overflow_y": null,
            "padding": null,
            "right": null,
            "top": null,
            "visibility": null,
            "width": null
          }
        },
        "46c7d72f73b14856b9dce6d17fcaecf6": {
          "model_module": "@jupyter-widgets/base",
          "model_name": "LayoutModel",
          "model_module_version": "1.2.0",
          "state": {
            "_model_module": "@jupyter-widgets/base",
            "_model_module_version": "1.2.0",
            "_model_name": "LayoutModel",
            "_view_count": null,
            "_view_module": "@jupyter-widgets/base",
            "_view_module_version": "1.2.0",
            "_view_name": "LayoutView",
            "align_content": null,
            "align_items": null,
            "align_self": null,
            "border": null,
            "bottom": null,
            "display": null,
            "flex": null,
            "flex_flow": null,
            "grid_area": null,
            "grid_auto_columns": null,
            "grid_auto_flow": null,
            "grid_auto_rows": null,
            "grid_column": null,
            "grid_gap": null,
            "grid_row": null,
            "grid_template_areas": null,
            "grid_template_columns": null,
            "grid_template_rows": null,
            "height": null,
            "justify_content": null,
            "justify_items": null,
            "left": null,
            "margin": null,
            "max_height": null,
            "max_width": null,
            "min_height": null,
            "min_width": null,
            "object_fit": null,
            "object_position": null,
            "order": null,
            "overflow": null,
            "overflow_x": null,
            "overflow_y": null,
            "padding": null,
            "right": null,
            "top": null,
            "visibility": null,
            "width": null
          }
        },
        "def32de068044cc893f7fb273d0dce0c": {
          "model_module": "@jupyter-widgets/controls",
          "model_name": "DescriptionStyleModel",
          "model_module_version": "1.5.0",
          "state": {
            "_model_module": "@jupyter-widgets/controls",
            "_model_module_version": "1.5.0",
            "_model_name": "DescriptionStyleModel",
            "_view_count": null,
            "_view_module": "@jupyter-widgets/base",
            "_view_module_version": "1.2.0",
            "_view_name": "StyleView",
            "description_width": ""
          }
        },
        "a331e9b9cfea4321918286ab993e14a9": {
          "model_module": "@jupyter-widgets/base",
          "model_name": "LayoutModel",
          "model_module_version": "1.2.0",
          "state": {
            "_model_module": "@jupyter-widgets/base",
            "_model_module_version": "1.2.0",
            "_model_name": "LayoutModel",
            "_view_count": null,
            "_view_module": "@jupyter-widgets/base",
            "_view_module_version": "1.2.0",
            "_view_name": "LayoutView",
            "align_content": null,
            "align_items": null,
            "align_self": null,
            "border": null,
            "bottom": null,
            "display": null,
            "flex": null,
            "flex_flow": null,
            "grid_area": null,
            "grid_auto_columns": null,
            "grid_auto_flow": null,
            "grid_auto_rows": null,
            "grid_column": null,
            "grid_gap": null,
            "grid_row": null,
            "grid_template_areas": null,
            "grid_template_columns": null,
            "grid_template_rows": null,
            "height": null,
            "justify_content": null,
            "justify_items": null,
            "left": null,
            "margin": null,
            "max_height": null,
            "max_width": null,
            "min_height": null,
            "min_width": null,
            "object_fit": null,
            "object_position": null,
            "order": null,
            "overflow": null,
            "overflow_x": null,
            "overflow_y": null,
            "padding": null,
            "right": null,
            "top": null,
            "visibility": null,
            "width": null
          }
        },
        "ccbf6c7d71fd4df0afadc1daeaa267d3": {
          "model_module": "@jupyter-widgets/controls",
          "model_name": "ProgressStyleModel",
          "model_module_version": "1.5.0",
          "state": {
            "_model_module": "@jupyter-widgets/controls",
            "_model_module_version": "1.5.0",
            "_model_name": "ProgressStyleModel",
            "_view_count": null,
            "_view_module": "@jupyter-widgets/base",
            "_view_module_version": "1.2.0",
            "_view_name": "StyleView",
            "bar_color": null,
            "description_width": ""
          }
        },
        "5f965708d7f0491fbaa5514146b6de44": {
          "model_module": "@jupyter-widgets/base",
          "model_name": "LayoutModel",
          "model_module_version": "1.2.0",
          "state": {
            "_model_module": "@jupyter-widgets/base",
            "_model_module_version": "1.2.0",
            "_model_name": "LayoutModel",
            "_view_count": null,
            "_view_module": "@jupyter-widgets/base",
            "_view_module_version": "1.2.0",
            "_view_name": "LayoutView",
            "align_content": null,
            "align_items": null,
            "align_self": null,
            "border": null,
            "bottom": null,
            "display": null,
            "flex": null,
            "flex_flow": null,
            "grid_area": null,
            "grid_auto_columns": null,
            "grid_auto_flow": null,
            "grid_auto_rows": null,
            "grid_column": null,
            "grid_gap": null,
            "grid_row": null,
            "grid_template_areas": null,
            "grid_template_columns": null,
            "grid_template_rows": null,
            "height": null,
            "justify_content": null,
            "justify_items": null,
            "left": null,
            "margin": null,
            "max_height": null,
            "max_width": null,
            "min_height": null,
            "min_width": null,
            "object_fit": null,
            "object_position": null,
            "order": null,
            "overflow": null,
            "overflow_x": null,
            "overflow_y": null,
            "padding": null,
            "right": null,
            "top": null,
            "visibility": null,
            "width": null
          }
        },
        "76bde580a9734d3fb4224f3ab3329412": {
          "model_module": "@jupyter-widgets/controls",
          "model_name": "DescriptionStyleModel",
          "model_module_version": "1.5.0",
          "state": {
            "_model_module": "@jupyter-widgets/controls",
            "_model_module_version": "1.5.0",
            "_model_name": "DescriptionStyleModel",
            "_view_count": null,
            "_view_module": "@jupyter-widgets/base",
            "_view_module_version": "1.2.0",
            "_view_name": "StyleView",
            "description_width": ""
          }
        },
        "148d38ff1d66477e86af18f69d0ada65": {
          "model_module": "@jupyter-widgets/controls",
          "model_name": "HBoxModel",
          "model_module_version": "1.5.0",
          "state": {
            "_dom_classes": [],
            "_model_module": "@jupyter-widgets/controls",
            "_model_module_version": "1.5.0",
            "_model_name": "HBoxModel",
            "_view_count": null,
            "_view_module": "@jupyter-widgets/controls",
            "_view_module_version": "1.5.0",
            "_view_name": "HBoxView",
            "box_style": "",
            "children": [
              "IPY_MODEL_5e955b87f6114693aa3afd825b69bc2e",
              "IPY_MODEL_ae13cefa68494544a601c8803ba92110",
              "IPY_MODEL_44840df00e0a4124820bb3f4398c7773"
            ],
            "layout": "IPY_MODEL_c93ccf60f48b41ef81bfd225d550c23a"
          }
        },
        "5e955b87f6114693aa3afd825b69bc2e": {
          "model_module": "@jupyter-widgets/controls",
          "model_name": "HTMLModel",
          "model_module_version": "1.5.0",
          "state": {
            "_dom_classes": [],
            "_model_module": "@jupyter-widgets/controls",
            "_model_module_version": "1.5.0",
            "_model_name": "HTMLModel",
            "_view_count": null,
            "_view_module": "@jupyter-widgets/controls",
            "_view_module_version": "1.5.0",
            "_view_name": "HTMLView",
            "description": "",
            "description_tooltip": null,
            "layout": "IPY_MODEL_e4cb3bba600846d5baff40035f7c788b",
            "placeholder": "​",
            "style": "IPY_MODEL_26da45b392b64c0898d93324be88aa59",
            "value": "pytorch_model-00004-of-00033.bin: 100%"
          }
        },
        "ae13cefa68494544a601c8803ba92110": {
          "model_module": "@jupyter-widgets/controls",
          "model_name": "FloatProgressModel",
          "model_module_version": "1.5.0",
          "state": {
            "_dom_classes": [],
            "_model_module": "@jupyter-widgets/controls",
            "_model_module_version": "1.5.0",
            "_model_name": "FloatProgressModel",
            "_view_count": null,
            "_view_module": "@jupyter-widgets/controls",
            "_view_module_version": "1.5.0",
            "_view_name": "ProgressView",
            "bar_style": "success",
            "description": "",
            "description_tooltip": null,
            "layout": "IPY_MODEL_daa719013cc842579eaa1290b9c34274",
            "max": 404770755,
            "min": 0,
            "orientation": "horizontal",
            "style": "IPY_MODEL_ee92154712f54ffbb3e97df4b267f406",
            "value": 404770755
          }
        },
        "44840df00e0a4124820bb3f4398c7773": {
          "model_module": "@jupyter-widgets/controls",
          "model_name": "HTMLModel",
          "model_module_version": "1.5.0",
          "state": {
            "_dom_classes": [],
            "_model_module": "@jupyter-widgets/controls",
            "_model_module_version": "1.5.0",
            "_model_name": "HTMLModel",
            "_view_count": null,
            "_view_module": "@jupyter-widgets/controls",
            "_view_module_version": "1.5.0",
            "_view_name": "HTMLView",
            "description": "",
            "description_tooltip": null,
            "layout": "IPY_MODEL_11cc36e019c34ec7813f19c9e7c4284d",
            "placeholder": "​",
            "style": "IPY_MODEL_e9e05f5fa8424269a152a206a1c1c334",
            "value": " 405M/405M [00:02&lt;00:00, 222MB/s]"
          }
        },
        "c93ccf60f48b41ef81bfd225d550c23a": {
          "model_module": "@jupyter-widgets/base",
          "model_name": "LayoutModel",
          "model_module_version": "1.2.0",
          "state": {
            "_model_module": "@jupyter-widgets/base",
            "_model_module_version": "1.2.0",
            "_model_name": "LayoutModel",
            "_view_count": null,
            "_view_module": "@jupyter-widgets/base",
            "_view_module_version": "1.2.0",
            "_view_name": "LayoutView",
            "align_content": null,
            "align_items": null,
            "align_self": null,
            "border": null,
            "bottom": null,
            "display": null,
            "flex": null,
            "flex_flow": null,
            "grid_area": null,
            "grid_auto_columns": null,
            "grid_auto_flow": null,
            "grid_auto_rows": null,
            "grid_column": null,
            "grid_gap": null,
            "grid_row": null,
            "grid_template_areas": null,
            "grid_template_columns": null,
            "grid_template_rows": null,
            "height": null,
            "justify_content": null,
            "justify_items": null,
            "left": null,
            "margin": null,
            "max_height": null,
            "max_width": null,
            "min_height": null,
            "min_width": null,
            "object_fit": null,
            "object_position": null,
            "order": null,
            "overflow": null,
            "overflow_x": null,
            "overflow_y": null,
            "padding": null,
            "right": null,
            "top": null,
            "visibility": null,
            "width": null
          }
        },
        "e4cb3bba600846d5baff40035f7c788b": {
          "model_module": "@jupyter-widgets/base",
          "model_name": "LayoutModel",
          "model_module_version": "1.2.0",
          "state": {
            "_model_module": "@jupyter-widgets/base",
            "_model_module_version": "1.2.0",
            "_model_name": "LayoutModel",
            "_view_count": null,
            "_view_module": "@jupyter-widgets/base",
            "_view_module_version": "1.2.0",
            "_view_name": "LayoutView",
            "align_content": null,
            "align_items": null,
            "align_self": null,
            "border": null,
            "bottom": null,
            "display": null,
            "flex": null,
            "flex_flow": null,
            "grid_area": null,
            "grid_auto_columns": null,
            "grid_auto_flow": null,
            "grid_auto_rows": null,
            "grid_column": null,
            "grid_gap": null,
            "grid_row": null,
            "grid_template_areas": null,
            "grid_template_columns": null,
            "grid_template_rows": null,
            "height": null,
            "justify_content": null,
            "justify_items": null,
            "left": null,
            "margin": null,
            "max_height": null,
            "max_width": null,
            "min_height": null,
            "min_width": null,
            "object_fit": null,
            "object_position": null,
            "order": null,
            "overflow": null,
            "overflow_x": null,
            "overflow_y": null,
            "padding": null,
            "right": null,
            "top": null,
            "visibility": null,
            "width": null
          }
        },
        "26da45b392b64c0898d93324be88aa59": {
          "model_module": "@jupyter-widgets/controls",
          "model_name": "DescriptionStyleModel",
          "model_module_version": "1.5.0",
          "state": {
            "_model_module": "@jupyter-widgets/controls",
            "_model_module_version": "1.5.0",
            "_model_name": "DescriptionStyleModel",
            "_view_count": null,
            "_view_module": "@jupyter-widgets/base",
            "_view_module_version": "1.2.0",
            "_view_name": "StyleView",
            "description_width": ""
          }
        },
        "daa719013cc842579eaa1290b9c34274": {
          "model_module": "@jupyter-widgets/base",
          "model_name": "LayoutModel",
          "model_module_version": "1.2.0",
          "state": {
            "_model_module": "@jupyter-widgets/base",
            "_model_module_version": "1.2.0",
            "_model_name": "LayoutModel",
            "_view_count": null,
            "_view_module": "@jupyter-widgets/base",
            "_view_module_version": "1.2.0",
            "_view_name": "LayoutView",
            "align_content": null,
            "align_items": null,
            "align_self": null,
            "border": null,
            "bottom": null,
            "display": null,
            "flex": null,
            "flex_flow": null,
            "grid_area": null,
            "grid_auto_columns": null,
            "grid_auto_flow": null,
            "grid_auto_rows": null,
            "grid_column": null,
            "grid_gap": null,
            "grid_row": null,
            "grid_template_areas": null,
            "grid_template_columns": null,
            "grid_template_rows": null,
            "height": null,
            "justify_content": null,
            "justify_items": null,
            "left": null,
            "margin": null,
            "max_height": null,
            "max_width": null,
            "min_height": null,
            "min_width": null,
            "object_fit": null,
            "object_position": null,
            "order": null,
            "overflow": null,
            "overflow_x": null,
            "overflow_y": null,
            "padding": null,
            "right": null,
            "top": null,
            "visibility": null,
            "width": null
          }
        },
        "ee92154712f54ffbb3e97df4b267f406": {
          "model_module": "@jupyter-widgets/controls",
          "model_name": "ProgressStyleModel",
          "model_module_version": "1.5.0",
          "state": {
            "_model_module": "@jupyter-widgets/controls",
            "_model_module_version": "1.5.0",
            "_model_name": "ProgressStyleModel",
            "_view_count": null,
            "_view_module": "@jupyter-widgets/base",
            "_view_module_version": "1.2.0",
            "_view_name": "StyleView",
            "bar_color": null,
            "description_width": ""
          }
        },
        "11cc36e019c34ec7813f19c9e7c4284d": {
          "model_module": "@jupyter-widgets/base",
          "model_name": "LayoutModel",
          "model_module_version": "1.2.0",
          "state": {
            "_model_module": "@jupyter-widgets/base",
            "_model_module_version": "1.2.0",
            "_model_name": "LayoutModel",
            "_view_count": null,
            "_view_module": "@jupyter-widgets/base",
            "_view_module_version": "1.2.0",
            "_view_name": "LayoutView",
            "align_content": null,
            "align_items": null,
            "align_self": null,
            "border": null,
            "bottom": null,
            "display": null,
            "flex": null,
            "flex_flow": null,
            "grid_area": null,
            "grid_auto_columns": null,
            "grid_auto_flow": null,
            "grid_auto_rows": null,
            "grid_column": null,
            "grid_gap": null,
            "grid_row": null,
            "grid_template_areas": null,
            "grid_template_columns": null,
            "grid_template_rows": null,
            "height": null,
            "justify_content": null,
            "justify_items": null,
            "left": null,
            "margin": null,
            "max_height": null,
            "max_width": null,
            "min_height": null,
            "min_width": null,
            "object_fit": null,
            "object_position": null,
            "order": null,
            "overflow": null,
            "overflow_x": null,
            "overflow_y": null,
            "padding": null,
            "right": null,
            "top": null,
            "visibility": null,
            "width": null
          }
        },
        "e9e05f5fa8424269a152a206a1c1c334": {
          "model_module": "@jupyter-widgets/controls",
          "model_name": "DescriptionStyleModel",
          "model_module_version": "1.5.0",
          "state": {
            "_model_module": "@jupyter-widgets/controls",
            "_model_module_version": "1.5.0",
            "_model_name": "DescriptionStyleModel",
            "_view_count": null,
            "_view_module": "@jupyter-widgets/base",
            "_view_module_version": "1.2.0",
            "_view_name": "StyleView",
            "description_width": ""
          }
        },
        "6030f438f4e04c3ea424069903700b14": {
          "model_module": "@jupyter-widgets/controls",
          "model_name": "HBoxModel",
          "model_module_version": "1.5.0",
          "state": {
            "_dom_classes": [],
            "_model_module": "@jupyter-widgets/controls",
            "_model_module_version": "1.5.0",
            "_model_name": "HBoxModel",
            "_view_count": null,
            "_view_module": "@jupyter-widgets/controls",
            "_view_module_version": "1.5.0",
            "_view_name": "HBoxView",
            "box_style": "",
            "children": [
              "IPY_MODEL_094cf3e09294487dad6778e381741fdc",
              "IPY_MODEL_fb48c1897f2c4cf49f507146ad32a104",
              "IPY_MODEL_95f514c826504240a3ca18a796a803e3"
            ],
            "layout": "IPY_MODEL_29876d7ad4bc41539107cb4c52e95121"
          }
        },
        "094cf3e09294487dad6778e381741fdc": {
          "model_module": "@jupyter-widgets/controls",
          "model_name": "HTMLModel",
          "model_module_version": "1.5.0",
          "state": {
            "_dom_classes": [],
            "_model_module": "@jupyter-widgets/controls",
            "_model_module_version": "1.5.0",
            "_model_name": "HTMLModel",
            "_view_count": null,
            "_view_module": "@jupyter-widgets/controls",
            "_view_module_version": "1.5.0",
            "_view_name": "HTMLView",
            "description": "",
            "description_tooltip": null,
            "layout": "IPY_MODEL_50646123f61e4204a7ad1b426f3f91e0",
            "placeholder": "​",
            "style": "IPY_MODEL_411e6a9c67a3452ba5d5d3aecf9209ee",
            "value": "pytorch_model-00005-of-00033.bin: 100%"
          }
        },
        "fb48c1897f2c4cf49f507146ad32a104": {
          "model_module": "@jupyter-widgets/controls",
          "model_name": "FloatProgressModel",
          "model_module_version": "1.5.0",
          "state": {
            "_dom_classes": [],
            "_model_module": "@jupyter-widgets/controls",
            "_model_module_version": "1.5.0",
            "_model_name": "FloatProgressModel",
            "_view_count": null,
            "_view_module": "@jupyter-widgets/controls",
            "_view_module_version": "1.5.0",
            "_view_name": "ProgressView",
            "bar_style": "success",
            "description": "",
            "description_tooltip": null,
            "layout": "IPY_MODEL_88bfbe69527b4bd6a1fd606c07b06b27",
            "max": 404770755,
            "min": 0,
            "orientation": "horizontal",
            "style": "IPY_MODEL_17b2e6d5215c48fc893f29ebb4b5aef7",
            "value": 404770755
          }
        },
        "95f514c826504240a3ca18a796a803e3": {
          "model_module": "@jupyter-widgets/controls",
          "model_name": "HTMLModel",
          "model_module_version": "1.5.0",
          "state": {
            "_dom_classes": [],
            "_model_module": "@jupyter-widgets/controls",
            "_model_module_version": "1.5.0",
            "_model_name": "HTMLModel",
            "_view_count": null,
            "_view_module": "@jupyter-widgets/controls",
            "_view_module_version": "1.5.0",
            "_view_name": "HTMLView",
            "description": "",
            "description_tooltip": null,
            "layout": "IPY_MODEL_d6c666f63bda4fdfb28518775a873e62",
            "placeholder": "​",
            "style": "IPY_MODEL_51a97acbc8ea4dee8fdaa63d07b116c5",
            "value": " 405M/405M [00:03&lt;00:00, 224MB/s]"
          }
        },
        "29876d7ad4bc41539107cb4c52e95121": {
          "model_module": "@jupyter-widgets/base",
          "model_name": "LayoutModel",
          "model_module_version": "1.2.0",
          "state": {
            "_model_module": "@jupyter-widgets/base",
            "_model_module_version": "1.2.0",
            "_model_name": "LayoutModel",
            "_view_count": null,
            "_view_module": "@jupyter-widgets/base",
            "_view_module_version": "1.2.0",
            "_view_name": "LayoutView",
            "align_content": null,
            "align_items": null,
            "align_self": null,
            "border": null,
            "bottom": null,
            "display": null,
            "flex": null,
            "flex_flow": null,
            "grid_area": null,
            "grid_auto_columns": null,
            "grid_auto_flow": null,
            "grid_auto_rows": null,
            "grid_column": null,
            "grid_gap": null,
            "grid_row": null,
            "grid_template_areas": null,
            "grid_template_columns": null,
            "grid_template_rows": null,
            "height": null,
            "justify_content": null,
            "justify_items": null,
            "left": null,
            "margin": null,
            "max_height": null,
            "max_width": null,
            "min_height": null,
            "min_width": null,
            "object_fit": null,
            "object_position": null,
            "order": null,
            "overflow": null,
            "overflow_x": null,
            "overflow_y": null,
            "padding": null,
            "right": null,
            "top": null,
            "visibility": null,
            "width": null
          }
        },
        "50646123f61e4204a7ad1b426f3f91e0": {
          "model_module": "@jupyter-widgets/base",
          "model_name": "LayoutModel",
          "model_module_version": "1.2.0",
          "state": {
            "_model_module": "@jupyter-widgets/base",
            "_model_module_version": "1.2.0",
            "_model_name": "LayoutModel",
            "_view_count": null,
            "_view_module": "@jupyter-widgets/base",
            "_view_module_version": "1.2.0",
            "_view_name": "LayoutView",
            "align_content": null,
            "align_items": null,
            "align_self": null,
            "border": null,
            "bottom": null,
            "display": null,
            "flex": null,
            "flex_flow": null,
            "grid_area": null,
            "grid_auto_columns": null,
            "grid_auto_flow": null,
            "grid_auto_rows": null,
            "grid_column": null,
            "grid_gap": null,
            "grid_row": null,
            "grid_template_areas": null,
            "grid_template_columns": null,
            "grid_template_rows": null,
            "height": null,
            "justify_content": null,
            "justify_items": null,
            "left": null,
            "margin": null,
            "max_height": null,
            "max_width": null,
            "min_height": null,
            "min_width": null,
            "object_fit": null,
            "object_position": null,
            "order": null,
            "overflow": null,
            "overflow_x": null,
            "overflow_y": null,
            "padding": null,
            "right": null,
            "top": null,
            "visibility": null,
            "width": null
          }
        },
        "411e6a9c67a3452ba5d5d3aecf9209ee": {
          "model_module": "@jupyter-widgets/controls",
          "model_name": "DescriptionStyleModel",
          "model_module_version": "1.5.0",
          "state": {
            "_model_module": "@jupyter-widgets/controls",
            "_model_module_version": "1.5.0",
            "_model_name": "DescriptionStyleModel",
            "_view_count": null,
            "_view_module": "@jupyter-widgets/base",
            "_view_module_version": "1.2.0",
            "_view_name": "StyleView",
            "description_width": ""
          }
        },
        "88bfbe69527b4bd6a1fd606c07b06b27": {
          "model_module": "@jupyter-widgets/base",
          "model_name": "LayoutModel",
          "model_module_version": "1.2.0",
          "state": {
            "_model_module": "@jupyter-widgets/base",
            "_model_module_version": "1.2.0",
            "_model_name": "LayoutModel",
            "_view_count": null,
            "_view_module": "@jupyter-widgets/base",
            "_view_module_version": "1.2.0",
            "_view_name": "LayoutView",
            "align_content": null,
            "align_items": null,
            "align_self": null,
            "border": null,
            "bottom": null,
            "display": null,
            "flex": null,
            "flex_flow": null,
            "grid_area": null,
            "grid_auto_columns": null,
            "grid_auto_flow": null,
            "grid_auto_rows": null,
            "grid_column": null,
            "grid_gap": null,
            "grid_row": null,
            "grid_template_areas": null,
            "grid_template_columns": null,
            "grid_template_rows": null,
            "height": null,
            "justify_content": null,
            "justify_items": null,
            "left": null,
            "margin": null,
            "max_height": null,
            "max_width": null,
            "min_height": null,
            "min_width": null,
            "object_fit": null,
            "object_position": null,
            "order": null,
            "overflow": null,
            "overflow_x": null,
            "overflow_y": null,
            "padding": null,
            "right": null,
            "top": null,
            "visibility": null,
            "width": null
          }
        },
        "17b2e6d5215c48fc893f29ebb4b5aef7": {
          "model_module": "@jupyter-widgets/controls",
          "model_name": "ProgressStyleModel",
          "model_module_version": "1.5.0",
          "state": {
            "_model_module": "@jupyter-widgets/controls",
            "_model_module_version": "1.5.0",
            "_model_name": "ProgressStyleModel",
            "_view_count": null,
            "_view_module": "@jupyter-widgets/base",
            "_view_module_version": "1.2.0",
            "_view_name": "StyleView",
            "bar_color": null,
            "description_width": ""
          }
        },
        "d6c666f63bda4fdfb28518775a873e62": {
          "model_module": "@jupyter-widgets/base",
          "model_name": "LayoutModel",
          "model_module_version": "1.2.0",
          "state": {
            "_model_module": "@jupyter-widgets/base",
            "_model_module_version": "1.2.0",
            "_model_name": "LayoutModel",
            "_view_count": null,
            "_view_module": "@jupyter-widgets/base",
            "_view_module_version": "1.2.0",
            "_view_name": "LayoutView",
            "align_content": null,
            "align_items": null,
            "align_self": null,
            "border": null,
            "bottom": null,
            "display": null,
            "flex": null,
            "flex_flow": null,
            "grid_area": null,
            "grid_auto_columns": null,
            "grid_auto_flow": null,
            "grid_auto_rows": null,
            "grid_column": null,
            "grid_gap": null,
            "grid_row": null,
            "grid_template_areas": null,
            "grid_template_columns": null,
            "grid_template_rows": null,
            "height": null,
            "justify_content": null,
            "justify_items": null,
            "left": null,
            "margin": null,
            "max_height": null,
            "max_width": null,
            "min_height": null,
            "min_width": null,
            "object_fit": null,
            "object_position": null,
            "order": null,
            "overflow": null,
            "overflow_x": null,
            "overflow_y": null,
            "padding": null,
            "right": null,
            "top": null,
            "visibility": null,
            "width": null
          }
        },
        "51a97acbc8ea4dee8fdaa63d07b116c5": {
          "model_module": "@jupyter-widgets/controls",
          "model_name": "DescriptionStyleModel",
          "model_module_version": "1.5.0",
          "state": {
            "_model_module": "@jupyter-widgets/controls",
            "_model_module_version": "1.5.0",
            "_model_name": "DescriptionStyleModel",
            "_view_count": null,
            "_view_module": "@jupyter-widgets/base",
            "_view_module_version": "1.2.0",
            "_view_name": "StyleView",
            "description_width": ""
          }
        },
        "df0a964a8c91417cad23c2e026f22d37": {
          "model_module": "@jupyter-widgets/controls",
          "model_name": "HBoxModel",
          "model_module_version": "1.5.0",
          "state": {
            "_dom_classes": [],
            "_model_module": "@jupyter-widgets/controls",
            "_model_module_version": "1.5.0",
            "_model_name": "HBoxModel",
            "_view_count": null,
            "_view_module": "@jupyter-widgets/controls",
            "_view_module_version": "1.5.0",
            "_view_name": "HBoxView",
            "box_style": "",
            "children": [
              "IPY_MODEL_f415ca03d47b46d9bb56336630a69cb1",
              "IPY_MODEL_c8a89bb56aa04e90add6b13e9af09359",
              "IPY_MODEL_02f85a6c4c57449a87887c334c86200b"
            ],
            "layout": "IPY_MODEL_543d70b65dd44945957c97a2c2b51a78"
          }
        },
        "f415ca03d47b46d9bb56336630a69cb1": {
          "model_module": "@jupyter-widgets/controls",
          "model_name": "HTMLModel",
          "model_module_version": "1.5.0",
          "state": {
            "_dom_classes": [],
            "_model_module": "@jupyter-widgets/controls",
            "_model_module_version": "1.5.0",
            "_model_name": "HTMLModel",
            "_view_count": null,
            "_view_module": "@jupyter-widgets/controls",
            "_view_module_version": "1.5.0",
            "_view_name": "HTMLView",
            "description": "",
            "description_tooltip": null,
            "layout": "IPY_MODEL_5436291f5e5c4e428bdf1d61face212c",
            "placeholder": "​",
            "style": "IPY_MODEL_384aa645d9ca491089588644c84a5254",
            "value": "pytorch_model-00006-of-00033.bin: 100%"
          }
        },
        "c8a89bb56aa04e90add6b13e9af09359": {
          "model_module": "@jupyter-widgets/controls",
          "model_name": "FloatProgressModel",
          "model_module_version": "1.5.0",
          "state": {
            "_dom_classes": [],
            "_model_module": "@jupyter-widgets/controls",
            "_model_module_version": "1.5.0",
            "_model_name": "FloatProgressModel",
            "_view_count": null,
            "_view_module": "@jupyter-widgets/controls",
            "_view_module_version": "1.5.0",
            "_view_name": "ProgressView",
            "bar_style": "success",
            "description": "",
            "description_tooltip": null,
            "layout": "IPY_MODEL_dbd318cd66444630946a5e8f822230ef",
            "max": 404770755,
            "min": 0,
            "orientation": "horizontal",
            "style": "IPY_MODEL_11e24cbb14d7419cb5712f2158176220",
            "value": 404770755
          }
        },
        "02f85a6c4c57449a87887c334c86200b": {
          "model_module": "@jupyter-widgets/controls",
          "model_name": "HTMLModel",
          "model_module_version": "1.5.0",
          "state": {
            "_dom_classes": [],
            "_model_module": "@jupyter-widgets/controls",
            "_model_module_version": "1.5.0",
            "_model_name": "HTMLModel",
            "_view_count": null,
            "_view_module": "@jupyter-widgets/controls",
            "_view_module_version": "1.5.0",
            "_view_name": "HTMLView",
            "description": "",
            "description_tooltip": null,
            "layout": "IPY_MODEL_f10be56bcd2741248640e815376ee014",
            "placeholder": "​",
            "style": "IPY_MODEL_38dbb6b7dd8b4f5499724d5d80ffb376",
            "value": " 405M/405M [00:04&lt;00:00, 171MB/s]"
          }
        },
        "543d70b65dd44945957c97a2c2b51a78": {
          "model_module": "@jupyter-widgets/base",
          "model_name": "LayoutModel",
          "model_module_version": "1.2.0",
          "state": {
            "_model_module": "@jupyter-widgets/base",
            "_model_module_version": "1.2.0",
            "_model_name": "LayoutModel",
            "_view_count": null,
            "_view_module": "@jupyter-widgets/base",
            "_view_module_version": "1.2.0",
            "_view_name": "LayoutView",
            "align_content": null,
            "align_items": null,
            "align_self": null,
            "border": null,
            "bottom": null,
            "display": null,
            "flex": null,
            "flex_flow": null,
            "grid_area": null,
            "grid_auto_columns": null,
            "grid_auto_flow": null,
            "grid_auto_rows": null,
            "grid_column": null,
            "grid_gap": null,
            "grid_row": null,
            "grid_template_areas": null,
            "grid_template_columns": null,
            "grid_template_rows": null,
            "height": null,
            "justify_content": null,
            "justify_items": null,
            "left": null,
            "margin": null,
            "max_height": null,
            "max_width": null,
            "min_height": null,
            "min_width": null,
            "object_fit": null,
            "object_position": null,
            "order": null,
            "overflow": null,
            "overflow_x": null,
            "overflow_y": null,
            "padding": null,
            "right": null,
            "top": null,
            "visibility": null,
            "width": null
          }
        },
        "5436291f5e5c4e428bdf1d61face212c": {
          "model_module": "@jupyter-widgets/base",
          "model_name": "LayoutModel",
          "model_module_version": "1.2.0",
          "state": {
            "_model_module": "@jupyter-widgets/base",
            "_model_module_version": "1.2.0",
            "_model_name": "LayoutModel",
            "_view_count": null,
            "_view_module": "@jupyter-widgets/base",
            "_view_module_version": "1.2.0",
            "_view_name": "LayoutView",
            "align_content": null,
            "align_items": null,
            "align_self": null,
            "border": null,
            "bottom": null,
            "display": null,
            "flex": null,
            "flex_flow": null,
            "grid_area": null,
            "grid_auto_columns": null,
            "grid_auto_flow": null,
            "grid_auto_rows": null,
            "grid_column": null,
            "grid_gap": null,
            "grid_row": null,
            "grid_template_areas": null,
            "grid_template_columns": null,
            "grid_template_rows": null,
            "height": null,
            "justify_content": null,
            "justify_items": null,
            "left": null,
            "margin": null,
            "max_height": null,
            "max_width": null,
            "min_height": null,
            "min_width": null,
            "object_fit": null,
            "object_position": null,
            "order": null,
            "overflow": null,
            "overflow_x": null,
            "overflow_y": null,
            "padding": null,
            "right": null,
            "top": null,
            "visibility": null,
            "width": null
          }
        },
        "384aa645d9ca491089588644c84a5254": {
          "model_module": "@jupyter-widgets/controls",
          "model_name": "DescriptionStyleModel",
          "model_module_version": "1.5.0",
          "state": {
            "_model_module": "@jupyter-widgets/controls",
            "_model_module_version": "1.5.0",
            "_model_name": "DescriptionStyleModel",
            "_view_count": null,
            "_view_module": "@jupyter-widgets/base",
            "_view_module_version": "1.2.0",
            "_view_name": "StyleView",
            "description_width": ""
          }
        },
        "dbd318cd66444630946a5e8f822230ef": {
          "model_module": "@jupyter-widgets/base",
          "model_name": "LayoutModel",
          "model_module_version": "1.2.0",
          "state": {
            "_model_module": "@jupyter-widgets/base",
            "_model_module_version": "1.2.0",
            "_model_name": "LayoutModel",
            "_view_count": null,
            "_view_module": "@jupyter-widgets/base",
            "_view_module_version": "1.2.0",
            "_view_name": "LayoutView",
            "align_content": null,
            "align_items": null,
            "align_self": null,
            "border": null,
            "bottom": null,
            "display": null,
            "flex": null,
            "flex_flow": null,
            "grid_area": null,
            "grid_auto_columns": null,
            "grid_auto_flow": null,
            "grid_auto_rows": null,
            "grid_column": null,
            "grid_gap": null,
            "grid_row": null,
            "grid_template_areas": null,
            "grid_template_columns": null,
            "grid_template_rows": null,
            "height": null,
            "justify_content": null,
            "justify_items": null,
            "left": null,
            "margin": null,
            "max_height": null,
            "max_width": null,
            "min_height": null,
            "min_width": null,
            "object_fit": null,
            "object_position": null,
            "order": null,
            "overflow": null,
            "overflow_x": null,
            "overflow_y": null,
            "padding": null,
            "right": null,
            "top": null,
            "visibility": null,
            "width": null
          }
        },
        "11e24cbb14d7419cb5712f2158176220": {
          "model_module": "@jupyter-widgets/controls",
          "model_name": "ProgressStyleModel",
          "model_module_version": "1.5.0",
          "state": {
            "_model_module": "@jupyter-widgets/controls",
            "_model_module_version": "1.5.0",
            "_model_name": "ProgressStyleModel",
            "_view_count": null,
            "_view_module": "@jupyter-widgets/base",
            "_view_module_version": "1.2.0",
            "_view_name": "StyleView",
            "bar_color": null,
            "description_width": ""
          }
        },
        "f10be56bcd2741248640e815376ee014": {
          "model_module": "@jupyter-widgets/base",
          "model_name": "LayoutModel",
          "model_module_version": "1.2.0",
          "state": {
            "_model_module": "@jupyter-widgets/base",
            "_model_module_version": "1.2.0",
            "_model_name": "LayoutModel",
            "_view_count": null,
            "_view_module": "@jupyter-widgets/base",
            "_view_module_version": "1.2.0",
            "_view_name": "LayoutView",
            "align_content": null,
            "align_items": null,
            "align_self": null,
            "border": null,
            "bottom": null,
            "display": null,
            "flex": null,
            "flex_flow": null,
            "grid_area": null,
            "grid_auto_columns": null,
            "grid_auto_flow": null,
            "grid_auto_rows": null,
            "grid_column": null,
            "grid_gap": null,
            "grid_row": null,
            "grid_template_areas": null,
            "grid_template_columns": null,
            "grid_template_rows": null,
            "height": null,
            "justify_content": null,
            "justify_items": null,
            "left": null,
            "margin": null,
            "max_height": null,
            "max_width": null,
            "min_height": null,
            "min_width": null,
            "object_fit": null,
            "object_position": null,
            "order": null,
            "overflow": null,
            "overflow_x": null,
            "overflow_y": null,
            "padding": null,
            "right": null,
            "top": null,
            "visibility": null,
            "width": null
          }
        },
        "38dbb6b7dd8b4f5499724d5d80ffb376": {
          "model_module": "@jupyter-widgets/controls",
          "model_name": "DescriptionStyleModel",
          "model_module_version": "1.5.0",
          "state": {
            "_model_module": "@jupyter-widgets/controls",
            "_model_module_version": "1.5.0",
            "_model_name": "DescriptionStyleModel",
            "_view_count": null,
            "_view_module": "@jupyter-widgets/base",
            "_view_module_version": "1.2.0",
            "_view_name": "StyleView",
            "description_width": ""
          }
        },
        "4eafad06816b4cb1888741145d74906e": {
          "model_module": "@jupyter-widgets/controls",
          "model_name": "HBoxModel",
          "model_module_version": "1.5.0",
          "state": {
            "_dom_classes": [],
            "_model_module": "@jupyter-widgets/controls",
            "_model_module_version": "1.5.0",
            "_model_name": "HBoxModel",
            "_view_count": null,
            "_view_module": "@jupyter-widgets/controls",
            "_view_module_version": "1.5.0",
            "_view_name": "HBoxView",
            "box_style": "",
            "children": [
              "IPY_MODEL_19c9d7b10337411183e03e56f160bb07",
              "IPY_MODEL_de39d132a4cf4816b15c3a4bccf1d9c1",
              "IPY_MODEL_bb66fb9edb87445ea5e1fe303c1de0e9"
            ],
            "layout": "IPY_MODEL_1171241505924b99b453a83ab5ce1547"
          }
        },
        "19c9d7b10337411183e03e56f160bb07": {
          "model_module": "@jupyter-widgets/controls",
          "model_name": "HTMLModel",
          "model_module_version": "1.5.0",
          "state": {
            "_dom_classes": [],
            "_model_module": "@jupyter-widgets/controls",
            "_model_module_version": "1.5.0",
            "_model_name": "HTMLModel",
            "_view_count": null,
            "_view_module": "@jupyter-widgets/controls",
            "_view_module_version": "1.5.0",
            "_view_name": "HTMLView",
            "description": "",
            "description_tooltip": null,
            "layout": "IPY_MODEL_f5a5df3629b444e78fb4d6d37288bd2f",
            "placeholder": "​",
            "style": "IPY_MODEL_050266612c784bd6a748e236351015e3",
            "value": "pytorch_model-00007-of-00033.bin: 100%"
          }
        },
        "de39d132a4cf4816b15c3a4bccf1d9c1": {
          "model_module": "@jupyter-widgets/controls",
          "model_name": "FloatProgressModel",
          "model_module_version": "1.5.0",
          "state": {
            "_dom_classes": [],
            "_model_module": "@jupyter-widgets/controls",
            "_model_module_version": "1.5.0",
            "_model_name": "FloatProgressModel",
            "_view_count": null,
            "_view_module": "@jupyter-widgets/controls",
            "_view_module_version": "1.5.0",
            "_view_name": "ProgressView",
            "bar_style": "success",
            "description": "",
            "description_tooltip": null,
            "layout": "IPY_MODEL_a510e241ff1846c2bc1dc3f7c029dbd0",
            "max": 404770755,
            "min": 0,
            "orientation": "horizontal",
            "style": "IPY_MODEL_d81089a7dd5d4f32b59dc416c635ff09",
            "value": 404770755
          }
        },
        "bb66fb9edb87445ea5e1fe303c1de0e9": {
          "model_module": "@jupyter-widgets/controls",
          "model_name": "HTMLModel",
          "model_module_version": "1.5.0",
          "state": {
            "_dom_classes": [],
            "_model_module": "@jupyter-widgets/controls",
            "_model_module_version": "1.5.0",
            "_model_name": "HTMLModel",
            "_view_count": null,
            "_view_module": "@jupyter-widgets/controls",
            "_view_module_version": "1.5.0",
            "_view_name": "HTMLView",
            "description": "",
            "description_tooltip": null,
            "layout": "IPY_MODEL_2ae97172a47a4848a31da9c63943182a",
            "placeholder": "​",
            "style": "IPY_MODEL_0ef8d1d3e40440828418539f9ecc2588",
            "value": " 405M/405M [00:48&lt;00:00, 7.11MB/s]"
          }
        },
        "1171241505924b99b453a83ab5ce1547": {
          "model_module": "@jupyter-widgets/base",
          "model_name": "LayoutModel",
          "model_module_version": "1.2.0",
          "state": {
            "_model_module": "@jupyter-widgets/base",
            "_model_module_version": "1.2.0",
            "_model_name": "LayoutModel",
            "_view_count": null,
            "_view_module": "@jupyter-widgets/base",
            "_view_module_version": "1.2.0",
            "_view_name": "LayoutView",
            "align_content": null,
            "align_items": null,
            "align_self": null,
            "border": null,
            "bottom": null,
            "display": null,
            "flex": null,
            "flex_flow": null,
            "grid_area": null,
            "grid_auto_columns": null,
            "grid_auto_flow": null,
            "grid_auto_rows": null,
            "grid_column": null,
            "grid_gap": null,
            "grid_row": null,
            "grid_template_areas": null,
            "grid_template_columns": null,
            "grid_template_rows": null,
            "height": null,
            "justify_content": null,
            "justify_items": null,
            "left": null,
            "margin": null,
            "max_height": null,
            "max_width": null,
            "min_height": null,
            "min_width": null,
            "object_fit": null,
            "object_position": null,
            "order": null,
            "overflow": null,
            "overflow_x": null,
            "overflow_y": null,
            "padding": null,
            "right": null,
            "top": null,
            "visibility": null,
            "width": null
          }
        },
        "f5a5df3629b444e78fb4d6d37288bd2f": {
          "model_module": "@jupyter-widgets/base",
          "model_name": "LayoutModel",
          "model_module_version": "1.2.0",
          "state": {
            "_model_module": "@jupyter-widgets/base",
            "_model_module_version": "1.2.0",
            "_model_name": "LayoutModel",
            "_view_count": null,
            "_view_module": "@jupyter-widgets/base",
            "_view_module_version": "1.2.0",
            "_view_name": "LayoutView",
            "align_content": null,
            "align_items": null,
            "align_self": null,
            "border": null,
            "bottom": null,
            "display": null,
            "flex": null,
            "flex_flow": null,
            "grid_area": null,
            "grid_auto_columns": null,
            "grid_auto_flow": null,
            "grid_auto_rows": null,
            "grid_column": null,
            "grid_gap": null,
            "grid_row": null,
            "grid_template_areas": null,
            "grid_template_columns": null,
            "grid_template_rows": null,
            "height": null,
            "justify_content": null,
            "justify_items": null,
            "left": null,
            "margin": null,
            "max_height": null,
            "max_width": null,
            "min_height": null,
            "min_width": null,
            "object_fit": null,
            "object_position": null,
            "order": null,
            "overflow": null,
            "overflow_x": null,
            "overflow_y": null,
            "padding": null,
            "right": null,
            "top": null,
            "visibility": null,
            "width": null
          }
        },
        "050266612c784bd6a748e236351015e3": {
          "model_module": "@jupyter-widgets/controls",
          "model_name": "DescriptionStyleModel",
          "model_module_version": "1.5.0",
          "state": {
            "_model_module": "@jupyter-widgets/controls",
            "_model_module_version": "1.5.0",
            "_model_name": "DescriptionStyleModel",
            "_view_count": null,
            "_view_module": "@jupyter-widgets/base",
            "_view_module_version": "1.2.0",
            "_view_name": "StyleView",
            "description_width": ""
          }
        },
        "a510e241ff1846c2bc1dc3f7c029dbd0": {
          "model_module": "@jupyter-widgets/base",
          "model_name": "LayoutModel",
          "model_module_version": "1.2.0",
          "state": {
            "_model_module": "@jupyter-widgets/base",
            "_model_module_version": "1.2.0",
            "_model_name": "LayoutModel",
            "_view_count": null,
            "_view_module": "@jupyter-widgets/base",
            "_view_module_version": "1.2.0",
            "_view_name": "LayoutView",
            "align_content": null,
            "align_items": null,
            "align_self": null,
            "border": null,
            "bottom": null,
            "display": null,
            "flex": null,
            "flex_flow": null,
            "grid_area": null,
            "grid_auto_columns": null,
            "grid_auto_flow": null,
            "grid_auto_rows": null,
            "grid_column": null,
            "grid_gap": null,
            "grid_row": null,
            "grid_template_areas": null,
            "grid_template_columns": null,
            "grid_template_rows": null,
            "height": null,
            "justify_content": null,
            "justify_items": null,
            "left": null,
            "margin": null,
            "max_height": null,
            "max_width": null,
            "min_height": null,
            "min_width": null,
            "object_fit": null,
            "object_position": null,
            "order": null,
            "overflow": null,
            "overflow_x": null,
            "overflow_y": null,
            "padding": null,
            "right": null,
            "top": null,
            "visibility": null,
            "width": null
          }
        },
        "d81089a7dd5d4f32b59dc416c635ff09": {
          "model_module": "@jupyter-widgets/controls",
          "model_name": "ProgressStyleModel",
          "model_module_version": "1.5.0",
          "state": {
            "_model_module": "@jupyter-widgets/controls",
            "_model_module_version": "1.5.0",
            "_model_name": "ProgressStyleModel",
            "_view_count": null,
            "_view_module": "@jupyter-widgets/base",
            "_view_module_version": "1.2.0",
            "_view_name": "StyleView",
            "bar_color": null,
            "description_width": ""
          }
        },
        "2ae97172a47a4848a31da9c63943182a": {
          "model_module": "@jupyter-widgets/base",
          "model_name": "LayoutModel",
          "model_module_version": "1.2.0",
          "state": {
            "_model_module": "@jupyter-widgets/base",
            "_model_module_version": "1.2.0",
            "_model_name": "LayoutModel",
            "_view_count": null,
            "_view_module": "@jupyter-widgets/base",
            "_view_module_version": "1.2.0",
            "_view_name": "LayoutView",
            "align_content": null,
            "align_items": null,
            "align_self": null,
            "border": null,
            "bottom": null,
            "display": null,
            "flex": null,
            "flex_flow": null,
            "grid_area": null,
            "grid_auto_columns": null,
            "grid_auto_flow": null,
            "grid_auto_rows": null,
            "grid_column": null,
            "grid_gap": null,
            "grid_row": null,
            "grid_template_areas": null,
            "grid_template_columns": null,
            "grid_template_rows": null,
            "height": null,
            "justify_content": null,
            "justify_items": null,
            "left": null,
            "margin": null,
            "max_height": null,
            "max_width": null,
            "min_height": null,
            "min_width": null,
            "object_fit": null,
            "object_position": null,
            "order": null,
            "overflow": null,
            "overflow_x": null,
            "overflow_y": null,
            "padding": null,
            "right": null,
            "top": null,
            "visibility": null,
            "width": null
          }
        },
        "0ef8d1d3e40440828418539f9ecc2588": {
          "model_module": "@jupyter-widgets/controls",
          "model_name": "DescriptionStyleModel",
          "model_module_version": "1.5.0",
          "state": {
            "_model_module": "@jupyter-widgets/controls",
            "_model_module_version": "1.5.0",
            "_model_name": "DescriptionStyleModel",
            "_view_count": null,
            "_view_module": "@jupyter-widgets/base",
            "_view_module_version": "1.2.0",
            "_view_name": "StyleView",
            "description_width": ""
          }
        },
        "38f629360ce4447c86603985f8753dee": {
          "model_module": "@jupyter-widgets/controls",
          "model_name": "HBoxModel",
          "model_module_version": "1.5.0",
          "state": {
            "_dom_classes": [],
            "_model_module": "@jupyter-widgets/controls",
            "_model_module_version": "1.5.0",
            "_model_name": "HBoxModel",
            "_view_count": null,
            "_view_module": "@jupyter-widgets/controls",
            "_view_module_version": "1.5.0",
            "_view_name": "HBoxView",
            "box_style": "",
            "children": [
              "IPY_MODEL_8a58847346c94170b3b4f2d2abe2cf30",
              "IPY_MODEL_d840e5136ae748f893785d3a052298a0",
              "IPY_MODEL_5b9362c1f53b40ff94eda4b38c652523"
            ],
            "layout": "IPY_MODEL_69ee56b757684dd49a5e914bfe2d86e2"
          }
        },
        "8a58847346c94170b3b4f2d2abe2cf30": {
          "model_module": "@jupyter-widgets/controls",
          "model_name": "HTMLModel",
          "model_module_version": "1.5.0",
          "state": {
            "_dom_classes": [],
            "_model_module": "@jupyter-widgets/controls",
            "_model_module_version": "1.5.0",
            "_model_name": "HTMLModel",
            "_view_count": null,
            "_view_module": "@jupyter-widgets/controls",
            "_view_module_version": "1.5.0",
            "_view_name": "HTMLView",
            "description": "",
            "description_tooltip": null,
            "layout": "IPY_MODEL_0ae91e5547e8405facb742cde217c4e8",
            "placeholder": "​",
            "style": "IPY_MODEL_49367cd6e8464576bcd036ac3156d5e0",
            "value": "pytorch_model-00008-of-00033.bin: 100%"
          }
        },
        "d840e5136ae748f893785d3a052298a0": {
          "model_module": "@jupyter-widgets/controls",
          "model_name": "FloatProgressModel",
          "model_module_version": "1.5.0",
          "state": {
            "_dom_classes": [],
            "_model_module": "@jupyter-widgets/controls",
            "_model_module_version": "1.5.0",
            "_model_name": "FloatProgressModel",
            "_view_count": null,
            "_view_module": "@jupyter-widgets/controls",
            "_view_module_version": "1.5.0",
            "_view_name": "ProgressView",
            "bar_style": "success",
            "description": "",
            "description_tooltip": null,
            "layout": "IPY_MODEL_28ad14d4d7db4d44b4987de5f547bce8",
            "max": 404770755,
            "min": 0,
            "orientation": "horizontal",
            "style": "IPY_MODEL_2a037b7eb75248e68ba171f645668ab5",
            "value": 404770755
          }
        },
        "5b9362c1f53b40ff94eda4b38c652523": {
          "model_module": "@jupyter-widgets/controls",
          "model_name": "HTMLModel",
          "model_module_version": "1.5.0",
          "state": {
            "_dom_classes": [],
            "_model_module": "@jupyter-widgets/controls",
            "_model_module_version": "1.5.0",
            "_model_name": "HTMLModel",
            "_view_count": null,
            "_view_module": "@jupyter-widgets/controls",
            "_view_module_version": "1.5.0",
            "_view_name": "HTMLView",
            "description": "",
            "description_tooltip": null,
            "layout": "IPY_MODEL_bf286a61a37644339ff5c44532b67635",
            "placeholder": "​",
            "style": "IPY_MODEL_4d243ede8d344334968de73ad6ecb94a",
            "value": " 405M/405M [00:01&lt;00:00, 211MB/s]"
          }
        },
        "69ee56b757684dd49a5e914bfe2d86e2": {
          "model_module": "@jupyter-widgets/base",
          "model_name": "LayoutModel",
          "model_module_version": "1.2.0",
          "state": {
            "_model_module": "@jupyter-widgets/base",
            "_model_module_version": "1.2.0",
            "_model_name": "LayoutModel",
            "_view_count": null,
            "_view_module": "@jupyter-widgets/base",
            "_view_module_version": "1.2.0",
            "_view_name": "LayoutView",
            "align_content": null,
            "align_items": null,
            "align_self": null,
            "border": null,
            "bottom": null,
            "display": null,
            "flex": null,
            "flex_flow": null,
            "grid_area": null,
            "grid_auto_columns": null,
            "grid_auto_flow": null,
            "grid_auto_rows": null,
            "grid_column": null,
            "grid_gap": null,
            "grid_row": null,
            "grid_template_areas": null,
            "grid_template_columns": null,
            "grid_template_rows": null,
            "height": null,
            "justify_content": null,
            "justify_items": null,
            "left": null,
            "margin": null,
            "max_height": null,
            "max_width": null,
            "min_height": null,
            "min_width": null,
            "object_fit": null,
            "object_position": null,
            "order": null,
            "overflow": null,
            "overflow_x": null,
            "overflow_y": null,
            "padding": null,
            "right": null,
            "top": null,
            "visibility": null,
            "width": null
          }
        },
        "0ae91e5547e8405facb742cde217c4e8": {
          "model_module": "@jupyter-widgets/base",
          "model_name": "LayoutModel",
          "model_module_version": "1.2.0",
          "state": {
            "_model_module": "@jupyter-widgets/base",
            "_model_module_version": "1.2.0",
            "_model_name": "LayoutModel",
            "_view_count": null,
            "_view_module": "@jupyter-widgets/base",
            "_view_module_version": "1.2.0",
            "_view_name": "LayoutView",
            "align_content": null,
            "align_items": null,
            "align_self": null,
            "border": null,
            "bottom": null,
            "display": null,
            "flex": null,
            "flex_flow": null,
            "grid_area": null,
            "grid_auto_columns": null,
            "grid_auto_flow": null,
            "grid_auto_rows": null,
            "grid_column": null,
            "grid_gap": null,
            "grid_row": null,
            "grid_template_areas": null,
            "grid_template_columns": null,
            "grid_template_rows": null,
            "height": null,
            "justify_content": null,
            "justify_items": null,
            "left": null,
            "margin": null,
            "max_height": null,
            "max_width": null,
            "min_height": null,
            "min_width": null,
            "object_fit": null,
            "object_position": null,
            "order": null,
            "overflow": null,
            "overflow_x": null,
            "overflow_y": null,
            "padding": null,
            "right": null,
            "top": null,
            "visibility": null,
            "width": null
          }
        },
        "49367cd6e8464576bcd036ac3156d5e0": {
          "model_module": "@jupyter-widgets/controls",
          "model_name": "DescriptionStyleModel",
          "model_module_version": "1.5.0",
          "state": {
            "_model_module": "@jupyter-widgets/controls",
            "_model_module_version": "1.5.0",
            "_model_name": "DescriptionStyleModel",
            "_view_count": null,
            "_view_module": "@jupyter-widgets/base",
            "_view_module_version": "1.2.0",
            "_view_name": "StyleView",
            "description_width": ""
          }
        },
        "28ad14d4d7db4d44b4987de5f547bce8": {
          "model_module": "@jupyter-widgets/base",
          "model_name": "LayoutModel",
          "model_module_version": "1.2.0",
          "state": {
            "_model_module": "@jupyter-widgets/base",
            "_model_module_version": "1.2.0",
            "_model_name": "LayoutModel",
            "_view_count": null,
            "_view_module": "@jupyter-widgets/base",
            "_view_module_version": "1.2.0",
            "_view_name": "LayoutView",
            "align_content": null,
            "align_items": null,
            "align_self": null,
            "border": null,
            "bottom": null,
            "display": null,
            "flex": null,
            "flex_flow": null,
            "grid_area": null,
            "grid_auto_columns": null,
            "grid_auto_flow": null,
            "grid_auto_rows": null,
            "grid_column": null,
            "grid_gap": null,
            "grid_row": null,
            "grid_template_areas": null,
            "grid_template_columns": null,
            "grid_template_rows": null,
            "height": null,
            "justify_content": null,
            "justify_items": null,
            "left": null,
            "margin": null,
            "max_height": null,
            "max_width": null,
            "min_height": null,
            "min_width": null,
            "object_fit": null,
            "object_position": null,
            "order": null,
            "overflow": null,
            "overflow_x": null,
            "overflow_y": null,
            "padding": null,
            "right": null,
            "top": null,
            "visibility": null,
            "width": null
          }
        },
        "2a037b7eb75248e68ba171f645668ab5": {
          "model_module": "@jupyter-widgets/controls",
          "model_name": "ProgressStyleModel",
          "model_module_version": "1.5.0",
          "state": {
            "_model_module": "@jupyter-widgets/controls",
            "_model_module_version": "1.5.0",
            "_model_name": "ProgressStyleModel",
            "_view_count": null,
            "_view_module": "@jupyter-widgets/base",
            "_view_module_version": "1.2.0",
            "_view_name": "StyleView",
            "bar_color": null,
            "description_width": ""
          }
        },
        "bf286a61a37644339ff5c44532b67635": {
          "model_module": "@jupyter-widgets/base",
          "model_name": "LayoutModel",
          "model_module_version": "1.2.0",
          "state": {
            "_model_module": "@jupyter-widgets/base",
            "_model_module_version": "1.2.0",
            "_model_name": "LayoutModel",
            "_view_count": null,
            "_view_module": "@jupyter-widgets/base",
            "_view_module_version": "1.2.0",
            "_view_name": "LayoutView",
            "align_content": null,
            "align_items": null,
            "align_self": null,
            "border": null,
            "bottom": null,
            "display": null,
            "flex": null,
            "flex_flow": null,
            "grid_area": null,
            "grid_auto_columns": null,
            "grid_auto_flow": null,
            "grid_auto_rows": null,
            "grid_column": null,
            "grid_gap": null,
            "grid_row": null,
            "grid_template_areas": null,
            "grid_template_columns": null,
            "grid_template_rows": null,
            "height": null,
            "justify_content": null,
            "justify_items": null,
            "left": null,
            "margin": null,
            "max_height": null,
            "max_width": null,
            "min_height": null,
            "min_width": null,
            "object_fit": null,
            "object_position": null,
            "order": null,
            "overflow": null,
            "overflow_x": null,
            "overflow_y": null,
            "padding": null,
            "right": null,
            "top": null,
            "visibility": null,
            "width": null
          }
        },
        "4d243ede8d344334968de73ad6ecb94a": {
          "model_module": "@jupyter-widgets/controls",
          "model_name": "DescriptionStyleModel",
          "model_module_version": "1.5.0",
          "state": {
            "_model_module": "@jupyter-widgets/controls",
            "_model_module_version": "1.5.0",
            "_model_name": "DescriptionStyleModel",
            "_view_count": null,
            "_view_module": "@jupyter-widgets/base",
            "_view_module_version": "1.2.0",
            "_view_name": "StyleView",
            "description_width": ""
          }
        },
        "3f6373820e7e447599b8a08b944be608": {
          "model_module": "@jupyter-widgets/controls",
          "model_name": "HBoxModel",
          "model_module_version": "1.5.0",
          "state": {
            "_dom_classes": [],
            "_model_module": "@jupyter-widgets/controls",
            "_model_module_version": "1.5.0",
            "_model_name": "HBoxModel",
            "_view_count": null,
            "_view_module": "@jupyter-widgets/controls",
            "_view_module_version": "1.5.0",
            "_view_name": "HBoxView",
            "box_style": "",
            "children": [
              "IPY_MODEL_97ef36e48e9f4747b3e1125496f45037",
              "IPY_MODEL_ca3746b1dd6a4e1ca5dca24fa77361b3",
              "IPY_MODEL_4e5f20f59ea24d3b8cfd30a9e57c0fbe"
            ],
            "layout": "IPY_MODEL_782f6c5740f2440b84e1d565c143dc60"
          }
        },
        "97ef36e48e9f4747b3e1125496f45037": {
          "model_module": "@jupyter-widgets/controls",
          "model_name": "HTMLModel",
          "model_module_version": "1.5.0",
          "state": {
            "_dom_classes": [],
            "_model_module": "@jupyter-widgets/controls",
            "_model_module_version": "1.5.0",
            "_model_name": "HTMLModel",
            "_view_count": null,
            "_view_module": "@jupyter-widgets/controls",
            "_view_module_version": "1.5.0",
            "_view_name": "HTMLView",
            "description": "",
            "description_tooltip": null,
            "layout": "IPY_MODEL_0502242196644e82aaea2184f6a9a3b2",
            "placeholder": "​",
            "style": "IPY_MODEL_683e8352bb8141b692b345e55c136457",
            "value": "pytorch_model-00009-of-00033.bin: 100%"
          }
        },
        "ca3746b1dd6a4e1ca5dca24fa77361b3": {
          "model_module": "@jupyter-widgets/controls",
          "model_name": "FloatProgressModel",
          "model_module_version": "1.5.0",
          "state": {
            "_dom_classes": [],
            "_model_module": "@jupyter-widgets/controls",
            "_model_module_version": "1.5.0",
            "_model_name": "FloatProgressModel",
            "_view_count": null,
            "_view_module": "@jupyter-widgets/controls",
            "_view_module_version": "1.5.0",
            "_view_name": "ProgressView",
            "bar_style": "success",
            "description": "",
            "description_tooltip": null,
            "layout": "IPY_MODEL_763a488c807f4e298c6734affb197d2d",
            "max": 404770755,
            "min": 0,
            "orientation": "horizontal",
            "style": "IPY_MODEL_cd3d2402f5084d0c8d54c35c33e4aff1",
            "value": 404770755
          }
        },
        "4e5f20f59ea24d3b8cfd30a9e57c0fbe": {
          "model_module": "@jupyter-widgets/controls",
          "model_name": "HTMLModel",
          "model_module_version": "1.5.0",
          "state": {
            "_dom_classes": [],
            "_model_module": "@jupyter-widgets/controls",
            "_model_module_version": "1.5.0",
            "_model_name": "HTMLModel",
            "_view_count": null,
            "_view_module": "@jupyter-widgets/controls",
            "_view_module_version": "1.5.0",
            "_view_name": "HTMLView",
            "description": "",
            "description_tooltip": null,
            "layout": "IPY_MODEL_061209bb902d4d6e8675bef4009b606a",
            "placeholder": "​",
            "style": "IPY_MODEL_07e031cd8a534727a7ca50df7811339f",
            "value": " 405M/405M [00:02&lt;00:00, 200MB/s]"
          }
        },
        "782f6c5740f2440b84e1d565c143dc60": {
          "model_module": "@jupyter-widgets/base",
          "model_name": "LayoutModel",
          "model_module_version": "1.2.0",
          "state": {
            "_model_module": "@jupyter-widgets/base",
            "_model_module_version": "1.2.0",
            "_model_name": "LayoutModel",
            "_view_count": null,
            "_view_module": "@jupyter-widgets/base",
            "_view_module_version": "1.2.0",
            "_view_name": "LayoutView",
            "align_content": null,
            "align_items": null,
            "align_self": null,
            "border": null,
            "bottom": null,
            "display": null,
            "flex": null,
            "flex_flow": null,
            "grid_area": null,
            "grid_auto_columns": null,
            "grid_auto_flow": null,
            "grid_auto_rows": null,
            "grid_column": null,
            "grid_gap": null,
            "grid_row": null,
            "grid_template_areas": null,
            "grid_template_columns": null,
            "grid_template_rows": null,
            "height": null,
            "justify_content": null,
            "justify_items": null,
            "left": null,
            "margin": null,
            "max_height": null,
            "max_width": null,
            "min_height": null,
            "min_width": null,
            "object_fit": null,
            "object_position": null,
            "order": null,
            "overflow": null,
            "overflow_x": null,
            "overflow_y": null,
            "padding": null,
            "right": null,
            "top": null,
            "visibility": null,
            "width": null
          }
        },
        "0502242196644e82aaea2184f6a9a3b2": {
          "model_module": "@jupyter-widgets/base",
          "model_name": "LayoutModel",
          "model_module_version": "1.2.0",
          "state": {
            "_model_module": "@jupyter-widgets/base",
            "_model_module_version": "1.2.0",
            "_model_name": "LayoutModel",
            "_view_count": null,
            "_view_module": "@jupyter-widgets/base",
            "_view_module_version": "1.2.0",
            "_view_name": "LayoutView",
            "align_content": null,
            "align_items": null,
            "align_self": null,
            "border": null,
            "bottom": null,
            "display": null,
            "flex": null,
            "flex_flow": null,
            "grid_area": null,
            "grid_auto_columns": null,
            "grid_auto_flow": null,
            "grid_auto_rows": null,
            "grid_column": null,
            "grid_gap": null,
            "grid_row": null,
            "grid_template_areas": null,
            "grid_template_columns": null,
            "grid_template_rows": null,
            "height": null,
            "justify_content": null,
            "justify_items": null,
            "left": null,
            "margin": null,
            "max_height": null,
            "max_width": null,
            "min_height": null,
            "min_width": null,
            "object_fit": null,
            "object_position": null,
            "order": null,
            "overflow": null,
            "overflow_x": null,
            "overflow_y": null,
            "padding": null,
            "right": null,
            "top": null,
            "visibility": null,
            "width": null
          }
        },
        "683e8352bb8141b692b345e55c136457": {
          "model_module": "@jupyter-widgets/controls",
          "model_name": "DescriptionStyleModel",
          "model_module_version": "1.5.0",
          "state": {
            "_model_module": "@jupyter-widgets/controls",
            "_model_module_version": "1.5.0",
            "_model_name": "DescriptionStyleModel",
            "_view_count": null,
            "_view_module": "@jupyter-widgets/base",
            "_view_module_version": "1.2.0",
            "_view_name": "StyleView",
            "description_width": ""
          }
        },
        "763a488c807f4e298c6734affb197d2d": {
          "model_module": "@jupyter-widgets/base",
          "model_name": "LayoutModel",
          "model_module_version": "1.2.0",
          "state": {
            "_model_module": "@jupyter-widgets/base",
            "_model_module_version": "1.2.0",
            "_model_name": "LayoutModel",
            "_view_count": null,
            "_view_module": "@jupyter-widgets/base",
            "_view_module_version": "1.2.0",
            "_view_name": "LayoutView",
            "align_content": null,
            "align_items": null,
            "align_self": null,
            "border": null,
            "bottom": null,
            "display": null,
            "flex": null,
            "flex_flow": null,
            "grid_area": null,
            "grid_auto_columns": null,
            "grid_auto_flow": null,
            "grid_auto_rows": null,
            "grid_column": null,
            "grid_gap": null,
            "grid_row": null,
            "grid_template_areas": null,
            "grid_template_columns": null,
            "grid_template_rows": null,
            "height": null,
            "justify_content": null,
            "justify_items": null,
            "left": null,
            "margin": null,
            "max_height": null,
            "max_width": null,
            "min_height": null,
            "min_width": null,
            "object_fit": null,
            "object_position": null,
            "order": null,
            "overflow": null,
            "overflow_x": null,
            "overflow_y": null,
            "padding": null,
            "right": null,
            "top": null,
            "visibility": null,
            "width": null
          }
        },
        "cd3d2402f5084d0c8d54c35c33e4aff1": {
          "model_module": "@jupyter-widgets/controls",
          "model_name": "ProgressStyleModel",
          "model_module_version": "1.5.0",
          "state": {
            "_model_module": "@jupyter-widgets/controls",
            "_model_module_version": "1.5.0",
            "_model_name": "ProgressStyleModel",
            "_view_count": null,
            "_view_module": "@jupyter-widgets/base",
            "_view_module_version": "1.2.0",
            "_view_name": "StyleView",
            "bar_color": null,
            "description_width": ""
          }
        },
        "061209bb902d4d6e8675bef4009b606a": {
          "model_module": "@jupyter-widgets/base",
          "model_name": "LayoutModel",
          "model_module_version": "1.2.0",
          "state": {
            "_model_module": "@jupyter-widgets/base",
            "_model_module_version": "1.2.0",
            "_model_name": "LayoutModel",
            "_view_count": null,
            "_view_module": "@jupyter-widgets/base",
            "_view_module_version": "1.2.0",
            "_view_name": "LayoutView",
            "align_content": null,
            "align_items": null,
            "align_self": null,
            "border": null,
            "bottom": null,
            "display": null,
            "flex": null,
            "flex_flow": null,
            "grid_area": null,
            "grid_auto_columns": null,
            "grid_auto_flow": null,
            "grid_auto_rows": null,
            "grid_column": null,
            "grid_gap": null,
            "grid_row": null,
            "grid_template_areas": null,
            "grid_template_columns": null,
            "grid_template_rows": null,
            "height": null,
            "justify_content": null,
            "justify_items": null,
            "left": null,
            "margin": null,
            "max_height": null,
            "max_width": null,
            "min_height": null,
            "min_width": null,
            "object_fit": null,
            "object_position": null,
            "order": null,
            "overflow": null,
            "overflow_x": null,
            "overflow_y": null,
            "padding": null,
            "right": null,
            "top": null,
            "visibility": null,
            "width": null
          }
        },
        "07e031cd8a534727a7ca50df7811339f": {
          "model_module": "@jupyter-widgets/controls",
          "model_name": "DescriptionStyleModel",
          "model_module_version": "1.5.0",
          "state": {
            "_model_module": "@jupyter-widgets/controls",
            "_model_module_version": "1.5.0",
            "_model_name": "DescriptionStyleModel",
            "_view_count": null,
            "_view_module": "@jupyter-widgets/base",
            "_view_module_version": "1.2.0",
            "_view_name": "StyleView",
            "description_width": ""
          }
        },
        "d6ca6f0c03d442d2a52154177f5a3eac": {
          "model_module": "@jupyter-widgets/controls",
          "model_name": "HBoxModel",
          "model_module_version": "1.5.0",
          "state": {
            "_dom_classes": [],
            "_model_module": "@jupyter-widgets/controls",
            "_model_module_version": "1.5.0",
            "_model_name": "HBoxModel",
            "_view_count": null,
            "_view_module": "@jupyter-widgets/controls",
            "_view_module_version": "1.5.0",
            "_view_name": "HBoxView",
            "box_style": "",
            "children": [
              "IPY_MODEL_0d8b3c9007954f47a0e4d6295b6aeed0",
              "IPY_MODEL_e126ea9ca41b4b98bc941737f4c9335e",
              "IPY_MODEL_7708f98c28734306836ef0cebd5313f7"
            ],
            "layout": "IPY_MODEL_6a9a6c27782344379580eb1c25899617"
          }
        },
        "0d8b3c9007954f47a0e4d6295b6aeed0": {
          "model_module": "@jupyter-widgets/controls",
          "model_name": "HTMLModel",
          "model_module_version": "1.5.0",
          "state": {
            "_dom_classes": [],
            "_model_module": "@jupyter-widgets/controls",
            "_model_module_version": "1.5.0",
            "_model_name": "HTMLModel",
            "_view_count": null,
            "_view_module": "@jupyter-widgets/controls",
            "_view_module_version": "1.5.0",
            "_view_name": "HTMLView",
            "description": "",
            "description_tooltip": null,
            "layout": "IPY_MODEL_e4767aeee80443d49cc0b7a913190c78",
            "placeholder": "​",
            "style": "IPY_MODEL_66a5938688914e8586f4feef33cec910",
            "value": "pytorch_model-00010-of-00033.bin: 100%"
          }
        },
        "e126ea9ca41b4b98bc941737f4c9335e": {
          "model_module": "@jupyter-widgets/controls",
          "model_name": "FloatProgressModel",
          "model_module_version": "1.5.0",
          "state": {
            "_dom_classes": [],
            "_model_module": "@jupyter-widgets/controls",
            "_model_module_version": "1.5.0",
            "_model_name": "FloatProgressModel",
            "_view_count": null,
            "_view_module": "@jupyter-widgets/controls",
            "_view_module_version": "1.5.0",
            "_view_name": "ProgressView",
            "bar_style": "success",
            "description": "",
            "description_tooltip": null,
            "layout": "IPY_MODEL_2aa012fc47e649dd8ef5f0a18baaa48a",
            "max": 404770755,
            "min": 0,
            "orientation": "horizontal",
            "style": "IPY_MODEL_1ab5ac1171ae4582a6a28e5b4283564e",
            "value": 404770755
          }
        },
        "7708f98c28734306836ef0cebd5313f7": {
          "model_module": "@jupyter-widgets/controls",
          "model_name": "HTMLModel",
          "model_module_version": "1.5.0",
          "state": {
            "_dom_classes": [],
            "_model_module": "@jupyter-widgets/controls",
            "_model_module_version": "1.5.0",
            "_model_name": "HTMLModel",
            "_view_count": null,
            "_view_module": "@jupyter-widgets/controls",
            "_view_module_version": "1.5.0",
            "_view_name": "HTMLView",
            "description": "",
            "description_tooltip": null,
            "layout": "IPY_MODEL_537f0c13b83e4d91a4dd1723dec7aef4",
            "placeholder": "​",
            "style": "IPY_MODEL_b5c532dce6b042dd8df9e3a9a4c4fad2",
            "value": " 405M/405M [00:01&lt;00:00, 311MB/s]"
          }
        },
        "6a9a6c27782344379580eb1c25899617": {
          "model_module": "@jupyter-widgets/base",
          "model_name": "LayoutModel",
          "model_module_version": "1.2.0",
          "state": {
            "_model_module": "@jupyter-widgets/base",
            "_model_module_version": "1.2.0",
            "_model_name": "LayoutModel",
            "_view_count": null,
            "_view_module": "@jupyter-widgets/base",
            "_view_module_version": "1.2.0",
            "_view_name": "LayoutView",
            "align_content": null,
            "align_items": null,
            "align_self": null,
            "border": null,
            "bottom": null,
            "display": null,
            "flex": null,
            "flex_flow": null,
            "grid_area": null,
            "grid_auto_columns": null,
            "grid_auto_flow": null,
            "grid_auto_rows": null,
            "grid_column": null,
            "grid_gap": null,
            "grid_row": null,
            "grid_template_areas": null,
            "grid_template_columns": null,
            "grid_template_rows": null,
            "height": null,
            "justify_content": null,
            "justify_items": null,
            "left": null,
            "margin": null,
            "max_height": null,
            "max_width": null,
            "min_height": null,
            "min_width": null,
            "object_fit": null,
            "object_position": null,
            "order": null,
            "overflow": null,
            "overflow_x": null,
            "overflow_y": null,
            "padding": null,
            "right": null,
            "top": null,
            "visibility": null,
            "width": null
          }
        },
        "e4767aeee80443d49cc0b7a913190c78": {
          "model_module": "@jupyter-widgets/base",
          "model_name": "LayoutModel",
          "model_module_version": "1.2.0",
          "state": {
            "_model_module": "@jupyter-widgets/base",
            "_model_module_version": "1.2.0",
            "_model_name": "LayoutModel",
            "_view_count": null,
            "_view_module": "@jupyter-widgets/base",
            "_view_module_version": "1.2.0",
            "_view_name": "LayoutView",
            "align_content": null,
            "align_items": null,
            "align_self": null,
            "border": null,
            "bottom": null,
            "display": null,
            "flex": null,
            "flex_flow": null,
            "grid_area": null,
            "grid_auto_columns": null,
            "grid_auto_flow": null,
            "grid_auto_rows": null,
            "grid_column": null,
            "grid_gap": null,
            "grid_row": null,
            "grid_template_areas": null,
            "grid_template_columns": null,
            "grid_template_rows": null,
            "height": null,
            "justify_content": null,
            "justify_items": null,
            "left": null,
            "margin": null,
            "max_height": null,
            "max_width": null,
            "min_height": null,
            "min_width": null,
            "object_fit": null,
            "object_position": null,
            "order": null,
            "overflow": null,
            "overflow_x": null,
            "overflow_y": null,
            "padding": null,
            "right": null,
            "top": null,
            "visibility": null,
            "width": null
          }
        },
        "66a5938688914e8586f4feef33cec910": {
          "model_module": "@jupyter-widgets/controls",
          "model_name": "DescriptionStyleModel",
          "model_module_version": "1.5.0",
          "state": {
            "_model_module": "@jupyter-widgets/controls",
            "_model_module_version": "1.5.0",
            "_model_name": "DescriptionStyleModel",
            "_view_count": null,
            "_view_module": "@jupyter-widgets/base",
            "_view_module_version": "1.2.0",
            "_view_name": "StyleView",
            "description_width": ""
          }
        },
        "2aa012fc47e649dd8ef5f0a18baaa48a": {
          "model_module": "@jupyter-widgets/base",
          "model_name": "LayoutModel",
          "model_module_version": "1.2.0",
          "state": {
            "_model_module": "@jupyter-widgets/base",
            "_model_module_version": "1.2.0",
            "_model_name": "LayoutModel",
            "_view_count": null,
            "_view_module": "@jupyter-widgets/base",
            "_view_module_version": "1.2.0",
            "_view_name": "LayoutView",
            "align_content": null,
            "align_items": null,
            "align_self": null,
            "border": null,
            "bottom": null,
            "display": null,
            "flex": null,
            "flex_flow": null,
            "grid_area": null,
            "grid_auto_columns": null,
            "grid_auto_flow": null,
            "grid_auto_rows": null,
            "grid_column": null,
            "grid_gap": null,
            "grid_row": null,
            "grid_template_areas": null,
            "grid_template_columns": null,
            "grid_template_rows": null,
            "height": null,
            "justify_content": null,
            "justify_items": null,
            "left": null,
            "margin": null,
            "max_height": null,
            "max_width": null,
            "min_height": null,
            "min_width": null,
            "object_fit": null,
            "object_position": null,
            "order": null,
            "overflow": null,
            "overflow_x": null,
            "overflow_y": null,
            "padding": null,
            "right": null,
            "top": null,
            "visibility": null,
            "width": null
          }
        },
        "1ab5ac1171ae4582a6a28e5b4283564e": {
          "model_module": "@jupyter-widgets/controls",
          "model_name": "ProgressStyleModel",
          "model_module_version": "1.5.0",
          "state": {
            "_model_module": "@jupyter-widgets/controls",
            "_model_module_version": "1.5.0",
            "_model_name": "ProgressStyleModel",
            "_view_count": null,
            "_view_module": "@jupyter-widgets/base",
            "_view_module_version": "1.2.0",
            "_view_name": "StyleView",
            "bar_color": null,
            "description_width": ""
          }
        },
        "537f0c13b83e4d91a4dd1723dec7aef4": {
          "model_module": "@jupyter-widgets/base",
          "model_name": "LayoutModel",
          "model_module_version": "1.2.0",
          "state": {
            "_model_module": "@jupyter-widgets/base",
            "_model_module_version": "1.2.0",
            "_model_name": "LayoutModel",
            "_view_count": null,
            "_view_module": "@jupyter-widgets/base",
            "_view_module_version": "1.2.0",
            "_view_name": "LayoutView",
            "align_content": null,
            "align_items": null,
            "align_self": null,
            "border": null,
            "bottom": null,
            "display": null,
            "flex": null,
            "flex_flow": null,
            "grid_area": null,
            "grid_auto_columns": null,
            "grid_auto_flow": null,
            "grid_auto_rows": null,
            "grid_column": null,
            "grid_gap": null,
            "grid_row": null,
            "grid_template_areas": null,
            "grid_template_columns": null,
            "grid_template_rows": null,
            "height": null,
            "justify_content": null,
            "justify_items": null,
            "left": null,
            "margin": null,
            "max_height": null,
            "max_width": null,
            "min_height": null,
            "min_width": null,
            "object_fit": null,
            "object_position": null,
            "order": null,
            "overflow": null,
            "overflow_x": null,
            "overflow_y": null,
            "padding": null,
            "right": null,
            "top": null,
            "visibility": null,
            "width": null
          }
        },
        "b5c532dce6b042dd8df9e3a9a4c4fad2": {
          "model_module": "@jupyter-widgets/controls",
          "model_name": "DescriptionStyleModel",
          "model_module_version": "1.5.0",
          "state": {
            "_model_module": "@jupyter-widgets/controls",
            "_model_module_version": "1.5.0",
            "_model_name": "DescriptionStyleModel",
            "_view_count": null,
            "_view_module": "@jupyter-widgets/base",
            "_view_module_version": "1.2.0",
            "_view_name": "StyleView",
            "description_width": ""
          }
        },
        "254e20b65ddb40e7afe14361bb8d8ced": {
          "model_module": "@jupyter-widgets/controls",
          "model_name": "HBoxModel",
          "model_module_version": "1.5.0",
          "state": {
            "_dom_classes": [],
            "_model_module": "@jupyter-widgets/controls",
            "_model_module_version": "1.5.0",
            "_model_name": "HBoxModel",
            "_view_count": null,
            "_view_module": "@jupyter-widgets/controls",
            "_view_module_version": "1.5.0",
            "_view_name": "HBoxView",
            "box_style": "",
            "children": [
              "IPY_MODEL_09eab53ba222453e8d065422342485d7",
              "IPY_MODEL_67fad61d2bc1468994c858487c30c1a9",
              "IPY_MODEL_c0434c08ad26488db7010466fcc84797"
            ],
            "layout": "IPY_MODEL_eab9f0ca996b4fa5b0944c93136d9f87"
          }
        },
        "09eab53ba222453e8d065422342485d7": {
          "model_module": "@jupyter-widgets/controls",
          "model_name": "HTMLModel",
          "model_module_version": "1.5.0",
          "state": {
            "_dom_classes": [],
            "_model_module": "@jupyter-widgets/controls",
            "_model_module_version": "1.5.0",
            "_model_name": "HTMLModel",
            "_view_count": null,
            "_view_module": "@jupyter-widgets/controls",
            "_view_module_version": "1.5.0",
            "_view_name": "HTMLView",
            "description": "",
            "description_tooltip": null,
            "layout": "IPY_MODEL_5d2d2f776f114018bab0b4ef2acf84eb",
            "placeholder": "​",
            "style": "IPY_MODEL_9a92a00cb1da48b79ee4ad1ebb78cecf",
            "value": "pytorch_model-00011-of-00033.bin: 100%"
          }
        },
        "67fad61d2bc1468994c858487c30c1a9": {
          "model_module": "@jupyter-widgets/controls",
          "model_name": "FloatProgressModel",
          "model_module_version": "1.5.0",
          "state": {
            "_dom_classes": [],
            "_model_module": "@jupyter-widgets/controls",
            "_model_module_version": "1.5.0",
            "_model_name": "FloatProgressModel",
            "_view_count": null,
            "_view_module": "@jupyter-widgets/controls",
            "_view_module_version": "1.5.0",
            "_view_name": "ProgressView",
            "bar_style": "success",
            "description": "",
            "description_tooltip": null,
            "layout": "IPY_MODEL_3cb6877803164ca7ba7fd0f5fe09d398",
            "max": 404770755,
            "min": 0,
            "orientation": "horizontal",
            "style": "IPY_MODEL_050f6d3c948c41298640ea5dd5032f6f",
            "value": 404770755
          }
        },
        "c0434c08ad26488db7010466fcc84797": {
          "model_module": "@jupyter-widgets/controls",
          "model_name": "HTMLModel",
          "model_module_version": "1.5.0",
          "state": {
            "_dom_classes": [],
            "_model_module": "@jupyter-widgets/controls",
            "_model_module_version": "1.5.0",
            "_model_name": "HTMLModel",
            "_view_count": null,
            "_view_module": "@jupyter-widgets/controls",
            "_view_module_version": "1.5.0",
            "_view_name": "HTMLView",
            "description": "",
            "description_tooltip": null,
            "layout": "IPY_MODEL_60f5e6092c7a46f18d83a1e9de17a6c7",
            "placeholder": "​",
            "style": "IPY_MODEL_eb9cc8a90fa34d348de2021b88134cb9",
            "value": " 405M/405M [00:02&lt;00:00, 167MB/s]"
          }
        },
        "eab9f0ca996b4fa5b0944c93136d9f87": {
          "model_module": "@jupyter-widgets/base",
          "model_name": "LayoutModel",
          "model_module_version": "1.2.0",
          "state": {
            "_model_module": "@jupyter-widgets/base",
            "_model_module_version": "1.2.0",
            "_model_name": "LayoutModel",
            "_view_count": null,
            "_view_module": "@jupyter-widgets/base",
            "_view_module_version": "1.2.0",
            "_view_name": "LayoutView",
            "align_content": null,
            "align_items": null,
            "align_self": null,
            "border": null,
            "bottom": null,
            "display": null,
            "flex": null,
            "flex_flow": null,
            "grid_area": null,
            "grid_auto_columns": null,
            "grid_auto_flow": null,
            "grid_auto_rows": null,
            "grid_column": null,
            "grid_gap": null,
            "grid_row": null,
            "grid_template_areas": null,
            "grid_template_columns": null,
            "grid_template_rows": null,
            "height": null,
            "justify_content": null,
            "justify_items": null,
            "left": null,
            "margin": null,
            "max_height": null,
            "max_width": null,
            "min_height": null,
            "min_width": null,
            "object_fit": null,
            "object_position": null,
            "order": null,
            "overflow": null,
            "overflow_x": null,
            "overflow_y": null,
            "padding": null,
            "right": null,
            "top": null,
            "visibility": null,
            "width": null
          }
        },
        "5d2d2f776f114018bab0b4ef2acf84eb": {
          "model_module": "@jupyter-widgets/base",
          "model_name": "LayoutModel",
          "model_module_version": "1.2.0",
          "state": {
            "_model_module": "@jupyter-widgets/base",
            "_model_module_version": "1.2.0",
            "_model_name": "LayoutModel",
            "_view_count": null,
            "_view_module": "@jupyter-widgets/base",
            "_view_module_version": "1.2.0",
            "_view_name": "LayoutView",
            "align_content": null,
            "align_items": null,
            "align_self": null,
            "border": null,
            "bottom": null,
            "display": null,
            "flex": null,
            "flex_flow": null,
            "grid_area": null,
            "grid_auto_columns": null,
            "grid_auto_flow": null,
            "grid_auto_rows": null,
            "grid_column": null,
            "grid_gap": null,
            "grid_row": null,
            "grid_template_areas": null,
            "grid_template_columns": null,
            "grid_template_rows": null,
            "height": null,
            "justify_content": null,
            "justify_items": null,
            "left": null,
            "margin": null,
            "max_height": null,
            "max_width": null,
            "min_height": null,
            "min_width": null,
            "object_fit": null,
            "object_position": null,
            "order": null,
            "overflow": null,
            "overflow_x": null,
            "overflow_y": null,
            "padding": null,
            "right": null,
            "top": null,
            "visibility": null,
            "width": null
          }
        },
        "9a92a00cb1da48b79ee4ad1ebb78cecf": {
          "model_module": "@jupyter-widgets/controls",
          "model_name": "DescriptionStyleModel",
          "model_module_version": "1.5.0",
          "state": {
            "_model_module": "@jupyter-widgets/controls",
            "_model_module_version": "1.5.0",
            "_model_name": "DescriptionStyleModel",
            "_view_count": null,
            "_view_module": "@jupyter-widgets/base",
            "_view_module_version": "1.2.0",
            "_view_name": "StyleView",
            "description_width": ""
          }
        },
        "3cb6877803164ca7ba7fd0f5fe09d398": {
          "model_module": "@jupyter-widgets/base",
          "model_name": "LayoutModel",
          "model_module_version": "1.2.0",
          "state": {
            "_model_module": "@jupyter-widgets/base",
            "_model_module_version": "1.2.0",
            "_model_name": "LayoutModel",
            "_view_count": null,
            "_view_module": "@jupyter-widgets/base",
            "_view_module_version": "1.2.0",
            "_view_name": "LayoutView",
            "align_content": null,
            "align_items": null,
            "align_self": null,
            "border": null,
            "bottom": null,
            "display": null,
            "flex": null,
            "flex_flow": null,
            "grid_area": null,
            "grid_auto_columns": null,
            "grid_auto_flow": null,
            "grid_auto_rows": null,
            "grid_column": null,
            "grid_gap": null,
            "grid_row": null,
            "grid_template_areas": null,
            "grid_template_columns": null,
            "grid_template_rows": null,
            "height": null,
            "justify_content": null,
            "justify_items": null,
            "left": null,
            "margin": null,
            "max_height": null,
            "max_width": null,
            "min_height": null,
            "min_width": null,
            "object_fit": null,
            "object_position": null,
            "order": null,
            "overflow": null,
            "overflow_x": null,
            "overflow_y": null,
            "padding": null,
            "right": null,
            "top": null,
            "visibility": null,
            "width": null
          }
        },
        "050f6d3c948c41298640ea5dd5032f6f": {
          "model_module": "@jupyter-widgets/controls",
          "model_name": "ProgressStyleModel",
          "model_module_version": "1.5.0",
          "state": {
            "_model_module": "@jupyter-widgets/controls",
            "_model_module_version": "1.5.0",
            "_model_name": "ProgressStyleModel",
            "_view_count": null,
            "_view_module": "@jupyter-widgets/base",
            "_view_module_version": "1.2.0",
            "_view_name": "StyleView",
            "bar_color": null,
            "description_width": ""
          }
        },
        "60f5e6092c7a46f18d83a1e9de17a6c7": {
          "model_module": "@jupyter-widgets/base",
          "model_name": "LayoutModel",
          "model_module_version": "1.2.0",
          "state": {
            "_model_module": "@jupyter-widgets/base",
            "_model_module_version": "1.2.0",
            "_model_name": "LayoutModel",
            "_view_count": null,
            "_view_module": "@jupyter-widgets/base",
            "_view_module_version": "1.2.0",
            "_view_name": "LayoutView",
            "align_content": null,
            "align_items": null,
            "align_self": null,
            "border": null,
            "bottom": null,
            "display": null,
            "flex": null,
            "flex_flow": null,
            "grid_area": null,
            "grid_auto_columns": null,
            "grid_auto_flow": null,
            "grid_auto_rows": null,
            "grid_column": null,
            "grid_gap": null,
            "grid_row": null,
            "grid_template_areas": null,
            "grid_template_columns": null,
            "grid_template_rows": null,
            "height": null,
            "justify_content": null,
            "justify_items": null,
            "left": null,
            "margin": null,
            "max_height": null,
            "max_width": null,
            "min_height": null,
            "min_width": null,
            "object_fit": null,
            "object_position": null,
            "order": null,
            "overflow": null,
            "overflow_x": null,
            "overflow_y": null,
            "padding": null,
            "right": null,
            "top": null,
            "visibility": null,
            "width": null
          }
        },
        "eb9cc8a90fa34d348de2021b88134cb9": {
          "model_module": "@jupyter-widgets/controls",
          "model_name": "DescriptionStyleModel",
          "model_module_version": "1.5.0",
          "state": {
            "_model_module": "@jupyter-widgets/controls",
            "_model_module_version": "1.5.0",
            "_model_name": "DescriptionStyleModel",
            "_view_count": null,
            "_view_module": "@jupyter-widgets/base",
            "_view_module_version": "1.2.0",
            "_view_name": "StyleView",
            "description_width": ""
          }
        },
        "ee4ca991e87d4695a7103e51b9225cc5": {
          "model_module": "@jupyter-widgets/controls",
          "model_name": "HBoxModel",
          "model_module_version": "1.5.0",
          "state": {
            "_dom_classes": [],
            "_model_module": "@jupyter-widgets/controls",
            "_model_module_version": "1.5.0",
            "_model_name": "HBoxModel",
            "_view_count": null,
            "_view_module": "@jupyter-widgets/controls",
            "_view_module_version": "1.5.0",
            "_view_name": "HBoxView",
            "box_style": "",
            "children": [
              "IPY_MODEL_dc036cb0a8724b1ba916615354bf4c23",
              "IPY_MODEL_3bb8dde553c6427bafe0294976acb19f",
              "IPY_MODEL_98efadb09a7444c48a15458363e792c6"
            ],
            "layout": "IPY_MODEL_646b79452e2f4256b4579508102dd4ed"
          }
        },
        "dc036cb0a8724b1ba916615354bf4c23": {
          "model_module": "@jupyter-widgets/controls",
          "model_name": "HTMLModel",
          "model_module_version": "1.5.0",
          "state": {
            "_dom_classes": [],
            "_model_module": "@jupyter-widgets/controls",
            "_model_module_version": "1.5.0",
            "_model_name": "HTMLModel",
            "_view_count": null,
            "_view_module": "@jupyter-widgets/controls",
            "_view_module_version": "1.5.0",
            "_view_name": "HTMLView",
            "description": "",
            "description_tooltip": null,
            "layout": "IPY_MODEL_2eb5d3b35d4348dea9c97cea7db77376",
            "placeholder": "​",
            "style": "IPY_MODEL_9977a76004da485b94e2c3337487e0df",
            "value": "pytorch_model-00012-of-00033.bin: 100%"
          }
        },
        "3bb8dde553c6427bafe0294976acb19f": {
          "model_module": "@jupyter-widgets/controls",
          "model_name": "FloatProgressModel",
          "model_module_version": "1.5.0",
          "state": {
            "_dom_classes": [],
            "_model_module": "@jupyter-widgets/controls",
            "_model_module_version": "1.5.0",
            "_model_name": "FloatProgressModel",
            "_view_count": null,
            "_view_module": "@jupyter-widgets/controls",
            "_view_module_version": "1.5.0",
            "_view_name": "ProgressView",
            "bar_style": "success",
            "description": "",
            "description_tooltip": null,
            "layout": "IPY_MODEL_715ff97cbb1f4c4db863780efdca1d4a",
            "max": 404770755,
            "min": 0,
            "orientation": "horizontal",
            "style": "IPY_MODEL_6ed8ad248e954c0cb97b94e67fe2d1a4",
            "value": 404770755
          }
        },
        "98efadb09a7444c48a15458363e792c6": {
          "model_module": "@jupyter-widgets/controls",
          "model_name": "HTMLModel",
          "model_module_version": "1.5.0",
          "state": {
            "_dom_classes": [],
            "_model_module": "@jupyter-widgets/controls",
            "_model_module_version": "1.5.0",
            "_model_name": "HTMLModel",
            "_view_count": null,
            "_view_module": "@jupyter-widgets/controls",
            "_view_module_version": "1.5.0",
            "_view_name": "HTMLView",
            "description": "",
            "description_tooltip": null,
            "layout": "IPY_MODEL_9849380351524942af58b30e141edd1e",
            "placeholder": "​",
            "style": "IPY_MODEL_34fb98de42434990a847c5d6f4b75f79",
            "value": " 405M/405M [00:02&lt;00:00, 224MB/s]"
          }
        },
        "646b79452e2f4256b4579508102dd4ed": {
          "model_module": "@jupyter-widgets/base",
          "model_name": "LayoutModel",
          "model_module_version": "1.2.0",
          "state": {
            "_model_module": "@jupyter-widgets/base",
            "_model_module_version": "1.2.0",
            "_model_name": "LayoutModel",
            "_view_count": null,
            "_view_module": "@jupyter-widgets/base",
            "_view_module_version": "1.2.0",
            "_view_name": "LayoutView",
            "align_content": null,
            "align_items": null,
            "align_self": null,
            "border": null,
            "bottom": null,
            "display": null,
            "flex": null,
            "flex_flow": null,
            "grid_area": null,
            "grid_auto_columns": null,
            "grid_auto_flow": null,
            "grid_auto_rows": null,
            "grid_column": null,
            "grid_gap": null,
            "grid_row": null,
            "grid_template_areas": null,
            "grid_template_columns": null,
            "grid_template_rows": null,
            "height": null,
            "justify_content": null,
            "justify_items": null,
            "left": null,
            "margin": null,
            "max_height": null,
            "max_width": null,
            "min_height": null,
            "min_width": null,
            "object_fit": null,
            "object_position": null,
            "order": null,
            "overflow": null,
            "overflow_x": null,
            "overflow_y": null,
            "padding": null,
            "right": null,
            "top": null,
            "visibility": null,
            "width": null
          }
        },
        "2eb5d3b35d4348dea9c97cea7db77376": {
          "model_module": "@jupyter-widgets/base",
          "model_name": "LayoutModel",
          "model_module_version": "1.2.0",
          "state": {
            "_model_module": "@jupyter-widgets/base",
            "_model_module_version": "1.2.0",
            "_model_name": "LayoutModel",
            "_view_count": null,
            "_view_module": "@jupyter-widgets/base",
            "_view_module_version": "1.2.0",
            "_view_name": "LayoutView",
            "align_content": null,
            "align_items": null,
            "align_self": null,
            "border": null,
            "bottom": null,
            "display": null,
            "flex": null,
            "flex_flow": null,
            "grid_area": null,
            "grid_auto_columns": null,
            "grid_auto_flow": null,
            "grid_auto_rows": null,
            "grid_column": null,
            "grid_gap": null,
            "grid_row": null,
            "grid_template_areas": null,
            "grid_template_columns": null,
            "grid_template_rows": null,
            "height": null,
            "justify_content": null,
            "justify_items": null,
            "left": null,
            "margin": null,
            "max_height": null,
            "max_width": null,
            "min_height": null,
            "min_width": null,
            "object_fit": null,
            "object_position": null,
            "order": null,
            "overflow": null,
            "overflow_x": null,
            "overflow_y": null,
            "padding": null,
            "right": null,
            "top": null,
            "visibility": null,
            "width": null
          }
        },
        "9977a76004da485b94e2c3337487e0df": {
          "model_module": "@jupyter-widgets/controls",
          "model_name": "DescriptionStyleModel",
          "model_module_version": "1.5.0",
          "state": {
            "_model_module": "@jupyter-widgets/controls",
            "_model_module_version": "1.5.0",
            "_model_name": "DescriptionStyleModel",
            "_view_count": null,
            "_view_module": "@jupyter-widgets/base",
            "_view_module_version": "1.2.0",
            "_view_name": "StyleView",
            "description_width": ""
          }
        },
        "715ff97cbb1f4c4db863780efdca1d4a": {
          "model_module": "@jupyter-widgets/base",
          "model_name": "LayoutModel",
          "model_module_version": "1.2.0",
          "state": {
            "_model_module": "@jupyter-widgets/base",
            "_model_module_version": "1.2.0",
            "_model_name": "LayoutModel",
            "_view_count": null,
            "_view_module": "@jupyter-widgets/base",
            "_view_module_version": "1.2.0",
            "_view_name": "LayoutView",
            "align_content": null,
            "align_items": null,
            "align_self": null,
            "border": null,
            "bottom": null,
            "display": null,
            "flex": null,
            "flex_flow": null,
            "grid_area": null,
            "grid_auto_columns": null,
            "grid_auto_flow": null,
            "grid_auto_rows": null,
            "grid_column": null,
            "grid_gap": null,
            "grid_row": null,
            "grid_template_areas": null,
            "grid_template_columns": null,
            "grid_template_rows": null,
            "height": null,
            "justify_content": null,
            "justify_items": null,
            "left": null,
            "margin": null,
            "max_height": null,
            "max_width": null,
            "min_height": null,
            "min_width": null,
            "object_fit": null,
            "object_position": null,
            "order": null,
            "overflow": null,
            "overflow_x": null,
            "overflow_y": null,
            "padding": null,
            "right": null,
            "top": null,
            "visibility": null,
            "width": null
          }
        },
        "6ed8ad248e954c0cb97b94e67fe2d1a4": {
          "model_module": "@jupyter-widgets/controls",
          "model_name": "ProgressStyleModel",
          "model_module_version": "1.5.0",
          "state": {
            "_model_module": "@jupyter-widgets/controls",
            "_model_module_version": "1.5.0",
            "_model_name": "ProgressStyleModel",
            "_view_count": null,
            "_view_module": "@jupyter-widgets/base",
            "_view_module_version": "1.2.0",
            "_view_name": "StyleView",
            "bar_color": null,
            "description_width": ""
          }
        },
        "9849380351524942af58b30e141edd1e": {
          "model_module": "@jupyter-widgets/base",
          "model_name": "LayoutModel",
          "model_module_version": "1.2.0",
          "state": {
            "_model_module": "@jupyter-widgets/base",
            "_model_module_version": "1.2.0",
            "_model_name": "LayoutModel",
            "_view_count": null,
            "_view_module": "@jupyter-widgets/base",
            "_view_module_version": "1.2.0",
            "_view_name": "LayoutView",
            "align_content": null,
            "align_items": null,
            "align_self": null,
            "border": null,
            "bottom": null,
            "display": null,
            "flex": null,
            "flex_flow": null,
            "grid_area": null,
            "grid_auto_columns": null,
            "grid_auto_flow": null,
            "grid_auto_rows": null,
            "grid_column": null,
            "grid_gap": null,
            "grid_row": null,
            "grid_template_areas": null,
            "grid_template_columns": null,
            "grid_template_rows": null,
            "height": null,
            "justify_content": null,
            "justify_items": null,
            "left": null,
            "margin": null,
            "max_height": null,
            "max_width": null,
            "min_height": null,
            "min_width": null,
            "object_fit": null,
            "object_position": null,
            "order": null,
            "overflow": null,
            "overflow_x": null,
            "overflow_y": null,
            "padding": null,
            "right": null,
            "top": null,
            "visibility": null,
            "width": null
          }
        },
        "34fb98de42434990a847c5d6f4b75f79": {
          "model_module": "@jupyter-widgets/controls",
          "model_name": "DescriptionStyleModel",
          "model_module_version": "1.5.0",
          "state": {
            "_model_module": "@jupyter-widgets/controls",
            "_model_module_version": "1.5.0",
            "_model_name": "DescriptionStyleModel",
            "_view_count": null,
            "_view_module": "@jupyter-widgets/base",
            "_view_module_version": "1.2.0",
            "_view_name": "StyleView",
            "description_width": ""
          }
        },
        "b97a5936077d4f03b69b3a6e706bb802": {
          "model_module": "@jupyter-widgets/controls",
          "model_name": "HBoxModel",
          "model_module_version": "1.5.0",
          "state": {
            "_dom_classes": [],
            "_model_module": "@jupyter-widgets/controls",
            "_model_module_version": "1.5.0",
            "_model_name": "HBoxModel",
            "_view_count": null,
            "_view_module": "@jupyter-widgets/controls",
            "_view_module_version": "1.5.0",
            "_view_name": "HBoxView",
            "box_style": "",
            "children": [
              "IPY_MODEL_59b03aabb3714814bff4572d55dde446",
              "IPY_MODEL_8910c4609c9a433c8364b5d372967ace",
              "IPY_MODEL_2d5e4a1285324b93a5c3cb005438492d"
            ],
            "layout": "IPY_MODEL_f6cc895b4d97427b85f3786bdbb238a5"
          }
        },
        "59b03aabb3714814bff4572d55dde446": {
          "model_module": "@jupyter-widgets/controls",
          "model_name": "HTMLModel",
          "model_module_version": "1.5.0",
          "state": {
            "_dom_classes": [],
            "_model_module": "@jupyter-widgets/controls",
            "_model_module_version": "1.5.0",
            "_model_name": "HTMLModel",
            "_view_count": null,
            "_view_module": "@jupyter-widgets/controls",
            "_view_module_version": "1.5.0",
            "_view_name": "HTMLView",
            "description": "",
            "description_tooltip": null,
            "layout": "IPY_MODEL_14de634b682146c18a575d5f9e045b6e",
            "placeholder": "​",
            "style": "IPY_MODEL_ec789c6bd92c4acea21946059d7c72b6",
            "value": "pytorch_model-00013-of-00033.bin: 100%"
          }
        },
        "8910c4609c9a433c8364b5d372967ace": {
          "model_module": "@jupyter-widgets/controls",
          "model_name": "FloatProgressModel",
          "model_module_version": "1.5.0",
          "state": {
            "_dom_classes": [],
            "_model_module": "@jupyter-widgets/controls",
            "_model_module_version": "1.5.0",
            "_model_name": "FloatProgressModel",
            "_view_count": null,
            "_view_module": "@jupyter-widgets/controls",
            "_view_module_version": "1.5.0",
            "_view_name": "ProgressView",
            "bar_style": "success",
            "description": "",
            "description_tooltip": null,
            "layout": "IPY_MODEL_2d33b34ea945451b81807cda93ee6e3b",
            "max": 404770755,
            "min": 0,
            "orientation": "horizontal",
            "style": "IPY_MODEL_40b31cafe8754eb1b32b17a579bdd4c3",
            "value": 404770755
          }
        },
        "2d5e4a1285324b93a5c3cb005438492d": {
          "model_module": "@jupyter-widgets/controls",
          "model_name": "HTMLModel",
          "model_module_version": "1.5.0",
          "state": {
            "_dom_classes": [],
            "_model_module": "@jupyter-widgets/controls",
            "_model_module_version": "1.5.0",
            "_model_name": "HTMLModel",
            "_view_count": null,
            "_view_module": "@jupyter-widgets/controls",
            "_view_module_version": "1.5.0",
            "_view_name": "HTMLView",
            "description": "",
            "description_tooltip": null,
            "layout": "IPY_MODEL_5eb7fd5fb49645b2a71170022f5235c1",
            "placeholder": "​",
            "style": "IPY_MODEL_1b344d1876974973872e1866441b730d",
            "value": " 405M/405M [00:02&lt;00:00, 189MB/s]"
          }
        },
        "f6cc895b4d97427b85f3786bdbb238a5": {
          "model_module": "@jupyter-widgets/base",
          "model_name": "LayoutModel",
          "model_module_version": "1.2.0",
          "state": {
            "_model_module": "@jupyter-widgets/base",
            "_model_module_version": "1.2.0",
            "_model_name": "LayoutModel",
            "_view_count": null,
            "_view_module": "@jupyter-widgets/base",
            "_view_module_version": "1.2.0",
            "_view_name": "LayoutView",
            "align_content": null,
            "align_items": null,
            "align_self": null,
            "border": null,
            "bottom": null,
            "display": null,
            "flex": null,
            "flex_flow": null,
            "grid_area": null,
            "grid_auto_columns": null,
            "grid_auto_flow": null,
            "grid_auto_rows": null,
            "grid_column": null,
            "grid_gap": null,
            "grid_row": null,
            "grid_template_areas": null,
            "grid_template_columns": null,
            "grid_template_rows": null,
            "height": null,
            "justify_content": null,
            "justify_items": null,
            "left": null,
            "margin": null,
            "max_height": null,
            "max_width": null,
            "min_height": null,
            "min_width": null,
            "object_fit": null,
            "object_position": null,
            "order": null,
            "overflow": null,
            "overflow_x": null,
            "overflow_y": null,
            "padding": null,
            "right": null,
            "top": null,
            "visibility": null,
            "width": null
          }
        },
        "14de634b682146c18a575d5f9e045b6e": {
          "model_module": "@jupyter-widgets/base",
          "model_name": "LayoutModel",
          "model_module_version": "1.2.0",
          "state": {
            "_model_module": "@jupyter-widgets/base",
            "_model_module_version": "1.2.0",
            "_model_name": "LayoutModel",
            "_view_count": null,
            "_view_module": "@jupyter-widgets/base",
            "_view_module_version": "1.2.0",
            "_view_name": "LayoutView",
            "align_content": null,
            "align_items": null,
            "align_self": null,
            "border": null,
            "bottom": null,
            "display": null,
            "flex": null,
            "flex_flow": null,
            "grid_area": null,
            "grid_auto_columns": null,
            "grid_auto_flow": null,
            "grid_auto_rows": null,
            "grid_column": null,
            "grid_gap": null,
            "grid_row": null,
            "grid_template_areas": null,
            "grid_template_columns": null,
            "grid_template_rows": null,
            "height": null,
            "justify_content": null,
            "justify_items": null,
            "left": null,
            "margin": null,
            "max_height": null,
            "max_width": null,
            "min_height": null,
            "min_width": null,
            "object_fit": null,
            "object_position": null,
            "order": null,
            "overflow": null,
            "overflow_x": null,
            "overflow_y": null,
            "padding": null,
            "right": null,
            "top": null,
            "visibility": null,
            "width": null
          }
        },
        "ec789c6bd92c4acea21946059d7c72b6": {
          "model_module": "@jupyter-widgets/controls",
          "model_name": "DescriptionStyleModel",
          "model_module_version": "1.5.0",
          "state": {
            "_model_module": "@jupyter-widgets/controls",
            "_model_module_version": "1.5.0",
            "_model_name": "DescriptionStyleModel",
            "_view_count": null,
            "_view_module": "@jupyter-widgets/base",
            "_view_module_version": "1.2.0",
            "_view_name": "StyleView",
            "description_width": ""
          }
        },
        "2d33b34ea945451b81807cda93ee6e3b": {
          "model_module": "@jupyter-widgets/base",
          "model_name": "LayoutModel",
          "model_module_version": "1.2.0",
          "state": {
            "_model_module": "@jupyter-widgets/base",
            "_model_module_version": "1.2.0",
            "_model_name": "LayoutModel",
            "_view_count": null,
            "_view_module": "@jupyter-widgets/base",
            "_view_module_version": "1.2.0",
            "_view_name": "LayoutView",
            "align_content": null,
            "align_items": null,
            "align_self": null,
            "border": null,
            "bottom": null,
            "display": null,
            "flex": null,
            "flex_flow": null,
            "grid_area": null,
            "grid_auto_columns": null,
            "grid_auto_flow": null,
            "grid_auto_rows": null,
            "grid_column": null,
            "grid_gap": null,
            "grid_row": null,
            "grid_template_areas": null,
            "grid_template_columns": null,
            "grid_template_rows": null,
            "height": null,
            "justify_content": null,
            "justify_items": null,
            "left": null,
            "margin": null,
            "max_height": null,
            "max_width": null,
            "min_height": null,
            "min_width": null,
            "object_fit": null,
            "object_position": null,
            "order": null,
            "overflow": null,
            "overflow_x": null,
            "overflow_y": null,
            "padding": null,
            "right": null,
            "top": null,
            "visibility": null,
            "width": null
          }
        },
        "40b31cafe8754eb1b32b17a579bdd4c3": {
          "model_module": "@jupyter-widgets/controls",
          "model_name": "ProgressStyleModel",
          "model_module_version": "1.5.0",
          "state": {
            "_model_module": "@jupyter-widgets/controls",
            "_model_module_version": "1.5.0",
            "_model_name": "ProgressStyleModel",
            "_view_count": null,
            "_view_module": "@jupyter-widgets/base",
            "_view_module_version": "1.2.0",
            "_view_name": "StyleView",
            "bar_color": null,
            "description_width": ""
          }
        },
        "5eb7fd5fb49645b2a71170022f5235c1": {
          "model_module": "@jupyter-widgets/base",
          "model_name": "LayoutModel",
          "model_module_version": "1.2.0",
          "state": {
            "_model_module": "@jupyter-widgets/base",
            "_model_module_version": "1.2.0",
            "_model_name": "LayoutModel",
            "_view_count": null,
            "_view_module": "@jupyter-widgets/base",
            "_view_module_version": "1.2.0",
            "_view_name": "LayoutView",
            "align_content": null,
            "align_items": null,
            "align_self": null,
            "border": null,
            "bottom": null,
            "display": null,
            "flex": null,
            "flex_flow": null,
            "grid_area": null,
            "grid_auto_columns": null,
            "grid_auto_flow": null,
            "grid_auto_rows": null,
            "grid_column": null,
            "grid_gap": null,
            "grid_row": null,
            "grid_template_areas": null,
            "grid_template_columns": null,
            "grid_template_rows": null,
            "height": null,
            "justify_content": null,
            "justify_items": null,
            "left": null,
            "margin": null,
            "max_height": null,
            "max_width": null,
            "min_height": null,
            "min_width": null,
            "object_fit": null,
            "object_position": null,
            "order": null,
            "overflow": null,
            "overflow_x": null,
            "overflow_y": null,
            "padding": null,
            "right": null,
            "top": null,
            "visibility": null,
            "width": null
          }
        },
        "1b344d1876974973872e1866441b730d": {
          "model_module": "@jupyter-widgets/controls",
          "model_name": "DescriptionStyleModel",
          "model_module_version": "1.5.0",
          "state": {
            "_model_module": "@jupyter-widgets/controls",
            "_model_module_version": "1.5.0",
            "_model_name": "DescriptionStyleModel",
            "_view_count": null,
            "_view_module": "@jupyter-widgets/base",
            "_view_module_version": "1.2.0",
            "_view_name": "StyleView",
            "description_width": ""
          }
        },
        "1e5aee34f4594e0bb6bf7cae4ff0aca3": {
          "model_module": "@jupyter-widgets/controls",
          "model_name": "HBoxModel",
          "model_module_version": "1.5.0",
          "state": {
            "_dom_classes": [],
            "_model_module": "@jupyter-widgets/controls",
            "_model_module_version": "1.5.0",
            "_model_name": "HBoxModel",
            "_view_count": null,
            "_view_module": "@jupyter-widgets/controls",
            "_view_module_version": "1.5.0",
            "_view_name": "HBoxView",
            "box_style": "",
            "children": [
              "IPY_MODEL_b19222ff3738453fb88a583d7957b8dc",
              "IPY_MODEL_29b8241912354b2c814cbcc30df86644",
              "IPY_MODEL_10b91b24aa1b425cb9ba040122ffae1e"
            ],
            "layout": "IPY_MODEL_5c1b64268f20488e80ae7483c8cc1766"
          }
        },
        "b19222ff3738453fb88a583d7957b8dc": {
          "model_module": "@jupyter-widgets/controls",
          "model_name": "HTMLModel",
          "model_module_version": "1.5.0",
          "state": {
            "_dom_classes": [],
            "_model_module": "@jupyter-widgets/controls",
            "_model_module_version": "1.5.0",
            "_model_name": "HTMLModel",
            "_view_count": null,
            "_view_module": "@jupyter-widgets/controls",
            "_view_module_version": "1.5.0",
            "_view_name": "HTMLView",
            "description": "",
            "description_tooltip": null,
            "layout": "IPY_MODEL_33a1a379c1ac4cd0aa9f564897a4131c",
            "placeholder": "​",
            "style": "IPY_MODEL_94d1b613e2214033b45aa8297329e7db",
            "value": "pytorch_model-00014-of-00033.bin: 100%"
          }
        },
        "29b8241912354b2c814cbcc30df86644": {
          "model_module": "@jupyter-widgets/controls",
          "model_name": "FloatProgressModel",
          "model_module_version": "1.5.0",
          "state": {
            "_dom_classes": [],
            "_model_module": "@jupyter-widgets/controls",
            "_model_module_version": "1.5.0",
            "_model_name": "FloatProgressModel",
            "_view_count": null,
            "_view_module": "@jupyter-widgets/controls",
            "_view_module_version": "1.5.0",
            "_view_name": "ProgressView",
            "bar_style": "success",
            "description": "",
            "description_tooltip": null,
            "layout": "IPY_MODEL_ab61adcc38444562af0b2593931b0a23",
            "max": 404770755,
            "min": 0,
            "orientation": "horizontal",
            "style": "IPY_MODEL_10549a411e68487bbd50d6f776fea0e2",
            "value": 404770755
          }
        },
        "10b91b24aa1b425cb9ba040122ffae1e": {
          "model_module": "@jupyter-widgets/controls",
          "model_name": "HTMLModel",
          "model_module_version": "1.5.0",
          "state": {
            "_dom_classes": [],
            "_model_module": "@jupyter-widgets/controls",
            "_model_module_version": "1.5.0",
            "_model_name": "HTMLModel",
            "_view_count": null,
            "_view_module": "@jupyter-widgets/controls",
            "_view_module_version": "1.5.0",
            "_view_name": "HTMLView",
            "description": "",
            "description_tooltip": null,
            "layout": "IPY_MODEL_bdd21d31a94e4321b1badf5b41a95e31",
            "placeholder": "​",
            "style": "IPY_MODEL_d8c121e2e4fe4080b8fdecc5cf139262",
            "value": " 405M/405M [00:05&lt;00:00, 222MB/s]"
          }
        },
        "5c1b64268f20488e80ae7483c8cc1766": {
          "model_module": "@jupyter-widgets/base",
          "model_name": "LayoutModel",
          "model_module_version": "1.2.0",
          "state": {
            "_model_module": "@jupyter-widgets/base",
            "_model_module_version": "1.2.0",
            "_model_name": "LayoutModel",
            "_view_count": null,
            "_view_module": "@jupyter-widgets/base",
            "_view_module_version": "1.2.0",
            "_view_name": "LayoutView",
            "align_content": null,
            "align_items": null,
            "align_self": null,
            "border": null,
            "bottom": null,
            "display": null,
            "flex": null,
            "flex_flow": null,
            "grid_area": null,
            "grid_auto_columns": null,
            "grid_auto_flow": null,
            "grid_auto_rows": null,
            "grid_column": null,
            "grid_gap": null,
            "grid_row": null,
            "grid_template_areas": null,
            "grid_template_columns": null,
            "grid_template_rows": null,
            "height": null,
            "justify_content": null,
            "justify_items": null,
            "left": null,
            "margin": null,
            "max_height": null,
            "max_width": null,
            "min_height": null,
            "min_width": null,
            "object_fit": null,
            "object_position": null,
            "order": null,
            "overflow": null,
            "overflow_x": null,
            "overflow_y": null,
            "padding": null,
            "right": null,
            "top": null,
            "visibility": null,
            "width": null
          }
        },
        "33a1a379c1ac4cd0aa9f564897a4131c": {
          "model_module": "@jupyter-widgets/base",
          "model_name": "LayoutModel",
          "model_module_version": "1.2.0",
          "state": {
            "_model_module": "@jupyter-widgets/base",
            "_model_module_version": "1.2.0",
            "_model_name": "LayoutModel",
            "_view_count": null,
            "_view_module": "@jupyter-widgets/base",
            "_view_module_version": "1.2.0",
            "_view_name": "LayoutView",
            "align_content": null,
            "align_items": null,
            "align_self": null,
            "border": null,
            "bottom": null,
            "display": null,
            "flex": null,
            "flex_flow": null,
            "grid_area": null,
            "grid_auto_columns": null,
            "grid_auto_flow": null,
            "grid_auto_rows": null,
            "grid_column": null,
            "grid_gap": null,
            "grid_row": null,
            "grid_template_areas": null,
            "grid_template_columns": null,
            "grid_template_rows": null,
            "height": null,
            "justify_content": null,
            "justify_items": null,
            "left": null,
            "margin": null,
            "max_height": null,
            "max_width": null,
            "min_height": null,
            "min_width": null,
            "object_fit": null,
            "object_position": null,
            "order": null,
            "overflow": null,
            "overflow_x": null,
            "overflow_y": null,
            "padding": null,
            "right": null,
            "top": null,
            "visibility": null,
            "width": null
          }
        },
        "94d1b613e2214033b45aa8297329e7db": {
          "model_module": "@jupyter-widgets/controls",
          "model_name": "DescriptionStyleModel",
          "model_module_version": "1.5.0",
          "state": {
            "_model_module": "@jupyter-widgets/controls",
            "_model_module_version": "1.5.0",
            "_model_name": "DescriptionStyleModel",
            "_view_count": null,
            "_view_module": "@jupyter-widgets/base",
            "_view_module_version": "1.2.0",
            "_view_name": "StyleView",
            "description_width": ""
          }
        },
        "ab61adcc38444562af0b2593931b0a23": {
          "model_module": "@jupyter-widgets/base",
          "model_name": "LayoutModel",
          "model_module_version": "1.2.0",
          "state": {
            "_model_module": "@jupyter-widgets/base",
            "_model_module_version": "1.2.0",
            "_model_name": "LayoutModel",
            "_view_count": null,
            "_view_module": "@jupyter-widgets/base",
            "_view_module_version": "1.2.0",
            "_view_name": "LayoutView",
            "align_content": null,
            "align_items": null,
            "align_self": null,
            "border": null,
            "bottom": null,
            "display": null,
            "flex": null,
            "flex_flow": null,
            "grid_area": null,
            "grid_auto_columns": null,
            "grid_auto_flow": null,
            "grid_auto_rows": null,
            "grid_column": null,
            "grid_gap": null,
            "grid_row": null,
            "grid_template_areas": null,
            "grid_template_columns": null,
            "grid_template_rows": null,
            "height": null,
            "justify_content": null,
            "justify_items": null,
            "left": null,
            "margin": null,
            "max_height": null,
            "max_width": null,
            "min_height": null,
            "min_width": null,
            "object_fit": null,
            "object_position": null,
            "order": null,
            "overflow": null,
            "overflow_x": null,
            "overflow_y": null,
            "padding": null,
            "right": null,
            "top": null,
            "visibility": null,
            "width": null
          }
        },
        "10549a411e68487bbd50d6f776fea0e2": {
          "model_module": "@jupyter-widgets/controls",
          "model_name": "ProgressStyleModel",
          "model_module_version": "1.5.0",
          "state": {
            "_model_module": "@jupyter-widgets/controls",
            "_model_module_version": "1.5.0",
            "_model_name": "ProgressStyleModel",
            "_view_count": null,
            "_view_module": "@jupyter-widgets/base",
            "_view_module_version": "1.2.0",
            "_view_name": "StyleView",
            "bar_color": null,
            "description_width": ""
          }
        },
        "bdd21d31a94e4321b1badf5b41a95e31": {
          "model_module": "@jupyter-widgets/base",
          "model_name": "LayoutModel",
          "model_module_version": "1.2.0",
          "state": {
            "_model_module": "@jupyter-widgets/base",
            "_model_module_version": "1.2.0",
            "_model_name": "LayoutModel",
            "_view_count": null,
            "_view_module": "@jupyter-widgets/base",
            "_view_module_version": "1.2.0",
            "_view_name": "LayoutView",
            "align_content": null,
            "align_items": null,
            "align_self": null,
            "border": null,
            "bottom": null,
            "display": null,
            "flex": null,
            "flex_flow": null,
            "grid_area": null,
            "grid_auto_columns": null,
            "grid_auto_flow": null,
            "grid_auto_rows": null,
            "grid_column": null,
            "grid_gap": null,
            "grid_row": null,
            "grid_template_areas": null,
            "grid_template_columns": null,
            "grid_template_rows": null,
            "height": null,
            "justify_content": null,
            "justify_items": null,
            "left": null,
            "margin": null,
            "max_height": null,
            "max_width": null,
            "min_height": null,
            "min_width": null,
            "object_fit": null,
            "object_position": null,
            "order": null,
            "overflow": null,
            "overflow_x": null,
            "overflow_y": null,
            "padding": null,
            "right": null,
            "top": null,
            "visibility": null,
            "width": null
          }
        },
        "d8c121e2e4fe4080b8fdecc5cf139262": {
          "model_module": "@jupyter-widgets/controls",
          "model_name": "DescriptionStyleModel",
          "model_module_version": "1.5.0",
          "state": {
            "_model_module": "@jupyter-widgets/controls",
            "_model_module_version": "1.5.0",
            "_model_name": "DescriptionStyleModel",
            "_view_count": null,
            "_view_module": "@jupyter-widgets/base",
            "_view_module_version": "1.2.0",
            "_view_name": "StyleView",
            "description_width": ""
          }
        },
        "851b4c7e0f6d4a18ad9310243ef5f696": {
          "model_module": "@jupyter-widgets/controls",
          "model_name": "HBoxModel",
          "model_module_version": "1.5.0",
          "state": {
            "_dom_classes": [],
            "_model_module": "@jupyter-widgets/controls",
            "_model_module_version": "1.5.0",
            "_model_name": "HBoxModel",
            "_view_count": null,
            "_view_module": "@jupyter-widgets/controls",
            "_view_module_version": "1.5.0",
            "_view_name": "HBoxView",
            "box_style": "",
            "children": [
              "IPY_MODEL_959874efe38548309587322a3a4c492d",
              "IPY_MODEL_78ccc7e3af104fae836c31ac8312330c",
              "IPY_MODEL_623802165dc04c7db3c0ac5bfa2e1ed8"
            ],
            "layout": "IPY_MODEL_f27721052152494dac397589f5ceba9a"
          }
        },
        "959874efe38548309587322a3a4c492d": {
          "model_module": "@jupyter-widgets/controls",
          "model_name": "HTMLModel",
          "model_module_version": "1.5.0",
          "state": {
            "_dom_classes": [],
            "_model_module": "@jupyter-widgets/controls",
            "_model_module_version": "1.5.0",
            "_model_name": "HTMLModel",
            "_view_count": null,
            "_view_module": "@jupyter-widgets/controls",
            "_view_module_version": "1.5.0",
            "_view_name": "HTMLView",
            "description": "",
            "description_tooltip": null,
            "layout": "IPY_MODEL_c39f1c483aa4419386bb7194a2533649",
            "placeholder": "​",
            "style": "IPY_MODEL_b435807791e94836bd892de2a30f9fd4",
            "value": "pytorch_model-00015-of-00033.bin: 100%"
          }
        },
        "78ccc7e3af104fae836c31ac8312330c": {
          "model_module": "@jupyter-widgets/controls",
          "model_name": "FloatProgressModel",
          "model_module_version": "1.5.0",
          "state": {
            "_dom_classes": [],
            "_model_module": "@jupyter-widgets/controls",
            "_model_module_version": "1.5.0",
            "_model_name": "FloatProgressModel",
            "_view_count": null,
            "_view_module": "@jupyter-widgets/controls",
            "_view_module_version": "1.5.0",
            "_view_name": "ProgressView",
            "bar_style": "success",
            "description": "",
            "description_tooltip": null,
            "layout": "IPY_MODEL_1383be4590984adc94a06cdc8b0b1737",
            "max": 404770755,
            "min": 0,
            "orientation": "horizontal",
            "style": "IPY_MODEL_3dae1ba6473b4188a90a8ada37a518ee",
            "value": 404770755
          }
        },
        "623802165dc04c7db3c0ac5bfa2e1ed8": {
          "model_module": "@jupyter-widgets/controls",
          "model_name": "HTMLModel",
          "model_module_version": "1.5.0",
          "state": {
            "_dom_classes": [],
            "_model_module": "@jupyter-widgets/controls",
            "_model_module_version": "1.5.0",
            "_model_name": "HTMLModel",
            "_view_count": null,
            "_view_module": "@jupyter-widgets/controls",
            "_view_module_version": "1.5.0",
            "_view_name": "HTMLView",
            "description": "",
            "description_tooltip": null,
            "layout": "IPY_MODEL_7ca5325d3d974f0381c6dd214c6abed8",
            "placeholder": "​",
            "style": "IPY_MODEL_dd93b77571254a409ae0dc3ae0500b77",
            "value": " 405M/405M [00:03&lt;00:00, 135MB/s]"
          }
        },
        "f27721052152494dac397589f5ceba9a": {
          "model_module": "@jupyter-widgets/base",
          "model_name": "LayoutModel",
          "model_module_version": "1.2.0",
          "state": {
            "_model_module": "@jupyter-widgets/base",
            "_model_module_version": "1.2.0",
            "_model_name": "LayoutModel",
            "_view_count": null,
            "_view_module": "@jupyter-widgets/base",
            "_view_module_version": "1.2.0",
            "_view_name": "LayoutView",
            "align_content": null,
            "align_items": null,
            "align_self": null,
            "border": null,
            "bottom": null,
            "display": null,
            "flex": null,
            "flex_flow": null,
            "grid_area": null,
            "grid_auto_columns": null,
            "grid_auto_flow": null,
            "grid_auto_rows": null,
            "grid_column": null,
            "grid_gap": null,
            "grid_row": null,
            "grid_template_areas": null,
            "grid_template_columns": null,
            "grid_template_rows": null,
            "height": null,
            "justify_content": null,
            "justify_items": null,
            "left": null,
            "margin": null,
            "max_height": null,
            "max_width": null,
            "min_height": null,
            "min_width": null,
            "object_fit": null,
            "object_position": null,
            "order": null,
            "overflow": null,
            "overflow_x": null,
            "overflow_y": null,
            "padding": null,
            "right": null,
            "top": null,
            "visibility": null,
            "width": null
          }
        },
        "c39f1c483aa4419386bb7194a2533649": {
          "model_module": "@jupyter-widgets/base",
          "model_name": "LayoutModel",
          "model_module_version": "1.2.0",
          "state": {
            "_model_module": "@jupyter-widgets/base",
            "_model_module_version": "1.2.0",
            "_model_name": "LayoutModel",
            "_view_count": null,
            "_view_module": "@jupyter-widgets/base",
            "_view_module_version": "1.2.0",
            "_view_name": "LayoutView",
            "align_content": null,
            "align_items": null,
            "align_self": null,
            "border": null,
            "bottom": null,
            "display": null,
            "flex": null,
            "flex_flow": null,
            "grid_area": null,
            "grid_auto_columns": null,
            "grid_auto_flow": null,
            "grid_auto_rows": null,
            "grid_column": null,
            "grid_gap": null,
            "grid_row": null,
            "grid_template_areas": null,
            "grid_template_columns": null,
            "grid_template_rows": null,
            "height": null,
            "justify_content": null,
            "justify_items": null,
            "left": null,
            "margin": null,
            "max_height": null,
            "max_width": null,
            "min_height": null,
            "min_width": null,
            "object_fit": null,
            "object_position": null,
            "order": null,
            "overflow": null,
            "overflow_x": null,
            "overflow_y": null,
            "padding": null,
            "right": null,
            "top": null,
            "visibility": null,
            "width": null
          }
        },
        "b435807791e94836bd892de2a30f9fd4": {
          "model_module": "@jupyter-widgets/controls",
          "model_name": "DescriptionStyleModel",
          "model_module_version": "1.5.0",
          "state": {
            "_model_module": "@jupyter-widgets/controls",
            "_model_module_version": "1.5.0",
            "_model_name": "DescriptionStyleModel",
            "_view_count": null,
            "_view_module": "@jupyter-widgets/base",
            "_view_module_version": "1.2.0",
            "_view_name": "StyleView",
            "description_width": ""
          }
        },
        "1383be4590984adc94a06cdc8b0b1737": {
          "model_module": "@jupyter-widgets/base",
          "model_name": "LayoutModel",
          "model_module_version": "1.2.0",
          "state": {
            "_model_module": "@jupyter-widgets/base",
            "_model_module_version": "1.2.0",
            "_model_name": "LayoutModel",
            "_view_count": null,
            "_view_module": "@jupyter-widgets/base",
            "_view_module_version": "1.2.0",
            "_view_name": "LayoutView",
            "align_content": null,
            "align_items": null,
            "align_self": null,
            "border": null,
            "bottom": null,
            "display": null,
            "flex": null,
            "flex_flow": null,
            "grid_area": null,
            "grid_auto_columns": null,
            "grid_auto_flow": null,
            "grid_auto_rows": null,
            "grid_column": null,
            "grid_gap": null,
            "grid_row": null,
            "grid_template_areas": null,
            "grid_template_columns": null,
            "grid_template_rows": null,
            "height": null,
            "justify_content": null,
            "justify_items": null,
            "left": null,
            "margin": null,
            "max_height": null,
            "max_width": null,
            "min_height": null,
            "min_width": null,
            "object_fit": null,
            "object_position": null,
            "order": null,
            "overflow": null,
            "overflow_x": null,
            "overflow_y": null,
            "padding": null,
            "right": null,
            "top": null,
            "visibility": null,
            "width": null
          }
        },
        "3dae1ba6473b4188a90a8ada37a518ee": {
          "model_module": "@jupyter-widgets/controls",
          "model_name": "ProgressStyleModel",
          "model_module_version": "1.5.0",
          "state": {
            "_model_module": "@jupyter-widgets/controls",
            "_model_module_version": "1.5.0",
            "_model_name": "ProgressStyleModel",
            "_view_count": null,
            "_view_module": "@jupyter-widgets/base",
            "_view_module_version": "1.2.0",
            "_view_name": "StyleView",
            "bar_color": null,
            "description_width": ""
          }
        },
        "7ca5325d3d974f0381c6dd214c6abed8": {
          "model_module": "@jupyter-widgets/base",
          "model_name": "LayoutModel",
          "model_module_version": "1.2.0",
          "state": {
            "_model_module": "@jupyter-widgets/base",
            "_model_module_version": "1.2.0",
            "_model_name": "LayoutModel",
            "_view_count": null,
            "_view_module": "@jupyter-widgets/base",
            "_view_module_version": "1.2.0",
            "_view_name": "LayoutView",
            "align_content": null,
            "align_items": null,
            "align_self": null,
            "border": null,
            "bottom": null,
            "display": null,
            "flex": null,
            "flex_flow": null,
            "grid_area": null,
            "grid_auto_columns": null,
            "grid_auto_flow": null,
            "grid_auto_rows": null,
            "grid_column": null,
            "grid_gap": null,
            "grid_row": null,
            "grid_template_areas": null,
            "grid_template_columns": null,
            "grid_template_rows": null,
            "height": null,
            "justify_content": null,
            "justify_items": null,
            "left": null,
            "margin": null,
            "max_height": null,
            "max_width": null,
            "min_height": null,
            "min_width": null,
            "object_fit": null,
            "object_position": null,
            "order": null,
            "overflow": null,
            "overflow_x": null,
            "overflow_y": null,
            "padding": null,
            "right": null,
            "top": null,
            "visibility": null,
            "width": null
          }
        },
        "dd93b77571254a409ae0dc3ae0500b77": {
          "model_module": "@jupyter-widgets/controls",
          "model_name": "DescriptionStyleModel",
          "model_module_version": "1.5.0",
          "state": {
            "_model_module": "@jupyter-widgets/controls",
            "_model_module_version": "1.5.0",
            "_model_name": "DescriptionStyleModel",
            "_view_count": null,
            "_view_module": "@jupyter-widgets/base",
            "_view_module_version": "1.2.0",
            "_view_name": "StyleView",
            "description_width": ""
          }
        },
        "de15d5486e3c46298787bdf9892f6af5": {
          "model_module": "@jupyter-widgets/controls",
          "model_name": "HBoxModel",
          "model_module_version": "1.5.0",
          "state": {
            "_dom_classes": [],
            "_model_module": "@jupyter-widgets/controls",
            "_model_module_version": "1.5.0",
            "_model_name": "HBoxModel",
            "_view_count": null,
            "_view_module": "@jupyter-widgets/controls",
            "_view_module_version": "1.5.0",
            "_view_name": "HBoxView",
            "box_style": "",
            "children": [
              "IPY_MODEL_83e19203f9454886819ce12fdf966fc8",
              "IPY_MODEL_1835dce2090247fcb91da35e040825eb",
              "IPY_MODEL_b44ee97b4cf746cea3cf66b4627ecc9f"
            ],
            "layout": "IPY_MODEL_8897b9a8afb34f7d91f9207bcc7fc099"
          }
        },
        "83e19203f9454886819ce12fdf966fc8": {
          "model_module": "@jupyter-widgets/controls",
          "model_name": "HTMLModel",
          "model_module_version": "1.5.0",
          "state": {
            "_dom_classes": [],
            "_model_module": "@jupyter-widgets/controls",
            "_model_module_version": "1.5.0",
            "_model_name": "HTMLModel",
            "_view_count": null,
            "_view_module": "@jupyter-widgets/controls",
            "_view_module_version": "1.5.0",
            "_view_name": "HTMLView",
            "description": "",
            "description_tooltip": null,
            "layout": "IPY_MODEL_f0874b7270c640a09636216a9bc33d03",
            "placeholder": "​",
            "style": "IPY_MODEL_2505e1ada0004cd982603aae93edc297",
            "value": "pytorch_model-00016-of-00033.bin: 100%"
          }
        },
        "1835dce2090247fcb91da35e040825eb": {
          "model_module": "@jupyter-widgets/controls",
          "model_name": "FloatProgressModel",
          "model_module_version": "1.5.0",
          "state": {
            "_dom_classes": [],
            "_model_module": "@jupyter-widgets/controls",
            "_model_module_version": "1.5.0",
            "_model_name": "FloatProgressModel",
            "_view_count": null,
            "_view_module": "@jupyter-widgets/controls",
            "_view_module_version": "1.5.0",
            "_view_name": "ProgressView",
            "bar_style": "success",
            "description": "",
            "description_tooltip": null,
            "layout": "IPY_MODEL_2457bc4ac9744c4b8494c1dd7c6018f4",
            "max": 404770755,
            "min": 0,
            "orientation": "horizontal",
            "style": "IPY_MODEL_5f773c8f7245416ea4d40f89eb4d3e82",
            "value": 404770755
          }
        },
        "b44ee97b4cf746cea3cf66b4627ecc9f": {
          "model_module": "@jupyter-widgets/controls",
          "model_name": "HTMLModel",
          "model_module_version": "1.5.0",
          "state": {
            "_dom_classes": [],
            "_model_module": "@jupyter-widgets/controls",
            "_model_module_version": "1.5.0",
            "_model_name": "HTMLModel",
            "_view_count": null,
            "_view_module": "@jupyter-widgets/controls",
            "_view_module_version": "1.5.0",
            "_view_name": "HTMLView",
            "description": "",
            "description_tooltip": null,
            "layout": "IPY_MODEL_154a81ca2ab749828d5d1b4a7c969ca4",
            "placeholder": "​",
            "style": "IPY_MODEL_c357a577b09b44d8b21a8ee090d2bcda",
            "value": " 405M/405M [00:01&lt;00:00, 202MB/s]"
          }
        },
        "8897b9a8afb34f7d91f9207bcc7fc099": {
          "model_module": "@jupyter-widgets/base",
          "model_name": "LayoutModel",
          "model_module_version": "1.2.0",
          "state": {
            "_model_module": "@jupyter-widgets/base",
            "_model_module_version": "1.2.0",
            "_model_name": "LayoutModel",
            "_view_count": null,
            "_view_module": "@jupyter-widgets/base",
            "_view_module_version": "1.2.0",
            "_view_name": "LayoutView",
            "align_content": null,
            "align_items": null,
            "align_self": null,
            "border": null,
            "bottom": null,
            "display": null,
            "flex": null,
            "flex_flow": null,
            "grid_area": null,
            "grid_auto_columns": null,
            "grid_auto_flow": null,
            "grid_auto_rows": null,
            "grid_column": null,
            "grid_gap": null,
            "grid_row": null,
            "grid_template_areas": null,
            "grid_template_columns": null,
            "grid_template_rows": null,
            "height": null,
            "justify_content": null,
            "justify_items": null,
            "left": null,
            "margin": null,
            "max_height": null,
            "max_width": null,
            "min_height": null,
            "min_width": null,
            "object_fit": null,
            "object_position": null,
            "order": null,
            "overflow": null,
            "overflow_x": null,
            "overflow_y": null,
            "padding": null,
            "right": null,
            "top": null,
            "visibility": null,
            "width": null
          }
        },
        "f0874b7270c640a09636216a9bc33d03": {
          "model_module": "@jupyter-widgets/base",
          "model_name": "LayoutModel",
          "model_module_version": "1.2.0",
          "state": {
            "_model_module": "@jupyter-widgets/base",
            "_model_module_version": "1.2.0",
            "_model_name": "LayoutModel",
            "_view_count": null,
            "_view_module": "@jupyter-widgets/base",
            "_view_module_version": "1.2.0",
            "_view_name": "LayoutView",
            "align_content": null,
            "align_items": null,
            "align_self": null,
            "border": null,
            "bottom": null,
            "display": null,
            "flex": null,
            "flex_flow": null,
            "grid_area": null,
            "grid_auto_columns": null,
            "grid_auto_flow": null,
            "grid_auto_rows": null,
            "grid_column": null,
            "grid_gap": null,
            "grid_row": null,
            "grid_template_areas": null,
            "grid_template_columns": null,
            "grid_template_rows": null,
            "height": null,
            "justify_content": null,
            "justify_items": null,
            "left": null,
            "margin": null,
            "max_height": null,
            "max_width": null,
            "min_height": null,
            "min_width": null,
            "object_fit": null,
            "object_position": null,
            "order": null,
            "overflow": null,
            "overflow_x": null,
            "overflow_y": null,
            "padding": null,
            "right": null,
            "top": null,
            "visibility": null,
            "width": null
          }
        },
        "2505e1ada0004cd982603aae93edc297": {
          "model_module": "@jupyter-widgets/controls",
          "model_name": "DescriptionStyleModel",
          "model_module_version": "1.5.0",
          "state": {
            "_model_module": "@jupyter-widgets/controls",
            "_model_module_version": "1.5.0",
            "_model_name": "DescriptionStyleModel",
            "_view_count": null,
            "_view_module": "@jupyter-widgets/base",
            "_view_module_version": "1.2.0",
            "_view_name": "StyleView",
            "description_width": ""
          }
        },
        "2457bc4ac9744c4b8494c1dd7c6018f4": {
          "model_module": "@jupyter-widgets/base",
          "model_name": "LayoutModel",
          "model_module_version": "1.2.0",
          "state": {
            "_model_module": "@jupyter-widgets/base",
            "_model_module_version": "1.2.0",
            "_model_name": "LayoutModel",
            "_view_count": null,
            "_view_module": "@jupyter-widgets/base",
            "_view_module_version": "1.2.0",
            "_view_name": "LayoutView",
            "align_content": null,
            "align_items": null,
            "align_self": null,
            "border": null,
            "bottom": null,
            "display": null,
            "flex": null,
            "flex_flow": null,
            "grid_area": null,
            "grid_auto_columns": null,
            "grid_auto_flow": null,
            "grid_auto_rows": null,
            "grid_column": null,
            "grid_gap": null,
            "grid_row": null,
            "grid_template_areas": null,
            "grid_template_columns": null,
            "grid_template_rows": null,
            "height": null,
            "justify_content": null,
            "justify_items": null,
            "left": null,
            "margin": null,
            "max_height": null,
            "max_width": null,
            "min_height": null,
            "min_width": null,
            "object_fit": null,
            "object_position": null,
            "order": null,
            "overflow": null,
            "overflow_x": null,
            "overflow_y": null,
            "padding": null,
            "right": null,
            "top": null,
            "visibility": null,
            "width": null
          }
        },
        "5f773c8f7245416ea4d40f89eb4d3e82": {
          "model_module": "@jupyter-widgets/controls",
          "model_name": "ProgressStyleModel",
          "model_module_version": "1.5.0",
          "state": {
            "_model_module": "@jupyter-widgets/controls",
            "_model_module_version": "1.5.0",
            "_model_name": "ProgressStyleModel",
            "_view_count": null,
            "_view_module": "@jupyter-widgets/base",
            "_view_module_version": "1.2.0",
            "_view_name": "StyleView",
            "bar_color": null,
            "description_width": ""
          }
        },
        "154a81ca2ab749828d5d1b4a7c969ca4": {
          "model_module": "@jupyter-widgets/base",
          "model_name": "LayoutModel",
          "model_module_version": "1.2.0",
          "state": {
            "_model_module": "@jupyter-widgets/base",
            "_model_module_version": "1.2.0",
            "_model_name": "LayoutModel",
            "_view_count": null,
            "_view_module": "@jupyter-widgets/base",
            "_view_module_version": "1.2.0",
            "_view_name": "LayoutView",
            "align_content": null,
            "align_items": null,
            "align_self": null,
            "border": null,
            "bottom": null,
            "display": null,
            "flex": null,
            "flex_flow": null,
            "grid_area": null,
            "grid_auto_columns": null,
            "grid_auto_flow": null,
            "grid_auto_rows": null,
            "grid_column": null,
            "grid_gap": null,
            "grid_row": null,
            "grid_template_areas": null,
            "grid_template_columns": null,
            "grid_template_rows": null,
            "height": null,
            "justify_content": null,
            "justify_items": null,
            "left": null,
            "margin": null,
            "max_height": null,
            "max_width": null,
            "min_height": null,
            "min_width": null,
            "object_fit": null,
            "object_position": null,
            "order": null,
            "overflow": null,
            "overflow_x": null,
            "overflow_y": null,
            "padding": null,
            "right": null,
            "top": null,
            "visibility": null,
            "width": null
          }
        },
        "c357a577b09b44d8b21a8ee090d2bcda": {
          "model_module": "@jupyter-widgets/controls",
          "model_name": "DescriptionStyleModel",
          "model_module_version": "1.5.0",
          "state": {
            "_model_module": "@jupyter-widgets/controls",
            "_model_module_version": "1.5.0",
            "_model_name": "DescriptionStyleModel",
            "_view_count": null,
            "_view_module": "@jupyter-widgets/base",
            "_view_module_version": "1.2.0",
            "_view_name": "StyleView",
            "description_width": ""
          }
        },
        "c5e269bf33b748229247cb619f323f3a": {
          "model_module": "@jupyter-widgets/controls",
          "model_name": "HBoxModel",
          "model_module_version": "1.5.0",
          "state": {
            "_dom_classes": [],
            "_model_module": "@jupyter-widgets/controls",
            "_model_module_version": "1.5.0",
            "_model_name": "HBoxModel",
            "_view_count": null,
            "_view_module": "@jupyter-widgets/controls",
            "_view_module_version": "1.5.0",
            "_view_name": "HBoxView",
            "box_style": "",
            "children": [
              "IPY_MODEL_9dbcb66a07b2459e9f0c526b48966fbf",
              "IPY_MODEL_6b51fd6e525f48c194e4878b5805f43b",
              "IPY_MODEL_7969e1a7fd024cd3b27d2c86ed5fbc64"
            ],
            "layout": "IPY_MODEL_e47e76d69401422f9231cdc89fde2788"
          }
        },
        "9dbcb66a07b2459e9f0c526b48966fbf": {
          "model_module": "@jupyter-widgets/controls",
          "model_name": "HTMLModel",
          "model_module_version": "1.5.0",
          "state": {
            "_dom_classes": [],
            "_model_module": "@jupyter-widgets/controls",
            "_model_module_version": "1.5.0",
            "_model_name": "HTMLModel",
            "_view_count": null,
            "_view_module": "@jupyter-widgets/controls",
            "_view_module_version": "1.5.0",
            "_view_name": "HTMLView",
            "description": "",
            "description_tooltip": null,
            "layout": "IPY_MODEL_ba924db888b841c3a1a8c031c8c3c21f",
            "placeholder": "​",
            "style": "IPY_MODEL_254790fab1854063b66001e6e52cf728",
            "value": "pytorch_model-00017-of-00033.bin: 100%"
          }
        },
        "6b51fd6e525f48c194e4878b5805f43b": {
          "model_module": "@jupyter-widgets/controls",
          "model_name": "FloatProgressModel",
          "model_module_version": "1.5.0",
          "state": {
            "_dom_classes": [],
            "_model_module": "@jupyter-widgets/controls",
            "_model_module_version": "1.5.0",
            "_model_name": "FloatProgressModel",
            "_view_count": null,
            "_view_module": "@jupyter-widgets/controls",
            "_view_module_version": "1.5.0",
            "_view_name": "ProgressView",
            "bar_style": "success",
            "description": "",
            "description_tooltip": null,
            "layout": "IPY_MODEL_b04d65497a284d37a5e45c6027303a43",
            "max": 404770755,
            "min": 0,
            "orientation": "horizontal",
            "style": "IPY_MODEL_ed2b177b905147068d89a0134020fd2e",
            "value": 404770755
          }
        },
        "7969e1a7fd024cd3b27d2c86ed5fbc64": {
          "model_module": "@jupyter-widgets/controls",
          "model_name": "HTMLModel",
          "model_module_version": "1.5.0",
          "state": {
            "_dom_classes": [],
            "_model_module": "@jupyter-widgets/controls",
            "_model_module_version": "1.5.0",
            "_model_name": "HTMLModel",
            "_view_count": null,
            "_view_module": "@jupyter-widgets/controls",
            "_view_module_version": "1.5.0",
            "_view_name": "HTMLView",
            "description": "",
            "description_tooltip": null,
            "layout": "IPY_MODEL_e9f68f2f68c54d858bbb4a799a9fc3fe",
            "placeholder": "​",
            "style": "IPY_MODEL_693da2361d434eddb8939053c26538ba",
            "value": " 405M/405M [00:07&lt;00:00, 37.2MB/s]"
          }
        },
        "e47e76d69401422f9231cdc89fde2788": {
          "model_module": "@jupyter-widgets/base",
          "model_name": "LayoutModel",
          "model_module_version": "1.2.0",
          "state": {
            "_model_module": "@jupyter-widgets/base",
            "_model_module_version": "1.2.0",
            "_model_name": "LayoutModel",
            "_view_count": null,
            "_view_module": "@jupyter-widgets/base",
            "_view_module_version": "1.2.0",
            "_view_name": "LayoutView",
            "align_content": null,
            "align_items": null,
            "align_self": null,
            "border": null,
            "bottom": null,
            "display": null,
            "flex": null,
            "flex_flow": null,
            "grid_area": null,
            "grid_auto_columns": null,
            "grid_auto_flow": null,
            "grid_auto_rows": null,
            "grid_column": null,
            "grid_gap": null,
            "grid_row": null,
            "grid_template_areas": null,
            "grid_template_columns": null,
            "grid_template_rows": null,
            "height": null,
            "justify_content": null,
            "justify_items": null,
            "left": null,
            "margin": null,
            "max_height": null,
            "max_width": null,
            "min_height": null,
            "min_width": null,
            "object_fit": null,
            "object_position": null,
            "order": null,
            "overflow": null,
            "overflow_x": null,
            "overflow_y": null,
            "padding": null,
            "right": null,
            "top": null,
            "visibility": null,
            "width": null
          }
        },
        "ba924db888b841c3a1a8c031c8c3c21f": {
          "model_module": "@jupyter-widgets/base",
          "model_name": "LayoutModel",
          "model_module_version": "1.2.0",
          "state": {
            "_model_module": "@jupyter-widgets/base",
            "_model_module_version": "1.2.0",
            "_model_name": "LayoutModel",
            "_view_count": null,
            "_view_module": "@jupyter-widgets/base",
            "_view_module_version": "1.2.0",
            "_view_name": "LayoutView",
            "align_content": null,
            "align_items": null,
            "align_self": null,
            "border": null,
            "bottom": null,
            "display": null,
            "flex": null,
            "flex_flow": null,
            "grid_area": null,
            "grid_auto_columns": null,
            "grid_auto_flow": null,
            "grid_auto_rows": null,
            "grid_column": null,
            "grid_gap": null,
            "grid_row": null,
            "grid_template_areas": null,
            "grid_template_columns": null,
            "grid_template_rows": null,
            "height": null,
            "justify_content": null,
            "justify_items": null,
            "left": null,
            "margin": null,
            "max_height": null,
            "max_width": null,
            "min_height": null,
            "min_width": null,
            "object_fit": null,
            "object_position": null,
            "order": null,
            "overflow": null,
            "overflow_x": null,
            "overflow_y": null,
            "padding": null,
            "right": null,
            "top": null,
            "visibility": null,
            "width": null
          }
        },
        "254790fab1854063b66001e6e52cf728": {
          "model_module": "@jupyter-widgets/controls",
          "model_name": "DescriptionStyleModel",
          "model_module_version": "1.5.0",
          "state": {
            "_model_module": "@jupyter-widgets/controls",
            "_model_module_version": "1.5.0",
            "_model_name": "DescriptionStyleModel",
            "_view_count": null,
            "_view_module": "@jupyter-widgets/base",
            "_view_module_version": "1.2.0",
            "_view_name": "StyleView",
            "description_width": ""
          }
        },
        "b04d65497a284d37a5e45c6027303a43": {
          "model_module": "@jupyter-widgets/base",
          "model_name": "LayoutModel",
          "model_module_version": "1.2.0",
          "state": {
            "_model_module": "@jupyter-widgets/base",
            "_model_module_version": "1.2.0",
            "_model_name": "LayoutModel",
            "_view_count": null,
            "_view_module": "@jupyter-widgets/base",
            "_view_module_version": "1.2.0",
            "_view_name": "LayoutView",
            "align_content": null,
            "align_items": null,
            "align_self": null,
            "border": null,
            "bottom": null,
            "display": null,
            "flex": null,
            "flex_flow": null,
            "grid_area": null,
            "grid_auto_columns": null,
            "grid_auto_flow": null,
            "grid_auto_rows": null,
            "grid_column": null,
            "grid_gap": null,
            "grid_row": null,
            "grid_template_areas": null,
            "grid_template_columns": null,
            "grid_template_rows": null,
            "height": null,
            "justify_content": null,
            "justify_items": null,
            "left": null,
            "margin": null,
            "max_height": null,
            "max_width": null,
            "min_height": null,
            "min_width": null,
            "object_fit": null,
            "object_position": null,
            "order": null,
            "overflow": null,
            "overflow_x": null,
            "overflow_y": null,
            "padding": null,
            "right": null,
            "top": null,
            "visibility": null,
            "width": null
          }
        },
        "ed2b177b905147068d89a0134020fd2e": {
          "model_module": "@jupyter-widgets/controls",
          "model_name": "ProgressStyleModel",
          "model_module_version": "1.5.0",
          "state": {
            "_model_module": "@jupyter-widgets/controls",
            "_model_module_version": "1.5.0",
            "_model_name": "ProgressStyleModel",
            "_view_count": null,
            "_view_module": "@jupyter-widgets/base",
            "_view_module_version": "1.2.0",
            "_view_name": "StyleView",
            "bar_color": null,
            "description_width": ""
          }
        },
        "e9f68f2f68c54d858bbb4a799a9fc3fe": {
          "model_module": "@jupyter-widgets/base",
          "model_name": "LayoutModel",
          "model_module_version": "1.2.0",
          "state": {
            "_model_module": "@jupyter-widgets/base",
            "_model_module_version": "1.2.0",
            "_model_name": "LayoutModel",
            "_view_count": null,
            "_view_module": "@jupyter-widgets/base",
            "_view_module_version": "1.2.0",
            "_view_name": "LayoutView",
            "align_content": null,
            "align_items": null,
            "align_self": null,
            "border": null,
            "bottom": null,
            "display": null,
            "flex": null,
            "flex_flow": null,
            "grid_area": null,
            "grid_auto_columns": null,
            "grid_auto_flow": null,
            "grid_auto_rows": null,
            "grid_column": null,
            "grid_gap": null,
            "grid_row": null,
            "grid_template_areas": null,
            "grid_template_columns": null,
            "grid_template_rows": null,
            "height": null,
            "justify_content": null,
            "justify_items": null,
            "left": null,
            "margin": null,
            "max_height": null,
            "max_width": null,
            "min_height": null,
            "min_width": null,
            "object_fit": null,
            "object_position": null,
            "order": null,
            "overflow": null,
            "overflow_x": null,
            "overflow_y": null,
            "padding": null,
            "right": null,
            "top": null,
            "visibility": null,
            "width": null
          }
        },
        "693da2361d434eddb8939053c26538ba": {
          "model_module": "@jupyter-widgets/controls",
          "model_name": "DescriptionStyleModel",
          "model_module_version": "1.5.0",
          "state": {
            "_model_module": "@jupyter-widgets/controls",
            "_model_module_version": "1.5.0",
            "_model_name": "DescriptionStyleModel",
            "_view_count": null,
            "_view_module": "@jupyter-widgets/base",
            "_view_module_version": "1.2.0",
            "_view_name": "StyleView",
            "description_width": ""
          }
        },
        "5fc4a805d4cb405c84e9d13132568e92": {
          "model_module": "@jupyter-widgets/controls",
          "model_name": "HBoxModel",
          "model_module_version": "1.5.0",
          "state": {
            "_dom_classes": [],
            "_model_module": "@jupyter-widgets/controls",
            "_model_module_version": "1.5.0",
            "_model_name": "HBoxModel",
            "_view_count": null,
            "_view_module": "@jupyter-widgets/controls",
            "_view_module_version": "1.5.0",
            "_view_name": "HBoxView",
            "box_style": "",
            "children": [
              "IPY_MODEL_b0ff695739854ff4b2ef9d949f9cfc99",
              "IPY_MODEL_831f18420e564664af44328e43aecac9",
              "IPY_MODEL_1eb99eef231746ce9e7f478ee26b9884"
            ],
            "layout": "IPY_MODEL_b5bcc91314a64fa99b0b21fe1642c74d"
          }
        },
        "b0ff695739854ff4b2ef9d949f9cfc99": {
          "model_module": "@jupyter-widgets/controls",
          "model_name": "HTMLModel",
          "model_module_version": "1.5.0",
          "state": {
            "_dom_classes": [],
            "_model_module": "@jupyter-widgets/controls",
            "_model_module_version": "1.5.0",
            "_model_name": "HTMLModel",
            "_view_count": null,
            "_view_module": "@jupyter-widgets/controls",
            "_view_module_version": "1.5.0",
            "_view_name": "HTMLView",
            "description": "",
            "description_tooltip": null,
            "layout": "IPY_MODEL_8b027da1ad9b444bbd91290a2752c6ec",
            "placeholder": "​",
            "style": "IPY_MODEL_e871155397a84b969964f454cd8da4a6",
            "value": "pytorch_model-00018-of-00033.bin: 100%"
          }
        },
        "831f18420e564664af44328e43aecac9": {
          "model_module": "@jupyter-widgets/controls",
          "model_name": "FloatProgressModel",
          "model_module_version": "1.5.0",
          "state": {
            "_dom_classes": [],
            "_model_module": "@jupyter-widgets/controls",
            "_model_module_version": "1.5.0",
            "_model_name": "FloatProgressModel",
            "_view_count": null,
            "_view_module": "@jupyter-widgets/controls",
            "_view_module_version": "1.5.0",
            "_view_name": "ProgressView",
            "bar_style": "success",
            "description": "",
            "description_tooltip": null,
            "layout": "IPY_MODEL_933a4ec32cf44619bd9ca3ee440f76a6",
            "max": 404770755,
            "min": 0,
            "orientation": "horizontal",
            "style": "IPY_MODEL_26eed39738a44b8eabb99d0c363de405",
            "value": 404770755
          }
        },
        "1eb99eef231746ce9e7f478ee26b9884": {
          "model_module": "@jupyter-widgets/controls",
          "model_name": "HTMLModel",
          "model_module_version": "1.5.0",
          "state": {
            "_dom_classes": [],
            "_model_module": "@jupyter-widgets/controls",
            "_model_module_version": "1.5.0",
            "_model_name": "HTMLModel",
            "_view_count": null,
            "_view_module": "@jupyter-widgets/controls",
            "_view_module_version": "1.5.0",
            "_view_name": "HTMLView",
            "description": "",
            "description_tooltip": null,
            "layout": "IPY_MODEL_9f14c4c40fcb47f3ba941cbb8c9b25f5",
            "placeholder": "​",
            "style": "IPY_MODEL_9706bafb4f994456b5bfeea21e290d8e",
            "value": " 405M/405M [00:51&lt;00:00, 16.9MB/s]"
          }
        },
        "b5bcc91314a64fa99b0b21fe1642c74d": {
          "model_module": "@jupyter-widgets/base",
          "model_name": "LayoutModel",
          "model_module_version": "1.2.0",
          "state": {
            "_model_module": "@jupyter-widgets/base",
            "_model_module_version": "1.2.0",
            "_model_name": "LayoutModel",
            "_view_count": null,
            "_view_module": "@jupyter-widgets/base",
            "_view_module_version": "1.2.0",
            "_view_name": "LayoutView",
            "align_content": null,
            "align_items": null,
            "align_self": null,
            "border": null,
            "bottom": null,
            "display": null,
            "flex": null,
            "flex_flow": null,
            "grid_area": null,
            "grid_auto_columns": null,
            "grid_auto_flow": null,
            "grid_auto_rows": null,
            "grid_column": null,
            "grid_gap": null,
            "grid_row": null,
            "grid_template_areas": null,
            "grid_template_columns": null,
            "grid_template_rows": null,
            "height": null,
            "justify_content": null,
            "justify_items": null,
            "left": null,
            "margin": null,
            "max_height": null,
            "max_width": null,
            "min_height": null,
            "min_width": null,
            "object_fit": null,
            "object_position": null,
            "order": null,
            "overflow": null,
            "overflow_x": null,
            "overflow_y": null,
            "padding": null,
            "right": null,
            "top": null,
            "visibility": null,
            "width": null
          }
        },
        "8b027da1ad9b444bbd91290a2752c6ec": {
          "model_module": "@jupyter-widgets/base",
          "model_name": "LayoutModel",
          "model_module_version": "1.2.0",
          "state": {
            "_model_module": "@jupyter-widgets/base",
            "_model_module_version": "1.2.0",
            "_model_name": "LayoutModel",
            "_view_count": null,
            "_view_module": "@jupyter-widgets/base",
            "_view_module_version": "1.2.0",
            "_view_name": "LayoutView",
            "align_content": null,
            "align_items": null,
            "align_self": null,
            "border": null,
            "bottom": null,
            "display": null,
            "flex": null,
            "flex_flow": null,
            "grid_area": null,
            "grid_auto_columns": null,
            "grid_auto_flow": null,
            "grid_auto_rows": null,
            "grid_column": null,
            "grid_gap": null,
            "grid_row": null,
            "grid_template_areas": null,
            "grid_template_columns": null,
            "grid_template_rows": null,
            "height": null,
            "justify_content": null,
            "justify_items": null,
            "left": null,
            "margin": null,
            "max_height": null,
            "max_width": null,
            "min_height": null,
            "min_width": null,
            "object_fit": null,
            "object_position": null,
            "order": null,
            "overflow": null,
            "overflow_x": null,
            "overflow_y": null,
            "padding": null,
            "right": null,
            "top": null,
            "visibility": null,
            "width": null
          }
        },
        "e871155397a84b969964f454cd8da4a6": {
          "model_module": "@jupyter-widgets/controls",
          "model_name": "DescriptionStyleModel",
          "model_module_version": "1.5.0",
          "state": {
            "_model_module": "@jupyter-widgets/controls",
            "_model_module_version": "1.5.0",
            "_model_name": "DescriptionStyleModel",
            "_view_count": null,
            "_view_module": "@jupyter-widgets/base",
            "_view_module_version": "1.2.0",
            "_view_name": "StyleView",
            "description_width": ""
          }
        },
        "933a4ec32cf44619bd9ca3ee440f76a6": {
          "model_module": "@jupyter-widgets/base",
          "model_name": "LayoutModel",
          "model_module_version": "1.2.0",
          "state": {
            "_model_module": "@jupyter-widgets/base",
            "_model_module_version": "1.2.0",
            "_model_name": "LayoutModel",
            "_view_count": null,
            "_view_module": "@jupyter-widgets/base",
            "_view_module_version": "1.2.0",
            "_view_name": "LayoutView",
            "align_content": null,
            "align_items": null,
            "align_self": null,
            "border": null,
            "bottom": null,
            "display": null,
            "flex": null,
            "flex_flow": null,
            "grid_area": null,
            "grid_auto_columns": null,
            "grid_auto_flow": null,
            "grid_auto_rows": null,
            "grid_column": null,
            "grid_gap": null,
            "grid_row": null,
            "grid_template_areas": null,
            "grid_template_columns": null,
            "grid_template_rows": null,
            "height": null,
            "justify_content": null,
            "justify_items": null,
            "left": null,
            "margin": null,
            "max_height": null,
            "max_width": null,
            "min_height": null,
            "min_width": null,
            "object_fit": null,
            "object_position": null,
            "order": null,
            "overflow": null,
            "overflow_x": null,
            "overflow_y": null,
            "padding": null,
            "right": null,
            "top": null,
            "visibility": null,
            "width": null
          }
        },
        "26eed39738a44b8eabb99d0c363de405": {
          "model_module": "@jupyter-widgets/controls",
          "model_name": "ProgressStyleModel",
          "model_module_version": "1.5.0",
          "state": {
            "_model_module": "@jupyter-widgets/controls",
            "_model_module_version": "1.5.0",
            "_model_name": "ProgressStyleModel",
            "_view_count": null,
            "_view_module": "@jupyter-widgets/base",
            "_view_module_version": "1.2.0",
            "_view_name": "StyleView",
            "bar_color": null,
            "description_width": ""
          }
        },
        "9f14c4c40fcb47f3ba941cbb8c9b25f5": {
          "model_module": "@jupyter-widgets/base",
          "model_name": "LayoutModel",
          "model_module_version": "1.2.0",
          "state": {
            "_model_module": "@jupyter-widgets/base",
            "_model_module_version": "1.2.0",
            "_model_name": "LayoutModel",
            "_view_count": null,
            "_view_module": "@jupyter-widgets/base",
            "_view_module_version": "1.2.0",
            "_view_name": "LayoutView",
            "align_content": null,
            "align_items": null,
            "align_self": null,
            "border": null,
            "bottom": null,
            "display": null,
            "flex": null,
            "flex_flow": null,
            "grid_area": null,
            "grid_auto_columns": null,
            "grid_auto_flow": null,
            "grid_auto_rows": null,
            "grid_column": null,
            "grid_gap": null,
            "grid_row": null,
            "grid_template_areas": null,
            "grid_template_columns": null,
            "grid_template_rows": null,
            "height": null,
            "justify_content": null,
            "justify_items": null,
            "left": null,
            "margin": null,
            "max_height": null,
            "max_width": null,
            "min_height": null,
            "min_width": null,
            "object_fit": null,
            "object_position": null,
            "order": null,
            "overflow": null,
            "overflow_x": null,
            "overflow_y": null,
            "padding": null,
            "right": null,
            "top": null,
            "visibility": null,
            "width": null
          }
        },
        "9706bafb4f994456b5bfeea21e290d8e": {
          "model_module": "@jupyter-widgets/controls",
          "model_name": "DescriptionStyleModel",
          "model_module_version": "1.5.0",
          "state": {
            "_model_module": "@jupyter-widgets/controls",
            "_model_module_version": "1.5.0",
            "_model_name": "DescriptionStyleModel",
            "_view_count": null,
            "_view_module": "@jupyter-widgets/base",
            "_view_module_version": "1.2.0",
            "_view_name": "StyleView",
            "description_width": ""
          }
        },
        "32d498d7305749a799882793ec9ad972": {
          "model_module": "@jupyter-widgets/controls",
          "model_name": "HBoxModel",
          "model_module_version": "1.5.0",
          "state": {
            "_dom_classes": [],
            "_model_module": "@jupyter-widgets/controls",
            "_model_module_version": "1.5.0",
            "_model_name": "HBoxModel",
            "_view_count": null,
            "_view_module": "@jupyter-widgets/controls",
            "_view_module_version": "1.5.0",
            "_view_name": "HBoxView",
            "box_style": "",
            "children": [
              "IPY_MODEL_357c030d1fac4eea9e251008cd56daa3",
              "IPY_MODEL_9d81836c3a184952a4d8d1b69034accd",
              "IPY_MODEL_5aab09dd927d46f281bb27908c14236f"
            ],
            "layout": "IPY_MODEL_40e897e8c3194c3f93853d33f444cc69"
          }
        },
        "357c030d1fac4eea9e251008cd56daa3": {
          "model_module": "@jupyter-widgets/controls",
          "model_name": "HTMLModel",
          "model_module_version": "1.5.0",
          "state": {
            "_dom_classes": [],
            "_model_module": "@jupyter-widgets/controls",
            "_model_module_version": "1.5.0",
            "_model_name": "HTMLModel",
            "_view_count": null,
            "_view_module": "@jupyter-widgets/controls",
            "_view_module_version": "1.5.0",
            "_view_name": "HTMLView",
            "description": "",
            "description_tooltip": null,
            "layout": "IPY_MODEL_23873acd678f427eafcb88b6c941e2dd",
            "placeholder": "​",
            "style": "IPY_MODEL_95aaa6fed18e44d6b1b3997a41be17ea",
            "value": "pytorch_model-00019-of-00033.bin: 100%"
          }
        },
        "9d81836c3a184952a4d8d1b69034accd": {
          "model_module": "@jupyter-widgets/controls",
          "model_name": "FloatProgressModel",
          "model_module_version": "1.5.0",
          "state": {
            "_dom_classes": [],
            "_model_module": "@jupyter-widgets/controls",
            "_model_module_version": "1.5.0",
            "_model_name": "FloatProgressModel",
            "_view_count": null,
            "_view_module": "@jupyter-widgets/controls",
            "_view_module_version": "1.5.0",
            "_view_name": "ProgressView",
            "bar_style": "success",
            "description": "",
            "description_tooltip": null,
            "layout": "IPY_MODEL_539f8f9e81554246a6e338420b3df036",
            "max": 404770755,
            "min": 0,
            "orientation": "horizontal",
            "style": "IPY_MODEL_bb5a65c32b0a41248e5daa54223533b1",
            "value": 404770755
          }
        },
        "5aab09dd927d46f281bb27908c14236f": {
          "model_module": "@jupyter-widgets/controls",
          "model_name": "HTMLModel",
          "model_module_version": "1.5.0",
          "state": {
            "_dom_classes": [],
            "_model_module": "@jupyter-widgets/controls",
            "_model_module_version": "1.5.0",
            "_model_name": "HTMLModel",
            "_view_count": null,
            "_view_module": "@jupyter-widgets/controls",
            "_view_module_version": "1.5.0",
            "_view_name": "HTMLView",
            "description": "",
            "description_tooltip": null,
            "layout": "IPY_MODEL_6710220eadb14aa88af79c466af4a1ef",
            "placeholder": "​",
            "style": "IPY_MODEL_096adeb024544785bc4c48e054ed16d0",
            "value": " 405M/405M [00:26&lt;00:00, 17.6MB/s]"
          }
        },
        "40e897e8c3194c3f93853d33f444cc69": {
          "model_module": "@jupyter-widgets/base",
          "model_name": "LayoutModel",
          "model_module_version": "1.2.0",
          "state": {
            "_model_module": "@jupyter-widgets/base",
            "_model_module_version": "1.2.0",
            "_model_name": "LayoutModel",
            "_view_count": null,
            "_view_module": "@jupyter-widgets/base",
            "_view_module_version": "1.2.0",
            "_view_name": "LayoutView",
            "align_content": null,
            "align_items": null,
            "align_self": null,
            "border": null,
            "bottom": null,
            "display": null,
            "flex": null,
            "flex_flow": null,
            "grid_area": null,
            "grid_auto_columns": null,
            "grid_auto_flow": null,
            "grid_auto_rows": null,
            "grid_column": null,
            "grid_gap": null,
            "grid_row": null,
            "grid_template_areas": null,
            "grid_template_columns": null,
            "grid_template_rows": null,
            "height": null,
            "justify_content": null,
            "justify_items": null,
            "left": null,
            "margin": null,
            "max_height": null,
            "max_width": null,
            "min_height": null,
            "min_width": null,
            "object_fit": null,
            "object_position": null,
            "order": null,
            "overflow": null,
            "overflow_x": null,
            "overflow_y": null,
            "padding": null,
            "right": null,
            "top": null,
            "visibility": null,
            "width": null
          }
        },
        "23873acd678f427eafcb88b6c941e2dd": {
          "model_module": "@jupyter-widgets/base",
          "model_name": "LayoutModel",
          "model_module_version": "1.2.0",
          "state": {
            "_model_module": "@jupyter-widgets/base",
            "_model_module_version": "1.2.0",
            "_model_name": "LayoutModel",
            "_view_count": null,
            "_view_module": "@jupyter-widgets/base",
            "_view_module_version": "1.2.0",
            "_view_name": "LayoutView",
            "align_content": null,
            "align_items": null,
            "align_self": null,
            "border": null,
            "bottom": null,
            "display": null,
            "flex": null,
            "flex_flow": null,
            "grid_area": null,
            "grid_auto_columns": null,
            "grid_auto_flow": null,
            "grid_auto_rows": null,
            "grid_column": null,
            "grid_gap": null,
            "grid_row": null,
            "grid_template_areas": null,
            "grid_template_columns": null,
            "grid_template_rows": null,
            "height": null,
            "justify_content": null,
            "justify_items": null,
            "left": null,
            "margin": null,
            "max_height": null,
            "max_width": null,
            "min_height": null,
            "min_width": null,
            "object_fit": null,
            "object_position": null,
            "order": null,
            "overflow": null,
            "overflow_x": null,
            "overflow_y": null,
            "padding": null,
            "right": null,
            "top": null,
            "visibility": null,
            "width": null
          }
        },
        "95aaa6fed18e44d6b1b3997a41be17ea": {
          "model_module": "@jupyter-widgets/controls",
          "model_name": "DescriptionStyleModel",
          "model_module_version": "1.5.0",
          "state": {
            "_model_module": "@jupyter-widgets/controls",
            "_model_module_version": "1.5.0",
            "_model_name": "DescriptionStyleModel",
            "_view_count": null,
            "_view_module": "@jupyter-widgets/base",
            "_view_module_version": "1.2.0",
            "_view_name": "StyleView",
            "description_width": ""
          }
        },
        "539f8f9e81554246a6e338420b3df036": {
          "model_module": "@jupyter-widgets/base",
          "model_name": "LayoutModel",
          "model_module_version": "1.2.0",
          "state": {
            "_model_module": "@jupyter-widgets/base",
            "_model_module_version": "1.2.0",
            "_model_name": "LayoutModel",
            "_view_count": null,
            "_view_module": "@jupyter-widgets/base",
            "_view_module_version": "1.2.0",
            "_view_name": "LayoutView",
            "align_content": null,
            "align_items": null,
            "align_self": null,
            "border": null,
            "bottom": null,
            "display": null,
            "flex": null,
            "flex_flow": null,
            "grid_area": null,
            "grid_auto_columns": null,
            "grid_auto_flow": null,
            "grid_auto_rows": null,
            "grid_column": null,
            "grid_gap": null,
            "grid_row": null,
            "grid_template_areas": null,
            "grid_template_columns": null,
            "grid_template_rows": null,
            "height": null,
            "justify_content": null,
            "justify_items": null,
            "left": null,
            "margin": null,
            "max_height": null,
            "max_width": null,
            "min_height": null,
            "min_width": null,
            "object_fit": null,
            "object_position": null,
            "order": null,
            "overflow": null,
            "overflow_x": null,
            "overflow_y": null,
            "padding": null,
            "right": null,
            "top": null,
            "visibility": null,
            "width": null
          }
        },
        "bb5a65c32b0a41248e5daa54223533b1": {
          "model_module": "@jupyter-widgets/controls",
          "model_name": "ProgressStyleModel",
          "model_module_version": "1.5.0",
          "state": {
            "_model_module": "@jupyter-widgets/controls",
            "_model_module_version": "1.5.0",
            "_model_name": "ProgressStyleModel",
            "_view_count": null,
            "_view_module": "@jupyter-widgets/base",
            "_view_module_version": "1.2.0",
            "_view_name": "StyleView",
            "bar_color": null,
            "description_width": ""
          }
        },
        "6710220eadb14aa88af79c466af4a1ef": {
          "model_module": "@jupyter-widgets/base",
          "model_name": "LayoutModel",
          "model_module_version": "1.2.0",
          "state": {
            "_model_module": "@jupyter-widgets/base",
            "_model_module_version": "1.2.0",
            "_model_name": "LayoutModel",
            "_view_count": null,
            "_view_module": "@jupyter-widgets/base",
            "_view_module_version": "1.2.0",
            "_view_name": "LayoutView",
            "align_content": null,
            "align_items": null,
            "align_self": null,
            "border": null,
            "bottom": null,
            "display": null,
            "flex": null,
            "flex_flow": null,
            "grid_area": null,
            "grid_auto_columns": null,
            "grid_auto_flow": null,
            "grid_auto_rows": null,
            "grid_column": null,
            "grid_gap": null,
            "grid_row": null,
            "grid_template_areas": null,
            "grid_template_columns": null,
            "grid_template_rows": null,
            "height": null,
            "justify_content": null,
            "justify_items": null,
            "left": null,
            "margin": null,
            "max_height": null,
            "max_width": null,
            "min_height": null,
            "min_width": null,
            "object_fit": null,
            "object_position": null,
            "order": null,
            "overflow": null,
            "overflow_x": null,
            "overflow_y": null,
            "padding": null,
            "right": null,
            "top": null,
            "visibility": null,
            "width": null
          }
        },
        "096adeb024544785bc4c48e054ed16d0": {
          "model_module": "@jupyter-widgets/controls",
          "model_name": "DescriptionStyleModel",
          "model_module_version": "1.5.0",
          "state": {
            "_model_module": "@jupyter-widgets/controls",
            "_model_module_version": "1.5.0",
            "_model_name": "DescriptionStyleModel",
            "_view_count": null,
            "_view_module": "@jupyter-widgets/base",
            "_view_module_version": "1.2.0",
            "_view_name": "StyleView",
            "description_width": ""
          }
        },
        "8c61118f558e409391c7c9324571e54c": {
          "model_module": "@jupyter-widgets/controls",
          "model_name": "HBoxModel",
          "model_module_version": "1.5.0",
          "state": {
            "_dom_classes": [],
            "_model_module": "@jupyter-widgets/controls",
            "_model_module_version": "1.5.0",
            "_model_name": "HBoxModel",
            "_view_count": null,
            "_view_module": "@jupyter-widgets/controls",
            "_view_module_version": "1.5.0",
            "_view_name": "HBoxView",
            "box_style": "",
            "children": [
              "IPY_MODEL_0849a4c3379341e99121bc9c4bf12117",
              "IPY_MODEL_3277cf76c33e47209695dab09982ec4b",
              "IPY_MODEL_d61cc84cbc69462f8b8a2f271ef2f8a3"
            ],
            "layout": "IPY_MODEL_b45fe96e53324c26b0fa25c17cb8e625"
          }
        },
        "0849a4c3379341e99121bc9c4bf12117": {
          "model_module": "@jupyter-widgets/controls",
          "model_name": "HTMLModel",
          "model_module_version": "1.5.0",
          "state": {
            "_dom_classes": [],
            "_model_module": "@jupyter-widgets/controls",
            "_model_module_version": "1.5.0",
            "_model_name": "HTMLModel",
            "_view_count": null,
            "_view_module": "@jupyter-widgets/controls",
            "_view_module_version": "1.5.0",
            "_view_name": "HTMLView",
            "description": "",
            "description_tooltip": null,
            "layout": "IPY_MODEL_647c3717ef8e4614b2cdafcc40885ac3",
            "placeholder": "​",
            "style": "IPY_MODEL_a85cadd624194a3a9c49e038f2d8ed3d",
            "value": "pytorch_model-00020-of-00033.bin: 100%"
          }
        },
        "3277cf76c33e47209695dab09982ec4b": {
          "model_module": "@jupyter-widgets/controls",
          "model_name": "FloatProgressModel",
          "model_module_version": "1.5.0",
          "state": {
            "_dom_classes": [],
            "_model_module": "@jupyter-widgets/controls",
            "_model_module_version": "1.5.0",
            "_model_name": "FloatProgressModel",
            "_view_count": null,
            "_view_module": "@jupyter-widgets/controls",
            "_view_module_version": "1.5.0",
            "_view_name": "ProgressView",
            "bar_style": "success",
            "description": "",
            "description_tooltip": null,
            "layout": "IPY_MODEL_15a27853fcec492d89ebf86618ed8199",
            "max": 404770755,
            "min": 0,
            "orientation": "horizontal",
            "style": "IPY_MODEL_13d88fce9b8f4798895a71a889a4f87c",
            "value": 404770755
          }
        },
        "d61cc84cbc69462f8b8a2f271ef2f8a3": {
          "model_module": "@jupyter-widgets/controls",
          "model_name": "HTMLModel",
          "model_module_version": "1.5.0",
          "state": {
            "_dom_classes": [],
            "_model_module": "@jupyter-widgets/controls",
            "_model_module_version": "1.5.0",
            "_model_name": "HTMLModel",
            "_view_count": null,
            "_view_module": "@jupyter-widgets/controls",
            "_view_module_version": "1.5.0",
            "_view_name": "HTMLView",
            "description": "",
            "description_tooltip": null,
            "layout": "IPY_MODEL_b72d5fecb6cd42028aeeea87a35b185f",
            "placeholder": "​",
            "style": "IPY_MODEL_82ac46cfdf974378b844891cc62c5146",
            "value": " 405M/405M [00:01&lt;00:00, 245MB/s]"
          }
        },
        "b45fe96e53324c26b0fa25c17cb8e625": {
          "model_module": "@jupyter-widgets/base",
          "model_name": "LayoutModel",
          "model_module_version": "1.2.0",
          "state": {
            "_model_module": "@jupyter-widgets/base",
            "_model_module_version": "1.2.0",
            "_model_name": "LayoutModel",
            "_view_count": null,
            "_view_module": "@jupyter-widgets/base",
            "_view_module_version": "1.2.0",
            "_view_name": "LayoutView",
            "align_content": null,
            "align_items": null,
            "align_self": null,
            "border": null,
            "bottom": null,
            "display": null,
            "flex": null,
            "flex_flow": null,
            "grid_area": null,
            "grid_auto_columns": null,
            "grid_auto_flow": null,
            "grid_auto_rows": null,
            "grid_column": null,
            "grid_gap": null,
            "grid_row": null,
            "grid_template_areas": null,
            "grid_template_columns": null,
            "grid_template_rows": null,
            "height": null,
            "justify_content": null,
            "justify_items": null,
            "left": null,
            "margin": null,
            "max_height": null,
            "max_width": null,
            "min_height": null,
            "min_width": null,
            "object_fit": null,
            "object_position": null,
            "order": null,
            "overflow": null,
            "overflow_x": null,
            "overflow_y": null,
            "padding": null,
            "right": null,
            "top": null,
            "visibility": null,
            "width": null
          }
        },
        "647c3717ef8e4614b2cdafcc40885ac3": {
          "model_module": "@jupyter-widgets/base",
          "model_name": "LayoutModel",
          "model_module_version": "1.2.0",
          "state": {
            "_model_module": "@jupyter-widgets/base",
            "_model_module_version": "1.2.0",
            "_model_name": "LayoutModel",
            "_view_count": null,
            "_view_module": "@jupyter-widgets/base",
            "_view_module_version": "1.2.0",
            "_view_name": "LayoutView",
            "align_content": null,
            "align_items": null,
            "align_self": null,
            "border": null,
            "bottom": null,
            "display": null,
            "flex": null,
            "flex_flow": null,
            "grid_area": null,
            "grid_auto_columns": null,
            "grid_auto_flow": null,
            "grid_auto_rows": null,
            "grid_column": null,
            "grid_gap": null,
            "grid_row": null,
            "grid_template_areas": null,
            "grid_template_columns": null,
            "grid_template_rows": null,
            "height": null,
            "justify_content": null,
            "justify_items": null,
            "left": null,
            "margin": null,
            "max_height": null,
            "max_width": null,
            "min_height": null,
            "min_width": null,
            "object_fit": null,
            "object_position": null,
            "order": null,
            "overflow": null,
            "overflow_x": null,
            "overflow_y": null,
            "padding": null,
            "right": null,
            "top": null,
            "visibility": null,
            "width": null
          }
        },
        "a85cadd624194a3a9c49e038f2d8ed3d": {
          "model_module": "@jupyter-widgets/controls",
          "model_name": "DescriptionStyleModel",
          "model_module_version": "1.5.0",
          "state": {
            "_model_module": "@jupyter-widgets/controls",
            "_model_module_version": "1.5.0",
            "_model_name": "DescriptionStyleModel",
            "_view_count": null,
            "_view_module": "@jupyter-widgets/base",
            "_view_module_version": "1.2.0",
            "_view_name": "StyleView",
            "description_width": ""
          }
        },
        "15a27853fcec492d89ebf86618ed8199": {
          "model_module": "@jupyter-widgets/base",
          "model_name": "LayoutModel",
          "model_module_version": "1.2.0",
          "state": {
            "_model_module": "@jupyter-widgets/base",
            "_model_module_version": "1.2.0",
            "_model_name": "LayoutModel",
            "_view_count": null,
            "_view_module": "@jupyter-widgets/base",
            "_view_module_version": "1.2.0",
            "_view_name": "LayoutView",
            "align_content": null,
            "align_items": null,
            "align_self": null,
            "border": null,
            "bottom": null,
            "display": null,
            "flex": null,
            "flex_flow": null,
            "grid_area": null,
            "grid_auto_columns": null,
            "grid_auto_flow": null,
            "grid_auto_rows": null,
            "grid_column": null,
            "grid_gap": null,
            "grid_row": null,
            "grid_template_areas": null,
            "grid_template_columns": null,
            "grid_template_rows": null,
            "height": null,
            "justify_content": null,
            "justify_items": null,
            "left": null,
            "margin": null,
            "max_height": null,
            "max_width": null,
            "min_height": null,
            "min_width": null,
            "object_fit": null,
            "object_position": null,
            "order": null,
            "overflow": null,
            "overflow_x": null,
            "overflow_y": null,
            "padding": null,
            "right": null,
            "top": null,
            "visibility": null,
            "width": null
          }
        },
        "13d88fce9b8f4798895a71a889a4f87c": {
          "model_module": "@jupyter-widgets/controls",
          "model_name": "ProgressStyleModel",
          "model_module_version": "1.5.0",
          "state": {
            "_model_module": "@jupyter-widgets/controls",
            "_model_module_version": "1.5.0",
            "_model_name": "ProgressStyleModel",
            "_view_count": null,
            "_view_module": "@jupyter-widgets/base",
            "_view_module_version": "1.2.0",
            "_view_name": "StyleView",
            "bar_color": null,
            "description_width": ""
          }
        },
        "b72d5fecb6cd42028aeeea87a35b185f": {
          "model_module": "@jupyter-widgets/base",
          "model_name": "LayoutModel",
          "model_module_version": "1.2.0",
          "state": {
            "_model_module": "@jupyter-widgets/base",
            "_model_module_version": "1.2.0",
            "_model_name": "LayoutModel",
            "_view_count": null,
            "_view_module": "@jupyter-widgets/base",
            "_view_module_version": "1.2.0",
            "_view_name": "LayoutView",
            "align_content": null,
            "align_items": null,
            "align_self": null,
            "border": null,
            "bottom": null,
            "display": null,
            "flex": null,
            "flex_flow": null,
            "grid_area": null,
            "grid_auto_columns": null,
            "grid_auto_flow": null,
            "grid_auto_rows": null,
            "grid_column": null,
            "grid_gap": null,
            "grid_row": null,
            "grid_template_areas": null,
            "grid_template_columns": null,
            "grid_template_rows": null,
            "height": null,
            "justify_content": null,
            "justify_items": null,
            "left": null,
            "margin": null,
            "max_height": null,
            "max_width": null,
            "min_height": null,
            "min_width": null,
            "object_fit": null,
            "object_position": null,
            "order": null,
            "overflow": null,
            "overflow_x": null,
            "overflow_y": null,
            "padding": null,
            "right": null,
            "top": null,
            "visibility": null,
            "width": null
          }
        },
        "82ac46cfdf974378b844891cc62c5146": {
          "model_module": "@jupyter-widgets/controls",
          "model_name": "DescriptionStyleModel",
          "model_module_version": "1.5.0",
          "state": {
            "_model_module": "@jupyter-widgets/controls",
            "_model_module_version": "1.5.0",
            "_model_name": "DescriptionStyleModel",
            "_view_count": null,
            "_view_module": "@jupyter-widgets/base",
            "_view_module_version": "1.2.0",
            "_view_name": "StyleView",
            "description_width": ""
          }
        },
        "0ba1b39837b84668af34c060d3cfbcc3": {
          "model_module": "@jupyter-widgets/controls",
          "model_name": "HBoxModel",
          "model_module_version": "1.5.0",
          "state": {
            "_dom_classes": [],
            "_model_module": "@jupyter-widgets/controls",
            "_model_module_version": "1.5.0",
            "_model_name": "HBoxModel",
            "_view_count": null,
            "_view_module": "@jupyter-widgets/controls",
            "_view_module_version": "1.5.0",
            "_view_name": "HBoxView",
            "box_style": "",
            "children": [
              "IPY_MODEL_26f12552b4744b9898a052cd8f31ba7d",
              "IPY_MODEL_d1dbfac1ab1043748a6f300fd656ca34",
              "IPY_MODEL_db82e481b6ec4ccab2a82efc44febc87"
            ],
            "layout": "IPY_MODEL_c4d191fb4b384fb98eede107cea9c72b"
          }
        },
        "26f12552b4744b9898a052cd8f31ba7d": {
          "model_module": "@jupyter-widgets/controls",
          "model_name": "HTMLModel",
          "model_module_version": "1.5.0",
          "state": {
            "_dom_classes": [],
            "_model_module": "@jupyter-widgets/controls",
            "_model_module_version": "1.5.0",
            "_model_name": "HTMLModel",
            "_view_count": null,
            "_view_module": "@jupyter-widgets/controls",
            "_view_module_version": "1.5.0",
            "_view_name": "HTMLView",
            "description": "",
            "description_tooltip": null,
            "layout": "IPY_MODEL_38792569d42a4cd884fa80341303d2cf",
            "placeholder": "​",
            "style": "IPY_MODEL_f666135982194f5b8599fe2fffa352a8",
            "value": "pytorch_model-00021-of-00033.bin: 100%"
          }
        },
        "d1dbfac1ab1043748a6f300fd656ca34": {
          "model_module": "@jupyter-widgets/controls",
          "model_name": "FloatProgressModel",
          "model_module_version": "1.5.0",
          "state": {
            "_dom_classes": [],
            "_model_module": "@jupyter-widgets/controls",
            "_model_module_version": "1.5.0",
            "_model_name": "FloatProgressModel",
            "_view_count": null,
            "_view_module": "@jupyter-widgets/controls",
            "_view_module_version": "1.5.0",
            "_view_name": "ProgressView",
            "bar_style": "success",
            "description": "",
            "description_tooltip": null,
            "layout": "IPY_MODEL_60aea02b03294ea796159ed00e5bb817",
            "max": 404770755,
            "min": 0,
            "orientation": "horizontal",
            "style": "IPY_MODEL_988a4a4db58d4c1b92b12e994ffb3d13",
            "value": 404770755
          }
        },
        "db82e481b6ec4ccab2a82efc44febc87": {
          "model_module": "@jupyter-widgets/controls",
          "model_name": "HTMLModel",
          "model_module_version": "1.5.0",
          "state": {
            "_dom_classes": [],
            "_model_module": "@jupyter-widgets/controls",
            "_model_module_version": "1.5.0",
            "_model_name": "HTMLModel",
            "_view_count": null,
            "_view_module": "@jupyter-widgets/controls",
            "_view_module_version": "1.5.0",
            "_view_name": "HTMLView",
            "description": "",
            "description_tooltip": null,
            "layout": "IPY_MODEL_a839579c46304509a61df9903278f686",
            "placeholder": "​",
            "style": "IPY_MODEL_cebc728fe87a4d60bef76da9e2e708bb",
            "value": " 405M/405M [00:01&lt;00:00, 200MB/s]"
          }
        },
        "c4d191fb4b384fb98eede107cea9c72b": {
          "model_module": "@jupyter-widgets/base",
          "model_name": "LayoutModel",
          "model_module_version": "1.2.0",
          "state": {
            "_model_module": "@jupyter-widgets/base",
            "_model_module_version": "1.2.0",
            "_model_name": "LayoutModel",
            "_view_count": null,
            "_view_module": "@jupyter-widgets/base",
            "_view_module_version": "1.2.0",
            "_view_name": "LayoutView",
            "align_content": null,
            "align_items": null,
            "align_self": null,
            "border": null,
            "bottom": null,
            "display": null,
            "flex": null,
            "flex_flow": null,
            "grid_area": null,
            "grid_auto_columns": null,
            "grid_auto_flow": null,
            "grid_auto_rows": null,
            "grid_column": null,
            "grid_gap": null,
            "grid_row": null,
            "grid_template_areas": null,
            "grid_template_columns": null,
            "grid_template_rows": null,
            "height": null,
            "justify_content": null,
            "justify_items": null,
            "left": null,
            "margin": null,
            "max_height": null,
            "max_width": null,
            "min_height": null,
            "min_width": null,
            "object_fit": null,
            "object_position": null,
            "order": null,
            "overflow": null,
            "overflow_x": null,
            "overflow_y": null,
            "padding": null,
            "right": null,
            "top": null,
            "visibility": null,
            "width": null
          }
        },
        "38792569d42a4cd884fa80341303d2cf": {
          "model_module": "@jupyter-widgets/base",
          "model_name": "LayoutModel",
          "model_module_version": "1.2.0",
          "state": {
            "_model_module": "@jupyter-widgets/base",
            "_model_module_version": "1.2.0",
            "_model_name": "LayoutModel",
            "_view_count": null,
            "_view_module": "@jupyter-widgets/base",
            "_view_module_version": "1.2.0",
            "_view_name": "LayoutView",
            "align_content": null,
            "align_items": null,
            "align_self": null,
            "border": null,
            "bottom": null,
            "display": null,
            "flex": null,
            "flex_flow": null,
            "grid_area": null,
            "grid_auto_columns": null,
            "grid_auto_flow": null,
            "grid_auto_rows": null,
            "grid_column": null,
            "grid_gap": null,
            "grid_row": null,
            "grid_template_areas": null,
            "grid_template_columns": null,
            "grid_template_rows": null,
            "height": null,
            "justify_content": null,
            "justify_items": null,
            "left": null,
            "margin": null,
            "max_height": null,
            "max_width": null,
            "min_height": null,
            "min_width": null,
            "object_fit": null,
            "object_position": null,
            "order": null,
            "overflow": null,
            "overflow_x": null,
            "overflow_y": null,
            "padding": null,
            "right": null,
            "top": null,
            "visibility": null,
            "width": null
          }
        },
        "f666135982194f5b8599fe2fffa352a8": {
          "model_module": "@jupyter-widgets/controls",
          "model_name": "DescriptionStyleModel",
          "model_module_version": "1.5.0",
          "state": {
            "_model_module": "@jupyter-widgets/controls",
            "_model_module_version": "1.5.0",
            "_model_name": "DescriptionStyleModel",
            "_view_count": null,
            "_view_module": "@jupyter-widgets/base",
            "_view_module_version": "1.2.0",
            "_view_name": "StyleView",
            "description_width": ""
          }
        },
        "60aea02b03294ea796159ed00e5bb817": {
          "model_module": "@jupyter-widgets/base",
          "model_name": "LayoutModel",
          "model_module_version": "1.2.0",
          "state": {
            "_model_module": "@jupyter-widgets/base",
            "_model_module_version": "1.2.0",
            "_model_name": "LayoutModel",
            "_view_count": null,
            "_view_module": "@jupyter-widgets/base",
            "_view_module_version": "1.2.0",
            "_view_name": "LayoutView",
            "align_content": null,
            "align_items": null,
            "align_self": null,
            "border": null,
            "bottom": null,
            "display": null,
            "flex": null,
            "flex_flow": null,
            "grid_area": null,
            "grid_auto_columns": null,
            "grid_auto_flow": null,
            "grid_auto_rows": null,
            "grid_column": null,
            "grid_gap": null,
            "grid_row": null,
            "grid_template_areas": null,
            "grid_template_columns": null,
            "grid_template_rows": null,
            "height": null,
            "justify_content": null,
            "justify_items": null,
            "left": null,
            "margin": null,
            "max_height": null,
            "max_width": null,
            "min_height": null,
            "min_width": null,
            "object_fit": null,
            "object_position": null,
            "order": null,
            "overflow": null,
            "overflow_x": null,
            "overflow_y": null,
            "padding": null,
            "right": null,
            "top": null,
            "visibility": null,
            "width": null
          }
        },
        "988a4a4db58d4c1b92b12e994ffb3d13": {
          "model_module": "@jupyter-widgets/controls",
          "model_name": "ProgressStyleModel",
          "model_module_version": "1.5.0",
          "state": {
            "_model_module": "@jupyter-widgets/controls",
            "_model_module_version": "1.5.0",
            "_model_name": "ProgressStyleModel",
            "_view_count": null,
            "_view_module": "@jupyter-widgets/base",
            "_view_module_version": "1.2.0",
            "_view_name": "StyleView",
            "bar_color": null,
            "description_width": ""
          }
        },
        "a839579c46304509a61df9903278f686": {
          "model_module": "@jupyter-widgets/base",
          "model_name": "LayoutModel",
          "model_module_version": "1.2.0",
          "state": {
            "_model_module": "@jupyter-widgets/base",
            "_model_module_version": "1.2.0",
            "_model_name": "LayoutModel",
            "_view_count": null,
            "_view_module": "@jupyter-widgets/base",
            "_view_module_version": "1.2.0",
            "_view_name": "LayoutView",
            "align_content": null,
            "align_items": null,
            "align_self": null,
            "border": null,
            "bottom": null,
            "display": null,
            "flex": null,
            "flex_flow": null,
            "grid_area": null,
            "grid_auto_columns": null,
            "grid_auto_flow": null,
            "grid_auto_rows": null,
            "grid_column": null,
            "grid_gap": null,
            "grid_row": null,
            "grid_template_areas": null,
            "grid_template_columns": null,
            "grid_template_rows": null,
            "height": null,
            "justify_content": null,
            "justify_items": null,
            "left": null,
            "margin": null,
            "max_height": null,
            "max_width": null,
            "min_height": null,
            "min_width": null,
            "object_fit": null,
            "object_position": null,
            "order": null,
            "overflow": null,
            "overflow_x": null,
            "overflow_y": null,
            "padding": null,
            "right": null,
            "top": null,
            "visibility": null,
            "width": null
          }
        },
        "cebc728fe87a4d60bef76da9e2e708bb": {
          "model_module": "@jupyter-widgets/controls",
          "model_name": "DescriptionStyleModel",
          "model_module_version": "1.5.0",
          "state": {
            "_model_module": "@jupyter-widgets/controls",
            "_model_module_version": "1.5.0",
            "_model_name": "DescriptionStyleModel",
            "_view_count": null,
            "_view_module": "@jupyter-widgets/base",
            "_view_module_version": "1.2.0",
            "_view_name": "StyleView",
            "description_width": ""
          }
        },
        "fda133e6c31c4a039d48947b43b27e91": {
          "model_module": "@jupyter-widgets/controls",
          "model_name": "HBoxModel",
          "model_module_version": "1.5.0",
          "state": {
            "_dom_classes": [],
            "_model_module": "@jupyter-widgets/controls",
            "_model_module_version": "1.5.0",
            "_model_name": "HBoxModel",
            "_view_count": null,
            "_view_module": "@jupyter-widgets/controls",
            "_view_module_version": "1.5.0",
            "_view_name": "HBoxView",
            "box_style": "",
            "children": [
              "IPY_MODEL_f7129dbf672f40e2a3adb6ecb92fe6de",
              "IPY_MODEL_a6cecc55332f48568abd152e62209bf7",
              "IPY_MODEL_f6cc57586aa840e681f33d1ef173b831"
            ],
            "layout": "IPY_MODEL_f4cbd2112b594ddba4e146344a4d48be"
          }
        },
        "f7129dbf672f40e2a3adb6ecb92fe6de": {
          "model_module": "@jupyter-widgets/controls",
          "model_name": "HTMLModel",
          "model_module_version": "1.5.0",
          "state": {
            "_dom_classes": [],
            "_model_module": "@jupyter-widgets/controls",
            "_model_module_version": "1.5.0",
            "_model_name": "HTMLModel",
            "_view_count": null,
            "_view_module": "@jupyter-widgets/controls",
            "_view_module_version": "1.5.0",
            "_view_name": "HTMLView",
            "description": "",
            "description_tooltip": null,
            "layout": "IPY_MODEL_7411c9f3004f468aa2279c973c935954",
            "placeholder": "​",
            "style": "IPY_MODEL_452d03e5420244b1846f31fb4efbc0b3",
            "value": "pytorch_model-00022-of-00033.bin: 100%"
          }
        },
        "a6cecc55332f48568abd152e62209bf7": {
          "model_module": "@jupyter-widgets/controls",
          "model_name": "FloatProgressModel",
          "model_module_version": "1.5.0",
          "state": {
            "_dom_classes": [],
            "_model_module": "@jupyter-widgets/controls",
            "_model_module_version": "1.5.0",
            "_model_name": "FloatProgressModel",
            "_view_count": null,
            "_view_module": "@jupyter-widgets/controls",
            "_view_module_version": "1.5.0",
            "_view_name": "ProgressView",
            "bar_style": "success",
            "description": "",
            "description_tooltip": null,
            "layout": "IPY_MODEL_a1579e4fbbdf4f6699da68b6ded70b5a",
            "max": 404770755,
            "min": 0,
            "orientation": "horizontal",
            "style": "IPY_MODEL_138e25c84e8f428fbd47fb0b9f159d08",
            "value": 404770755
          }
        },
        "f6cc57586aa840e681f33d1ef173b831": {
          "model_module": "@jupyter-widgets/controls",
          "model_name": "HTMLModel",
          "model_module_version": "1.5.0",
          "state": {
            "_dom_classes": [],
            "_model_module": "@jupyter-widgets/controls",
            "_model_module_version": "1.5.0",
            "_model_name": "HTMLModel",
            "_view_count": null,
            "_view_module": "@jupyter-widgets/controls",
            "_view_module_version": "1.5.0",
            "_view_name": "HTMLView",
            "description": "",
            "description_tooltip": null,
            "layout": "IPY_MODEL_47c7651b9e9e4948aecfe9f0ce45edfd",
            "placeholder": "​",
            "style": "IPY_MODEL_96438c3f28064ac987fae9b6b5c84831",
            "value": " 405M/405M [00:05&lt;00:00, 107MB/s]"
          }
        },
        "f4cbd2112b594ddba4e146344a4d48be": {
          "model_module": "@jupyter-widgets/base",
          "model_name": "LayoutModel",
          "model_module_version": "1.2.0",
          "state": {
            "_model_module": "@jupyter-widgets/base",
            "_model_module_version": "1.2.0",
            "_model_name": "LayoutModel",
            "_view_count": null,
            "_view_module": "@jupyter-widgets/base",
            "_view_module_version": "1.2.0",
            "_view_name": "LayoutView",
            "align_content": null,
            "align_items": null,
            "align_self": null,
            "border": null,
            "bottom": null,
            "display": null,
            "flex": null,
            "flex_flow": null,
            "grid_area": null,
            "grid_auto_columns": null,
            "grid_auto_flow": null,
            "grid_auto_rows": null,
            "grid_column": null,
            "grid_gap": null,
            "grid_row": null,
            "grid_template_areas": null,
            "grid_template_columns": null,
            "grid_template_rows": null,
            "height": null,
            "justify_content": null,
            "justify_items": null,
            "left": null,
            "margin": null,
            "max_height": null,
            "max_width": null,
            "min_height": null,
            "min_width": null,
            "object_fit": null,
            "object_position": null,
            "order": null,
            "overflow": null,
            "overflow_x": null,
            "overflow_y": null,
            "padding": null,
            "right": null,
            "top": null,
            "visibility": null,
            "width": null
          }
        },
        "7411c9f3004f468aa2279c973c935954": {
          "model_module": "@jupyter-widgets/base",
          "model_name": "LayoutModel",
          "model_module_version": "1.2.0",
          "state": {
            "_model_module": "@jupyter-widgets/base",
            "_model_module_version": "1.2.0",
            "_model_name": "LayoutModel",
            "_view_count": null,
            "_view_module": "@jupyter-widgets/base",
            "_view_module_version": "1.2.0",
            "_view_name": "LayoutView",
            "align_content": null,
            "align_items": null,
            "align_self": null,
            "border": null,
            "bottom": null,
            "display": null,
            "flex": null,
            "flex_flow": null,
            "grid_area": null,
            "grid_auto_columns": null,
            "grid_auto_flow": null,
            "grid_auto_rows": null,
            "grid_column": null,
            "grid_gap": null,
            "grid_row": null,
            "grid_template_areas": null,
            "grid_template_columns": null,
            "grid_template_rows": null,
            "height": null,
            "justify_content": null,
            "justify_items": null,
            "left": null,
            "margin": null,
            "max_height": null,
            "max_width": null,
            "min_height": null,
            "min_width": null,
            "object_fit": null,
            "object_position": null,
            "order": null,
            "overflow": null,
            "overflow_x": null,
            "overflow_y": null,
            "padding": null,
            "right": null,
            "top": null,
            "visibility": null,
            "width": null
          }
        },
        "452d03e5420244b1846f31fb4efbc0b3": {
          "model_module": "@jupyter-widgets/controls",
          "model_name": "DescriptionStyleModel",
          "model_module_version": "1.5.0",
          "state": {
            "_model_module": "@jupyter-widgets/controls",
            "_model_module_version": "1.5.0",
            "_model_name": "DescriptionStyleModel",
            "_view_count": null,
            "_view_module": "@jupyter-widgets/base",
            "_view_module_version": "1.2.0",
            "_view_name": "StyleView",
            "description_width": ""
          }
        },
        "a1579e4fbbdf4f6699da68b6ded70b5a": {
          "model_module": "@jupyter-widgets/base",
          "model_name": "LayoutModel",
          "model_module_version": "1.2.0",
          "state": {
            "_model_module": "@jupyter-widgets/base",
            "_model_module_version": "1.2.0",
            "_model_name": "LayoutModel",
            "_view_count": null,
            "_view_module": "@jupyter-widgets/base",
            "_view_module_version": "1.2.0",
            "_view_name": "LayoutView",
            "align_content": null,
            "align_items": null,
            "align_self": null,
            "border": null,
            "bottom": null,
            "display": null,
            "flex": null,
            "flex_flow": null,
            "grid_area": null,
            "grid_auto_columns": null,
            "grid_auto_flow": null,
            "grid_auto_rows": null,
            "grid_column": null,
            "grid_gap": null,
            "grid_row": null,
            "grid_template_areas": null,
            "grid_template_columns": null,
            "grid_template_rows": null,
            "height": null,
            "justify_content": null,
            "justify_items": null,
            "left": null,
            "margin": null,
            "max_height": null,
            "max_width": null,
            "min_height": null,
            "min_width": null,
            "object_fit": null,
            "object_position": null,
            "order": null,
            "overflow": null,
            "overflow_x": null,
            "overflow_y": null,
            "padding": null,
            "right": null,
            "top": null,
            "visibility": null,
            "width": null
          }
        },
        "138e25c84e8f428fbd47fb0b9f159d08": {
          "model_module": "@jupyter-widgets/controls",
          "model_name": "ProgressStyleModel",
          "model_module_version": "1.5.0",
          "state": {
            "_model_module": "@jupyter-widgets/controls",
            "_model_module_version": "1.5.0",
            "_model_name": "ProgressStyleModel",
            "_view_count": null,
            "_view_module": "@jupyter-widgets/base",
            "_view_module_version": "1.2.0",
            "_view_name": "StyleView",
            "bar_color": null,
            "description_width": ""
          }
        },
        "47c7651b9e9e4948aecfe9f0ce45edfd": {
          "model_module": "@jupyter-widgets/base",
          "model_name": "LayoutModel",
          "model_module_version": "1.2.0",
          "state": {
            "_model_module": "@jupyter-widgets/base",
            "_model_module_version": "1.2.0",
            "_model_name": "LayoutModel",
            "_view_count": null,
            "_view_module": "@jupyter-widgets/base",
            "_view_module_version": "1.2.0",
            "_view_name": "LayoutView",
            "align_content": null,
            "align_items": null,
            "align_self": null,
            "border": null,
            "bottom": null,
            "display": null,
            "flex": null,
            "flex_flow": null,
            "grid_area": null,
            "grid_auto_columns": null,
            "grid_auto_flow": null,
            "grid_auto_rows": null,
            "grid_column": null,
            "grid_gap": null,
            "grid_row": null,
            "grid_template_areas": null,
            "grid_template_columns": null,
            "grid_template_rows": null,
            "height": null,
            "justify_content": null,
            "justify_items": null,
            "left": null,
            "margin": null,
            "max_height": null,
            "max_width": null,
            "min_height": null,
            "min_width": null,
            "object_fit": null,
            "object_position": null,
            "order": null,
            "overflow": null,
            "overflow_x": null,
            "overflow_y": null,
            "padding": null,
            "right": null,
            "top": null,
            "visibility": null,
            "width": null
          }
        },
        "96438c3f28064ac987fae9b6b5c84831": {
          "model_module": "@jupyter-widgets/controls",
          "model_name": "DescriptionStyleModel",
          "model_module_version": "1.5.0",
          "state": {
            "_model_module": "@jupyter-widgets/controls",
            "_model_module_version": "1.5.0",
            "_model_name": "DescriptionStyleModel",
            "_view_count": null,
            "_view_module": "@jupyter-widgets/base",
            "_view_module_version": "1.2.0",
            "_view_name": "StyleView",
            "description_width": ""
          }
        },
        "5d104aba7d7548b38aecc5b6ce5031ff": {
          "model_module": "@jupyter-widgets/controls",
          "model_name": "HBoxModel",
          "model_module_version": "1.5.0",
          "state": {
            "_dom_classes": [],
            "_model_module": "@jupyter-widgets/controls",
            "_model_module_version": "1.5.0",
            "_model_name": "HBoxModel",
            "_view_count": null,
            "_view_module": "@jupyter-widgets/controls",
            "_view_module_version": "1.5.0",
            "_view_name": "HBoxView",
            "box_style": "",
            "children": [
              "IPY_MODEL_27d7781e7e59435c99939e8b1d758f3b",
              "IPY_MODEL_67bc0c5ad4d84018ae1c9db6745f33dd",
              "IPY_MODEL_a521cb744b2d4ea08caff8971e476dbb"
            ],
            "layout": "IPY_MODEL_6b53e69b757649deb0c9176ea25e590b"
          }
        },
        "27d7781e7e59435c99939e8b1d758f3b": {
          "model_module": "@jupyter-widgets/controls",
          "model_name": "HTMLModel",
          "model_module_version": "1.5.0",
          "state": {
            "_dom_classes": [],
            "_model_module": "@jupyter-widgets/controls",
            "_model_module_version": "1.5.0",
            "_model_name": "HTMLModel",
            "_view_count": null,
            "_view_module": "@jupyter-widgets/controls",
            "_view_module_version": "1.5.0",
            "_view_name": "HTMLView",
            "description": "",
            "description_tooltip": null,
            "layout": "IPY_MODEL_029fa6a205cb4681a0e2db14ea37902d",
            "placeholder": "​",
            "style": "IPY_MODEL_21344f74a7894f309b2d73aef9e88203",
            "value": "pytorch_model-00023-of-00033.bin: 100%"
          }
        },
        "67bc0c5ad4d84018ae1c9db6745f33dd": {
          "model_module": "@jupyter-widgets/controls",
          "model_name": "FloatProgressModel",
          "model_module_version": "1.5.0",
          "state": {
            "_dom_classes": [],
            "_model_module": "@jupyter-widgets/controls",
            "_model_module_version": "1.5.0",
            "_model_name": "FloatProgressModel",
            "_view_count": null,
            "_view_module": "@jupyter-widgets/controls",
            "_view_module_version": "1.5.0",
            "_view_name": "ProgressView",
            "bar_style": "success",
            "description": "",
            "description_tooltip": null,
            "layout": "IPY_MODEL_4bcdd3a66c4b4868a1b9f05d037ca460",
            "max": 404770755,
            "min": 0,
            "orientation": "horizontal",
            "style": "IPY_MODEL_c94061b5e0f444239ab71144d4fef5cb",
            "value": 404770755
          }
        },
        "a521cb744b2d4ea08caff8971e476dbb": {
          "model_module": "@jupyter-widgets/controls",
          "model_name": "HTMLModel",
          "model_module_version": "1.5.0",
          "state": {
            "_dom_classes": [],
            "_model_module": "@jupyter-widgets/controls",
            "_model_module_version": "1.5.0",
            "_model_name": "HTMLModel",
            "_view_count": null,
            "_view_module": "@jupyter-widgets/controls",
            "_view_module_version": "1.5.0",
            "_view_name": "HTMLView",
            "description": "",
            "description_tooltip": null,
            "layout": "IPY_MODEL_bbd49f4143184f828bd66e80200df7e5",
            "placeholder": "​",
            "style": "IPY_MODEL_8dedcf5a410a4384badcff92cf463bf0",
            "value": " 405M/405M [00:01&lt;00:00, 178MB/s]"
          }
        },
        "6b53e69b757649deb0c9176ea25e590b": {
          "model_module": "@jupyter-widgets/base",
          "model_name": "LayoutModel",
          "model_module_version": "1.2.0",
          "state": {
            "_model_module": "@jupyter-widgets/base",
            "_model_module_version": "1.2.0",
            "_model_name": "LayoutModel",
            "_view_count": null,
            "_view_module": "@jupyter-widgets/base",
            "_view_module_version": "1.2.0",
            "_view_name": "LayoutView",
            "align_content": null,
            "align_items": null,
            "align_self": null,
            "border": null,
            "bottom": null,
            "display": null,
            "flex": null,
            "flex_flow": null,
            "grid_area": null,
            "grid_auto_columns": null,
            "grid_auto_flow": null,
            "grid_auto_rows": null,
            "grid_column": null,
            "grid_gap": null,
            "grid_row": null,
            "grid_template_areas": null,
            "grid_template_columns": null,
            "grid_template_rows": null,
            "height": null,
            "justify_content": null,
            "justify_items": null,
            "left": null,
            "margin": null,
            "max_height": null,
            "max_width": null,
            "min_height": null,
            "min_width": null,
            "object_fit": null,
            "object_position": null,
            "order": null,
            "overflow": null,
            "overflow_x": null,
            "overflow_y": null,
            "padding": null,
            "right": null,
            "top": null,
            "visibility": null,
            "width": null
          }
        },
        "029fa6a205cb4681a0e2db14ea37902d": {
          "model_module": "@jupyter-widgets/base",
          "model_name": "LayoutModel",
          "model_module_version": "1.2.0",
          "state": {
            "_model_module": "@jupyter-widgets/base",
            "_model_module_version": "1.2.0",
            "_model_name": "LayoutModel",
            "_view_count": null,
            "_view_module": "@jupyter-widgets/base",
            "_view_module_version": "1.2.0",
            "_view_name": "LayoutView",
            "align_content": null,
            "align_items": null,
            "align_self": null,
            "border": null,
            "bottom": null,
            "display": null,
            "flex": null,
            "flex_flow": null,
            "grid_area": null,
            "grid_auto_columns": null,
            "grid_auto_flow": null,
            "grid_auto_rows": null,
            "grid_column": null,
            "grid_gap": null,
            "grid_row": null,
            "grid_template_areas": null,
            "grid_template_columns": null,
            "grid_template_rows": null,
            "height": null,
            "justify_content": null,
            "justify_items": null,
            "left": null,
            "margin": null,
            "max_height": null,
            "max_width": null,
            "min_height": null,
            "min_width": null,
            "object_fit": null,
            "object_position": null,
            "order": null,
            "overflow": null,
            "overflow_x": null,
            "overflow_y": null,
            "padding": null,
            "right": null,
            "top": null,
            "visibility": null,
            "width": null
          }
        },
        "21344f74a7894f309b2d73aef9e88203": {
          "model_module": "@jupyter-widgets/controls",
          "model_name": "DescriptionStyleModel",
          "model_module_version": "1.5.0",
          "state": {
            "_model_module": "@jupyter-widgets/controls",
            "_model_module_version": "1.5.0",
            "_model_name": "DescriptionStyleModel",
            "_view_count": null,
            "_view_module": "@jupyter-widgets/base",
            "_view_module_version": "1.2.0",
            "_view_name": "StyleView",
            "description_width": ""
          }
        },
        "4bcdd3a66c4b4868a1b9f05d037ca460": {
          "model_module": "@jupyter-widgets/base",
          "model_name": "LayoutModel",
          "model_module_version": "1.2.0",
          "state": {
            "_model_module": "@jupyter-widgets/base",
            "_model_module_version": "1.2.0",
            "_model_name": "LayoutModel",
            "_view_count": null,
            "_view_module": "@jupyter-widgets/base",
            "_view_module_version": "1.2.0",
            "_view_name": "LayoutView",
            "align_content": null,
            "align_items": null,
            "align_self": null,
            "border": null,
            "bottom": null,
            "display": null,
            "flex": null,
            "flex_flow": null,
            "grid_area": null,
            "grid_auto_columns": null,
            "grid_auto_flow": null,
            "grid_auto_rows": null,
            "grid_column": null,
            "grid_gap": null,
            "grid_row": null,
            "grid_template_areas": null,
            "grid_template_columns": null,
            "grid_template_rows": null,
            "height": null,
            "justify_content": null,
            "justify_items": null,
            "left": null,
            "margin": null,
            "max_height": null,
            "max_width": null,
            "min_height": null,
            "min_width": null,
            "object_fit": null,
            "object_position": null,
            "order": null,
            "overflow": null,
            "overflow_x": null,
            "overflow_y": null,
            "padding": null,
            "right": null,
            "top": null,
            "visibility": null,
            "width": null
          }
        },
        "c94061b5e0f444239ab71144d4fef5cb": {
          "model_module": "@jupyter-widgets/controls",
          "model_name": "ProgressStyleModel",
          "model_module_version": "1.5.0",
          "state": {
            "_model_module": "@jupyter-widgets/controls",
            "_model_module_version": "1.5.0",
            "_model_name": "ProgressStyleModel",
            "_view_count": null,
            "_view_module": "@jupyter-widgets/base",
            "_view_module_version": "1.2.0",
            "_view_name": "StyleView",
            "bar_color": null,
            "description_width": ""
          }
        },
        "bbd49f4143184f828bd66e80200df7e5": {
          "model_module": "@jupyter-widgets/base",
          "model_name": "LayoutModel",
          "model_module_version": "1.2.0",
          "state": {
            "_model_module": "@jupyter-widgets/base",
            "_model_module_version": "1.2.0",
            "_model_name": "LayoutModel",
            "_view_count": null,
            "_view_module": "@jupyter-widgets/base",
            "_view_module_version": "1.2.0",
            "_view_name": "LayoutView",
            "align_content": null,
            "align_items": null,
            "align_self": null,
            "border": null,
            "bottom": null,
            "display": null,
            "flex": null,
            "flex_flow": null,
            "grid_area": null,
            "grid_auto_columns": null,
            "grid_auto_flow": null,
            "grid_auto_rows": null,
            "grid_column": null,
            "grid_gap": null,
            "grid_row": null,
            "grid_template_areas": null,
            "grid_template_columns": null,
            "grid_template_rows": null,
            "height": null,
            "justify_content": null,
            "justify_items": null,
            "left": null,
            "margin": null,
            "max_height": null,
            "max_width": null,
            "min_height": null,
            "min_width": null,
            "object_fit": null,
            "object_position": null,
            "order": null,
            "overflow": null,
            "overflow_x": null,
            "overflow_y": null,
            "padding": null,
            "right": null,
            "top": null,
            "visibility": null,
            "width": null
          }
        },
        "8dedcf5a410a4384badcff92cf463bf0": {
          "model_module": "@jupyter-widgets/controls",
          "model_name": "DescriptionStyleModel",
          "model_module_version": "1.5.0",
          "state": {
            "_model_module": "@jupyter-widgets/controls",
            "_model_module_version": "1.5.0",
            "_model_name": "DescriptionStyleModel",
            "_view_count": null,
            "_view_module": "@jupyter-widgets/base",
            "_view_module_version": "1.2.0",
            "_view_name": "StyleView",
            "description_width": ""
          }
        },
        "db37a9647eaa4f18aa8d69af59238de8": {
          "model_module": "@jupyter-widgets/controls",
          "model_name": "HBoxModel",
          "model_module_version": "1.5.0",
          "state": {
            "_dom_classes": [],
            "_model_module": "@jupyter-widgets/controls",
            "_model_module_version": "1.5.0",
            "_model_name": "HBoxModel",
            "_view_count": null,
            "_view_module": "@jupyter-widgets/controls",
            "_view_module_version": "1.5.0",
            "_view_name": "HBoxView",
            "box_style": "",
            "children": [
              "IPY_MODEL_e7bde5afbf3b4e44a104094c886d59be",
              "IPY_MODEL_cae1902ffa1c4fb99e7d70ec49d637ae",
              "IPY_MODEL_101b37e7d1b04a759493d9900241b5ca"
            ],
            "layout": "IPY_MODEL_7e6ab3e09bbf491eaee185dd2c418f79"
          }
        },
        "e7bde5afbf3b4e44a104094c886d59be": {
          "model_module": "@jupyter-widgets/controls",
          "model_name": "HTMLModel",
          "model_module_version": "1.5.0",
          "state": {
            "_dom_classes": [],
            "_model_module": "@jupyter-widgets/controls",
            "_model_module_version": "1.5.0",
            "_model_name": "HTMLModel",
            "_view_count": null,
            "_view_module": "@jupyter-widgets/controls",
            "_view_module_version": "1.5.0",
            "_view_name": "HTMLView",
            "description": "",
            "description_tooltip": null,
            "layout": "IPY_MODEL_c575beeb8d284335a70cba66efb414e5",
            "placeholder": "​",
            "style": "IPY_MODEL_510f8adcbf4d44ea9d6cd29d00f15963",
            "value": "pytorch_model-00024-of-00033.bin: 100%"
          }
        },
        "cae1902ffa1c4fb99e7d70ec49d637ae": {
          "model_module": "@jupyter-widgets/controls",
          "model_name": "FloatProgressModel",
          "model_module_version": "1.5.0",
          "state": {
            "_dom_classes": [],
            "_model_module": "@jupyter-widgets/controls",
            "_model_module_version": "1.5.0",
            "_model_name": "FloatProgressModel",
            "_view_count": null,
            "_view_module": "@jupyter-widgets/controls",
            "_view_module_version": "1.5.0",
            "_view_name": "ProgressView",
            "bar_style": "success",
            "description": "",
            "description_tooltip": null,
            "layout": "IPY_MODEL_76afa8dd6e124f448d66ea7322aec611",
            "max": 404770755,
            "min": 0,
            "orientation": "horizontal",
            "style": "IPY_MODEL_6682cff0e7144187a7cbbecf4bcff854",
            "value": 404770755
          }
        },
        "101b37e7d1b04a759493d9900241b5ca": {
          "model_module": "@jupyter-widgets/controls",
          "model_name": "HTMLModel",
          "model_module_version": "1.5.0",
          "state": {
            "_dom_classes": [],
            "_model_module": "@jupyter-widgets/controls",
            "_model_module_version": "1.5.0",
            "_model_name": "HTMLModel",
            "_view_count": null,
            "_view_module": "@jupyter-widgets/controls",
            "_view_module_version": "1.5.0",
            "_view_name": "HTMLView",
            "description": "",
            "description_tooltip": null,
            "layout": "IPY_MODEL_a200440de13f4e0b8f9df74cdd67dc6e",
            "placeholder": "​",
            "style": "IPY_MODEL_11ca98306ed348a1beca23197d874ecf",
            "value": " 405M/405M [00:03&lt;00:00, 182MB/s]"
          }
        },
        "7e6ab3e09bbf491eaee185dd2c418f79": {
          "model_module": "@jupyter-widgets/base",
          "model_name": "LayoutModel",
          "model_module_version": "1.2.0",
          "state": {
            "_model_module": "@jupyter-widgets/base",
            "_model_module_version": "1.2.0",
            "_model_name": "LayoutModel",
            "_view_count": null,
            "_view_module": "@jupyter-widgets/base",
            "_view_module_version": "1.2.0",
            "_view_name": "LayoutView",
            "align_content": null,
            "align_items": null,
            "align_self": null,
            "border": null,
            "bottom": null,
            "display": null,
            "flex": null,
            "flex_flow": null,
            "grid_area": null,
            "grid_auto_columns": null,
            "grid_auto_flow": null,
            "grid_auto_rows": null,
            "grid_column": null,
            "grid_gap": null,
            "grid_row": null,
            "grid_template_areas": null,
            "grid_template_columns": null,
            "grid_template_rows": null,
            "height": null,
            "justify_content": null,
            "justify_items": null,
            "left": null,
            "margin": null,
            "max_height": null,
            "max_width": null,
            "min_height": null,
            "min_width": null,
            "object_fit": null,
            "object_position": null,
            "order": null,
            "overflow": null,
            "overflow_x": null,
            "overflow_y": null,
            "padding": null,
            "right": null,
            "top": null,
            "visibility": null,
            "width": null
          }
        },
        "c575beeb8d284335a70cba66efb414e5": {
          "model_module": "@jupyter-widgets/base",
          "model_name": "LayoutModel",
          "model_module_version": "1.2.0",
          "state": {
            "_model_module": "@jupyter-widgets/base",
            "_model_module_version": "1.2.0",
            "_model_name": "LayoutModel",
            "_view_count": null,
            "_view_module": "@jupyter-widgets/base",
            "_view_module_version": "1.2.0",
            "_view_name": "LayoutView",
            "align_content": null,
            "align_items": null,
            "align_self": null,
            "border": null,
            "bottom": null,
            "display": null,
            "flex": null,
            "flex_flow": null,
            "grid_area": null,
            "grid_auto_columns": null,
            "grid_auto_flow": null,
            "grid_auto_rows": null,
            "grid_column": null,
            "grid_gap": null,
            "grid_row": null,
            "grid_template_areas": null,
            "grid_template_columns": null,
            "grid_template_rows": null,
            "height": null,
            "justify_content": null,
            "justify_items": null,
            "left": null,
            "margin": null,
            "max_height": null,
            "max_width": null,
            "min_height": null,
            "min_width": null,
            "object_fit": null,
            "object_position": null,
            "order": null,
            "overflow": null,
            "overflow_x": null,
            "overflow_y": null,
            "padding": null,
            "right": null,
            "top": null,
            "visibility": null,
            "width": null
          }
        },
        "510f8adcbf4d44ea9d6cd29d00f15963": {
          "model_module": "@jupyter-widgets/controls",
          "model_name": "DescriptionStyleModel",
          "model_module_version": "1.5.0",
          "state": {
            "_model_module": "@jupyter-widgets/controls",
            "_model_module_version": "1.5.0",
            "_model_name": "DescriptionStyleModel",
            "_view_count": null,
            "_view_module": "@jupyter-widgets/base",
            "_view_module_version": "1.2.0",
            "_view_name": "StyleView",
            "description_width": ""
          }
        },
        "76afa8dd6e124f448d66ea7322aec611": {
          "model_module": "@jupyter-widgets/base",
          "model_name": "LayoutModel",
          "model_module_version": "1.2.0",
          "state": {
            "_model_module": "@jupyter-widgets/base",
            "_model_module_version": "1.2.0",
            "_model_name": "LayoutModel",
            "_view_count": null,
            "_view_module": "@jupyter-widgets/base",
            "_view_module_version": "1.2.0",
            "_view_name": "LayoutView",
            "align_content": null,
            "align_items": null,
            "align_self": null,
            "border": null,
            "bottom": null,
            "display": null,
            "flex": null,
            "flex_flow": null,
            "grid_area": null,
            "grid_auto_columns": null,
            "grid_auto_flow": null,
            "grid_auto_rows": null,
            "grid_column": null,
            "grid_gap": null,
            "grid_row": null,
            "grid_template_areas": null,
            "grid_template_columns": null,
            "grid_template_rows": null,
            "height": null,
            "justify_content": null,
            "justify_items": null,
            "left": null,
            "margin": null,
            "max_height": null,
            "max_width": null,
            "min_height": null,
            "min_width": null,
            "object_fit": null,
            "object_position": null,
            "order": null,
            "overflow": null,
            "overflow_x": null,
            "overflow_y": null,
            "padding": null,
            "right": null,
            "top": null,
            "visibility": null,
            "width": null
          }
        },
        "6682cff0e7144187a7cbbecf4bcff854": {
          "model_module": "@jupyter-widgets/controls",
          "model_name": "ProgressStyleModel",
          "model_module_version": "1.5.0",
          "state": {
            "_model_module": "@jupyter-widgets/controls",
            "_model_module_version": "1.5.0",
            "_model_name": "ProgressStyleModel",
            "_view_count": null,
            "_view_module": "@jupyter-widgets/base",
            "_view_module_version": "1.2.0",
            "_view_name": "StyleView",
            "bar_color": null,
            "description_width": ""
          }
        },
        "a200440de13f4e0b8f9df74cdd67dc6e": {
          "model_module": "@jupyter-widgets/base",
          "model_name": "LayoutModel",
          "model_module_version": "1.2.0",
          "state": {
            "_model_module": "@jupyter-widgets/base",
            "_model_module_version": "1.2.0",
            "_model_name": "LayoutModel",
            "_view_count": null,
            "_view_module": "@jupyter-widgets/base",
            "_view_module_version": "1.2.0",
            "_view_name": "LayoutView",
            "align_content": null,
            "align_items": null,
            "align_self": null,
            "border": null,
            "bottom": null,
            "display": null,
            "flex": null,
            "flex_flow": null,
            "grid_area": null,
            "grid_auto_columns": null,
            "grid_auto_flow": null,
            "grid_auto_rows": null,
            "grid_column": null,
            "grid_gap": null,
            "grid_row": null,
            "grid_template_areas": null,
            "grid_template_columns": null,
            "grid_template_rows": null,
            "height": null,
            "justify_content": null,
            "justify_items": null,
            "left": null,
            "margin": null,
            "max_height": null,
            "max_width": null,
            "min_height": null,
            "min_width": null,
            "object_fit": null,
            "object_position": null,
            "order": null,
            "overflow": null,
            "overflow_x": null,
            "overflow_y": null,
            "padding": null,
            "right": null,
            "top": null,
            "visibility": null,
            "width": null
          }
        },
        "11ca98306ed348a1beca23197d874ecf": {
          "model_module": "@jupyter-widgets/controls",
          "model_name": "DescriptionStyleModel",
          "model_module_version": "1.5.0",
          "state": {
            "_model_module": "@jupyter-widgets/controls",
            "_model_module_version": "1.5.0",
            "_model_name": "DescriptionStyleModel",
            "_view_count": null,
            "_view_module": "@jupyter-widgets/base",
            "_view_module_version": "1.2.0",
            "_view_name": "StyleView",
            "description_width": ""
          }
        },
        "c42f1c50ea0d4fefbf16019de9e2ebd3": {
          "model_module": "@jupyter-widgets/controls",
          "model_name": "HBoxModel",
          "model_module_version": "1.5.0",
          "state": {
            "_dom_classes": [],
            "_model_module": "@jupyter-widgets/controls",
            "_model_module_version": "1.5.0",
            "_model_name": "HBoxModel",
            "_view_count": null,
            "_view_module": "@jupyter-widgets/controls",
            "_view_module_version": "1.5.0",
            "_view_name": "HBoxView",
            "box_style": "",
            "children": [
              "IPY_MODEL_069081a7a797434e95aeeae3b7de8c46",
              "IPY_MODEL_8e1c6c95eb0745888a7d69ec6fefc111",
              "IPY_MODEL_505d047353b5409786850a0ae0c2c7e5"
            ],
            "layout": "IPY_MODEL_deefb8860ec146d288712fe60bc74073"
          }
        },
        "069081a7a797434e95aeeae3b7de8c46": {
          "model_module": "@jupyter-widgets/controls",
          "model_name": "HTMLModel",
          "model_module_version": "1.5.0",
          "state": {
            "_dom_classes": [],
            "_model_module": "@jupyter-widgets/controls",
            "_model_module_version": "1.5.0",
            "_model_name": "HTMLModel",
            "_view_count": null,
            "_view_module": "@jupyter-widgets/controls",
            "_view_module_version": "1.5.0",
            "_view_name": "HTMLView",
            "description": "",
            "description_tooltip": null,
            "layout": "IPY_MODEL_ed75e7fed23f41918a1f39e20a9af778",
            "placeholder": "​",
            "style": "IPY_MODEL_aa6891dec84b4af5809b69aab0bd6136",
            "value": "pytorch_model-00025-of-00033.bin: 100%"
          }
        },
        "8e1c6c95eb0745888a7d69ec6fefc111": {
          "model_module": "@jupyter-widgets/controls",
          "model_name": "FloatProgressModel",
          "model_module_version": "1.5.0",
          "state": {
            "_dom_classes": [],
            "_model_module": "@jupyter-widgets/controls",
            "_model_module_version": "1.5.0",
            "_model_name": "FloatProgressModel",
            "_view_count": null,
            "_view_module": "@jupyter-widgets/controls",
            "_view_module_version": "1.5.0",
            "_view_name": "ProgressView",
            "bar_style": "success",
            "description": "",
            "description_tooltip": null,
            "layout": "IPY_MODEL_4a04fa21f67b464db07249a2cf34fe3d",
            "max": 404770755,
            "min": 0,
            "orientation": "horizontal",
            "style": "IPY_MODEL_ec6066cbaddc4dd1a36af0e54252600d",
            "value": 404770755
          }
        },
        "505d047353b5409786850a0ae0c2c7e5": {
          "model_module": "@jupyter-widgets/controls",
          "model_name": "HTMLModel",
          "model_module_version": "1.5.0",
          "state": {
            "_dom_classes": [],
            "_model_module": "@jupyter-widgets/controls",
            "_model_module_version": "1.5.0",
            "_model_name": "HTMLModel",
            "_view_count": null,
            "_view_module": "@jupyter-widgets/controls",
            "_view_module_version": "1.5.0",
            "_view_name": "HTMLView",
            "description": "",
            "description_tooltip": null,
            "layout": "IPY_MODEL_b3fe656d3db54be681015ec0341fc2b8",
            "placeholder": "​",
            "style": "IPY_MODEL_5551c9ecfd234d62a53bce95145b3c97",
            "value": " 405M/405M [00:40&lt;00:00, 14.9MB/s]"
          }
        },
        "deefb8860ec146d288712fe60bc74073": {
          "model_module": "@jupyter-widgets/base",
          "model_name": "LayoutModel",
          "model_module_version": "1.2.0",
          "state": {
            "_model_module": "@jupyter-widgets/base",
            "_model_module_version": "1.2.0",
            "_model_name": "LayoutModel",
            "_view_count": null,
            "_view_module": "@jupyter-widgets/base",
            "_view_module_version": "1.2.0",
            "_view_name": "LayoutView",
            "align_content": null,
            "align_items": null,
            "align_self": null,
            "border": null,
            "bottom": null,
            "display": null,
            "flex": null,
            "flex_flow": null,
            "grid_area": null,
            "grid_auto_columns": null,
            "grid_auto_flow": null,
            "grid_auto_rows": null,
            "grid_column": null,
            "grid_gap": null,
            "grid_row": null,
            "grid_template_areas": null,
            "grid_template_columns": null,
            "grid_template_rows": null,
            "height": null,
            "justify_content": null,
            "justify_items": null,
            "left": null,
            "margin": null,
            "max_height": null,
            "max_width": null,
            "min_height": null,
            "min_width": null,
            "object_fit": null,
            "object_position": null,
            "order": null,
            "overflow": null,
            "overflow_x": null,
            "overflow_y": null,
            "padding": null,
            "right": null,
            "top": null,
            "visibility": null,
            "width": null
          }
        },
        "ed75e7fed23f41918a1f39e20a9af778": {
          "model_module": "@jupyter-widgets/base",
          "model_name": "LayoutModel",
          "model_module_version": "1.2.0",
          "state": {
            "_model_module": "@jupyter-widgets/base",
            "_model_module_version": "1.2.0",
            "_model_name": "LayoutModel",
            "_view_count": null,
            "_view_module": "@jupyter-widgets/base",
            "_view_module_version": "1.2.0",
            "_view_name": "LayoutView",
            "align_content": null,
            "align_items": null,
            "align_self": null,
            "border": null,
            "bottom": null,
            "display": null,
            "flex": null,
            "flex_flow": null,
            "grid_area": null,
            "grid_auto_columns": null,
            "grid_auto_flow": null,
            "grid_auto_rows": null,
            "grid_column": null,
            "grid_gap": null,
            "grid_row": null,
            "grid_template_areas": null,
            "grid_template_columns": null,
            "grid_template_rows": null,
            "height": null,
            "justify_content": null,
            "justify_items": null,
            "left": null,
            "margin": null,
            "max_height": null,
            "max_width": null,
            "min_height": null,
            "min_width": null,
            "object_fit": null,
            "object_position": null,
            "order": null,
            "overflow": null,
            "overflow_x": null,
            "overflow_y": null,
            "padding": null,
            "right": null,
            "top": null,
            "visibility": null,
            "width": null
          }
        },
        "aa6891dec84b4af5809b69aab0bd6136": {
          "model_module": "@jupyter-widgets/controls",
          "model_name": "DescriptionStyleModel",
          "model_module_version": "1.5.0",
          "state": {
            "_model_module": "@jupyter-widgets/controls",
            "_model_module_version": "1.5.0",
            "_model_name": "DescriptionStyleModel",
            "_view_count": null,
            "_view_module": "@jupyter-widgets/base",
            "_view_module_version": "1.2.0",
            "_view_name": "StyleView",
            "description_width": ""
          }
        },
        "4a04fa21f67b464db07249a2cf34fe3d": {
          "model_module": "@jupyter-widgets/base",
          "model_name": "LayoutModel",
          "model_module_version": "1.2.0",
          "state": {
            "_model_module": "@jupyter-widgets/base",
            "_model_module_version": "1.2.0",
            "_model_name": "LayoutModel",
            "_view_count": null,
            "_view_module": "@jupyter-widgets/base",
            "_view_module_version": "1.2.0",
            "_view_name": "LayoutView",
            "align_content": null,
            "align_items": null,
            "align_self": null,
            "border": null,
            "bottom": null,
            "display": null,
            "flex": null,
            "flex_flow": null,
            "grid_area": null,
            "grid_auto_columns": null,
            "grid_auto_flow": null,
            "grid_auto_rows": null,
            "grid_column": null,
            "grid_gap": null,
            "grid_row": null,
            "grid_template_areas": null,
            "grid_template_columns": null,
            "grid_template_rows": null,
            "height": null,
            "justify_content": null,
            "justify_items": null,
            "left": null,
            "margin": null,
            "max_height": null,
            "max_width": null,
            "min_height": null,
            "min_width": null,
            "object_fit": null,
            "object_position": null,
            "order": null,
            "overflow": null,
            "overflow_x": null,
            "overflow_y": null,
            "padding": null,
            "right": null,
            "top": null,
            "visibility": null,
            "width": null
          }
        },
        "ec6066cbaddc4dd1a36af0e54252600d": {
          "model_module": "@jupyter-widgets/controls",
          "model_name": "ProgressStyleModel",
          "model_module_version": "1.5.0",
          "state": {
            "_model_module": "@jupyter-widgets/controls",
            "_model_module_version": "1.5.0",
            "_model_name": "ProgressStyleModel",
            "_view_count": null,
            "_view_module": "@jupyter-widgets/base",
            "_view_module_version": "1.2.0",
            "_view_name": "StyleView",
            "bar_color": null,
            "description_width": ""
          }
        },
        "b3fe656d3db54be681015ec0341fc2b8": {
          "model_module": "@jupyter-widgets/base",
          "model_name": "LayoutModel",
          "model_module_version": "1.2.0",
          "state": {
            "_model_module": "@jupyter-widgets/base",
            "_model_module_version": "1.2.0",
            "_model_name": "LayoutModel",
            "_view_count": null,
            "_view_module": "@jupyter-widgets/base",
            "_view_module_version": "1.2.0",
            "_view_name": "LayoutView",
            "align_content": null,
            "align_items": null,
            "align_self": null,
            "border": null,
            "bottom": null,
            "display": null,
            "flex": null,
            "flex_flow": null,
            "grid_area": null,
            "grid_auto_columns": null,
            "grid_auto_flow": null,
            "grid_auto_rows": null,
            "grid_column": null,
            "grid_gap": null,
            "grid_row": null,
            "grid_template_areas": null,
            "grid_template_columns": null,
            "grid_template_rows": null,
            "height": null,
            "justify_content": null,
            "justify_items": null,
            "left": null,
            "margin": null,
            "max_height": null,
            "max_width": null,
            "min_height": null,
            "min_width": null,
            "object_fit": null,
            "object_position": null,
            "order": null,
            "overflow": null,
            "overflow_x": null,
            "overflow_y": null,
            "padding": null,
            "right": null,
            "top": null,
            "visibility": null,
            "width": null
          }
        },
        "5551c9ecfd234d62a53bce95145b3c97": {
          "model_module": "@jupyter-widgets/controls",
          "model_name": "DescriptionStyleModel",
          "model_module_version": "1.5.0",
          "state": {
            "_model_module": "@jupyter-widgets/controls",
            "_model_module_version": "1.5.0",
            "_model_name": "DescriptionStyleModel",
            "_view_count": null,
            "_view_module": "@jupyter-widgets/base",
            "_view_module_version": "1.2.0",
            "_view_name": "StyleView",
            "description_width": ""
          }
        },
        "37870f8d7b2741338928f2de500204b2": {
          "model_module": "@jupyter-widgets/controls",
          "model_name": "HBoxModel",
          "model_module_version": "1.5.0",
          "state": {
            "_dom_classes": [],
            "_model_module": "@jupyter-widgets/controls",
            "_model_module_version": "1.5.0",
            "_model_name": "HBoxModel",
            "_view_count": null,
            "_view_module": "@jupyter-widgets/controls",
            "_view_module_version": "1.5.0",
            "_view_name": "HBoxView",
            "box_style": "",
            "children": [
              "IPY_MODEL_bc5a32ba665f4bb18f01d51a943be9f7",
              "IPY_MODEL_45e61730f31148268ec88d7f55a994f4",
              "IPY_MODEL_3b29399531474395897283456c7a5825"
            ],
            "layout": "IPY_MODEL_88b0c488dbd54a0e8493ffd5253cb481"
          }
        },
        "bc5a32ba665f4bb18f01d51a943be9f7": {
          "model_module": "@jupyter-widgets/controls",
          "model_name": "HTMLModel",
          "model_module_version": "1.5.0",
          "state": {
            "_dom_classes": [],
            "_model_module": "@jupyter-widgets/controls",
            "_model_module_version": "1.5.0",
            "_model_name": "HTMLModel",
            "_view_count": null,
            "_view_module": "@jupyter-widgets/controls",
            "_view_module_version": "1.5.0",
            "_view_name": "HTMLView",
            "description": "",
            "description_tooltip": null,
            "layout": "IPY_MODEL_848bbf1ae6474da7841962692da06a06",
            "placeholder": "​",
            "style": "IPY_MODEL_77aee1c5e670423384086234fb3131d3",
            "value": "pytorch_model-00026-of-00033.bin: 100%"
          }
        },
        "45e61730f31148268ec88d7f55a994f4": {
          "model_module": "@jupyter-widgets/controls",
          "model_name": "FloatProgressModel",
          "model_module_version": "1.5.0",
          "state": {
            "_dom_classes": [],
            "_model_module": "@jupyter-widgets/controls",
            "_model_module_version": "1.5.0",
            "_model_name": "FloatProgressModel",
            "_view_count": null,
            "_view_module": "@jupyter-widgets/controls",
            "_view_module_version": "1.5.0",
            "_view_name": "ProgressView",
            "bar_style": "success",
            "description": "",
            "description_tooltip": null,
            "layout": "IPY_MODEL_ce30494c83e64420ad1677496a4a617e",
            "max": 404770755,
            "min": 0,
            "orientation": "horizontal",
            "style": "IPY_MODEL_4aea05e60725455d920bdaf3167427d1",
            "value": 404770755
          }
        },
        "3b29399531474395897283456c7a5825": {
          "model_module": "@jupyter-widgets/controls",
          "model_name": "HTMLModel",
          "model_module_version": "1.5.0",
          "state": {
            "_dom_classes": [],
            "_model_module": "@jupyter-widgets/controls",
            "_model_module_version": "1.5.0",
            "_model_name": "HTMLModel",
            "_view_count": null,
            "_view_module": "@jupyter-widgets/controls",
            "_view_module_version": "1.5.0",
            "_view_name": "HTMLView",
            "description": "",
            "description_tooltip": null,
            "layout": "IPY_MODEL_d28c8ef94bc94fa8bff7e4633544a5b4",
            "placeholder": "​",
            "style": "IPY_MODEL_60beb98d372a451195f842bb8fd47507",
            "value": " 405M/405M [00:02&lt;00:00, 106MB/s]"
          }
        },
        "88b0c488dbd54a0e8493ffd5253cb481": {
          "model_module": "@jupyter-widgets/base",
          "model_name": "LayoutModel",
          "model_module_version": "1.2.0",
          "state": {
            "_model_module": "@jupyter-widgets/base",
            "_model_module_version": "1.2.0",
            "_model_name": "LayoutModel",
            "_view_count": null,
            "_view_module": "@jupyter-widgets/base",
            "_view_module_version": "1.2.0",
            "_view_name": "LayoutView",
            "align_content": null,
            "align_items": null,
            "align_self": null,
            "border": null,
            "bottom": null,
            "display": null,
            "flex": null,
            "flex_flow": null,
            "grid_area": null,
            "grid_auto_columns": null,
            "grid_auto_flow": null,
            "grid_auto_rows": null,
            "grid_column": null,
            "grid_gap": null,
            "grid_row": null,
            "grid_template_areas": null,
            "grid_template_columns": null,
            "grid_template_rows": null,
            "height": null,
            "justify_content": null,
            "justify_items": null,
            "left": null,
            "margin": null,
            "max_height": null,
            "max_width": null,
            "min_height": null,
            "min_width": null,
            "object_fit": null,
            "object_position": null,
            "order": null,
            "overflow": null,
            "overflow_x": null,
            "overflow_y": null,
            "padding": null,
            "right": null,
            "top": null,
            "visibility": null,
            "width": null
          }
        },
        "848bbf1ae6474da7841962692da06a06": {
          "model_module": "@jupyter-widgets/base",
          "model_name": "LayoutModel",
          "model_module_version": "1.2.0",
          "state": {
            "_model_module": "@jupyter-widgets/base",
            "_model_module_version": "1.2.0",
            "_model_name": "LayoutModel",
            "_view_count": null,
            "_view_module": "@jupyter-widgets/base",
            "_view_module_version": "1.2.0",
            "_view_name": "LayoutView",
            "align_content": null,
            "align_items": null,
            "align_self": null,
            "border": null,
            "bottom": null,
            "display": null,
            "flex": null,
            "flex_flow": null,
            "grid_area": null,
            "grid_auto_columns": null,
            "grid_auto_flow": null,
            "grid_auto_rows": null,
            "grid_column": null,
            "grid_gap": null,
            "grid_row": null,
            "grid_template_areas": null,
            "grid_template_columns": null,
            "grid_template_rows": null,
            "height": null,
            "justify_content": null,
            "justify_items": null,
            "left": null,
            "margin": null,
            "max_height": null,
            "max_width": null,
            "min_height": null,
            "min_width": null,
            "object_fit": null,
            "object_position": null,
            "order": null,
            "overflow": null,
            "overflow_x": null,
            "overflow_y": null,
            "padding": null,
            "right": null,
            "top": null,
            "visibility": null,
            "width": null
          }
        },
        "77aee1c5e670423384086234fb3131d3": {
          "model_module": "@jupyter-widgets/controls",
          "model_name": "DescriptionStyleModel",
          "model_module_version": "1.5.0",
          "state": {
            "_model_module": "@jupyter-widgets/controls",
            "_model_module_version": "1.5.0",
            "_model_name": "DescriptionStyleModel",
            "_view_count": null,
            "_view_module": "@jupyter-widgets/base",
            "_view_module_version": "1.2.0",
            "_view_name": "StyleView",
            "description_width": ""
          }
        },
        "ce30494c83e64420ad1677496a4a617e": {
          "model_module": "@jupyter-widgets/base",
          "model_name": "LayoutModel",
          "model_module_version": "1.2.0",
          "state": {
            "_model_module": "@jupyter-widgets/base",
            "_model_module_version": "1.2.0",
            "_model_name": "LayoutModel",
            "_view_count": null,
            "_view_module": "@jupyter-widgets/base",
            "_view_module_version": "1.2.0",
            "_view_name": "LayoutView",
            "align_content": null,
            "align_items": null,
            "align_self": null,
            "border": null,
            "bottom": null,
            "display": null,
            "flex": null,
            "flex_flow": null,
            "grid_area": null,
            "grid_auto_columns": null,
            "grid_auto_flow": null,
            "grid_auto_rows": null,
            "grid_column": null,
            "grid_gap": null,
            "grid_row": null,
            "grid_template_areas": null,
            "grid_template_columns": null,
            "grid_template_rows": null,
            "height": null,
            "justify_content": null,
            "justify_items": null,
            "left": null,
            "margin": null,
            "max_height": null,
            "max_width": null,
            "min_height": null,
            "min_width": null,
            "object_fit": null,
            "object_position": null,
            "order": null,
            "overflow": null,
            "overflow_x": null,
            "overflow_y": null,
            "padding": null,
            "right": null,
            "top": null,
            "visibility": null,
            "width": null
          }
        },
        "4aea05e60725455d920bdaf3167427d1": {
          "model_module": "@jupyter-widgets/controls",
          "model_name": "ProgressStyleModel",
          "model_module_version": "1.5.0",
          "state": {
            "_model_module": "@jupyter-widgets/controls",
            "_model_module_version": "1.5.0",
            "_model_name": "ProgressStyleModel",
            "_view_count": null,
            "_view_module": "@jupyter-widgets/base",
            "_view_module_version": "1.2.0",
            "_view_name": "StyleView",
            "bar_color": null,
            "description_width": ""
          }
        },
        "d28c8ef94bc94fa8bff7e4633544a5b4": {
          "model_module": "@jupyter-widgets/base",
          "model_name": "LayoutModel",
          "model_module_version": "1.2.0",
          "state": {
            "_model_module": "@jupyter-widgets/base",
            "_model_module_version": "1.2.0",
            "_model_name": "LayoutModel",
            "_view_count": null,
            "_view_module": "@jupyter-widgets/base",
            "_view_module_version": "1.2.0",
            "_view_name": "LayoutView",
            "align_content": null,
            "align_items": null,
            "align_self": null,
            "border": null,
            "bottom": null,
            "display": null,
            "flex": null,
            "flex_flow": null,
            "grid_area": null,
            "grid_auto_columns": null,
            "grid_auto_flow": null,
            "grid_auto_rows": null,
            "grid_column": null,
            "grid_gap": null,
            "grid_row": null,
            "grid_template_areas": null,
            "grid_template_columns": null,
            "grid_template_rows": null,
            "height": null,
            "justify_content": null,
            "justify_items": null,
            "left": null,
            "margin": null,
            "max_height": null,
            "max_width": null,
            "min_height": null,
            "min_width": null,
            "object_fit": null,
            "object_position": null,
            "order": null,
            "overflow": null,
            "overflow_x": null,
            "overflow_y": null,
            "padding": null,
            "right": null,
            "top": null,
            "visibility": null,
            "width": null
          }
        },
        "60beb98d372a451195f842bb8fd47507": {
          "model_module": "@jupyter-widgets/controls",
          "model_name": "DescriptionStyleModel",
          "model_module_version": "1.5.0",
          "state": {
            "_model_module": "@jupyter-widgets/controls",
            "_model_module_version": "1.5.0",
            "_model_name": "DescriptionStyleModel",
            "_view_count": null,
            "_view_module": "@jupyter-widgets/base",
            "_view_module_version": "1.2.0",
            "_view_name": "StyleView",
            "description_width": ""
          }
        },
        "e1ff07fe3b734a118b9536272bb82a8d": {
          "model_module": "@jupyter-widgets/controls",
          "model_name": "HBoxModel",
          "model_module_version": "1.5.0",
          "state": {
            "_dom_classes": [],
            "_model_module": "@jupyter-widgets/controls",
            "_model_module_version": "1.5.0",
            "_model_name": "HBoxModel",
            "_view_count": null,
            "_view_module": "@jupyter-widgets/controls",
            "_view_module_version": "1.5.0",
            "_view_name": "HBoxView",
            "box_style": "",
            "children": [
              "IPY_MODEL_87a6929b2fc94089aa2f241e602f7e27",
              "IPY_MODEL_663bc4f750244080a3c79cb90cfa3b8d",
              "IPY_MODEL_2a84031950e1438daa8d85314ae0bcd4"
            ],
            "layout": "IPY_MODEL_e321619c8c5645459415e5e39df96260"
          }
        },
        "87a6929b2fc94089aa2f241e602f7e27": {
          "model_module": "@jupyter-widgets/controls",
          "model_name": "HTMLModel",
          "model_module_version": "1.5.0",
          "state": {
            "_dom_classes": [],
            "_model_module": "@jupyter-widgets/controls",
            "_model_module_version": "1.5.0",
            "_model_name": "HTMLModel",
            "_view_count": null,
            "_view_module": "@jupyter-widgets/controls",
            "_view_module_version": "1.5.0",
            "_view_name": "HTMLView",
            "description": "",
            "description_tooltip": null,
            "layout": "IPY_MODEL_a9ad96983ca44beca05dbcb067336ed6",
            "placeholder": "​",
            "style": "IPY_MODEL_39a866084fa54925af570a472142d3c9",
            "value": "pytorch_model-00027-of-00033.bin: 100%"
          }
        },
        "663bc4f750244080a3c79cb90cfa3b8d": {
          "model_module": "@jupyter-widgets/controls",
          "model_name": "FloatProgressModel",
          "model_module_version": "1.5.0",
          "state": {
            "_dom_classes": [],
            "_model_module": "@jupyter-widgets/controls",
            "_model_module_version": "1.5.0",
            "_model_name": "FloatProgressModel",
            "_view_count": null,
            "_view_module": "@jupyter-widgets/controls",
            "_view_module_version": "1.5.0",
            "_view_name": "ProgressView",
            "bar_style": "success",
            "description": "",
            "description_tooltip": null,
            "layout": "IPY_MODEL_3d25b6e7a85e48d58218de2c079e121f",
            "max": 404770755,
            "min": 0,
            "orientation": "horizontal",
            "style": "IPY_MODEL_53a9aa17041e4d0bbb246ba2e8b1cac7",
            "value": 404770755
          }
        },
        "2a84031950e1438daa8d85314ae0bcd4": {
          "model_module": "@jupyter-widgets/controls",
          "model_name": "HTMLModel",
          "model_module_version": "1.5.0",
          "state": {
            "_dom_classes": [],
            "_model_module": "@jupyter-widgets/controls",
            "_model_module_version": "1.5.0",
            "_model_name": "HTMLModel",
            "_view_count": null,
            "_view_module": "@jupyter-widgets/controls",
            "_view_module_version": "1.5.0",
            "_view_name": "HTMLView",
            "description": "",
            "description_tooltip": null,
            "layout": "IPY_MODEL_0c6a4ffe570a4afcbdfae103c44b3180",
            "placeholder": "​",
            "style": "IPY_MODEL_3e1be10bd5a04f008f74ce32860f5253",
            "value": " 405M/405M [00:01&lt;00:00, 269MB/s]"
          }
        },
        "e321619c8c5645459415e5e39df96260": {
          "model_module": "@jupyter-widgets/base",
          "model_name": "LayoutModel",
          "model_module_version": "1.2.0",
          "state": {
            "_model_module": "@jupyter-widgets/base",
            "_model_module_version": "1.2.0",
            "_model_name": "LayoutModel",
            "_view_count": null,
            "_view_module": "@jupyter-widgets/base",
            "_view_module_version": "1.2.0",
            "_view_name": "LayoutView",
            "align_content": null,
            "align_items": null,
            "align_self": null,
            "border": null,
            "bottom": null,
            "display": null,
            "flex": null,
            "flex_flow": null,
            "grid_area": null,
            "grid_auto_columns": null,
            "grid_auto_flow": null,
            "grid_auto_rows": null,
            "grid_column": null,
            "grid_gap": null,
            "grid_row": null,
            "grid_template_areas": null,
            "grid_template_columns": null,
            "grid_template_rows": null,
            "height": null,
            "justify_content": null,
            "justify_items": null,
            "left": null,
            "margin": null,
            "max_height": null,
            "max_width": null,
            "min_height": null,
            "min_width": null,
            "object_fit": null,
            "object_position": null,
            "order": null,
            "overflow": null,
            "overflow_x": null,
            "overflow_y": null,
            "padding": null,
            "right": null,
            "top": null,
            "visibility": null,
            "width": null
          }
        },
        "a9ad96983ca44beca05dbcb067336ed6": {
          "model_module": "@jupyter-widgets/base",
          "model_name": "LayoutModel",
          "model_module_version": "1.2.0",
          "state": {
            "_model_module": "@jupyter-widgets/base",
            "_model_module_version": "1.2.0",
            "_model_name": "LayoutModel",
            "_view_count": null,
            "_view_module": "@jupyter-widgets/base",
            "_view_module_version": "1.2.0",
            "_view_name": "LayoutView",
            "align_content": null,
            "align_items": null,
            "align_self": null,
            "border": null,
            "bottom": null,
            "display": null,
            "flex": null,
            "flex_flow": null,
            "grid_area": null,
            "grid_auto_columns": null,
            "grid_auto_flow": null,
            "grid_auto_rows": null,
            "grid_column": null,
            "grid_gap": null,
            "grid_row": null,
            "grid_template_areas": null,
            "grid_template_columns": null,
            "grid_template_rows": null,
            "height": null,
            "justify_content": null,
            "justify_items": null,
            "left": null,
            "margin": null,
            "max_height": null,
            "max_width": null,
            "min_height": null,
            "min_width": null,
            "object_fit": null,
            "object_position": null,
            "order": null,
            "overflow": null,
            "overflow_x": null,
            "overflow_y": null,
            "padding": null,
            "right": null,
            "top": null,
            "visibility": null,
            "width": null
          }
        },
        "39a866084fa54925af570a472142d3c9": {
          "model_module": "@jupyter-widgets/controls",
          "model_name": "DescriptionStyleModel",
          "model_module_version": "1.5.0",
          "state": {
            "_model_module": "@jupyter-widgets/controls",
            "_model_module_version": "1.5.0",
            "_model_name": "DescriptionStyleModel",
            "_view_count": null,
            "_view_module": "@jupyter-widgets/base",
            "_view_module_version": "1.2.0",
            "_view_name": "StyleView",
            "description_width": ""
          }
        },
        "3d25b6e7a85e48d58218de2c079e121f": {
          "model_module": "@jupyter-widgets/base",
          "model_name": "LayoutModel",
          "model_module_version": "1.2.0",
          "state": {
            "_model_module": "@jupyter-widgets/base",
            "_model_module_version": "1.2.0",
            "_model_name": "LayoutModel",
            "_view_count": null,
            "_view_module": "@jupyter-widgets/base",
            "_view_module_version": "1.2.0",
            "_view_name": "LayoutView",
            "align_content": null,
            "align_items": null,
            "align_self": null,
            "border": null,
            "bottom": null,
            "display": null,
            "flex": null,
            "flex_flow": null,
            "grid_area": null,
            "grid_auto_columns": null,
            "grid_auto_flow": null,
            "grid_auto_rows": null,
            "grid_column": null,
            "grid_gap": null,
            "grid_row": null,
            "grid_template_areas": null,
            "grid_template_columns": null,
            "grid_template_rows": null,
            "height": null,
            "justify_content": null,
            "justify_items": null,
            "left": null,
            "margin": null,
            "max_height": null,
            "max_width": null,
            "min_height": null,
            "min_width": null,
            "object_fit": null,
            "object_position": null,
            "order": null,
            "overflow": null,
            "overflow_x": null,
            "overflow_y": null,
            "padding": null,
            "right": null,
            "top": null,
            "visibility": null,
            "width": null
          }
        },
        "53a9aa17041e4d0bbb246ba2e8b1cac7": {
          "model_module": "@jupyter-widgets/controls",
          "model_name": "ProgressStyleModel",
          "model_module_version": "1.5.0",
          "state": {
            "_model_module": "@jupyter-widgets/controls",
            "_model_module_version": "1.5.0",
            "_model_name": "ProgressStyleModel",
            "_view_count": null,
            "_view_module": "@jupyter-widgets/base",
            "_view_module_version": "1.2.0",
            "_view_name": "StyleView",
            "bar_color": null,
            "description_width": ""
          }
        },
        "0c6a4ffe570a4afcbdfae103c44b3180": {
          "model_module": "@jupyter-widgets/base",
          "model_name": "LayoutModel",
          "model_module_version": "1.2.0",
          "state": {
            "_model_module": "@jupyter-widgets/base",
            "_model_module_version": "1.2.0",
            "_model_name": "LayoutModel",
            "_view_count": null,
            "_view_module": "@jupyter-widgets/base",
            "_view_module_version": "1.2.0",
            "_view_name": "LayoutView",
            "align_content": null,
            "align_items": null,
            "align_self": null,
            "border": null,
            "bottom": null,
            "display": null,
            "flex": null,
            "flex_flow": null,
            "grid_area": null,
            "grid_auto_columns": null,
            "grid_auto_flow": null,
            "grid_auto_rows": null,
            "grid_column": null,
            "grid_gap": null,
            "grid_row": null,
            "grid_template_areas": null,
            "grid_template_columns": null,
            "grid_template_rows": null,
            "height": null,
            "justify_content": null,
            "justify_items": null,
            "left": null,
            "margin": null,
            "max_height": null,
            "max_width": null,
            "min_height": null,
            "min_width": null,
            "object_fit": null,
            "object_position": null,
            "order": null,
            "overflow": null,
            "overflow_x": null,
            "overflow_y": null,
            "padding": null,
            "right": null,
            "top": null,
            "visibility": null,
            "width": null
          }
        },
        "3e1be10bd5a04f008f74ce32860f5253": {
          "model_module": "@jupyter-widgets/controls",
          "model_name": "DescriptionStyleModel",
          "model_module_version": "1.5.0",
          "state": {
            "_model_module": "@jupyter-widgets/controls",
            "_model_module_version": "1.5.0",
            "_model_name": "DescriptionStyleModel",
            "_view_count": null,
            "_view_module": "@jupyter-widgets/base",
            "_view_module_version": "1.2.0",
            "_view_name": "StyleView",
            "description_width": ""
          }
        },
        "a2da3d9293b84e2481ddaf2ab88fe973": {
          "model_module": "@jupyter-widgets/controls",
          "model_name": "HBoxModel",
          "model_module_version": "1.5.0",
          "state": {
            "_dom_classes": [],
            "_model_module": "@jupyter-widgets/controls",
            "_model_module_version": "1.5.0",
            "_model_name": "HBoxModel",
            "_view_count": null,
            "_view_module": "@jupyter-widgets/controls",
            "_view_module_version": "1.5.0",
            "_view_name": "HBoxView",
            "box_style": "",
            "children": [
              "IPY_MODEL_aec9825c1dfc40fcaf19259657fdfd7d",
              "IPY_MODEL_7ce43f2575a5448a863343d3f7c85ece",
              "IPY_MODEL_3efc5043f2724780902930c468ac0254"
            ],
            "layout": "IPY_MODEL_71b08d42d8314ba2befd203213b3befd"
          }
        },
        "aec9825c1dfc40fcaf19259657fdfd7d": {
          "model_module": "@jupyter-widgets/controls",
          "model_name": "HTMLModel",
          "model_module_version": "1.5.0",
          "state": {
            "_dom_classes": [],
            "_model_module": "@jupyter-widgets/controls",
            "_model_module_version": "1.5.0",
            "_model_name": "HTMLModel",
            "_view_count": null,
            "_view_module": "@jupyter-widgets/controls",
            "_view_module_version": "1.5.0",
            "_view_name": "HTMLView",
            "description": "",
            "description_tooltip": null,
            "layout": "IPY_MODEL_da8895e225884240a8d2e08ea7df9aaa",
            "placeholder": "​",
            "style": "IPY_MODEL_7e2880f3b40d4fccb16ba78e594149de",
            "value": "pytorch_model-00028-of-00033.bin: 100%"
          }
        },
        "7ce43f2575a5448a863343d3f7c85ece": {
          "model_module": "@jupyter-widgets/controls",
          "model_name": "FloatProgressModel",
          "model_module_version": "1.5.0",
          "state": {
            "_dom_classes": [],
            "_model_module": "@jupyter-widgets/controls",
            "_model_module_version": "1.5.0",
            "_model_name": "FloatProgressModel",
            "_view_count": null,
            "_view_module": "@jupyter-widgets/controls",
            "_view_module_version": "1.5.0",
            "_view_name": "ProgressView",
            "bar_style": "success",
            "description": "",
            "description_tooltip": null,
            "layout": "IPY_MODEL_8a161426057e411faa6f24c7dea958de",
            "max": 404770755,
            "min": 0,
            "orientation": "horizontal",
            "style": "IPY_MODEL_7078686d4390499cb49acc955aea5ba4",
            "value": 404770755
          }
        },
        "3efc5043f2724780902930c468ac0254": {
          "model_module": "@jupyter-widgets/controls",
          "model_name": "HTMLModel",
          "model_module_version": "1.5.0",
          "state": {
            "_dom_classes": [],
            "_model_module": "@jupyter-widgets/controls",
            "_model_module_version": "1.5.0",
            "_model_name": "HTMLModel",
            "_view_count": null,
            "_view_module": "@jupyter-widgets/controls",
            "_view_module_version": "1.5.0",
            "_view_name": "HTMLView",
            "description": "",
            "description_tooltip": null,
            "layout": "IPY_MODEL_08282fe8866c45ae92d501f80dd790ae",
            "placeholder": "​",
            "style": "IPY_MODEL_2b5e0f28625f4adc8f447e4f8d87d110",
            "value": " 405M/405M [00:27&lt;00:00, 11.7MB/s]"
          }
        },
        "71b08d42d8314ba2befd203213b3befd": {
          "model_module": "@jupyter-widgets/base",
          "model_name": "LayoutModel",
          "model_module_version": "1.2.0",
          "state": {
            "_model_module": "@jupyter-widgets/base",
            "_model_module_version": "1.2.0",
            "_model_name": "LayoutModel",
            "_view_count": null,
            "_view_module": "@jupyter-widgets/base",
            "_view_module_version": "1.2.0",
            "_view_name": "LayoutView",
            "align_content": null,
            "align_items": null,
            "align_self": null,
            "border": null,
            "bottom": null,
            "display": null,
            "flex": null,
            "flex_flow": null,
            "grid_area": null,
            "grid_auto_columns": null,
            "grid_auto_flow": null,
            "grid_auto_rows": null,
            "grid_column": null,
            "grid_gap": null,
            "grid_row": null,
            "grid_template_areas": null,
            "grid_template_columns": null,
            "grid_template_rows": null,
            "height": null,
            "justify_content": null,
            "justify_items": null,
            "left": null,
            "margin": null,
            "max_height": null,
            "max_width": null,
            "min_height": null,
            "min_width": null,
            "object_fit": null,
            "object_position": null,
            "order": null,
            "overflow": null,
            "overflow_x": null,
            "overflow_y": null,
            "padding": null,
            "right": null,
            "top": null,
            "visibility": null,
            "width": null
          }
        },
        "da8895e225884240a8d2e08ea7df9aaa": {
          "model_module": "@jupyter-widgets/base",
          "model_name": "LayoutModel",
          "model_module_version": "1.2.0",
          "state": {
            "_model_module": "@jupyter-widgets/base",
            "_model_module_version": "1.2.0",
            "_model_name": "LayoutModel",
            "_view_count": null,
            "_view_module": "@jupyter-widgets/base",
            "_view_module_version": "1.2.0",
            "_view_name": "LayoutView",
            "align_content": null,
            "align_items": null,
            "align_self": null,
            "border": null,
            "bottom": null,
            "display": null,
            "flex": null,
            "flex_flow": null,
            "grid_area": null,
            "grid_auto_columns": null,
            "grid_auto_flow": null,
            "grid_auto_rows": null,
            "grid_column": null,
            "grid_gap": null,
            "grid_row": null,
            "grid_template_areas": null,
            "grid_template_columns": null,
            "grid_template_rows": null,
            "height": null,
            "justify_content": null,
            "justify_items": null,
            "left": null,
            "margin": null,
            "max_height": null,
            "max_width": null,
            "min_height": null,
            "min_width": null,
            "object_fit": null,
            "object_position": null,
            "order": null,
            "overflow": null,
            "overflow_x": null,
            "overflow_y": null,
            "padding": null,
            "right": null,
            "top": null,
            "visibility": null,
            "width": null
          }
        },
        "7e2880f3b40d4fccb16ba78e594149de": {
          "model_module": "@jupyter-widgets/controls",
          "model_name": "DescriptionStyleModel",
          "model_module_version": "1.5.0",
          "state": {
            "_model_module": "@jupyter-widgets/controls",
            "_model_module_version": "1.5.0",
            "_model_name": "DescriptionStyleModel",
            "_view_count": null,
            "_view_module": "@jupyter-widgets/base",
            "_view_module_version": "1.2.0",
            "_view_name": "StyleView",
            "description_width": ""
          }
        },
        "8a161426057e411faa6f24c7dea958de": {
          "model_module": "@jupyter-widgets/base",
          "model_name": "LayoutModel",
          "model_module_version": "1.2.0",
          "state": {
            "_model_module": "@jupyter-widgets/base",
            "_model_module_version": "1.2.0",
            "_model_name": "LayoutModel",
            "_view_count": null,
            "_view_module": "@jupyter-widgets/base",
            "_view_module_version": "1.2.0",
            "_view_name": "LayoutView",
            "align_content": null,
            "align_items": null,
            "align_self": null,
            "border": null,
            "bottom": null,
            "display": null,
            "flex": null,
            "flex_flow": null,
            "grid_area": null,
            "grid_auto_columns": null,
            "grid_auto_flow": null,
            "grid_auto_rows": null,
            "grid_column": null,
            "grid_gap": null,
            "grid_row": null,
            "grid_template_areas": null,
            "grid_template_columns": null,
            "grid_template_rows": null,
            "height": null,
            "justify_content": null,
            "justify_items": null,
            "left": null,
            "margin": null,
            "max_height": null,
            "max_width": null,
            "min_height": null,
            "min_width": null,
            "object_fit": null,
            "object_position": null,
            "order": null,
            "overflow": null,
            "overflow_x": null,
            "overflow_y": null,
            "padding": null,
            "right": null,
            "top": null,
            "visibility": null,
            "width": null
          }
        },
        "7078686d4390499cb49acc955aea5ba4": {
          "model_module": "@jupyter-widgets/controls",
          "model_name": "ProgressStyleModel",
          "model_module_version": "1.5.0",
          "state": {
            "_model_module": "@jupyter-widgets/controls",
            "_model_module_version": "1.5.0",
            "_model_name": "ProgressStyleModel",
            "_view_count": null,
            "_view_module": "@jupyter-widgets/base",
            "_view_module_version": "1.2.0",
            "_view_name": "StyleView",
            "bar_color": null,
            "description_width": ""
          }
        },
        "08282fe8866c45ae92d501f80dd790ae": {
          "model_module": "@jupyter-widgets/base",
          "model_name": "LayoutModel",
          "model_module_version": "1.2.0",
          "state": {
            "_model_module": "@jupyter-widgets/base",
            "_model_module_version": "1.2.0",
            "_model_name": "LayoutModel",
            "_view_count": null,
            "_view_module": "@jupyter-widgets/base",
            "_view_module_version": "1.2.0",
            "_view_name": "LayoutView",
            "align_content": null,
            "align_items": null,
            "align_self": null,
            "border": null,
            "bottom": null,
            "display": null,
            "flex": null,
            "flex_flow": null,
            "grid_area": null,
            "grid_auto_columns": null,
            "grid_auto_flow": null,
            "grid_auto_rows": null,
            "grid_column": null,
            "grid_gap": null,
            "grid_row": null,
            "grid_template_areas": null,
            "grid_template_columns": null,
            "grid_template_rows": null,
            "height": null,
            "justify_content": null,
            "justify_items": null,
            "left": null,
            "margin": null,
            "max_height": null,
            "max_width": null,
            "min_height": null,
            "min_width": null,
            "object_fit": null,
            "object_position": null,
            "order": null,
            "overflow": null,
            "overflow_x": null,
            "overflow_y": null,
            "padding": null,
            "right": null,
            "top": null,
            "visibility": null,
            "width": null
          }
        },
        "2b5e0f28625f4adc8f447e4f8d87d110": {
          "model_module": "@jupyter-widgets/controls",
          "model_name": "DescriptionStyleModel",
          "model_module_version": "1.5.0",
          "state": {
            "_model_module": "@jupyter-widgets/controls",
            "_model_module_version": "1.5.0",
            "_model_name": "DescriptionStyleModel",
            "_view_count": null,
            "_view_module": "@jupyter-widgets/base",
            "_view_module_version": "1.2.0",
            "_view_name": "StyleView",
            "description_width": ""
          }
        },
        "10a300205e234296a59c85aad430507f": {
          "model_module": "@jupyter-widgets/controls",
          "model_name": "HBoxModel",
          "model_module_version": "1.5.0",
          "state": {
            "_dom_classes": [],
            "_model_module": "@jupyter-widgets/controls",
            "_model_module_version": "1.5.0",
            "_model_name": "HBoxModel",
            "_view_count": null,
            "_view_module": "@jupyter-widgets/controls",
            "_view_module_version": "1.5.0",
            "_view_name": "HBoxView",
            "box_style": "",
            "children": [
              "IPY_MODEL_25e0f09399a945b1a6b3d479ee7b52da",
              "IPY_MODEL_a7f543c7ae794af2a85a3f1a7f3f9801",
              "IPY_MODEL_c3479e7e0a8246758c6e3453ae51c598"
            ],
            "layout": "IPY_MODEL_261d07add1db4493bf49986702c095c4"
          }
        },
        "25e0f09399a945b1a6b3d479ee7b52da": {
          "model_module": "@jupyter-widgets/controls",
          "model_name": "HTMLModel",
          "model_module_version": "1.5.0",
          "state": {
            "_dom_classes": [],
            "_model_module": "@jupyter-widgets/controls",
            "_model_module_version": "1.5.0",
            "_model_name": "HTMLModel",
            "_view_count": null,
            "_view_module": "@jupyter-widgets/controls",
            "_view_module_version": "1.5.0",
            "_view_name": "HTMLView",
            "description": "",
            "description_tooltip": null,
            "layout": "IPY_MODEL_6149e83d9a1f46e7a8d771f3e90eed0e",
            "placeholder": "​",
            "style": "IPY_MODEL_c1e6fe88f89a444691baa6d7a4147f50",
            "value": "pytorch_model-00029-of-00033.bin: 100%"
          }
        },
        "a7f543c7ae794af2a85a3f1a7f3f9801": {
          "model_module": "@jupyter-widgets/controls",
          "model_name": "FloatProgressModel",
          "model_module_version": "1.5.0",
          "state": {
            "_dom_classes": [],
            "_model_module": "@jupyter-widgets/controls",
            "_model_module_version": "1.5.0",
            "_model_name": "FloatProgressModel",
            "_view_count": null,
            "_view_module": "@jupyter-widgets/controls",
            "_view_module_version": "1.5.0",
            "_view_name": "ProgressView",
            "bar_style": "success",
            "description": "",
            "description_tooltip": null,
            "layout": "IPY_MODEL_38bfa4c453d7422daeb545f405079aa9",
            "max": 404770755,
            "min": 0,
            "orientation": "horizontal",
            "style": "IPY_MODEL_b2851b0ae43f418eb0ef6c0289ecb967",
            "value": 404770755
          }
        },
        "c3479e7e0a8246758c6e3453ae51c598": {
          "model_module": "@jupyter-widgets/controls",
          "model_name": "HTMLModel",
          "model_module_version": "1.5.0",
          "state": {
            "_dom_classes": [],
            "_model_module": "@jupyter-widgets/controls",
            "_model_module_version": "1.5.0",
            "_model_name": "HTMLModel",
            "_view_count": null,
            "_view_module": "@jupyter-widgets/controls",
            "_view_module_version": "1.5.0",
            "_view_name": "HTMLView",
            "description": "",
            "description_tooltip": null,
            "layout": "IPY_MODEL_3d9ca9c745814f67a0a5705849c5d24e",
            "placeholder": "​",
            "style": "IPY_MODEL_a7989c05437a4aafbe8bcb040f8c2af5",
            "value": " 405M/405M [00:01&lt;00:00, 315MB/s]"
          }
        },
        "261d07add1db4493bf49986702c095c4": {
          "model_module": "@jupyter-widgets/base",
          "model_name": "LayoutModel",
          "model_module_version": "1.2.0",
          "state": {
            "_model_module": "@jupyter-widgets/base",
            "_model_module_version": "1.2.0",
            "_model_name": "LayoutModel",
            "_view_count": null,
            "_view_module": "@jupyter-widgets/base",
            "_view_module_version": "1.2.0",
            "_view_name": "LayoutView",
            "align_content": null,
            "align_items": null,
            "align_self": null,
            "border": null,
            "bottom": null,
            "display": null,
            "flex": null,
            "flex_flow": null,
            "grid_area": null,
            "grid_auto_columns": null,
            "grid_auto_flow": null,
            "grid_auto_rows": null,
            "grid_column": null,
            "grid_gap": null,
            "grid_row": null,
            "grid_template_areas": null,
            "grid_template_columns": null,
            "grid_template_rows": null,
            "height": null,
            "justify_content": null,
            "justify_items": null,
            "left": null,
            "margin": null,
            "max_height": null,
            "max_width": null,
            "min_height": null,
            "min_width": null,
            "object_fit": null,
            "object_position": null,
            "order": null,
            "overflow": null,
            "overflow_x": null,
            "overflow_y": null,
            "padding": null,
            "right": null,
            "top": null,
            "visibility": null,
            "width": null
          }
        },
        "6149e83d9a1f46e7a8d771f3e90eed0e": {
          "model_module": "@jupyter-widgets/base",
          "model_name": "LayoutModel",
          "model_module_version": "1.2.0",
          "state": {
            "_model_module": "@jupyter-widgets/base",
            "_model_module_version": "1.2.0",
            "_model_name": "LayoutModel",
            "_view_count": null,
            "_view_module": "@jupyter-widgets/base",
            "_view_module_version": "1.2.0",
            "_view_name": "LayoutView",
            "align_content": null,
            "align_items": null,
            "align_self": null,
            "border": null,
            "bottom": null,
            "display": null,
            "flex": null,
            "flex_flow": null,
            "grid_area": null,
            "grid_auto_columns": null,
            "grid_auto_flow": null,
            "grid_auto_rows": null,
            "grid_column": null,
            "grid_gap": null,
            "grid_row": null,
            "grid_template_areas": null,
            "grid_template_columns": null,
            "grid_template_rows": null,
            "height": null,
            "justify_content": null,
            "justify_items": null,
            "left": null,
            "margin": null,
            "max_height": null,
            "max_width": null,
            "min_height": null,
            "min_width": null,
            "object_fit": null,
            "object_position": null,
            "order": null,
            "overflow": null,
            "overflow_x": null,
            "overflow_y": null,
            "padding": null,
            "right": null,
            "top": null,
            "visibility": null,
            "width": null
          }
        },
        "c1e6fe88f89a444691baa6d7a4147f50": {
          "model_module": "@jupyter-widgets/controls",
          "model_name": "DescriptionStyleModel",
          "model_module_version": "1.5.0",
          "state": {
            "_model_module": "@jupyter-widgets/controls",
            "_model_module_version": "1.5.0",
            "_model_name": "DescriptionStyleModel",
            "_view_count": null,
            "_view_module": "@jupyter-widgets/base",
            "_view_module_version": "1.2.0",
            "_view_name": "StyleView",
            "description_width": ""
          }
        },
        "38bfa4c453d7422daeb545f405079aa9": {
          "model_module": "@jupyter-widgets/base",
          "model_name": "LayoutModel",
          "model_module_version": "1.2.0",
          "state": {
            "_model_module": "@jupyter-widgets/base",
            "_model_module_version": "1.2.0",
            "_model_name": "LayoutModel",
            "_view_count": null,
            "_view_module": "@jupyter-widgets/base",
            "_view_module_version": "1.2.0",
            "_view_name": "LayoutView",
            "align_content": null,
            "align_items": null,
            "align_self": null,
            "border": null,
            "bottom": null,
            "display": null,
            "flex": null,
            "flex_flow": null,
            "grid_area": null,
            "grid_auto_columns": null,
            "grid_auto_flow": null,
            "grid_auto_rows": null,
            "grid_column": null,
            "grid_gap": null,
            "grid_row": null,
            "grid_template_areas": null,
            "grid_template_columns": null,
            "grid_template_rows": null,
            "height": null,
            "justify_content": null,
            "justify_items": null,
            "left": null,
            "margin": null,
            "max_height": null,
            "max_width": null,
            "min_height": null,
            "min_width": null,
            "object_fit": null,
            "object_position": null,
            "order": null,
            "overflow": null,
            "overflow_x": null,
            "overflow_y": null,
            "padding": null,
            "right": null,
            "top": null,
            "visibility": null,
            "width": null
          }
        },
        "b2851b0ae43f418eb0ef6c0289ecb967": {
          "model_module": "@jupyter-widgets/controls",
          "model_name": "ProgressStyleModel",
          "model_module_version": "1.5.0",
          "state": {
            "_model_module": "@jupyter-widgets/controls",
            "_model_module_version": "1.5.0",
            "_model_name": "ProgressStyleModel",
            "_view_count": null,
            "_view_module": "@jupyter-widgets/base",
            "_view_module_version": "1.2.0",
            "_view_name": "StyleView",
            "bar_color": null,
            "description_width": ""
          }
        },
        "3d9ca9c745814f67a0a5705849c5d24e": {
          "model_module": "@jupyter-widgets/base",
          "model_name": "LayoutModel",
          "model_module_version": "1.2.0",
          "state": {
            "_model_module": "@jupyter-widgets/base",
            "_model_module_version": "1.2.0",
            "_model_name": "LayoutModel",
            "_view_count": null,
            "_view_module": "@jupyter-widgets/base",
            "_view_module_version": "1.2.0",
            "_view_name": "LayoutView",
            "align_content": null,
            "align_items": null,
            "align_self": null,
            "border": null,
            "bottom": null,
            "display": null,
            "flex": null,
            "flex_flow": null,
            "grid_area": null,
            "grid_auto_columns": null,
            "grid_auto_flow": null,
            "grid_auto_rows": null,
            "grid_column": null,
            "grid_gap": null,
            "grid_row": null,
            "grid_template_areas": null,
            "grid_template_columns": null,
            "grid_template_rows": null,
            "height": null,
            "justify_content": null,
            "justify_items": null,
            "left": null,
            "margin": null,
            "max_height": null,
            "max_width": null,
            "min_height": null,
            "min_width": null,
            "object_fit": null,
            "object_position": null,
            "order": null,
            "overflow": null,
            "overflow_x": null,
            "overflow_y": null,
            "padding": null,
            "right": null,
            "top": null,
            "visibility": null,
            "width": null
          }
        },
        "a7989c05437a4aafbe8bcb040f8c2af5": {
          "model_module": "@jupyter-widgets/controls",
          "model_name": "DescriptionStyleModel",
          "model_module_version": "1.5.0",
          "state": {
            "_model_module": "@jupyter-widgets/controls",
            "_model_module_version": "1.5.0",
            "_model_name": "DescriptionStyleModel",
            "_view_count": null,
            "_view_module": "@jupyter-widgets/base",
            "_view_module_version": "1.2.0",
            "_view_name": "StyleView",
            "description_width": ""
          }
        },
        "7a61e2a6ff76423cbf3b893bdf15057a": {
          "model_module": "@jupyter-widgets/controls",
          "model_name": "HBoxModel",
          "model_module_version": "1.5.0",
          "state": {
            "_dom_classes": [],
            "_model_module": "@jupyter-widgets/controls",
            "_model_module_version": "1.5.0",
            "_model_name": "HBoxModel",
            "_view_count": null,
            "_view_module": "@jupyter-widgets/controls",
            "_view_module_version": "1.5.0",
            "_view_name": "HBoxView",
            "box_style": "",
            "children": [
              "IPY_MODEL_984fbcca36b04d30bfe3d38f7058e560",
              "IPY_MODEL_eef74384dde54001a499d741e24fb0d9",
              "IPY_MODEL_044a3247a30d48a585437085a8c60c11"
            ],
            "layout": "IPY_MODEL_12800d2ba7604dd6b17613315071df77"
          }
        },
        "984fbcca36b04d30bfe3d38f7058e560": {
          "model_module": "@jupyter-widgets/controls",
          "model_name": "HTMLModel",
          "model_module_version": "1.5.0",
          "state": {
            "_dom_classes": [],
            "_model_module": "@jupyter-widgets/controls",
            "_model_module_version": "1.5.0",
            "_model_name": "HTMLModel",
            "_view_count": null,
            "_view_module": "@jupyter-widgets/controls",
            "_view_module_version": "1.5.0",
            "_view_name": "HTMLView",
            "description": "",
            "description_tooltip": null,
            "layout": "IPY_MODEL_bb978217b75e4647b20a34048cf97a46",
            "placeholder": "​",
            "style": "IPY_MODEL_4f476a7c303a460cba0bfa7c51566bc1",
            "value": "pytorch_model-00030-of-00033.bin: 100%"
          }
        },
        "eef74384dde54001a499d741e24fb0d9": {
          "model_module": "@jupyter-widgets/controls",
          "model_name": "FloatProgressModel",
          "model_module_version": "1.5.0",
          "state": {
            "_dom_classes": [],
            "_model_module": "@jupyter-widgets/controls",
            "_model_module_version": "1.5.0",
            "_model_name": "FloatProgressModel",
            "_view_count": null,
            "_view_module": "@jupyter-widgets/controls",
            "_view_module_version": "1.5.0",
            "_view_name": "ProgressView",
            "bar_style": "success",
            "description": "",
            "description_tooltip": null,
            "layout": "IPY_MODEL_22021146b27f42c0a460dc21caab90a0",
            "max": 404770755,
            "min": 0,
            "orientation": "horizontal",
            "style": "IPY_MODEL_7333cf3b6e314ffb815079a4d2111cee",
            "value": 404770755
          }
        },
        "044a3247a30d48a585437085a8c60c11": {
          "model_module": "@jupyter-widgets/controls",
          "model_name": "HTMLModel",
          "model_module_version": "1.5.0",
          "state": {
            "_dom_classes": [],
            "_model_module": "@jupyter-widgets/controls",
            "_model_module_version": "1.5.0",
            "_model_name": "HTMLModel",
            "_view_count": null,
            "_view_module": "@jupyter-widgets/controls",
            "_view_module_version": "1.5.0",
            "_view_name": "HTMLView",
            "description": "",
            "description_tooltip": null,
            "layout": "IPY_MODEL_3d7a5921ef094adeb9490bfa0bfa44ce",
            "placeholder": "​",
            "style": "IPY_MODEL_5496f0e71eca42da8dd7e1ec4bfc9a73",
            "value": " 405M/405M [00:03&lt;00:00, 101MB/s]"
          }
        },
        "12800d2ba7604dd6b17613315071df77": {
          "model_module": "@jupyter-widgets/base",
          "model_name": "LayoutModel",
          "model_module_version": "1.2.0",
          "state": {
            "_model_module": "@jupyter-widgets/base",
            "_model_module_version": "1.2.0",
            "_model_name": "LayoutModel",
            "_view_count": null,
            "_view_module": "@jupyter-widgets/base",
            "_view_module_version": "1.2.0",
            "_view_name": "LayoutView",
            "align_content": null,
            "align_items": null,
            "align_self": null,
            "border": null,
            "bottom": null,
            "display": null,
            "flex": null,
            "flex_flow": null,
            "grid_area": null,
            "grid_auto_columns": null,
            "grid_auto_flow": null,
            "grid_auto_rows": null,
            "grid_column": null,
            "grid_gap": null,
            "grid_row": null,
            "grid_template_areas": null,
            "grid_template_columns": null,
            "grid_template_rows": null,
            "height": null,
            "justify_content": null,
            "justify_items": null,
            "left": null,
            "margin": null,
            "max_height": null,
            "max_width": null,
            "min_height": null,
            "min_width": null,
            "object_fit": null,
            "object_position": null,
            "order": null,
            "overflow": null,
            "overflow_x": null,
            "overflow_y": null,
            "padding": null,
            "right": null,
            "top": null,
            "visibility": null,
            "width": null
          }
        },
        "bb978217b75e4647b20a34048cf97a46": {
          "model_module": "@jupyter-widgets/base",
          "model_name": "LayoutModel",
          "model_module_version": "1.2.0",
          "state": {
            "_model_module": "@jupyter-widgets/base",
            "_model_module_version": "1.2.0",
            "_model_name": "LayoutModel",
            "_view_count": null,
            "_view_module": "@jupyter-widgets/base",
            "_view_module_version": "1.2.0",
            "_view_name": "LayoutView",
            "align_content": null,
            "align_items": null,
            "align_self": null,
            "border": null,
            "bottom": null,
            "display": null,
            "flex": null,
            "flex_flow": null,
            "grid_area": null,
            "grid_auto_columns": null,
            "grid_auto_flow": null,
            "grid_auto_rows": null,
            "grid_column": null,
            "grid_gap": null,
            "grid_row": null,
            "grid_template_areas": null,
            "grid_template_columns": null,
            "grid_template_rows": null,
            "height": null,
            "justify_content": null,
            "justify_items": null,
            "left": null,
            "margin": null,
            "max_height": null,
            "max_width": null,
            "min_height": null,
            "min_width": null,
            "object_fit": null,
            "object_position": null,
            "order": null,
            "overflow": null,
            "overflow_x": null,
            "overflow_y": null,
            "padding": null,
            "right": null,
            "top": null,
            "visibility": null,
            "width": null
          }
        },
        "4f476a7c303a460cba0bfa7c51566bc1": {
          "model_module": "@jupyter-widgets/controls",
          "model_name": "DescriptionStyleModel",
          "model_module_version": "1.5.0",
          "state": {
            "_model_module": "@jupyter-widgets/controls",
            "_model_module_version": "1.5.0",
            "_model_name": "DescriptionStyleModel",
            "_view_count": null,
            "_view_module": "@jupyter-widgets/base",
            "_view_module_version": "1.2.0",
            "_view_name": "StyleView",
            "description_width": ""
          }
        },
        "22021146b27f42c0a460dc21caab90a0": {
          "model_module": "@jupyter-widgets/base",
          "model_name": "LayoutModel",
          "model_module_version": "1.2.0",
          "state": {
            "_model_module": "@jupyter-widgets/base",
            "_model_module_version": "1.2.0",
            "_model_name": "LayoutModel",
            "_view_count": null,
            "_view_module": "@jupyter-widgets/base",
            "_view_module_version": "1.2.0",
            "_view_name": "LayoutView",
            "align_content": null,
            "align_items": null,
            "align_self": null,
            "border": null,
            "bottom": null,
            "display": null,
            "flex": null,
            "flex_flow": null,
            "grid_area": null,
            "grid_auto_columns": null,
            "grid_auto_flow": null,
            "grid_auto_rows": null,
            "grid_column": null,
            "grid_gap": null,
            "grid_row": null,
            "grid_template_areas": null,
            "grid_template_columns": null,
            "grid_template_rows": null,
            "height": null,
            "justify_content": null,
            "justify_items": null,
            "left": null,
            "margin": null,
            "max_height": null,
            "max_width": null,
            "min_height": null,
            "min_width": null,
            "object_fit": null,
            "object_position": null,
            "order": null,
            "overflow": null,
            "overflow_x": null,
            "overflow_y": null,
            "padding": null,
            "right": null,
            "top": null,
            "visibility": null,
            "width": null
          }
        },
        "7333cf3b6e314ffb815079a4d2111cee": {
          "model_module": "@jupyter-widgets/controls",
          "model_name": "ProgressStyleModel",
          "model_module_version": "1.5.0",
          "state": {
            "_model_module": "@jupyter-widgets/controls",
            "_model_module_version": "1.5.0",
            "_model_name": "ProgressStyleModel",
            "_view_count": null,
            "_view_module": "@jupyter-widgets/base",
            "_view_module_version": "1.2.0",
            "_view_name": "StyleView",
            "bar_color": null,
            "description_width": ""
          }
        },
        "3d7a5921ef094adeb9490bfa0bfa44ce": {
          "model_module": "@jupyter-widgets/base",
          "model_name": "LayoutModel",
          "model_module_version": "1.2.0",
          "state": {
            "_model_module": "@jupyter-widgets/base",
            "_model_module_version": "1.2.0",
            "_model_name": "LayoutModel",
            "_view_count": null,
            "_view_module": "@jupyter-widgets/base",
            "_view_module_version": "1.2.0",
            "_view_name": "LayoutView",
            "align_content": null,
            "align_items": null,
            "align_self": null,
            "border": null,
            "bottom": null,
            "display": null,
            "flex": null,
            "flex_flow": null,
            "grid_area": null,
            "grid_auto_columns": null,
            "grid_auto_flow": null,
            "grid_auto_rows": null,
            "grid_column": null,
            "grid_gap": null,
            "grid_row": null,
            "grid_template_areas": null,
            "grid_template_columns": null,
            "grid_template_rows": null,
            "height": null,
            "justify_content": null,
            "justify_items": null,
            "left": null,
            "margin": null,
            "max_height": null,
            "max_width": null,
            "min_height": null,
            "min_width": null,
            "object_fit": null,
            "object_position": null,
            "order": null,
            "overflow": null,
            "overflow_x": null,
            "overflow_y": null,
            "padding": null,
            "right": null,
            "top": null,
            "visibility": null,
            "width": null
          }
        },
        "5496f0e71eca42da8dd7e1ec4bfc9a73": {
          "model_module": "@jupyter-widgets/controls",
          "model_name": "DescriptionStyleModel",
          "model_module_version": "1.5.0",
          "state": {
            "_model_module": "@jupyter-widgets/controls",
            "_model_module_version": "1.5.0",
            "_model_name": "DescriptionStyleModel",
            "_view_count": null,
            "_view_module": "@jupyter-widgets/base",
            "_view_module_version": "1.2.0",
            "_view_name": "StyleView",
            "description_width": ""
          }
        },
        "80f21a1d9ffd4c84ad6a2a985c865ae2": {
          "model_module": "@jupyter-widgets/controls",
          "model_name": "HBoxModel",
          "model_module_version": "1.5.0",
          "state": {
            "_dom_classes": [],
            "_model_module": "@jupyter-widgets/controls",
            "_model_module_version": "1.5.0",
            "_model_name": "HBoxModel",
            "_view_count": null,
            "_view_module": "@jupyter-widgets/controls",
            "_view_module_version": "1.5.0",
            "_view_name": "HBoxView",
            "box_style": "",
            "children": [
              "IPY_MODEL_a5f1f18540884a1494cf9a237395f1ab",
              "IPY_MODEL_db6de99032ed412680d2e2b2956050f8",
              "IPY_MODEL_a466772f171b43bc9440caecbf27c99f"
            ],
            "layout": "IPY_MODEL_614335ec946140b38035b2a7d932a24a"
          }
        },
        "a5f1f18540884a1494cf9a237395f1ab": {
          "model_module": "@jupyter-widgets/controls",
          "model_name": "HTMLModel",
          "model_module_version": "1.5.0",
          "state": {
            "_dom_classes": [],
            "_model_module": "@jupyter-widgets/controls",
            "_model_module_version": "1.5.0",
            "_model_name": "HTMLModel",
            "_view_count": null,
            "_view_module": "@jupyter-widgets/controls",
            "_view_module_version": "1.5.0",
            "_view_name": "HTMLView",
            "description": "",
            "description_tooltip": null,
            "layout": "IPY_MODEL_35c447faf0c842d48fa56a82e11097ec",
            "placeholder": "​",
            "style": "IPY_MODEL_6286667b22eb43a39a2c33fbedc14ee9",
            "value": "pytorch_model-00031-of-00033.bin: 100%"
          }
        },
        "db6de99032ed412680d2e2b2956050f8": {
          "model_module": "@jupyter-widgets/controls",
          "model_name": "FloatProgressModel",
          "model_module_version": "1.5.0",
          "state": {
            "_dom_classes": [],
            "_model_module": "@jupyter-widgets/controls",
            "_model_module_version": "1.5.0",
            "_model_name": "FloatProgressModel",
            "_view_count": null,
            "_view_module": "@jupyter-widgets/controls",
            "_view_module_version": "1.5.0",
            "_view_name": "ProgressView",
            "bar_style": "success",
            "description": "",
            "description_tooltip": null,
            "layout": "IPY_MODEL_c740792b14224e3fa840c8130ea520f5",
            "max": 404770755,
            "min": 0,
            "orientation": "horizontal",
            "style": "IPY_MODEL_29c3058d5b5e4bd7b81dd128986e6634",
            "value": 404770755
          }
        },
        "a466772f171b43bc9440caecbf27c99f": {
          "model_module": "@jupyter-widgets/controls",
          "model_name": "HTMLModel",
          "model_module_version": "1.5.0",
          "state": {
            "_dom_classes": [],
            "_model_module": "@jupyter-widgets/controls",
            "_model_module_version": "1.5.0",
            "_model_name": "HTMLModel",
            "_view_count": null,
            "_view_module": "@jupyter-widgets/controls",
            "_view_module_version": "1.5.0",
            "_view_name": "HTMLView",
            "description": "",
            "description_tooltip": null,
            "layout": "IPY_MODEL_0beac101e96d46feaa501442e8b3ab59",
            "placeholder": "​",
            "style": "IPY_MODEL_1b26cf9318724056bd20fd3ccff62e6b",
            "value": " 405M/405M [00:01&lt;00:00, 245MB/s]"
          }
        },
        "614335ec946140b38035b2a7d932a24a": {
          "model_module": "@jupyter-widgets/base",
          "model_name": "LayoutModel",
          "model_module_version": "1.2.0",
          "state": {
            "_model_module": "@jupyter-widgets/base",
            "_model_module_version": "1.2.0",
            "_model_name": "LayoutModel",
            "_view_count": null,
            "_view_module": "@jupyter-widgets/base",
            "_view_module_version": "1.2.0",
            "_view_name": "LayoutView",
            "align_content": null,
            "align_items": null,
            "align_self": null,
            "border": null,
            "bottom": null,
            "display": null,
            "flex": null,
            "flex_flow": null,
            "grid_area": null,
            "grid_auto_columns": null,
            "grid_auto_flow": null,
            "grid_auto_rows": null,
            "grid_column": null,
            "grid_gap": null,
            "grid_row": null,
            "grid_template_areas": null,
            "grid_template_columns": null,
            "grid_template_rows": null,
            "height": null,
            "justify_content": null,
            "justify_items": null,
            "left": null,
            "margin": null,
            "max_height": null,
            "max_width": null,
            "min_height": null,
            "min_width": null,
            "object_fit": null,
            "object_position": null,
            "order": null,
            "overflow": null,
            "overflow_x": null,
            "overflow_y": null,
            "padding": null,
            "right": null,
            "top": null,
            "visibility": null,
            "width": null
          }
        },
        "35c447faf0c842d48fa56a82e11097ec": {
          "model_module": "@jupyter-widgets/base",
          "model_name": "LayoutModel",
          "model_module_version": "1.2.0",
          "state": {
            "_model_module": "@jupyter-widgets/base",
            "_model_module_version": "1.2.0",
            "_model_name": "LayoutModel",
            "_view_count": null,
            "_view_module": "@jupyter-widgets/base",
            "_view_module_version": "1.2.0",
            "_view_name": "LayoutView",
            "align_content": null,
            "align_items": null,
            "align_self": null,
            "border": null,
            "bottom": null,
            "display": null,
            "flex": null,
            "flex_flow": null,
            "grid_area": null,
            "grid_auto_columns": null,
            "grid_auto_flow": null,
            "grid_auto_rows": null,
            "grid_column": null,
            "grid_gap": null,
            "grid_row": null,
            "grid_template_areas": null,
            "grid_template_columns": null,
            "grid_template_rows": null,
            "height": null,
            "justify_content": null,
            "justify_items": null,
            "left": null,
            "margin": null,
            "max_height": null,
            "max_width": null,
            "min_height": null,
            "min_width": null,
            "object_fit": null,
            "object_position": null,
            "order": null,
            "overflow": null,
            "overflow_x": null,
            "overflow_y": null,
            "padding": null,
            "right": null,
            "top": null,
            "visibility": null,
            "width": null
          }
        },
        "6286667b22eb43a39a2c33fbedc14ee9": {
          "model_module": "@jupyter-widgets/controls",
          "model_name": "DescriptionStyleModel",
          "model_module_version": "1.5.0",
          "state": {
            "_model_module": "@jupyter-widgets/controls",
            "_model_module_version": "1.5.0",
            "_model_name": "DescriptionStyleModel",
            "_view_count": null,
            "_view_module": "@jupyter-widgets/base",
            "_view_module_version": "1.2.0",
            "_view_name": "StyleView",
            "description_width": ""
          }
        },
        "c740792b14224e3fa840c8130ea520f5": {
          "model_module": "@jupyter-widgets/base",
          "model_name": "LayoutModel",
          "model_module_version": "1.2.0",
          "state": {
            "_model_module": "@jupyter-widgets/base",
            "_model_module_version": "1.2.0",
            "_model_name": "LayoutModel",
            "_view_count": null,
            "_view_module": "@jupyter-widgets/base",
            "_view_module_version": "1.2.0",
            "_view_name": "LayoutView",
            "align_content": null,
            "align_items": null,
            "align_self": null,
            "border": null,
            "bottom": null,
            "display": null,
            "flex": null,
            "flex_flow": null,
            "grid_area": null,
            "grid_auto_columns": null,
            "grid_auto_flow": null,
            "grid_auto_rows": null,
            "grid_column": null,
            "grid_gap": null,
            "grid_row": null,
            "grid_template_areas": null,
            "grid_template_columns": null,
            "grid_template_rows": null,
            "height": null,
            "justify_content": null,
            "justify_items": null,
            "left": null,
            "margin": null,
            "max_height": null,
            "max_width": null,
            "min_height": null,
            "min_width": null,
            "object_fit": null,
            "object_position": null,
            "order": null,
            "overflow": null,
            "overflow_x": null,
            "overflow_y": null,
            "padding": null,
            "right": null,
            "top": null,
            "visibility": null,
            "width": null
          }
        },
        "29c3058d5b5e4bd7b81dd128986e6634": {
          "model_module": "@jupyter-widgets/controls",
          "model_name": "ProgressStyleModel",
          "model_module_version": "1.5.0",
          "state": {
            "_model_module": "@jupyter-widgets/controls",
            "_model_module_version": "1.5.0",
            "_model_name": "ProgressStyleModel",
            "_view_count": null,
            "_view_module": "@jupyter-widgets/base",
            "_view_module_version": "1.2.0",
            "_view_name": "StyleView",
            "bar_color": null,
            "description_width": ""
          }
        },
        "0beac101e96d46feaa501442e8b3ab59": {
          "model_module": "@jupyter-widgets/base",
          "model_name": "LayoutModel",
          "model_module_version": "1.2.0",
          "state": {
            "_model_module": "@jupyter-widgets/base",
            "_model_module_version": "1.2.0",
            "_model_name": "LayoutModel",
            "_view_count": null,
            "_view_module": "@jupyter-widgets/base",
            "_view_module_version": "1.2.0",
            "_view_name": "LayoutView",
            "align_content": null,
            "align_items": null,
            "align_self": null,
            "border": null,
            "bottom": null,
            "display": null,
            "flex": null,
            "flex_flow": null,
            "grid_area": null,
            "grid_auto_columns": null,
            "grid_auto_flow": null,
            "grid_auto_rows": null,
            "grid_column": null,
            "grid_gap": null,
            "grid_row": null,
            "grid_template_areas": null,
            "grid_template_columns": null,
            "grid_template_rows": null,
            "height": null,
            "justify_content": null,
            "justify_items": null,
            "left": null,
            "margin": null,
            "max_height": null,
            "max_width": null,
            "min_height": null,
            "min_width": null,
            "object_fit": null,
            "object_position": null,
            "order": null,
            "overflow": null,
            "overflow_x": null,
            "overflow_y": null,
            "padding": null,
            "right": null,
            "top": null,
            "visibility": null,
            "width": null
          }
        },
        "1b26cf9318724056bd20fd3ccff62e6b": {
          "model_module": "@jupyter-widgets/controls",
          "model_name": "DescriptionStyleModel",
          "model_module_version": "1.5.0",
          "state": {
            "_model_module": "@jupyter-widgets/controls",
            "_model_module_version": "1.5.0",
            "_model_name": "DescriptionStyleModel",
            "_view_count": null,
            "_view_module": "@jupyter-widgets/base",
            "_view_module_version": "1.2.0",
            "_view_name": "StyleView",
            "description_width": ""
          }
        },
        "ab97673d29644f46aca1d2848dcf9c9e": {
          "model_module": "@jupyter-widgets/controls",
          "model_name": "HBoxModel",
          "model_module_version": "1.5.0",
          "state": {
            "_dom_classes": [],
            "_model_module": "@jupyter-widgets/controls",
            "_model_module_version": "1.5.0",
            "_model_name": "HBoxModel",
            "_view_count": null,
            "_view_module": "@jupyter-widgets/controls",
            "_view_module_version": "1.5.0",
            "_view_name": "HBoxView",
            "box_style": "",
            "children": [
              "IPY_MODEL_ade6c620e4b5406487ea08fd3c2167fe",
              "IPY_MODEL_9b9beb18a58549caa5f436c67943804b",
              "IPY_MODEL_a2172708f3ce40ec8f964ff0ba9f1307"
            ],
            "layout": "IPY_MODEL_9fa6b3e446974906bce622268154497e"
          }
        },
        "ade6c620e4b5406487ea08fd3c2167fe": {
          "model_module": "@jupyter-widgets/controls",
          "model_name": "HTMLModel",
          "model_module_version": "1.5.0",
          "state": {
            "_dom_classes": [],
            "_model_module": "@jupyter-widgets/controls",
            "_model_module_version": "1.5.0",
            "_model_name": "HTMLModel",
            "_view_count": null,
            "_view_module": "@jupyter-widgets/controls",
            "_view_module_version": "1.5.0",
            "_view_name": "HTMLView",
            "description": "",
            "description_tooltip": null,
            "layout": "IPY_MODEL_0fc01572f7074ae988893a36eadb0903",
            "placeholder": "​",
            "style": "IPY_MODEL_ccecca128d2b44cd8b6b58a50fe76cc0",
            "value": "pytorch_model-00032-of-00033.bin: 100%"
          }
        },
        "9b9beb18a58549caa5f436c67943804b": {
          "model_module": "@jupyter-widgets/controls",
          "model_name": "FloatProgressModel",
          "model_module_version": "1.5.0",
          "state": {
            "_dom_classes": [],
            "_model_module": "@jupyter-widgets/controls",
            "_model_module_version": "1.5.0",
            "_model_name": "FloatProgressModel",
            "_view_count": null,
            "_view_module": "@jupyter-widgets/controls",
            "_view_module_version": "1.5.0",
            "_view_name": "ProgressView",
            "bar_style": "success",
            "description": "",
            "description_tooltip": null,
            "layout": "IPY_MODEL_591f1faa72d04de4873a256f50912784",
            "max": 404770755,
            "min": 0,
            "orientation": "horizontal",
            "style": "IPY_MODEL_16b61135733f48509144ab3ee9108292",
            "value": 404770755
          }
        },
        "a2172708f3ce40ec8f964ff0ba9f1307": {
          "model_module": "@jupyter-widgets/controls",
          "model_name": "HTMLModel",
          "model_module_version": "1.5.0",
          "state": {
            "_dom_classes": [],
            "_model_module": "@jupyter-widgets/controls",
            "_model_module_version": "1.5.0",
            "_model_name": "HTMLModel",
            "_view_count": null,
            "_view_module": "@jupyter-widgets/controls",
            "_view_module_version": "1.5.0",
            "_view_name": "HTMLView",
            "description": "",
            "description_tooltip": null,
            "layout": "IPY_MODEL_1e0a56a221f246d7b16554668d62aaa8",
            "placeholder": "​",
            "style": "IPY_MODEL_fc4ed8ec67544ccbb02b95c885ba4163",
            "value": " 405M/405M [00:01&lt;00:00, 287MB/s]"
          }
        },
        "9fa6b3e446974906bce622268154497e": {
          "model_module": "@jupyter-widgets/base",
          "model_name": "LayoutModel",
          "model_module_version": "1.2.0",
          "state": {
            "_model_module": "@jupyter-widgets/base",
            "_model_module_version": "1.2.0",
            "_model_name": "LayoutModel",
            "_view_count": null,
            "_view_module": "@jupyter-widgets/base",
            "_view_module_version": "1.2.0",
            "_view_name": "LayoutView",
            "align_content": null,
            "align_items": null,
            "align_self": null,
            "border": null,
            "bottom": null,
            "display": null,
            "flex": null,
            "flex_flow": null,
            "grid_area": null,
            "grid_auto_columns": null,
            "grid_auto_flow": null,
            "grid_auto_rows": null,
            "grid_column": null,
            "grid_gap": null,
            "grid_row": null,
            "grid_template_areas": null,
            "grid_template_columns": null,
            "grid_template_rows": null,
            "height": null,
            "justify_content": null,
            "justify_items": null,
            "left": null,
            "margin": null,
            "max_height": null,
            "max_width": null,
            "min_height": null,
            "min_width": null,
            "object_fit": null,
            "object_position": null,
            "order": null,
            "overflow": null,
            "overflow_x": null,
            "overflow_y": null,
            "padding": null,
            "right": null,
            "top": null,
            "visibility": null,
            "width": null
          }
        },
        "0fc01572f7074ae988893a36eadb0903": {
          "model_module": "@jupyter-widgets/base",
          "model_name": "LayoutModel",
          "model_module_version": "1.2.0",
          "state": {
            "_model_module": "@jupyter-widgets/base",
            "_model_module_version": "1.2.0",
            "_model_name": "LayoutModel",
            "_view_count": null,
            "_view_module": "@jupyter-widgets/base",
            "_view_module_version": "1.2.0",
            "_view_name": "LayoutView",
            "align_content": null,
            "align_items": null,
            "align_self": null,
            "border": null,
            "bottom": null,
            "display": null,
            "flex": null,
            "flex_flow": null,
            "grid_area": null,
            "grid_auto_columns": null,
            "grid_auto_flow": null,
            "grid_auto_rows": null,
            "grid_column": null,
            "grid_gap": null,
            "grid_row": null,
            "grid_template_areas": null,
            "grid_template_columns": null,
            "grid_template_rows": null,
            "height": null,
            "justify_content": null,
            "justify_items": null,
            "left": null,
            "margin": null,
            "max_height": null,
            "max_width": null,
            "min_height": null,
            "min_width": null,
            "object_fit": null,
            "object_position": null,
            "order": null,
            "overflow": null,
            "overflow_x": null,
            "overflow_y": null,
            "padding": null,
            "right": null,
            "top": null,
            "visibility": null,
            "width": null
          }
        },
        "ccecca128d2b44cd8b6b58a50fe76cc0": {
          "model_module": "@jupyter-widgets/controls",
          "model_name": "DescriptionStyleModel",
          "model_module_version": "1.5.0",
          "state": {
            "_model_module": "@jupyter-widgets/controls",
            "_model_module_version": "1.5.0",
            "_model_name": "DescriptionStyleModel",
            "_view_count": null,
            "_view_module": "@jupyter-widgets/base",
            "_view_module_version": "1.2.0",
            "_view_name": "StyleView",
            "description_width": ""
          }
        },
        "591f1faa72d04de4873a256f50912784": {
          "model_module": "@jupyter-widgets/base",
          "model_name": "LayoutModel",
          "model_module_version": "1.2.0",
          "state": {
            "_model_module": "@jupyter-widgets/base",
            "_model_module_version": "1.2.0",
            "_model_name": "LayoutModel",
            "_view_count": null,
            "_view_module": "@jupyter-widgets/base",
            "_view_module_version": "1.2.0",
            "_view_name": "LayoutView",
            "align_content": null,
            "align_items": null,
            "align_self": null,
            "border": null,
            "bottom": null,
            "display": null,
            "flex": null,
            "flex_flow": null,
            "grid_area": null,
            "grid_auto_columns": null,
            "grid_auto_flow": null,
            "grid_auto_rows": null,
            "grid_column": null,
            "grid_gap": null,
            "grid_row": null,
            "grid_template_areas": null,
            "grid_template_columns": null,
            "grid_template_rows": null,
            "height": null,
            "justify_content": null,
            "justify_items": null,
            "left": null,
            "margin": null,
            "max_height": null,
            "max_width": null,
            "min_height": null,
            "min_width": null,
            "object_fit": null,
            "object_position": null,
            "order": null,
            "overflow": null,
            "overflow_x": null,
            "overflow_y": null,
            "padding": null,
            "right": null,
            "top": null,
            "visibility": null,
            "width": null
          }
        },
        "16b61135733f48509144ab3ee9108292": {
          "model_module": "@jupyter-widgets/controls",
          "model_name": "ProgressStyleModel",
          "model_module_version": "1.5.0",
          "state": {
            "_model_module": "@jupyter-widgets/controls",
            "_model_module_version": "1.5.0",
            "_model_name": "ProgressStyleModel",
            "_view_count": null,
            "_view_module": "@jupyter-widgets/base",
            "_view_module_version": "1.2.0",
            "_view_name": "StyleView",
            "bar_color": null,
            "description_width": ""
          }
        },
        "1e0a56a221f246d7b16554668d62aaa8": {
          "model_module": "@jupyter-widgets/base",
          "model_name": "LayoutModel",
          "model_module_version": "1.2.0",
          "state": {
            "_model_module": "@jupyter-widgets/base",
            "_model_module_version": "1.2.0",
            "_model_name": "LayoutModel",
            "_view_count": null,
            "_view_module": "@jupyter-widgets/base",
            "_view_module_version": "1.2.0",
            "_view_name": "LayoutView",
            "align_content": null,
            "align_items": null,
            "align_self": null,
            "border": null,
            "bottom": null,
            "display": null,
            "flex": null,
            "flex_flow": null,
            "grid_area": null,
            "grid_auto_columns": null,
            "grid_auto_flow": null,
            "grid_auto_rows": null,
            "grid_column": null,
            "grid_gap": null,
            "grid_row": null,
            "grid_template_areas": null,
            "grid_template_columns": null,
            "grid_template_rows": null,
            "height": null,
            "justify_content": null,
            "justify_items": null,
            "left": null,
            "margin": null,
            "max_height": null,
            "max_width": null,
            "min_height": null,
            "min_width": null,
            "object_fit": null,
            "object_position": null,
            "order": null,
            "overflow": null,
            "overflow_x": null,
            "overflow_y": null,
            "padding": null,
            "right": null,
            "top": null,
            "visibility": null,
            "width": null
          }
        },
        "fc4ed8ec67544ccbb02b95c885ba4163": {
          "model_module": "@jupyter-widgets/controls",
          "model_name": "DescriptionStyleModel",
          "model_module_version": "1.5.0",
          "state": {
            "_model_module": "@jupyter-widgets/controls",
            "_model_module_version": "1.5.0",
            "_model_name": "DescriptionStyleModel",
            "_view_count": null,
            "_view_module": "@jupyter-widgets/base",
            "_view_module_version": "1.2.0",
            "_view_name": "StyleView",
            "description_width": ""
          }
        },
        "e593414017d640118666a6cb0d22a825": {
          "model_module": "@jupyter-widgets/controls",
          "model_name": "HBoxModel",
          "model_module_version": "1.5.0",
          "state": {
            "_dom_classes": [],
            "_model_module": "@jupyter-widgets/controls",
            "_model_module_version": "1.5.0",
            "_model_name": "HBoxModel",
            "_view_count": null,
            "_view_module": "@jupyter-widgets/controls",
            "_view_module_version": "1.5.0",
            "_view_name": "HBoxView",
            "box_style": "",
            "children": [
              "IPY_MODEL_4692a8f8d3e143319369ece14f42b707",
              "IPY_MODEL_d67dff74c88f499ca4cd3ac8c70d50d5",
              "IPY_MODEL_3ea7b914e9eb4358b7f2239563e1a295"
            ],
            "layout": "IPY_MODEL_39297e0cb6f9452ba6c42bbef04a0e71"
          }
        },
        "4692a8f8d3e143319369ece14f42b707": {
          "model_module": "@jupyter-widgets/controls",
          "model_name": "HTMLModel",
          "model_module_version": "1.5.0",
          "state": {
            "_dom_classes": [],
            "_model_module": "@jupyter-widgets/controls",
            "_model_module_version": "1.5.0",
            "_model_name": "HTMLModel",
            "_view_count": null,
            "_view_module": "@jupyter-widgets/controls",
            "_view_module_version": "1.5.0",
            "_view_name": "HTMLView",
            "description": "",
            "description_tooltip": null,
            "layout": "IPY_MODEL_27fc0529585649db80b23c4d60aa407f",
            "placeholder": "​",
            "style": "IPY_MODEL_9c1ccef5a31c478c8a3582f5558e0bfb",
            "value": "pytorch_model-00033-of-00033.bin: 100%"
          }
        },
        "d67dff74c88f499ca4cd3ac8c70d50d5": {
          "model_module": "@jupyter-widgets/controls",
          "model_name": "FloatProgressModel",
          "model_module_version": "1.5.0",
          "state": {
            "_dom_classes": [],
            "_model_module": "@jupyter-widgets/controls",
            "_model_module_version": "1.5.0",
            "_model_name": "FloatProgressModel",
            "_view_count": null,
            "_view_module": "@jupyter-widgets/controls",
            "_view_module_version": "1.5.0",
            "_view_name": "ProgressView",
            "bar_style": "success",
            "description": "",
            "description_tooltip": null,
            "layout": "IPY_MODEL_1fb4ca5bfa514a5d88f49c5d43145d2e",
            "max": 524297676,
            "min": 0,
            "orientation": "horizontal",
            "style": "IPY_MODEL_4e0556bb119d43a2806557a55504d29f",
            "value": 524297676
          }
        },
        "3ea7b914e9eb4358b7f2239563e1a295": {
          "model_module": "@jupyter-widgets/controls",
          "model_name": "HTMLModel",
          "model_module_version": "1.5.0",
          "state": {
            "_dom_classes": [],
            "_model_module": "@jupyter-widgets/controls",
            "_model_module_version": "1.5.0",
            "_model_name": "HTMLModel",
            "_view_count": null,
            "_view_module": "@jupyter-widgets/controls",
            "_view_module_version": "1.5.0",
            "_view_name": "HTMLView",
            "description": "",
            "description_tooltip": null,
            "layout": "IPY_MODEL_c7692d1ebbb0435fa6c6e2449cc81309",
            "placeholder": "​",
            "style": "IPY_MODEL_7673356077e44cec82a58e57ab1bc4db",
            "value": " 524M/524M [00:35&lt;00:00, 15.0MB/s]"
          }
        },
        "39297e0cb6f9452ba6c42bbef04a0e71": {
          "model_module": "@jupyter-widgets/base",
          "model_name": "LayoutModel",
          "model_module_version": "1.2.0",
          "state": {
            "_model_module": "@jupyter-widgets/base",
            "_model_module_version": "1.2.0",
            "_model_name": "LayoutModel",
            "_view_count": null,
            "_view_module": "@jupyter-widgets/base",
            "_view_module_version": "1.2.0",
            "_view_name": "LayoutView",
            "align_content": null,
            "align_items": null,
            "align_self": null,
            "border": null,
            "bottom": null,
            "display": null,
            "flex": null,
            "flex_flow": null,
            "grid_area": null,
            "grid_auto_columns": null,
            "grid_auto_flow": null,
            "grid_auto_rows": null,
            "grid_column": null,
            "grid_gap": null,
            "grid_row": null,
            "grid_template_areas": null,
            "grid_template_columns": null,
            "grid_template_rows": null,
            "height": null,
            "justify_content": null,
            "justify_items": null,
            "left": null,
            "margin": null,
            "max_height": null,
            "max_width": null,
            "min_height": null,
            "min_width": null,
            "object_fit": null,
            "object_position": null,
            "order": null,
            "overflow": null,
            "overflow_x": null,
            "overflow_y": null,
            "padding": null,
            "right": null,
            "top": null,
            "visibility": null,
            "width": null
          }
        },
        "27fc0529585649db80b23c4d60aa407f": {
          "model_module": "@jupyter-widgets/base",
          "model_name": "LayoutModel",
          "model_module_version": "1.2.0",
          "state": {
            "_model_module": "@jupyter-widgets/base",
            "_model_module_version": "1.2.0",
            "_model_name": "LayoutModel",
            "_view_count": null,
            "_view_module": "@jupyter-widgets/base",
            "_view_module_version": "1.2.0",
            "_view_name": "LayoutView",
            "align_content": null,
            "align_items": null,
            "align_self": null,
            "border": null,
            "bottom": null,
            "display": null,
            "flex": null,
            "flex_flow": null,
            "grid_area": null,
            "grid_auto_columns": null,
            "grid_auto_flow": null,
            "grid_auto_rows": null,
            "grid_column": null,
            "grid_gap": null,
            "grid_row": null,
            "grid_template_areas": null,
            "grid_template_columns": null,
            "grid_template_rows": null,
            "height": null,
            "justify_content": null,
            "justify_items": null,
            "left": null,
            "margin": null,
            "max_height": null,
            "max_width": null,
            "min_height": null,
            "min_width": null,
            "object_fit": null,
            "object_position": null,
            "order": null,
            "overflow": null,
            "overflow_x": null,
            "overflow_y": null,
            "padding": null,
            "right": null,
            "top": null,
            "visibility": null,
            "width": null
          }
        },
        "9c1ccef5a31c478c8a3582f5558e0bfb": {
          "model_module": "@jupyter-widgets/controls",
          "model_name": "DescriptionStyleModel",
          "model_module_version": "1.5.0",
          "state": {
            "_model_module": "@jupyter-widgets/controls",
            "_model_module_version": "1.5.0",
            "_model_name": "DescriptionStyleModel",
            "_view_count": null,
            "_view_module": "@jupyter-widgets/base",
            "_view_module_version": "1.2.0",
            "_view_name": "StyleView",
            "description_width": ""
          }
        },
        "1fb4ca5bfa514a5d88f49c5d43145d2e": {
          "model_module": "@jupyter-widgets/base",
          "model_name": "LayoutModel",
          "model_module_version": "1.2.0",
          "state": {
            "_model_module": "@jupyter-widgets/base",
            "_model_module_version": "1.2.0",
            "_model_name": "LayoutModel",
            "_view_count": null,
            "_view_module": "@jupyter-widgets/base",
            "_view_module_version": "1.2.0",
            "_view_name": "LayoutView",
            "align_content": null,
            "align_items": null,
            "align_self": null,
            "border": null,
            "bottom": null,
            "display": null,
            "flex": null,
            "flex_flow": null,
            "grid_area": null,
            "grid_auto_columns": null,
            "grid_auto_flow": null,
            "grid_auto_rows": null,
            "grid_column": null,
            "grid_gap": null,
            "grid_row": null,
            "grid_template_areas": null,
            "grid_template_columns": null,
            "grid_template_rows": null,
            "height": null,
            "justify_content": null,
            "justify_items": null,
            "left": null,
            "margin": null,
            "max_height": null,
            "max_width": null,
            "min_height": null,
            "min_width": null,
            "object_fit": null,
            "object_position": null,
            "order": null,
            "overflow": null,
            "overflow_x": null,
            "overflow_y": null,
            "padding": null,
            "right": null,
            "top": null,
            "visibility": null,
            "width": null
          }
        },
        "4e0556bb119d43a2806557a55504d29f": {
          "model_module": "@jupyter-widgets/controls",
          "model_name": "ProgressStyleModel",
          "model_module_version": "1.5.0",
          "state": {
            "_model_module": "@jupyter-widgets/controls",
            "_model_module_version": "1.5.0",
            "_model_name": "ProgressStyleModel",
            "_view_count": null,
            "_view_module": "@jupyter-widgets/base",
            "_view_module_version": "1.2.0",
            "_view_name": "StyleView",
            "bar_color": null,
            "description_width": ""
          }
        },
        "c7692d1ebbb0435fa6c6e2449cc81309": {
          "model_module": "@jupyter-widgets/base",
          "model_name": "LayoutModel",
          "model_module_version": "1.2.0",
          "state": {
            "_model_module": "@jupyter-widgets/base",
            "_model_module_version": "1.2.0",
            "_model_name": "LayoutModel",
            "_view_count": null,
            "_view_module": "@jupyter-widgets/base",
            "_view_module_version": "1.2.0",
            "_view_name": "LayoutView",
            "align_content": null,
            "align_items": null,
            "align_self": null,
            "border": null,
            "bottom": null,
            "display": null,
            "flex": null,
            "flex_flow": null,
            "grid_area": null,
            "grid_auto_columns": null,
            "grid_auto_flow": null,
            "grid_auto_rows": null,
            "grid_column": null,
            "grid_gap": null,
            "grid_row": null,
            "grid_template_areas": null,
            "grid_template_columns": null,
            "grid_template_rows": null,
            "height": null,
            "justify_content": null,
            "justify_items": null,
            "left": null,
            "margin": null,
            "max_height": null,
            "max_width": null,
            "min_height": null,
            "min_width": null,
            "object_fit": null,
            "object_position": null,
            "order": null,
            "overflow": null,
            "overflow_x": null,
            "overflow_y": null,
            "padding": null,
            "right": null,
            "top": null,
            "visibility": null,
            "width": null
          }
        },
        "7673356077e44cec82a58e57ab1bc4db": {
          "model_module": "@jupyter-widgets/controls",
          "model_name": "DescriptionStyleModel",
          "model_module_version": "1.5.0",
          "state": {
            "_model_module": "@jupyter-widgets/controls",
            "_model_module_version": "1.5.0",
            "_model_name": "DescriptionStyleModel",
            "_view_count": null,
            "_view_module": "@jupyter-widgets/base",
            "_view_module_version": "1.2.0",
            "_view_name": "StyleView",
            "description_width": ""
          }
        },
        "f89e3bf4b1544a228c3e32628731244f": {
          "model_module": "@jupyter-widgets/controls",
          "model_name": "HBoxModel",
          "model_module_version": "1.5.0",
          "state": {
            "_dom_classes": [],
            "_model_module": "@jupyter-widgets/controls",
            "_model_module_version": "1.5.0",
            "_model_name": "HBoxModel",
            "_view_count": null,
            "_view_module": "@jupyter-widgets/controls",
            "_view_module_version": "1.5.0",
            "_view_name": "HBoxView",
            "box_style": "",
            "children": [
              "IPY_MODEL_d9aa16fea954476e95a4662f361af0ea",
              "IPY_MODEL_fbf23479d1624b44a4ef384a4a6be4f7",
              "IPY_MODEL_6f0d6abc7d37487ab5873c9829986222"
            ],
            "layout": "IPY_MODEL_0c4889f3186848ce846c9b0d7d718f5e"
          }
        },
        "d9aa16fea954476e95a4662f361af0ea": {
          "model_module": "@jupyter-widgets/controls",
          "model_name": "HTMLModel",
          "model_module_version": "1.5.0",
          "state": {
            "_dom_classes": [],
            "_model_module": "@jupyter-widgets/controls",
            "_model_module_version": "1.5.0",
            "_model_name": "HTMLModel",
            "_view_count": null,
            "_view_module": "@jupyter-widgets/controls",
            "_view_module_version": "1.5.0",
            "_view_name": "HTMLView",
            "description": "",
            "description_tooltip": null,
            "layout": "IPY_MODEL_74debc42765745258d095662dc13160a",
            "placeholder": "​",
            "style": "IPY_MODEL_7466121778df49aaa5ce61ede32b356f",
            "value": "Loading checkpoint shards: 100%"
          }
        },
        "fbf23479d1624b44a4ef384a4a6be4f7": {
          "model_module": "@jupyter-widgets/controls",
          "model_name": "FloatProgressModel",
          "model_module_version": "1.5.0",
          "state": {
            "_dom_classes": [],
            "_model_module": "@jupyter-widgets/controls",
            "_model_module_version": "1.5.0",
            "_model_name": "FloatProgressModel",
            "_view_count": null,
            "_view_module": "@jupyter-widgets/controls",
            "_view_module_version": "1.5.0",
            "_view_name": "ProgressView",
            "bar_style": "success",
            "description": "",
            "description_tooltip": null,
            "layout": "IPY_MODEL_cb8e846bc019440c9138ad263d601dfd",
            "max": 33,
            "min": 0,
            "orientation": "horizontal",
            "style": "IPY_MODEL_30507f2ac6a646e1a4851f7b1aaa06cd",
            "value": 33
          }
        },
        "6f0d6abc7d37487ab5873c9829986222": {
          "model_module": "@jupyter-widgets/controls",
          "model_name": "HTMLModel",
          "model_module_version": "1.5.0",
          "state": {
            "_dom_classes": [],
            "_model_module": "@jupyter-widgets/controls",
            "_model_module_version": "1.5.0",
            "_model_name": "HTMLModel",
            "_view_count": null,
            "_view_module": "@jupyter-widgets/controls",
            "_view_module_version": "1.5.0",
            "_view_name": "HTMLView",
            "description": "",
            "description_tooltip": null,
            "layout": "IPY_MODEL_5184aac1de0e4b5386438638fcd4b63b",
            "placeholder": "​",
            "style": "IPY_MODEL_3a55534988404f708855d78bca3d769e",
            "value": " 33/33 [01:18&lt;00:00,  2.33s/it]"
          }
        },
        "0c4889f3186848ce846c9b0d7d718f5e": {
          "model_module": "@jupyter-widgets/base",
          "model_name": "LayoutModel",
          "model_module_version": "1.2.0",
          "state": {
            "_model_module": "@jupyter-widgets/base",
            "_model_module_version": "1.2.0",
            "_model_name": "LayoutModel",
            "_view_count": null,
            "_view_module": "@jupyter-widgets/base",
            "_view_module_version": "1.2.0",
            "_view_name": "LayoutView",
            "align_content": null,
            "align_items": null,
            "align_self": null,
            "border": null,
            "bottom": null,
            "display": null,
            "flex": null,
            "flex_flow": null,
            "grid_area": null,
            "grid_auto_columns": null,
            "grid_auto_flow": null,
            "grid_auto_rows": null,
            "grid_column": null,
            "grid_gap": null,
            "grid_row": null,
            "grid_template_areas": null,
            "grid_template_columns": null,
            "grid_template_rows": null,
            "height": null,
            "justify_content": null,
            "justify_items": null,
            "left": null,
            "margin": null,
            "max_height": null,
            "max_width": null,
            "min_height": null,
            "min_width": null,
            "object_fit": null,
            "object_position": null,
            "order": null,
            "overflow": null,
            "overflow_x": null,
            "overflow_y": null,
            "padding": null,
            "right": null,
            "top": null,
            "visibility": null,
            "width": null
          }
        },
        "74debc42765745258d095662dc13160a": {
          "model_module": "@jupyter-widgets/base",
          "model_name": "LayoutModel",
          "model_module_version": "1.2.0",
          "state": {
            "_model_module": "@jupyter-widgets/base",
            "_model_module_version": "1.2.0",
            "_model_name": "LayoutModel",
            "_view_count": null,
            "_view_module": "@jupyter-widgets/base",
            "_view_module_version": "1.2.0",
            "_view_name": "LayoutView",
            "align_content": null,
            "align_items": null,
            "align_self": null,
            "border": null,
            "bottom": null,
            "display": null,
            "flex": null,
            "flex_flow": null,
            "grid_area": null,
            "grid_auto_columns": null,
            "grid_auto_flow": null,
            "grid_auto_rows": null,
            "grid_column": null,
            "grid_gap": null,
            "grid_row": null,
            "grid_template_areas": null,
            "grid_template_columns": null,
            "grid_template_rows": null,
            "height": null,
            "justify_content": null,
            "justify_items": null,
            "left": null,
            "margin": null,
            "max_height": null,
            "max_width": null,
            "min_height": null,
            "min_width": null,
            "object_fit": null,
            "object_position": null,
            "order": null,
            "overflow": null,
            "overflow_x": null,
            "overflow_y": null,
            "padding": null,
            "right": null,
            "top": null,
            "visibility": null,
            "width": null
          }
        },
        "7466121778df49aaa5ce61ede32b356f": {
          "model_module": "@jupyter-widgets/controls",
          "model_name": "DescriptionStyleModel",
          "model_module_version": "1.5.0",
          "state": {
            "_model_module": "@jupyter-widgets/controls",
            "_model_module_version": "1.5.0",
            "_model_name": "DescriptionStyleModel",
            "_view_count": null,
            "_view_module": "@jupyter-widgets/base",
            "_view_module_version": "1.2.0",
            "_view_name": "StyleView",
            "description_width": ""
          }
        },
        "cb8e846bc019440c9138ad263d601dfd": {
          "model_module": "@jupyter-widgets/base",
          "model_name": "LayoutModel",
          "model_module_version": "1.2.0",
          "state": {
            "_model_module": "@jupyter-widgets/base",
            "_model_module_version": "1.2.0",
            "_model_name": "LayoutModel",
            "_view_count": null,
            "_view_module": "@jupyter-widgets/base",
            "_view_module_version": "1.2.0",
            "_view_name": "LayoutView",
            "align_content": null,
            "align_items": null,
            "align_self": null,
            "border": null,
            "bottom": null,
            "display": null,
            "flex": null,
            "flex_flow": null,
            "grid_area": null,
            "grid_auto_columns": null,
            "grid_auto_flow": null,
            "grid_auto_rows": null,
            "grid_column": null,
            "grid_gap": null,
            "grid_row": null,
            "grid_template_areas": null,
            "grid_template_columns": null,
            "grid_template_rows": null,
            "height": null,
            "justify_content": null,
            "justify_items": null,
            "left": null,
            "margin": null,
            "max_height": null,
            "max_width": null,
            "min_height": null,
            "min_width": null,
            "object_fit": null,
            "object_position": null,
            "order": null,
            "overflow": null,
            "overflow_x": null,
            "overflow_y": null,
            "padding": null,
            "right": null,
            "top": null,
            "visibility": null,
            "width": null
          }
        },
        "30507f2ac6a646e1a4851f7b1aaa06cd": {
          "model_module": "@jupyter-widgets/controls",
          "model_name": "ProgressStyleModel",
          "model_module_version": "1.5.0",
          "state": {
            "_model_module": "@jupyter-widgets/controls",
            "_model_module_version": "1.5.0",
            "_model_name": "ProgressStyleModel",
            "_view_count": null,
            "_view_module": "@jupyter-widgets/base",
            "_view_module_version": "1.2.0",
            "_view_name": "StyleView",
            "bar_color": null,
            "description_width": ""
          }
        },
        "5184aac1de0e4b5386438638fcd4b63b": {
          "model_module": "@jupyter-widgets/base",
          "model_name": "LayoutModel",
          "model_module_version": "1.2.0",
          "state": {
            "_model_module": "@jupyter-widgets/base",
            "_model_module_version": "1.2.0",
            "_model_name": "LayoutModel",
            "_view_count": null,
            "_view_module": "@jupyter-widgets/base",
            "_view_module_version": "1.2.0",
            "_view_name": "LayoutView",
            "align_content": null,
            "align_items": null,
            "align_self": null,
            "border": null,
            "bottom": null,
            "display": null,
            "flex": null,
            "flex_flow": null,
            "grid_area": null,
            "grid_auto_columns": null,
            "grid_auto_flow": null,
            "grid_auto_rows": null,
            "grid_column": null,
            "grid_gap": null,
            "grid_row": null,
            "grid_template_areas": null,
            "grid_template_columns": null,
            "grid_template_rows": null,
            "height": null,
            "justify_content": null,
            "justify_items": null,
            "left": null,
            "margin": null,
            "max_height": null,
            "max_width": null,
            "min_height": null,
            "min_width": null,
            "object_fit": null,
            "object_position": null,
            "order": null,
            "overflow": null,
            "overflow_x": null,
            "overflow_y": null,
            "padding": null,
            "right": null,
            "top": null,
            "visibility": null,
            "width": null
          }
        },
        "3a55534988404f708855d78bca3d769e": {
          "model_module": "@jupyter-widgets/controls",
          "model_name": "DescriptionStyleModel",
          "model_module_version": "1.5.0",
          "state": {
            "_model_module": "@jupyter-widgets/controls",
            "_model_module_version": "1.5.0",
            "_model_name": "DescriptionStyleModel",
            "_view_count": null,
            "_view_module": "@jupyter-widgets/base",
            "_view_module_version": "1.2.0",
            "_view_name": "StyleView",
            "description_width": ""
          }
        },
        "d933bd1405764964a5e1e0f09dbf76dc": {
          "model_module": "@jupyter-widgets/controls",
          "model_name": "HBoxModel",
          "model_module_version": "1.5.0",
          "state": {
            "_dom_classes": [],
            "_model_module": "@jupyter-widgets/controls",
            "_model_module_version": "1.5.0",
            "_model_name": "HBoxModel",
            "_view_count": null,
            "_view_module": "@jupyter-widgets/controls",
            "_view_module_version": "1.5.0",
            "_view_name": "HBoxView",
            "box_style": "",
            "children": [
              "IPY_MODEL_1669ddcc14184a7391e4a66f7786339b",
              "IPY_MODEL_5bdcf79416f943539846765ed493a669",
              "IPY_MODEL_63e5e9933bff4f318cf5938a542012d9"
            ],
            "layout": "IPY_MODEL_a091250c728f4e3399c5a30a39ac2b52"
          }
        },
        "1669ddcc14184a7391e4a66f7786339b": {
          "model_module": "@jupyter-widgets/controls",
          "model_name": "HTMLModel",
          "model_module_version": "1.5.0",
          "state": {
            "_dom_classes": [],
            "_model_module": "@jupyter-widgets/controls",
            "_model_module_version": "1.5.0",
            "_model_name": "HTMLModel",
            "_view_count": null,
            "_view_module": "@jupyter-widgets/controls",
            "_view_module_version": "1.5.0",
            "_view_name": "HTMLView",
            "description": "",
            "description_tooltip": null,
            "layout": "IPY_MODEL_bff08166c17844f8816031964cf63332",
            "placeholder": "​",
            "style": "IPY_MODEL_2269307754ee43db89cd8f73ad6b6574",
            "value": "generation_config.json: 100%"
          }
        },
        "5bdcf79416f943539846765ed493a669": {
          "model_module": "@jupyter-widgets/controls",
          "model_name": "FloatProgressModel",
          "model_module_version": "1.5.0",
          "state": {
            "_dom_classes": [],
            "_model_module": "@jupyter-widgets/controls",
            "_model_module_version": "1.5.0",
            "_model_name": "FloatProgressModel",
            "_view_count": null,
            "_view_module": "@jupyter-widgets/controls",
            "_view_module_version": "1.5.0",
            "_view_name": "ProgressView",
            "bar_style": "success",
            "description": "",
            "description_tooltip": null,
            "layout": "IPY_MODEL_4a95c38c4c0c4416bee1246b5c49c057",
            "max": 124,
            "min": 0,
            "orientation": "horizontal",
            "style": "IPY_MODEL_845ba72d56cc4bf59f8dcfa62a774b17",
            "value": 124
          }
        },
        "63e5e9933bff4f318cf5938a542012d9": {
          "model_module": "@jupyter-widgets/controls",
          "model_name": "HTMLModel",
          "model_module_version": "1.5.0",
          "state": {
            "_dom_classes": [],
            "_model_module": "@jupyter-widgets/controls",
            "_model_module_version": "1.5.0",
            "_model_name": "HTMLModel",
            "_view_count": null,
            "_view_module": "@jupyter-widgets/controls",
            "_view_module_version": "1.5.0",
            "_view_name": "HTMLView",
            "description": "",
            "description_tooltip": null,
            "layout": "IPY_MODEL_05998c8552fd48a98e0ea7c82c524334",
            "placeholder": "​",
            "style": "IPY_MODEL_638ad07c67e84097b223776527dd7b76",
            "value": " 124/124 [00:00&lt;00:00, 9.31kB/s]"
          }
        },
        "a091250c728f4e3399c5a30a39ac2b52": {
          "model_module": "@jupyter-widgets/base",
          "model_name": "LayoutModel",
          "model_module_version": "1.2.0",
          "state": {
            "_model_module": "@jupyter-widgets/base",
            "_model_module_version": "1.2.0",
            "_model_name": "LayoutModel",
            "_view_count": null,
            "_view_module": "@jupyter-widgets/base",
            "_view_module_version": "1.2.0",
            "_view_name": "LayoutView",
            "align_content": null,
            "align_items": null,
            "align_self": null,
            "border": null,
            "bottom": null,
            "display": null,
            "flex": null,
            "flex_flow": null,
            "grid_area": null,
            "grid_auto_columns": null,
            "grid_auto_flow": null,
            "grid_auto_rows": null,
            "grid_column": null,
            "grid_gap": null,
            "grid_row": null,
            "grid_template_areas": null,
            "grid_template_columns": null,
            "grid_template_rows": null,
            "height": null,
            "justify_content": null,
            "justify_items": null,
            "left": null,
            "margin": null,
            "max_height": null,
            "max_width": null,
            "min_height": null,
            "min_width": null,
            "object_fit": null,
            "object_position": null,
            "order": null,
            "overflow": null,
            "overflow_x": null,
            "overflow_y": null,
            "padding": null,
            "right": null,
            "top": null,
            "visibility": null,
            "width": null
          }
        },
        "bff08166c17844f8816031964cf63332": {
          "model_module": "@jupyter-widgets/base",
          "model_name": "LayoutModel",
          "model_module_version": "1.2.0",
          "state": {
            "_model_module": "@jupyter-widgets/base",
            "_model_module_version": "1.2.0",
            "_model_name": "LayoutModel",
            "_view_count": null,
            "_view_module": "@jupyter-widgets/base",
            "_view_module_version": "1.2.0",
            "_view_name": "LayoutView",
            "align_content": null,
            "align_items": null,
            "align_self": null,
            "border": null,
            "bottom": null,
            "display": null,
            "flex": null,
            "flex_flow": null,
            "grid_area": null,
            "grid_auto_columns": null,
            "grid_auto_flow": null,
            "grid_auto_rows": null,
            "grid_column": null,
            "grid_gap": null,
            "grid_row": null,
            "grid_template_areas": null,
            "grid_template_columns": null,
            "grid_template_rows": null,
            "height": null,
            "justify_content": null,
            "justify_items": null,
            "left": null,
            "margin": null,
            "max_height": null,
            "max_width": null,
            "min_height": null,
            "min_width": null,
            "object_fit": null,
            "object_position": null,
            "order": null,
            "overflow": null,
            "overflow_x": null,
            "overflow_y": null,
            "padding": null,
            "right": null,
            "top": null,
            "visibility": null,
            "width": null
          }
        },
        "2269307754ee43db89cd8f73ad6b6574": {
          "model_module": "@jupyter-widgets/controls",
          "model_name": "DescriptionStyleModel",
          "model_module_version": "1.5.0",
          "state": {
            "_model_module": "@jupyter-widgets/controls",
            "_model_module_version": "1.5.0",
            "_model_name": "DescriptionStyleModel",
            "_view_count": null,
            "_view_module": "@jupyter-widgets/base",
            "_view_module_version": "1.2.0",
            "_view_name": "StyleView",
            "description_width": ""
          }
        },
        "4a95c38c4c0c4416bee1246b5c49c057": {
          "model_module": "@jupyter-widgets/base",
          "model_name": "LayoutModel",
          "model_module_version": "1.2.0",
          "state": {
            "_model_module": "@jupyter-widgets/base",
            "_model_module_version": "1.2.0",
            "_model_name": "LayoutModel",
            "_view_count": null,
            "_view_module": "@jupyter-widgets/base",
            "_view_module_version": "1.2.0",
            "_view_name": "LayoutView",
            "align_content": null,
            "align_items": null,
            "align_self": null,
            "border": null,
            "bottom": null,
            "display": null,
            "flex": null,
            "flex_flow": null,
            "grid_area": null,
            "grid_auto_columns": null,
            "grid_auto_flow": null,
            "grid_auto_rows": null,
            "grid_column": null,
            "grid_gap": null,
            "grid_row": null,
            "grid_template_areas": null,
            "grid_template_columns": null,
            "grid_template_rows": null,
            "height": null,
            "justify_content": null,
            "justify_items": null,
            "left": null,
            "margin": null,
            "max_height": null,
            "max_width": null,
            "min_height": null,
            "min_width": null,
            "object_fit": null,
            "object_position": null,
            "order": null,
            "overflow": null,
            "overflow_x": null,
            "overflow_y": null,
            "padding": null,
            "right": null,
            "top": null,
            "visibility": null,
            "width": null
          }
        },
        "845ba72d56cc4bf59f8dcfa62a774b17": {
          "model_module": "@jupyter-widgets/controls",
          "model_name": "ProgressStyleModel",
          "model_module_version": "1.5.0",
          "state": {
            "_model_module": "@jupyter-widgets/controls",
            "_model_module_version": "1.5.0",
            "_model_name": "ProgressStyleModel",
            "_view_count": null,
            "_view_module": "@jupyter-widgets/base",
            "_view_module_version": "1.2.0",
            "_view_name": "StyleView",
            "bar_color": null,
            "description_width": ""
          }
        },
        "05998c8552fd48a98e0ea7c82c524334": {
          "model_module": "@jupyter-widgets/base",
          "model_name": "LayoutModel",
          "model_module_version": "1.2.0",
          "state": {
            "_model_module": "@jupyter-widgets/base",
            "_model_module_version": "1.2.0",
            "_model_name": "LayoutModel",
            "_view_count": null,
            "_view_module": "@jupyter-widgets/base",
            "_view_module_version": "1.2.0",
            "_view_name": "LayoutView",
            "align_content": null,
            "align_items": null,
            "align_self": null,
            "border": null,
            "bottom": null,
            "display": null,
            "flex": null,
            "flex_flow": null,
            "grid_area": null,
            "grid_auto_columns": null,
            "grid_auto_flow": null,
            "grid_auto_rows": null,
            "grid_column": null,
            "grid_gap": null,
            "grid_row": null,
            "grid_template_areas": null,
            "grid_template_columns": null,
            "grid_template_rows": null,
            "height": null,
            "justify_content": null,
            "justify_items": null,
            "left": null,
            "margin": null,
            "max_height": null,
            "max_width": null,
            "min_height": null,
            "min_width": null,
            "object_fit": null,
            "object_position": null,
            "order": null,
            "overflow": null,
            "overflow_x": null,
            "overflow_y": null,
            "padding": null,
            "right": null,
            "top": null,
            "visibility": null,
            "width": null
          }
        },
        "638ad07c67e84097b223776527dd7b76": {
          "model_module": "@jupyter-widgets/controls",
          "model_name": "DescriptionStyleModel",
          "model_module_version": "1.5.0",
          "state": {
            "_model_module": "@jupyter-widgets/controls",
            "_model_module_version": "1.5.0",
            "_model_name": "DescriptionStyleModel",
            "_view_count": null,
            "_view_module": "@jupyter-widgets/base",
            "_view_module_version": "1.2.0",
            "_view_name": "StyleView",
            "description_width": ""
          }
        },
        "44541d7f86b9439eba49c84a234273ed": {
          "model_module": "@jupyter-widgets/controls",
          "model_name": "HBoxModel",
          "model_module_version": "1.5.0",
          "state": {
            "_dom_classes": [],
            "_model_module": "@jupyter-widgets/controls",
            "_model_module_version": "1.5.0",
            "_model_name": "HBoxModel",
            "_view_count": null,
            "_view_module": "@jupyter-widgets/controls",
            "_view_module_version": "1.5.0",
            "_view_name": "HBoxView",
            "box_style": "",
            "children": [
              "IPY_MODEL_408f9ec180254b85b695d356ca474030",
              "IPY_MODEL_f1913f56e5674751a2c825d9ab73972d",
              "IPY_MODEL_8fbeffa9cbec41c4bea850f9877e41a0"
            ],
            "layout": "IPY_MODEL_d0fc9e2593cb41a680b92ee84982f131"
          }
        },
        "408f9ec180254b85b695d356ca474030": {
          "model_module": "@jupyter-widgets/controls",
          "model_name": "HTMLModel",
          "model_module_version": "1.5.0",
          "state": {
            "_dom_classes": [],
            "_model_module": "@jupyter-widgets/controls",
            "_model_module_version": "1.5.0",
            "_model_name": "HTMLModel",
            "_view_count": null,
            "_view_module": "@jupyter-widgets/controls",
            "_view_module_version": "1.5.0",
            "_view_name": "HTMLView",
            "description": "",
            "description_tooltip": null,
            "layout": "IPY_MODEL_31031d44570b49a2bafb16076302fd8e",
            "placeholder": "​",
            "style": "IPY_MODEL_2f71492a2ce841579e27cb4a5beea633",
            "value": "Map: 100%"
          }
        },
        "f1913f56e5674751a2c825d9ab73972d": {
          "model_module": "@jupyter-widgets/controls",
          "model_name": "FloatProgressModel",
          "model_module_version": "1.5.0",
          "state": {
            "_dom_classes": [],
            "_model_module": "@jupyter-widgets/controls",
            "_model_module_version": "1.5.0",
            "_model_name": "FloatProgressModel",
            "_view_count": null,
            "_view_module": "@jupyter-widgets/controls",
            "_view_module_version": "1.5.0",
            "_view_name": "ProgressView",
            "bar_style": "success",
            "description": "",
            "description_tooltip": null,
            "layout": "IPY_MODEL_32a951581a724567b70da4ac0ac5b40b",
            "max": 108,
            "min": 0,
            "orientation": "horizontal",
            "style": "IPY_MODEL_61175df6465d4181838179677e74337c",
            "value": 108
          }
        },
        "8fbeffa9cbec41c4bea850f9877e41a0": {
          "model_module": "@jupyter-widgets/controls",
          "model_name": "HTMLModel",
          "model_module_version": "1.5.0",
          "state": {
            "_dom_classes": [],
            "_model_module": "@jupyter-widgets/controls",
            "_model_module_version": "1.5.0",
            "_model_name": "HTMLModel",
            "_view_count": null,
            "_view_module": "@jupyter-widgets/controls",
            "_view_module_version": "1.5.0",
            "_view_name": "HTMLView",
            "description": "",
            "description_tooltip": null,
            "layout": "IPY_MODEL_9748fb34db724e68a48cc63dcb74a805",
            "placeholder": "​",
            "style": "IPY_MODEL_3b3ad3abf6e74dad9b77331f4d6c3105",
            "value": " 108/108 [00:00&lt;00:00, 422.30 examples/s]"
          }
        },
        "d0fc9e2593cb41a680b92ee84982f131": {
          "model_module": "@jupyter-widgets/base",
          "model_name": "LayoutModel",
          "model_module_version": "1.2.0",
          "state": {
            "_model_module": "@jupyter-widgets/base",
            "_model_module_version": "1.2.0",
            "_model_name": "LayoutModel",
            "_view_count": null,
            "_view_module": "@jupyter-widgets/base",
            "_view_module_version": "1.2.0",
            "_view_name": "LayoutView",
            "align_content": null,
            "align_items": null,
            "align_self": null,
            "border": null,
            "bottom": null,
            "display": null,
            "flex": null,
            "flex_flow": null,
            "grid_area": null,
            "grid_auto_columns": null,
            "grid_auto_flow": null,
            "grid_auto_rows": null,
            "grid_column": null,
            "grid_gap": null,
            "grid_row": null,
            "grid_template_areas": null,
            "grid_template_columns": null,
            "grid_template_rows": null,
            "height": null,
            "justify_content": null,
            "justify_items": null,
            "left": null,
            "margin": null,
            "max_height": null,
            "max_width": null,
            "min_height": null,
            "min_width": null,
            "object_fit": null,
            "object_position": null,
            "order": null,
            "overflow": null,
            "overflow_x": null,
            "overflow_y": null,
            "padding": null,
            "right": null,
            "top": null,
            "visibility": null,
            "width": null
          }
        },
        "31031d44570b49a2bafb16076302fd8e": {
          "model_module": "@jupyter-widgets/base",
          "model_name": "LayoutModel",
          "model_module_version": "1.2.0",
          "state": {
            "_model_module": "@jupyter-widgets/base",
            "_model_module_version": "1.2.0",
            "_model_name": "LayoutModel",
            "_view_count": null,
            "_view_module": "@jupyter-widgets/base",
            "_view_module_version": "1.2.0",
            "_view_name": "LayoutView",
            "align_content": null,
            "align_items": null,
            "align_self": null,
            "border": null,
            "bottom": null,
            "display": null,
            "flex": null,
            "flex_flow": null,
            "grid_area": null,
            "grid_auto_columns": null,
            "grid_auto_flow": null,
            "grid_auto_rows": null,
            "grid_column": null,
            "grid_gap": null,
            "grid_row": null,
            "grid_template_areas": null,
            "grid_template_columns": null,
            "grid_template_rows": null,
            "height": null,
            "justify_content": null,
            "justify_items": null,
            "left": null,
            "margin": null,
            "max_height": null,
            "max_width": null,
            "min_height": null,
            "min_width": null,
            "object_fit": null,
            "object_position": null,
            "order": null,
            "overflow": null,
            "overflow_x": null,
            "overflow_y": null,
            "padding": null,
            "right": null,
            "top": null,
            "visibility": null,
            "width": null
          }
        },
        "2f71492a2ce841579e27cb4a5beea633": {
          "model_module": "@jupyter-widgets/controls",
          "model_name": "DescriptionStyleModel",
          "model_module_version": "1.5.0",
          "state": {
            "_model_module": "@jupyter-widgets/controls",
            "_model_module_version": "1.5.0",
            "_model_name": "DescriptionStyleModel",
            "_view_count": null,
            "_view_module": "@jupyter-widgets/base",
            "_view_module_version": "1.2.0",
            "_view_name": "StyleView",
            "description_width": ""
          }
        },
        "32a951581a724567b70da4ac0ac5b40b": {
          "model_module": "@jupyter-widgets/base",
          "model_name": "LayoutModel",
          "model_module_version": "1.2.0",
          "state": {
            "_model_module": "@jupyter-widgets/base",
            "_model_module_version": "1.2.0",
            "_model_name": "LayoutModel",
            "_view_count": null,
            "_view_module": "@jupyter-widgets/base",
            "_view_module_version": "1.2.0",
            "_view_name": "LayoutView",
            "align_content": null,
            "align_items": null,
            "align_self": null,
            "border": null,
            "bottom": null,
            "display": null,
            "flex": null,
            "flex_flow": null,
            "grid_area": null,
            "grid_auto_columns": null,
            "grid_auto_flow": null,
            "grid_auto_rows": null,
            "grid_column": null,
            "grid_gap": null,
            "grid_row": null,
            "grid_template_areas": null,
            "grid_template_columns": null,
            "grid_template_rows": null,
            "height": null,
            "justify_content": null,
            "justify_items": null,
            "left": null,
            "margin": null,
            "max_height": null,
            "max_width": null,
            "min_height": null,
            "min_width": null,
            "object_fit": null,
            "object_position": null,
            "order": null,
            "overflow": null,
            "overflow_x": null,
            "overflow_y": null,
            "padding": null,
            "right": null,
            "top": null,
            "visibility": null,
            "width": null
          }
        },
        "61175df6465d4181838179677e74337c": {
          "model_module": "@jupyter-widgets/controls",
          "model_name": "ProgressStyleModel",
          "model_module_version": "1.5.0",
          "state": {
            "_model_module": "@jupyter-widgets/controls",
            "_model_module_version": "1.5.0",
            "_model_name": "ProgressStyleModel",
            "_view_count": null,
            "_view_module": "@jupyter-widgets/base",
            "_view_module_version": "1.2.0",
            "_view_name": "StyleView",
            "bar_color": null,
            "description_width": ""
          }
        },
        "9748fb34db724e68a48cc63dcb74a805": {
          "model_module": "@jupyter-widgets/base",
          "model_name": "LayoutModel",
          "model_module_version": "1.2.0",
          "state": {
            "_model_module": "@jupyter-widgets/base",
            "_model_module_version": "1.2.0",
            "_model_name": "LayoutModel",
            "_view_count": null,
            "_view_module": "@jupyter-widgets/base",
            "_view_module_version": "1.2.0",
            "_view_name": "LayoutView",
            "align_content": null,
            "align_items": null,
            "align_self": null,
            "border": null,
            "bottom": null,
            "display": null,
            "flex": null,
            "flex_flow": null,
            "grid_area": null,
            "grid_auto_columns": null,
            "grid_auto_flow": null,
            "grid_auto_rows": null,
            "grid_column": null,
            "grid_gap": null,
            "grid_row": null,
            "grid_template_areas": null,
            "grid_template_columns": null,
            "grid_template_rows": null,
            "height": null,
            "justify_content": null,
            "justify_items": null,
            "left": null,
            "margin": null,
            "max_height": null,
            "max_width": null,
            "min_height": null,
            "min_width": null,
            "object_fit": null,
            "object_position": null,
            "order": null,
            "overflow": null,
            "overflow_x": null,
            "overflow_y": null,
            "padding": null,
            "right": null,
            "top": null,
            "visibility": null,
            "width": null
          }
        },
        "3b3ad3abf6e74dad9b77331f4d6c3105": {
          "model_module": "@jupyter-widgets/controls",
          "model_name": "DescriptionStyleModel",
          "model_module_version": "1.5.0",
          "state": {
            "_model_module": "@jupyter-widgets/controls",
            "_model_module_version": "1.5.0",
            "_model_name": "DescriptionStyleModel",
            "_view_count": null,
            "_view_module": "@jupyter-widgets/base",
            "_view_module_version": "1.2.0",
            "_view_name": "StyleView",
            "description_width": ""
          }
        },
        "2dbf4905781c4a9bb59bd1df5ee4b3bf": {
          "model_module": "@jupyter-widgets/controls",
          "model_name": "HBoxModel",
          "model_module_version": "1.5.0",
          "state": {
            "_dom_classes": [],
            "_model_module": "@jupyter-widgets/controls",
            "_model_module_version": "1.5.0",
            "_model_name": "HBoxModel",
            "_view_count": null,
            "_view_module": "@jupyter-widgets/controls",
            "_view_module_version": "1.5.0",
            "_view_name": "HBoxView",
            "box_style": "",
            "children": [
              "IPY_MODEL_9fdf9d2885f149d79258d9e41360bfe9",
              "IPY_MODEL_02a2076515a24140806ee0116e3cb346",
              "IPY_MODEL_13d64794e62d4d8f9fab4b13d535d43d"
            ],
            "layout": "IPY_MODEL_cfc2bc0b63824156b79167a4532badd8"
          }
        },
        "9fdf9d2885f149d79258d9e41360bfe9": {
          "model_module": "@jupyter-widgets/controls",
          "model_name": "HTMLModel",
          "model_module_version": "1.5.0",
          "state": {
            "_dom_classes": [],
            "_model_module": "@jupyter-widgets/controls",
            "_model_module_version": "1.5.0",
            "_model_name": "HTMLModel",
            "_view_count": null,
            "_view_module": "@jupyter-widgets/controls",
            "_view_module_version": "1.5.0",
            "_view_name": "HTMLView",
            "description": "",
            "description_tooltip": null,
            "layout": "IPY_MODEL_78eb676097be4f54bd821c0937fcf1b2",
            "placeholder": "​",
            "style": "IPY_MODEL_296fef92225a4fcabd056d546b3be777",
            "value": "Downloading builder script: 100%"
          }
        },
        "02a2076515a24140806ee0116e3cb346": {
          "model_module": "@jupyter-widgets/controls",
          "model_name": "FloatProgressModel",
          "model_module_version": "1.5.0",
          "state": {
            "_dom_classes": [],
            "_model_module": "@jupyter-widgets/controls",
            "_model_module_version": "1.5.0",
            "_model_name": "FloatProgressModel",
            "_view_count": null,
            "_view_module": "@jupyter-widgets/controls",
            "_view_module_version": "1.5.0",
            "_view_name": "ProgressView",
            "bar_style": "success",
            "description": "",
            "description_tooltip": null,
            "layout": "IPY_MODEL_818677d31014469e8cdb0588a2796d6c",
            "max": 5669,
            "min": 0,
            "orientation": "horizontal",
            "style": "IPY_MODEL_8ec8279ab76e40b2ab6aaf6435e5679e",
            "value": 5669
          }
        },
        "13d64794e62d4d8f9fab4b13d535d43d": {
          "model_module": "@jupyter-widgets/controls",
          "model_name": "HTMLModel",
          "model_module_version": "1.5.0",
          "state": {
            "_dom_classes": [],
            "_model_module": "@jupyter-widgets/controls",
            "_model_module_version": "1.5.0",
            "_model_name": "HTMLModel",
            "_view_count": null,
            "_view_module": "@jupyter-widgets/controls",
            "_view_module_version": "1.5.0",
            "_view_name": "HTMLView",
            "description": "",
            "description_tooltip": null,
            "layout": "IPY_MODEL_a58420f4a11a48e99877d9f7509dee85",
            "placeholder": "​",
            "style": "IPY_MODEL_675c2ec079e54b72973751798e9e5a27",
            "value": " 5.67k/5.67k [00:00&lt;00:00, 295kB/s]"
          }
        },
        "cfc2bc0b63824156b79167a4532badd8": {
          "model_module": "@jupyter-widgets/base",
          "model_name": "LayoutModel",
          "model_module_version": "1.2.0",
          "state": {
            "_model_module": "@jupyter-widgets/base",
            "_model_module_version": "1.2.0",
            "_model_name": "LayoutModel",
            "_view_count": null,
            "_view_module": "@jupyter-widgets/base",
            "_view_module_version": "1.2.0",
            "_view_name": "LayoutView",
            "align_content": null,
            "align_items": null,
            "align_self": null,
            "border": null,
            "bottom": null,
            "display": null,
            "flex": null,
            "flex_flow": null,
            "grid_area": null,
            "grid_auto_columns": null,
            "grid_auto_flow": null,
            "grid_auto_rows": null,
            "grid_column": null,
            "grid_gap": null,
            "grid_row": null,
            "grid_template_areas": null,
            "grid_template_columns": null,
            "grid_template_rows": null,
            "height": null,
            "justify_content": null,
            "justify_items": null,
            "left": null,
            "margin": null,
            "max_height": null,
            "max_width": null,
            "min_height": null,
            "min_width": null,
            "object_fit": null,
            "object_position": null,
            "order": null,
            "overflow": null,
            "overflow_x": null,
            "overflow_y": null,
            "padding": null,
            "right": null,
            "top": null,
            "visibility": null,
            "width": null
          }
        },
        "78eb676097be4f54bd821c0937fcf1b2": {
          "model_module": "@jupyter-widgets/base",
          "model_name": "LayoutModel",
          "model_module_version": "1.2.0",
          "state": {
            "_model_module": "@jupyter-widgets/base",
            "_model_module_version": "1.2.0",
            "_model_name": "LayoutModel",
            "_view_count": null,
            "_view_module": "@jupyter-widgets/base",
            "_view_module_version": "1.2.0",
            "_view_name": "LayoutView",
            "align_content": null,
            "align_items": null,
            "align_self": null,
            "border": null,
            "bottom": null,
            "display": null,
            "flex": null,
            "flex_flow": null,
            "grid_area": null,
            "grid_auto_columns": null,
            "grid_auto_flow": null,
            "grid_auto_rows": null,
            "grid_column": null,
            "grid_gap": null,
            "grid_row": null,
            "grid_template_areas": null,
            "grid_template_columns": null,
            "grid_template_rows": null,
            "height": null,
            "justify_content": null,
            "justify_items": null,
            "left": null,
            "margin": null,
            "max_height": null,
            "max_width": null,
            "min_height": null,
            "min_width": null,
            "object_fit": null,
            "object_position": null,
            "order": null,
            "overflow": null,
            "overflow_x": null,
            "overflow_y": null,
            "padding": null,
            "right": null,
            "top": null,
            "visibility": null,
            "width": null
          }
        },
        "296fef92225a4fcabd056d546b3be777": {
          "model_module": "@jupyter-widgets/controls",
          "model_name": "DescriptionStyleModel",
          "model_module_version": "1.5.0",
          "state": {
            "_model_module": "@jupyter-widgets/controls",
            "_model_module_version": "1.5.0",
            "_model_name": "DescriptionStyleModel",
            "_view_count": null,
            "_view_module": "@jupyter-widgets/base",
            "_view_module_version": "1.2.0",
            "_view_name": "StyleView",
            "description_width": ""
          }
        },
        "818677d31014469e8cdb0588a2796d6c": {
          "model_module": "@jupyter-widgets/base",
          "model_name": "LayoutModel",
          "model_module_version": "1.2.0",
          "state": {
            "_model_module": "@jupyter-widgets/base",
            "_model_module_version": "1.2.0",
            "_model_name": "LayoutModel",
            "_view_count": null,
            "_view_module": "@jupyter-widgets/base",
            "_view_module_version": "1.2.0",
            "_view_name": "LayoutView",
            "align_content": null,
            "align_items": null,
            "align_self": null,
            "border": null,
            "bottom": null,
            "display": null,
            "flex": null,
            "flex_flow": null,
            "grid_area": null,
            "grid_auto_columns": null,
            "grid_auto_flow": null,
            "grid_auto_rows": null,
            "grid_column": null,
            "grid_gap": null,
            "grid_row": null,
            "grid_template_areas": null,
            "grid_template_columns": null,
            "grid_template_rows": null,
            "height": null,
            "justify_content": null,
            "justify_items": null,
            "left": null,
            "margin": null,
            "max_height": null,
            "max_width": null,
            "min_height": null,
            "min_width": null,
            "object_fit": null,
            "object_position": null,
            "order": null,
            "overflow": null,
            "overflow_x": null,
            "overflow_y": null,
            "padding": null,
            "right": null,
            "top": null,
            "visibility": null,
            "width": null
          }
        },
        "8ec8279ab76e40b2ab6aaf6435e5679e": {
          "model_module": "@jupyter-widgets/controls",
          "model_name": "ProgressStyleModel",
          "model_module_version": "1.5.0",
          "state": {
            "_model_module": "@jupyter-widgets/controls",
            "_model_module_version": "1.5.0",
            "_model_name": "ProgressStyleModel",
            "_view_count": null,
            "_view_module": "@jupyter-widgets/base",
            "_view_module_version": "1.2.0",
            "_view_name": "StyleView",
            "bar_color": null,
            "description_width": ""
          }
        },
        "a58420f4a11a48e99877d9f7509dee85": {
          "model_module": "@jupyter-widgets/base",
          "model_name": "LayoutModel",
          "model_module_version": "1.2.0",
          "state": {
            "_model_module": "@jupyter-widgets/base",
            "_model_module_version": "1.2.0",
            "_model_name": "LayoutModel",
            "_view_count": null,
            "_view_module": "@jupyter-widgets/base",
            "_view_module_version": "1.2.0",
            "_view_name": "LayoutView",
            "align_content": null,
            "align_items": null,
            "align_self": null,
            "border": null,
            "bottom": null,
            "display": null,
            "flex": null,
            "flex_flow": null,
            "grid_area": null,
            "grid_auto_columns": null,
            "grid_auto_flow": null,
            "grid_auto_rows": null,
            "grid_column": null,
            "grid_gap": null,
            "grid_row": null,
            "grid_template_areas": null,
            "grid_template_columns": null,
            "grid_template_rows": null,
            "height": null,
            "justify_content": null,
            "justify_items": null,
            "left": null,
            "margin": null,
            "max_height": null,
            "max_width": null,
            "min_height": null,
            "min_width": null,
            "object_fit": null,
            "object_position": null,
            "order": null,
            "overflow": null,
            "overflow_x": null,
            "overflow_y": null,
            "padding": null,
            "right": null,
            "top": null,
            "visibility": null,
            "width": null
          }
        },
        "675c2ec079e54b72973751798e9e5a27": {
          "model_module": "@jupyter-widgets/controls",
          "model_name": "DescriptionStyleModel",
          "model_module_version": "1.5.0",
          "state": {
            "_model_module": "@jupyter-widgets/controls",
            "_model_module_version": "1.5.0",
            "_model_name": "DescriptionStyleModel",
            "_view_count": null,
            "_view_module": "@jupyter-widgets/base",
            "_view_module_version": "1.2.0",
            "_view_name": "StyleView",
            "description_width": ""
          }
        },
        "034afd2f213b42088bae036bb8d1a3b8": {
          "model_module": "@jupyter-widgets/controls",
          "model_name": "HBoxModel",
          "model_module_version": "1.5.0",
          "state": {
            "_dom_classes": [],
            "_model_module": "@jupyter-widgets/controls",
            "_model_module_version": "1.5.0",
            "_model_name": "HBoxModel",
            "_view_count": null,
            "_view_module": "@jupyter-widgets/controls",
            "_view_module_version": "1.5.0",
            "_view_name": "HBoxView",
            "box_style": "",
            "children": [
              "IPY_MODEL_8875fe51d6c1417daec6fa54429217d2",
              "IPY_MODEL_5f3465cf86824d1db42b5dd0668241b7",
              "IPY_MODEL_17b46f2f69d24d12abbeea9798dd1fb6"
            ],
            "layout": "IPY_MODEL_d8d66e2bb281406fab5945f95a356b46"
          }
        },
        "8875fe51d6c1417daec6fa54429217d2": {
          "model_module": "@jupyter-widgets/controls",
          "model_name": "HTMLModel",
          "model_module_version": "1.5.0",
          "state": {
            "_dom_classes": [],
            "_model_module": "@jupyter-widgets/controls",
            "_model_module_version": "1.5.0",
            "_model_name": "HTMLModel",
            "_view_count": null,
            "_view_module": "@jupyter-widgets/controls",
            "_view_module_version": "1.5.0",
            "_view_name": "HTMLView",
            "description": "",
            "description_tooltip": null,
            "layout": "IPY_MODEL_6b30f67a22834493a5898e907f916fe7",
            "placeholder": "​",
            "style": "IPY_MODEL_e4d1aab7a1d74a2daf892237eca93a68",
            "value": "100%"
          }
        },
        "5f3465cf86824d1db42b5dd0668241b7": {
          "model_module": "@jupyter-widgets/controls",
          "model_name": "FloatProgressModel",
          "model_module_version": "1.5.0",
          "state": {
            "_dom_classes": [],
            "_model_module": "@jupyter-widgets/controls",
            "_model_module_version": "1.5.0",
            "_model_name": "FloatProgressModel",
            "_view_count": null,
            "_view_module": "@jupyter-widgets/controls",
            "_view_module_version": "1.5.0",
            "_view_name": "ProgressView",
            "bar_style": "success",
            "description": "",
            "description_tooltip": null,
            "layout": "IPY_MODEL_a032469d7c4545968f017460dc5da6b7",
            "max": 108,
            "min": 0,
            "orientation": "horizontal",
            "style": "IPY_MODEL_3e09984921e14b7290f59be124ca93cc",
            "value": 108
          }
        },
        "17b46f2f69d24d12abbeea9798dd1fb6": {
          "model_module": "@jupyter-widgets/controls",
          "model_name": "HTMLModel",
          "model_module_version": "1.5.0",
          "state": {
            "_dom_classes": [],
            "_model_module": "@jupyter-widgets/controls",
            "_model_module_version": "1.5.0",
            "_model_name": "HTMLModel",
            "_view_count": null,
            "_view_module": "@jupyter-widgets/controls",
            "_view_module_version": "1.5.0",
            "_view_name": "HTMLView",
            "description": "",
            "description_tooltip": null,
            "layout": "IPY_MODEL_6483b7ec38da440881ddf6a9ec6b381f",
            "placeholder": "​",
            "style": "IPY_MODEL_45f838b7f1a2404496a74030a4f9a20e",
            "value": " 108/108 [17:47&lt;00:00, 10.26s/it]"
          }
        },
        "d8d66e2bb281406fab5945f95a356b46": {
          "model_module": "@jupyter-widgets/base",
          "model_name": "LayoutModel",
          "model_module_version": "1.2.0",
          "state": {
            "_model_module": "@jupyter-widgets/base",
            "_model_module_version": "1.2.0",
            "_model_name": "LayoutModel",
            "_view_count": null,
            "_view_module": "@jupyter-widgets/base",
            "_view_module_version": "1.2.0",
            "_view_name": "LayoutView",
            "align_content": null,
            "align_items": null,
            "align_self": null,
            "border": null,
            "bottom": null,
            "display": null,
            "flex": null,
            "flex_flow": null,
            "grid_area": null,
            "grid_auto_columns": null,
            "grid_auto_flow": null,
            "grid_auto_rows": null,
            "grid_column": null,
            "grid_gap": null,
            "grid_row": null,
            "grid_template_areas": null,
            "grid_template_columns": null,
            "grid_template_rows": null,
            "height": null,
            "justify_content": null,
            "justify_items": null,
            "left": null,
            "margin": null,
            "max_height": null,
            "max_width": null,
            "min_height": null,
            "min_width": null,
            "object_fit": null,
            "object_position": null,
            "order": null,
            "overflow": null,
            "overflow_x": null,
            "overflow_y": null,
            "padding": null,
            "right": null,
            "top": null,
            "visibility": null,
            "width": null
          }
        },
        "6b30f67a22834493a5898e907f916fe7": {
          "model_module": "@jupyter-widgets/base",
          "model_name": "LayoutModel",
          "model_module_version": "1.2.0",
          "state": {
            "_model_module": "@jupyter-widgets/base",
            "_model_module_version": "1.2.0",
            "_model_name": "LayoutModel",
            "_view_count": null,
            "_view_module": "@jupyter-widgets/base",
            "_view_module_version": "1.2.0",
            "_view_name": "LayoutView",
            "align_content": null,
            "align_items": null,
            "align_self": null,
            "border": null,
            "bottom": null,
            "display": null,
            "flex": null,
            "flex_flow": null,
            "grid_area": null,
            "grid_auto_columns": null,
            "grid_auto_flow": null,
            "grid_auto_rows": null,
            "grid_column": null,
            "grid_gap": null,
            "grid_row": null,
            "grid_template_areas": null,
            "grid_template_columns": null,
            "grid_template_rows": null,
            "height": null,
            "justify_content": null,
            "justify_items": null,
            "left": null,
            "margin": null,
            "max_height": null,
            "max_width": null,
            "min_height": null,
            "min_width": null,
            "object_fit": null,
            "object_position": null,
            "order": null,
            "overflow": null,
            "overflow_x": null,
            "overflow_y": null,
            "padding": null,
            "right": null,
            "top": null,
            "visibility": null,
            "width": null
          }
        },
        "e4d1aab7a1d74a2daf892237eca93a68": {
          "model_module": "@jupyter-widgets/controls",
          "model_name": "DescriptionStyleModel",
          "model_module_version": "1.5.0",
          "state": {
            "_model_module": "@jupyter-widgets/controls",
            "_model_module_version": "1.5.0",
            "_model_name": "DescriptionStyleModel",
            "_view_count": null,
            "_view_module": "@jupyter-widgets/base",
            "_view_module_version": "1.2.0",
            "_view_name": "StyleView",
            "description_width": ""
          }
        },
        "a032469d7c4545968f017460dc5da6b7": {
          "model_module": "@jupyter-widgets/base",
          "model_name": "LayoutModel",
          "model_module_version": "1.2.0",
          "state": {
            "_model_module": "@jupyter-widgets/base",
            "_model_module_version": "1.2.0",
            "_model_name": "LayoutModel",
            "_view_count": null,
            "_view_module": "@jupyter-widgets/base",
            "_view_module_version": "1.2.0",
            "_view_name": "LayoutView",
            "align_content": null,
            "align_items": null,
            "align_self": null,
            "border": null,
            "bottom": null,
            "display": null,
            "flex": null,
            "flex_flow": null,
            "grid_area": null,
            "grid_auto_columns": null,
            "grid_auto_flow": null,
            "grid_auto_rows": null,
            "grid_column": null,
            "grid_gap": null,
            "grid_row": null,
            "grid_template_areas": null,
            "grid_template_columns": null,
            "grid_template_rows": null,
            "height": null,
            "justify_content": null,
            "justify_items": null,
            "left": null,
            "margin": null,
            "max_height": null,
            "max_width": null,
            "min_height": null,
            "min_width": null,
            "object_fit": null,
            "object_position": null,
            "order": null,
            "overflow": null,
            "overflow_x": null,
            "overflow_y": null,
            "padding": null,
            "right": null,
            "top": null,
            "visibility": null,
            "width": null
          }
        },
        "3e09984921e14b7290f59be124ca93cc": {
          "model_module": "@jupyter-widgets/controls",
          "model_name": "ProgressStyleModel",
          "model_module_version": "1.5.0",
          "state": {
            "_model_module": "@jupyter-widgets/controls",
            "_model_module_version": "1.5.0",
            "_model_name": "ProgressStyleModel",
            "_view_count": null,
            "_view_module": "@jupyter-widgets/base",
            "_view_module_version": "1.2.0",
            "_view_name": "StyleView",
            "bar_color": null,
            "description_width": ""
          }
        },
        "6483b7ec38da440881ddf6a9ec6b381f": {
          "model_module": "@jupyter-widgets/base",
          "model_name": "LayoutModel",
          "model_module_version": "1.2.0",
          "state": {
            "_model_module": "@jupyter-widgets/base",
            "_model_module_version": "1.2.0",
            "_model_name": "LayoutModel",
            "_view_count": null,
            "_view_module": "@jupyter-widgets/base",
            "_view_module_version": "1.2.0",
            "_view_name": "LayoutView",
            "align_content": null,
            "align_items": null,
            "align_self": null,
            "border": null,
            "bottom": null,
            "display": null,
            "flex": null,
            "flex_flow": null,
            "grid_area": null,
            "grid_auto_columns": null,
            "grid_auto_flow": null,
            "grid_auto_rows": null,
            "grid_column": null,
            "grid_gap": null,
            "grid_row": null,
            "grid_template_areas": null,
            "grid_template_columns": null,
            "grid_template_rows": null,
            "height": null,
            "justify_content": null,
            "justify_items": null,
            "left": null,
            "margin": null,
            "max_height": null,
            "max_width": null,
            "min_height": null,
            "min_width": null,
            "object_fit": null,
            "object_position": null,
            "order": null,
            "overflow": null,
            "overflow_x": null,
            "overflow_y": null,
            "padding": null,
            "right": null,
            "top": null,
            "visibility": null,
            "width": null
          }
        },
        "45f838b7f1a2404496a74030a4f9a20e": {
          "model_module": "@jupyter-widgets/controls",
          "model_name": "DescriptionStyleModel",
          "model_module_version": "1.5.0",
          "state": {
            "_model_module": "@jupyter-widgets/controls",
            "_model_module_version": "1.5.0",
            "_model_name": "DescriptionStyleModel",
            "_view_count": null,
            "_view_module": "@jupyter-widgets/base",
            "_view_module_version": "1.2.0",
            "_view_name": "StyleView",
            "description_width": ""
          }
        }
      }
    }
  },
  "cells": [
    {
      "cell_type": "markdown",
      "metadata": {
        "id": "view-in-github",
        "colab_type": "text"
      },
      "source": [
        "<a href=\"https://colab.research.google.com/github/Mike030668/MIPT_magistratura/blob/main/ModNet/LangChain/Evaluete_inference_gradio.ipynb\" target=\"_parent\"><img src=\"https://colab.research.google.com/assets/colab-badge.svg\" alt=\"Open In Colab\"/></a>"
      ]
    },
    {
      "cell_type": "code",
      "execution_count": null,
      "metadata": {
        "id": "se06uSQOOHXv"
      },
      "outputs": [],
      "source": [
        "!git clone https://github.com/liutiedong/goat.git -q"
      ]
    },
    {
      "cell_type": "code",
      "source": [
        "!pip install -r /content/goat/requirements.txt -q"
      ],
      "metadata": {
        "id": "zM4A37o4CTiV",
        "colab": {
          "base_uri": "https://localhost:8080/"
        },
        "outputId": "b68bc997-859d-45ff-a3ed-38c71cd7111b"
      },
      "execution_count": null,
      "outputs": [
        {
          "output_type": "stream",
          "name": "stdout",
          "text": [
            "\u001b[2K     \u001b[90m━━━━━━━━━━━━━━━━━━━━━━━━━━━━━━━━━━━━━━━━\u001b[0m \u001b[32m261.4/261.4 kB\u001b[0m \u001b[31m4.7 MB/s\u001b[0m eta \u001b[36m0:00:00\u001b[0m\n",
            "\u001b[2K     \u001b[90m━━━━━━━━━━━━━━━━━━━━━━━━━━━━━━━━━━━━━━━━\u001b[0m \u001b[32m84.2/84.2 MB\u001b[0m \u001b[31m11.2 MB/s\u001b[0m eta \u001b[36m0:00:00\u001b[0m\n",
            "\u001b[2K     \u001b[90m━━━━━━━━━━━━━━━━━━━━━━━━━━━━━━━━━━━━━━━━\u001b[0m \u001b[32m1.7/1.7 MB\u001b[0m \u001b[31m89.9 MB/s\u001b[0m eta \u001b[36m0:00:00\u001b[0m\n",
            "\u001b[2K     \u001b[90m━━━━━━━━━━━━━━━━━━━━━━━━━━━━━━━━━━━━━━━━\u001b[0m \u001b[32m521.2/521.2 kB\u001b[0m \u001b[31m47.6 MB/s\u001b[0m eta \u001b[36m0:00:00\u001b[0m\n",
            "\u001b[2K     \u001b[90m━━━━━━━━━━━━━━━━━━━━━━━━━━━━━━━━━━━━━━━━\u001b[0m \u001b[32m88.3/88.3 kB\u001b[0m \u001b[31m13.1 MB/s\u001b[0m eta \u001b[36m0:00:00\u001b[0m\n",
            "\u001b[?25h  Preparing metadata (setup.py) ... \u001b[?25l\u001b[?25hdone\n",
            "\u001b[2K     \u001b[90m━━━━━━━━━━━━━━━━━━━━━━━━━━━━━━━━━━━━━━━━\u001b[0m \u001b[32m40.3/40.3 kB\u001b[0m \u001b[31m4.8 MB/s\u001b[0m eta \u001b[36m0:00:00\u001b[0m\n",
            "\u001b[2K     \u001b[90m━━━━━━━━━━━━━━━━━━━━━━━━━━━━━━━━━━━━━━━━\u001b[0m \u001b[32m1.3/1.3 MB\u001b[0m \u001b[31m82.0 MB/s\u001b[0m eta \u001b[36m0:00:00\u001b[0m\n",
            "\u001b[2K     \u001b[90m━━━━━━━━━━━━━━━━━━━━━━━━━━━━━━━━━━━━━━━━\u001b[0m \u001b[32m15.4/15.4 MB\u001b[0m \u001b[31m91.3 MB/s\u001b[0m eta \u001b[36m0:00:00\u001b[0m\n",
            "\u001b[2K     \u001b[90m━━━━━━━━━━━━━━━━━━━━━━━━━━━━━━━━━━━━━━━━\u001b[0m \u001b[32m115.3/115.3 kB\u001b[0m \u001b[31m9.1 MB/s\u001b[0m eta \u001b[36m0:00:00\u001b[0m\n",
            "\u001b[2K     \u001b[90m━━━━━━━━━━━━━━━━━━━━━━━━━━━━━━━━━━━━━━━━\u001b[0m \u001b[32m134.8/134.8 kB\u001b[0m \u001b[31m16.7 MB/s\u001b[0m eta \u001b[36m0:00:00\u001b[0m\n",
            "\u001b[2K     \u001b[90m━━━━━━━━━━━━━━━━━━━━━━━━━━━━━━━━━━━━━━━━\u001b[0m \u001b[32m92.9/92.9 kB\u001b[0m \u001b[31m11.0 MB/s\u001b[0m eta \u001b[36m0:00:00\u001b[0m\n",
            "\u001b[?25h  Preparing metadata (setup.py) ... \u001b[?25l\u001b[?25hdone\n",
            "\u001b[2K     \u001b[90m━━━━━━━━━━━━━━━━━━━━━━━━━━━━━━━━━━━━━━━━\u001b[0m \u001b[32m302.7/302.7 kB\u001b[0m \u001b[31m28.6 MB/s\u001b[0m eta \u001b[36m0:00:00\u001b[0m\n",
            "\u001b[2K     \u001b[90m━━━━━━━━━━━━━━━━━━━━━━━━━━━━━━━━━━━━━━━━\u001b[0m \u001b[32m75.0/75.0 kB\u001b[0m \u001b[31m8.2 MB/s\u001b[0m eta \u001b[36m0:00:00\u001b[0m\n",
            "\u001b[2K     \u001b[90m━━━━━━━━━━━━━━━━━━━━━━━━━━━━━━━━━━━━━━━━\u001b[0m \u001b[32m138.7/138.7 kB\u001b[0m \u001b[31m14.5 MB/s\u001b[0m eta \u001b[36m0:00:00\u001b[0m\n",
            "\u001b[2K     \u001b[90m━━━━━━━━━━━━━━━━━━━━━━━━━━━━━━━━━━━━━━━━\u001b[0m \u001b[32m381.6/381.6 kB\u001b[0m \u001b[31m33.8 MB/s\u001b[0m eta \u001b[36m0:00:00\u001b[0m\n",
            "\u001b[2K     \u001b[90m━━━━━━━━━━━━━━━━━━━━━━━━━━━━━━━━━━━━━━━━\u001b[0m \u001b[32m45.7/45.7 kB\u001b[0m \u001b[31m5.0 MB/s\u001b[0m eta \u001b[36m0:00:00\u001b[0m\n",
            "\u001b[2K     \u001b[90m━━━━━━━━━━━━━━━━━━━━━━━━━━━━━━━━━━━━━━━━\u001b[0m \u001b[32m59.7/59.7 kB\u001b[0m \u001b[31m6.2 MB/s\u001b[0m eta \u001b[36m0:00:00\u001b[0m\n",
            "\u001b[2K     \u001b[90m━━━━━━━━━━━━━━━━━━━━━━━━━━━━━━━━━━━━━━━━\u001b[0m \u001b[32m129.9/129.9 kB\u001b[0m \u001b[31m11.4 MB/s\u001b[0m eta \u001b[36m0:00:00\u001b[0m\n",
            "\u001b[2K     \u001b[90m━━━━━━━━━━━━━━━━━━━━━━━━━━━━━━━━━━━━━━━━\u001b[0m \u001b[32m1.6/1.6 MB\u001b[0m \u001b[31m38.2 MB/s\u001b[0m eta \u001b[36m0:00:00\u001b[0m\n",
            "\u001b[2K     \u001b[90m━━━━━━━━━━━━━━━━━━━━━━━━━━━━━━━━━━━━━━━━\u001b[0m \u001b[32m2.1/2.1 MB\u001b[0m \u001b[31m74.6 MB/s\u001b[0m eta \u001b[36m0:00:00\u001b[0m\n",
            "\u001b[2K     \u001b[90m━━━━━━━━━━━━━━━━━━━━━━━━━━━━━━━━━━━━━━━━\u001b[0m \u001b[32m58.3/58.3 kB\u001b[0m \u001b[31m7.2 MB/s\u001b[0m eta \u001b[36m0:00:00\u001b[0m\n",
            "\u001b[2K     \u001b[90m━━━━━━━━━━━━━━━━━━━━━━━━━━━━━━━━━━━━━━━━\u001b[0m \u001b[32m67.0/67.0 kB\u001b[0m \u001b[31m7.8 MB/s\u001b[0m eta \u001b[36m0:00:00\u001b[0m\n",
            "\u001b[2K     \u001b[90m━━━━━━━━━━━━━━━━━━━━━━━━━━━━━━━━━━━━━━━━\u001b[0m \u001b[32m76.9/76.9 kB\u001b[0m \u001b[31m9.4 MB/s\u001b[0m eta \u001b[36m0:00:00\u001b[0m\n",
            "\u001b[?25h  Building wheel for fire (setup.py) ... \u001b[?25l\u001b[?25hdone\n",
            "  Building wheel for ffmpy (setup.py) ... \u001b[?25l\u001b[?25hdone\n",
            "\u001b[31mERROR: pip's dependency resolver does not currently take into account all the packages that are installed. This behaviour is the source of the following dependency conflicts.\n",
            "lida 0.0.10 requires kaleido, which is not installed.\n",
            "llmx 0.0.15a0 requires cohere, which is not installed.\n",
            "llmx 0.0.15a0 requires openai, which is not installed.\n",
            "llmx 0.0.15a0 requires tiktoken, which is not installed.\n",
            "tensorflow-probability 0.22.0 requires typing-extensions<4.6.0, but you have typing-extensions 4.8.0 which is incompatible.\u001b[0m\u001b[31m\n",
            "\u001b[0m"
          ]
        }
      ]
    },
    {
      "cell_type": "markdown",
      "source": [
        "# Test working gradio"
      ],
      "metadata": {
        "id": "u6-vic-omdCd"
      }
    },
    {
      "cell_type": "code",
      "source": [
        "!pip install gradio -q"
      ],
      "metadata": {
        "id": "ISbofKLPCc33"
      },
      "execution_count": null,
      "outputs": []
    },
    {
      "cell_type": "code",
      "source": [
        "import numpy as np\n",
        "import gradio as gr\n",
        "\n",
        "\n",
        "def flip_text(x):\n",
        "    return x[::-1]\n",
        "\n",
        "\n",
        "def flip_image(x):\n",
        "    return np.fliplr(x)\n",
        "\n",
        "\n",
        "with gr.Blocks() as demo:\n",
        "    gr.Markdown(\"Flip text or image files using this demo.\")\n",
        "    with gr.Tab(\"Flip Text\"):\n",
        "        text_input = gr.Textbox()\n",
        "        text_output = gr.Textbox()\n",
        "        text_button = gr.Button(\"Flip\")\n",
        "    with gr.Tab(\"Flip Image\"):\n",
        "        with gr.Row():\n",
        "            image_input = gr.Image()\n",
        "            image_output = gr.Image()\n",
        "        image_button = gr.Button(\"Flip\")\n",
        "\n",
        "    with gr.Accordion(\"Open for More!\"):\n",
        "        gr.Markdown(\"Look at me...\")\n",
        "\n",
        "    text_button.click(flip_text, inputs=text_input, outputs=text_output)\n",
        "    image_button.click(flip_image, inputs=image_input, outputs=image_output)\n",
        "\n",
        "demo.launch()"
      ],
      "metadata": {
        "id": "usi1TNMshdfH",
        "colab": {
          "base_uri": "https://localhost:8080/",
          "height": 626
        },
        "outputId": "c4bb8e3f-59cf-440b-cbb2-04e69c6a23e3"
      },
      "execution_count": null,
      "outputs": [
        {
          "output_type": "stream",
          "name": "stdout",
          "text": [
            "Setting queue=True in a Colab notebook requires sharing enabled. Setting `share=True` (you can turn this off by setting `share=False` in `launch()` explicitly).\n",
            "\n",
            "Colab notebook detected. To show errors in colab notebook, set debug=True in launch()\n",
            "Running on public URL: https://2890722e788dc1957c.gradio.live\n",
            "\n",
            "This share link expires in 72 hours. For free permanent hosting and GPU upgrades, run `gradio deploy` from Terminal to deploy to Spaces (https://huggingface.co/spaces)\n"
          ]
        },
        {
          "output_type": "display_data",
          "data": {
            "text/plain": [
              "<IPython.core.display.HTML object>"
            ],
            "text/html": [
              "<div><iframe src=\"https://2890722e788dc1957c.gradio.live\" width=\"100%\" height=\"500\" allow=\"autoplay; camera; microphone; clipboard-read; clipboard-write;\" frameborder=\"0\" allowfullscreen></iframe></div>"
            ]
          },
          "metadata": {}
        },
        {
          "output_type": "execute_result",
          "data": {
            "text/plain": []
          },
          "metadata": {},
          "execution_count": 4
        }
      ]
    },
    {
      "cell_type": "markdown",
      "source": [
        "https://colab.research.google.com/drive/15tiSi_XvSpFC-M0c45lJXOwDPgjDSrK9?usp=sharing\n",
        "\n",
        "https://github.com/liutiedong/goat"
      ],
      "metadata": {
        "id": "K5wKHaBKiNWP"
      }
    },
    {
      "cell_type": "code",
      "source": [
        "from google.colab import drive\n",
        "drive.mount('/content/drive')"
      ],
      "metadata": {
        "colab": {
          "base_uri": "https://localhost:8080/"
        },
        "id": "VISVu7ziDkeE",
        "outputId": "588a98f9-88b9-41ec-c646-150385593ac5"
      },
      "execution_count": null,
      "outputs": [
        {
          "output_type": "stream",
          "name": "stdout",
          "text": [
            "Mounted at /content/drive\n"
          ]
        }
      ]
    },
    {
      "cell_type": "code",
      "source": [
        "import os\n",
        "import sys\n",
        "\n",
        "import fire\n",
        "import gradio as gr\n",
        "import torch\n",
        "import transformers\n",
        "from peft import PeftModel\n",
        "from transformers import GenerationConfig, LlamaForCausalLM, LlamaTokenizer\n",
        "\n",
        "import warnings\n",
        "warnings.filterwarnings(\"ignore\")"
      ],
      "metadata": {
        "colab": {
          "base_uri": "https://localhost:8080/"
        },
        "id": "gF_ZZp6ZC0XN",
        "outputId": "f61a3cf2-30d5-4378-9353-d05d540c09da"
      },
      "execution_count": null,
      "outputs": [
        {
          "output_type": "stream",
          "name": "stdout",
          "text": [
            "\n",
            "===================================BUG REPORT===================================\n",
            "Welcome to bitsandbytes. For bug reports, please submit your error trace to: https://github.com/TimDettmers/bitsandbytes/issues\n",
            "================================================================================\n",
            "CUDA_SETUP: WARNING! libcudart.so not found in any environmental path. Searching /usr/local/cuda/lib64...\n",
            "CUDA SETUP: CUDA runtime path found: /usr/local/cuda/lib64/libcudart.so\n",
            "CUDA SETUP: Highest compute capability among GPUs detected: 7.5\n",
            "CUDA SETUP: Detected CUDA version 118\n",
            "CUDA SETUP: Loading binary /usr/local/lib/python3.10/dist-packages/bitsandbytes/libbitsandbytes_cuda118.so...\n"
          ]
        },
        {
          "output_type": "stream",
          "name": "stderr",
          "text": [
            "/usr/local/lib/python3.10/dist-packages/bitsandbytes/cuda_setup/main.py:136: UserWarning: /usr/lib64-nvidia did not contain libcudart.so as expected! Searching further paths...\n",
            "  warn(msg)\n",
            "/usr/local/lib/python3.10/dist-packages/bitsandbytes/cuda_setup/main.py:136: UserWarning: WARNING: The following directories listed in your path were found to be non-existent: {PosixPath('/sys/fs/cgroup/memory.events /var/colab/cgroup/jupyter-children/memory.events')}\n",
            "  warn(msg)\n",
            "/usr/local/lib/python3.10/dist-packages/bitsandbytes/cuda_setup/main.py:136: UserWarning: WARNING: The following directories listed in your path were found to be non-existent: {PosixPath('8013'), PosixPath('http'), PosixPath('//172.28.0.1')}\n",
            "  warn(msg)\n",
            "/usr/local/lib/python3.10/dist-packages/bitsandbytes/cuda_setup/main.py:136: UserWarning: WARNING: The following directories listed in your path were found to be non-existent: {PosixPath('--logtostderr --listen_host=172.28.0.12 --target_host=172.28.0.12 --tunnel_background_save_url=https'), PosixPath('//colab.research.google.com/tun/m/cc48301118ce562b961b3c22d803539adc1e0c19/gpu-t4-s-2equ8rssvqaad --tunnel_background_save_delay=10s --tunnel_periodic_background_save_frequency=30m0s --enable_output_coalescing=true --output_coalescing_required=true')}\n",
            "  warn(msg)\n",
            "/usr/local/lib/python3.10/dist-packages/bitsandbytes/cuda_setup/main.py:136: UserWarning: WARNING: The following directories listed in your path were found to be non-existent: {PosixPath('/datalab/web/pyright/typeshed-fallback/stdlib,/usr/local/lib/python3.10/dist-packages')}\n",
            "  warn(msg)\n",
            "/usr/local/lib/python3.10/dist-packages/bitsandbytes/cuda_setup/main.py:136: UserWarning: WARNING: The following directories listed in your path were found to be non-existent: {PosixPath('/env/python')}\n",
            "  warn(msg)\n",
            "/usr/local/lib/python3.10/dist-packages/bitsandbytes/cuda_setup/main.py:136: UserWarning: WARNING: The following directories listed in your path were found to be non-existent: {PosixPath('module'), PosixPath('//ipykernel.pylab.backend_inline')}\n",
            "  warn(msg)\n"
          ]
        }
      ]
    },
    {
      "cell_type": "code",
      "source": [
        "from typing import Union\n",
        "\n",
        "class Prompter(object):\n",
        "\n",
        "    def generate_prompt(\n",
        "        self,\n",
        "        instruction: str,\n",
        "        label: Union[None, str] = None,\n",
        "    ) -> str:\n",
        "\n",
        "        res = f\"{instruction}\\nAnswer: \"\n",
        "\n",
        "        if label:\n",
        "            res = f\"{res}{label}\"\n",
        "\n",
        "        return res\n",
        "\n",
        "    def get_response(self, output: str) -> str:\n",
        "        return output.split(\"Answer:\")[1].strip().replace(\"/\", \"\\u00F7\").replace(\"*\", \"\\u00D7\")\n"
      ],
      "metadata": {
        "id": "WfVolRT-OZSz"
      },
      "execution_count": null,
      "outputs": []
    },
    {
      "cell_type": "markdown",
      "source": [
        "# Checkpoint model"
      ],
      "metadata": {
        "id": "B1s-AskeGXfD"
      }
    },
    {
      "cell_type": "code",
      "source": [
        "path = '/content/drive/Othercomputers/My_comp/Документы/МФТИ_Наука_о_данных/Современные_модели_DL/DZ_LangChain'\n",
        "data_path = path + '/dataset.json'\n",
        "\n",
        "checkpoint = 2150\n",
        "checkpoint_path = path + f'/model/checkpoint-{checkpoint}'\n",
        "checkpoint_path"
      ],
      "metadata": {
        "id": "oUQUmsVqrS8Z",
        "colab": {
          "base_uri": "https://localhost:8080/",
          "height": 35
        },
        "outputId": "56618b9e-375c-4cad-e0b4-bb3cfaa65608"
      },
      "execution_count": null,
      "outputs": [
        {
          "output_type": "execute_result",
          "data": {
            "text/plain": [
              "'/content/drive/Othercomputers/My_comp/Документы/МФТИ_Наука_о_данных/Современные_модели_DL/DZ_LangChain/model/checkpoint-2150'"
            ],
            "application/vnd.google.colaboratory.intrinsic+json": {
              "type": "string"
            }
          },
          "metadata": {},
          "execution_count": 11
        }
      ]
    },
    {
      "cell_type": "code",
      "source": [
        "import os\n",
        "import sys\n",
        "\n",
        "import fire\n",
        "import torch\n",
        "import transformers\n",
        "from peft import PeftModel\n",
        "from transformers import GenerationConfig, LlamaForCausalLM, LlamaTokenizer\n",
        "\n",
        "load_8bit = True # for Colab\n",
        "base_model = \"baffo32/decapoda-research-llama-7B-hf\"\n",
        "lora_weights = checkpoint_path\n",
        "\n",
        "\n",
        "if torch.cuda.is_available():\n",
        "    DEVICE = \"cuda\"\n",
        "else:\n",
        "    DEVICE = \"cpu\"\n",
        "\n",
        "\n",
        "\n",
        "prompter = Prompter()\n",
        "\n",
        "tokenizer = LlamaTokenizer.from_pretrained('huggyllama/llama-7b')\n",
        "\n",
        "model = LlamaForCausalLM.from_pretrained(\n",
        "    base_model,\n",
        "    load_in_8bit=load_8bit,\n",
        "    torch_dtype=torch.float16,\n",
        "    device_map= \"auto\",\n",
        ")\n",
        "model = PeftModel.from_pretrained(\n",
        "    model,\n",
        "    lora_weights,\n",
        "    torch_dtype=torch.float16,\n",
        "    device_map={\"\": 0},\n",
        ")\n",
        "\n",
        "model.eval()"
      ],
      "metadata": {
        "colab": {
          "base_uri": "https://localhost:8080/",
          "height": 1000,
          "referenced_widgets": [
            "6692d422eaac4839a58cf4142889ca32",
            "e91574c79fd5463996206e204cd2c904",
            "baae353489734599a03b84e00c494a59",
            "01234de0a6fe40e3ad4b64037b199a20",
            "659cdf69d1304cc5999dbc8ea65c1da0",
            "b34375e84fef4b0a9ba753153fbd21b3",
            "0897f85895e64079bddb85729a5a7957",
            "78d5322a2a4c4a238a4dcc2ddf9eb558",
            "c33d2ce49c064e74853dc81e0654becb",
            "f21ad5f8694e4cfcaa5631290fcfb42e",
            "81a59ece197b4d5db493667127126ccc",
            "61d2bcccd2424c8085dddd0e6bf093e8",
            "0fffe23b038b493f9ad9da37e976442f",
            "ddd14e9f65ed49f684c8ead897cf7f54",
            "20ce37a537e34eb8accef6b4b2dd32bb",
            "3a0a492308aa404eb91b44f1890668cc",
            "00fe8f8ab9c0463f8959ea3ef257bfe2",
            "31befe6edf6c4fd0a6d497c8f8c1e327",
            "1bd6a1d4732d4ba1945cae8c97c94a93",
            "57286590c7cc4c0595ff2f2a963b9db9",
            "7b03813b20be46a8a143a191eab962de",
            "4e491cbce8d5433fa6989e9b259f911d",
            "f149e735eb224288a5b1d0ec5d37dfad",
            "e07f6f63dca142ac84a75968b77eefd6",
            "fda6053e56a843a38fae8ab07e5c8e56",
            "2d9647b124a04e4aabfca08f057156b2",
            "34c4a2d785b74a609309f9987693237c",
            "8b6c41d804d846ecac87fdd4035f3e35",
            "0be62acbefc54e869a74d88a22b432b2",
            "eccc71ba14c84349baa44e259ccf16ca",
            "44490201b92a4d2bba16199acdca53f7",
            "45b280e9896d4c7ebae535ec613d7aa1",
            "924ab50e44844fe5bb6a3f3c5b2f65df",
            "73a4c27ee84048ca92dabfd52de9432c",
            "570b454d10e440559a2312fa40d4c663",
            "67009b10bb534c00a7c089024f29bfd9",
            "c094d64f9c8a485b904eeb34173a07be",
            "c2475a73dd0a4118aafc6d72632e6469",
            "efdda592cd9f49498524e69b2e1cf740",
            "a946375484d24295a52f9635f2b96805",
            "f94c43baf99745068f45ecec77cef864",
            "f595bce38a334788819c39d70ecaee9f",
            "c9d5140cde8c47d4af3fce2a5ef4efa1",
            "b06e10193b554302ae4b1c87fdc8ffe6",
            "e56d514f67304a11a6670f9fbdf0b711",
            "c7e3fd6fb341441fad395d0411a26b57",
            "845be410a265430488f99bf203e1ffc7",
            "763b07d9867a41c2ac8aaedd1fb87d6e",
            "1bed94d9c0d94139abfb7e56241802b4",
            "615c0afa216944dc914cf422a3b34c8f",
            "8e789774727042f69b0cd6d4f819a99b",
            "7331546cecf742d5aeeb8e1e785834e8",
            "f1afb2714f6b4809841dfcefaa7fce90",
            "9d51e9015ff9452c815aa79a76bd07b4",
            "0bb7e64ac195420b9697a0086b552594",
            "552e165af19e4abe8a1af3c9bfe43519",
            "1fe260e716c944fb9bc2bc5c8e4ee320",
            "7ac5aeeba1ea4b3a83f6d559cdb1a33e",
            "8d76b340d80547d49906a1059de2217c",
            "71b30a211edb4217bda1e94d0d5fc2fa",
            "bca00c21a1f44849a15899ee2d4af53c",
            "fe81d8b813c74379b5c18f767a20ee93",
            "f7f119d9bed440d8b85ab58e8d31237d",
            "1f4ad7bd5afb4c05a1fe8f67f507dd55",
            "6af8791771ca47db970a3a1ac412a65c",
            "52a3915a01894f109c8dceeb6a612ea3",
            "cd54f25d1ec444759fc801ed47e9913e",
            "b35abc51efc14b56bace8bf36983a79d",
            "dd4873916683417f84d6d981d95a306f",
            "5862e4221c0c4a7ab5e6cab164ea5a8a",
            "e5a38d8a76f34d1980faf230282afb66",
            "2140514a05ae43da90de093b53bff3e0",
            "d38efd7fe90b4065b91b51008619d15a",
            "56a656ba153d425584fcaab94bf133c8",
            "aed2f15a0e4b426a834b80ac4c26ffcf",
            "6e155dcb904940e68e8fbf5ecb7b4f85",
            "0ba1fdca0f2841daacfddac115b4af92",
            "5cb5105cc3334f51b230f3176337edd1",
            "6209274847f74642913ddcff91e25d99",
            "0a39b4375da748d7811a6d483e699bb8",
            "c70b91a5f0264d008a4c35700547a7e6",
            "9e20b4c81cbe4f43872d82b414b60528",
            "edba5b8959cc4b548f350b03210aa569",
            "06c065df053f425e81ef989676155cfa",
            "6de817caf35a405b8b8ccfe8b1e7ceb3",
            "28b321212adf4ed3a9f1b4972931dce2",
            "3cb72f4a2f794508888cc3ae792bd866",
            "0176d3005b174d6da98c6ecc4914d94c",
            "3cd36e9065814358ac820cb7f32773c6",
            "9d0965ad33784659b425d5c93f838697",
            "44e5c4284c154b24bd8b5d071e47a1ab",
            "ce68b96c7c21431383943a57067d788a",
            "b2c743ad9f2742168b6f6a13f601f354",
            "2472b4fbafa5460693023c9077d484a2",
            "db9f8d791fb844e8833da49c72ee85cf",
            "7f60a4530c51414aaa6daef5bcd322ba",
            "313a47409b8141d88fe9681b9028ea90",
            "d2b6837b3c6f4bb6ab9019e71599c288",
            "9e6247bfa2e24d959edb759858df1bd2",
            "88f18830639c408dae07be8d51648ccb",
            "687db8df9ec74deebb0a292f79c82244",
            "dd502f16c9dd4d4a9c74201952d0780f",
            "87fd06b109f54d6a87539ec832d119ff",
            "cf029ae600d94e0790a714e5a64f7228",
            "46c7d72f73b14856b9dce6d17fcaecf6",
            "def32de068044cc893f7fb273d0dce0c",
            "a331e9b9cfea4321918286ab993e14a9",
            "ccbf6c7d71fd4df0afadc1daeaa267d3",
            "5f965708d7f0491fbaa5514146b6de44",
            "76bde580a9734d3fb4224f3ab3329412",
            "148d38ff1d66477e86af18f69d0ada65",
            "5e955b87f6114693aa3afd825b69bc2e",
            "ae13cefa68494544a601c8803ba92110",
            "44840df00e0a4124820bb3f4398c7773",
            "c93ccf60f48b41ef81bfd225d550c23a",
            "e4cb3bba600846d5baff40035f7c788b",
            "26da45b392b64c0898d93324be88aa59",
            "daa719013cc842579eaa1290b9c34274",
            "ee92154712f54ffbb3e97df4b267f406",
            "11cc36e019c34ec7813f19c9e7c4284d",
            "e9e05f5fa8424269a152a206a1c1c334",
            "6030f438f4e04c3ea424069903700b14",
            "094cf3e09294487dad6778e381741fdc",
            "fb48c1897f2c4cf49f507146ad32a104",
            "95f514c826504240a3ca18a796a803e3",
            "29876d7ad4bc41539107cb4c52e95121",
            "50646123f61e4204a7ad1b426f3f91e0",
            "411e6a9c67a3452ba5d5d3aecf9209ee",
            "88bfbe69527b4bd6a1fd606c07b06b27",
            "17b2e6d5215c48fc893f29ebb4b5aef7",
            "d6c666f63bda4fdfb28518775a873e62",
            "51a97acbc8ea4dee8fdaa63d07b116c5",
            "df0a964a8c91417cad23c2e026f22d37",
            "f415ca03d47b46d9bb56336630a69cb1",
            "c8a89bb56aa04e90add6b13e9af09359",
            "02f85a6c4c57449a87887c334c86200b",
            "543d70b65dd44945957c97a2c2b51a78",
            "5436291f5e5c4e428bdf1d61face212c",
            "384aa645d9ca491089588644c84a5254",
            "dbd318cd66444630946a5e8f822230ef",
            "11e24cbb14d7419cb5712f2158176220",
            "f10be56bcd2741248640e815376ee014",
            "38dbb6b7dd8b4f5499724d5d80ffb376",
            "4eafad06816b4cb1888741145d74906e",
            "19c9d7b10337411183e03e56f160bb07",
            "de39d132a4cf4816b15c3a4bccf1d9c1",
            "bb66fb9edb87445ea5e1fe303c1de0e9",
            "1171241505924b99b453a83ab5ce1547",
            "f5a5df3629b444e78fb4d6d37288bd2f",
            "050266612c784bd6a748e236351015e3",
            "a510e241ff1846c2bc1dc3f7c029dbd0",
            "d81089a7dd5d4f32b59dc416c635ff09",
            "2ae97172a47a4848a31da9c63943182a",
            "0ef8d1d3e40440828418539f9ecc2588",
            "38f629360ce4447c86603985f8753dee",
            "8a58847346c94170b3b4f2d2abe2cf30",
            "d840e5136ae748f893785d3a052298a0",
            "5b9362c1f53b40ff94eda4b38c652523",
            "69ee56b757684dd49a5e914bfe2d86e2",
            "0ae91e5547e8405facb742cde217c4e8",
            "49367cd6e8464576bcd036ac3156d5e0",
            "28ad14d4d7db4d44b4987de5f547bce8",
            "2a037b7eb75248e68ba171f645668ab5",
            "bf286a61a37644339ff5c44532b67635",
            "4d243ede8d344334968de73ad6ecb94a",
            "3f6373820e7e447599b8a08b944be608",
            "97ef36e48e9f4747b3e1125496f45037",
            "ca3746b1dd6a4e1ca5dca24fa77361b3",
            "4e5f20f59ea24d3b8cfd30a9e57c0fbe",
            "782f6c5740f2440b84e1d565c143dc60",
            "0502242196644e82aaea2184f6a9a3b2",
            "683e8352bb8141b692b345e55c136457",
            "763a488c807f4e298c6734affb197d2d",
            "cd3d2402f5084d0c8d54c35c33e4aff1",
            "061209bb902d4d6e8675bef4009b606a",
            "07e031cd8a534727a7ca50df7811339f",
            "d6ca6f0c03d442d2a52154177f5a3eac",
            "0d8b3c9007954f47a0e4d6295b6aeed0",
            "e126ea9ca41b4b98bc941737f4c9335e",
            "7708f98c28734306836ef0cebd5313f7",
            "6a9a6c27782344379580eb1c25899617",
            "e4767aeee80443d49cc0b7a913190c78",
            "66a5938688914e8586f4feef33cec910",
            "2aa012fc47e649dd8ef5f0a18baaa48a",
            "1ab5ac1171ae4582a6a28e5b4283564e",
            "537f0c13b83e4d91a4dd1723dec7aef4",
            "b5c532dce6b042dd8df9e3a9a4c4fad2",
            "254e20b65ddb40e7afe14361bb8d8ced",
            "09eab53ba222453e8d065422342485d7",
            "67fad61d2bc1468994c858487c30c1a9",
            "c0434c08ad26488db7010466fcc84797",
            "eab9f0ca996b4fa5b0944c93136d9f87",
            "5d2d2f776f114018bab0b4ef2acf84eb",
            "9a92a00cb1da48b79ee4ad1ebb78cecf",
            "3cb6877803164ca7ba7fd0f5fe09d398",
            "050f6d3c948c41298640ea5dd5032f6f",
            "60f5e6092c7a46f18d83a1e9de17a6c7",
            "eb9cc8a90fa34d348de2021b88134cb9",
            "ee4ca991e87d4695a7103e51b9225cc5",
            "dc036cb0a8724b1ba916615354bf4c23",
            "3bb8dde553c6427bafe0294976acb19f",
            "98efadb09a7444c48a15458363e792c6",
            "646b79452e2f4256b4579508102dd4ed",
            "2eb5d3b35d4348dea9c97cea7db77376",
            "9977a76004da485b94e2c3337487e0df",
            "715ff97cbb1f4c4db863780efdca1d4a",
            "6ed8ad248e954c0cb97b94e67fe2d1a4",
            "9849380351524942af58b30e141edd1e",
            "34fb98de42434990a847c5d6f4b75f79",
            "b97a5936077d4f03b69b3a6e706bb802",
            "59b03aabb3714814bff4572d55dde446",
            "8910c4609c9a433c8364b5d372967ace",
            "2d5e4a1285324b93a5c3cb005438492d",
            "f6cc895b4d97427b85f3786bdbb238a5",
            "14de634b682146c18a575d5f9e045b6e",
            "ec789c6bd92c4acea21946059d7c72b6",
            "2d33b34ea945451b81807cda93ee6e3b",
            "40b31cafe8754eb1b32b17a579bdd4c3",
            "5eb7fd5fb49645b2a71170022f5235c1",
            "1b344d1876974973872e1866441b730d",
            "1e5aee34f4594e0bb6bf7cae4ff0aca3",
            "b19222ff3738453fb88a583d7957b8dc",
            "29b8241912354b2c814cbcc30df86644",
            "10b91b24aa1b425cb9ba040122ffae1e",
            "5c1b64268f20488e80ae7483c8cc1766",
            "33a1a379c1ac4cd0aa9f564897a4131c",
            "94d1b613e2214033b45aa8297329e7db",
            "ab61adcc38444562af0b2593931b0a23",
            "10549a411e68487bbd50d6f776fea0e2",
            "bdd21d31a94e4321b1badf5b41a95e31",
            "d8c121e2e4fe4080b8fdecc5cf139262",
            "851b4c7e0f6d4a18ad9310243ef5f696",
            "959874efe38548309587322a3a4c492d",
            "78ccc7e3af104fae836c31ac8312330c",
            "623802165dc04c7db3c0ac5bfa2e1ed8",
            "f27721052152494dac397589f5ceba9a",
            "c39f1c483aa4419386bb7194a2533649",
            "b435807791e94836bd892de2a30f9fd4",
            "1383be4590984adc94a06cdc8b0b1737",
            "3dae1ba6473b4188a90a8ada37a518ee",
            "7ca5325d3d974f0381c6dd214c6abed8",
            "dd93b77571254a409ae0dc3ae0500b77",
            "de15d5486e3c46298787bdf9892f6af5",
            "83e19203f9454886819ce12fdf966fc8",
            "1835dce2090247fcb91da35e040825eb",
            "b44ee97b4cf746cea3cf66b4627ecc9f",
            "8897b9a8afb34f7d91f9207bcc7fc099",
            "f0874b7270c640a09636216a9bc33d03",
            "2505e1ada0004cd982603aae93edc297",
            "2457bc4ac9744c4b8494c1dd7c6018f4",
            "5f773c8f7245416ea4d40f89eb4d3e82",
            "154a81ca2ab749828d5d1b4a7c969ca4",
            "c357a577b09b44d8b21a8ee090d2bcda",
            "c5e269bf33b748229247cb619f323f3a",
            "9dbcb66a07b2459e9f0c526b48966fbf",
            "6b51fd6e525f48c194e4878b5805f43b",
            "7969e1a7fd024cd3b27d2c86ed5fbc64",
            "e47e76d69401422f9231cdc89fde2788",
            "ba924db888b841c3a1a8c031c8c3c21f",
            "254790fab1854063b66001e6e52cf728",
            "b04d65497a284d37a5e45c6027303a43",
            "ed2b177b905147068d89a0134020fd2e",
            "e9f68f2f68c54d858bbb4a799a9fc3fe",
            "693da2361d434eddb8939053c26538ba",
            "5fc4a805d4cb405c84e9d13132568e92",
            "b0ff695739854ff4b2ef9d949f9cfc99",
            "831f18420e564664af44328e43aecac9",
            "1eb99eef231746ce9e7f478ee26b9884",
            "b5bcc91314a64fa99b0b21fe1642c74d",
            "8b027da1ad9b444bbd91290a2752c6ec",
            "e871155397a84b969964f454cd8da4a6",
            "933a4ec32cf44619bd9ca3ee440f76a6",
            "26eed39738a44b8eabb99d0c363de405",
            "9f14c4c40fcb47f3ba941cbb8c9b25f5",
            "9706bafb4f994456b5bfeea21e290d8e",
            "32d498d7305749a799882793ec9ad972",
            "357c030d1fac4eea9e251008cd56daa3",
            "9d81836c3a184952a4d8d1b69034accd",
            "5aab09dd927d46f281bb27908c14236f",
            "40e897e8c3194c3f93853d33f444cc69",
            "23873acd678f427eafcb88b6c941e2dd",
            "95aaa6fed18e44d6b1b3997a41be17ea",
            "539f8f9e81554246a6e338420b3df036",
            "bb5a65c32b0a41248e5daa54223533b1",
            "6710220eadb14aa88af79c466af4a1ef",
            "096adeb024544785bc4c48e054ed16d0",
            "8c61118f558e409391c7c9324571e54c",
            "0849a4c3379341e99121bc9c4bf12117",
            "3277cf76c33e47209695dab09982ec4b",
            "d61cc84cbc69462f8b8a2f271ef2f8a3",
            "b45fe96e53324c26b0fa25c17cb8e625",
            "647c3717ef8e4614b2cdafcc40885ac3",
            "a85cadd624194a3a9c49e038f2d8ed3d",
            "15a27853fcec492d89ebf86618ed8199",
            "13d88fce9b8f4798895a71a889a4f87c",
            "b72d5fecb6cd42028aeeea87a35b185f",
            "82ac46cfdf974378b844891cc62c5146",
            "0ba1b39837b84668af34c060d3cfbcc3",
            "26f12552b4744b9898a052cd8f31ba7d",
            "d1dbfac1ab1043748a6f300fd656ca34",
            "db82e481b6ec4ccab2a82efc44febc87",
            "c4d191fb4b384fb98eede107cea9c72b",
            "38792569d42a4cd884fa80341303d2cf",
            "f666135982194f5b8599fe2fffa352a8",
            "60aea02b03294ea796159ed00e5bb817",
            "988a4a4db58d4c1b92b12e994ffb3d13",
            "a839579c46304509a61df9903278f686",
            "cebc728fe87a4d60bef76da9e2e708bb",
            "fda133e6c31c4a039d48947b43b27e91",
            "f7129dbf672f40e2a3adb6ecb92fe6de",
            "a6cecc55332f48568abd152e62209bf7",
            "f6cc57586aa840e681f33d1ef173b831",
            "f4cbd2112b594ddba4e146344a4d48be",
            "7411c9f3004f468aa2279c973c935954",
            "452d03e5420244b1846f31fb4efbc0b3",
            "a1579e4fbbdf4f6699da68b6ded70b5a",
            "138e25c84e8f428fbd47fb0b9f159d08",
            "47c7651b9e9e4948aecfe9f0ce45edfd",
            "96438c3f28064ac987fae9b6b5c84831",
            "5d104aba7d7548b38aecc5b6ce5031ff",
            "27d7781e7e59435c99939e8b1d758f3b",
            "67bc0c5ad4d84018ae1c9db6745f33dd",
            "a521cb744b2d4ea08caff8971e476dbb",
            "6b53e69b757649deb0c9176ea25e590b",
            "029fa6a205cb4681a0e2db14ea37902d",
            "21344f74a7894f309b2d73aef9e88203",
            "4bcdd3a66c4b4868a1b9f05d037ca460",
            "c94061b5e0f444239ab71144d4fef5cb",
            "bbd49f4143184f828bd66e80200df7e5",
            "8dedcf5a410a4384badcff92cf463bf0",
            "db37a9647eaa4f18aa8d69af59238de8",
            "e7bde5afbf3b4e44a104094c886d59be",
            "cae1902ffa1c4fb99e7d70ec49d637ae",
            "101b37e7d1b04a759493d9900241b5ca",
            "7e6ab3e09bbf491eaee185dd2c418f79",
            "c575beeb8d284335a70cba66efb414e5",
            "510f8adcbf4d44ea9d6cd29d00f15963",
            "76afa8dd6e124f448d66ea7322aec611",
            "6682cff0e7144187a7cbbecf4bcff854",
            "a200440de13f4e0b8f9df74cdd67dc6e",
            "11ca98306ed348a1beca23197d874ecf",
            "c42f1c50ea0d4fefbf16019de9e2ebd3",
            "069081a7a797434e95aeeae3b7de8c46",
            "8e1c6c95eb0745888a7d69ec6fefc111",
            "505d047353b5409786850a0ae0c2c7e5",
            "deefb8860ec146d288712fe60bc74073",
            "ed75e7fed23f41918a1f39e20a9af778",
            "aa6891dec84b4af5809b69aab0bd6136",
            "4a04fa21f67b464db07249a2cf34fe3d",
            "ec6066cbaddc4dd1a36af0e54252600d",
            "b3fe656d3db54be681015ec0341fc2b8",
            "5551c9ecfd234d62a53bce95145b3c97",
            "37870f8d7b2741338928f2de500204b2",
            "bc5a32ba665f4bb18f01d51a943be9f7",
            "45e61730f31148268ec88d7f55a994f4",
            "3b29399531474395897283456c7a5825",
            "88b0c488dbd54a0e8493ffd5253cb481",
            "848bbf1ae6474da7841962692da06a06",
            "77aee1c5e670423384086234fb3131d3",
            "ce30494c83e64420ad1677496a4a617e",
            "4aea05e60725455d920bdaf3167427d1",
            "d28c8ef94bc94fa8bff7e4633544a5b4",
            "60beb98d372a451195f842bb8fd47507",
            "e1ff07fe3b734a118b9536272bb82a8d",
            "87a6929b2fc94089aa2f241e602f7e27",
            "663bc4f750244080a3c79cb90cfa3b8d",
            "2a84031950e1438daa8d85314ae0bcd4",
            "e321619c8c5645459415e5e39df96260",
            "a9ad96983ca44beca05dbcb067336ed6",
            "39a866084fa54925af570a472142d3c9",
            "3d25b6e7a85e48d58218de2c079e121f",
            "53a9aa17041e4d0bbb246ba2e8b1cac7",
            "0c6a4ffe570a4afcbdfae103c44b3180",
            "3e1be10bd5a04f008f74ce32860f5253",
            "a2da3d9293b84e2481ddaf2ab88fe973",
            "aec9825c1dfc40fcaf19259657fdfd7d",
            "7ce43f2575a5448a863343d3f7c85ece",
            "3efc5043f2724780902930c468ac0254",
            "71b08d42d8314ba2befd203213b3befd",
            "da8895e225884240a8d2e08ea7df9aaa",
            "7e2880f3b40d4fccb16ba78e594149de",
            "8a161426057e411faa6f24c7dea958de",
            "7078686d4390499cb49acc955aea5ba4",
            "08282fe8866c45ae92d501f80dd790ae",
            "2b5e0f28625f4adc8f447e4f8d87d110",
            "10a300205e234296a59c85aad430507f",
            "25e0f09399a945b1a6b3d479ee7b52da",
            "a7f543c7ae794af2a85a3f1a7f3f9801",
            "c3479e7e0a8246758c6e3453ae51c598",
            "261d07add1db4493bf49986702c095c4",
            "6149e83d9a1f46e7a8d771f3e90eed0e",
            "c1e6fe88f89a444691baa6d7a4147f50",
            "38bfa4c453d7422daeb545f405079aa9",
            "b2851b0ae43f418eb0ef6c0289ecb967",
            "3d9ca9c745814f67a0a5705849c5d24e",
            "a7989c05437a4aafbe8bcb040f8c2af5",
            "7a61e2a6ff76423cbf3b893bdf15057a",
            "984fbcca36b04d30bfe3d38f7058e560",
            "eef74384dde54001a499d741e24fb0d9",
            "044a3247a30d48a585437085a8c60c11",
            "12800d2ba7604dd6b17613315071df77",
            "bb978217b75e4647b20a34048cf97a46",
            "4f476a7c303a460cba0bfa7c51566bc1",
            "22021146b27f42c0a460dc21caab90a0",
            "7333cf3b6e314ffb815079a4d2111cee",
            "3d7a5921ef094adeb9490bfa0bfa44ce",
            "5496f0e71eca42da8dd7e1ec4bfc9a73",
            "80f21a1d9ffd4c84ad6a2a985c865ae2",
            "a5f1f18540884a1494cf9a237395f1ab",
            "db6de99032ed412680d2e2b2956050f8",
            "a466772f171b43bc9440caecbf27c99f",
            "614335ec946140b38035b2a7d932a24a",
            "35c447faf0c842d48fa56a82e11097ec",
            "6286667b22eb43a39a2c33fbedc14ee9",
            "c740792b14224e3fa840c8130ea520f5",
            "29c3058d5b5e4bd7b81dd128986e6634",
            "0beac101e96d46feaa501442e8b3ab59",
            "1b26cf9318724056bd20fd3ccff62e6b",
            "ab97673d29644f46aca1d2848dcf9c9e",
            "ade6c620e4b5406487ea08fd3c2167fe",
            "9b9beb18a58549caa5f436c67943804b",
            "a2172708f3ce40ec8f964ff0ba9f1307",
            "9fa6b3e446974906bce622268154497e",
            "0fc01572f7074ae988893a36eadb0903",
            "ccecca128d2b44cd8b6b58a50fe76cc0",
            "591f1faa72d04de4873a256f50912784",
            "16b61135733f48509144ab3ee9108292",
            "1e0a56a221f246d7b16554668d62aaa8",
            "fc4ed8ec67544ccbb02b95c885ba4163",
            "e593414017d640118666a6cb0d22a825",
            "4692a8f8d3e143319369ece14f42b707",
            "d67dff74c88f499ca4cd3ac8c70d50d5",
            "3ea7b914e9eb4358b7f2239563e1a295",
            "39297e0cb6f9452ba6c42bbef04a0e71",
            "27fc0529585649db80b23c4d60aa407f",
            "9c1ccef5a31c478c8a3582f5558e0bfb",
            "1fb4ca5bfa514a5d88f49c5d43145d2e",
            "4e0556bb119d43a2806557a55504d29f",
            "c7692d1ebbb0435fa6c6e2449cc81309",
            "7673356077e44cec82a58e57ab1bc4db",
            "f89e3bf4b1544a228c3e32628731244f",
            "d9aa16fea954476e95a4662f361af0ea",
            "fbf23479d1624b44a4ef384a4a6be4f7",
            "6f0d6abc7d37487ab5873c9829986222",
            "0c4889f3186848ce846c9b0d7d718f5e",
            "74debc42765745258d095662dc13160a",
            "7466121778df49aaa5ce61ede32b356f",
            "cb8e846bc019440c9138ad263d601dfd",
            "30507f2ac6a646e1a4851f7b1aaa06cd",
            "5184aac1de0e4b5386438638fcd4b63b",
            "3a55534988404f708855d78bca3d769e",
            "d933bd1405764964a5e1e0f09dbf76dc",
            "1669ddcc14184a7391e4a66f7786339b",
            "5bdcf79416f943539846765ed493a669",
            "63e5e9933bff4f318cf5938a542012d9",
            "a091250c728f4e3399c5a30a39ac2b52",
            "bff08166c17844f8816031964cf63332",
            "2269307754ee43db89cd8f73ad6b6574",
            "4a95c38c4c0c4416bee1246b5c49c057",
            "845ba72d56cc4bf59f8dcfa62a774b17",
            "05998c8552fd48a98e0ea7c82c524334",
            "638ad07c67e84097b223776527dd7b76"
          ]
        },
        "id": "3rkmdQEeE6XH",
        "outputId": "558ec374-79e7-46f5-e0fb-bde37b08265a"
      },
      "execution_count": null,
      "outputs": [
        {
          "output_type": "display_data",
          "data": {
            "text/plain": [
              "tokenizer_config.json:   0%|          | 0.00/700 [00:00<?, ?B/s]"
            ],
            "application/vnd.jupyter.widget-view+json": {
              "version_major": 2,
              "version_minor": 0,
              "model_id": "6692d422eaac4839a58cf4142889ca32"
            }
          },
          "metadata": {}
        },
        {
          "output_type": "display_data",
          "data": {
            "text/plain": [
              "tokenizer.model:   0%|          | 0.00/500k [00:00<?, ?B/s]"
            ],
            "application/vnd.jupyter.widget-view+json": {
              "version_major": 2,
              "version_minor": 0,
              "model_id": "61d2bcccd2424c8085dddd0e6bf093e8"
            }
          },
          "metadata": {}
        },
        {
          "output_type": "display_data",
          "data": {
            "text/plain": [
              "special_tokens_map.json:   0%|          | 0.00/411 [00:00<?, ?B/s]"
            ],
            "application/vnd.jupyter.widget-view+json": {
              "version_major": 2,
              "version_minor": 0,
              "model_id": "f149e735eb224288a5b1d0ec5d37dfad"
            }
          },
          "metadata": {}
        },
        {
          "output_type": "display_data",
          "data": {
            "text/plain": [
              "tokenizer.json:   0%|          | 0.00/1.84M [00:00<?, ?B/s]"
            ],
            "application/vnd.jupyter.widget-view+json": {
              "version_major": 2,
              "version_minor": 0,
              "model_id": "73a4c27ee84048ca92dabfd52de9432c"
            }
          },
          "metadata": {}
        },
        {
          "output_type": "stream",
          "name": "stderr",
          "text": [
            "You are using the default legacy behaviour of the <class 'transformers.models.llama.tokenization_llama.LlamaTokenizer'>. This is expected, and simply means that the `legacy` (previous) behavior will be used so nothing changes for you. If you want to use the new behaviour, set `legacy=False`. This should only be set if you understand what it means, and thouroughly read the reason why this was added as explained in https://github.com/huggingface/transformers/pull/24565\n"
          ]
        },
        {
          "output_type": "display_data",
          "data": {
            "text/plain": [
              "config.json:   0%|          | 0.00/428 [00:00<?, ?B/s]"
            ],
            "application/vnd.jupyter.widget-view+json": {
              "version_major": 2,
              "version_minor": 0,
              "model_id": "e56d514f67304a11a6670f9fbdf0b711"
            }
          },
          "metadata": {}
        },
        {
          "output_type": "display_data",
          "data": {
            "text/plain": [
              "pytorch_model.bin.index.json:   0%|          | 0.00/25.5k [00:00<?, ?B/s]"
            ],
            "application/vnd.jupyter.widget-view+json": {
              "version_major": 2,
              "version_minor": 0,
              "model_id": "552e165af19e4abe8a1af3c9bfe43519"
            }
          },
          "metadata": {}
        },
        {
          "output_type": "display_data",
          "data": {
            "text/plain": [
              "Downloading shards:   0%|          | 0/33 [00:00<?, ?it/s]"
            ],
            "application/vnd.jupyter.widget-view+json": {
              "version_major": 2,
              "version_minor": 0,
              "model_id": "cd54f25d1ec444759fc801ed47e9913e"
            }
          },
          "metadata": {}
        },
        {
          "output_type": "display_data",
          "data": {
            "text/plain": [
              "pytorch_model-00001-of-00033.bin:   0%|          | 0.00/405M [00:00<?, ?B/s]"
            ],
            "application/vnd.jupyter.widget-view+json": {
              "version_major": 2,
              "version_minor": 0,
              "model_id": "5cb5105cc3334f51b230f3176337edd1"
            }
          },
          "metadata": {}
        },
        {
          "output_type": "display_data",
          "data": {
            "text/plain": [
              "pytorch_model-00002-of-00033.bin:   0%|          | 0.00/405M [00:00<?, ?B/s]"
            ],
            "application/vnd.jupyter.widget-view+json": {
              "version_major": 2,
              "version_minor": 0,
              "model_id": "3cd36e9065814358ac820cb7f32773c6"
            }
          },
          "metadata": {}
        },
        {
          "output_type": "display_data",
          "data": {
            "text/plain": [
              "pytorch_model-00003-of-00033.bin:   0%|          | 0.00/405M [00:00<?, ?B/s]"
            ],
            "application/vnd.jupyter.widget-view+json": {
              "version_major": 2,
              "version_minor": 0,
              "model_id": "88f18830639c408dae07be8d51648ccb"
            }
          },
          "metadata": {}
        },
        {
          "output_type": "display_data",
          "data": {
            "text/plain": [
              "pytorch_model-00004-of-00033.bin:   0%|          | 0.00/405M [00:00<?, ?B/s]"
            ],
            "application/vnd.jupyter.widget-view+json": {
              "version_major": 2,
              "version_minor": 0,
              "model_id": "148d38ff1d66477e86af18f69d0ada65"
            }
          },
          "metadata": {}
        },
        {
          "output_type": "display_data",
          "data": {
            "text/plain": [
              "pytorch_model-00005-of-00033.bin:   0%|          | 0.00/405M [00:00<?, ?B/s]"
            ],
            "application/vnd.jupyter.widget-view+json": {
              "version_major": 2,
              "version_minor": 0,
              "model_id": "6030f438f4e04c3ea424069903700b14"
            }
          },
          "metadata": {}
        },
        {
          "output_type": "display_data",
          "data": {
            "text/plain": [
              "pytorch_model-00006-of-00033.bin:   0%|          | 0.00/405M [00:00<?, ?B/s]"
            ],
            "application/vnd.jupyter.widget-view+json": {
              "version_major": 2,
              "version_minor": 0,
              "model_id": "df0a964a8c91417cad23c2e026f22d37"
            }
          },
          "metadata": {}
        },
        {
          "output_type": "display_data",
          "data": {
            "text/plain": [
              "pytorch_model-00007-of-00033.bin:   0%|          | 0.00/405M [00:00<?, ?B/s]"
            ],
            "application/vnd.jupyter.widget-view+json": {
              "version_major": 2,
              "version_minor": 0,
              "model_id": "4eafad06816b4cb1888741145d74906e"
            }
          },
          "metadata": {}
        },
        {
          "output_type": "display_data",
          "data": {
            "text/plain": [
              "pytorch_model-00008-of-00033.bin:   0%|          | 0.00/405M [00:00<?, ?B/s]"
            ],
            "application/vnd.jupyter.widget-view+json": {
              "version_major": 2,
              "version_minor": 0,
              "model_id": "38f629360ce4447c86603985f8753dee"
            }
          },
          "metadata": {}
        },
        {
          "output_type": "display_data",
          "data": {
            "text/plain": [
              "pytorch_model-00009-of-00033.bin:   0%|          | 0.00/405M [00:00<?, ?B/s]"
            ],
            "application/vnd.jupyter.widget-view+json": {
              "version_major": 2,
              "version_minor": 0,
              "model_id": "3f6373820e7e447599b8a08b944be608"
            }
          },
          "metadata": {}
        },
        {
          "output_type": "display_data",
          "data": {
            "text/plain": [
              "pytorch_model-00010-of-00033.bin:   0%|          | 0.00/405M [00:00<?, ?B/s]"
            ],
            "application/vnd.jupyter.widget-view+json": {
              "version_major": 2,
              "version_minor": 0,
              "model_id": "d6ca6f0c03d442d2a52154177f5a3eac"
            }
          },
          "metadata": {}
        },
        {
          "output_type": "display_data",
          "data": {
            "text/plain": [
              "pytorch_model-00011-of-00033.bin:   0%|          | 0.00/405M [00:00<?, ?B/s]"
            ],
            "application/vnd.jupyter.widget-view+json": {
              "version_major": 2,
              "version_minor": 0,
              "model_id": "254e20b65ddb40e7afe14361bb8d8ced"
            }
          },
          "metadata": {}
        },
        {
          "output_type": "display_data",
          "data": {
            "text/plain": [
              "pytorch_model-00012-of-00033.bin:   0%|          | 0.00/405M [00:00<?, ?B/s]"
            ],
            "application/vnd.jupyter.widget-view+json": {
              "version_major": 2,
              "version_minor": 0,
              "model_id": "ee4ca991e87d4695a7103e51b9225cc5"
            }
          },
          "metadata": {}
        },
        {
          "output_type": "display_data",
          "data": {
            "text/plain": [
              "pytorch_model-00013-of-00033.bin:   0%|          | 0.00/405M [00:00<?, ?B/s]"
            ],
            "application/vnd.jupyter.widget-view+json": {
              "version_major": 2,
              "version_minor": 0,
              "model_id": "b97a5936077d4f03b69b3a6e706bb802"
            }
          },
          "metadata": {}
        },
        {
          "output_type": "display_data",
          "data": {
            "text/plain": [
              "pytorch_model-00014-of-00033.bin:   0%|          | 0.00/405M [00:00<?, ?B/s]"
            ],
            "application/vnd.jupyter.widget-view+json": {
              "version_major": 2,
              "version_minor": 0,
              "model_id": "1e5aee34f4594e0bb6bf7cae4ff0aca3"
            }
          },
          "metadata": {}
        },
        {
          "output_type": "display_data",
          "data": {
            "text/plain": [
              "pytorch_model-00015-of-00033.bin:   0%|          | 0.00/405M [00:00<?, ?B/s]"
            ],
            "application/vnd.jupyter.widget-view+json": {
              "version_major": 2,
              "version_minor": 0,
              "model_id": "851b4c7e0f6d4a18ad9310243ef5f696"
            }
          },
          "metadata": {}
        },
        {
          "output_type": "display_data",
          "data": {
            "text/plain": [
              "pytorch_model-00016-of-00033.bin:   0%|          | 0.00/405M [00:00<?, ?B/s]"
            ],
            "application/vnd.jupyter.widget-view+json": {
              "version_major": 2,
              "version_minor": 0,
              "model_id": "de15d5486e3c46298787bdf9892f6af5"
            }
          },
          "metadata": {}
        },
        {
          "output_type": "display_data",
          "data": {
            "text/plain": [
              "pytorch_model-00017-of-00033.bin:   0%|          | 0.00/405M [00:00<?, ?B/s]"
            ],
            "application/vnd.jupyter.widget-view+json": {
              "version_major": 2,
              "version_minor": 0,
              "model_id": "c5e269bf33b748229247cb619f323f3a"
            }
          },
          "metadata": {}
        },
        {
          "output_type": "display_data",
          "data": {
            "text/plain": [
              "pytorch_model-00018-of-00033.bin:   0%|          | 0.00/405M [00:00<?, ?B/s]"
            ],
            "application/vnd.jupyter.widget-view+json": {
              "version_major": 2,
              "version_minor": 0,
              "model_id": "5fc4a805d4cb405c84e9d13132568e92"
            }
          },
          "metadata": {}
        },
        {
          "output_type": "display_data",
          "data": {
            "text/plain": [
              "pytorch_model-00019-of-00033.bin:   0%|          | 0.00/405M [00:00<?, ?B/s]"
            ],
            "application/vnd.jupyter.widget-view+json": {
              "version_major": 2,
              "version_minor": 0,
              "model_id": "32d498d7305749a799882793ec9ad972"
            }
          },
          "metadata": {}
        },
        {
          "output_type": "display_data",
          "data": {
            "text/plain": [
              "pytorch_model-00020-of-00033.bin:   0%|          | 0.00/405M [00:00<?, ?B/s]"
            ],
            "application/vnd.jupyter.widget-view+json": {
              "version_major": 2,
              "version_minor": 0,
              "model_id": "8c61118f558e409391c7c9324571e54c"
            }
          },
          "metadata": {}
        },
        {
          "output_type": "display_data",
          "data": {
            "text/plain": [
              "pytorch_model-00021-of-00033.bin:   0%|          | 0.00/405M [00:00<?, ?B/s]"
            ],
            "application/vnd.jupyter.widget-view+json": {
              "version_major": 2,
              "version_minor": 0,
              "model_id": "0ba1b39837b84668af34c060d3cfbcc3"
            }
          },
          "metadata": {}
        },
        {
          "output_type": "display_data",
          "data": {
            "text/plain": [
              "pytorch_model-00022-of-00033.bin:   0%|          | 0.00/405M [00:00<?, ?B/s]"
            ],
            "application/vnd.jupyter.widget-view+json": {
              "version_major": 2,
              "version_minor": 0,
              "model_id": "fda133e6c31c4a039d48947b43b27e91"
            }
          },
          "metadata": {}
        },
        {
          "output_type": "display_data",
          "data": {
            "text/plain": [
              "pytorch_model-00023-of-00033.bin:   0%|          | 0.00/405M [00:00<?, ?B/s]"
            ],
            "application/vnd.jupyter.widget-view+json": {
              "version_major": 2,
              "version_minor": 0,
              "model_id": "5d104aba7d7548b38aecc5b6ce5031ff"
            }
          },
          "metadata": {}
        },
        {
          "output_type": "display_data",
          "data": {
            "text/plain": [
              "pytorch_model-00024-of-00033.bin:   0%|          | 0.00/405M [00:00<?, ?B/s]"
            ],
            "application/vnd.jupyter.widget-view+json": {
              "version_major": 2,
              "version_minor": 0,
              "model_id": "db37a9647eaa4f18aa8d69af59238de8"
            }
          },
          "metadata": {}
        },
        {
          "output_type": "display_data",
          "data": {
            "text/plain": [
              "pytorch_model-00025-of-00033.bin:   0%|          | 0.00/405M [00:00<?, ?B/s]"
            ],
            "application/vnd.jupyter.widget-view+json": {
              "version_major": 2,
              "version_minor": 0,
              "model_id": "c42f1c50ea0d4fefbf16019de9e2ebd3"
            }
          },
          "metadata": {}
        },
        {
          "output_type": "display_data",
          "data": {
            "text/plain": [
              "pytorch_model-00026-of-00033.bin:   0%|          | 0.00/405M [00:00<?, ?B/s]"
            ],
            "application/vnd.jupyter.widget-view+json": {
              "version_major": 2,
              "version_minor": 0,
              "model_id": "37870f8d7b2741338928f2de500204b2"
            }
          },
          "metadata": {}
        },
        {
          "output_type": "display_data",
          "data": {
            "text/plain": [
              "pytorch_model-00027-of-00033.bin:   0%|          | 0.00/405M [00:00<?, ?B/s]"
            ],
            "application/vnd.jupyter.widget-view+json": {
              "version_major": 2,
              "version_minor": 0,
              "model_id": "e1ff07fe3b734a118b9536272bb82a8d"
            }
          },
          "metadata": {}
        },
        {
          "output_type": "display_data",
          "data": {
            "text/plain": [
              "pytorch_model-00028-of-00033.bin:   0%|          | 0.00/405M [00:00<?, ?B/s]"
            ],
            "application/vnd.jupyter.widget-view+json": {
              "version_major": 2,
              "version_minor": 0,
              "model_id": "a2da3d9293b84e2481ddaf2ab88fe973"
            }
          },
          "metadata": {}
        },
        {
          "output_type": "display_data",
          "data": {
            "text/plain": [
              "pytorch_model-00029-of-00033.bin:   0%|          | 0.00/405M [00:00<?, ?B/s]"
            ],
            "application/vnd.jupyter.widget-view+json": {
              "version_major": 2,
              "version_minor": 0,
              "model_id": "10a300205e234296a59c85aad430507f"
            }
          },
          "metadata": {}
        },
        {
          "output_type": "display_data",
          "data": {
            "text/plain": [
              "pytorch_model-00030-of-00033.bin:   0%|          | 0.00/405M [00:00<?, ?B/s]"
            ],
            "application/vnd.jupyter.widget-view+json": {
              "version_major": 2,
              "version_minor": 0,
              "model_id": "7a61e2a6ff76423cbf3b893bdf15057a"
            }
          },
          "metadata": {}
        },
        {
          "output_type": "display_data",
          "data": {
            "text/plain": [
              "pytorch_model-00031-of-00033.bin:   0%|          | 0.00/405M [00:00<?, ?B/s]"
            ],
            "application/vnd.jupyter.widget-view+json": {
              "version_major": 2,
              "version_minor": 0,
              "model_id": "80f21a1d9ffd4c84ad6a2a985c865ae2"
            }
          },
          "metadata": {}
        },
        {
          "output_type": "display_data",
          "data": {
            "text/plain": [
              "pytorch_model-00032-of-00033.bin:   0%|          | 0.00/405M [00:00<?, ?B/s]"
            ],
            "application/vnd.jupyter.widget-view+json": {
              "version_major": 2,
              "version_minor": 0,
              "model_id": "ab97673d29644f46aca1d2848dcf9c9e"
            }
          },
          "metadata": {}
        },
        {
          "output_type": "display_data",
          "data": {
            "text/plain": [
              "pytorch_model-00033-of-00033.bin:   0%|          | 0.00/524M [00:00<?, ?B/s]"
            ],
            "application/vnd.jupyter.widget-view+json": {
              "version_major": 2,
              "version_minor": 0,
              "model_id": "e593414017d640118666a6cb0d22a825"
            }
          },
          "metadata": {}
        },
        {
          "output_type": "display_data",
          "data": {
            "text/plain": [
              "Loading checkpoint shards:   0%|          | 0/33 [00:00<?, ?it/s]"
            ],
            "application/vnd.jupyter.widget-view+json": {
              "version_major": 2,
              "version_minor": 0,
              "model_id": "f89e3bf4b1544a228c3e32628731244f"
            }
          },
          "metadata": {}
        },
        {
          "output_type": "display_data",
          "data": {
            "text/plain": [
              "generation_config.json:   0%|          | 0.00/124 [00:00<?, ?B/s]"
            ],
            "application/vnd.jupyter.widget-view+json": {
              "version_major": 2,
              "version_minor": 0,
              "model_id": "d933bd1405764964a5e1e0f09dbf76dc"
            }
          },
          "metadata": {}
        },
        {
          "output_type": "execute_result",
          "data": {
            "text/plain": [
              "PeftModelForCausalLM(\n",
              "  (base_model): LoraModel(\n",
              "    (model): LlamaForCausalLM(\n",
              "      (model): LlamaModel(\n",
              "        (embed_tokens): Embedding(32000, 4096, padding_idx=31999)\n",
              "        (layers): ModuleList(\n",
              "          (0-31): 32 x LlamaDecoderLayer(\n",
              "            (self_attn): LlamaAttention(\n",
              "              (q_proj): Linear8bitLt(\n",
              "                in_features=4096, out_features=4096, bias=False\n",
              "                (lora_dropout): Dropout(p=0.05, inplace=False)\n",
              "                (lora_A): Linear(in_features=4096, out_features=64, bias=False)\n",
              "                (lora_B): Linear(in_features=64, out_features=4096, bias=False)\n",
              "              )\n",
              "              (k_proj): Linear8bitLt(\n",
              "                in_features=4096, out_features=4096, bias=False\n",
              "                (lora_dropout): Dropout(p=0.05, inplace=False)\n",
              "                (lora_A): Linear(in_features=4096, out_features=64, bias=False)\n",
              "                (lora_B): Linear(in_features=64, out_features=4096, bias=False)\n",
              "              )\n",
              "              (v_proj): Linear8bitLt(\n",
              "                in_features=4096, out_features=4096, bias=False\n",
              "                (lora_dropout): Dropout(p=0.05, inplace=False)\n",
              "                (lora_A): Linear(in_features=4096, out_features=64, bias=False)\n",
              "                (lora_B): Linear(in_features=64, out_features=4096, bias=False)\n",
              "              )\n",
              "              (o_proj): Linear8bitLt(\n",
              "                in_features=4096, out_features=4096, bias=False\n",
              "                (lora_dropout): Dropout(p=0.05, inplace=False)\n",
              "                (lora_A): Linear(in_features=4096, out_features=64, bias=False)\n",
              "                (lora_B): Linear(in_features=64, out_features=4096, bias=False)\n",
              "              )\n",
              "              (rotary_emb): LlamaRotaryEmbedding()\n",
              "            )\n",
              "            (mlp): LlamaMLP(\n",
              "              (gate_proj): Linear8bitLt(in_features=4096, out_features=11008, bias=False)\n",
              "              (up_proj): Linear8bitLt(in_features=4096, out_features=11008, bias=False)\n",
              "              (down_proj): Linear8bitLt(in_features=11008, out_features=4096, bias=False)\n",
              "              (act_fn): SiLUActivation()\n",
              "            )\n",
              "            (input_layernorm): LlamaRMSNorm()\n",
              "            (post_attention_layernorm): LlamaRMSNorm()\n",
              "          )\n",
              "        )\n",
              "        (norm): LlamaRMSNorm()\n",
              "      )\n",
              "      (lm_head): Linear(in_features=4096, out_features=32000, bias=False)\n",
              "    )\n",
              "  )\n",
              ")"
            ]
          },
          "metadata": {},
          "execution_count": 12
        }
      ]
    },
    {
      "cell_type": "markdown",
      "source": [
        "# Test_data"
      ],
      "metadata": {
        "id": "k9z5h0LwHb1d"
      }
    },
    {
      "cell_type": "code",
      "source": [
        "!pip install -q datasets"
      ],
      "metadata": {
        "colab": {
          "base_uri": "https://localhost:8080/"
        },
        "id": "K6bUOvtWI8sO",
        "outputId": "e4217a18-44f6-4240-e71a-2b2e47058c0b"
      },
      "execution_count": null,
      "outputs": [
        {
          "output_type": "execute_result",
          "data": {
            "text/plain": [
              "[]"
            ]
          },
          "metadata": {},
          "execution_count": 14
        }
      ]
    },
    {
      "cell_type": "code",
      "source": [
        "def tokenize(prompt, add_eos_token=True):\n",
        "    result = tokenizer(\n",
        "        prompt,\n",
        "        truncation=True,\n",
        "        max_length=cutoff_len,\n",
        "        padding=False,\n",
        "        return_tensors=None,\n",
        "    )\n",
        "    if (\n",
        "        result[\"input_ids\"][-1] != tokenizer.eos_token_id\n",
        "        and len(result[\"input_ids\"]) < cutoff_len\n",
        "        and add_eos_token\n",
        "    ):\n",
        "        result[\"input_ids\"].append(tokenizer.eos_token_id)\n",
        "        result[\"attention_mask\"].append(1)\n",
        "\n",
        "    result[\"labels\"] = result[\"input_ids\"].copy()\n",
        "\n",
        "    return result\n",
        "\n",
        "def generate_and_tokenize_prompt(data_point):\n",
        "    full_prompt = prompter.generate_prompt(\n",
        "        data_point[\"instruction\"],\n",
        "        data_point[\"output\"],\n",
        "    )\n",
        "    tokenized_full_prompt = tokenize(full_prompt)\n",
        "    user_prompt = prompter.generate_prompt(\n",
        "            data_point[\"instruction\"]\n",
        "        )\n",
        "    tokenized_user_prompt = tokenize(user_prompt, add_eos_token=False)\n",
        "    user_prompt_len = len(tokenized_user_prompt[\"input_ids\"])\n",
        "\n",
        "    tokenized_full_prompt[\"labels\"] = [\n",
        "        -100\n",
        "    ] * user_prompt_len + tokenized_full_prompt[\"labels\"][\n",
        "        user_prompt_len:\n",
        "    ]  # could be sped up, probably\n",
        "    return tokenized_full_prompt"
      ],
      "metadata": {
        "id": "6wizgHKj2SPF"
      },
      "execution_count": null,
      "outputs": []
    },
    {
      "cell_type": "code",
      "source": [
        "from datasets import load_dataset\n",
        "\n",
        "cutoff_len=512\n",
        "\n",
        "data = load_dataset(\"json\", data_files=data_path)\n",
        "train_val = data[\"train\"].train_test_split(test_size=0.00035, shuffle=True, seed=42)\n",
        "\n",
        "test_data = (train_val[\"test\"].shuffle().map(generate_and_tokenize_prompt))"
      ],
      "metadata": {
        "id": "0OPBwCvq2f-F",
        "colab": {
          "base_uri": "https://localhost:8080/",
          "height": 49,
          "referenced_widgets": [
            "44541d7f86b9439eba49c84a234273ed",
            "408f9ec180254b85b695d356ca474030",
            "f1913f56e5674751a2c825d9ab73972d",
            "8fbeffa9cbec41c4bea850f9877e41a0",
            "d0fc9e2593cb41a680b92ee84982f131",
            "31031d44570b49a2bafb16076302fd8e",
            "2f71492a2ce841579e27cb4a5beea633",
            "32a951581a724567b70da4ac0ac5b40b",
            "61175df6465d4181838179677e74337c",
            "9748fb34db724e68a48cc63dcb74a805",
            "3b3ad3abf6e74dad9b77331f4d6c3105"
          ]
        },
        "outputId": "12bb9247-c958-438f-d7ed-85203afe4bd5"
      },
      "execution_count": null,
      "outputs": [
        {
          "output_type": "display_data",
          "data": {
            "text/plain": [
              "Map:   0%|          | 0/108 [00:00<?, ? examples/s]"
            ],
            "application/vnd.jupyter.widget-view+json": {
              "version_major": 2,
              "version_minor": 0,
              "model_id": "44541d7f86b9439eba49c84a234273ed"
            }
          },
          "metadata": {}
        }
      ]
    },
    {
      "cell_type": "code",
      "source": [
        "test_data"
      ],
      "metadata": {
        "colab": {
          "base_uri": "https://localhost:8080/"
        },
        "id": "gU70Nu4XKLIT",
        "outputId": "028f9b76-42b9-421b-8a0f-66de78ebfef5"
      },
      "execution_count": null,
      "outputs": [
        {
          "output_type": "execute_result",
          "data": {
            "text/plain": [
              "Dataset({\n",
              "    features: ['instruction', 'answer', 'input', 'output', 'input_ids', 'attention_mask', 'labels'],\n",
              "    num_rows: 108\n",
              "})"
            ]
          },
          "metadata": {},
          "execution_count": 22
        }
      ]
    },
    {
      "cell_type": "code",
      "source": [
        "#del(texts_together)"
      ],
      "metadata": {
        "id": "cknvsys1Qxl_"
      },
      "execution_count": null,
      "outputs": []
    },
    {
      "cell_type": "markdown",
      "source": [
        "#Evaluate model"
      ],
      "metadata": {
        "id": "mJDYyvYAHKZn"
      }
    },
    {
      "cell_type": "code",
      "source": [
        "!pip install evaluate -q"
      ],
      "metadata": {
        "colab": {
          "base_uri": "https://localhost:8080/"
        },
        "id": "O-Vh69pVLEsB",
        "outputId": "84e546fc-7541-43a3-801a-fecbd00f85c6"
      },
      "execution_count": null,
      "outputs": [
        {
          "output_type": "stream",
          "name": "stdout",
          "text": [
            "\u001b[?25l     \u001b[90m━━━━━━━━━━━━━━━━━━━━━━━━━━━━━━━━━━━━━━━━\u001b[0m \u001b[32m0.0/84.1 kB\u001b[0m \u001b[31m?\u001b[0m eta \u001b[36m-:--:--\u001b[0m\r\u001b[2K     \u001b[91m━━━━━━━━━━━━━━\u001b[0m\u001b[91m╸\u001b[0m\u001b[90m━━━━━━━━━━━━━━━━━━━━━━━━━\u001b[0m \u001b[32m30.7/84.1 kB\u001b[0m \u001b[31m1.3 MB/s\u001b[0m eta \u001b[36m0:00:01\u001b[0m\r\u001b[2K     \u001b[90m━━━━━━━━━━━━━━━━━━━━━━━━━━━━━━━━━━━━━━━━\u001b[0m \u001b[32m84.1/84.1 kB\u001b[0m \u001b[31m1.6 MB/s\u001b[0m eta \u001b[36m0:00:00\u001b[0m\n",
            "\u001b[?25h"
          ]
        }
      ]
    },
    {
      "cell_type": "code",
      "execution_count": null,
      "metadata": {
        "cellId": "z05zr7m2033e4xvdd5qsw",
        "id": "d36709fd",
        "outputId": "8b6f1e64-4e84-45c2-b073-3b0f1d682bdf",
        "colab": {
          "referenced_widgets": [
            "2dbf4905781c4a9bb59bd1df5ee4b3bf",
            "9fdf9d2885f149d79258d9e41360bfe9",
            "02a2076515a24140806ee0116e3cb346",
            "13d64794e62d4d8f9fab4b13d535d43d",
            "cfc2bc0b63824156b79167a4532badd8",
            "78eb676097be4f54bd821c0937fcf1b2",
            "296fef92225a4fcabd056d546b3be777",
            "818677d31014469e8cdb0588a2796d6c",
            "8ec8279ab76e40b2ab6aaf6435e5679e",
            "a58420f4a11a48e99877d9f7509dee85",
            "675c2ec079e54b72973751798e9e5a27"
          ],
          "base_uri": "https://localhost:8080/",
          "height": 49
        }
      },
      "outputs": [
        {
          "output_type": "display_data",
          "data": {
            "text/plain": [
              "Downloading builder script:   0%|          | 0.00/5.67k [00:00<?, ?B/s]"
            ],
            "application/vnd.jupyter.widget-view+json": {
              "version_major": 2,
              "version_minor": 0,
              "model_id": "2dbf4905781c4a9bb59bd1df5ee4b3bf"
            }
          },
          "metadata": {}
        }
      ],
      "source": [
        "import evaluate\n",
        "metric = evaluate.load(\"exact_match\")"
      ]
    },
    {
      "cell_type": "code",
      "execution_count": null,
      "metadata": {
        "cellId": "kir6vtns1eqkp48fq9mc3k",
        "id": "09428e7d"
      },
      "outputs": [],
      "source": [
        "def evaluation(\n",
        "    text,\n",
        "    temperature=0.1,\n",
        "    do_sample = True,\n",
        "    top_p=0.75,\n",
        "    top_k=40,\n",
        "    num_beams=2,\n",
        "    max_new_tokens=512,\n",
        "    stream_output=True,\n",
        "    **kwargs,\n",
        "):\n",
        "    prompt = prompter.generate_prompt(text)\n",
        "    inputs = tokenizer(prompt, return_tensors=\"pt\")\n",
        "    input_ids = inputs[\"input_ids\"].to(DEVICE)\n",
        "\n",
        "    generation_config = GenerationConfig(\n",
        "        temperature=temperature,\n",
        "        top_p=top_p,\n",
        "        top_k=top_k,\n",
        "        num_beams=num_beams,\n",
        "        **kwargs,\n",
        "    )\n",
        "\n",
        "    generate_params = {\n",
        "        \"input_ids\": input_ids,\n",
        "        \"generation_config\": generation_config,\n",
        "        \"return_dict_in_generate\": True,\n",
        "        \"output_scores\": True,\n",
        "        \"max_new_tokens\": max_new_tokens,\n",
        "    }\n",
        "\n",
        "    # Without streaming\n",
        "    with torch.no_grad():\n",
        "        generation_output = model.generate(\n",
        "            input_ids=input_ids,\n",
        "            generation_config=generation_config,\n",
        "            return_dict_in_generate=True,\n",
        "            output_scores=True,\n",
        "            max_new_tokens=max_new_tokens,\n",
        "        )\n",
        "    s = generation_output.sequences[0]\n",
        "    output = tokenizer.decode(s, skip_special_tokens=True).strip()\n",
        "\n",
        "    return prompter.get_response(output)"
      ]
    },
    {
      "cell_type": "code",
      "source": [
        "from tqdm import tqdm_notebook\n",
        "answers = []\n",
        "for i in tqdm_notebook(test_data):\n",
        "    answers.append(evaluation(i['instruction']))"
      ],
      "metadata": {
        "colab": {
          "base_uri": "https://localhost:8080/",
          "height": 49,
          "referenced_widgets": [
            "034afd2f213b42088bae036bb8d1a3b8",
            "8875fe51d6c1417daec6fa54429217d2",
            "5f3465cf86824d1db42b5dd0668241b7",
            "17b46f2f69d24d12abbeea9798dd1fb6",
            "d8d66e2bb281406fab5945f95a356b46",
            "6b30f67a22834493a5898e907f916fe7",
            "e4d1aab7a1d74a2daf892237eca93a68",
            "a032469d7c4545968f017460dc5da6b7",
            "3e09984921e14b7290f59be124ca93cc",
            "6483b7ec38da440881ddf6a9ec6b381f",
            "45f838b7f1a2404496a74030a4f9a20e"
          ]
        },
        "id": "9tJuthwIKbhW",
        "outputId": "686457ab-c990-4dc4-df17-ebd5f7a2584a"
      },
      "execution_count": null,
      "outputs": [
        {
          "output_type": "display_data",
          "data": {
            "text/plain": [
              "  0%|          | 0/108 [00:00<?, ?it/s]"
            ],
            "application/vnd.jupyter.widget-view+json": {
              "version_major": 2,
              "version_minor": 0,
              "model_id": "034afd2f213b42088bae036bb8d1a3b8"
            }
          },
          "metadata": {}
        }
      ]
    },
    {
      "cell_type": "code",
      "source": [
        "texts_together = []\n",
        "count = 0\n",
        "for i in test_data['output']:\n",
        "  for j in answers:\n",
        "    # if correct answer\n",
        "    if test_data['output'].index(i) == answers.index(j):\n",
        "        #j = j.replace('×', '*').replace('÷', '/') # only sum test\n",
        "        if metric.compute(predictions=[j], references=[i])['exact_match'] == 1.0:\n",
        "            count += 1\n",
        "        texts_together.append((i,j,metric.compute(predictions=[j], references=[i]) ))\n",
        "\n",
        "display(f'Total % of correct answers: {count/len(texts_together)}')\n",
        "display('=======================')\n",
        "for i in texts_together:\n",
        "    display(i)\n",
        "    display('===========================')"
      ],
      "metadata": {
        "colab": {
          "base_uri": "https://localhost:8080/",
          "height": 1000
        },
        "id": "LKWNaRb4KpDO",
        "outputId": "f4c469e4-afe4-4995-b730-002ae820094d"
      },
      "execution_count": null,
      "outputs": [
        {
          "output_type": "display_data",
          "data": {
            "text/plain": [
              "'Total % of correct answers: 0.9629629629629629'"
            ],
            "application/vnd.google.colaboratory.intrinsic+json": {
              "type": "string"
            }
          },
          "metadata": {}
        },
        {
          "output_type": "display_data",
          "data": {
            "text/plain": [
              "'======================='"
            ],
            "application/vnd.google.colaboratory.intrinsic+json": {
              "type": "string"
            }
          },
          "metadata": {}
        },
        {
          "output_type": "display_data",
          "data": {
            "text/plain": [
              "('830095294 + 52710981723901 = 52711811819195',\n",
              " '830095294 + 52710981723901 = 52711811819195',\n",
              " {'exact_match': 1.0})"
            ]
          },
          "metadata": {}
        },
        {
          "output_type": "display_data",
          "data": {
            "text/plain": [
              "'==========================='"
            ],
            "application/vnd.google.colaboratory.intrinsic+json": {
              "type": "string"
            }
          },
          "metadata": {}
        },
        {
          "output_type": "display_data",
          "data": {
            "text/plain": [
              "('715 + 696 = 1411', '715 + 696 = 1411', {'exact_match': 1.0})"
            ]
          },
          "metadata": {}
        },
        {
          "output_type": "display_data",
          "data": {
            "text/plain": [
              "'==========================='"
            ],
            "application/vnd.google.colaboratory.intrinsic+json": {
              "type": "string"
            }
          },
          "metadata": {}
        },
        {
          "output_type": "display_data",
          "data": {
            "text/plain": [
              "('118808216812 + 521042 = 118808737854',\n",
              " '118808216812 + 521042 = 118808737854',\n",
              " {'exact_match': 1.0})"
            ]
          },
          "metadata": {}
        },
        {
          "output_type": "display_data",
          "data": {
            "text/plain": [
              "'==========================='"
            ],
            "application/vnd.google.colaboratory.intrinsic+json": {
              "type": "string"
            }
          },
          "metadata": {}
        },
        {
          "output_type": "display_data",
          "data": {
            "text/plain": [
              "('464408327 + 806560785 = 1270969112',\n",
              " '464408327 + 806560785 = 1270969112',\n",
              " {'exact_match': 1.0})"
            ]
          },
          "metadata": {}
        },
        {
          "output_type": "display_data",
          "data": {
            "text/plain": [
              "'==========================='"
            ],
            "application/vnd.google.colaboratory.intrinsic+json": {
              "type": "string"
            }
          },
          "metadata": {}
        },
        {
          "output_type": "display_data",
          "data": {
            "text/plain": [
              "('25270 + 93282194286337 = 93282194311607',\n",
              " '25270 + 93282194286337 = 93282194311607',\n",
              " {'exact_match': 1.0})"
            ]
          },
          "metadata": {}
        },
        {
          "output_type": "display_data",
          "data": {
            "text/plain": [
              "'==========================='"
            ],
            "application/vnd.google.colaboratory.intrinsic+json": {
              "type": "string"
            }
          },
          "metadata": {}
        },
        {
          "output_type": "display_data",
          "data": {
            "text/plain": [
              "('934131636 + 606733589 = 1540865225',\n",
              " '934131636 + 606733589 = 1540865225',\n",
              " {'exact_match': 1.0})"
            ]
          },
          "metadata": {}
        },
        {
          "output_type": "display_data",
          "data": {
            "text/plain": [
              "'==========================='"
            ],
            "application/vnd.google.colaboratory.intrinsic+json": {
              "type": "string"
            }
          },
          "metadata": {}
        },
        {
          "output_type": "display_data",
          "data": {
            "text/plain": [
              "('88 + 5 = 93', '88 + 5 = 93', {'exact_match': 1.0})"
            ]
          },
          "metadata": {}
        },
        {
          "output_type": "display_data",
          "data": {
            "text/plain": [
              "'==========================='"
            ],
            "application/vnd.google.colaboratory.intrinsic+json": {
              "type": "string"
            }
          },
          "metadata": {}
        },
        {
          "output_type": "display_data",
          "data": {
            "text/plain": [
              "('89 + 6929893118 = 6929893207',\n",
              " '89 + 6929893118 = 6929893207',\n",
              " {'exact_match': 1.0})"
            ]
          },
          "metadata": {}
        },
        {
          "output_type": "display_data",
          "data": {
            "text/plain": [
              "'==========================='"
            ],
            "application/vnd.google.colaboratory.intrinsic+json": {
              "type": "string"
            }
          },
          "metadata": {}
        },
        {
          "output_type": "display_data",
          "data": {
            "text/plain": [
              "('61647 + 198851199561 = 198851261208',\n",
              " '61647 + 198851199561 = 198851261208',\n",
              " {'exact_match': 1.0})"
            ]
          },
          "metadata": {}
        },
        {
          "output_type": "display_data",
          "data": {
            "text/plain": [
              "'==========================='"
            ],
            "application/vnd.google.colaboratory.intrinsic+json": {
              "type": "string"
            }
          },
          "metadata": {}
        },
        {
          "output_type": "display_data",
          "data": {
            "text/plain": [
              "('88409 + 900754370155828 = 900754370244237',\n",
              " '88409 + 900754370155828 = 900754370244237',\n",
              " {'exact_match': 1.0})"
            ]
          },
          "metadata": {}
        },
        {
          "output_type": "display_data",
          "data": {
            "text/plain": [
              "'==========================='"
            ],
            "application/vnd.google.colaboratory.intrinsic+json": {
              "type": "string"
            }
          },
          "metadata": {}
        },
        {
          "output_type": "display_data",
          "data": {
            "text/plain": [
              "('9052642 + 810907393756 = 810916446398',\n",
              " '9052642 + 810907393756 = 810916446398',\n",
              " {'exact_match': 1.0})"
            ]
          },
          "metadata": {}
        },
        {
          "output_type": "display_data",
          "data": {
            "text/plain": [
              "'==========================='"
            ],
            "application/vnd.google.colaboratory.intrinsic+json": {
              "type": "string"
            }
          },
          "metadata": {}
        },
        {
          "output_type": "display_data",
          "data": {
            "text/plain": [
              "('8973725838129 + 8018 = 8973725846147',\n",
              " '8973725838129 + 8018 = 8973725846147',\n",
              " {'exact_match': 1.0})"
            ]
          },
          "metadata": {}
        },
        {
          "output_type": "display_data",
          "data": {
            "text/plain": [
              "'==========================='"
            ],
            "application/vnd.google.colaboratory.intrinsic+json": {
              "type": "string"
            }
          },
          "metadata": {}
        },
        {
          "output_type": "display_data",
          "data": {
            "text/plain": [
              "('12315179 + 97991439339 = 98003754518',\n",
              " '12315179 + 97991439339 = 98003754518',\n",
              " {'exact_match': 1.0})"
            ]
          },
          "metadata": {}
        },
        {
          "output_type": "display_data",
          "data": {
            "text/plain": [
              "'==========================='"
            ],
            "application/vnd.google.colaboratory.intrinsic+json": {
              "type": "string"
            }
          },
          "metadata": {}
        },
        {
          "output_type": "display_data",
          "data": {
            "text/plain": [
              "('53527614 + 14010 = 53541624',\n",
              " '53527614 + 14010 = 53541624',\n",
              " {'exact_match': 1.0})"
            ]
          },
          "metadata": {}
        },
        {
          "output_type": "display_data",
          "data": {
            "text/plain": [
              "'==========================='"
            ],
            "application/vnd.google.colaboratory.intrinsic+json": {
              "type": "string"
            }
          },
          "metadata": {}
        },
        {
          "output_type": "display_data",
          "data": {
            "text/plain": [
              "('282123682 + 9715659325484 = 9715941449166',\n",
              " '282123682 + 9715659325484 = 9715941449166',\n",
              " {'exact_match': 1.0})"
            ]
          },
          "metadata": {}
        },
        {
          "output_type": "display_data",
          "data": {
            "text/plain": [
              "'==========================='"
            ],
            "application/vnd.google.colaboratory.intrinsic+json": {
              "type": "string"
            }
          },
          "metadata": {}
        },
        {
          "output_type": "display_data",
          "data": {
            "text/plain": [
              "('800179 + 861420078 = 862220257',\n",
              " '800179 + 861420078 = 862220257',\n",
              " {'exact_match': 1.0})"
            ]
          },
          "metadata": {}
        },
        {
          "output_type": "display_data",
          "data": {
            "text/plain": [
              "'==========================='"
            ],
            "application/vnd.google.colaboratory.intrinsic+json": {
              "type": "string"
            }
          },
          "metadata": {}
        },
        {
          "output_type": "display_data",
          "data": {
            "text/plain": [
              "('173069 + 249146667530 = 249146840599',\n",
              " '173069 + 249146667530 = 249146840599',\n",
              " {'exact_match': 1.0})"
            ]
          },
          "metadata": {}
        },
        {
          "output_type": "display_data",
          "data": {
            "text/plain": [
              "'==========================='"
            ],
            "application/vnd.google.colaboratory.intrinsic+json": {
              "type": "string"
            }
          },
          "metadata": {}
        },
        {
          "output_type": "display_data",
          "data": {
            "text/plain": [
              "('930235715 + 208443890 = 1138679605',\n",
              " '930235715 + 208443890 = 1138679605',\n",
              " {'exact_match': 1.0})"
            ]
          },
          "metadata": {}
        },
        {
          "output_type": "display_data",
          "data": {
            "text/plain": [
              "'==========================='"
            ],
            "application/vnd.google.colaboratory.intrinsic+json": {
              "type": "string"
            }
          },
          "metadata": {}
        },
        {
          "output_type": "display_data",
          "data": {
            "text/plain": [
              "('5655 + 483430 = 489085', '5655 + 483430 = 489085', {'exact_match': 1.0})"
            ]
          },
          "metadata": {}
        },
        {
          "output_type": "display_data",
          "data": {
            "text/plain": [
              "'==========================='"
            ],
            "application/vnd.google.colaboratory.intrinsic+json": {
              "type": "string"
            }
          },
          "metadata": {}
        },
        {
          "output_type": "display_data",
          "data": {
            "text/plain": [
              "('692070 + 40784333383 = 40785025453',\n",
              " '692070 + 40784333383 = 40785025453',\n",
              " {'exact_match': 1.0})"
            ]
          },
          "metadata": {}
        },
        {
          "output_type": "display_data",
          "data": {
            "text/plain": [
              "'==========================='"
            ],
            "application/vnd.google.colaboratory.intrinsic+json": {
              "type": "string"
            }
          },
          "metadata": {}
        },
        {
          "output_type": "display_data",
          "data": {
            "text/plain": [
              "('6 + 7 = 13', '6 + 7 = 13', {'exact_match': 1.0})"
            ]
          },
          "metadata": {}
        },
        {
          "output_type": "display_data",
          "data": {
            "text/plain": [
              "'==========================='"
            ],
            "application/vnd.google.colaboratory.intrinsic+json": {
              "type": "string"
            }
          },
          "metadata": {}
        },
        {
          "output_type": "display_data",
          "data": {
            "text/plain": [
              "('377285536 + 75147795860748 = 75148173146284',\n",
              " '377285536 + 75147795860748 = 75148173146284',\n",
              " {'exact_match': 1.0})"
            ]
          },
          "metadata": {}
        },
        {
          "output_type": "display_data",
          "data": {
            "text/plain": [
              "'==========================='"
            ],
            "application/vnd.google.colaboratory.intrinsic+json": {
              "type": "string"
            }
          },
          "metadata": {}
        },
        {
          "output_type": "display_data",
          "data": {
            "text/plain": [
              "('3183093037 + 45 = 3183093082',\n",
              " '3183093037 + 45 = 3183093082',\n",
              " {'exact_match': 1.0})"
            ]
          },
          "metadata": {}
        },
        {
          "output_type": "display_data",
          "data": {
            "text/plain": [
              "'==========================='"
            ],
            "application/vnd.google.colaboratory.intrinsic+json": {
              "type": "string"
            }
          },
          "metadata": {}
        },
        {
          "output_type": "display_data",
          "data": {
            "text/plain": [
              "('56993 + 562514853 = 562571846',\n",
              " '56993 + 562514853 = 562571846',\n",
              " {'exact_match': 1.0})"
            ]
          },
          "metadata": {}
        },
        {
          "output_type": "display_data",
          "data": {
            "text/plain": [
              "'==========================='"
            ],
            "application/vnd.google.colaboratory.intrinsic+json": {
              "type": "string"
            }
          },
          "metadata": {}
        },
        {
          "output_type": "display_data",
          "data": {
            "text/plain": [
              "('67204740666 + 3178881 = 67207919547',\n",
              " '67204740666 + 3178881 = 67207919547',\n",
              " {'exact_match': 1.0})"
            ]
          },
          "metadata": {}
        },
        {
          "output_type": "display_data",
          "data": {
            "text/plain": [
              "'==========================='"
            ],
            "application/vnd.google.colaboratory.intrinsic+json": {
              "type": "string"
            }
          },
          "metadata": {}
        },
        {
          "output_type": "display_data",
          "data": {
            "text/plain": [
              "('3633853 + 26 = 3633879', '3633853 + 26 = 3633879', {'exact_match': 1.0})"
            ]
          },
          "metadata": {}
        },
        {
          "output_type": "display_data",
          "data": {
            "text/plain": [
              "'==========================='"
            ],
            "application/vnd.google.colaboratory.intrinsic+json": {
              "type": "string"
            }
          },
          "metadata": {}
        },
        {
          "output_type": "display_data",
          "data": {
            "text/plain": [
              "('284049957212 + 2213215 = 284052170427',\n",
              " '284049957212 + 2213215 = 284052170427',\n",
              " {'exact_match': 1.0})"
            ]
          },
          "metadata": {}
        },
        {
          "output_type": "display_data",
          "data": {
            "text/plain": [
              "'==========================='"
            ],
            "application/vnd.google.colaboratory.intrinsic+json": {
              "type": "string"
            }
          },
          "metadata": {}
        },
        {
          "output_type": "display_data",
          "data": {
            "text/plain": [
              "('92965957627214 + 502303 = 92965958129517',\n",
              " '92965957627214 + 502303 = 92965958129517',\n",
              " {'exact_match': 1.0})"
            ]
          },
          "metadata": {}
        },
        {
          "output_type": "display_data",
          "data": {
            "text/plain": [
              "'==========================='"
            ],
            "application/vnd.google.colaboratory.intrinsic+json": {
              "type": "string"
            }
          },
          "metadata": {}
        },
        {
          "output_type": "display_data",
          "data": {
            "text/plain": [
              "('35814115 + 84110636 = 119924751',\n",
              " '35814115 + 84110636 = 119924751',\n",
              " {'exact_match': 1.0})"
            ]
          },
          "metadata": {}
        },
        {
          "output_type": "display_data",
          "data": {
            "text/plain": [
              "'==========================='"
            ],
            "application/vnd.google.colaboratory.intrinsic+json": {
              "type": "string"
            }
          },
          "metadata": {}
        },
        {
          "output_type": "display_data",
          "data": {
            "text/plain": [
              "('3179 + 432158661218 = 432158664397',\n",
              " '3179 + 432158661218 = 432158664397',\n",
              " {'exact_match': 1.0})"
            ]
          },
          "metadata": {}
        },
        {
          "output_type": "display_data",
          "data": {
            "text/plain": [
              "'==========================='"
            ],
            "application/vnd.google.colaboratory.intrinsic+json": {
              "type": "string"
            }
          },
          "metadata": {}
        },
        {
          "output_type": "display_data",
          "data": {
            "text/plain": [
              "('407838734 + 979861181404577 = 979861589243311',\n",
              " '407838734 + 979861181404577 = 979861589243311',\n",
              " {'exact_match': 1.0})"
            ]
          },
          "metadata": {}
        },
        {
          "output_type": "display_data",
          "data": {
            "text/plain": [
              "'==========================='"
            ],
            "application/vnd.google.colaboratory.intrinsic+json": {
              "type": "string"
            }
          },
          "metadata": {}
        },
        {
          "output_type": "display_data",
          "data": {
            "text/plain": [
              "('237950670 + 773 = 237951443',\n",
              " '237950670 + 773 = 237951443',\n",
              " {'exact_match': 1.0})"
            ]
          },
          "metadata": {}
        },
        {
          "output_type": "display_data",
          "data": {
            "text/plain": [
              "'==========================='"
            ],
            "application/vnd.google.colaboratory.intrinsic+json": {
              "type": "string"
            }
          },
          "metadata": {}
        },
        {
          "output_type": "display_data",
          "data": {
            "text/plain": [
              "('4170308194159 + 212275 = 4170308406434',\n",
              " '4170308194159 + 212275 = 4170308406434',\n",
              " {'exact_match': 1.0})"
            ]
          },
          "metadata": {}
        },
        {
          "output_type": "display_data",
          "data": {
            "text/plain": [
              "'==========================='"
            ],
            "application/vnd.google.colaboratory.intrinsic+json": {
              "type": "string"
            }
          },
          "metadata": {}
        },
        {
          "output_type": "display_data",
          "data": {
            "text/plain": [
              "('737150 + 2393 = 739543', '737150 + 2393 = 739543', {'exact_match': 1.0})"
            ]
          },
          "metadata": {}
        },
        {
          "output_type": "display_data",
          "data": {
            "text/plain": [
              "'==========================='"
            ],
            "application/vnd.google.colaboratory.intrinsic+json": {
              "type": "string"
            }
          },
          "metadata": {}
        },
        {
          "output_type": "display_data",
          "data": {
            "text/plain": [
              "('3 + 19056461 = 19056464', '3 + 19056461 = 19056464', {'exact_match': 1.0})"
            ]
          },
          "metadata": {}
        },
        {
          "output_type": "display_data",
          "data": {
            "text/plain": [
              "'==========================='"
            ],
            "application/vnd.google.colaboratory.intrinsic+json": {
              "type": "string"
            }
          },
          "metadata": {}
        },
        {
          "output_type": "display_data",
          "data": {
            "text/plain": [
              "('9 + 31892484085211 = 31892484085220',\n",
              " '9 + 31892484085211 = 31892484085220',\n",
              " {'exact_match': 1.0})"
            ]
          },
          "metadata": {}
        },
        {
          "output_type": "display_data",
          "data": {
            "text/plain": [
              "'==========================='"
            ],
            "application/vnd.google.colaboratory.intrinsic+json": {
              "type": "string"
            }
          },
          "metadata": {}
        },
        {
          "output_type": "display_data",
          "data": {
            "text/plain": [
              "('68 + 8700813 = 8700881', '68 + 8700813 = 8700881', {'exact_match': 1.0})"
            ]
          },
          "metadata": {}
        },
        {
          "output_type": "display_data",
          "data": {
            "text/plain": [
              "'==========================='"
            ],
            "application/vnd.google.colaboratory.intrinsic+json": {
              "type": "string"
            }
          },
          "metadata": {}
        },
        {
          "output_type": "display_data",
          "data": {
            "text/plain": [
              "('35567335727 + 960103 = 35568295830',\n",
              " '35567335727 + 960103 = 35568295830',\n",
              " {'exact_match': 1.0})"
            ]
          },
          "metadata": {}
        },
        {
          "output_type": "display_data",
          "data": {
            "text/plain": [
              "'==========================='"
            ],
            "application/vnd.google.colaboratory.intrinsic+json": {
              "type": "string"
            }
          },
          "metadata": {}
        },
        {
          "output_type": "display_data",
          "data": {
            "text/plain": [
              "('3527934 + 9159373 = 12687307',\n",
              " '3527934 + 9159373 = 12687307',\n",
              " {'exact_match': 1.0})"
            ]
          },
          "metadata": {}
        },
        {
          "output_type": "display_data",
          "data": {
            "text/plain": [
              "'==========================='"
            ],
            "application/vnd.google.colaboratory.intrinsic+json": {
              "type": "string"
            }
          },
          "metadata": {}
        },
        {
          "output_type": "display_data",
          "data": {
            "text/plain": [
              "('722598240 + 87468237379738 = 87468959977978',\n",
              " '722598240 + 87468237379738 = 87468959977978',\n",
              " {'exact_match': 1.0})"
            ]
          },
          "metadata": {}
        },
        {
          "output_type": "display_data",
          "data": {
            "text/plain": [
              "'==========================='"
            ],
            "application/vnd.google.colaboratory.intrinsic+json": {
              "type": "string"
            }
          },
          "metadata": {}
        },
        {
          "output_type": "display_data",
          "data": {
            "text/plain": [
              "('75499248226 + 95786824 = 75595035050',\n",
              " '75499248226 + 95786824 = 75595035050',\n",
              " {'exact_match': 1.0})"
            ]
          },
          "metadata": {}
        },
        {
          "output_type": "display_data",
          "data": {
            "text/plain": [
              "'==========================='"
            ],
            "application/vnd.google.colaboratory.intrinsic+json": {
              "type": "string"
            }
          },
          "metadata": {}
        },
        {
          "output_type": "display_data",
          "data": {
            "text/plain": [
              "('51 + 738700 = 738751', '51 + 738700 = 738751', {'exact_match': 1.0})"
            ]
          },
          "metadata": {}
        },
        {
          "output_type": "display_data",
          "data": {
            "text/plain": [
              "'==========================='"
            ],
            "application/vnd.google.colaboratory.intrinsic+json": {
              "type": "string"
            }
          },
          "metadata": {}
        },
        {
          "output_type": "display_data",
          "data": {
            "text/plain": [
              "('686816196240 + 8077 = 686816204317',\n",
              " '686816196240 + 8077 = 686816204317',\n",
              " {'exact_match': 1.0})"
            ]
          },
          "metadata": {}
        },
        {
          "output_type": "display_data",
          "data": {
            "text/plain": [
              "'==========================='"
            ],
            "application/vnd.google.colaboratory.intrinsic+json": {
              "type": "string"
            }
          },
          "metadata": {}
        },
        {
          "output_type": "display_data",
          "data": {
            "text/plain": [
              "('671131855588922 + 7336487 = 671131862925409',\n",
              " '671131855588922 + 7336487 = 671131862925409',\n",
              " {'exact_match': 1.0})"
            ]
          },
          "metadata": {}
        },
        {
          "output_type": "display_data",
          "data": {
            "text/plain": [
              "'==========================='"
            ],
            "application/vnd.google.colaboratory.intrinsic+json": {
              "type": "string"
            }
          },
          "metadata": {}
        },
        {
          "output_type": "display_data",
          "data": {
            "text/plain": [
              "('9654029 + 288972429 = 298626458',\n",
              " '9654029 + 288972429 = 298626458',\n",
              " {'exact_match': 1.0})"
            ]
          },
          "metadata": {}
        },
        {
          "output_type": "display_data",
          "data": {
            "text/plain": [
              "'==========================='"
            ],
            "application/vnd.google.colaboratory.intrinsic+json": {
              "type": "string"
            }
          },
          "metadata": {}
        },
        {
          "output_type": "display_data",
          "data": {
            "text/plain": [
              "('451722285 + 545890456 = 997612741',\n",
              " '451722285 + 545890456 = 997612741',\n",
              " {'exact_match': 1.0})"
            ]
          },
          "metadata": {}
        },
        {
          "output_type": "display_data",
          "data": {
            "text/plain": [
              "'==========================='"
            ],
            "application/vnd.google.colaboratory.intrinsic+json": {
              "type": "string"
            }
          },
          "metadata": {}
        },
        {
          "output_type": "display_data",
          "data": {
            "text/plain": [
              "('811 + 385 = 1196', '811 + 385 = 1196', {'exact_match': 1.0})"
            ]
          },
          "metadata": {}
        },
        {
          "output_type": "display_data",
          "data": {
            "text/plain": [
              "'==========================='"
            ],
            "application/vnd.google.colaboratory.intrinsic+json": {
              "type": "string"
            }
          },
          "metadata": {}
        },
        {
          "output_type": "display_data",
          "data": {
            "text/plain": [
              "('86713 + 33905112308 = 33905199021',\n",
              " '86713 + 33905112308 = 33905199021',\n",
              " {'exact_match': 1.0})"
            ]
          },
          "metadata": {}
        },
        {
          "output_type": "display_data",
          "data": {
            "text/plain": [
              "'==========================='"
            ],
            "application/vnd.google.colaboratory.intrinsic+json": {
              "type": "string"
            }
          },
          "metadata": {}
        },
        {
          "output_type": "display_data",
          "data": {
            "text/plain": [
              "('22971146291 + 93777 = 22971240068',\n",
              " '22971146291 + 93777 = 22971240068',\n",
              " {'exact_match': 1.0})"
            ]
          },
          "metadata": {}
        },
        {
          "output_type": "display_data",
          "data": {
            "text/plain": [
              "'==========================='"
            ],
            "application/vnd.google.colaboratory.intrinsic+json": {
              "type": "string"
            }
          },
          "metadata": {}
        },
        {
          "output_type": "display_data",
          "data": {
            "text/plain": [
              "('838873 + 60880 = 899753', '838873 + 60880 = 899753', {'exact_match': 1.0})"
            ]
          },
          "metadata": {}
        },
        {
          "output_type": "display_data",
          "data": {
            "text/plain": [
              "'==========================='"
            ],
            "application/vnd.google.colaboratory.intrinsic+json": {
              "type": "string"
            }
          },
          "metadata": {}
        },
        {
          "output_type": "display_data",
          "data": {
            "text/plain": [
              "('40 + 70003 = 70043', '40 + 70003 = 70043', {'exact_match': 1.0})"
            ]
          },
          "metadata": {}
        },
        {
          "output_type": "display_data",
          "data": {
            "text/plain": [
              "'==========================='"
            ],
            "application/vnd.google.colaboratory.intrinsic+json": {
              "type": "string"
            }
          },
          "metadata": {}
        },
        {
          "output_type": "display_data",
          "data": {
            "text/plain": [
              "('94250261 + 849 = 94251110',\n",
              " '94250261 + 849 = 94251110',\n",
              " {'exact_match': 1.0})"
            ]
          },
          "metadata": {}
        },
        {
          "output_type": "display_data",
          "data": {
            "text/plain": [
              "'==========================='"
            ],
            "application/vnd.google.colaboratory.intrinsic+json": {
              "type": "string"
            }
          },
          "metadata": {}
        },
        {
          "output_type": "display_data",
          "data": {
            "text/plain": [
              "('44806610403319 + 179351192 = 44806789754511',\n",
              " '44806610403319 + 179351192 = 44806789754511',\n",
              " {'exact_match': 1.0})"
            ]
          },
          "metadata": {}
        },
        {
          "output_type": "display_data",
          "data": {
            "text/plain": [
              "'==========================='"
            ],
            "application/vnd.google.colaboratory.intrinsic+json": {
              "type": "string"
            }
          },
          "metadata": {}
        },
        {
          "output_type": "display_data",
          "data": {
            "text/plain": [
              "('75301394 + 2595590 = 77896984',\n",
              " '75301394 + 2595590 = 77896984',\n",
              " {'exact_match': 1.0})"
            ]
          },
          "metadata": {}
        },
        {
          "output_type": "display_data",
          "data": {
            "text/plain": [
              "'==========================='"
            ],
            "application/vnd.google.colaboratory.intrinsic+json": {
              "type": "string"
            }
          },
          "metadata": {}
        },
        {
          "output_type": "display_data",
          "data": {
            "text/plain": [
              "('81207 + 9870879494110 = 9870879575317',\n",
              " '81207 + 9870879494110 = 9870879575317',\n",
              " {'exact_match': 1.0})"
            ]
          },
          "metadata": {}
        },
        {
          "output_type": "display_data",
          "data": {
            "text/plain": [
              "'==========================='"
            ],
            "application/vnd.google.colaboratory.intrinsic+json": {
              "type": "string"
            }
          },
          "metadata": {}
        },
        {
          "output_type": "display_data",
          "data": {
            "text/plain": [
              "('32 + 310196436880834 = 310196436880866',\n",
              " '32 + 310196436880834 = 310196436880866',\n",
              " {'exact_match': 1.0})"
            ]
          },
          "metadata": {}
        },
        {
          "output_type": "display_data",
          "data": {
            "text/plain": [
              "'==========================='"
            ],
            "application/vnd.google.colaboratory.intrinsic+json": {
              "type": "string"
            }
          },
          "metadata": {}
        },
        {
          "output_type": "display_data",
          "data": {
            "text/plain": [
              "('314042994638 + 877600757 = 314920595395',\n",
              " '314042994638 + 877600757 = 314920595395',\n",
              " {'exact_match': 1.0})"
            ]
          },
          "metadata": {}
        },
        {
          "output_type": "display_data",
          "data": {
            "text/plain": [
              "'==========================='"
            ],
            "application/vnd.google.colaboratory.intrinsic+json": {
              "type": "string"
            }
          },
          "metadata": {}
        },
        {
          "output_type": "display_data",
          "data": {
            "text/plain": [
              "('9090166 + 25072714179 = 25081804345',\n",
              " '9090166 + 25072714179 = 25081804345',\n",
              " {'exact_match': 1.0})"
            ]
          },
          "metadata": {}
        },
        {
          "output_type": "display_data",
          "data": {
            "text/plain": [
              "'==========================='"
            ],
            "application/vnd.google.colaboratory.intrinsic+json": {
              "type": "string"
            }
          },
          "metadata": {}
        },
        {
          "output_type": "display_data",
          "data": {
            "text/plain": [
              "('158390 + 887029871437 = 887030029827',\n",
              " '158390 + 887029871437 = 887030029827',\n",
              " {'exact_match': 1.0})"
            ]
          },
          "metadata": {}
        },
        {
          "output_type": "display_data",
          "data": {
            "text/plain": [
              "'==========================='"
            ],
            "application/vnd.google.colaboratory.intrinsic+json": {
              "type": "string"
            }
          },
          "metadata": {}
        },
        {
          "output_type": "display_data",
          "data": {
            "text/plain": [
              "('90499 + 20633 = 111132', '90499 + 20633 = 111132', {'exact_match': 1.0})"
            ]
          },
          "metadata": {}
        },
        {
          "output_type": "display_data",
          "data": {
            "text/plain": [
              "'==========================='"
            ],
            "application/vnd.google.colaboratory.intrinsic+json": {
              "type": "string"
            }
          },
          "metadata": {}
        },
        {
          "output_type": "display_data",
          "data": {
            "text/plain": [
              "('950 + 33 = 983', '950 + 33 = 983', {'exact_match': 1.0})"
            ]
          },
          "metadata": {}
        },
        {
          "output_type": "display_data",
          "data": {
            "text/plain": [
              "'==========================='"
            ],
            "application/vnd.google.colaboratory.intrinsic+json": {
              "type": "string"
            }
          },
          "metadata": {}
        },
        {
          "output_type": "display_data",
          "data": {
            "text/plain": [
              "('449536990603 + 7059 = 449536997662',\n",
              " '449536990603 + 7059 = 449536997662',\n",
              " {'exact_match': 1.0})"
            ]
          },
          "metadata": {}
        },
        {
          "output_type": "display_data",
          "data": {
            "text/plain": [
              "'==========================='"
            ],
            "application/vnd.google.colaboratory.intrinsic+json": {
              "type": "string"
            }
          },
          "metadata": {}
        },
        {
          "output_type": "display_data",
          "data": {
            "text/plain": [
              "('781954091641 + 1347113 = 781955438754',\n",
              " '781954091641 + 1347113 = 781955438754',\n",
              " {'exact_match': 1.0})"
            ]
          },
          "metadata": {}
        },
        {
          "output_type": "display_data",
          "data": {
            "text/plain": [
              "'==========================='"
            ],
            "application/vnd.google.colaboratory.intrinsic+json": {
              "type": "string"
            }
          },
          "metadata": {}
        },
        {
          "output_type": "display_data",
          "data": {
            "text/plain": [
              "('3559755 + 3342509 = 6902264',\n",
              " '3559755 + 3342509 = 6902264',\n",
              " {'exact_match': 1.0})"
            ]
          },
          "metadata": {}
        },
        {
          "output_type": "display_data",
          "data": {
            "text/plain": [
              "'==========================='"
            ],
            "application/vnd.google.colaboratory.intrinsic+json": {
              "type": "string"
            }
          },
          "metadata": {}
        },
        {
          "output_type": "display_data",
          "data": {
            "text/plain": [
              "('854002472 + 700964227 = 1554966699',\n",
              " '854002472 + 700964227 = 1554966709',\n",
              " {'exact_match': 0.0})"
            ]
          },
          "metadata": {}
        },
        {
          "output_type": "display_data",
          "data": {
            "text/plain": [
              "'==========================='"
            ],
            "application/vnd.google.colaboratory.intrinsic+json": {
              "type": "string"
            }
          },
          "metadata": {}
        },
        {
          "output_type": "display_data",
          "data": {
            "text/plain": [
              "('26476977889800 + 7254802 = 26476985144602',\n",
              " '26476977889800 + 7254802 = 26476985144602',\n",
              " {'exact_match': 1.0})"
            ]
          },
          "metadata": {}
        },
        {
          "output_type": "display_data",
          "data": {
            "text/plain": [
              "'==========================='"
            ],
            "application/vnd.google.colaboratory.intrinsic+json": {
              "type": "string"
            }
          },
          "metadata": {}
        },
        {
          "output_type": "display_data",
          "data": {
            "text/plain": [
              "('76401 + 257186840252634 = 257186840329035',\n",
              " '76401 + 257186840252634 = 257186840329035',\n",
              " {'exact_match': 1.0})"
            ]
          },
          "metadata": {}
        },
        {
          "output_type": "display_data",
          "data": {
            "text/plain": [
              "'==========================='"
            ],
            "application/vnd.google.colaboratory.intrinsic+json": {
              "type": "string"
            }
          },
          "metadata": {}
        },
        {
          "output_type": "display_data",
          "data": {
            "text/plain": [
              "('125 + 9440760423029 = 9440760423154',\n",
              " '125 + 9440760423029 = 9440760423154',\n",
              " {'exact_match': 1.0})"
            ]
          },
          "metadata": {}
        },
        {
          "output_type": "display_data",
          "data": {
            "text/plain": [
              "'==========================='"
            ],
            "application/vnd.google.colaboratory.intrinsic+json": {
              "type": "string"
            }
          },
          "metadata": {}
        },
        {
          "output_type": "display_data",
          "data": {
            "text/plain": [
              "('1842949 + 398 = 1843347', '1842949 + 398 = 1843347', {'exact_match': 1.0})"
            ]
          },
          "metadata": {}
        },
        {
          "output_type": "display_data",
          "data": {
            "text/plain": [
              "'==========================='"
            ],
            "application/vnd.google.colaboratory.intrinsic+json": {
              "type": "string"
            }
          },
          "metadata": {}
        },
        {
          "output_type": "display_data",
          "data": {
            "text/plain": [
              "('8734420 + 578146114715335 = 578146123449755',\n",
              " '8734420 + 578146114715335 = 578146123449755',\n",
              " {'exact_match': 1.0})"
            ]
          },
          "metadata": {}
        },
        {
          "output_type": "display_data",
          "data": {
            "text/plain": [
              "'==========================='"
            ],
            "application/vnd.google.colaboratory.intrinsic+json": {
              "type": "string"
            }
          },
          "metadata": {}
        },
        {
          "output_type": "display_data",
          "data": {
            "text/plain": [
              "('95479657 + 425780 = 95905437',\n",
              " '95479657 + 425780 = 95905437',\n",
              " {'exact_match': 1.0})"
            ]
          },
          "metadata": {}
        },
        {
          "output_type": "display_data",
          "data": {
            "text/plain": [
              "'==========================='"
            ],
            "application/vnd.google.colaboratory.intrinsic+json": {
              "type": "string"
            }
          },
          "metadata": {}
        },
        {
          "output_type": "display_data",
          "data": {
            "text/plain": [
              "('66265 + 664123905 = 664190170',\n",
              " '66265 + 664123905 = 664190170',\n",
              " {'exact_match': 1.0})"
            ]
          },
          "metadata": {}
        },
        {
          "output_type": "display_data",
          "data": {
            "text/plain": [
              "'==========================='"
            ],
            "application/vnd.google.colaboratory.intrinsic+json": {
              "type": "string"
            }
          },
          "metadata": {}
        },
        {
          "output_type": "display_data",
          "data": {
            "text/plain": [
              "('90298 + 598027554637498 = 598027554727796',\n",
              " '90298 + 598027554637498 = 598027554727796',\n",
              " {'exact_match': 1.0})"
            ]
          },
          "metadata": {}
        },
        {
          "output_type": "display_data",
          "data": {
            "text/plain": [
              "'==========================='"
            ],
            "application/vnd.google.colaboratory.intrinsic+json": {
              "type": "string"
            }
          },
          "metadata": {}
        },
        {
          "output_type": "display_data",
          "data": {
            "text/plain": [
              "('32609 + 7290426955 = 7290459564',\n",
              " '32609 + 7290426955 = 7290459564',\n",
              " {'exact_match': 1.0})"
            ]
          },
          "metadata": {}
        },
        {
          "output_type": "display_data",
          "data": {
            "text/plain": [
              "'==========================='"
            ],
            "application/vnd.google.colaboratory.intrinsic+json": {
              "type": "string"
            }
          },
          "metadata": {}
        },
        {
          "output_type": "display_data",
          "data": {
            "text/plain": [
              "('955589690 + 789869665206888 = 789870620796578',\n",
              " '955589690 + 789869665206888 = 789870620796578',\n",
              " {'exact_match': 1.0})"
            ]
          },
          "metadata": {}
        },
        {
          "output_type": "display_data",
          "data": {
            "text/plain": [
              "'==========================='"
            ],
            "application/vnd.google.colaboratory.intrinsic+json": {
              "type": "string"
            }
          },
          "metadata": {}
        },
        {
          "output_type": "display_data",
          "data": {
            "text/plain": [
              "('1034209515135 + 523225 = 1034210038360',\n",
              " '1034209515135 + 523225 = 1034209038360',\n",
              " {'exact_match': 0.0})"
            ]
          },
          "metadata": {}
        },
        {
          "output_type": "display_data",
          "data": {
            "text/plain": [
              "'==========================='"
            ],
            "application/vnd.google.colaboratory.intrinsic+json": {
              "type": "string"
            }
          },
          "metadata": {}
        },
        {
          "output_type": "display_data",
          "data": {
            "text/plain": [
              "('35470 + 50937 = 86407', '35470 + 50937 = 86407', {'exact_match': 1.0})"
            ]
          },
          "metadata": {}
        },
        {
          "output_type": "display_data",
          "data": {
            "text/plain": [
              "'==========================='"
            ],
            "application/vnd.google.colaboratory.intrinsic+json": {
              "type": "string"
            }
          },
          "metadata": {}
        },
        {
          "output_type": "display_data",
          "data": {
            "text/plain": [
              "('1686279781308 + 7614083 = 1686287395391',\n",
              " '1686279781308 + 7614083 = 1686287395391',\n",
              " {'exact_match': 1.0})"
            ]
          },
          "metadata": {}
        },
        {
          "output_type": "display_data",
          "data": {
            "text/plain": [
              "'==========================='"
            ],
            "application/vnd.google.colaboratory.intrinsic+json": {
              "type": "string"
            }
          },
          "metadata": {}
        },
        {
          "output_type": "display_data",
          "data": {
            "text/plain": [
              "('686 + 89 = 775', '686 + 89 = 775', {'exact_match': 1.0})"
            ]
          },
          "metadata": {}
        },
        {
          "output_type": "display_data",
          "data": {
            "text/plain": [
              "'==========================='"
            ],
            "application/vnd.google.colaboratory.intrinsic+json": {
              "type": "string"
            }
          },
          "metadata": {}
        },
        {
          "output_type": "display_data",
          "data": {
            "text/plain": [
              "('49789865 + 66771 = 49856636',\n",
              " '49789865 + 66771 = 49856636',\n",
              " {'exact_match': 1.0})"
            ]
          },
          "metadata": {}
        },
        {
          "output_type": "display_data",
          "data": {
            "text/plain": [
              "'==========================='"
            ],
            "application/vnd.google.colaboratory.intrinsic+json": {
              "type": "string"
            }
          },
          "metadata": {}
        },
        {
          "output_type": "display_data",
          "data": {
            "text/plain": [
              "('435 + 7878054929 = 7878055364',\n",
              " '435 + 7878054929 = 7878055364',\n",
              " {'exact_match': 1.0})"
            ]
          },
          "metadata": {}
        },
        {
          "output_type": "display_data",
          "data": {
            "text/plain": [
              "'==========================='"
            ],
            "application/vnd.google.colaboratory.intrinsic+json": {
              "type": "string"
            }
          },
          "metadata": {}
        },
        {
          "output_type": "display_data",
          "data": {
            "text/plain": [
              "('49055 + 260515041210 = 260515090265',\n",
              " '49055 + 260515041210 = 260515090265',\n",
              " {'exact_match': 1.0})"
            ]
          },
          "metadata": {}
        },
        {
          "output_type": "display_data",
          "data": {
            "text/plain": [
              "'==========================='"
            ],
            "application/vnd.google.colaboratory.intrinsic+json": {
              "type": "string"
            }
          },
          "metadata": {}
        },
        {
          "output_type": "display_data",
          "data": {
            "text/plain": [
              "('337427173 + 5400777 = 342827950',\n",
              " '337427173 + 5400777 = 342827950',\n",
              " {'exact_match': 1.0})"
            ]
          },
          "metadata": {}
        },
        {
          "output_type": "display_data",
          "data": {
            "text/plain": [
              "'==========================='"
            ],
            "application/vnd.google.colaboratory.intrinsic+json": {
              "type": "string"
            }
          },
          "metadata": {}
        },
        {
          "output_type": "display_data",
          "data": {
            "text/plain": [
              "('595867054 + 3351356722238 = 3351952589292',\n",
              " '595867054 + 3351356722238 = 3351952589292',\n",
              " {'exact_match': 1.0})"
            ]
          },
          "metadata": {}
        },
        {
          "output_type": "display_data",
          "data": {
            "text/plain": [
              "'==========================='"
            ],
            "application/vnd.google.colaboratory.intrinsic+json": {
              "type": "string"
            }
          },
          "metadata": {}
        },
        {
          "output_type": "display_data",
          "data": {
            "text/plain": [
              "('534 + 601 = 1135', '534 + 601 = 1135', {'exact_match': 1.0})"
            ]
          },
          "metadata": {}
        },
        {
          "output_type": "display_data",
          "data": {
            "text/plain": [
              "'==========================='"
            ],
            "application/vnd.google.colaboratory.intrinsic+json": {
              "type": "string"
            }
          },
          "metadata": {}
        },
        {
          "output_type": "display_data",
          "data": {
            "text/plain": [
              "('6887377 + 62872 = 6950249',\n",
              " '6887377 + 62872 = 6950249',\n",
              " {'exact_match': 1.0})"
            ]
          },
          "metadata": {}
        },
        {
          "output_type": "display_data",
          "data": {
            "text/plain": [
              "'==========================='"
            ],
            "application/vnd.google.colaboratory.intrinsic+json": {
              "type": "string"
            }
          },
          "metadata": {}
        },
        {
          "output_type": "display_data",
          "data": {
            "text/plain": [
              "('12896922 + 752438379 = 765335301',\n",
              " '12896922 + 752438379 = 765335301',\n",
              " {'exact_match': 1.0})"
            ]
          },
          "metadata": {}
        },
        {
          "output_type": "display_data",
          "data": {
            "text/plain": [
              "'==========================='"
            ],
            "application/vnd.google.colaboratory.intrinsic+json": {
              "type": "string"
            }
          },
          "metadata": {}
        },
        {
          "output_type": "display_data",
          "data": {
            "text/plain": [
              "('63120302 + 82707263716 = 82770384018',\n",
              " '63120302 + 82707263716 = 82770384018',\n",
              " {'exact_match': 1.0})"
            ]
          },
          "metadata": {}
        },
        {
          "output_type": "display_data",
          "data": {
            "text/plain": [
              "'==========================='"
            ],
            "application/vnd.google.colaboratory.intrinsic+json": {
              "type": "string"
            }
          },
          "metadata": {}
        },
        {
          "output_type": "display_data",
          "data": {
            "text/plain": [
              "('6874077 + 136771834604749 = 136771841478826',\n",
              " '6874077 + 136771834604749 = 136771841478826',\n",
              " {'exact_match': 1.0})"
            ]
          },
          "metadata": {}
        },
        {
          "output_type": "display_data",
          "data": {
            "text/plain": [
              "'==========================='"
            ],
            "application/vnd.google.colaboratory.intrinsic+json": {
              "type": "string"
            }
          },
          "metadata": {}
        },
        {
          "output_type": "display_data",
          "data": {
            "text/plain": [
              "('7463 + 8 = 7471', '7463 + 8 = 7471', {'exact_match': 1.0})"
            ]
          },
          "metadata": {}
        },
        {
          "output_type": "display_data",
          "data": {
            "text/plain": [
              "'==========================='"
            ],
            "application/vnd.google.colaboratory.intrinsic+json": {
              "type": "string"
            }
          },
          "metadata": {}
        },
        {
          "output_type": "display_data",
          "data": {
            "text/plain": [
              "('6874891 + 58928855 = 65803746',\n",
              " '6874891 + 58928855 = 65803746',\n",
              " {'exact_match': 1.0})"
            ]
          },
          "metadata": {}
        },
        {
          "output_type": "display_data",
          "data": {
            "text/plain": [
              "'==========================='"
            ],
            "application/vnd.google.colaboratory.intrinsic+json": {
              "type": "string"
            }
          },
          "metadata": {}
        },
        {
          "output_type": "display_data",
          "data": {
            "text/plain": [
              "('67364125755 + 89313886 = 67453439641',\n",
              " '67364125755 + 89313886 = 67453439641',\n",
              " {'exact_match': 1.0})"
            ]
          },
          "metadata": {}
        },
        {
          "output_type": "display_data",
          "data": {
            "text/plain": [
              "'==========================='"
            ],
            "application/vnd.google.colaboratory.intrinsic+json": {
              "type": "string"
            }
          },
          "metadata": {}
        },
        {
          "output_type": "display_data",
          "data": {
            "text/plain": [
              "('719 + 26862 = 27581', '719 + 26862 = 27581', {'exact_match': 1.0})"
            ]
          },
          "metadata": {}
        },
        {
          "output_type": "display_data",
          "data": {
            "text/plain": [
              "'==========================='"
            ],
            "application/vnd.google.colaboratory.intrinsic+json": {
              "type": "string"
            }
          },
          "metadata": {}
        },
        {
          "output_type": "display_data",
          "data": {
            "text/plain": [
              "('43199973735 + 27847 = 43200001582',\n",
              " '43199973735 + 27847 = 43199976522',\n",
              " {'exact_match': 0.0})"
            ]
          },
          "metadata": {}
        },
        {
          "output_type": "display_data",
          "data": {
            "text/plain": [
              "'==========================='"
            ],
            "application/vnd.google.colaboratory.intrinsic+json": {
              "type": "string"
            }
          },
          "metadata": {}
        },
        {
          "output_type": "display_data",
          "data": {
            "text/plain": [
              "('54676 + 8316718132747 = 8316718187423',\n",
              " '54676 + 8316718132747 = 8316718187423',\n",
              " {'exact_match': 1.0})"
            ]
          },
          "metadata": {}
        },
        {
          "output_type": "display_data",
          "data": {
            "text/plain": [
              "'==========================='"
            ],
            "application/vnd.google.colaboratory.intrinsic+json": {
              "type": "string"
            }
          },
          "metadata": {}
        },
        {
          "output_type": "display_data",
          "data": {
            "text/plain": [
              "('9729336829652 + 196 = 9729336829848',\n",
              " '9729336829652 + 196 = 9729336829848',\n",
              " {'exact_match': 1.0})"
            ]
          },
          "metadata": {}
        },
        {
          "output_type": "display_data",
          "data": {
            "text/plain": [
              "'==========================='"
            ],
            "application/vnd.google.colaboratory.intrinsic+json": {
              "type": "string"
            }
          },
          "metadata": {}
        },
        {
          "output_type": "display_data",
          "data": {
            "text/plain": [
              "('618 + 9723918133991 = 9723918134609',\n",
              " '618 + 9723918133991 = 9723918134609',\n",
              " {'exact_match': 1.0})"
            ]
          },
          "metadata": {}
        },
        {
          "output_type": "display_data",
          "data": {
            "text/plain": [
              "'==========================='"
            ],
            "application/vnd.google.colaboratory.intrinsic+json": {
              "type": "string"
            }
          },
          "metadata": {}
        },
        {
          "output_type": "display_data",
          "data": {
            "text/plain": [
              "('72410676321 + 1 = 72410676322',\n",
              " '72410676321 + 1 = 72410676322',\n",
              " {'exact_match': 1.0})"
            ]
          },
          "metadata": {}
        },
        {
          "output_type": "display_data",
          "data": {
            "text/plain": [
              "'==========================='"
            ],
            "application/vnd.google.colaboratory.intrinsic+json": {
              "type": "string"
            }
          },
          "metadata": {}
        },
        {
          "output_type": "display_data",
          "data": {
            "text/plain": [
              "('393248945 + 74011 = 393322956',\n",
              " '393248945 + 74011 = 393322956',\n",
              " {'exact_match': 1.0})"
            ]
          },
          "metadata": {}
        },
        {
          "output_type": "display_data",
          "data": {
            "text/plain": [
              "'==========================='"
            ],
            "application/vnd.google.colaboratory.intrinsic+json": {
              "type": "string"
            }
          },
          "metadata": {}
        },
        {
          "output_type": "display_data",
          "data": {
            "text/plain": [
              "('54924551162 + 1 = 54924551163',\n",
              " '54924551162 + 1 = 54924551163',\n",
              " {'exact_match': 1.0})"
            ]
          },
          "metadata": {}
        },
        {
          "output_type": "display_data",
          "data": {
            "text/plain": [
              "'==========================='"
            ],
            "application/vnd.google.colaboratory.intrinsic+json": {
              "type": "string"
            }
          },
          "metadata": {}
        },
        {
          "output_type": "display_data",
          "data": {
            "text/plain": [
              "('3520 + 66277205138756 = 66277205142276',\n",
              " '3520 + 66277205138756 = 66277205142276',\n",
              " {'exact_match': 1.0})"
            ]
          },
          "metadata": {}
        },
        {
          "output_type": "display_data",
          "data": {
            "text/plain": [
              "'==========================='"
            ],
            "application/vnd.google.colaboratory.intrinsic+json": {
              "type": "string"
            }
          },
          "metadata": {}
        },
        {
          "output_type": "display_data",
          "data": {
            "text/plain": [
              "('3050961 + 48098904002142 = 48098907053103',\n",
              " '3050961 + 48098904002142 = 48098907053103',\n",
              " {'exact_match': 1.0})"
            ]
          },
          "metadata": {}
        },
        {
          "output_type": "display_data",
          "data": {
            "text/plain": [
              "'==========================='"
            ],
            "application/vnd.google.colaboratory.intrinsic+json": {
              "type": "string"
            }
          },
          "metadata": {}
        },
        {
          "output_type": "display_data",
          "data": {
            "text/plain": [
              "('20217797797 + 9575536 = 20227373333',\n",
              " '20217797797 + 9575536 = 20227373333',\n",
              " {'exact_match': 1.0})"
            ]
          },
          "metadata": {}
        },
        {
          "output_type": "display_data",
          "data": {
            "text/plain": [
              "'==========================='"
            ],
            "application/vnd.google.colaboratory.intrinsic+json": {
              "type": "string"
            }
          },
          "metadata": {}
        },
        {
          "output_type": "display_data",
          "data": {
            "text/plain": [
              "('6277239 + 62709 = 6339948',\n",
              " '6277239 + 62709 = 6340948',\n",
              " {'exact_match': 0.0})"
            ]
          },
          "metadata": {}
        },
        {
          "output_type": "display_data",
          "data": {
            "text/plain": [
              "'==========================='"
            ],
            "application/vnd.google.colaboratory.intrinsic+json": {
              "type": "string"
            }
          },
          "metadata": {}
        },
        {
          "output_type": "display_data",
          "data": {
            "text/plain": [
              "('579016 + 571555068852142 = 571555069431158',\n",
              " '579016 + 571555068852142 = 571555069431158',\n",
              " {'exact_match': 1.0})"
            ]
          },
          "metadata": {}
        },
        {
          "output_type": "display_data",
          "data": {
            "text/plain": [
              "'==========================='"
            ],
            "application/vnd.google.colaboratory.intrinsic+json": {
              "type": "string"
            }
          },
          "metadata": {}
        },
        {
          "output_type": "display_data",
          "data": {
            "text/plain": [
              "('2830748468485 + 94881 = 2830748563366',\n",
              " '2830748468485 + 94881 = 2830748563366',\n",
              " {'exact_match': 1.0})"
            ]
          },
          "metadata": {}
        },
        {
          "output_type": "display_data",
          "data": {
            "text/plain": [
              "'==========================='"
            ],
            "application/vnd.google.colaboratory.intrinsic+json": {
              "type": "string"
            }
          },
          "metadata": {}
        },
        {
          "output_type": "display_data",
          "data": {
            "text/plain": [
              "('52 + 5510372 = 5510424', '52 + 5510372 = 5510424', {'exact_match': 1.0})"
            ]
          },
          "metadata": {}
        },
        {
          "output_type": "display_data",
          "data": {
            "text/plain": [
              "'==========================='"
            ],
            "application/vnd.google.colaboratory.intrinsic+json": {
              "type": "string"
            }
          },
          "metadata": {}
        },
        {
          "output_type": "display_data",
          "data": {
            "text/plain": [
              "('30076 + 9368481854 = 9368511930',\n",
              " '30076 + 9368481854 = 9368511930',\n",
              " {'exact_match': 1.0})"
            ]
          },
          "metadata": {}
        },
        {
          "output_type": "display_data",
          "data": {
            "text/plain": [
              "'==========================='"
            ],
            "application/vnd.google.colaboratory.intrinsic+json": {
              "type": "string"
            }
          },
          "metadata": {}
        }
      ]
    },
    {
      "cell_type": "code",
      "execution_count": null,
      "metadata": {
        "colab": {
          "base_uri": "https://localhost:8080/",
          "height": 122
        },
        "id": "oo6oJjxPHA3Z",
        "outputId": "e2ae2253-a2dd-4f12-acc1-3ed79eb8df76"
      },
      "outputs": [
        {
          "output_type": "execute_result",
          "data": {
            "text/plain": [
              "'|===========================================================================|\\n|                  PyTorch CUDA memory summary, device ID 0                 |\\n|---------------------------------------------------------------------------|\\n|            CUDA OOMs: 6            |        cudaMalloc retries: 8         |\\n|===========================================================================|\\n|        Metric         | Cur Usage  | Peak Usage | Tot Alloc  | Tot Freed  |\\n|---------------------------------------------------------------------------|\\n| Allocated memory      |   7089 MiB |  12914 MiB |   2002 GiB |   1995 GiB |\\n|       from large pool |   6790 MiB |  12615 MiB |   1320 GiB |   1313 GiB |\\n|       from small pool |    299 MiB |    549 MiB |    681 GiB |    681 GiB |\\n|---------------------------------------------------------------------------|\\n| Active memory         |   7089 MiB |  12914 MiB |   2002 GiB |   1995 GiB |\\n|       from large pool |   6790 MiB |  12615 MiB |   1320 GiB |   1313 GiB |\\n|       from small pool |    299 MiB |    549 MiB |    681 GiB |    681 GiB |\\n|---------------------------------------------------------------------------|\\n| Requested memory      |   6993 MiB |  12788 MiB |   1986 GiB |   1980 GiB |\\n|       from large pool |   6694 MiB |  12489 MiB |   1308 GiB |   1301 GiB |\\n|       from small pool |    299 MiB |    549 MiB |    678 GiB |    678 GiB |\\n|---------------------------------------------------------------------------|\\n| GPU reserved memory   |   7392 MiB |  14046 MiB |  40718 MiB |  33326 MiB |\\n|       from large pool |   7078 MiB |  13732 MiB |  40168 MiB |  33090 MiB |\\n|       from small pool |    314 MiB |    550 MiB |    550 MiB |    236 MiB |\\n|---------------------------------------------------------------------------|\\n| Non-releasable memory | 309393 KiB |   2428 MiB |   1566 GiB |   1565 GiB |\\n|       from large pool | 294606 KiB |   2401 MiB |    814 GiB |    814 GiB |\\n|       from small pool |  14786 KiB |    112 MiB |    751 GiB |    751 GiB |\\n|---------------------------------------------------------------------------|\\n| Allocations           |    1227    |    1676    |   21202 K  |   21200 K  |\\n|       from large pool |     229    |     451    |     142 K  |     142 K  |\\n|       from small pool |     998    |    1306    |   21059 K  |   21058 K  |\\n|---------------------------------------------------------------------------|\\n| Active allocs         |    1227    |    1676    |   21202 K  |   21200 K  |\\n|       from large pool |     229    |     451    |     142 K  |     142 K  |\\n|       from small pool |     998    |    1306    |   21059 K  |   21058 K  |\\n|---------------------------------------------------------------------------|\\n| GPU reserved segments |     291    |     443    |     626    |     335    |\\n|       from large pool |     134    |     234    |     351    |     217    |\\n|       from small pool |     157    |     275    |     275    |     118    |\\n|---------------------------------------------------------------------------|\\n| Non-releasable allocs |     128    |     231    |   14337 K  |   14337 K  |\\n|       from large pool |      33    |     136    |      52 K  |      52 K  |\\n|       from small pool |      95    |     198    |   14285 K  |   14284 K  |\\n|---------------------------------------------------------------------------|\\n| Oversize allocations  |       0    |       0    |       0    |       0    |\\n|---------------------------------------------------------------------------|\\n| Oversize GPU segments |       0    |       0    |       0    |       0    |\\n|===========================================================================|\\n'"
            ],
            "application/vnd.google.colaboratory.intrinsic+json": {
              "type": "string"
            }
          },
          "metadata": {},
          "execution_count": 53
        }
      ],
      "source": [
        "#del model\n",
        "import gc\n",
        "import torch\n",
        "gc.collect()\n",
        "torch.cuda.empty_cache()\n",
        "torch.cuda.memory_summary(device=None, abbreviated=False)"
      ]
    },
    {
      "cell_type": "markdown",
      "source": [
        "#Gradio inference model"
      ],
      "metadata": {
        "id": "-GyCJ5anHm_K"
      }
    },
    {
      "cell_type": "code",
      "source": [
        "\n",
        "gr.Interface(\n",
        "\n",
        "    fn=evaluation,\n",
        "\n",
        "    inputs=[\n",
        "        gr.Textbox(\n",
        "            lines=1,\n",
        "            label=\"Arithmetic\",\n",
        "            placeholder=\"What is 63303235 + 20239503\",\n",
        "        ),\n",
        "    gr.Slider(\n",
        "        minimum=0, maximum=1, value=0.1, label=\"Temperature\"\n",
        "    ),\n",
        "    gr.Slider(\n",
        "        minimum=0, maximum=1, value=0.75, label=\"Top p\"\n",
        "    ),\n",
        "    gr.Slider(\n",
        "        minimum=0, maximum=100, step=1, value=40, label=\"Top k\"\n",
        "    ),\n",
        "    gr.Slider(\n",
        "        minimum=1, maximum=512, step=1, value=512, label=\"Max tokens\"\n",
        "    ),\n",
        "    ],\n",
        "\n",
        "    outputs=[gr.Textbox(\n",
        "            lines=5,\n",
        "            label=\"Output\",\n",
        "        )\n",
        "    ],\n",
        "\n",
        "    title=\"Goat-7B arifmetic\",\n",
        "    description=\"Goat-7B is a LLaMA-7B model fine-tuned on a synthetic dataset arifmetic data\",  # noqa: E501\n",
        ").launch(debug=True, share = True)#server_name=\"0.0.0.0\", share=share_gradio) .queue()"
      ],
      "metadata": {
        "colab": {
          "base_uri": "https://localhost:8080/",
          "height": 626
        },
        "outputId": "4b4f0cd8-8305-4385-c49a-67481d2c8a84",
        "id": "shtcQZnrko4r"
      },
      "execution_count": null,
      "outputs": [
        {
          "output_type": "stream",
          "name": "stdout",
          "text": [
            "Colab notebook detected. This cell will run indefinitely so that you can see errors and logs. To turn off, set debug=False in launch().\n",
            "Running on public URL: https://1b72968650daf22a92.gradio.live\n",
            "\n",
            "This share link expires in 72 hours. For free permanent hosting and GPU upgrades, run `gradio deploy` from Terminal to deploy to Spaces (https://huggingface.co/spaces)\n"
          ]
        },
        {
          "output_type": "display_data",
          "data": {
            "text/plain": [
              "<IPython.core.display.HTML object>"
            ],
            "text/html": [
              "<div><iframe src=\"https://1b72968650daf22a92.gradio.live\" width=\"100%\" height=\"500\" allow=\"autoplay; camera; microphone; clipboard-read; clipboard-write;\" frameborder=\"0\" allowfullscreen></iframe></div>"
            ]
          },
          "metadata": {}
        },
        {
          "output_type": "stream",
          "name": "stdout",
          "text": [
            "Keyboard interruption in main thread... closing server.\n",
            "Killing tunnel 127.0.0.1:7861 <> https://1b72968650daf22a92.gradio.live\n"
          ]
        },
        {
          "output_type": "execute_result",
          "data": {
            "text/plain": []
          },
          "metadata": {},
          "execution_count": 55
        }
      ]
    },
    {
      "cell_type": "markdown",
      "source": [
        "![image.png](data:image/png;base64,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)"
      ],
      "metadata": {
        "id": "poh7HJeFUPhS"
      }
    },
    {
      "cell_type": "markdown",
      "source": [
        "Стало понятно ограничение по модели в задании, которое заметил поздно.\n",
        "\n",
        "Пришлось поудалять все переменные ненужные чтобы очистить место по инференс...."
      ],
      "metadata": {
        "id": "AUUQdMAeUVYY"
      }
    },
    {
      "cell_type": "markdown",
      "source": [
        "![image.png](data:image/png;base64,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)"
      ],
      "metadata": {
        "id": "Zum0iTLzoKbq"
      }
    }
  ]
}