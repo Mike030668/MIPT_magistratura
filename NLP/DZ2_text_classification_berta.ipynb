{
  "cells": [
    {
      "cell_type": "markdown",
      "metadata": {
        "id": "view-in-github",
        "colab_type": "text"
      },
      "source": [
        "<a href=\"https://colab.research.google.com/github/Mike030668/MIPT_magistratura/blob/main/NLP/DZ2_text_classification_berta.ipynb\" target=\"_parent\"><img src=\"https://colab.research.google.com/assets/colab-badge.svg\" alt=\"Open In Colab\"/></a>"
      ]
    },
    {
      "cell_type": "markdown",
      "metadata": {
        "id": "aHUTEoHpY_FD"
      },
      "source": [
        "# Задание"
      ]
    },
    {
      "cell_type": "markdown",
      "metadata": {
        "id": "CtH45pJzY7iP"
      },
      "source": [
        "Для закрепления материала модуля предлагаем вам поучаствовать в учебном [Kaggle-соревновании](https://www.kaggle.com/competitions/unit-3-nlp-txt-classification/data).\n",
        "\n",
        "Вам необходимо решить задачу классификации текстов, используя рекуррентные сети.\n",
        "______\n",
        "\n",
        "При выполнении проекта разрешается пользоваться любыми средствами для векторных представлений текстов, кроме трансформеров, и любыми вариантами рекуррентных сетей. Для достижения наилучшего результата уделите внимание подбору гиперапарметров как в плане архитектуры, так и в плане обучения модели.\n",
        "______\n",
        "\n",
        "Критерии самооценивания проекта:\n",
        "\n",
        "- общее качество кода и следование PEP-8;\n",
        "- использование рекуррентных сетей;\n",
        "- итоговое значение метрики качества."
      ]
    },
    {
      "cell_type": "markdown",
      "metadata": {
        "id": "R4_NDLHvsg7Q"
      },
      "source": [
        "# Подключение к Kaggle"
      ]
    },
    {
      "cell_type": "code",
      "execution_count": null,
      "metadata": {
        "id": "iJtqBHcmLZi5"
      },
      "outputs": [],
      "source": [
        "api_token = {\"username\":\"...\",\"key\":\"...\"}\n",
        "\n",
        "import json\n",
        "\n",
        "with open('/content/kaggle.json', 'w') as file:\n",
        "  json.dump(api_token, file)"
      ]
    },
    {
      "cell_type": "code",
      "execution_count": null,
      "metadata": {
        "colab": {
          "base_uri": "https://localhost:8080/"
        },
        "id": "cb495_3nzQd6",
        "outputId": "e50fb1e3-9225-46a5-b958-0c2155e6a684"
      },
      "outputs": [
        {
          "output_type": "stream",
          "name": "stdout",
          "text": [
            "\u001b[?25l     \u001b[90m━━━━━━━━━━━━━━━━━━━━━━━━━━━━━━━━━━━━━━━━\u001b[0m \u001b[32m0.0/59.0 kB\u001b[0m \u001b[31m?\u001b[0m eta \u001b[36m-:--:--\u001b[0m\r\u001b[2K     \u001b[90m━━━━━━━━━━━━━━━━━━━━━━━━━━━━━━━━━━━━━━━━\u001b[0m \u001b[32m59.0/59.0 kB\u001b[0m \u001b[31m1.8 MB/s\u001b[0m eta \u001b[36m0:00:00\u001b[0m\n",
            "\u001b[?25h  Preparing metadata (setup.py) ... \u001b[?25l\u001b[?25hdone\n",
            "  Building wheel for kaggle (setup.py) ... \u001b[?25l\u001b[?25hdone\n",
            "Kaggle API 1.5.12\n"
          ]
        }
      ],
      "source": [
        "# Загрузка датасета с Кеггла\n",
        "!pip install kaggle -q\n",
        "!mkdir -p ~/.kaggle\n",
        "!cp kaggle.json ~/.kaggle/\n",
        "!chmod 600 ~/.kaggle/kaggle.json\n",
        "!pip install --upgrade --force-reinstall --no-deps kaggle==1.5.12 -q\n",
        "!kaggle --version"
      ]
    },
    {
      "cell_type": "markdown",
      "metadata": {
        "id": "PFu-VpWRtIVc"
      },
      "source": [
        "# Загрузка данных соревнования"
      ]
    },
    {
      "cell_type": "code",
      "execution_count": null,
      "metadata": {
        "colab": {
          "base_uri": "https://localhost:8080/"
        },
        "id": "xSM-30zvSjMD",
        "outputId": "9621f0c3-892c-4f3b-da31-919c403fdb5f"
      },
      "outputs": [
        {
          "output_type": "stream",
          "name": "stdout",
          "text": [
            "Downloading unit-3-nlp-txt-classification.zip to /content\n",
            "\r  0% 0.00/4.08M [00:00<?, ?B/s]\n",
            "\r100% 4.08M/4.08M [00:00<00:00, 112MB/s]\n",
            "Archive:  /content/unit-3-nlp-txt-classification.zip\n",
            "  inflating: /content/data/sample_submission.csv  \n",
            "  inflating: /content/data/test.csv  \n",
            "  inflating: /content/data/train.csv  \n"
          ]
        }
      ],
      "source": [
        "!kaggle competitions download -c unit-3-nlp-txt-classification\n",
        "!unzip '/content/unit-3-nlp-txt-classification.zip' -d'/content/data/'"
      ]
    },
    {
      "cell_type": "code",
      "execution_count": null,
      "metadata": {
        "colab": {
          "base_uri": "https://localhost:8080/"
        },
        "id": "fjyxYOg_R-g9",
        "outputId": "92c8d9e5-9ca6-41d6-94c9-e1ec34ee7d72"
      },
      "outputs": [
        {
          "output_type": "execute_result",
          "data": {
            "text/plain": [
              "['.config',\n",
              " 'data',\n",
              " 'unit-3-nlp-txt-classification.zip',\n",
              " 'kaggle.json',\n",
              " 'sample_data']"
            ]
          },
          "metadata": {},
          "execution_count": 4
        }
      ],
      "source": [
        "import os\n",
        "import pandas as pd\n",
        "import numpy as np\n",
        "import warnings\n",
        "warnings.filterwarnings('ignore')\n",
        "\n",
        "os.listdir() # корневая папка"
      ]
    },
    {
      "cell_type": "markdown",
      "metadata": {
        "id": "TPHH-QlgR-g_"
      },
      "source": [
        "## Читаем все в датафреймы."
      ]
    },
    {
      "cell_type": "code",
      "execution_count": null,
      "metadata": {
        "colab": {
          "base_uri": "https://localhost:8080/"
        },
        "id": "u2-8I5zHR-hE",
        "outputId": "dfb23200-7eb2-4371-fd53-832a409b4e80"
      },
      "outputs": [
        {
          "output_type": "execute_result",
          "data": {
            "text/plain": [
              "((41159, 2), (3798, 1), (3798, 2))"
            ]
          },
          "metadata": {},
          "execution_count": 5
        }
      ],
      "source": [
        "INPUT_PATH = '/content/data'  # папка с данными\n",
        "# данные для обучения\n",
        "main_ds = pd.read_csv(os.path.join(INPUT_PATH, 'train.csv'), index_col=0)\n",
        "# тестовые данные\n",
        "test_ds = pd.read_csv(os.path.join(INPUT_PATH, 'test.csv'), index_col=0)\n",
        "# пример для загрузки ответов\n",
        "sample_submission = pd.read_csv(os.path.join(INPUT_PATH, 'sample_submission.csv'))\n",
        "# размер данных\n",
        "main_ds.shape, test_ds.shape, sample_submission.shape"
      ]
    },
    {
      "cell_type": "code",
      "execution_count": null,
      "metadata": {
        "colab": {
          "base_uri": "https://localhost:8080/",
          "height": 206
        },
        "id": "zowC_UbwR-hF",
        "outputId": "b4fbbd05-1a18-4921-e2e2-bf81e4ef2771"
      },
      "outputs": [
        {
          "output_type": "execute_result",
          "data": {
            "text/plain": [
              "                                                Text           Sentiment\n",
              "0  @MeNyrbie @Phil_Gahan @Chrisitv https://t.co/i...             Neutral\n",
              "1  advice Talk to your neighbours family to excha...            Positive\n",
              "2  Coronavirus Australia: Woolworths to give elde...            Positive\n",
              "3  My food stock is not the only one which is emp...            Positive\n",
              "4  Me, ready to go at supermarket during the #COV...  Extremely Negative"
            ],
            "text/html": [
              "\n",
              "  <div id=\"df-e9a0c25a-1c04-4b84-99bf-6096cc636102\" class=\"colab-df-container\">\n",
              "    <div>\n",
              "<style scoped>\n",
              "    .dataframe tbody tr th:only-of-type {\n",
              "        vertical-align: middle;\n",
              "    }\n",
              "\n",
              "    .dataframe tbody tr th {\n",
              "        vertical-align: top;\n",
              "    }\n",
              "\n",
              "    .dataframe thead th {\n",
              "        text-align: right;\n",
              "    }\n",
              "</style>\n",
              "<table border=\"1\" class=\"dataframe\">\n",
              "  <thead>\n",
              "    <tr style=\"text-align: right;\">\n",
              "      <th></th>\n",
              "      <th>Text</th>\n",
              "      <th>Sentiment</th>\n",
              "    </tr>\n",
              "  </thead>\n",
              "  <tbody>\n",
              "    <tr>\n",
              "      <th>0</th>\n",
              "      <td>@MeNyrbie @Phil_Gahan @Chrisitv https://t.co/i...</td>\n",
              "      <td>Neutral</td>\n",
              "    </tr>\n",
              "    <tr>\n",
              "      <th>1</th>\n",
              "      <td>advice Talk to your neighbours family to excha...</td>\n",
              "      <td>Positive</td>\n",
              "    </tr>\n",
              "    <tr>\n",
              "      <th>2</th>\n",
              "      <td>Coronavirus Australia: Woolworths to give elde...</td>\n",
              "      <td>Positive</td>\n",
              "    </tr>\n",
              "    <tr>\n",
              "      <th>3</th>\n",
              "      <td>My food stock is not the only one which is emp...</td>\n",
              "      <td>Positive</td>\n",
              "    </tr>\n",
              "    <tr>\n",
              "      <th>4</th>\n",
              "      <td>Me, ready to go at supermarket during the #COV...</td>\n",
              "      <td>Extremely Negative</td>\n",
              "    </tr>\n",
              "  </tbody>\n",
              "</table>\n",
              "</div>\n",
              "    <div class=\"colab-df-buttons\">\n",
              "\n",
              "  <div class=\"colab-df-container\">\n",
              "    <button class=\"colab-df-convert\" onclick=\"convertToInteractive('df-e9a0c25a-1c04-4b84-99bf-6096cc636102')\"\n",
              "            title=\"Convert this dataframe to an interactive table.\"\n",
              "            style=\"display:none;\">\n",
              "\n",
              "  <svg xmlns=\"http://www.w3.org/2000/svg\" height=\"24px\" viewBox=\"0 -960 960 960\">\n",
              "    <path d=\"M120-120v-720h720v720H120Zm60-500h600v-160H180v160Zm220 220h160v-160H400v160Zm0 220h160v-160H400v160ZM180-400h160v-160H180v160Zm440 0h160v-160H620v160ZM180-180h160v-160H180v160Zm440 0h160v-160H620v160Z\"/>\n",
              "  </svg>\n",
              "    </button>\n",
              "\n",
              "  <style>\n",
              "    .colab-df-container {\n",
              "      display:flex;\n",
              "      gap: 12px;\n",
              "    }\n",
              "\n",
              "    .colab-df-convert {\n",
              "      background-color: #E8F0FE;\n",
              "      border: none;\n",
              "      border-radius: 50%;\n",
              "      cursor: pointer;\n",
              "      display: none;\n",
              "      fill: #1967D2;\n",
              "      height: 32px;\n",
              "      padding: 0 0 0 0;\n",
              "      width: 32px;\n",
              "    }\n",
              "\n",
              "    .colab-df-convert:hover {\n",
              "      background-color: #E2EBFA;\n",
              "      box-shadow: 0px 1px 2px rgba(60, 64, 67, 0.3), 0px 1px 3px 1px rgba(60, 64, 67, 0.15);\n",
              "      fill: #174EA6;\n",
              "    }\n",
              "\n",
              "    .colab-df-buttons div {\n",
              "      margin-bottom: 4px;\n",
              "    }\n",
              "\n",
              "    [theme=dark] .colab-df-convert {\n",
              "      background-color: #3B4455;\n",
              "      fill: #D2E3FC;\n",
              "    }\n",
              "\n",
              "    [theme=dark] .colab-df-convert:hover {\n",
              "      background-color: #434B5C;\n",
              "      box-shadow: 0px 1px 3px 1px rgba(0, 0, 0, 0.15);\n",
              "      filter: drop-shadow(0px 1px 2px rgba(0, 0, 0, 0.3));\n",
              "      fill: #FFFFFF;\n",
              "    }\n",
              "  </style>\n",
              "\n",
              "    <script>\n",
              "      const buttonEl =\n",
              "        document.querySelector('#df-e9a0c25a-1c04-4b84-99bf-6096cc636102 button.colab-df-convert');\n",
              "      buttonEl.style.display =\n",
              "        google.colab.kernel.accessAllowed ? 'block' : 'none';\n",
              "\n",
              "      async function convertToInteractive(key) {\n",
              "        const element = document.querySelector('#df-e9a0c25a-1c04-4b84-99bf-6096cc636102');\n",
              "        const dataTable =\n",
              "          await google.colab.kernel.invokeFunction('convertToInteractive',\n",
              "                                                    [key], {});\n",
              "        if (!dataTable) return;\n",
              "\n",
              "        const docLinkHtml = 'Like what you see? Visit the ' +\n",
              "          '<a target=\"_blank\" href=https://colab.research.google.com/notebooks/data_table.ipynb>data table notebook</a>'\n",
              "          + ' to learn more about interactive tables.';\n",
              "        element.innerHTML = '';\n",
              "        dataTable['output_type'] = 'display_data';\n",
              "        await google.colab.output.renderOutput(dataTable, element);\n",
              "        const docLink = document.createElement('div');\n",
              "        docLink.innerHTML = docLinkHtml;\n",
              "        element.appendChild(docLink);\n",
              "      }\n",
              "    </script>\n",
              "  </div>\n",
              "\n",
              "\n",
              "<div id=\"df-3d37f7e3-6a05-4525-b641-4162455616a9\">\n",
              "  <button class=\"colab-df-quickchart\" onclick=\"quickchart('df-3d37f7e3-6a05-4525-b641-4162455616a9')\"\n",
              "            title=\"Suggest charts.\"\n",
              "            style=\"display:none;\">\n",
              "\n",
              "<svg xmlns=\"http://www.w3.org/2000/svg\" height=\"24px\"viewBox=\"0 0 24 24\"\n",
              "     width=\"24px\">\n",
              "    <g>\n",
              "        <path d=\"M19 3H5c-1.1 0-2 .9-2 2v14c0 1.1.9 2 2 2h14c1.1 0 2-.9 2-2V5c0-1.1-.9-2-2-2zM9 17H7v-7h2v7zm4 0h-2V7h2v10zm4 0h-2v-4h2v4z\"/>\n",
              "    </g>\n",
              "</svg>\n",
              "  </button>\n",
              "\n",
              "<style>\n",
              "  .colab-df-quickchart {\n",
              "      --bg-color: #E8F0FE;\n",
              "      --fill-color: #1967D2;\n",
              "      --hover-bg-color: #E2EBFA;\n",
              "      --hover-fill-color: #174EA6;\n",
              "      --disabled-fill-color: #AAA;\n",
              "      --disabled-bg-color: #DDD;\n",
              "  }\n",
              "\n",
              "  [theme=dark] .colab-df-quickchart {\n",
              "      --bg-color: #3B4455;\n",
              "      --fill-color: #D2E3FC;\n",
              "      --hover-bg-color: #434B5C;\n",
              "      --hover-fill-color: #FFFFFF;\n",
              "      --disabled-bg-color: #3B4455;\n",
              "      --disabled-fill-color: #666;\n",
              "  }\n",
              "\n",
              "  .colab-df-quickchart {\n",
              "    background-color: var(--bg-color);\n",
              "    border: none;\n",
              "    border-radius: 50%;\n",
              "    cursor: pointer;\n",
              "    display: none;\n",
              "    fill: var(--fill-color);\n",
              "    height: 32px;\n",
              "    padding: 0;\n",
              "    width: 32px;\n",
              "  }\n",
              "\n",
              "  .colab-df-quickchart:hover {\n",
              "    background-color: var(--hover-bg-color);\n",
              "    box-shadow: 0 1px 2px rgba(60, 64, 67, 0.3), 0 1px 3px 1px rgba(60, 64, 67, 0.15);\n",
              "    fill: var(--button-hover-fill-color);\n",
              "  }\n",
              "\n",
              "  .colab-df-quickchart-complete:disabled,\n",
              "  .colab-df-quickchart-complete:disabled:hover {\n",
              "    background-color: var(--disabled-bg-color);\n",
              "    fill: var(--disabled-fill-color);\n",
              "    box-shadow: none;\n",
              "  }\n",
              "\n",
              "  .colab-df-spinner {\n",
              "    border: 2px solid var(--fill-color);\n",
              "    border-color: transparent;\n",
              "    border-bottom-color: var(--fill-color);\n",
              "    animation:\n",
              "      spin 1s steps(1) infinite;\n",
              "  }\n",
              "\n",
              "  @keyframes spin {\n",
              "    0% {\n",
              "      border-color: transparent;\n",
              "      border-bottom-color: var(--fill-color);\n",
              "      border-left-color: var(--fill-color);\n",
              "    }\n",
              "    20% {\n",
              "      border-color: transparent;\n",
              "      border-left-color: var(--fill-color);\n",
              "      border-top-color: var(--fill-color);\n",
              "    }\n",
              "    30% {\n",
              "      border-color: transparent;\n",
              "      border-left-color: var(--fill-color);\n",
              "      border-top-color: var(--fill-color);\n",
              "      border-right-color: var(--fill-color);\n",
              "    }\n",
              "    40% {\n",
              "      border-color: transparent;\n",
              "      border-right-color: var(--fill-color);\n",
              "      border-top-color: var(--fill-color);\n",
              "    }\n",
              "    60% {\n",
              "      border-color: transparent;\n",
              "      border-right-color: var(--fill-color);\n",
              "    }\n",
              "    80% {\n",
              "      border-color: transparent;\n",
              "      border-right-color: var(--fill-color);\n",
              "      border-bottom-color: var(--fill-color);\n",
              "    }\n",
              "    90% {\n",
              "      border-color: transparent;\n",
              "      border-bottom-color: var(--fill-color);\n",
              "    }\n",
              "  }\n",
              "</style>\n",
              "\n",
              "  <script>\n",
              "    async function quickchart(key) {\n",
              "      const quickchartButtonEl =\n",
              "        document.querySelector('#' + key + ' button');\n",
              "      quickchartButtonEl.disabled = true;  // To prevent multiple clicks.\n",
              "      quickchartButtonEl.classList.add('colab-df-spinner');\n",
              "      try {\n",
              "        const charts = await google.colab.kernel.invokeFunction(\n",
              "            'suggestCharts', [key], {});\n",
              "      } catch (error) {\n",
              "        console.error('Error during call to suggestCharts:', error);\n",
              "      }\n",
              "      quickchartButtonEl.classList.remove('colab-df-spinner');\n",
              "      quickchartButtonEl.classList.add('colab-df-quickchart-complete');\n",
              "    }\n",
              "    (() => {\n",
              "      let quickchartButtonEl =\n",
              "        document.querySelector('#df-3d37f7e3-6a05-4525-b641-4162455616a9 button');\n",
              "      quickchartButtonEl.style.display =\n",
              "        google.colab.kernel.accessAllowed ? 'block' : 'none';\n",
              "    })();\n",
              "  </script>\n",
              "</div>\n",
              "    </div>\n",
              "  </div>\n"
            ]
          },
          "metadata": {},
          "execution_count": 6
        }
      ],
      "source": [
        "# train dataset\n",
        "main_ds.head()"
      ]
    },
    {
      "cell_type": "code",
      "execution_count": null,
      "metadata": {
        "colab": {
          "base_uri": "https://localhost:8080/",
          "height": 36
        },
        "id": "kYzlm71HQ6jL",
        "outputId": "bf76a17a-cd3b-4938-f110-dff91f81aeb2"
      },
      "outputs": [
        {
          "output_type": "execute_result",
          "data": {
            "text/plain": [
              "'Food Depot located in Baltimore Maryland is jacking up the prices on food tissue and toilet paper In most states price gouging during a time of emergency is considered a violation of unfair or deceptive trade practices law'"
            ],
            "application/vnd.google.colaboratory.intrinsic+json": {
              "type": "string"
            }
          },
          "metadata": {},
          "execution_count": 7
        }
      ],
      "source": [
        "main_ds.sample(1).Text.tolist()[0]"
      ]
    },
    {
      "cell_type": "code",
      "execution_count": null,
      "metadata": {
        "colab": {
          "base_uri": "https://localhost:8080/"
        },
        "id": "mYtKAqx3R-hG",
        "outputId": "87d703a9-9309-4517-f353-edffbc3f7559"
      },
      "outputs": [
        {
          "output_type": "execute_result",
          "data": {
            "text/plain": [
              "Positive              11422\n",
              "Negative               9917\n",
              "Neutral                7711\n",
              "Extremely Positive     6624\n",
              "Extremely Negative     5481\n",
              "Name: Sentiment, dtype: int64"
            ]
          },
          "metadata": {},
          "execution_count": 8
        }
      ],
      "source": [
        "# train dataset Sentiment.value_counts()\n",
        "main_ds.Sentiment.value_counts()"
      ]
    },
    {
      "cell_type": "code",
      "execution_count": null,
      "metadata": {
        "colab": {
          "base_uri": "https://localhost:8080/",
          "height": 206
        },
        "id": "AQQORH0nR-hK",
        "outputId": "823b7546-ab57-4b2d-8146-82c91a64887f"
      },
      "outputs": [
        {
          "output_type": "execute_result",
          "data": {
            "text/plain": [
              "                                                Text           Sentiment\n",
              "0  @MeNyrbie @Phil_Gahan @Chrisitv https://t.co/i...             Neutral\n",
              "1  advice Talk to your neighbours family to excha...            Positive\n",
              "2  Coronavirus Australia: Woolworths to give elde...            Positive\n",
              "3  My food stock is not the only one which is emp...            Positive\n",
              "4  Me, ready to go at supermarket during the #COV...  Extremely Negative"
            ],
            "text/html": [
              "\n",
              "  <div id=\"df-3bdb2efc-1d58-47b9-bd4c-36dda5aad8e6\" class=\"colab-df-container\">\n",
              "    <div>\n",
              "<style scoped>\n",
              "    .dataframe tbody tr th:only-of-type {\n",
              "        vertical-align: middle;\n",
              "    }\n",
              "\n",
              "    .dataframe tbody tr th {\n",
              "        vertical-align: top;\n",
              "    }\n",
              "\n",
              "    .dataframe thead th {\n",
              "        text-align: right;\n",
              "    }\n",
              "</style>\n",
              "<table border=\"1\" class=\"dataframe\">\n",
              "  <thead>\n",
              "    <tr style=\"text-align: right;\">\n",
              "      <th></th>\n",
              "      <th>Text</th>\n",
              "      <th>Sentiment</th>\n",
              "    </tr>\n",
              "  </thead>\n",
              "  <tbody>\n",
              "    <tr>\n",
              "      <th>0</th>\n",
              "      <td>@MeNyrbie @Phil_Gahan @Chrisitv https://t.co/i...</td>\n",
              "      <td>Neutral</td>\n",
              "    </tr>\n",
              "    <tr>\n",
              "      <th>1</th>\n",
              "      <td>advice Talk to your neighbours family to excha...</td>\n",
              "      <td>Positive</td>\n",
              "    </tr>\n",
              "    <tr>\n",
              "      <th>2</th>\n",
              "      <td>Coronavirus Australia: Woolworths to give elde...</td>\n",
              "      <td>Positive</td>\n",
              "    </tr>\n",
              "    <tr>\n",
              "      <th>3</th>\n",
              "      <td>My food stock is not the only one which is emp...</td>\n",
              "      <td>Positive</td>\n",
              "    </tr>\n",
              "    <tr>\n",
              "      <th>4</th>\n",
              "      <td>Me, ready to go at supermarket during the #COV...</td>\n",
              "      <td>Extremely Negative</td>\n",
              "    </tr>\n",
              "  </tbody>\n",
              "</table>\n",
              "</div>\n",
              "    <div class=\"colab-df-buttons\">\n",
              "\n",
              "  <div class=\"colab-df-container\">\n",
              "    <button class=\"colab-df-convert\" onclick=\"convertToInteractive('df-3bdb2efc-1d58-47b9-bd4c-36dda5aad8e6')\"\n",
              "            title=\"Convert this dataframe to an interactive table.\"\n",
              "            style=\"display:none;\">\n",
              "\n",
              "  <svg xmlns=\"http://www.w3.org/2000/svg\" height=\"24px\" viewBox=\"0 -960 960 960\">\n",
              "    <path d=\"M120-120v-720h720v720H120Zm60-500h600v-160H180v160Zm220 220h160v-160H400v160Zm0 220h160v-160H400v160ZM180-400h160v-160H180v160Zm440 0h160v-160H620v160ZM180-180h160v-160H180v160Zm440 0h160v-160H620v160Z\"/>\n",
              "  </svg>\n",
              "    </button>\n",
              "\n",
              "  <style>\n",
              "    .colab-df-container {\n",
              "      display:flex;\n",
              "      gap: 12px;\n",
              "    }\n",
              "\n",
              "    .colab-df-convert {\n",
              "      background-color: #E8F0FE;\n",
              "      border: none;\n",
              "      border-radius: 50%;\n",
              "      cursor: pointer;\n",
              "      display: none;\n",
              "      fill: #1967D2;\n",
              "      height: 32px;\n",
              "      padding: 0 0 0 0;\n",
              "      width: 32px;\n",
              "    }\n",
              "\n",
              "    .colab-df-convert:hover {\n",
              "      background-color: #E2EBFA;\n",
              "      box-shadow: 0px 1px 2px rgba(60, 64, 67, 0.3), 0px 1px 3px 1px rgba(60, 64, 67, 0.15);\n",
              "      fill: #174EA6;\n",
              "    }\n",
              "\n",
              "    .colab-df-buttons div {\n",
              "      margin-bottom: 4px;\n",
              "    }\n",
              "\n",
              "    [theme=dark] .colab-df-convert {\n",
              "      background-color: #3B4455;\n",
              "      fill: #D2E3FC;\n",
              "    }\n",
              "\n",
              "    [theme=dark] .colab-df-convert:hover {\n",
              "      background-color: #434B5C;\n",
              "      box-shadow: 0px 1px 3px 1px rgba(0, 0, 0, 0.15);\n",
              "      filter: drop-shadow(0px 1px 2px rgba(0, 0, 0, 0.3));\n",
              "      fill: #FFFFFF;\n",
              "    }\n",
              "  </style>\n",
              "\n",
              "    <script>\n",
              "      const buttonEl =\n",
              "        document.querySelector('#df-3bdb2efc-1d58-47b9-bd4c-36dda5aad8e6 button.colab-df-convert');\n",
              "      buttonEl.style.display =\n",
              "        google.colab.kernel.accessAllowed ? 'block' : 'none';\n",
              "\n",
              "      async function convertToInteractive(key) {\n",
              "        const element = document.querySelector('#df-3bdb2efc-1d58-47b9-bd4c-36dda5aad8e6');\n",
              "        const dataTable =\n",
              "          await google.colab.kernel.invokeFunction('convertToInteractive',\n",
              "                                                    [key], {});\n",
              "        if (!dataTable) return;\n",
              "\n",
              "        const docLinkHtml = 'Like what you see? Visit the ' +\n",
              "          '<a target=\"_blank\" href=https://colab.research.google.com/notebooks/data_table.ipynb>data table notebook</a>'\n",
              "          + ' to learn more about interactive tables.';\n",
              "        element.innerHTML = '';\n",
              "        dataTable['output_type'] = 'display_data';\n",
              "        await google.colab.output.renderOutput(dataTable, element);\n",
              "        const docLink = document.createElement('div');\n",
              "        docLink.innerHTML = docLinkHtml;\n",
              "        element.appendChild(docLink);\n",
              "      }\n",
              "    </script>\n",
              "  </div>\n",
              "\n",
              "\n",
              "<div id=\"df-c18c3fd4-72ec-422b-9f9e-1c085b5992d9\">\n",
              "  <button class=\"colab-df-quickchart\" onclick=\"quickchart('df-c18c3fd4-72ec-422b-9f9e-1c085b5992d9')\"\n",
              "            title=\"Suggest charts.\"\n",
              "            style=\"display:none;\">\n",
              "\n",
              "<svg xmlns=\"http://www.w3.org/2000/svg\" height=\"24px\"viewBox=\"0 0 24 24\"\n",
              "     width=\"24px\">\n",
              "    <g>\n",
              "        <path d=\"M19 3H5c-1.1 0-2 .9-2 2v14c0 1.1.9 2 2 2h14c1.1 0 2-.9 2-2V5c0-1.1-.9-2-2-2zM9 17H7v-7h2v7zm4 0h-2V7h2v10zm4 0h-2v-4h2v4z\"/>\n",
              "    </g>\n",
              "</svg>\n",
              "  </button>\n",
              "\n",
              "<style>\n",
              "  .colab-df-quickchart {\n",
              "      --bg-color: #E8F0FE;\n",
              "      --fill-color: #1967D2;\n",
              "      --hover-bg-color: #E2EBFA;\n",
              "      --hover-fill-color: #174EA6;\n",
              "      --disabled-fill-color: #AAA;\n",
              "      --disabled-bg-color: #DDD;\n",
              "  }\n",
              "\n",
              "  [theme=dark] .colab-df-quickchart {\n",
              "      --bg-color: #3B4455;\n",
              "      --fill-color: #D2E3FC;\n",
              "      --hover-bg-color: #434B5C;\n",
              "      --hover-fill-color: #FFFFFF;\n",
              "      --disabled-bg-color: #3B4455;\n",
              "      --disabled-fill-color: #666;\n",
              "  }\n",
              "\n",
              "  .colab-df-quickchart {\n",
              "    background-color: var(--bg-color);\n",
              "    border: none;\n",
              "    border-radius: 50%;\n",
              "    cursor: pointer;\n",
              "    display: none;\n",
              "    fill: var(--fill-color);\n",
              "    height: 32px;\n",
              "    padding: 0;\n",
              "    width: 32px;\n",
              "  }\n",
              "\n",
              "  .colab-df-quickchart:hover {\n",
              "    background-color: var(--hover-bg-color);\n",
              "    box-shadow: 0 1px 2px rgba(60, 64, 67, 0.3), 0 1px 3px 1px rgba(60, 64, 67, 0.15);\n",
              "    fill: var(--button-hover-fill-color);\n",
              "  }\n",
              "\n",
              "  .colab-df-quickchart-complete:disabled,\n",
              "  .colab-df-quickchart-complete:disabled:hover {\n",
              "    background-color: var(--disabled-bg-color);\n",
              "    fill: var(--disabled-fill-color);\n",
              "    box-shadow: none;\n",
              "  }\n",
              "\n",
              "  .colab-df-spinner {\n",
              "    border: 2px solid var(--fill-color);\n",
              "    border-color: transparent;\n",
              "    border-bottom-color: var(--fill-color);\n",
              "    animation:\n",
              "      spin 1s steps(1) infinite;\n",
              "  }\n",
              "\n",
              "  @keyframes spin {\n",
              "    0% {\n",
              "      border-color: transparent;\n",
              "      border-bottom-color: var(--fill-color);\n",
              "      border-left-color: var(--fill-color);\n",
              "    }\n",
              "    20% {\n",
              "      border-color: transparent;\n",
              "      border-left-color: var(--fill-color);\n",
              "      border-top-color: var(--fill-color);\n",
              "    }\n",
              "    30% {\n",
              "      border-color: transparent;\n",
              "      border-left-color: var(--fill-color);\n",
              "      border-top-color: var(--fill-color);\n",
              "      border-right-color: var(--fill-color);\n",
              "    }\n",
              "    40% {\n",
              "      border-color: transparent;\n",
              "      border-right-color: var(--fill-color);\n",
              "      border-top-color: var(--fill-color);\n",
              "    }\n",
              "    60% {\n",
              "      border-color: transparent;\n",
              "      border-right-color: var(--fill-color);\n",
              "    }\n",
              "    80% {\n",
              "      border-color: transparent;\n",
              "      border-right-color: var(--fill-color);\n",
              "      border-bottom-color: var(--fill-color);\n",
              "    }\n",
              "    90% {\n",
              "      border-color: transparent;\n",
              "      border-bottom-color: var(--fill-color);\n",
              "    }\n",
              "  }\n",
              "</style>\n",
              "\n",
              "  <script>\n",
              "    async function quickchart(key) {\n",
              "      const quickchartButtonEl =\n",
              "        document.querySelector('#' + key + ' button');\n",
              "      quickchartButtonEl.disabled = true;  // To prevent multiple clicks.\n",
              "      quickchartButtonEl.classList.add('colab-df-spinner');\n",
              "      try {\n",
              "        const charts = await google.colab.kernel.invokeFunction(\n",
              "            'suggestCharts', [key], {});\n",
              "      } catch (error) {\n",
              "        console.error('Error during call to suggestCharts:', error);\n",
              "      }\n",
              "      quickchartButtonEl.classList.remove('colab-df-spinner');\n",
              "      quickchartButtonEl.classList.add('colab-df-quickchart-complete');\n",
              "    }\n",
              "    (() => {\n",
              "      let quickchartButtonEl =\n",
              "        document.querySelector('#df-c18c3fd4-72ec-422b-9f9e-1c085b5992d9 button');\n",
              "      quickchartButtonEl.style.display =\n",
              "        google.colab.kernel.accessAllowed ? 'block' : 'none';\n",
              "    })();\n",
              "  </script>\n",
              "</div>\n",
              "    </div>\n",
              "  </div>\n"
            ]
          },
          "metadata": {},
          "execution_count": 9
        }
      ],
      "source": [
        "# test dataset\n",
        "main_ds.head()"
      ]
    },
    {
      "cell_type": "code",
      "execution_count": null,
      "metadata": {
        "colab": {
          "base_uri": "https://localhost:8080/",
          "height": 261
        },
        "id": "fQEZiMM5R-hO",
        "outputId": "06b5d7ad-b977-499e-a4bd-5543dedf3e2f"
      },
      "outputs": [
        {
          "output_type": "stream",
          "name": "stdout",
          "text": [
            "Neutral    3798\n",
            "Name: Sentiment, dtype: int64\n",
            "\n"
          ]
        },
        {
          "output_type": "execute_result",
          "data": {
            "text/plain": [
              "                                     id Sentiment\n",
              "0  787bc85b-20d4-46d8-84a0-562a2527f684   Neutral\n",
              "1  17e934cd-ba94-4d4f-9ac0-ead202abe241   Neutral\n",
              "2  5914534b-2b0f-4de8-bb8a-e25587697e0d   Neutral\n",
              "3  cdf06cfe-29ae-48ee-ac6d-be448103ba45   Neutral\n",
              "4  aff63979-0256-4fb9-a2d9-86a3d3ca5470   Neutral"
            ],
            "text/html": [
              "\n",
              "  <div id=\"df-7fe5b25d-b96c-4682-8faf-ef6c14ceec0b\" class=\"colab-df-container\">\n",
              "    <div>\n",
              "<style scoped>\n",
              "    .dataframe tbody tr th:only-of-type {\n",
              "        vertical-align: middle;\n",
              "    }\n",
              "\n",
              "    .dataframe tbody tr th {\n",
              "        vertical-align: top;\n",
              "    }\n",
              "\n",
              "    .dataframe thead th {\n",
              "        text-align: right;\n",
              "    }\n",
              "</style>\n",
              "<table border=\"1\" class=\"dataframe\">\n",
              "  <thead>\n",
              "    <tr style=\"text-align: right;\">\n",
              "      <th></th>\n",
              "      <th>id</th>\n",
              "      <th>Sentiment</th>\n",
              "    </tr>\n",
              "  </thead>\n",
              "  <tbody>\n",
              "    <tr>\n",
              "      <th>0</th>\n",
              "      <td>787bc85b-20d4-46d8-84a0-562a2527f684</td>\n",
              "      <td>Neutral</td>\n",
              "    </tr>\n",
              "    <tr>\n",
              "      <th>1</th>\n",
              "      <td>17e934cd-ba94-4d4f-9ac0-ead202abe241</td>\n",
              "      <td>Neutral</td>\n",
              "    </tr>\n",
              "    <tr>\n",
              "      <th>2</th>\n",
              "      <td>5914534b-2b0f-4de8-bb8a-e25587697e0d</td>\n",
              "      <td>Neutral</td>\n",
              "    </tr>\n",
              "    <tr>\n",
              "      <th>3</th>\n",
              "      <td>cdf06cfe-29ae-48ee-ac6d-be448103ba45</td>\n",
              "      <td>Neutral</td>\n",
              "    </tr>\n",
              "    <tr>\n",
              "      <th>4</th>\n",
              "      <td>aff63979-0256-4fb9-a2d9-86a3d3ca5470</td>\n",
              "      <td>Neutral</td>\n",
              "    </tr>\n",
              "  </tbody>\n",
              "</table>\n",
              "</div>\n",
              "    <div class=\"colab-df-buttons\">\n",
              "\n",
              "  <div class=\"colab-df-container\">\n",
              "    <button class=\"colab-df-convert\" onclick=\"convertToInteractive('df-7fe5b25d-b96c-4682-8faf-ef6c14ceec0b')\"\n",
              "            title=\"Convert this dataframe to an interactive table.\"\n",
              "            style=\"display:none;\">\n",
              "\n",
              "  <svg xmlns=\"http://www.w3.org/2000/svg\" height=\"24px\" viewBox=\"0 -960 960 960\">\n",
              "    <path d=\"M120-120v-720h720v720H120Zm60-500h600v-160H180v160Zm220 220h160v-160H400v160Zm0 220h160v-160H400v160ZM180-400h160v-160H180v160Zm440 0h160v-160H620v160ZM180-180h160v-160H180v160Zm440 0h160v-160H620v160Z\"/>\n",
              "  </svg>\n",
              "    </button>\n",
              "\n",
              "  <style>\n",
              "    .colab-df-container {\n",
              "      display:flex;\n",
              "      gap: 12px;\n",
              "    }\n",
              "\n",
              "    .colab-df-convert {\n",
              "      background-color: #E8F0FE;\n",
              "      border: none;\n",
              "      border-radius: 50%;\n",
              "      cursor: pointer;\n",
              "      display: none;\n",
              "      fill: #1967D2;\n",
              "      height: 32px;\n",
              "      padding: 0 0 0 0;\n",
              "      width: 32px;\n",
              "    }\n",
              "\n",
              "    .colab-df-convert:hover {\n",
              "      background-color: #E2EBFA;\n",
              "      box-shadow: 0px 1px 2px rgba(60, 64, 67, 0.3), 0px 1px 3px 1px rgba(60, 64, 67, 0.15);\n",
              "      fill: #174EA6;\n",
              "    }\n",
              "\n",
              "    .colab-df-buttons div {\n",
              "      margin-bottom: 4px;\n",
              "    }\n",
              "\n",
              "    [theme=dark] .colab-df-convert {\n",
              "      background-color: #3B4455;\n",
              "      fill: #D2E3FC;\n",
              "    }\n",
              "\n",
              "    [theme=dark] .colab-df-convert:hover {\n",
              "      background-color: #434B5C;\n",
              "      box-shadow: 0px 1px 3px 1px rgba(0, 0, 0, 0.15);\n",
              "      filter: drop-shadow(0px 1px 2px rgba(0, 0, 0, 0.3));\n",
              "      fill: #FFFFFF;\n",
              "    }\n",
              "  </style>\n",
              "\n",
              "    <script>\n",
              "      const buttonEl =\n",
              "        document.querySelector('#df-7fe5b25d-b96c-4682-8faf-ef6c14ceec0b button.colab-df-convert');\n",
              "      buttonEl.style.display =\n",
              "        google.colab.kernel.accessAllowed ? 'block' : 'none';\n",
              "\n",
              "      async function convertToInteractive(key) {\n",
              "        const element = document.querySelector('#df-7fe5b25d-b96c-4682-8faf-ef6c14ceec0b');\n",
              "        const dataTable =\n",
              "          await google.colab.kernel.invokeFunction('convertToInteractive',\n",
              "                                                    [key], {});\n",
              "        if (!dataTable) return;\n",
              "\n",
              "        const docLinkHtml = 'Like what you see? Visit the ' +\n",
              "          '<a target=\"_blank\" href=https://colab.research.google.com/notebooks/data_table.ipynb>data table notebook</a>'\n",
              "          + ' to learn more about interactive tables.';\n",
              "        element.innerHTML = '';\n",
              "        dataTable['output_type'] = 'display_data';\n",
              "        await google.colab.output.renderOutput(dataTable, element);\n",
              "        const docLink = document.createElement('div');\n",
              "        docLink.innerHTML = docLinkHtml;\n",
              "        element.appendChild(docLink);\n",
              "      }\n",
              "    </script>\n",
              "  </div>\n",
              "\n",
              "\n",
              "<div id=\"df-a9567c5f-cfce-4ff6-b724-36962ba8e666\">\n",
              "  <button class=\"colab-df-quickchart\" onclick=\"quickchart('df-a9567c5f-cfce-4ff6-b724-36962ba8e666')\"\n",
              "            title=\"Suggest charts.\"\n",
              "            style=\"display:none;\">\n",
              "\n",
              "<svg xmlns=\"http://www.w3.org/2000/svg\" height=\"24px\"viewBox=\"0 0 24 24\"\n",
              "     width=\"24px\">\n",
              "    <g>\n",
              "        <path d=\"M19 3H5c-1.1 0-2 .9-2 2v14c0 1.1.9 2 2 2h14c1.1 0 2-.9 2-2V5c0-1.1-.9-2-2-2zM9 17H7v-7h2v7zm4 0h-2V7h2v10zm4 0h-2v-4h2v4z\"/>\n",
              "    </g>\n",
              "</svg>\n",
              "  </button>\n",
              "\n",
              "<style>\n",
              "  .colab-df-quickchart {\n",
              "      --bg-color: #E8F0FE;\n",
              "      --fill-color: #1967D2;\n",
              "      --hover-bg-color: #E2EBFA;\n",
              "      --hover-fill-color: #174EA6;\n",
              "      --disabled-fill-color: #AAA;\n",
              "      --disabled-bg-color: #DDD;\n",
              "  }\n",
              "\n",
              "  [theme=dark] .colab-df-quickchart {\n",
              "      --bg-color: #3B4455;\n",
              "      --fill-color: #D2E3FC;\n",
              "      --hover-bg-color: #434B5C;\n",
              "      --hover-fill-color: #FFFFFF;\n",
              "      --disabled-bg-color: #3B4455;\n",
              "      --disabled-fill-color: #666;\n",
              "  }\n",
              "\n",
              "  .colab-df-quickchart {\n",
              "    background-color: var(--bg-color);\n",
              "    border: none;\n",
              "    border-radius: 50%;\n",
              "    cursor: pointer;\n",
              "    display: none;\n",
              "    fill: var(--fill-color);\n",
              "    height: 32px;\n",
              "    padding: 0;\n",
              "    width: 32px;\n",
              "  }\n",
              "\n",
              "  .colab-df-quickchart:hover {\n",
              "    background-color: var(--hover-bg-color);\n",
              "    box-shadow: 0 1px 2px rgba(60, 64, 67, 0.3), 0 1px 3px 1px rgba(60, 64, 67, 0.15);\n",
              "    fill: var(--button-hover-fill-color);\n",
              "  }\n",
              "\n",
              "  .colab-df-quickchart-complete:disabled,\n",
              "  .colab-df-quickchart-complete:disabled:hover {\n",
              "    background-color: var(--disabled-bg-color);\n",
              "    fill: var(--disabled-fill-color);\n",
              "    box-shadow: none;\n",
              "  }\n",
              "\n",
              "  .colab-df-spinner {\n",
              "    border: 2px solid var(--fill-color);\n",
              "    border-color: transparent;\n",
              "    border-bottom-color: var(--fill-color);\n",
              "    animation:\n",
              "      spin 1s steps(1) infinite;\n",
              "  }\n",
              "\n",
              "  @keyframes spin {\n",
              "    0% {\n",
              "      border-color: transparent;\n",
              "      border-bottom-color: var(--fill-color);\n",
              "      border-left-color: var(--fill-color);\n",
              "    }\n",
              "    20% {\n",
              "      border-color: transparent;\n",
              "      border-left-color: var(--fill-color);\n",
              "      border-top-color: var(--fill-color);\n",
              "    }\n",
              "    30% {\n",
              "      border-color: transparent;\n",
              "      border-left-color: var(--fill-color);\n",
              "      border-top-color: var(--fill-color);\n",
              "      border-right-color: var(--fill-color);\n",
              "    }\n",
              "    40% {\n",
              "      border-color: transparent;\n",
              "      border-right-color: var(--fill-color);\n",
              "      border-top-color: var(--fill-color);\n",
              "    }\n",
              "    60% {\n",
              "      border-color: transparent;\n",
              "      border-right-color: var(--fill-color);\n",
              "    }\n",
              "    80% {\n",
              "      border-color: transparent;\n",
              "      border-right-color: var(--fill-color);\n",
              "      border-bottom-color: var(--fill-color);\n",
              "    }\n",
              "    90% {\n",
              "      border-color: transparent;\n",
              "      border-bottom-color: var(--fill-color);\n",
              "    }\n",
              "  }\n",
              "</style>\n",
              "\n",
              "  <script>\n",
              "    async function quickchart(key) {\n",
              "      const quickchartButtonEl =\n",
              "        document.querySelector('#' + key + ' button');\n",
              "      quickchartButtonEl.disabled = true;  // To prevent multiple clicks.\n",
              "      quickchartButtonEl.classList.add('colab-df-spinner');\n",
              "      try {\n",
              "        const charts = await google.colab.kernel.invokeFunction(\n",
              "            'suggestCharts', [key], {});\n",
              "      } catch (error) {\n",
              "        console.error('Error during call to suggestCharts:', error);\n",
              "      }\n",
              "      quickchartButtonEl.classList.remove('colab-df-spinner');\n",
              "      quickchartButtonEl.classList.add('colab-df-quickchart-complete');\n",
              "    }\n",
              "    (() => {\n",
              "      let quickchartButtonEl =\n",
              "        document.querySelector('#df-a9567c5f-cfce-4ff6-b724-36962ba8e666 button');\n",
              "      quickchartButtonEl.style.display =\n",
              "        google.colab.kernel.accessAllowed ? 'block' : 'none';\n",
              "    })();\n",
              "  </script>\n",
              "</div>\n",
              "    </div>\n",
              "  </div>\n"
            ]
          },
          "metadata": {},
          "execution_count": 10
        }
      ],
      "source": [
        "# sample_submission\n",
        "print(sample_submission.Sentiment.value_counts())\n",
        "print()\n",
        "sample_submission.head()\n"
      ]
    },
    {
      "cell_type": "markdown",
      "metadata": {
        "id": "SSVfhyaDR-hQ"
      },
      "source": [
        "## Импорты и константы"
      ]
    },
    {
      "cell_type": "code",
      "execution_count": null,
      "metadata": {
        "id": "mjtbtC5ZR-hS"
      },
      "outputs": [],
      "source": [
        "import time\n",
        "import re\n",
        "from tqdm import tqdm\n",
        "\n"
      ]
    },
    {
      "cell_type": "code",
      "execution_count": null,
      "metadata": {
        "colab": {
          "base_uri": "https://localhost:8080/"
        },
        "id": "M7oE1mTqR-hS",
        "outputId": "145a6e94-59f0-4fbb-b476-e3a48b156cc8"
      },
      "outputs": [
        {
          "output_type": "stream",
          "name": "stdout",
          "text": [
            "NUM_CLASSES = 5\n"
          ]
        }
      ],
      "source": [
        "NUM_CLASSES = len(main_ds.Sentiment.value_counts().index)\n",
        "print(f'NUM_CLASSES = {NUM_CLASSES}')\n"
      ]
    },
    {
      "cell_type": "markdown",
      "metadata": {
        "id": "_H5lfhb2Px19"
      },
      "source": [
        "## Чистка и предобработка"
      ]
    },
    {
      "cell_type": "code",
      "execution_count": null,
      "metadata": {
        "colab": {
          "base_uri": "https://localhost:8080/"
        },
        "id": "u1_Mm3DpR-hT",
        "outputId": "25f897e0-1667-417f-939b-417a241a79d2"
      },
      "outputs": [
        {
          "output_type": "execute_result",
          "data": {
            "text/plain": [
              "Text         1\n",
              "Sentiment    4\n",
              "dtype: int64"
            ]
          },
          "metadata": {},
          "execution_count": 13
        }
      ],
      "source": [
        "# пропуски\n",
        "main_ds.isna().sum()"
      ]
    },
    {
      "cell_type": "markdown",
      "metadata": {
        "id": "n0g7sS2SR-hT"
      },
      "source": [
        "Есть совсем немного (от 4 до 6) NaNов в 41159 строках. Проще от них избавиться."
      ]
    },
    {
      "cell_type": "code",
      "execution_count": null,
      "metadata": {
        "colab": {
          "base_uri": "https://localhost:8080/"
        },
        "id": "n2DtoYSwR-hU",
        "outputId": "c9b4dd07-059c-4e15-dac7-75f6c2198548"
      },
      "outputs": [
        {
          "output_type": "execute_result",
          "data": {
            "text/plain": [
              "Text         0\n",
              "Sentiment    0\n",
              "dtype: int64"
            ]
          },
          "metadata": {},
          "execution_count": 14
        }
      ],
      "source": [
        "# удаляем\n",
        "main_ds = main_ds.dropna()\n",
        "main_ds.isna().sum()"
      ]
    },
    {
      "cell_type": "markdown",
      "metadata": {
        "id": "pgM7mozzR-hW"
      },
      "source": [
        "## Есть ли баланс в данных?"
      ]
    },
    {
      "cell_type": "code",
      "execution_count": null,
      "metadata": {
        "colab": {
          "base_uri": "https://localhost:8080/",
          "height": 664
        },
        "id": "68f636ce",
        "outputId": "9c7bc3bd-6414-4469-8ea8-cc88b10915e5"
      },
      "outputs": [
        {
          "output_type": "stream",
          "name": "stdout",
          "text": [
            "Extremely Negative     5481\n",
            "Extremely Positive     6624\n",
            "Negative               9917\n",
            "Neutral                7711\n",
            "Positive              11422\n",
            "Name: Sentiment, dtype: int64\n"
          ]
        },
        {
          "output_type": "display_data",
          "data": {
            "text/plain": [
              "<Figure size 640x480 with 1 Axes>"
            ],
            "image/png": "[encoded data removed]"
          },
          "metadata": {}
        }
      ],
      "source": [
        "# давайте посмотрим распределение оценок\n",
        "import matplotlib.pyplot as plt\n",
        "%matplotlib inline\n",
        "# value_counts () - a command that allows you to calculate the number of unique values\n",
        "vc = main_ds.Sentiment.value_counts()\n",
        "vc = vc.sort_index()\n",
        "print(vc)\n",
        "vc.plot(kind='bar');"
      ]
    },
    {
      "cell_type": "markdown",
      "metadata": {
        "id": "NIy5iGkOR-hW"
      },
      "source": [
        "Самый частый класс больше самого редкого в два раза. Пока как есть пробуем.\n",
        "\n",
        "На следующем этаме можно добавить аугментацию"
      ]
    },
    {
      "cell_type": "markdown",
      "metadata": {
        "id": "YvkcKteQs3NX"
      },
      "source": [
        "Посмотрим на длину текстов."
      ]
    },
    {
      "cell_type": "code",
      "execution_count": null,
      "metadata": {
        "colab": {
          "base_uri": "https://localhost:8080/",
          "height": 433
        },
        "id": "0hE7Ktaf-T2h",
        "outputId": "6a3bcf91-3f03-4fc0-d946-390247a3ca93"
      },
      "outputs": [
        {
          "output_type": "display_data",
          "data": {
            "text/plain": [
              "<Figure size 640x480 with 1 Axes>"
            ],
            "image/png": "[encoded data removed]"
          },
          "metadata": {}
        }
      ],
      "source": [
        "lens = main_ds.Text.apply(lambda s: len(s))\n",
        "lens.plot.hist(bins=50);"
      ]
    },
    {
      "cell_type": "code",
      "execution_count": null,
      "metadata": {
        "colab": {
          "base_uri": "https://localhost:8080/"
        },
        "id": "wmQeBsIB_LAl",
        "outputId": "169a8678-9c97-497b-de93-0eaef4345803"
      },
      "outputs": [
        {
          "output_type": "execute_result",
          "data": {
            "text/plain": [
              "(300.0, 355)"
            ]
          },
          "metadata": {},
          "execution_count": 17
        }
      ],
      "source": [
        "lens.quantile(0.95), max(lens)"
      ]
    },
    {
      "cell_type": "code",
      "execution_count": null,
      "metadata": {
        "colab": {
          "base_uri": "https://localhost:8080/",
          "height": 433
        },
        "id": "cQm2NaVDs3NY",
        "outputId": "c8506422-cd51-4580-9087-ed8657085495"
      },
      "outputs": [
        {
          "output_type": "display_data",
          "data": {
            "text/plain": [
              "<Figure size 640x480 with 1 Axes>"
            ],
            "image/png": "[encoded data removed]"
          },
          "metadata": {}
        }
      ],
      "source": [
        "lens = main_ds.Text.apply(lambda s: len(s))\n",
        "lens.plot.hist(bins=50);"
      ]
    },
    {
      "cell_type": "code",
      "execution_count": null,
      "metadata": {
        "colab": {
          "base_uri": "https://localhost:8080/"
        },
        "id": "n4GKgiS0s3NY",
        "outputId": "b4382c47-3d0f-417d-e8e5-e0492827f052"
      },
      "outputs": [
        {
          "output_type": "execute_result",
          "data": {
            "text/plain": [
              "(300.0, 355)"
            ]
          },
          "metadata": {},
          "execution_count": 19
        }
      ],
      "source": [
        "lens.quantile(0.95), max(lens)"
      ]
    },
    {
      "cell_type": "markdown",
      "metadata": {
        "id": "mJwZvG9XsJfH"
      },
      "source": [
        "# Sentences cleaning"
      ]
    },
    {
      "cell_type": "markdown",
      "metadata": {
        "id": "zdMZJVrjyGoZ"
      },
      "source": [
        "Подберем то, что мы очищаем в данных"
      ]
    },
    {
      "cell_type": "markdown",
      "metadata": {
        "id": "c_nHJFHq0GYQ"
      },
      "source": [
        "## abbreviaturs clearning"
      ]
    },
    {
      "cell_type": "code",
      "execution_count": null,
      "metadata": {
        "id": "E4OgkDRxzajW"
      },
      "outputs": [],
      "source": [
        "# Thanks to https://www.kaggle.com/rftexas/text-only-kfold-bert\n",
        "abbreviations = {\n",
        "    \"Â\": \"'\",\n",
        "    \"$\" : \" dollar \",\n",
        "    \"€\" : \" euro \",\n",
        "    \"Â\" : \"\",\n",
        "    \"4ao\" : \"for adults only\",\n",
        "    \"a.m\" : \"before midday\",\n",
        "    \"a3\" : \"anytime anywhere anyplace\",\n",
        "    \"aamof\" : \"as a matter of fact\",\n",
        "    \"acct\" : \"account\",\n",
        "    \"adih\" : \"another day in hell\",\n",
        "    \"afaic\" : \"as far as i am concerned\",\n",
        "    \"afaict\" : \"as far as i can tell\",\n",
        "    \"afaik\" : \"as far as i know\",\n",
        "    \"afair\" : \"as far as i remember\",\n",
        "    \"afk\" : \"away from keyboard\",\n",
        "    \"app\" : \"application\",\n",
        "    \"approx\" : \"approximately\",\n",
        "    \"apps\" : \"applications\",\n",
        "    \"asap\" : \"as soon as possible\",\n",
        "    \"asl\" : \"age, sex, location\",\n",
        "    \"atk\" : \"at the keyboard\",\n",
        "    \"ave.\" : \"avenue\",\n",
        "    \"aymm\" : \"are you my mother\",\n",
        "    \"ayor\" : \"at your own risk\",\n",
        "    \"b&b\" : \"bed and breakfast\",\n",
        "    \"b+b\" : \"bed and breakfast\",\n",
        "    \"b.c\" : \"before christ\",\n",
        "    \"b2b\" : \"business to business\",\n",
        "    \"b2c\" : \"business to customer\",\n",
        "    \"b4\" : \"before\",\n",
        "    \"b4n\" : \"bye for now\",\n",
        "    \"b@u\" : \"back at you\",\n",
        "    \"bae\" : \"before anyone else\",\n",
        "    \"bak\" : \"back at keyboard\",\n",
        "    \"bbbg\" : \"bye bye be good\",\n",
        "    \"bbc\" : \"british broadcasting corporation\",\n",
        "    \"bbias\" : \"be back in a second\",\n",
        "    \"bbl\" : \"be back later\",\n",
        "    \"bbs\" : \"be back soon\",\n",
        "    \"be4\" : \"before\",\n",
        "    \"bfn\" : \"bye for now\",\n",
        "    \"blvd\" : \"boulevard\",\n",
        "    \"bout\" : \"about\",\n",
        "    \"brb\" : \"be right back\",\n",
        "    \"bros\" : \"brothers\",\n",
        "    \"brt\" : \"be right there\",\n",
        "    \"bsaaw\" : \"big smile and a wink\",\n",
        "    \"btw\" : \"by the way\",\n",
        "    \"bwl\" : \"bursting with laughter\",\n",
        "    \"c/o\" : \"care of\",\n",
        "    \"cet\" : \"central european time\",\n",
        "    \"cf\" : \"compare\",\n",
        "    \"cia\" : \"central intelligence agency\",\n",
        "    \"csl\" : \"can not stop laughing\",\n",
        "    \"cu\" : \"see you\",\n",
        "    \"cul8r\" : \"see you later\",\n",
        "    \"cv\" : \"curriculum vitae\",\n",
        "    \"cwot\" : \"complete waste of time\",\n",
        "    \"cya\" : \"see you\",\n",
        "    \"cyt\" : \"see you tomorrow\",\n",
        "    \"dae\" : \"does anyone else\",\n",
        "    \"dbmib\" : \"do not bother me i am busy\",\n",
        "    \"diy\" : \"do it yourself\",\n",
        "    \"dm\" : \"direct message\",\n",
        "    \"dwh\" : \"during work hours\",\n",
        "    \"e123\" : \"easy as one two three\",\n",
        "    \"eet\" : \"eastern european time\",\n",
        "    \"eg\" : \"example\",\n",
        "    \"embm\" : \"early morning business meeting\",\n",
        "    \"encl\" : \"enclosed\",\n",
        "    \"encl.\" : \"enclosed\",\n",
        "    \"etc\" : \"and so on\",\n",
        "    \"faq\" : \"frequently asked questions\",\n",
        "    \"fawc\" : \"for anyone who cares\",\n",
        "    \"fb\" : \"facebook\",\n",
        "    \"fc\" : \"fingers crossed\",\n",
        "    \"fig\" : \"figure\",\n",
        "    \"fimh\" : \"forever in my heart\",\n",
        "    \"ft.\" : \"feet\",\n",
        "    \"ft\" : \"featuring\",\n",
        "    \"ftl\" : \"for the loss\",\n",
        "    \"ftw\" : \"for the win\",\n",
        "    \"fwiw\" : \"for what it is worth\",\n",
        "    \"fyi\" : \"for your information\",\n",
        "    \"g9\" : \"genius\",\n",
        "    \"gahoy\" : \"get a hold of yourself\",\n",
        "    \"gal\" : \"get a life\",\n",
        "    \"gcse\" : \"general certificate of secondary education\",\n",
        "    \"gfn\" : \"gone for now\",\n",
        "    \"gg\" : \"good game\",\n",
        "    \"gl\" : \"good luck\",\n",
        "    \"glhf\" : \"good luck have fun\",\n",
        "    \"gmt\" : \"greenwich mean time\",\n",
        "    \"gmta\" : \"great minds think alike\",\n",
        "    \"gn\" : \"good night\",\n",
        "    \"g.o.a.t\" : \"greatest of all time\",\n",
        "    \"goat\" : \"greatest of all time\",\n",
        "    \"goi\" : \"get over it\",\n",
        "    \"gps\" : \"global positioning system\",\n",
        "    \"gr8\" : \"great\",\n",
        "    \"gratz\" : \"congratulations\",\n",
        "    \"gyal\" : \"girl\",\n",
        "    \"h&c\" : \"hot and cold\",\n",
        "    \"hp\" : \"horsepower\",\n",
        "    \"hr\" : \"hour\",\n",
        "    \"hrh\" : \"his royal highness\",\n",
        "    \"ht\" : \"height\",\n",
        "    \"ibrb\" : \"i will be right back\",\n",
        "    \"ic\" : \"i see\",\n",
        "    \"icq\" : \"i seek you\",\n",
        "    \"icymi\" : \"in case you missed it\",\n",
        "    \"idc\" : \"i do not care\",\n",
        "    \"idgadf\" : \"i do not give a damn fuck\",\n",
        "    \"idgaf\" : \"i do not give a fuck\",\n",
        "    \"idk\" : \"i do not know\",\n",
        "    \"ie\" : \"that is\",\n",
        "    \"i.e\" : \"that is\",\n",
        "    \"ifyp\" : \"i feel your pain\",\n",
        "    \"IG\" : \"instagram\",\n",
        "    \"iirc\" : \"if i remember correctly\",\n",
        "    \"ilu\" : \"i love you\",\n",
        "    \"ily\" : \"i love you\",\n",
        "    \"imho\" : \"in my humble opinion\",\n",
        "    \"imo\" : \"in my opinion\",\n",
        "    \"imu\" : \"i miss you\",\n",
        "    \"iow\" : \"in other words\",\n",
        "    \"irl\" : \"in real life\",\n",
        "    \"j4f\" : \"just for fun\",\n",
        "    \"jic\" : \"just in case\",\n",
        "    \"jk\" : \"just kidding\",\n",
        "    \"jsyk\" : \"just so you know\",\n",
        "    \"l8r\" : \"later\",\n",
        "    \"lb\" : \"pound\",\n",
        "    \"lbs\" : \"pounds\",\n",
        "    \"ldr\" : \"long distance relationship\",\n",
        "    \"lmao\" : \"laugh my ass off\",\n",
        "    \"lmfao\" : \"laugh my fucking ass off\",\n",
        "    \"lol\" : \"laughing out loud\",\n",
        "    \"ltd\" : \"limited\",\n",
        "    \"ltns\" : \"long time no see\",\n",
        "    \"m8\" : \"mate\",\n",
        "    \"mf\" : \"motherfucker\",\n",
        "    \"mfs\" : \"motherfuckers\",\n",
        "    \"mfw\" : \"my face when\",\n",
        "    \"mofo\" : \"motherfucker\",\n",
        "    \"mph\" : \"miles per hour\",\n",
        "    \"mr\" : \"mister\",\n",
        "    \"mrw\" : \"my reaction when\",\n",
        "    \"ms\" : \"miss\",\n",
        "    \"mte\" : \"my thoughts exactly\",\n",
        "    \"nagi\" : \"not a good idea\",\n",
        "    \"nbc\" : \"national broadcasting company\",\n",
        "    \"nbd\" : \"not big deal\",\n",
        "    \"nfs\" : \"not for sale\",\n",
        "    \"ngl\" : \"not going to lie\",\n",
        "    \"nhs\" : \"national health service\",\n",
        "    \"nrn\" : \"no reply necessary\",\n",
        "    \"nsfl\" : \"not safe for life\",\n",
        "    \"nsfw\" : \"not safe for work\",\n",
        "    \"nth\" : \"nice to have\",\n",
        "    \"nvr\" : \"never\",\n",
        "    \"nyc\" : \"new york city\",\n",
        "    \"oc\" : \"original content\",\n",
        "    \"og\" : \"original\",\n",
        "    \"ohp\" : \"overhead projector\",\n",
        "    \"oic\" : \"oh i see\",\n",
        "    \"omdb\" : \"over my dead body\",\n",
        "    \"omg\" : \"oh my god\",\n",
        "    \"omw\" : \"on my way\",\n",
        "    \"p.a\" : \"per annum\",\n",
        "    \"p.m\" : \"after midday\",\n",
        "    \"pm\" : \"prime minister\",\n",
        "    \"poc\" : \"people of color\",\n",
        "    \"pov\" : \"point of view\",\n",
        "    \"pp\" : \"pages\",\n",
        "    \"ppl\" : \"people\",\n",
        "    \"prw\" : \"parents are watching\",\n",
        "    \"ps\" : \"postscript\",\n",
        "    \"pt\" : \"point\",\n",
        "    \"ptb\" : \"please text back\",\n",
        "    \"pto\" : \"please turn over\",\n",
        "    \"qpsa\" : \"what happens\", #\"que pasa\",\n",
        "    \"ratchet\" : \"rude\",\n",
        "    \"rbtl\" : \"read between the lines\",\n",
        "    \"rlrt\" : \"real life retweet\",\n",
        "    \"rofl\" : \"rolling on the floor laughing\",\n",
        "    \"roflol\" : \"rolling on the floor laughing out loud\",\n",
        "    \"rotflmao\" : \"rolling on the floor laughing my ass off\",\n",
        "    \"rt\" : \"retweet\",\n",
        "    \"ruok\" : \"are you ok\",\n",
        "    \"sfw\" : \"safe for work\",\n",
        "    \"sk8\" : \"skate\",\n",
        "    \"smh\" : \"shake my head\",\n",
        "    \"sq\" : \"square\",\n",
        "    \"srsly\" : \"seriously\",\n",
        "    \"ssdd\" : \"same stuff different day\",\n",
        "    \"tbh\" : \"to be honest\",\n",
        "    \"tbs\" : \"tablespooful\",\n",
        "    \"tbsp\" : \"tablespooful\",\n",
        "    \"tfw\" : \"that feeling when\",\n",
        "    \"thks\" : \"thank you\",\n",
        "    \"tho\" : \"though\",\n",
        "    \"thx\" : \"thank you\",\n",
        "    \"tia\" : \"thanks in advance\",\n",
        "    \"til\" : \"today i learned\",\n",
        "    \"tl;dr\" : \"too long i did not read\",\n",
        "    \"tldr\" : \"too long i did not read\",\n",
        "    \"tmb\" : \"tweet me back\",\n",
        "    \"tntl\" : \"trying not to laugh\",\n",
        "    \"ttyl\" : \"talk to you later\",\n",
        "    \"u\" : \"you\",\n",
        "    \"u2\" : \"you too\",\n",
        "    \"u4e\" : \"yours for ever\",\n",
        "    \"utc\" : \"coordinated universal time\",\n",
        "    \"w/\" : \"with\",\n",
        "    \"w/o\" : \"without\",\n",
        "    \"w8\" : \"wait\",\n",
        "    \"wassup\" : \"what is up\",\n",
        "    \"wb\" : \"welcome back\",\n",
        "    \"wtf\" : \"what the fuck\",\n",
        "    \"wtg\" : \"way to go\",\n",
        "    \"wtpa\" : \"where the party at\",\n",
        "    \"wuf\" : \"where are you from\",\n",
        "    \"wuzup\" : \"what is up\",\n",
        "    \"wywh\" : \"wish you were here\",\n",
        "    \"yd\" : \"yard\",\n",
        "    \"ygtr\" : \"you got that right\",\n",
        "    \"ynk\" : \"you never know\",\n",
        "    \"zzz\" : \"sleeping bored and tired\",\n",
        "}"
      ]
    },
    {
      "cell_type": "code",
      "execution_count": null,
      "metadata": {
        "id": "X1oEiLPbreJG"
      },
      "outputs": [],
      "source": [
        "def convert_abbrev(text):\n",
        "    new_text = ''\n",
        "    for word in text.split():\n",
        "      if word.lower() in abbreviations.keys():\n",
        "        new_text += ' ' + word[0] + abbreviations[word.lower()][1:]\n",
        "      else:\n",
        "        new_text += ' ' + word\n",
        "    return ' '.join(new_text.split())"
      ]
    },
    {
      "cell_type": "code",
      "execution_count": null,
      "metadata": {
        "colab": {
          "base_uri": "https://localhost:8080/"
        },
        "id": "VTkFXQn70kpf",
        "outputId": "e4302022-d46d-4eb2-db2f-02d9af2bcb94"
      },
      "outputs": [
        {
          "output_type": "stream",
          "name": "stdout",
          "text": [
            "So ygtr now weÂre NOT supposed to go to the grocery store??  Really? Did I miss this before? #TrumpPressBriefing #COVID2019\n",
            "\n",
            "So you got that right now weÂre NOT supposed to go to the grocery store?? Really? Did I miss this before? #TrumpPressBriefing #COVID2019\n"
          ]
        }
      ],
      "source": [
        "#sentence = main_ds.sample().Text.values[0]\n",
        "sentence = \"So ygtr now weÂre NOT supposed to go to the grocery store??  Really? Did I miss this before? #TrumpPressBriefing #COVID2019\"\n",
        "print(sentence)\n",
        "print()\n",
        "sentence = convert_abbrev(sentence)\n",
        "print(sentence)"
      ]
    },
    {
      "cell_type": "markdown",
      "metadata": {
        "id": "G1J6V515Ay3E"
      },
      "source": [
        "## Phrases with apostrophes\n",
        "\n",
        "Словосочетания с апострофами в английском лушче раскрыть."
      ]
    },
    {
      "cell_type": "code",
      "execution_count": null,
      "metadata": {
        "id": "4NoMoZXyR-hZ"
      },
      "outputs": [],
      "source": [
        "contraction_dict = {\"ain't\": \"is not\",\n",
        "                    \"aren't\": \"are not\",\n",
        "                    \"can't\": \"can not\",\n",
        "                    \"'cause\": \"because\",\n",
        "                    \"could've\": \"could have\",\n",
        "                    \"couldn't\": \"could not\",\n",
        "                    \"didn't\": \"did not\",\n",
        "                    \"doesn't\": \"does not\",\n",
        "                    \"don't\": \"do not\",\n",
        "                    \"hadn't\": \"had not\",\n",
        "                    \"hasn't\": \"has not\",\n",
        "                    \"haven't\": \"have not\",\n",
        "                    \"he'd\": \"he would\",\n",
        "                    \"he'll\": \"he will\",\n",
        "                    \"he's\": \"he is\",\n",
        "                    \"how'd\": \"how did\",\n",
        "                    \"how'd'y\": \"how do you\",\n",
        "                    \"how'll\": \"how will\",\n",
        "                    \"how's\": \"how is\",\n",
        "                    \"I'd\": \"I would\",\n",
        "                    \"I'd've\": \"I would have\",\n",
        "                    \"I'll\": \"I will\",\n",
        "                    \"I'll've\": \"I will have\",\n",
        "                    \"I'm\": \"I am\",\n",
        "                    \"I've\": \"I have\",\n",
        "                    \"i'd\": \"i would\",\n",
        "                    \"i'd've\": \"i would have\",\n",
        "                    \"i'll\": \"i will\",\n",
        "                    \"i'll've\": \"i will have\",\n",
        "                    \"i'm\": \"i am\",\n",
        "                    \"i've\": \"i have\",\n",
        "                    \"isn't\": \"is not\",\n",
        "                    \"it'd\": \"it would\",\n",
        "                    \"it'd've\": \"it would have\",\n",
        "                    \"it'll\": \"it will\",\n",
        "                    \"it'll've\": \"it will have\",\n",
        "                    \"it's\": \"it is\",\n",
        "                    \"let's\": \"let us\",\n",
        "                    \"ma'am\": \"madam\",\n",
        "                    \"mayn't\": \"may not\",\n",
        "                    \"might've\": \"might have\",\n",
        "                    \"mightn't\": \"might not\",\n",
        "                    \"mightn't've\": \"might not have\",\n",
        "                    \"must've\": \"must have\",\n",
        "                    \"mustn't\": \"must not\",\n",
        "                    \"mustn't've\": \"must not have\",\n",
        "                    \"needn't\": \"need not\",\n",
        "                    \"needn't've\": \"need not have\",\n",
        "                    \"o'clock\": \"of the clock\",\n",
        "                    \"oughtn't\": \"ought not\",\n",
        "                    \"oughtn't've\": \"ought not have\",\n",
        "                    \"shan't\": \"shall not\",\n",
        "                    \"sha'n't\": \"shall not\",\n",
        "                    \"shan't've\": \"shall not have\",\n",
        "                    \"she'd\": \"she would\",\n",
        "                    \"she'd've\": \"she would have\",\n",
        "                    \"she'll\": \"she will\",\n",
        "                    \"she'll've\": \"she will have\",\n",
        "                    \"she's\": \"she is\",\n",
        "                    \"should've\": \"should have\",\n",
        "                    \"shouldn't\": \"should not\",\n",
        "                    \"shouldn't've\": \"should not have\",\n",
        "                    \"so've\": \"so have\",\n",
        "                    \"so's\": \"so as\",\n",
        "                    \"this's\": \"this is\",\n",
        "                    \"that'd\": \"that would\",\n",
        "                    \"that'd've\": \"that would have\",\n",
        "                    \"that's\": \"that is\",\n",
        "                    \"there'd\": \"there would\",\n",
        "                    \"there'd've\": \"there would have\",\n",
        "                    \"there's\": \"there is\",\n",
        "                    \"here's\": \"here is\",\n",
        "                    \"they'd\": \"they would\",\n",
        "                    \"they'd've\": \"they would have\",\n",
        "                    \"they'll\": \"they will\",\n",
        "                    \"they'll've\": \"they will have\",\n",
        "                    \"they're\": \"they are\",\n",
        "                    \"they've\": \"they have\",\n",
        "                    \"to've\": \"to have\",\n",
        "                    \"wasn't\": \"was not\",\n",
        "                    \"we'd\": \"we would\",\n",
        "                    \"we'd've\": \"we would have\",\n",
        "                    \"we'll\": \"we will\",\n",
        "                    \"we'll've\": \"we will have\",\n",
        "                    \"we're\": \"we are\",\n",
        "                    \"we've\": \"we have\",\n",
        "                    \"weren't\": \"were not\",\n",
        "                    \"what'll\": \"what will\",\n",
        "                    \"what'll've\": \"what will have\",\n",
        "                    \"what're\": \"what are\",\n",
        "                    \"what's\": \"what is\",\n",
        "                    \"what've\": \"what have\",\n",
        "                    \"when's\": \"when is\",\n",
        "                    \"when've\": \"when have\",\n",
        "                    \"where'd\": \"where did\",\n",
        "                    \"where's\": \"where is\",\n",
        "                    \"where've\": \"where have\",\n",
        "                    \"who'll\": \"who will\",\n",
        "                    \"who'll've\": \"who will have\",\n",
        "                    \"who's\": \"who is\",\n",
        "                    \"who've\": \"who have\",\n",
        "                    \"why's\": \"why is\",\n",
        "                    \"why've\": \"why have\",\n",
        "                    \"will've\": \"will have\",\n",
        "                    \"won't\": \"will not\",\n",
        "                    \"won't've\": \"will not have\",\n",
        "                    \"would've\": \"would have\",\n",
        "                    \"wouldn't\": \"would not\",\n",
        "                    \"wouldn't've\": \"would not have\",\n",
        "                    \"y'all\": \"you all\",\n",
        "                    \"y'all'd\": \"you all would\",\n",
        "                    \"y'all'd've\": \"you all would have\",\n",
        "                    \"y'all're\": \"you all are\",\n",
        "                    \"y'all've\": \"you all have\",\n",
        "                    \"you'd\": \"you would\",\n",
        "                    \"you'd've\": \"you would have\",\n",
        "                    \"you'll\": \"you will\",\n",
        "                    \"you'll've\": \"you will have\",\n",
        "                    \"you're\": \"you are\",\n",
        "                    \"you've\": \"you have\"}"
      ]
    },
    {
      "cell_type": "code",
      "execution_count": null,
      "metadata": {
        "id": "sDuI2IPipqRX"
      },
      "outputs": [],
      "source": [
        "def convert_contractions(text):\n",
        "    new_text = ''\n",
        "    for word in text.split():\n",
        "      if word.lower() in contraction_dict.keys():\n",
        "        new_text += ' ' + word[0] + contraction_dict[word.lower()][1:]\n",
        "      else:\n",
        "        new_text += ' ' + word\n",
        "    return ' '.join(new_text.split())"
      ]
    },
    {
      "cell_type": "code",
      "source": [
        "sentence = \"We're running as much product as we can, harvesting as many chickens as we can, (and) we are working Saturdays if we have the supply\" #\n",
        "print(sentence)\n",
        "print()\n",
        "print(convert_contractions(sentence))"
      ],
      "metadata": {
        "colab": {
          "base_uri": "https://localhost:8080/"
        },
        "id": "U3G3OJv3adQ8",
        "outputId": "971b9e9e-d6f6-4c59-922d-7ee3f2342c14"
      },
      "execution_count": null,
      "outputs": [
        {
          "output_type": "stream",
          "name": "stdout",
          "text": [
            "We're running as much product as we can, harvesting as many chickens as we can, (and) we are working Saturdays if we have the supply\n",
            "\n",
            "We are running as much product as we can, harvesting as many chickens as we can, (and) we are working Saturdays if we have the supply\n"
          ]
        }
      ]
    },
    {
      "cell_type": "markdown",
      "metadata": {
        "id": "yodlzh8iDiI4"
      },
      "source": [
        "##Convert Emojis"
      ]
    },
    {
      "cell_type": "code",
      "source": [
        "!pip install demoji -q"
      ],
      "metadata": {
        "colab": {
          "base_uri": "https://localhost:8080/"
        },
        "id": "oE---zs8hU-C",
        "outputId": "59d4f9e0-b3c3-4316-ac1a-90489d184f1e"
      },
      "execution_count": null,
      "outputs": [
        {
          "output_type": "stream",
          "name": "stdout",
          "text": [
            "\u001b[?25l     \u001b[90m━━━━━━━━━━━━━━━━━━━━━━━━━━━━━━━━━━━━━━━━\u001b[0m \u001b[32m0.0/42.9 kB\u001b[0m \u001b[31m?\u001b[0m eta \u001b[36m-:--:--\u001b[0m\r\u001b[2K     \u001b[90m━━━━━━━━━━━━━━━━━━━━━━━━━━━━━━━━━━━━━━━━\u001b[0m \u001b[32m42.9/42.9 kB\u001b[0m \u001b[31m1.1 MB/s\u001b[0m eta \u001b[36m0:00:00\u001b[0m\n",
            "\u001b[?25h"
          ]
        }
      ]
    },
    {
      "cell_type": "code",
      "source": [
        "import demoji\n",
        "\n",
        "demoji.download_codes()"
      ],
      "metadata": {
        "id": "ukGDqs9ig6Yb"
      },
      "execution_count": null,
      "outputs": []
    },
    {
      "cell_type": "code",
      "source": [
        "#converting Emojis\n",
        "def convert_emoji(text):\n",
        "  new_text = ''\n",
        "  for word in text.split():\n",
        "    emj = demoji.findall_list(word)\n",
        "    if len(emj):\n",
        "      new_text+=' ' + ''.join((c +' ') for c in emj)\n",
        "    else: new_text+=' ' +word\n",
        "  return new_text"
      ],
      "metadata": {
        "id": "1U5hGpNvkdlp"
      },
      "execution_count": null,
      "outputs": []
    },
    {
      "cell_type": "code",
      "execution_count": null,
      "metadata": {
        "colab": {
          "base_uri": "https://localhost:8080/"
        },
        "outputId": "a338e80c-81e8-477c-a258-68e75f6e9adb",
        "id": "i8Tda7TalmCu"
      },
      "outputs": [
        {
          "output_type": "stream",
          "name": "stdout",
          "text": [
            "@Nigella_Lawson Feeling very angry after going to the supermarket and also seeing images of our most vulnerable. Wrote this: ÂThe old man wasn't sure what to do.Â https://t.co/Kz3M7tbsFn #COVID19 #coronavirus https://t.co/AAlPv2heeL😀-🙏\n",
            "\n",
            " @Nigella_Lawson Feeling very angry after going to the supermarket and also seeing images of our most vulnerable. Wrote this: ÂThe old man wasn't sure what to do.Â https://t.co/Kz3M7tbsFn #COVID19 #coronavirus grinning face folded hands \n"
          ]
        }
      ],
      "source": [
        "sentence = main_ds.sample().Text.values[0] + \"\\U0001F600-\\U0001F64F\"\n",
        "print(sentence)\n",
        "print()\n",
        "print(convert_emoji(sentence))"
      ]
    },
    {
      "cell_type": "markdown",
      "metadata": {
        "id": "e3j54en9IQil"
      },
      "source": [
        "## Remove special characters"
      ]
    },
    {
      "cell_type": "code",
      "source": [
        "import string\n",
        "from bs4 import BeautifulSoup\n",
        "#Removing the html strips\n",
        "def strip_html(text):\n",
        "    soup = BeautifulSoup(text, \"html.parser\")\n",
        "    return soup.get_text()\n",
        "\n",
        "#Removing the square brackets\n",
        "def remove_between_square_brackets(text):\n",
        "    return re.sub('\\[[^]]*\\]', '', text)\n",
        "\n",
        "#Removing punctuations\n",
        "def remove_punct(text):\n",
        "    table=str.maketrans('','',string.punctuation)\n",
        "    return text.translate(table)\n",
        "\n",
        "#Removing URL\n",
        "def remove_URL(text):\n",
        "    url = re.compile(r'https?://\\S+|www\\.\\S+')\n",
        "    return url.sub(r'',text)\n",
        "\n",
        "#Removing the noisy text\n",
        "def denoise_text(text):\n",
        "    text = remove_URL(text)\n",
        "    text = remove_between_square_brackets(text)\n",
        "    text = remove_punct(text)\n",
        "    return text"
      ],
      "metadata": {
        "id": "_4Mxm5O_e3Jc"
      },
      "execution_count": null,
      "outputs": []
    },
    {
      "cell_type": "code",
      "execution_count": null,
      "metadata": {
        "colab": {
          "base_uri": "https://localhost:8080/"
        },
        "id": "9MKHz5sZH1Sd",
        "outputId": "9037ff25-237a-4ac9-e979-db8bc444757b"
      },
      "outputs": [
        {
          "output_type": "stream",
          "name": "stdout",
          "text": [
            "No matter how bad it gets, no one wants Âdude wipesÂ. People using napkins and sandpaper. #coronavirus #COVID2019 #dudewipes #ToiletPaperPanic #toiletpaper https://t.co/fS4Sywiue8\n",
            "\n",
            "No matter how bad it gets no one wants Âdude wipesÂ People using napkins and sandpaper coronavirus COVID2019 dudewipes ToiletPaperPanic toiletpaper \n"
          ]
        }
      ],
      "source": [
        "sentence = main_ds.sample().Text.values[0]\n",
        "print(sentence)\n",
        "print()\n",
        "print(denoise_text(sentence))"
      ]
    },
    {
      "cell_type": "code",
      "execution_count": null,
      "metadata": {
        "id": "DHqVGecvsJfJ"
      },
      "outputs": [],
      "source": [
        "def remove_special_characters(text, remove_digits=True):\n",
        "    text = re.sub('http://\\S+|https://\\S+|www.\\S+|\\n|#|\\r', '', text)\n",
        "    pattern = r'[^a-zA-z0-9\\s]' if not remove_digits else r'[^a-zA-z\\s]'\n",
        "    text = re.sub(pattern, '', text)\n",
        "    return text.strip()"
      ]
    },
    {
      "cell_type": "code",
      "execution_count": null,
      "metadata": {
        "colab": {
          "base_uri": "https://localhost:8080/",
          "height": 73
        },
        "id": "pDHbbjCQIEjS",
        "outputId": "26116440-c911-45a6-81b5-11c39eeefb26"
      },
      "outputs": [
        {
          "output_type": "stream",
          "name": "stdout",
          "text": [
            "No matter how bad it gets, no one wants Âdude wipesÂ. People using napkins and sandpaper. #coronavirus #COVID2019 #dudewipes #ToiletPaperPanic #toiletpaper https://t.co/fS4Sywiue8\n",
            "\n"
          ]
        },
        {
          "output_type": "execute_result",
          "data": {
            "text/plain": [
              "'No matter how bad it gets no one wants dude wipes People using napkins and sandpaper coronavirus COVID dudewipes ToiletPaperPanic toiletpaper'"
            ],
            "application/vnd.google.colaboratory.intrinsic+json": {
              "type": "string"
            }
          },
          "metadata": {},
          "execution_count": 33
        }
      ],
      "source": [
        "print(sentence)\n",
        "print()\n",
        "remove_special_characters(sentence)"
      ]
    },
    {
      "cell_type": "code",
      "source": [
        "def convert2several_words(text):\n",
        "  return \"\".join((\" \" + w if (w.isupper() and i) else w) for i, w in enumerate(text))#.strip().split() #' '.join(w for w in re.findall('[A-Z][^A-Z]*', text))"
      ],
      "metadata": {
        "id": "WiT0lm0ydt94"
      },
      "execution_count": null,
      "outputs": []
    },
    {
      "cell_type": "code",
      "source": [
        "def convert2several_words(text):\n",
        "  new_text = ''\n",
        "  for word in text.split():\n",
        "    if not word.isupper():\n",
        "      word = \"\".join((\" \" + w if (w.isupper() and i) else w) for i, w in enumerate(word))\n",
        "      new_text+= \" \" + word\n",
        "    else:\n",
        "      new_text+=' '+word\n",
        "  return ' '.join(new_text.split())"
      ],
      "metadata": {
        "id": "1dG-WWncgudv"
      },
      "execution_count": null,
      "outputs": []
    },
    {
      "cell_type": "code",
      "source": [
        "sentence = 'With apologies this is that Talkwalker post consumer trends for content in coronavirus times DigitalMarketing'\n",
        "convert2several_words(sentence)"
      ],
      "metadata": {
        "colab": {
          "base_uri": "https://localhost:8080/",
          "height": 36
        },
        "id": "ZFdwp7NweOXY",
        "outputId": "24f59567-7b40-4e84-d6a8-582f0bc5cdd6"
      },
      "execution_count": null,
      "outputs": [
        {
          "output_type": "execute_result",
          "data": {
            "text/plain": [
              "'With apologies this is that Talkwalker post consumer trends for content in coronavirus times Digital Marketing'"
            ],
            "application/vnd.google.colaboratory.intrinsic+json": {
              "type": "string"
            }
          },
          "metadata": {},
          "execution_count": 36
        }
      ]
    },
    {
      "cell_type": "markdown",
      "metadata": {
        "id": "2sH1gnQ-J56E"
      },
      "source": [
        "## Mix clearing"
      ]
    },
    {
      "cell_type": "code",
      "execution_count": null,
      "metadata": {
        "id": "watwR6GaNa4w"
      },
      "outputs": [],
      "source": [
        "#Collect all functions\n",
        "def clean_text(text):\n",
        "    text = remove_URL(text)\n",
        "    text = convert_emoji(text)\n",
        "    text = convert_abbrev(text)\n",
        "    text = convert_contractions(text)\n",
        "    text = convert2several_words(text)\n",
        "    text = denoise_text(text)\n",
        "    ext = remove_special_characters(text)\n",
        "    #text = remove_stopwords(text)\n",
        "    return ' '.join(text.split())"
      ]
    },
    {
      "cell_type": "code",
      "execution_count": null,
      "metadata": {
        "colab": {
          "base_uri": "https://localhost:8080/"
        },
        "id": "mxDZnXTuKpq_",
        "outputId": "bc39e179-9fbf-4219-d01e-43f47cd7ff2e"
      },
      "outputs": [
        {
          "output_type": "stream",
          "name": "stdout",
          "text": [
            "Surge in Online Shopping Drives Major Increase in Themed Fraud Attempts Full article from\n",
            "\n",
            "Surge in Online Shopping Drives Major Increase in Themed Fraud Attempts Full article from\n"
          ]
        }
      ],
      "source": [
        "sentence = main_ds.sample().Text.values[0]\n",
        "print(sentence)\n",
        "print()\n",
        "print(clean_text(sentence))"
      ]
    },
    {
      "cell_type": "code",
      "execution_count": null,
      "metadata": {
        "colab": {
          "base_uri": "https://localhost:8080/",
          "height": 206
        },
        "id": "oBhMGdXxMte4",
        "outputId": "f527112d-5ea5-4a00-977a-b116792f7e3f"
      },
      "outputs": [
        {
          "output_type": "execute_result",
          "data": {
            "text/plain": [
              "                                                Text           Sentiment  \\\n",
              "0  @MeNyrbie @Phil_Gahan @Chrisitv https://t.co/i...             Neutral   \n",
              "1  advice Talk to your neighbours family to excha...            Positive   \n",
              "2  Coronavirus Australia: Woolworths to give elde...            Positive   \n",
              "3  My food stock is not the only one which is emp...            Positive   \n",
              "4  Me, ready to go at supermarket during the #COV...  Extremely Negative   \n",
              "\n",
              "                                          Text_clean  \n",
              "0              Me Nyrbie Phil Gahan Chrisitv and and  \n",
              "1  advice Talk to your neighbours family to excha...  \n",
              "2  Coronavirus Australia Woolworths to give elder...  \n",
              "3  My food stock is not the only one which is emp...  \n",
              "4  Me ready to go at supermarket during the COVID...  "
            ],
            "text/html": [
              "\n",
              "  <div id=\"df-4a885cfb-14d9-4199-a841-de486a5cb8a9\" class=\"colab-df-container\">\n",
              "    <div>\n",
              "<style scoped>\n",
              "    .dataframe tbody tr th:only-of-type {\n",
              "        vertical-align: middle;\n",
              "    }\n",
              "\n",
              "    .dataframe tbody tr th {\n",
              "        vertical-align: top;\n",
              "    }\n",
              "\n",
              "    .dataframe thead th {\n",
              "        text-align: right;\n",
              "    }\n",
              "</style>\n",
              "<table border=\"1\" class=\"dataframe\">\n",
              "  <thead>\n",
              "    <tr style=\"text-align: right;\">\n",
              "      <th></th>\n",
              "      <th>Text</th>\n",
              "      <th>Sentiment</th>\n",
              "      <th>Text_clean</th>\n",
              "    </tr>\n",
              "  </thead>\n",
              "  <tbody>\n",
              "    <tr>\n",
              "      <th>0</th>\n",
              "      <td>@MeNyrbie @Phil_Gahan @Chrisitv https://t.co/i...</td>\n",
              "      <td>Neutral</td>\n",
              "      <td>Me Nyrbie Phil Gahan Chrisitv and and</td>\n",
              "    </tr>\n",
              "    <tr>\n",
              "      <th>1</th>\n",
              "      <td>advice Talk to your neighbours family to excha...</td>\n",
              "      <td>Positive</td>\n",
              "      <td>advice Talk to your neighbours family to excha...</td>\n",
              "    </tr>\n",
              "    <tr>\n",
              "      <th>2</th>\n",
              "      <td>Coronavirus Australia: Woolworths to give elde...</td>\n",
              "      <td>Positive</td>\n",
              "      <td>Coronavirus Australia Woolworths to give elder...</td>\n",
              "    </tr>\n",
              "    <tr>\n",
              "      <th>3</th>\n",
              "      <td>My food stock is not the only one which is emp...</td>\n",
              "      <td>Positive</td>\n",
              "      <td>My food stock is not the only one which is emp...</td>\n",
              "    </tr>\n",
              "    <tr>\n",
              "      <th>4</th>\n",
              "      <td>Me, ready to go at supermarket during the #COV...</td>\n",
              "      <td>Extremely Negative</td>\n",
              "      <td>Me ready to go at supermarket during the COVID...</td>\n",
              "    </tr>\n",
              "  </tbody>\n",
              "</table>\n",
              "</div>\n",
              "    <div class=\"colab-df-buttons\">\n",
              "\n",
              "  <div class=\"colab-df-container\">\n",
              "    <button class=\"colab-df-convert\" onclick=\"convertToInteractive('df-4a885cfb-14d9-4199-a841-de486a5cb8a9')\"\n",
              "            title=\"Convert this dataframe to an interactive table.\"\n",
              "            style=\"display:none;\">\n",
              "\n",
              "  <svg xmlns=\"http://www.w3.org/2000/svg\" height=\"24px\" viewBox=\"0 -960 960 960\">\n",
              "    <path d=\"M120-120v-720h720v720H120Zm60-500h600v-160H180v160Zm220 220h160v-160H400v160Zm0 220h160v-160H400v160ZM180-400h160v-160H180v160Zm440 0h160v-160H620v160ZM180-180h160v-160H180v160Zm440 0h160v-160H620v160Z\"/>\n",
              "  </svg>\n",
              "    </button>\n",
              "\n",
              "  <style>\n",
              "    .colab-df-container {\n",
              "      display:flex;\n",
              "      gap: 12px;\n",
              "    }\n",
              "\n",
              "    .colab-df-convert {\n",
              "      background-color: #E8F0FE;\n",
              "      border: none;\n",
              "      border-radius: 50%;\n",
              "      cursor: pointer;\n",
              "      display: none;\n",
              "      fill: #1967D2;\n",
              "      height: 32px;\n",
              "      padding: 0 0 0 0;\n",
              "      width: 32px;\n",
              "    }\n",
              "\n",
              "    .colab-df-convert:hover {\n",
              "      background-color: #E2EBFA;\n",
              "      box-shadow: 0px 1px 2px rgba(60, 64, 67, 0.3), 0px 1px 3px 1px rgba(60, 64, 67, 0.15);\n",
              "      fill: #174EA6;\n",
              "    }\n",
              "\n",
              "    .colab-df-buttons div {\n",
              "      margin-bottom: 4px;\n",
              "    }\n",
              "\n",
              "    [theme=dark] .colab-df-convert {\n",
              "      background-color: #3B4455;\n",
              "      fill: #D2E3FC;\n",
              "    }\n",
              "\n",
              "    [theme=dark] .colab-df-convert:hover {\n",
              "      background-color: #434B5C;\n",
              "      box-shadow: 0px 1px 3px 1px rgba(0, 0, 0, 0.15);\n",
              "      filter: drop-shadow(0px 1px 2px rgba(0, 0, 0, 0.3));\n",
              "      fill: #FFFFFF;\n",
              "    }\n",
              "  </style>\n",
              "\n",
              "    <script>\n",
              "      const buttonEl =\n",
              "        document.querySelector('#df-4a885cfb-14d9-4199-a841-de486a5cb8a9 button.colab-df-convert');\n",
              "      buttonEl.style.display =\n",
              "        google.colab.kernel.accessAllowed ? 'block' : 'none';\n",
              "\n",
              "      async function convertToInteractive(key) {\n",
              "        const element = document.querySelector('#df-4a885cfb-14d9-4199-a841-de486a5cb8a9');\n",
              "        const dataTable =\n",
              "          await google.colab.kernel.invokeFunction('convertToInteractive',\n",
              "                                                    [key], {});\n",
              "        if (!dataTable) return;\n",
              "\n",
              "        const docLinkHtml = 'Like what you see? Visit the ' +\n",
              "          '<a target=\"_blank\" href=https://colab.research.google.com/notebooks/data_table.ipynb>data table notebook</a>'\n",
              "          + ' to learn more about interactive tables.';\n",
              "        element.innerHTML = '';\n",
              "        dataTable['output_type'] = 'display_data';\n",
              "        await google.colab.output.renderOutput(dataTable, element);\n",
              "        const docLink = document.createElement('div');\n",
              "        docLink.innerHTML = docLinkHtml;\n",
              "        element.appendChild(docLink);\n",
              "      }\n",
              "    </script>\n",
              "  </div>\n",
              "\n",
              "\n",
              "<div id=\"df-ad986bc7-f792-494f-abd5-f97fc8badc81\">\n",
              "  <button class=\"colab-df-quickchart\" onclick=\"quickchart('df-ad986bc7-f792-494f-abd5-f97fc8badc81')\"\n",
              "            title=\"Suggest charts.\"\n",
              "            style=\"display:none;\">\n",
              "\n",
              "<svg xmlns=\"http://www.w3.org/2000/svg\" height=\"24px\"viewBox=\"0 0 24 24\"\n",
              "     width=\"24px\">\n",
              "    <g>\n",
              "        <path d=\"M19 3H5c-1.1 0-2 .9-2 2v14c0 1.1.9 2 2 2h14c1.1 0 2-.9 2-2V5c0-1.1-.9-2-2-2zM9 17H7v-7h2v7zm4 0h-2V7h2v10zm4 0h-2v-4h2v4z\"/>\n",
              "    </g>\n",
              "</svg>\n",
              "  </button>\n",
              "\n",
              "<style>\n",
              "  .colab-df-quickchart {\n",
              "      --bg-color: #E8F0FE;\n",
              "      --fill-color: #1967D2;\n",
              "      --hover-bg-color: #E2EBFA;\n",
              "      --hover-fill-color: #174EA6;\n",
              "      --disabled-fill-color: #AAA;\n",
              "      --disabled-bg-color: #DDD;\n",
              "  }\n",
              "\n",
              "  [theme=dark] .colab-df-quickchart {\n",
              "      --bg-color: #3B4455;\n",
              "      --fill-color: #D2E3FC;\n",
              "      --hover-bg-color: #434B5C;\n",
              "      --hover-fill-color: #FFFFFF;\n",
              "      --disabled-bg-color: #3B4455;\n",
              "      --disabled-fill-color: #666;\n",
              "  }\n",
              "\n",
              "  .colab-df-quickchart {\n",
              "    background-color: var(--bg-color);\n",
              "    border: none;\n",
              "    border-radius: 50%;\n",
              "    cursor: pointer;\n",
              "    display: none;\n",
              "    fill: var(--fill-color);\n",
              "    height: 32px;\n",
              "    padding: 0;\n",
              "    width: 32px;\n",
              "  }\n",
              "\n",
              "  .colab-df-quickchart:hover {\n",
              "    background-color: var(--hover-bg-color);\n",
              "    box-shadow: 0 1px 2px rgba(60, 64, 67, 0.3), 0 1px 3px 1px rgba(60, 64, 67, 0.15);\n",
              "    fill: var(--button-hover-fill-color);\n",
              "  }\n",
              "\n",
              "  .colab-df-quickchart-complete:disabled,\n",
              "  .colab-df-quickchart-complete:disabled:hover {\n",
              "    background-color: var(--disabled-bg-color);\n",
              "    fill: var(--disabled-fill-color);\n",
              "    box-shadow: none;\n",
              "  }\n",
              "\n",
              "  .colab-df-spinner {\n",
              "    border: 2px solid var(--fill-color);\n",
              "    border-color: transparent;\n",
              "    border-bottom-color: var(--fill-color);\n",
              "    animation:\n",
              "      spin 1s steps(1) infinite;\n",
              "  }\n",
              "\n",
              "  @keyframes spin {\n",
              "    0% {\n",
              "      border-color: transparent;\n",
              "      border-bottom-color: var(--fill-color);\n",
              "      border-left-color: var(--fill-color);\n",
              "    }\n",
              "    20% {\n",
              "      border-color: transparent;\n",
              "      border-left-color: var(--fill-color);\n",
              "      border-top-color: var(--fill-color);\n",
              "    }\n",
              "    30% {\n",
              "      border-color: transparent;\n",
              "      border-left-color: var(--fill-color);\n",
              "      border-top-color: var(--fill-color);\n",
              "      border-right-color: var(--fill-color);\n",
              "    }\n",
              "    40% {\n",
              "      border-color: transparent;\n",
              "      border-right-color: var(--fill-color);\n",
              "      border-top-color: var(--fill-color);\n",
              "    }\n",
              "    60% {\n",
              "      border-color: transparent;\n",
              "      border-right-color: var(--fill-color);\n",
              "    }\n",
              "    80% {\n",
              "      border-color: transparent;\n",
              "      border-right-color: var(--fill-color);\n",
              "      border-bottom-color: var(--fill-color);\n",
              "    }\n",
              "    90% {\n",
              "      border-color: transparent;\n",
              "      border-bottom-color: var(--fill-color);\n",
              "    }\n",
              "  }\n",
              "</style>\n",
              "\n",
              "  <script>\n",
              "    async function quickchart(key) {\n",
              "      const quickchartButtonEl =\n",
              "        document.querySelector('#' + key + ' button');\n",
              "      quickchartButtonEl.disabled = true;  // To prevent multiple clicks.\n",
              "      quickchartButtonEl.classList.add('colab-df-spinner');\n",
              "      try {\n",
              "        const charts = await google.colab.kernel.invokeFunction(\n",
              "            'suggestCharts', [key], {});\n",
              "      } catch (error) {\n",
              "        console.error('Error during call to suggestCharts:', error);\n",
              "      }\n",
              "      quickchartButtonEl.classList.remove('colab-df-spinner');\n",
              "      quickchartButtonEl.classList.add('colab-df-quickchart-complete');\n",
              "    }\n",
              "    (() => {\n",
              "      let quickchartButtonEl =\n",
              "        document.querySelector('#df-ad986bc7-f792-494f-abd5-f97fc8badc81 button');\n",
              "      quickchartButtonEl.style.display =\n",
              "        google.colab.kernel.accessAllowed ? 'block' : 'none';\n",
              "    })();\n",
              "  </script>\n",
              "</div>\n",
              "    </div>\n",
              "  </div>\n"
            ]
          },
          "metadata": {},
          "execution_count": 39
        }
      ],
      "source": [
        "%timeit\n",
        "main_ds['Text_clean'] = main_ds['Text'].apply(clean_text)\n",
        "test_ds['Text_clean'] = test_ds['Text'].apply(clean_text)\n",
        "main_ds.head()"
      ]
    },
    {
      "cell_type": "code",
      "source": [
        "main_ds.sample(10)"
      ],
      "metadata": {
        "colab": {
          "base_uri": "https://localhost:8080/",
          "height": 363
        },
        "id": "uRBEbAShqtlL",
        "outputId": "9e736be9-c6c3-443d-c974-a4e54cfb96ac"
      },
      "execution_count": null,
      "outputs": [
        {
          "output_type": "execute_result",
          "data": {
            "text/plain": [
              "                                                    Text           Sentiment  \\\n",
              "4155   Just went to the grocery store....let me tell ...             Neutral   \n",
              "12597  President Uhuru Kenyatta warned traders I e sh...            Negative   \n",
              "17392  Competition amp consumer law developments affe...             Neutral   \n",
              "9630   Instead of reassuring ourselves of our luxurie...  Extremely Positive   \n",
              "23058  Covid-19 coronavirus: Rotorua shoppers wear be...             Neutral   \n",
              "3933   staying home and shopping online?\\r\\r\\nFor a l...            Negative   \n",
              "7243   Sadly people are profiting from the #coronavir...            Negative   \n",
              "18306  A #coronavirus question, \\r\\r\\nWhat about chec...             Neutral   \n",
              "2525   Covid-19 induced panic buying from the U.S to ...            Negative   \n",
              "5831   My thanks to every person working in harms way...            Negative   \n",
              "\n",
              "                                              Text_clean  \n",
              "4155   Just went to the grocery storelet me tell you ...  \n",
              "12597  President Uhuru Kenyatta warned traders I e sh...  \n",
              "17392  Competition amp consumer law developments affe...  \n",
              "9630   Instead of reassuring ourselves of our luxurie...  \n",
              "23058  Covid19 coronavirus Rotorua shoppers wear beek...  \n",
              "3933   staying home and shopping online For a limited...  \n",
              "7243   Sadly people are profiting from the coronaviru...  \n",
              "18306  A coronavirus question What about checking you...  \n",
              "2525   Covid19 induced panic buying from the US to Fr...  \n",
              "5831   My thanks to every person working in harms way...  "
            ],
            "text/html": [
              "\n",
              "  <div id=\"df-0de8963d-6d1a-4e9b-9e0d-5e4f13d14e44\" class=\"colab-df-container\">\n",
              "    <div>\n",
              "<style scoped>\n",
              "    .dataframe tbody tr th:only-of-type {\n",
              "        vertical-align: middle;\n",
              "    }\n",
              "\n",
              "    .dataframe tbody tr th {\n",
              "        vertical-align: top;\n",
              "    }\n",
              "\n",
              "    .dataframe thead th {\n",
              "        text-align: right;\n",
              "    }\n",
              "</style>\n",
              "<table border=\"1\" class=\"dataframe\">\n",
              "  <thead>\n",
              "    <tr style=\"text-align: right;\">\n",
              "      <th></th>\n",
              "      <th>Text</th>\n",
              "      <th>Sentiment</th>\n",
              "      <th>Text_clean</th>\n",
              "    </tr>\n",
              "  </thead>\n",
              "  <tbody>\n",
              "    <tr>\n",
              "      <th>4155</th>\n",
              "      <td>Just went to the grocery store....let me tell ...</td>\n",
              "      <td>Neutral</td>\n",
              "      <td>Just went to the grocery storelet me tell you ...</td>\n",
              "    </tr>\n",
              "    <tr>\n",
              "      <th>12597</th>\n",
              "      <td>President Uhuru Kenyatta warned traders I e sh...</td>\n",
              "      <td>Negative</td>\n",
              "      <td>President Uhuru Kenyatta warned traders I e sh...</td>\n",
              "    </tr>\n",
              "    <tr>\n",
              "      <th>17392</th>\n",
              "      <td>Competition amp consumer law developments affe...</td>\n",
              "      <td>Neutral</td>\n",
              "      <td>Competition amp consumer law developments affe...</td>\n",
              "    </tr>\n",
              "    <tr>\n",
              "      <th>9630</th>\n",
              "      <td>Instead of reassuring ourselves of our luxurie...</td>\n",
              "      <td>Extremely Positive</td>\n",
              "      <td>Instead of reassuring ourselves of our luxurie...</td>\n",
              "    </tr>\n",
              "    <tr>\n",
              "      <th>23058</th>\n",
              "      <td>Covid-19 coronavirus: Rotorua shoppers wear be...</td>\n",
              "      <td>Neutral</td>\n",
              "      <td>Covid19 coronavirus Rotorua shoppers wear beek...</td>\n",
              "    </tr>\n",
              "    <tr>\n",
              "      <th>3933</th>\n",
              "      <td>staying home and shopping online?\\r\\r\\nFor a l...</td>\n",
              "      <td>Negative</td>\n",
              "      <td>staying home and shopping online For a limited...</td>\n",
              "    </tr>\n",
              "    <tr>\n",
              "      <th>7243</th>\n",
              "      <td>Sadly people are profiting from the #coronavir...</td>\n",
              "      <td>Negative</td>\n",
              "      <td>Sadly people are profiting from the coronaviru...</td>\n",
              "    </tr>\n",
              "    <tr>\n",
              "      <th>18306</th>\n",
              "      <td>A #coronavirus question, \\r\\r\\nWhat about chec...</td>\n",
              "      <td>Neutral</td>\n",
              "      <td>A coronavirus question What about checking you...</td>\n",
              "    </tr>\n",
              "    <tr>\n",
              "      <th>2525</th>\n",
              "      <td>Covid-19 induced panic buying from the U.S to ...</td>\n",
              "      <td>Negative</td>\n",
              "      <td>Covid19 induced panic buying from the US to Fr...</td>\n",
              "    </tr>\n",
              "    <tr>\n",
              "      <th>5831</th>\n",
              "      <td>My thanks to every person working in harms way...</td>\n",
              "      <td>Negative</td>\n",
              "      <td>My thanks to every person working in harms way...</td>\n",
              "    </tr>\n",
              "  </tbody>\n",
              "</table>\n",
              "</div>\n",
              "    <div class=\"colab-df-buttons\">\n",
              "\n",
              "  <div class=\"colab-df-container\">\n",
              "    <button class=\"colab-df-convert\" onclick=\"convertToInteractive('df-0de8963d-6d1a-4e9b-9e0d-5e4f13d14e44')\"\n",
              "            title=\"Convert this dataframe to an interactive table.\"\n",
              "            style=\"display:none;\">\n",
              "\n",
              "  <svg xmlns=\"http://www.w3.org/2000/svg\" height=\"24px\" viewBox=\"0 -960 960 960\">\n",
              "    <path d=\"M120-120v-720h720v720H120Zm60-500h600v-160H180v160Zm220 220h160v-160H400v160Zm0 220h160v-160H400v160ZM180-400h160v-160H180v160Zm440 0h160v-160H620v160ZM180-180h160v-160H180v160Zm440 0h160v-160H620v160Z\"/>\n",
              "  </svg>\n",
              "    </button>\n",
              "\n",
              "  <style>\n",
              "    .colab-df-container {\n",
              "      display:flex;\n",
              "      gap: 12px;\n",
              "    }\n",
              "\n",
              "    .colab-df-convert {\n",
              "      background-color: #E8F0FE;\n",
              "      border: none;\n",
              "      border-radius: 50%;\n",
              "      cursor: pointer;\n",
              "      display: none;\n",
              "      fill: #1967D2;\n",
              "      height: 32px;\n",
              "      padding: 0 0 0 0;\n",
              "      width: 32px;\n",
              "    }\n",
              "\n",
              "    .colab-df-convert:hover {\n",
              "      background-color: #E2EBFA;\n",
              "      box-shadow: 0px 1px 2px rgba(60, 64, 67, 0.3), 0px 1px 3px 1px rgba(60, 64, 67, 0.15);\n",
              "      fill: #174EA6;\n",
              "    }\n",
              "\n",
              "    .colab-df-buttons div {\n",
              "      margin-bottom: 4px;\n",
              "    }\n",
              "\n",
              "    [theme=dark] .colab-df-convert {\n",
              "      background-color: #3B4455;\n",
              "      fill: #D2E3FC;\n",
              "    }\n",
              "\n",
              "    [theme=dark] .colab-df-convert:hover {\n",
              "      background-color: #434B5C;\n",
              "      box-shadow: 0px 1px 3px 1px rgba(0, 0, 0, 0.15);\n",
              "      filter: drop-shadow(0px 1px 2px rgba(0, 0, 0, 0.3));\n",
              "      fill: #FFFFFF;\n",
              "    }\n",
              "  </style>\n",
              "\n",
              "    <script>\n",
              "      const buttonEl =\n",
              "        document.querySelector('#df-0de8963d-6d1a-4e9b-9e0d-5e4f13d14e44 button.colab-df-convert');\n",
              "      buttonEl.style.display =\n",
              "        google.colab.kernel.accessAllowed ? 'block' : 'none';\n",
              "\n",
              "      async function convertToInteractive(key) {\n",
              "        const element = document.querySelector('#df-0de8963d-6d1a-4e9b-9e0d-5e4f13d14e44');\n",
              "        const dataTable =\n",
              "          await google.colab.kernel.invokeFunction('convertToInteractive',\n",
              "                                                    [key], {});\n",
              "        if (!dataTable) return;\n",
              "\n",
              "        const docLinkHtml = 'Like what you see? Visit the ' +\n",
              "          '<a target=\"_blank\" href=https://colab.research.google.com/notebooks/data_table.ipynb>data table notebook</a>'\n",
              "          + ' to learn more about interactive tables.';\n",
              "        element.innerHTML = '';\n",
              "        dataTable['output_type'] = 'display_data';\n",
              "        await google.colab.output.renderOutput(dataTable, element);\n",
              "        const docLink = document.createElement('div');\n",
              "        docLink.innerHTML = docLinkHtml;\n",
              "        element.appendChild(docLink);\n",
              "      }\n",
              "    </script>\n",
              "  </div>\n",
              "\n",
              "\n",
              "<div id=\"df-a471ea01-0f72-49cb-b8a1-3a1e952cd647\">\n",
              "  <button class=\"colab-df-quickchart\" onclick=\"quickchart('df-a471ea01-0f72-49cb-b8a1-3a1e952cd647')\"\n",
              "            title=\"Suggest charts.\"\n",
              "            style=\"display:none;\">\n",
              "\n",
              "<svg xmlns=\"http://www.w3.org/2000/svg\" height=\"24px\"viewBox=\"0 0 24 24\"\n",
              "     width=\"24px\">\n",
              "    <g>\n",
              "        <path d=\"M19 3H5c-1.1 0-2 .9-2 2v14c0 1.1.9 2 2 2h14c1.1 0 2-.9 2-2V5c0-1.1-.9-2-2-2zM9 17H7v-7h2v7zm4 0h-2V7h2v10zm4 0h-2v-4h2v4z\"/>\n",
              "    </g>\n",
              "</svg>\n",
              "  </button>\n",
              "\n",
              "<style>\n",
              "  .colab-df-quickchart {\n",
              "      --bg-color: #E8F0FE;\n",
              "      --fill-color: #1967D2;\n",
              "      --hover-bg-color: #E2EBFA;\n",
              "      --hover-fill-color: #174EA6;\n",
              "      --disabled-fill-color: #AAA;\n",
              "      --disabled-bg-color: #DDD;\n",
              "  }\n",
              "\n",
              "  [theme=dark] .colab-df-quickchart {\n",
              "      --bg-color: #3B4455;\n",
              "      --fill-color: #D2E3FC;\n",
              "      --hover-bg-color: #434B5C;\n",
              "      --hover-fill-color: #FFFFFF;\n",
              "      --disabled-bg-color: #3B4455;\n",
              "      --disabled-fill-color: #666;\n",
              "  }\n",
              "\n",
              "  .colab-df-quickchart {\n",
              "    background-color: var(--bg-color);\n",
              "    border: none;\n",
              "    border-radius: 50%;\n",
              "    cursor: pointer;\n",
              "    display: none;\n",
              "    fill: var(--fill-color);\n",
              "    height: 32px;\n",
              "    padding: 0;\n",
              "    width: 32px;\n",
              "  }\n",
              "\n",
              "  .colab-df-quickchart:hover {\n",
              "    background-color: var(--hover-bg-color);\n",
              "    box-shadow: 0 1px 2px rgba(60, 64, 67, 0.3), 0 1px 3px 1px rgba(60, 64, 67, 0.15);\n",
              "    fill: var(--button-hover-fill-color);\n",
              "  }\n",
              "\n",
              "  .colab-df-quickchart-complete:disabled,\n",
              "  .colab-df-quickchart-complete:disabled:hover {\n",
              "    background-color: var(--disabled-bg-color);\n",
              "    fill: var(--disabled-fill-color);\n",
              "    box-shadow: none;\n",
              "  }\n",
              "\n",
              "  .colab-df-spinner {\n",
              "    border: 2px solid var(--fill-color);\n",
              "    border-color: transparent;\n",
              "    border-bottom-color: var(--fill-color);\n",
              "    animation:\n",
              "      spin 1s steps(1) infinite;\n",
              "  }\n",
              "\n",
              "  @keyframes spin {\n",
              "    0% {\n",
              "      border-color: transparent;\n",
              "      border-bottom-color: var(--fill-color);\n",
              "      border-left-color: var(--fill-color);\n",
              "    }\n",
              "    20% {\n",
              "      border-color: transparent;\n",
              "      border-left-color: var(--fill-color);\n",
              "      border-top-color: var(--fill-color);\n",
              "    }\n",
              "    30% {\n",
              "      border-color: transparent;\n",
              "      border-left-color: var(--fill-color);\n",
              "      border-top-color: var(--fill-color);\n",
              "      border-right-color: var(--fill-color);\n",
              "    }\n",
              "    40% {\n",
              "      border-color: transparent;\n",
              "      border-right-color: var(--fill-color);\n",
              "      border-top-color: var(--fill-color);\n",
              "    }\n",
              "    60% {\n",
              "      border-color: transparent;\n",
              "      border-right-color: var(--fill-color);\n",
              "    }\n",
              "    80% {\n",
              "      border-color: transparent;\n",
              "      border-right-color: var(--fill-color);\n",
              "      border-bottom-color: var(--fill-color);\n",
              "    }\n",
              "    90% {\n",
              "      border-color: transparent;\n",
              "      border-bottom-color: var(--fill-color);\n",
              "    }\n",
              "  }\n",
              "</style>\n",
              "\n",
              "  <script>\n",
              "    async function quickchart(key) {\n",
              "      const quickchartButtonEl =\n",
              "        document.querySelector('#' + key + ' button');\n",
              "      quickchartButtonEl.disabled = true;  // To prevent multiple clicks.\n",
              "      quickchartButtonEl.classList.add('colab-df-spinner');\n",
              "      try {\n",
              "        const charts = await google.colab.kernel.invokeFunction(\n",
              "            'suggestCharts', [key], {});\n",
              "      } catch (error) {\n",
              "        console.error('Error during call to suggestCharts:', error);\n",
              "      }\n",
              "      quickchartButtonEl.classList.remove('colab-df-spinner');\n",
              "      quickchartButtonEl.classList.add('colab-df-quickchart-complete');\n",
              "    }\n",
              "    (() => {\n",
              "      let quickchartButtonEl =\n",
              "        document.querySelector('#df-a471ea01-0f72-49cb-b8a1-3a1e952cd647 button');\n",
              "      quickchartButtonEl.style.display =\n",
              "        google.colab.kernel.accessAllowed ? 'block' : 'none';\n",
              "    })();\n",
              "  </script>\n",
              "</div>\n",
              "    </div>\n",
              "  </div>\n"
            ]
          },
          "metadata": {},
          "execution_count": 40
        }
      ]
    },
    {
      "cell_type": "markdown",
      "metadata": {
        "id": "RlIAdg4JbwUf"
      },
      "source": [
        "# Look again"
      ]
    },
    {
      "cell_type": "code",
      "execution_count": null,
      "metadata": {
        "id": "fW8GPhbtW7sA"
      },
      "outputs": [],
      "source": [
        "def length(text):\n",
        "    '''a function which returns the length of text'''\n",
        "    return len(text)"
      ]
    },
    {
      "cell_type": "markdown",
      "metadata": {
        "id": "0utHLCovj9qx"
      },
      "source": [
        "Сьлвари для первода из имени класса в номер класса и обратно"
      ]
    },
    {
      "cell_type": "code",
      "execution_count": null,
      "metadata": {
        "colab": {
          "base_uri": "https://localhost:8080/"
        },
        "id": "sHo5mGQ_b1_9",
        "outputId": "aef1b8ae-6196-4071-eb74-a176a13dede7"
      },
      "outputs": [
        {
          "output_type": "stream",
          "name": "stdout",
          "text": [
            "Encoded sentiment values: {'Neutral': 0, 'Positive': 1, 'Extremely Negative': 2, 'Negative': 3, 'Extremely Positive': 4}\n"
          ]
        }
      ],
      "source": [
        "dict_lbl_to_sent = {k: v for k, v in enumerate(main_ds['Sentiment'].unique())}\n",
        "dict_sent_to_lbl = {v: k for k, v in dict_lbl_to_sent.items()}\n",
        "print(f'Encoded sentiment values: {dict_sent_to_lbl}')"
      ]
    },
    {
      "cell_type": "markdown",
      "metadata": {
        "id": "q7xgjJzYjvKM"
      },
      "source": [
        "Добавим номера классов"
      ]
    },
    {
      "cell_type": "code",
      "execution_count": null,
      "metadata": {
        "id": "-8Zc4mxSjXPT"
      },
      "outputs": [],
      "source": [
        "main_ds['Label'] = main_ds['Sentiment'].apply(lambda x: dict_sent_to_lbl[x])"
      ]
    },
    {
      "cell_type": "markdown",
      "metadata": {
        "id": "Md9Nv-_Rj3uN"
      },
      "source": [
        "Добавим длину текстов"
      ]
    },
    {
      "cell_type": "code",
      "execution_count": null,
      "metadata": {
        "id": "vVs82teOW7sJ"
      },
      "outputs": [],
      "source": [
        "main_ds['length_text_clean'] = main_ds['Text_clean'].apply(length)\n",
        "test_ds['length_text_clean'] = test_ds['Text_clean'].apply(length)"
      ]
    },
    {
      "cell_type": "markdown",
      "metadata": {
        "id": "AVuUk6SweEQ8"
      },
      "source": [
        "## Number of characters in text"
      ]
    },
    {
      "cell_type": "code",
      "execution_count": null,
      "metadata": {
        "colab": {
          "base_uri": "https://localhost:8080/",
          "height": 564
        },
        "id": "jGnC6rlAW7sJ",
        "outputId": "595f464f-05cb-4c30-f081-660157d5b0ec"
      },
      "outputs": [
        {
          "output_type": "display_data",
          "data": {
            "text/plain": [
              "<Figure size 1800x600 with 1 Axes>"
            ],
            "image/png": "[encoded data removed]"
          },
          "metadata": {}
        }
      ],
      "source": [
        "plt.rcParams['figure.figsize'] = (18.0, 6.0)\n",
        "bins = 50\n",
        "plt.hist(main_ds.Text.apply(length), alpha = 0.6, bins=bins, label='Before cleaning text')\n",
        "plt.hist(main_ds['length_text_clean'], alpha = 0.6, bins=bins, label='After cleaning text')\n",
        "plt.xlabel('length_text')\n",
        "plt.ylabel('numbers')\n",
        "plt.title('Number of characters in text')\n",
        "plt.legend(loc='upper right')\n",
        "plt.grid()\n",
        "plt.show()"
      ]
    },
    {
      "cell_type": "markdown",
      "metadata": {
        "id": "vLCyfu7GeREv"
      },
      "source": [
        "## Number of words in a text"
      ]
    },
    {
      "cell_type": "code",
      "execution_count": null,
      "metadata": {
        "colab": {
          "base_uri": "https://localhost:8080/",
          "height": 564
        },
        "id": "A26leDHiW7sK",
        "outputId": "4892a2be-5dac-4e86-b9d3-2960db66fa38"
      },
      "outputs": [
        {
          "output_type": "display_data",
          "data": {
            "text/plain": [
              "<Figure size 1800x600 with 1 Axes>"
            ],
            "image/png": "[encoded data removed]"
          },
          "metadata": {}
        }
      ],
      "source": [
        "plt.rcParams['figure.figsize'] = (18.0, 6.0)\n",
        "bins = 30\n",
        "text_len=main_ds['Text'].str.split().map(lambda x: len(x))\n",
        "text_len_clean=main_ds['Text_clean'].str.split().map(lambda x: len(x))\n",
        "plt.hist(text_len, alpha = 0.6, bins=bins, label='Before cleaning text')\n",
        "plt.hist(text_len_clean, alpha = 0.6, bins=bins, label='After cleaning text')\n",
        "plt.xlabel('length')\n",
        "plt.ylabel('numbers')\n",
        "plt.title('Number of words in a text')\n",
        "plt.legend(loc='upper right')\n",
        "plt.grid()\n",
        "plt.show()"
      ]
    },
    {
      "cell_type": "markdown",
      "metadata": {
        "id": "BRrZp4b6elXG"
      },
      "source": [
        "## Removing blank lines\n"
      ]
    },
    {
      "cell_type": "code",
      "execution_count": null,
      "metadata": {
        "colab": {
          "base_uri": "https://localhost:8080/",
          "height": 363
        },
        "id": "T3Kp-hfbfIcw",
        "outputId": "b0f2a360-4581-44e3-87ea-0f4cbe454049"
      },
      "outputs": [
        {
          "output_type": "execute_result",
          "data": {
            "text/plain": [
              "                                                    Text Sentiment Text_clean  \\\n",
              "583    #????_???_?????? ???? ???????..? ?? ?????? ?? ...   Neutral              \n",
              "5214   ???? ???????? ??????????? - ???????? ?????????...   Neutral              \n",
              "13843  ? ???? ????? ???? ??? ?????? ??? ???\\r\\r\\n\\r\\r...   Neutral              \n",
              "14840  ???? ??????? ??????? ????? ??? ?????? ??????? ...   Neutral              \n",
              "16920  ???? ??????? ??????? ???? ????? ???? ???? ????...   Neutral              \n",
              "16924  ????? ?\\r\\r\\n\\r\\r\\n???? ??? ???? ??? ?????????...   Neutral              \n",
              "18437  ????? ?? ??????? ?? ??????? ???? ???? ????????...   Neutral              \n",
              "29888  ???? ????? \\r\\r\\n????? ??? ? ?? ?? ??\\r\\r\\n\\r\\...   Neutral              \n",
              "32455    ?? ?? ??? ??? ??? ????! https://t.co/2VAcVOugv1   Neutral              \n",
              "36781  ??? ???? ????? ?? ?????? ???? ????? ? ???? ???...   Neutral              \n",
              "\n",
              "       Label  length_text_clean  \n",
              "583        0                  0  \n",
              "5214       0                  0  \n",
              "13843      0                  0  \n",
              "14840      0                  0  \n",
              "16920      0                  0  \n",
              "16924      0                  0  \n",
              "18437      0                  0  \n",
              "29888      0                  0  \n",
              "32455      0                  0  \n",
              "36781      0                  0  "
            ],
            "text/html": [
              "\n",
              "  <div id=\"df-c4c37775-a529-4b89-ad73-516bafa24603\" class=\"colab-df-container\">\n",
              "    <div>\n",
              "<style scoped>\n",
              "    .dataframe tbody tr th:only-of-type {\n",
              "        vertical-align: middle;\n",
              "    }\n",
              "\n",
              "    .dataframe tbody tr th {\n",
              "        vertical-align: top;\n",
              "    }\n",
              "\n",
              "    .dataframe thead th {\n",
              "        text-align: right;\n",
              "    }\n",
              "</style>\n",
              "<table border=\"1\" class=\"dataframe\">\n",
              "  <thead>\n",
              "    <tr style=\"text-align: right;\">\n",
              "      <th></th>\n",
              "      <th>Text</th>\n",
              "      <th>Sentiment</th>\n",
              "      <th>Text_clean</th>\n",
              "      <th>Label</th>\n",
              "      <th>length_text_clean</th>\n",
              "    </tr>\n",
              "  </thead>\n",
              "  <tbody>\n",
              "    <tr>\n",
              "      <th>583</th>\n",
              "      <td>#????_???_?????? ???? ???????..? ?? ?????? ?? ...</td>\n",
              "      <td>Neutral</td>\n",
              "      <td></td>\n",
              "      <td>0</td>\n",
              "      <td>0</td>\n",
              "    </tr>\n",
              "    <tr>\n",
              "      <th>5214</th>\n",
              "      <td>???? ???????? ??????????? - ???????? ?????????...</td>\n",
              "      <td>Neutral</td>\n",
              "      <td></td>\n",
              "      <td>0</td>\n",
              "      <td>0</td>\n",
              "    </tr>\n",
              "    <tr>\n",
              "      <th>13843</th>\n",
              "      <td>? ???? ????? ???? ??? ?????? ??? ???\\r\\r\\n\\r\\r...</td>\n",
              "      <td>Neutral</td>\n",
              "      <td></td>\n",
              "      <td>0</td>\n",
              "      <td>0</td>\n",
              "    </tr>\n",
              "    <tr>\n",
              "      <th>14840</th>\n",
              "      <td>???? ??????? ??????? ????? ??? ?????? ??????? ...</td>\n",
              "      <td>Neutral</td>\n",
              "      <td></td>\n",
              "      <td>0</td>\n",
              "      <td>0</td>\n",
              "    </tr>\n",
              "    <tr>\n",
              "      <th>16920</th>\n",
              "      <td>???? ??????? ??????? ???? ????? ???? ???? ????...</td>\n",
              "      <td>Neutral</td>\n",
              "      <td></td>\n",
              "      <td>0</td>\n",
              "      <td>0</td>\n",
              "    </tr>\n",
              "    <tr>\n",
              "      <th>16924</th>\n",
              "      <td>????? ?\\r\\r\\n\\r\\r\\n???? ??? ???? ??? ?????????...</td>\n",
              "      <td>Neutral</td>\n",
              "      <td></td>\n",
              "      <td>0</td>\n",
              "      <td>0</td>\n",
              "    </tr>\n",
              "    <tr>\n",
              "      <th>18437</th>\n",
              "      <td>????? ?? ??????? ?? ??????? ???? ???? ????????...</td>\n",
              "      <td>Neutral</td>\n",
              "      <td></td>\n",
              "      <td>0</td>\n",
              "      <td>0</td>\n",
              "    </tr>\n",
              "    <tr>\n",
              "      <th>29888</th>\n",
              "      <td>???? ????? \\r\\r\\n????? ??? ? ?? ?? ??\\r\\r\\n\\r\\...</td>\n",
              "      <td>Neutral</td>\n",
              "      <td></td>\n",
              "      <td>0</td>\n",
              "      <td>0</td>\n",
              "    </tr>\n",
              "    <tr>\n",
              "      <th>32455</th>\n",
              "      <td>?? ?? ??? ??? ??? ????! https://t.co/2VAcVOugv1</td>\n",
              "      <td>Neutral</td>\n",
              "      <td></td>\n",
              "      <td>0</td>\n",
              "      <td>0</td>\n",
              "    </tr>\n",
              "    <tr>\n",
              "      <th>36781</th>\n",
              "      <td>??? ???? ????? ?? ?????? ???? ????? ? ???? ???...</td>\n",
              "      <td>Neutral</td>\n",
              "      <td></td>\n",
              "      <td>0</td>\n",
              "      <td>0</td>\n",
              "    </tr>\n",
              "  </tbody>\n",
              "</table>\n",
              "</div>\n",
              "    <div class=\"colab-df-buttons\">\n",
              "\n",
              "  <div class=\"colab-df-container\">\n",
              "    <button class=\"colab-df-convert\" onclick=\"convertToInteractive('df-c4c37775-a529-4b89-ad73-516bafa24603')\"\n",
              "            title=\"Convert this dataframe to an interactive table.\"\n",
              "            style=\"display:none;\">\n",
              "\n",
              "  <svg xmlns=\"http://www.w3.org/2000/svg\" height=\"24px\" viewBox=\"0 -960 960 960\">\n",
              "    <path d=\"M120-120v-720h720v720H120Zm60-500h600v-160H180v160Zm220 220h160v-160H400v160Zm0 220h160v-160H400v160ZM180-400h160v-160H180v160Zm440 0h160v-160H620v160ZM180-180h160v-160H180v160Zm440 0h160v-160H620v160Z\"/>\n",
              "  </svg>\n",
              "    </button>\n",
              "\n",
              "  <style>\n",
              "    .colab-df-container {\n",
              "      display:flex;\n",
              "      gap: 12px;\n",
              "    }\n",
              "\n",
              "    .colab-df-convert {\n",
              "      background-color: #E8F0FE;\n",
              "      border: none;\n",
              "      border-radius: 50%;\n",
              "      cursor: pointer;\n",
              "      display: none;\n",
              "      fill: #1967D2;\n",
              "      height: 32px;\n",
              "      padding: 0 0 0 0;\n",
              "      width: 32px;\n",
              "    }\n",
              "\n",
              "    .colab-df-convert:hover {\n",
              "      background-color: #E2EBFA;\n",
              "      box-shadow: 0px 1px 2px rgba(60, 64, 67, 0.3), 0px 1px 3px 1px rgba(60, 64, 67, 0.15);\n",
              "      fill: #174EA6;\n",
              "    }\n",
              "\n",
              "    .colab-df-buttons div {\n",
              "      margin-bottom: 4px;\n",
              "    }\n",
              "\n",
              "    [theme=dark] .colab-df-convert {\n",
              "      background-color: #3B4455;\n",
              "      fill: #D2E3FC;\n",
              "    }\n",
              "\n",
              "    [theme=dark] .colab-df-convert:hover {\n",
              "      background-color: #434B5C;\n",
              "      box-shadow: 0px 1px 3px 1px rgba(0, 0, 0, 0.15);\n",
              "      filter: drop-shadow(0px 1px 2px rgba(0, 0, 0, 0.3));\n",
              "      fill: #FFFFFF;\n",
              "    }\n",
              "  </style>\n",
              "\n",
              "    <script>\n",
              "      const buttonEl =\n",
              "        document.querySelector('#df-c4c37775-a529-4b89-ad73-516bafa24603 button.colab-df-convert');\n",
              "      buttonEl.style.display =\n",
              "        google.colab.kernel.accessAllowed ? 'block' : 'none';\n",
              "\n",
              "      async function convertToInteractive(key) {\n",
              "        const element = document.querySelector('#df-c4c37775-a529-4b89-ad73-516bafa24603');\n",
              "        const dataTable =\n",
              "          await google.colab.kernel.invokeFunction('convertToInteractive',\n",
              "                                                    [key], {});\n",
              "        if (!dataTable) return;\n",
              "\n",
              "        const docLinkHtml = 'Like what you see? Visit the ' +\n",
              "          '<a target=\"_blank\" href=https://colab.research.google.com/notebooks/data_table.ipynb>data table notebook</a>'\n",
              "          + ' to learn more about interactive tables.';\n",
              "        element.innerHTML = '';\n",
              "        dataTable['output_type'] = 'display_data';\n",
              "        await google.colab.output.renderOutput(dataTable, element);\n",
              "        const docLink = document.createElement('div');\n",
              "        docLink.innerHTML = docLinkHtml;\n",
              "        element.appendChild(docLink);\n",
              "      }\n",
              "    </script>\n",
              "  </div>\n",
              "\n",
              "\n",
              "<div id=\"df-0cf42210-535b-4bce-aeb3-be607497ddfe\">\n",
              "  <button class=\"colab-df-quickchart\" onclick=\"quickchart('df-0cf42210-535b-4bce-aeb3-be607497ddfe')\"\n",
              "            title=\"Suggest charts.\"\n",
              "            style=\"display:none;\">\n",
              "\n",
              "<svg xmlns=\"http://www.w3.org/2000/svg\" height=\"24px\"viewBox=\"0 0 24 24\"\n",
              "     width=\"24px\">\n",
              "    <g>\n",
              "        <path d=\"M19 3H5c-1.1 0-2 .9-2 2v14c0 1.1.9 2 2 2h14c1.1 0 2-.9 2-2V5c0-1.1-.9-2-2-2zM9 17H7v-7h2v7zm4 0h-2V7h2v10zm4 0h-2v-4h2v4z\"/>\n",
              "    </g>\n",
              "</svg>\n",
              "  </button>\n",
              "\n",
              "<style>\n",
              "  .colab-df-quickchart {\n",
              "      --bg-color: #E8F0FE;\n",
              "      --fill-color: #1967D2;\n",
              "      --hover-bg-color: #E2EBFA;\n",
              "      --hover-fill-color: #174EA6;\n",
              "      --disabled-fill-color: #AAA;\n",
              "      --disabled-bg-color: #DDD;\n",
              "  }\n",
              "\n",
              "  [theme=dark] .colab-df-quickchart {\n",
              "      --bg-color: #3B4455;\n",
              "      --fill-color: #D2E3FC;\n",
              "      --hover-bg-color: #434B5C;\n",
              "      --hover-fill-color: #FFFFFF;\n",
              "      --disabled-bg-color: #3B4455;\n",
              "      --disabled-fill-color: #666;\n",
              "  }\n",
              "\n",
              "  .colab-df-quickchart {\n",
              "    background-color: var(--bg-color);\n",
              "    border: none;\n",
              "    border-radius: 50%;\n",
              "    cursor: pointer;\n",
              "    display: none;\n",
              "    fill: var(--fill-color);\n",
              "    height: 32px;\n",
              "    padding: 0;\n",
              "    width: 32px;\n",
              "  }\n",
              "\n",
              "  .colab-df-quickchart:hover {\n",
              "    background-color: var(--hover-bg-color);\n",
              "    box-shadow: 0 1px 2px rgba(60, 64, 67, 0.3), 0 1px 3px 1px rgba(60, 64, 67, 0.15);\n",
              "    fill: var(--button-hover-fill-color);\n",
              "  }\n",
              "\n",
              "  .colab-df-quickchart-complete:disabled,\n",
              "  .colab-df-quickchart-complete:disabled:hover {\n",
              "    background-color: var(--disabled-bg-color);\n",
              "    fill: var(--disabled-fill-color);\n",
              "    box-shadow: none;\n",
              "  }\n",
              "\n",
              "  .colab-df-spinner {\n",
              "    border: 2px solid var(--fill-color);\n",
              "    border-color: transparent;\n",
              "    border-bottom-color: var(--fill-color);\n",
              "    animation:\n",
              "      spin 1s steps(1) infinite;\n",
              "  }\n",
              "\n",
              "  @keyframes spin {\n",
              "    0% {\n",
              "      border-color: transparent;\n",
              "      border-bottom-color: var(--fill-color);\n",
              "      border-left-color: var(--fill-color);\n",
              "    }\n",
              "    20% {\n",
              "      border-color: transparent;\n",
              "      border-left-color: var(--fill-color);\n",
              "      border-top-color: var(--fill-color);\n",
              "    }\n",
              "    30% {\n",
              "      border-color: transparent;\n",
              "      border-left-color: var(--fill-color);\n",
              "      border-top-color: var(--fill-color);\n",
              "      border-right-color: var(--fill-color);\n",
              "    }\n",
              "    40% {\n",
              "      border-color: transparent;\n",
              "      border-right-color: var(--fill-color);\n",
              "      border-top-color: var(--fill-color);\n",
              "    }\n",
              "    60% {\n",
              "      border-color: transparent;\n",
              "      border-right-color: var(--fill-color);\n",
              "    }\n",
              "    80% {\n",
              "      border-color: transparent;\n",
              "      border-right-color: var(--fill-color);\n",
              "      border-bottom-color: var(--fill-color);\n",
              "    }\n",
              "    90% {\n",
              "      border-color: transparent;\n",
              "      border-bottom-color: var(--fill-color);\n",
              "    }\n",
              "  }\n",
              "</style>\n",
              "\n",
              "  <script>\n",
              "    async function quickchart(key) {\n",
              "      const quickchartButtonEl =\n",
              "        document.querySelector('#' + key + ' button');\n",
              "      quickchartButtonEl.disabled = true;  // To prevent multiple clicks.\n",
              "      quickchartButtonEl.classList.add('colab-df-spinner');\n",
              "      try {\n",
              "        const charts = await google.colab.kernel.invokeFunction(\n",
              "            'suggestCharts', [key], {});\n",
              "      } catch (error) {\n",
              "        console.error('Error during call to suggestCharts:', error);\n",
              "      }\n",
              "      quickchartButtonEl.classList.remove('colab-df-spinner');\n",
              "      quickchartButtonEl.classList.add('colab-df-quickchart-complete');\n",
              "    }\n",
              "    (() => {\n",
              "      let quickchartButtonEl =\n",
              "        document.querySelector('#df-0cf42210-535b-4bce-aeb3-be607497ddfe button');\n",
              "      quickchartButtonEl.style.display =\n",
              "        google.colab.kernel.accessAllowed ? 'block' : 'none';\n",
              "    })();\n",
              "  </script>\n",
              "</div>\n",
              "    </div>\n",
              "  </div>\n"
            ]
          },
          "metadata": {},
          "execution_count": 47
        }
      ],
      "source": [
        "main_ds[main_ds.length_text_clean == 0]"
      ]
    },
    {
      "cell_type": "code",
      "execution_count": null,
      "metadata": {
        "id": "a4RTTneyeoXz"
      },
      "outputs": [],
      "source": [
        "main_ds = main_ds.drop(main_ds[main_ds.length_text_clean == 0].index)"
      ]
    },
    {
      "cell_type": "markdown",
      "metadata": {
        "id": "JlG6JNC1gPrp"
      },
      "source": [
        "В тестовом стоит также почистить перед предиктом, а этим поставить - `Neutral`"
      ]
    },
    {
      "cell_type": "code",
      "execution_count": null,
      "metadata": {
        "colab": {
          "base_uri": "https://localhost:8080/",
          "height": 53
        },
        "id": "-RzW2gF4__Bq",
        "outputId": "9bf8569f-ccc9-435b-903a-935e7ef90162"
      },
      "outputs": [
        {
          "output_type": "execute_result",
          "data": {
            "text/plain": [
              "Empty DataFrame\n",
              "Columns: [Text, Sentiment, Text_clean, Label, length_text_clean]\n",
              "Index: []"
            ],
            "text/html": [
              "\n",
              "  <div id=\"df-b8bbc032-ec9a-418a-bc17-9c7a122dd981\" class=\"colab-df-container\">\n",
              "    <div>\n",
              "<style scoped>\n",
              "    .dataframe tbody tr th:only-of-type {\n",
              "        vertical-align: middle;\n",
              "    }\n",
              "\n",
              "    .dataframe tbody tr th {\n",
              "        vertical-align: top;\n",
              "    }\n",
              "\n",
              "    .dataframe thead th {\n",
              "        text-align: right;\n",
              "    }\n",
              "</style>\n",
              "<table border=\"1\" class=\"dataframe\">\n",
              "  <thead>\n",
              "    <tr style=\"text-align: right;\">\n",
              "      <th></th>\n",
              "      <th>Text</th>\n",
              "      <th>Sentiment</th>\n",
              "      <th>Text_clean</th>\n",
              "      <th>Label</th>\n",
              "      <th>length_text_clean</th>\n",
              "    </tr>\n",
              "  </thead>\n",
              "  <tbody>\n",
              "  </tbody>\n",
              "</table>\n",
              "</div>\n",
              "    <div class=\"colab-df-buttons\">\n",
              "\n",
              "  <div class=\"colab-df-container\">\n",
              "    <button class=\"colab-df-convert\" onclick=\"convertToInteractive('df-b8bbc032-ec9a-418a-bc17-9c7a122dd981')\"\n",
              "            title=\"Convert this dataframe to an interactive table.\"\n",
              "            style=\"display:none;\">\n",
              "\n",
              "  <svg xmlns=\"http://www.w3.org/2000/svg\" height=\"24px\" viewBox=\"0 -960 960 960\">\n",
              "    <path d=\"M120-120v-720h720v720H120Zm60-500h600v-160H180v160Zm220 220h160v-160H400v160Zm0 220h160v-160H400v160ZM180-400h160v-160H180v160Zm440 0h160v-160H620v160ZM180-180h160v-160H180v160Zm440 0h160v-160H620v160Z\"/>\n",
              "  </svg>\n",
              "    </button>\n",
              "\n",
              "  <style>\n",
              "    .colab-df-container {\n",
              "      display:flex;\n",
              "      gap: 12px;\n",
              "    }\n",
              "\n",
              "    .colab-df-convert {\n",
              "      background-color: #E8F0FE;\n",
              "      border: none;\n",
              "      border-radius: 50%;\n",
              "      cursor: pointer;\n",
              "      display: none;\n",
              "      fill: #1967D2;\n",
              "      height: 32px;\n",
              "      padding: 0 0 0 0;\n",
              "      width: 32px;\n",
              "    }\n",
              "\n",
              "    .colab-df-convert:hover {\n",
              "      background-color: #E2EBFA;\n",
              "      box-shadow: 0px 1px 2px rgba(60, 64, 67, 0.3), 0px 1px 3px 1px rgba(60, 64, 67, 0.15);\n",
              "      fill: #174EA6;\n",
              "    }\n",
              "\n",
              "    .colab-df-buttons div {\n",
              "      margin-bottom: 4px;\n",
              "    }\n",
              "\n",
              "    [theme=dark] .colab-df-convert {\n",
              "      background-color: #3B4455;\n",
              "      fill: #D2E3FC;\n",
              "    }\n",
              "\n",
              "    [theme=dark] .colab-df-convert:hover {\n",
              "      background-color: #434B5C;\n",
              "      box-shadow: 0px 1px 3px 1px rgba(0, 0, 0, 0.15);\n",
              "      filter: drop-shadow(0px 1px 2px rgba(0, 0, 0, 0.3));\n",
              "      fill: #FFFFFF;\n",
              "    }\n",
              "  </style>\n",
              "\n",
              "    <script>\n",
              "      const buttonEl =\n",
              "        document.querySelector('#df-b8bbc032-ec9a-418a-bc17-9c7a122dd981 button.colab-df-convert');\n",
              "      buttonEl.style.display =\n",
              "        google.colab.kernel.accessAllowed ? 'block' : 'none';\n",
              "\n",
              "      async function convertToInteractive(key) {\n",
              "        const element = document.querySelector('#df-b8bbc032-ec9a-418a-bc17-9c7a122dd981');\n",
              "        const dataTable =\n",
              "          await google.colab.kernel.invokeFunction('convertToInteractive',\n",
              "                                                    [key], {});\n",
              "        if (!dataTable) return;\n",
              "\n",
              "        const docLinkHtml = 'Like what you see? Visit the ' +\n",
              "          '<a target=\"_blank\" href=https://colab.research.google.com/notebooks/data_table.ipynb>data table notebook</a>'\n",
              "          + ' to learn more about interactive tables.';\n",
              "        element.innerHTML = '';\n",
              "        dataTable['output_type'] = 'display_data';\n",
              "        await google.colab.output.renderOutput(dataTable, element);\n",
              "        const docLink = document.createElement('div');\n",
              "        docLink.innerHTML = docLinkHtml;\n",
              "        element.appendChild(docLink);\n",
              "      }\n",
              "    </script>\n",
              "  </div>\n",
              "\n",
              "    </div>\n",
              "  </div>\n"
            ]
          },
          "metadata": {},
          "execution_count": 49
        }
      ],
      "source": [
        "main_ds[main_ds.length_text_clean == 4]"
      ]
    },
    {
      "cell_type": "code",
      "execution_count": null,
      "metadata": {
        "colab": {
          "base_uri": "https://localhost:8080/",
          "height": 757
        },
        "id": "tH36nkRShJTm",
        "outputId": "5cd33ee8-5ee5-44d7-e31f-a1fd94217933"
      },
      "outputs": [
        {
          "output_type": "stream",
          "name": "stdout",
          "text": [
            "Extremely Negative     5481\n",
            "Extremely Positive     6624\n",
            "Negative               9917\n",
            "Neutral                7701\n",
            "Positive              11422\n",
            "Name: Sentiment, dtype: int64\n"
          ]
        },
        {
          "output_type": "display_data",
          "data": {
            "text/plain": [
              "<Figure size 1800x600 with 1 Axes>"
            ],
            "image/png": "[encoded data removed]"
          },
          "metadata": {}
        }
      ],
      "source": [
        "# value_counts () - a command that allows you to calculate the number of unique values\n",
        "vc = main_ds.Sentiment.value_counts()\n",
        "vc = vc.sort_index()\n",
        "print(vc)\n",
        "vc.plot(kind='bar');"
      ]
    },
    {
      "cell_type": "code",
      "source": [
        "main_ds"
      ],
      "metadata": {
        "colab": {
          "base_uri": "https://localhost:8080/",
          "height": 423
        },
        "id": "vuG1dGjJDWBQ",
        "outputId": "d632560a-45ec-4915-de71-8c2f80109316"
      },
      "execution_count": null,
      "outputs": [
        {
          "output_type": "execute_result",
          "data": {
            "text/plain": [
              "                                                    Text           Sentiment  \\\n",
              "0      @MeNyrbie @Phil_Gahan @Chrisitv https://t.co/i...             Neutral   \n",
              "1      advice Talk to your neighbours family to excha...            Positive   \n",
              "2      Coronavirus Australia: Woolworths to give elde...            Positive   \n",
              "3      My food stock is not the only one which is emp...            Positive   \n",
              "4      Me, ready to go at supermarket during the #COV...  Extremely Negative   \n",
              "...                                                  ...                 ...   \n",
              "41152  Airline pilots offering to stock supermarket s...             Neutral   \n",
              "41153  Response to complaint not provided citing COVI...  Extremely Negative   \n",
              "41154  You know itÂs getting tough when @KameronWild...            Positive   \n",
              "41155  Is it wrong that the smell of hand sanitizer i...             Neutral   \n",
              "41156  @TartiiCat Well new/used Rift S are going for ...            Negative   \n",
              "\n",
              "                                              Text_clean  Label  \\\n",
              "0                  Me Nyrbie Phil Gahan Chrisitv and and      0   \n",
              "1      advice Talk to your neighbours family to excha...      1   \n",
              "2      Coronavirus Australia Woolworths to give elder...      1   \n",
              "3      My food stock is not the only one which is emp...      1   \n",
              "4      Me ready to go at supermarket during the COVID...      2   \n",
              "...                                                  ...    ...   \n",
              "41152  Airline pilots offering to stock supermarket s...      0   \n",
              "41153  Response to complaint not provided citing COVI...      2   \n",
              "41154  You know it Âs getting tough when Kameron Wil...      1   \n",
              "41155  Is it wrong that the smell of hand sanitizer i...      0   \n",
              "41156  Tartii Cat Well newused Rift S are going for 7...      3   \n",
              "\n",
              "       length_text_clean  \n",
              "0                     37  \n",
              "1                    237  \n",
              "2                    104  \n",
              "3                    259  \n",
              "4                    265  \n",
              "...                  ...  \n",
              "41152                 75  \n",
              "41153                133  \n",
              "41154                130  \n",
              "41155                102  \n",
              "41156                247  \n",
              "\n",
              "[41145 rows x 5 columns]"
            ],
            "text/html": [
              "\n",
              "  <div id=\"df-9b797938-38f1-43dd-a8d2-369b7c5589b5\" class=\"colab-df-container\">\n",
              "    <div>\n",
              "<style scoped>\n",
              "    .dataframe tbody tr th:only-of-type {\n",
              "        vertical-align: middle;\n",
              "    }\n",
              "\n",
              "    .dataframe tbody tr th {\n",
              "        vertical-align: top;\n",
              "    }\n",
              "\n",
              "    .dataframe thead th {\n",
              "        text-align: right;\n",
              "    }\n",
              "</style>\n",
              "<table border=\"1\" class=\"dataframe\">\n",
              "  <thead>\n",
              "    <tr style=\"text-align: right;\">\n",
              "      <th></th>\n",
              "      <th>Text</th>\n",
              "      <th>Sentiment</th>\n",
              "      <th>Text_clean</th>\n",
              "      <th>Label</th>\n",
              "      <th>length_text_clean</th>\n",
              "    </tr>\n",
              "  </thead>\n",
              "  <tbody>\n",
              "    <tr>\n",
              "      <th>0</th>\n",
              "      <td>@MeNyrbie @Phil_Gahan @Chrisitv https://t.co/i...</td>\n",
              "      <td>Neutral</td>\n",
              "      <td>Me Nyrbie Phil Gahan Chrisitv and and</td>\n",
              "      <td>0</td>\n",
              "      <td>37</td>\n",
              "    </tr>\n",
              "    <tr>\n",
              "      <th>1</th>\n",
              "      <td>advice Talk to your neighbours family to excha...</td>\n",
              "      <td>Positive</td>\n",
              "      <td>advice Talk to your neighbours family to excha...</td>\n",
              "      <td>1</td>\n",
              "      <td>237</td>\n",
              "    </tr>\n",
              "    <tr>\n",
              "      <th>2</th>\n",
              "      <td>Coronavirus Australia: Woolworths to give elde...</td>\n",
              "      <td>Positive</td>\n",
              "      <td>Coronavirus Australia Woolworths to give elder...</td>\n",
              "      <td>1</td>\n",
              "      <td>104</td>\n",
              "    </tr>\n",
              "    <tr>\n",
              "      <th>3</th>\n",
              "      <td>My food stock is not the only one which is emp...</td>\n",
              "      <td>Positive</td>\n",
              "      <td>My food stock is not the only one which is emp...</td>\n",
              "      <td>1</td>\n",
              "      <td>259</td>\n",
              "    </tr>\n",
              "    <tr>\n",
              "      <th>4</th>\n",
              "      <td>Me, ready to go at supermarket during the #COV...</td>\n",
              "      <td>Extremely Negative</td>\n",
              "      <td>Me ready to go at supermarket during the COVID...</td>\n",
              "      <td>2</td>\n",
              "      <td>265</td>\n",
              "    </tr>\n",
              "    <tr>\n",
              "      <th>...</th>\n",
              "      <td>...</td>\n",
              "      <td>...</td>\n",
              "      <td>...</td>\n",
              "      <td>...</td>\n",
              "      <td>...</td>\n",
              "    </tr>\n",
              "    <tr>\n",
              "      <th>41152</th>\n",
              "      <td>Airline pilots offering to stock supermarket s...</td>\n",
              "      <td>Neutral</td>\n",
              "      <td>Airline pilots offering to stock supermarket s...</td>\n",
              "      <td>0</td>\n",
              "      <td>75</td>\n",
              "    </tr>\n",
              "    <tr>\n",
              "      <th>41153</th>\n",
              "      <td>Response to complaint not provided citing COVI...</td>\n",
              "      <td>Extremely Negative</td>\n",
              "      <td>Response to complaint not provided citing COVI...</td>\n",
              "      <td>2</td>\n",
              "      <td>133</td>\n",
              "    </tr>\n",
              "    <tr>\n",
              "      <th>41154</th>\n",
              "      <td>You know itÂs getting tough when @KameronWild...</td>\n",
              "      <td>Positive</td>\n",
              "      <td>You know it Âs getting tough when Kameron Wil...</td>\n",
              "      <td>1</td>\n",
              "      <td>130</td>\n",
              "    </tr>\n",
              "    <tr>\n",
              "      <th>41155</th>\n",
              "      <td>Is it wrong that the smell of hand sanitizer i...</td>\n",
              "      <td>Neutral</td>\n",
              "      <td>Is it wrong that the smell of hand sanitizer i...</td>\n",
              "      <td>0</td>\n",
              "      <td>102</td>\n",
              "    </tr>\n",
              "    <tr>\n",
              "      <th>41156</th>\n",
              "      <td>@TartiiCat Well new/used Rift S are going for ...</td>\n",
              "      <td>Negative</td>\n",
              "      <td>Tartii Cat Well newused Rift S are going for 7...</td>\n",
              "      <td>3</td>\n",
              "      <td>247</td>\n",
              "    </tr>\n",
              "  </tbody>\n",
              "</table>\n",
              "<p>41145 rows × 5 columns</p>\n",
              "</div>\n",
              "    <div class=\"colab-df-buttons\">\n",
              "\n",
              "  <div class=\"colab-df-container\">\n",
              "    <button class=\"colab-df-convert\" onclick=\"convertToInteractive('df-9b797938-38f1-43dd-a8d2-369b7c5589b5')\"\n",
              "            title=\"Convert this dataframe to an interactive table.\"\n",
              "            style=\"display:none;\">\n",
              "\n",
              "  <svg xmlns=\"http://www.w3.org/2000/svg\" height=\"24px\" viewBox=\"0 -960 960 960\">\n",
              "    <path d=\"M120-120v-720h720v720H120Zm60-500h600v-160H180v160Zm220 220h160v-160H400v160Zm0 220h160v-160H400v160ZM180-400h160v-160H180v160Zm440 0h160v-160H620v160ZM180-180h160v-160H180v160Zm440 0h160v-160H620v160Z\"/>\n",
              "  </svg>\n",
              "    </button>\n",
              "\n",
              "  <style>\n",
              "    .colab-df-container {\n",
              "      display:flex;\n",
              "      gap: 12px;\n",
              "    }\n",
              "\n",
              "    .colab-df-convert {\n",
              "      background-color: #E8F0FE;\n",
              "      border: none;\n",
              "      border-radius: 50%;\n",
              "      cursor: pointer;\n",
              "      display: none;\n",
              "      fill: #1967D2;\n",
              "      height: 32px;\n",
              "      padding: 0 0 0 0;\n",
              "      width: 32px;\n",
              "    }\n",
              "\n",
              "    .colab-df-convert:hover {\n",
              "      background-color: #E2EBFA;\n",
              "      box-shadow: 0px 1px 2px rgba(60, 64, 67, 0.3), 0px 1px 3px 1px rgba(60, 64, 67, 0.15);\n",
              "      fill: #174EA6;\n",
              "    }\n",
              "\n",
              "    .colab-df-buttons div {\n",
              "      margin-bottom: 4px;\n",
              "    }\n",
              "\n",
              "    [theme=dark] .colab-df-convert {\n",
              "      background-color: #3B4455;\n",
              "      fill: #D2E3FC;\n",
              "    }\n",
              "\n",
              "    [theme=dark] .colab-df-convert:hover {\n",
              "      background-color: #434B5C;\n",
              "      box-shadow: 0px 1px 3px 1px rgba(0, 0, 0, 0.15);\n",
              "      filter: drop-shadow(0px 1px 2px rgba(0, 0, 0, 0.3));\n",
              "      fill: #FFFFFF;\n",
              "    }\n",
              "  </style>\n",
              "\n",
              "    <script>\n",
              "      const buttonEl =\n",
              "        document.querySelector('#df-9b797938-38f1-43dd-a8d2-369b7c5589b5 button.colab-df-convert');\n",
              "      buttonEl.style.display =\n",
              "        google.colab.kernel.accessAllowed ? 'block' : 'none';\n",
              "\n",
              "      async function convertToInteractive(key) {\n",
              "        const element = document.querySelector('#df-9b797938-38f1-43dd-a8d2-369b7c5589b5');\n",
              "        const dataTable =\n",
              "          await google.colab.kernel.invokeFunction('convertToInteractive',\n",
              "                                                    [key], {});\n",
              "        if (!dataTable) return;\n",
              "\n",
              "        const docLinkHtml = 'Like what you see? Visit the ' +\n",
              "          '<a target=\"_blank\" href=https://colab.research.google.com/notebooks/data_table.ipynb>data table notebook</a>'\n",
              "          + ' to learn more about interactive tables.';\n",
              "        element.innerHTML = '';\n",
              "        dataTable['output_type'] = 'display_data';\n",
              "        await google.colab.output.renderOutput(dataTable, element);\n",
              "        const docLink = document.createElement('div');\n",
              "        docLink.innerHTML = docLinkHtml;\n",
              "        element.appendChild(docLink);\n",
              "      }\n",
              "    </script>\n",
              "  </div>\n",
              "\n",
              "\n",
              "<div id=\"df-0e880b62-8598-4867-8609-61022f08c8bc\">\n",
              "  <button class=\"colab-df-quickchart\" onclick=\"quickchart('df-0e880b62-8598-4867-8609-61022f08c8bc')\"\n",
              "            title=\"Suggest charts.\"\n",
              "            style=\"display:none;\">\n",
              "\n",
              "<svg xmlns=\"http://www.w3.org/2000/svg\" height=\"24px\"viewBox=\"0 0 24 24\"\n",
              "     width=\"24px\">\n",
              "    <g>\n",
              "        <path d=\"M19 3H5c-1.1 0-2 .9-2 2v14c0 1.1.9 2 2 2h14c1.1 0 2-.9 2-2V5c0-1.1-.9-2-2-2zM9 17H7v-7h2v7zm4 0h-2V7h2v10zm4 0h-2v-4h2v4z\"/>\n",
              "    </g>\n",
              "</svg>\n",
              "  </button>\n",
              "\n",
              "<style>\n",
              "  .colab-df-quickchart {\n",
              "      --bg-color: #E8F0FE;\n",
              "      --fill-color: #1967D2;\n",
              "      --hover-bg-color: #E2EBFA;\n",
              "      --hover-fill-color: #174EA6;\n",
              "      --disabled-fill-color: #AAA;\n",
              "      --disabled-bg-color: #DDD;\n",
              "  }\n",
              "\n",
              "  [theme=dark] .colab-df-quickchart {\n",
              "      --bg-color: #3B4455;\n",
              "      --fill-color: #D2E3FC;\n",
              "      --hover-bg-color: #434B5C;\n",
              "      --hover-fill-color: #FFFFFF;\n",
              "      --disabled-bg-color: #3B4455;\n",
              "      --disabled-fill-color: #666;\n",
              "  }\n",
              "\n",
              "  .colab-df-quickchart {\n",
              "    background-color: var(--bg-color);\n",
              "    border: none;\n",
              "    border-radius: 50%;\n",
              "    cursor: pointer;\n",
              "    display: none;\n",
              "    fill: var(--fill-color);\n",
              "    height: 32px;\n",
              "    padding: 0;\n",
              "    width: 32px;\n",
              "  }\n",
              "\n",
              "  .colab-df-quickchart:hover {\n",
              "    background-color: var(--hover-bg-color);\n",
              "    box-shadow: 0 1px 2px rgba(60, 64, 67, 0.3), 0 1px 3px 1px rgba(60, 64, 67, 0.15);\n",
              "    fill: var(--button-hover-fill-color);\n",
              "  }\n",
              "\n",
              "  .colab-df-quickchart-complete:disabled,\n",
              "  .colab-df-quickchart-complete:disabled:hover {\n",
              "    background-color: var(--disabled-bg-color);\n",
              "    fill: var(--disabled-fill-color);\n",
              "    box-shadow: none;\n",
              "  }\n",
              "\n",
              "  .colab-df-spinner {\n",
              "    border: 2px solid var(--fill-color);\n",
              "    border-color: transparent;\n",
              "    border-bottom-color: var(--fill-color);\n",
              "    animation:\n",
              "      spin 1s steps(1) infinite;\n",
              "  }\n",
              "\n",
              "  @keyframes spin {\n",
              "    0% {\n",
              "      border-color: transparent;\n",
              "      border-bottom-color: var(--fill-color);\n",
              "      border-left-color: var(--fill-color);\n",
              "    }\n",
              "    20% {\n",
              "      border-color: transparent;\n",
              "      border-left-color: var(--fill-color);\n",
              "      border-top-color: var(--fill-color);\n",
              "    }\n",
              "    30% {\n",
              "      border-color: transparent;\n",
              "      border-left-color: var(--fill-color);\n",
              "      border-top-color: var(--fill-color);\n",
              "      border-right-color: var(--fill-color);\n",
              "    }\n",
              "    40% {\n",
              "      border-color: transparent;\n",
              "      border-right-color: var(--fill-color);\n",
              "      border-top-color: var(--fill-color);\n",
              "    }\n",
              "    60% {\n",
              "      border-color: transparent;\n",
              "      border-right-color: var(--fill-color);\n",
              "    }\n",
              "    80% {\n",
              "      border-color: transparent;\n",
              "      border-right-color: var(--fill-color);\n",
              "      border-bottom-color: var(--fill-color);\n",
              "    }\n",
              "    90% {\n",
              "      border-color: transparent;\n",
              "      border-bottom-color: var(--fill-color);\n",
              "    }\n",
              "  }\n",
              "</style>\n",
              "\n",
              "  <script>\n",
              "    async function quickchart(key) {\n",
              "      const quickchartButtonEl =\n",
              "        document.querySelector('#' + key + ' button');\n",
              "      quickchartButtonEl.disabled = true;  // To prevent multiple clicks.\n",
              "      quickchartButtonEl.classList.add('colab-df-spinner');\n",
              "      try {\n",
              "        const charts = await google.colab.kernel.invokeFunction(\n",
              "            'suggestCharts', [key], {});\n",
              "      } catch (error) {\n",
              "        console.error('Error during call to suggestCharts:', error);\n",
              "      }\n",
              "      quickchartButtonEl.classList.remove('colab-df-spinner');\n",
              "      quickchartButtonEl.classList.add('colab-df-quickchart-complete');\n",
              "    }\n",
              "    (() => {\n",
              "      let quickchartButtonEl =\n",
              "        document.querySelector('#df-0e880b62-8598-4867-8609-61022f08c8bc button');\n",
              "      quickchartButtonEl.style.display =\n",
              "        google.colab.kernel.accessAllowed ? 'block' : 'none';\n",
              "    })();\n",
              "  </script>\n",
              "</div>\n",
              "    </div>\n",
              "  </div>\n"
            ]
          },
          "metadata": {},
          "execution_count": 51
        }
      ]
    },
    {
      "cell_type": "markdown",
      "source": [
        "# With augmentation datasets"
      ],
      "metadata": {
        "id": "6on74lYBy8dG"
      }
    },
    {
      "cell_type": "markdown",
      "metadata": {
        "id": "kMBLeUQM6-zZ"
      },
      "source": [
        "## DataLoader, Dataset"
      ]
    },
    {
      "cell_type": "code",
      "source": [
        "import torch\n",
        "from torch import nn\n",
        "import torch.optim as optim\n",
        "from torch.utils.data import Dataset, DataLoader"
      ],
      "metadata": {
        "id": "qEuvdtBt6-zt"
      },
      "execution_count": null,
      "outputs": []
    },
    {
      "cell_type": "code",
      "source": [
        "new_df = main_ds[['Text_clean', 'Label']]"
      ],
      "metadata": {
        "id": "5tgPJtFK6-zu"
      },
      "execution_count": null,
      "outputs": []
    },
    {
      "cell_type": "markdown",
      "source": [
        "### tokenizer, nlpaug"
      ],
      "metadata": {
        "id": "I7GM3iqTDpzR"
      }
    },
    {
      "cell_type": "code",
      "source": [
        "!pip install transformers -q"
      ],
      "metadata": {
        "colab": {
          "base_uri": "https://localhost:8080/"
        },
        "outputId": "0a756681-eeba-4587-be00-c72f96535859",
        "id": "SqdKULxi3Ufa"
      },
      "execution_count": null,
      "outputs": [
        {
          "output_type": "stream",
          "name": "stdout",
          "text": [
            "\u001b[2K     \u001b[90m━━━━━━━━━━━━━━━━━━━━━━━━━━━━━━━━━━━━━━━━\u001b[0m \u001b[32m7.7/7.7 MB\u001b[0m \u001b[31m26.6 MB/s\u001b[0m eta \u001b[36m0:00:00\u001b[0m\n",
            "\u001b[2K     \u001b[90m━━━━━━━━━━━━━━━━━━━━━━━━━━━━━━━━━━━━━━\u001b[0m \u001b[32m295.0/295.0 kB\u001b[0m \u001b[31m35.7 MB/s\u001b[0m eta \u001b[36m0:00:00\u001b[0m\n",
            "\u001b[2K     \u001b[90m━━━━━━━━━━━━━━━━━━━━━━━━━━━━━━━━━━━━━━━━\u001b[0m \u001b[32m3.8/3.8 MB\u001b[0m \u001b[31m75.2 MB/s\u001b[0m eta \u001b[36m0:00:00\u001b[0m\n",
            "\u001b[2K     \u001b[90m━━━━━━━━━━━━━━━━━━━━━━━━━━━━━━━━━━━━━━━━\u001b[0m \u001b[32m1.3/1.3 MB\u001b[0m \u001b[31m65.9 MB/s\u001b[0m eta \u001b[36m0:00:00\u001b[0m\n",
            "\u001b[?25h"
          ]
        }
      ]
    },
    {
      "cell_type": "code",
      "source": [
        "from transformers import BertTokenizer\n",
        "\n",
        "# Load the BERT tokenizer\n",
        "tokenizer = BertTokenizer.from_pretrained('bert-base-uncased', do_lower_case=True)"
      ],
      "metadata": {
        "colab": {
          "base_uri": "https://localhost:8080/",
          "height": 145,
          "referenced_widgets": [
            "907395f796d44f118cf6e2658ff634b4",
            "5cc356172ca84cd5a282d6a33d584bcf",
            "813113b4cbaa4867ab75e865050913ce",
            "783330bbd93147128f71e9eed019be0c",
            "07e71ee501d146b6a2c5c4e44e709e74",
            "6399c0dfe7854a9e91ffd1145ee97423",
            "0b0213804afe43e8a08cee389b5b2939",
            "23531c7e8f544fea8d7d4f49055c1e82",
            "328d71a3c13546ca969729a843bdb416",
            "12ee72ff33aa4ee2ace4132778369981",
            "bc7df024564d4eea991c596bca098273",
            "e2c9644a4b114e798e037611761084ee",
            "62340e4d9a2140e6aac641677d26d468",
            "ebc07fa93bd94eb28ff5521fa1243437",
            "fc852b4983d747379bc5d33f0a53d416",
            "19caffdb348f43faab0d0387d870824f",
            "9cf03e3f97b14ef8ae9008ed37e014df",
            "42d1403ddbc44b0faa4ec1f1615fa6a8",
            "20c7e7de51584002b8f98fbc11c7945f",
            "b97bb68acf0a4366a95bd3c37615aeae",
            "ed2f184e241f423ebba0f09ba0f5fe23",
            "1fd0866bcb834c94af8b85db93078895",
            "1163661fd1954ecb944df5ff0bb2f19e",
            "cf73fc37976a4488b2f737c9bf757d20",
            "e8f0a3af36424c8cbc575c07ee8ad483",
            "d03c26d8ff2e41e9a3a5ee398faa39f3",
            "7e9ee0c3ef6b42dd89f7f23f79ea0f87",
            "15e56ab7122e49558cfa6aa74fcc8c3d",
            "2549acf8bea54706b99f59078b80e81c",
            "18b00fc6bf83422d91fd3a3b903ee014",
            "fa8cd05f855440368b92f3004c6ab27f",
            "4f42fb1a93da49b3a5ce7d4c838417bb",
            "95e07567c25d4f87afb760a4dfec9ee6",
            "4a2c0c08feca417db5b381e95b9e6fe6",
            "e8450bb3c83a4b779a2edfa3cc18e575",
            "725359cf863b4c55a1a21c5f0ef4f524",
            "5a61ae5afcc24695af1a798c8e4f2bad",
            "1f1d5da8b3d845c1a043a701c5874316",
            "f5b8455ac5af4ee980d2fe27d1355001",
            "6257974d0b4543baa00748f0237a7381",
            "979386d2ef6d458fa1158d6b9c973b75",
            "78a338738c144cdca6ed276c85ab2b0b",
            "18efa076a0e74e528d8e64d87ba15454",
            "431d9c07528740a989f2d3ba9bb27345"
          ]
        },
        "id": "8krAK2zW2pQI",
        "outputId": "5607cfe1-16ae-4334-9748-a759f0218591"
      },
      "execution_count": null,
      "outputs": [
        {
          "output_type": "display_data",
          "data": {
            "text/plain": [
              "Downloading (…)okenizer_config.json:   0%|          | 0.00/28.0 [00:00<?, ?B/s]"
            ],
            "application/vnd.jupyter.widget-view+json": {
              "version_major": 2,
              "version_minor": 0,
              "model_id": "907395f796d44f118cf6e2658ff634b4"
            }
          },
          "metadata": {}
        },
        {
          "output_type": "display_data",
          "data": {
            "text/plain": [
              "Downloading (…)solve/main/vocab.txt:   0%|          | 0.00/232k [00:00<?, ?B/s]"
            ],
            "application/vnd.jupyter.widget-view+json": {
              "version_major": 2,
              "version_minor": 0,
              "model_id": "e2c9644a4b114e798e037611761084ee"
            }
          },
          "metadata": {}
        },
        {
          "output_type": "display_data",
          "data": {
            "text/plain": [
              "Downloading (…)/main/tokenizer.json:   0%|          | 0.00/466k [00:00<?, ?B/s]"
            ],
            "application/vnd.jupyter.widget-view+json": {
              "version_major": 2,
              "version_minor": 0,
              "model_id": "1163661fd1954ecb944df5ff0bb2f19e"
            }
          },
          "metadata": {}
        },
        {
          "output_type": "display_data",
          "data": {
            "text/plain": [
              "Downloading (…)lve/main/config.json:   0%|          | 0.00/570 [00:00<?, ?B/s]"
            ],
            "application/vnd.jupyter.widget-view+json": {
              "version_major": 2,
              "version_minor": 0,
              "model_id": "4a2c0c08feca417db5b381e95b9e6fe6"
            }
          },
          "metadata": {}
        }
      ]
    },
    {
      "cell_type": "code",
      "source": [
        "!pip install nlpaug -q"
      ],
      "metadata": {
        "colab": {
          "base_uri": "https://localhost:8080/"
        },
        "outputId": "58368c3a-276a-40d9-e075-1bbe937ab442",
        "id": "5aA7xMMFzHcm"
      },
      "execution_count": null,
      "outputs": [
        {
          "output_type": "stream",
          "name": "stdout",
          "text": [
            "\u001b[?25l     \u001b[90m━━━━━━━━━━━━━━━━━━━━━━━━━━━━━━━━━━━━━━━━\u001b[0m \u001b[32m0.0/410.5 kB\u001b[0m \u001b[31m?\u001b[0m eta \u001b[36m-:--:--\u001b[0m\r\u001b[2K     \u001b[91m━━━━━\u001b[0m\u001b[91m╸\u001b[0m\u001b[90m━━━━━━━━━━━━━━━━━━━━━━━━━━━━━━━━━━\u001b[0m \u001b[32m61.4/410.5 kB\u001b[0m \u001b[31m1.7 MB/s\u001b[0m eta \u001b[36m0:00:01\u001b[0m\r\u001b[2K     \u001b[91m━━━━━━━━━━━━━━━━━━━━━━━━━━━━━━━━\u001b[0m\u001b[90m╺\u001b[0m\u001b[90m━━━━━━\u001b[0m \u001b[32m337.9/410.5 kB\u001b[0m \u001b[31m4.9 MB/s\u001b[0m eta \u001b[36m0:00:01\u001b[0m\r\u001b[2K     \u001b[90m━━━━━━━━━━━━━━━━━━━━━━━━━━━━━━━━━━━━━━━\u001b[0m \u001b[32m410.5/410.5 kB\u001b[0m \u001b[31m4.6 MB/s\u001b[0m eta \u001b[36m0:00:00\u001b[0m\n",
            "\u001b[?25h"
          ]
        }
      ]
    },
    {
      "cell_type": "code",
      "source": [
        "import nlpaug\n",
        "import nlpaug.augmenter.word as naw"
      ],
      "metadata": {
        "id": "SXpTnlaNy5z3"
      },
      "execution_count": null,
      "outputs": []
    },
    {
      "cell_type": "code",
      "source": [
        "AUG = naw.SynonymAug(aug_src='wordnet', aug_min=5, aug_max=15)\n"
      ],
      "metadata": {
        "colab": {
          "base_uri": "https://localhost:8080/"
        },
        "outputId": "9539cb89-65f4-493c-cd0c-a0614a6bd25d",
        "id": "oDS9OZOzy5z7"
      },
      "execution_count": null,
      "outputs": [
        {
          "output_type": "stream",
          "name": "stderr",
          "text": [
            "[nltk_data] Downloading package wordnet to /root/nltk_data...\n",
            "[nltk_data] Downloading package omw-1.4 to /root/nltk_data...\n"
          ]
        }
      ]
    },
    {
      "cell_type": "code",
      "source": [
        "id = 110\n",
        "new_df.Text_clean[id]"
      ],
      "metadata": {
        "colab": {
          "base_uri": "https://localhost:8080/",
          "height": 36
        },
        "id": "tGEnDNF09lo6",
        "outputId": "07d53e1e-1cdc-4510-f86f-5c570f713b36"
      },
      "execution_count": null,
      "outputs": [
        {
          "output_type": "execute_result",
          "data": {
            "text/plain": [
              "'A supermarket in La Habra is trying to help local seniors during the COVID19 pandemic by opening its doors a halfhour early each day exclusively for shoppers 65 and older'"
            ],
            "application/vnd.google.colaboratory.intrinsic+json": {
              "type": "string"
            }
          },
          "metadata": {},
          "execution_count": 77
        }
      ]
    },
    {
      "cell_type": "code",
      "source": [
        "AUG.augment(new_df.Text_clean[id])[0]"
      ],
      "metadata": {
        "colab": {
          "base_uri": "https://localhost:8080/",
          "height": 36
        },
        "id": "zwWI_H8t9fbE",
        "outputId": "9f449201-4539-4a5c-90c0-d44df168f96e"
      },
      "execution_count": null,
      "outputs": [
        {
          "output_type": "execute_result",
          "data": {
            "text/plain": [
              "'A supermarket in La Habra is essay to aid local seniors during the COVID19 pandemic by opening its doorway a halfhour other each sidereal day exclusively for shoppers 65 and older'"
            ],
            "application/vnd.google.colaboratory.intrinsic+json": {
              "type": "string"
            }
          },
          "metadata": {},
          "execution_count": 78
        }
      ]
    },
    {
      "cell_type": "code",
      "metadata": {
        "id": "9jg78NxEy5z9"
      },
      "source": [
        "class SentimenAugtData(Dataset):\n",
        "    \"\"\"\n",
        "    add augmentation\n",
        "    \"\"\"\n",
        "    def __init__(self, dataframe, tokenizer, max_len, aug_min = 0, aug_max = 0):\n",
        "        self.tokenizer = tokenizer\n",
        "        self.augment = aug_max\n",
        "        if aug_max:\n",
        "            self.AUG = naw.SynonymAug(aug_src='wordnet',\n",
        "                                      aug_min=aug_min,\n",
        "                                      aug_max=aug_max)\n",
        "\n",
        "        self.text = dataframe.Text_clean\n",
        "        self.targets = dataframe.Label\n",
        "        self.max_len = max_len\n",
        "\n",
        "    def __len__(self):\n",
        "        return len(self.text)\n",
        "\n",
        "    def __getitem__(self, index):\n",
        "        text = self.AUG.augment(self.text[index])[0] if self.augment else self.text[index]\n",
        "        text = str(text)\n",
        "        text = \" \".join(text.split())\n",
        "\n",
        "        inputs = self.tokenizer.encode_plus(\n",
        "            text,\n",
        "            None,\n",
        "            add_special_tokens=True,\n",
        "            max_length=self.max_len,\n",
        "            pad_to_max_length=True,\n",
        "            return_token_type_ids=True\n",
        "        )\n",
        "        ids = inputs['input_ids']\n",
        "        mask = inputs['attention_mask']\n",
        "        #token_type_ids = inputs[\"token_type_ids\"]\n",
        "\n",
        "\n",
        "        return {\n",
        "            'ids': torch.tensor(ids, dtype=torch.long),\n",
        "            'mask': torch.tensor(mask, dtype=torch.long),\n",
        "            #'token_type_ids': torch.tensor(token_type_ids, dtype=torch.long),\n",
        "            'targets': torch.tensor(self.targets[index], dtype=torch.float)\n",
        "        }\n",
        "\n",
        "\n"
      ],
      "execution_count": null,
      "outputs": []
    },
    {
      "cell_type": "code",
      "source": [
        "def get_randpart(data, params, part = 0.5, aug = 0):\n",
        "    \"\"\"\n",
        "    take rand part from data with use or not augmentation\n",
        "    with control classes\n",
        "    \"\"\"\n",
        "    if part<1:\n",
        "      data, _ = train_test_split(data,\n",
        "                                stratify= data.Label,\n",
        "                                test_size=part\n",
        "                                )\n",
        "\n",
        "    data = data.reset_index(drop=True)\n",
        "    if aug:\n",
        "        aug_min = np.random.randint(2, aug + 2)\n",
        "        aug_max = np.random.randint(aug + 2, aug + 10)\n",
        "    else:\n",
        "      aug_min, aug_max = aug, aug\n",
        "\n",
        "    data_set =  SentimenAugtData(data, tokenizer, MAX_LEN, aug_min, aug_max)\n",
        "    data_loader = DataLoader(data_set, **params)\n",
        "    return data_loader"
      ],
      "metadata": {
        "id": "AM-ynG2fy5z-"
      },
      "execution_count": null,
      "outputs": []
    },
    {
      "cell_type": "markdown",
      "source": [
        "### Check Max_Len"
      ],
      "metadata": {
        "id": "WSf8mi-3-Sh8"
      }
    },
    {
      "cell_type": "markdown",
      "source": [
        "Долго, уже вычисленно , закомитил"
      ],
      "metadata": {
        "id": "FZuDASElWzP6"
      }
    },
    {
      "cell_type": "code",
      "metadata": {
        "id": "hrbvKGNAlMtt",
        "outputId": "20210671-829b-4eed-b9d8-206014c4272e",
        "colab": {
          "base_uri": "https://localhost:8080/"
        }
      },
      "source": [
        "# Concatenate train data and test data\n",
        "#all_texts = np.concatenate([main_ds.Text_clean.values, test_ds.Text_clean.values])\n",
        "\n",
        "# Encode our concatenated data\n",
        "#encoded_texts = [tokenizer.encode(sent, add_special_tokens=True) for sent in all_texts]\n",
        "\n",
        "# Find the maximum length\n",
        "#max_len = max([len(sent) for sent in encoded_texts])\n",
        "#print('Max length: ', max_len)"
      ],
      "execution_count": null,
      "outputs": [
        {
          "output_type": "stream",
          "name": "stdout",
          "text": [
            "Max length:  123\n"
          ]
        }
      ]
    },
    {
      "cell_type": "markdown",
      "source": [
        "###  train_test_split"
      ],
      "metadata": {
        "id": "sUM2aXGH8arj"
      }
    },
    {
      "cell_type": "code",
      "source": [
        "from sklearn.model_selection import train_test_split\n",
        "SEED = 200\n",
        "train_size = 0.8\n",
        "MAX_LEN = 123\n",
        "\n",
        "\n",
        "train_data, valid_data = train_test_split(new_df,\n",
        "                                          stratify= new_df.Label,\n",
        "                                          test_size=0.2,\n",
        "                                          random_state=SEED)"
      ],
      "metadata": {
        "id": "jywawYysy5z_"
      },
      "execution_count": null,
      "outputs": []
    },
    {
      "cell_type": "code",
      "metadata": {
        "trusted": true,
        "_uuid": "9fc198d13d7f33dc70588c3f22bc7b7c4f4ebb45",
        "id": "vnLXR1P8y50A"
      },
      "source": [
        "TRAIN_BATCH_SIZE = 32\n",
        "VALID_BATCH_SIZE = 16\n",
        "\n",
        "train_params = {'batch_size': TRAIN_BATCH_SIZE,\n",
        "                'shuffle': True,\n",
        "                'num_workers': 0\n",
        "                }\n",
        "\n",
        "valid_params = {'batch_size': VALID_BATCH_SIZE,\n",
        "                'shuffle': True,\n",
        "                'num_workers': 0\n",
        "                }\n",
        "\n",
        "training_loader = get_randpart(data = train_data, params = train_params, aug = 5)\n",
        "valid_loader =  get_randpart(data = valid_data, params = valid_params, aug = 5, part = 1)"
      ],
      "execution_count": null,
      "outputs": []
    },
    {
      "cell_type": "code",
      "execution_count": null,
      "metadata": {
        "id": "pH1db3pZy50A"
      },
      "outputs": [],
      "source": [
        "dataiter = iter(training_loader)\n",
        "sample = next(dataiter)"
      ]
    },
    {
      "cell_type": "code",
      "execution_count": null,
      "metadata": {
        "colab": {
          "base_uri": "https://localhost:8080/"
        },
        "outputId": "ce6176f0-f64e-4000-d82e-bd79cb2a29f7",
        "id": "Ui-eCxpsy50B"
      },
      "outputs": [
        {
          "output_type": "stream",
          "name": "stdout",
          "text": [
            "Sample ids input size torch.Size([32, 123])\n",
            "Sample mask input: \n",
            " torch.Size([32, 123])\n",
            "Sample targets input: \n",
            " torch.Size([32])\n",
            "\n",
            "Sample ids input size tensor([[  101,  4429,  2050,  ...,     0,     0,     0],\n",
            "        [  101, 13025,  3573,  ...,     0,     0,     0],\n",
            "        [  101,  5862,  2118,  ...,     0,     0,     0],\n",
            "        ...,\n",
            "        [  101,  1045,  2228,  ...,     0,     0,     0],\n",
            "        [  101,  1041, 21360,  ...,     0,     0,     0],\n",
            "        [  101,  9095,  2005,  ...,     0,     0,     0]])\n",
            "Sample label: \n",
            " tensor([1., 1., 4., 3., 2., 3., 0., 4., 3., 4., 1., 1., 4., 3., 4., 1., 4., 1.,\n",
            "        3., 3., 0., 1., 3., 0., 2., 2., 2., 0., 1., 3., 3., 3.])\n"
          ]
        }
      ],
      "source": [
        "print('Sample ids input size', sample['ids'].size())\n",
        "print('Sample mask input: \\n', sample['mask'].size())\n",
        "print('Sample targets input: \\n', sample['targets'].size())\n",
        "#print('Sample token_type_ids input: \\n', sample['token_type_ids'].size())\n",
        "\n",
        "print('\\nSample ids input size', sample['ids'])\n",
        "print('Sample label: \\n', sample['targets'])"
      ]
    },
    {
      "cell_type": "markdown",
      "metadata": {
        "id": "KoOdsDgG8b_Z"
      },
      "source": [
        "# Create BertClassifier"
      ]
    },
    {
      "cell_type": "markdown",
      "metadata": {
        "id": "zA_yESCl5nuK"
      },
      "source": [
        "BERT-base consists of 12 transformer layers, each transformer layer takes in a list of token embeddings, and produces the same number of embeddings with the same hidden size (or dimensions) on the output. The output of the final transformer layer of the `[CLS]` token is used as the features of the sequence to feed a classifier.\n",
        "\n",
        "The `transformers` library has the [`BertForSequenceClassification`](https://huggingface.co/transformers/v2.2.0/model_doc/bert.html#bertforsequenceclassification) class which is designed for classification tasks. However, we will create a new class so we can specify our own choice of classifiers.\n",
        "\n",
        "Below we will create a BertClassifier class with a BERT model to extract the last hidden layer of the `[CLS]` token and a single-hidden-layer feed-forward neural network as our classifier."
      ]
    },
    {
      "cell_type": "code",
      "source": [
        "DEVICE = torch.device('cuda' if torch.cuda.is_available() else 'cpu')"
      ],
      "metadata": {
        "id": "u9CR4MztP29Z"
      },
      "execution_count": null,
      "outputs": []
    },
    {
      "cell_type": "code",
      "metadata": {
        "id": "YK41aBFSj5jK",
        "outputId": "0df8f9a2-0c23-4d63-fa95-7233e361f11c",
        "colab": {
          "base_uri": "https://localhost:8080/"
        }
      },
      "source": [
        "%%time\n",
        "from transformers import BertModel\n",
        "\n",
        "# Create the BertClassfier class\n",
        "class BertClassifier(nn.Module):\n",
        "    \"\"\"Bert Model for Classification Tasks.\n",
        "    \"\"\"\n",
        "    def __init__(self, num_classes, freeze_bert=False):\n",
        "        \"\"\"\n",
        "        @param    bert: a BertModel object\n",
        "        @param    classifier: a torch.nn.Module classifier\n",
        "        @param    freeze_bert (bool): Set `False` to fine-tune the BERT model\n",
        "        \"\"\"\n",
        "        super(BertClassifier, self).__init__()\n",
        "        # Instantiate BERT model\n",
        "        self.bert = BertModel.from_pretrained('bert-base-uncased')\n",
        "\n",
        "\n",
        "        # Specify hidden size of BERT, hidden size of our classifier, and number of labels\n",
        "        D_in_1, D_in_2, H_1, H_2, D_out = 1536, 768, 50, 100, num_classes\n",
        "\n",
        "        # Instantiate an one-layer feed-forward classifier\n",
        "        self.pre_classifier_1 = nn.Sequential(\n",
        "            nn.Linear(D_in_1, H_1),\n",
        "            nn.ReLU(),\n",
        "            nn.Dropout(0.5))\n",
        "\n",
        "        self.pre_classifier_2 = nn.Sequential(\n",
        "            nn.Linear(D_in_2, H_1),\n",
        "            nn.ReLU(),\n",
        "            nn.Dropout(0.5))\n",
        "\n",
        "        self.classifier  =  nn.Linear(H_2, D_out)\n",
        "\n",
        "\n",
        "        # Freeze the BERT model\n",
        "        if freeze_bert:\n",
        "            for param in self.bert.parameters():\n",
        "                param.requires_grad = False\n",
        "\n",
        "    def forward(self, input_ids, attention_mask):\n",
        "        \"\"\"\n",
        "        Feed input to BERT and the classifier to compute logits.\n",
        "        @param    input_ids (torch.Tensor): an input tensor with shape (batch_size,\n",
        "                      max_length)\n",
        "        @param    attention_mask (torch.Tensor): a tensor that hold attention mask\n",
        "                      information with shape (batch_size, max_length)\n",
        "        @return   logits (torch.Tensor): an output tensor with shape (batch_size,\n",
        "                      num_labels)\n",
        "        \"\"\"\n",
        "        # Feed input to BERT\n",
        "        outputs = self.bert(input_ids=input_ids,\n",
        "                            attention_mask=attention_mask)\n",
        "\n",
        "        hidden_state = outputs[0]\n",
        "        avg_pool = torch.mean(hidden_state, 1)\n",
        "        max_pool, _ = torch.max(hidden_state, 1)\n",
        "\n",
        "        conc_1 = torch.cat((avg_pool, max_pool), 1)\n",
        "        pre_logits_1 = self.pre_classifier_1(conc_1)\n",
        "\n",
        "        #RuntimeError: mat1 and mat2 shapes cannot be multiplied (32x1586 and 50x5)\n",
        "        # Extract the last hidden state of the token `[CLS]` for classification task\n",
        "        last_hidden_state_cls = outputs[0][:, 0, :]\n",
        "\n",
        "        # Feed input to classifier to compute logits\n",
        "        pre_logits_2 = self.pre_classifier_2(last_hidden_state_cls)\n",
        "\n",
        "        conc = torch.cat((pre_logits_1, pre_logits_2), 1)\n",
        "        logits = self.classifier(conc)\n",
        "\n",
        "        return logits"
      ],
      "execution_count": null,
      "outputs": [
        {
          "output_type": "stream",
          "name": "stdout",
          "text": [
            "CPU times: user 6.04 ms, sys: 0 ns, total: 6.04 ms\n",
            "Wall time: 5.88 ms\n"
          ]
        }
      ]
    },
    {
      "cell_type": "markdown",
      "metadata": {
        "id": "V6iOXiN8-8gc"
      },
      "source": [
        "To fine-tune our Bert Classifier, we need to create an optimizer. The authors recommend following hyper-parameters:\n",
        "\n",
        "- Batch size: 16 or 32\n",
        "- Learning rate (Adam): 5e-5, 3e-5 or 2e-5\n",
        "- Number of epochs: 2, 3, 4\n",
        "\n",
        "Huggingface provided the [run_glue.py](https://github.com/huggingface/transformers/blob/5bfcd0485ece086ebcbed2d008813037968a9e58/examples/run_glue.py#L109) script, an examples of implementing the `transformers` library. In the script, the AdamW optimizer is used."
      ]
    },
    {
      "cell_type": "code",
      "metadata": {
        "id": "JX7su7Q_269U"
      },
      "source": [
        "from transformers import AdamW, get_linear_schedule_with_warmup\n",
        "\n",
        "def initialize_model(epochs=4):\n",
        "    \"\"\"Initialize the Bert Classifier, the optimizer and the learning rate scheduler.\n",
        "    \"\"\"\n",
        "    # Instantiate Bert Classifier\n",
        "    bert_classifier = BertClassifier(NUM_CLASSES, freeze_bert=False)\n",
        "\n",
        "    # Tell PyTorch to run the model on GPU\n",
        "    bert_classifier.to(DEVICE)\n",
        "\n",
        "\n",
        "    # Create the optimizer\n",
        "    optimizer = AdamW(bert_classifier.parameters(),\n",
        "                      lr=5e-5,    # Default learning rate\n",
        "                      eps=1e-8    # Default epsilon value\n",
        "                      )\n",
        "\n",
        "    # Total number of training steps\n",
        "    total_steps = len(training_loader) * epochs * 2 # get_randpart(data, params, part = 0.5):\n",
        "\n",
        "    # Set up the learning rate scheduler\n",
        "    scheduler = get_linear_schedule_with_warmup(optimizer,\n",
        "                                                num_warmup_steps=0, # Default value\n",
        "                                                num_training_steps=total_steps)\n",
        "    return bert_classifier, optimizer, scheduler"
      ],
      "execution_count": null,
      "outputs": []
    },
    {
      "cell_type": "markdown",
      "metadata": {
        "id": "3zEGSf0nJjI3"
      },
      "source": [
        "# Сonstruction train loop\n",
        "\n",
        "Принцип построение - https://colab.research.google.com/github/mrdbourke/pytorch-deep-learning/blob/main/02_pytorch_classification.ipynb#scrollTo=C_EsAE3VHC7-"
      ]
    },
    {
      "cell_type": "code",
      "source": [
        "from google.colab import drive\n",
        "drive.mount('/content/drive')"
      ],
      "metadata": {
        "colab": {
          "base_uri": "https://localhost:8080/"
        },
        "id": "xXnxCcAZPe1t",
        "outputId": "009abf7b-0048-4a36-b93e-de6e68eca375"
      },
      "execution_count": null,
      "outputs": [
        {
          "output_type": "stream",
          "name": "stdout",
          "text": [
            "Mounted at /content/drive\n"
          ]
        }
      ]
    },
    {
      "cell_type": "markdown",
      "metadata": {
        "id": "DiqfuHNzwV5v"
      },
      "source": [
        "## Functions"
      ]
    },
    {
      "cell_type": "code",
      "source": [
        "import torch\n",
        "\n",
        "def f1_accuracy(preds, labels):\n",
        "\n",
        "    num_classes = preds.size(1)\n",
        "\n",
        "    preds = torch.argmax(preds, dim=1)\n",
        "\n",
        "    f1_scores = []\n",
        "    for class_idx in range(num_classes):\n",
        "        TP = torch.sum((preds == class_idx) & (labels == class_idx))\n",
        "        FP = torch.sum((preds == class_idx) & (labels != class_idx))\n",
        "        FN = torch.sum((preds != class_idx) & (labels == class_idx))\n",
        "\n",
        "        precision = TP / (TP + FP + 1e-8)\n",
        "        recall = TP / (TP + FN + 1e-8)\n",
        "        class_f1 = 2 * (precision * recall) / (precision + recall + 1e-8)\n",
        "\n",
        "        f1_scores.append(class_f1)\n",
        "\n",
        "    macro_f1 = sum(f1_scores) / len(f1_scores)\n",
        "\n",
        "    return macro_f1\n",
        "\n",
        "\n",
        "# Example usage:\n",
        "batch_size = 16\n",
        "num = 5\n",
        "\n",
        "# Generate some random predictions and labels (assuming batch size of 16)\n",
        "preds = torch.randn(batch_size, num)  # Random prediction scores\n",
        "labels = torch.randint(0, num, (batch_size,))  # Random true labels\n",
        "\n",
        "f1_score = f1_accuracy(preds, labels)\n",
        "print(\"Macro F1 Score:\", f1_score)\n",
        "\n"
      ],
      "metadata": {
        "colab": {
          "base_uri": "https://localhost:8080/"
        },
        "id": "WTVmK2NNWtEz",
        "outputId": "24d5a01a-6b48-4af8-c1df-c7a15540b5e3"
      },
      "execution_count": null,
      "outputs": [
        {
          "output_type": "stream",
          "name": "stdout",
          "text": [
            "Macro F1 Score: tensor(0.0571)\n"
          ]
        }
      ]
    },
    {
      "cell_type": "code",
      "source": [
        "class RunningAverage:\n",
        "    \"\"\"\n",
        "    Class to save and update the running average\n",
        "    \"\"\"\n",
        "\n",
        "    def __init__(self) -> None:\n",
        "        self.count = 0\n",
        "        self.total = 0.0\n",
        "\n",
        "    def update(self, n: float) -> None:\n",
        "        \"\"\"\n",
        "        Updates running average with new value\n",
        "        Parameters\n",
        "        ----------\n",
        "        n (float): value to add to the running average\n",
        "        \"\"\"\n",
        "        self.total += n\n",
        "        self.count += 1\n",
        "\n",
        "    def __call__(self) -> float:\n",
        "        \"\"\"\n",
        "        Returns current running average\n",
        "        Returns\n",
        "        -------\n",
        "        running_avg (float): Current running average\n",
        "        \"\"\"\n",
        "        running_avg = self.total / (self.count + 1e-15)\n",
        "        return running_avg"
      ],
      "metadata": {
        "execution": {
          "iopub.status.busy": "2023-01-08T13:15:40.376854Z",
          "iopub.execute_input": "2023-01-08T13:15:40.377264Z",
          "iopub.status.idle": "2023-01-08T13:15:42.234099Z",
          "shell.execute_reply.started": "2023-01-08T13:15:40.377236Z",
          "shell.execute_reply": "2023-01-08T13:15:42.232985Z"
        },
        "trusted": true,
        "id": "O0Wa6ZjvNa5R"
      },
      "execution_count": null,
      "outputs": []
    },
    {
      "cell_type": "code",
      "execution_count": null,
      "metadata": {
        "id": "ZxtxBLy-V5Mp"
      },
      "outputs": [],
      "source": [
        "import gc\n",
        "import sys\n",
        "def train(model, iterator, optimizer, scheduler, criterion, accuracy):\n",
        "    epoch_loss = 0\n",
        "    epoch_acc = 0\n",
        "\n",
        "    loss_avg = RunningAverage()\n",
        "\n",
        "    model.train()\n",
        "    with tqdm(total=len(iterator), leave=False, file=sys.stdout) as t:\n",
        "        #t.set_description()#f'Epoch {e + 1}')\n",
        "        for _, data in enumerate(iterator, 0):\n",
        "            # Force the garbage collection\n",
        "            torch.cuda.empty_cache()\n",
        "            gc.collect()\n",
        "\n",
        "            # Put data to target device\n",
        "            ids = data['ids'].to(DEVICE, dtype = torch.long)\n",
        "            mask = data['mask'].to(DEVICE, dtype = torch.long)\n",
        "            #token_type_ids = data['token_type_ids'].to(device, dtype = torch.long)\n",
        "            targets = data['targets'].to(DEVICE, dtype = torch.long)\n",
        "\n",
        "            #optimizer.zero_grad()\n",
        "            model.zero_grad()\n",
        "\n",
        "            outputs = model(ids, mask)#, token_type_ids)\n",
        "            loss = criterion(outputs, targets)\n",
        "            loss_avg.update(loss.item())\n",
        "\n",
        "            predictions = torch.softmax(outputs, dim=1)\n",
        "            acc = accuracy(predictions, targets) #torch.argmax inside for F1\n",
        "\n",
        "            t.set_postfix({'stats': f'train_loss: {loss_avg():.4f}'})\n",
        "            t.update()\n",
        "            stats_time_elapsed = t.format_interval(t.format_dict['elapsed'])\n",
        "\n",
        "            loss.backward()\n",
        "            optimizer.step()\n",
        "\n",
        "            epoch_loss += loss.item()\n",
        "            epoch_acc += acc.item()\n",
        "\n",
        "            cur_lr = scheduler.get_lr()[0]\n",
        "            scheduler.step()\n",
        "\n",
        "    return epoch_loss / len(iterator), epoch_acc / len(iterator), cur_lr"
      ]
    },
    {
      "cell_type": "code",
      "source": [
        "# Calculate class frequencies\n",
        "class_frequencies = main_ds.Label.value_counts().sort_index()\n",
        "\n",
        "# Calculate class weights inversely proportional to class frequencies\n",
        "total_samples = len(main_ds)\n",
        "class_weights = total_samples / (len(class_frequencies) * class_frequencies)\n",
        "\n",
        "# Convert class weights to a PyTorch tensor\n",
        "class_weights_tensor = torch.tensor(class_weights.values, dtype=torch.float)\n",
        "\n",
        "criterion = nn.CrossEntropyLoss(weight=class_weights_tensor).to(DEVICE)"
      ],
      "metadata": {
        "id": "eTD9SwnK1Cpf"
      },
      "execution_count": null,
      "outputs": []
    },
    {
      "cell_type": "markdown",
      "source": [
        "## Init Bert_model"
      ],
      "metadata": {
        "id": "D_dY81FsZwSy"
      }
    },
    {
      "cell_type": "code",
      "metadata": {
        "id": "wfYw7dJ0U0v6",
        "outputId": "caa0e5ab-ba3e-4625-9c82-936f4d13058b",
        "colab": {
          "base_uri": "https://localhost:8080/",
          "height": 49,
          "referenced_widgets": [
            "b4987c43c2834a4f997644e03e6e3e3c",
            "bfb408d7b2d6497db5c4662d207a60ef",
            "4e00a638a2904829b72deaaf1423a247",
            "800af506bf594b0baf8b0448ed5b661f",
            "d249b0c93d2e484fb0fa0d372caf873d",
            "3f7faf0063354fb89d11b7025196a861",
            "08178f7a657e46a99c6e61d66770d641",
            "39fbdbb76e6e483da70f08209580ddc3",
            "a176361e16b1418d85bf9f233e5adf9f",
            "9df489e2888546fe9cf5cb3756680653",
            "3ba34413e4b44d179e6c1e943a1f1b03"
          ]
        }
      },
      "source": [
        "EPOCHS = 1\n",
        "\n",
        "bert_classifier, optimizer, lr_scheduler = initialize_model(epochs=EPOCHS)\n"
      ],
      "execution_count": null,
      "outputs": [
        {
          "output_type": "display_data",
          "data": {
            "text/plain": [
              "Downloading model.safetensors:   0%|          | 0.00/440M [00:00<?, ?B/s]"
            ],
            "application/vnd.jupyter.widget-view+json": {
              "version_major": 2,
              "version_minor": 0,
              "model_id": "b4987c43c2834a4f997644e03e6e3e3c"
            }
          },
          "metadata": {}
        }
      ]
    },
    {
      "cell_type": "code",
      "source": [
        "for epoch in range(EPOCHS):\n",
        "   train_loss, train_acc, ep_lr = train(bert_classifier, training_loader, optimizer,\n",
        "                                         lr_scheduler, criterion, f1_accuracy)"
      ],
      "metadata": {
        "colab": {
          "base_uri": "https://localhost:8080/"
        },
        "id": "H_loy1hr88Ye",
        "outputId": "bbbb577b-44c1-4a23-951f-28b0af5302e3"
      },
      "execution_count": null,
      "outputs": [
        {
          "output_type": "stream",
          "name": "stdout",
          "text": []
        }
      ]
    },
    {
      "cell_type": "code",
      "source": [
        "train_loss, train_acc"
      ],
      "metadata": {
        "colab": {
          "base_uri": "https://localhost:8080/"
        },
        "id": "H4QY6KM8JZpP",
        "outputId": "b9bf3d1d-1389-419a-e854-9f3288d863f7"
      },
      "execution_count": null,
      "outputs": [
        {
          "output_type": "execute_result",
          "data": {
            "text/plain": [
              "(1.1936042448849353, 0.44919348360554684)"
            ]
          },
          "metadata": {},
          "execution_count": 156
        }
      ]
    },
    {
      "cell_type": "code",
      "execution_count": null,
      "metadata": {
        "id": "_Z59zHV_7rK1"
      },
      "outputs": [],
      "source": [
        "def evaluate(model, iterator, criterion, accuracy):\n",
        "\n",
        "    epoch_loss = 0\n",
        "    epoch_acc = 0\n",
        "\n",
        "    ### Testing\n",
        "    model.eval()\n",
        "\n",
        "    with torch.no_grad():\n",
        "\n",
        "        for _,data in tqdm(enumerate(iterator, 0)):\n",
        "\n",
        "            # Put data to target device\n",
        "            ids = data['ids'].to(DEVICE, dtype = torch.long)\n",
        "            mask = data['mask'].to(DEVICE, dtype = torch.long)\n",
        "            #token_type_ids = data['token_type_ids'].to(device, dtype = torch.long)\n",
        "            targets = data['targets'].to(DEVICE, dtype = torch.long)\n",
        "\n",
        "            outputs = model(ids, mask)#, token_type_ids)\n",
        "            loss = criterion(outputs, targets)\n",
        "\n",
        "            predictions = torch.softmax(outputs, dim=1)\n",
        "            acc = accuracy(predictions, targets) #torch.argmax inside for F1\n",
        "\n",
        "            epoch_loss += loss.item()\n",
        "            epoch_acc += acc.item()\n",
        "\n",
        "    return epoch_loss / len(iterator), epoch_acc / len(iterator)"
      ]
    },
    {
      "cell_type": "code",
      "source": [
        "evaluate(bert_classifier, valid_loader, criterion, f1_accuracy)"
      ],
      "metadata": {
        "colab": {
          "base_uri": "https://localhost:8080/"
        },
        "id": "G6ysqVVOIKbY",
        "outputId": "1af31acb-d900-4cf4-d50d-0a67f7f49717"
      },
      "execution_count": null,
      "outputs": [
        {
          "output_type": "stream",
          "name": "stderr",
          "text": [
            "258it [00:59,  4.34it/s]\n"
          ]
        },
        {
          "output_type": "execute_result",
          "data": {
            "text/plain": [
              "(0.9836395680904388, 0.5283666549380436)"
            ]
          },
          "metadata": {},
          "execution_count": 157
        }
      ]
    },
    {
      "cell_type": "code",
      "execution_count": null,
      "metadata": {
        "id": "yXREuJiY01lx"
      },
      "outputs": [],
      "source": [
        "def predict(model, iterator):\n",
        "\n",
        "    ### Testing\n",
        "    model.eval()\n",
        "\n",
        "    predicts = []\n",
        "\n",
        "    with torch.no_grad():\n",
        "          for _, data in tqdm(enumerate(iterator, 0)):\n",
        "            # Put data to target device\n",
        "            ids = data['ids'].to(DEVICE, dtype = torch.long)\n",
        "            mask = data['mask'].to(DEVICE, dtype = torch.long)\n",
        "            # token_type_ids = data['token_type_ids'].to(devDEVICEice,\n",
        "                                                       #dtype = torch.long)\n",
        "\n",
        "\n",
        "            outputs = model(ids, mask)#, token_type_ids)\n",
        "            test_pred = torch.softmax(outputs, dim=1)\n",
        "            test_pred = torch.argmax(test_pred, dim=1)\n",
        "\n",
        "            # 3. Caculate loss/accuracy\n",
        "            predicts.append(test_pred.cpu().numpy())\n",
        "\n",
        "    return np.hstack(predicts)"
      ]
    },
    {
      "cell_type": "code",
      "execution_count": null,
      "metadata": {
        "id": "T46tEiWiJ2nI"
      },
      "outputs": [],
      "source": [
        "def predict_both(model, iterator):\n",
        "\n",
        "    ### Testing\n",
        "    model.eval()\n",
        "\n",
        "    predicts = []\n",
        "    y_true = []\n",
        "\n",
        "    with torch.no_grad():\n",
        "          for _, data in tqdm(enumerate(iterator, 0)):\n",
        "            # Put data to target device\n",
        "            ids = data['ids'].to(DEVICE, dtype = torch.long)\n",
        "            mask = data['mask'].to(DEVICE, dtype = torch.long)\n",
        "            #token_type_ids = data['token_type_ids'].to(DEVICE,\n",
        "                                                       #dtype = torch.long)\n",
        "\n",
        "            targets = data['targets']\n",
        "\n",
        "            outputs = model(ids, mask)#, token_type_ids)\n",
        "            test_pred = torch.softmax(outputs, dim=1)\n",
        "            test_pred = torch.argmax(test_pred, dim=1)\n",
        "\n",
        "            # 3. Caculate loss/accuracy\n",
        "            predicts.append(test_pred.cpu().numpy())\n",
        "            y_true.append(targets.cpu().numpy())\n",
        "\n",
        "    return np.hstack(predicts), np.hstack(y_true)"
      ]
    },
    {
      "cell_type": "code",
      "execution_count": null,
      "metadata": {
        "id": "jzzUqwfC7rK1"
      },
      "outputs": [],
      "source": [
        "import time\n",
        "\n",
        "def epoch_time(start_time, end_time):\n",
        "    elapsed_time = end_time - start_time\n",
        "    elapsed_mins = int(elapsed_time / 60)\n",
        "    elapsed_secs = int(elapsed_time - (elapsed_mins * 60))\n",
        "    return elapsed_mins, elapsed_secs"
      ]
    },
    {
      "cell_type": "code",
      "execution_count": null,
      "metadata": {
        "id": "VFXnN2jOKWGf"
      },
      "outputs": [],
      "source": [
        "def plot_graph(epochs, losses, accuracy, learning_rate):\n",
        "    fig, axs = plt.subplots(1, 3, figsize=(18, 5))\n",
        "    axs[0].set_title(\"Train/Validation Loss\")\n",
        "    axs[0].plot(list(np.arange(epochs) + 1), losses[0], label='train')\n",
        "    axs[0].plot(list(np.arange(epochs) + 1), losses[1], label='validation')\n",
        "    axs[0].set(xlabel='num_epochs', ylabel='loss')\n",
        "\n",
        "    axs[1].set_title(\"Train/Validation Accuracy\")\n",
        "    axs[1].plot(list(np.arange(epochs) + 1), accuracy[0], label='train')\n",
        "    axs[1].plot(list(np.arange(epochs) + 1), accuracy[1], label='validation')\n",
        "    axs[1].set(xlabel='num_epochs', ylabel='acc')\n",
        "\n",
        "    axs[2].set_title(\"History learning_rate\")\n",
        "    axs[2].plot(list(np.arange(epochs) + 1), learning_rate)\n",
        "    axs[2].set(xlabel='num_epochs', ylabel='lr')"
      ]
    },
    {
      "cell_type": "markdown",
      "metadata": {
        "id": "r40S8Ki9J99X"
      },
      "source": [
        "# Run the model\n",
        "\n",
        "[CrossEntropyLoss](https://pytorch.org/docs/stable/nn.html?highlight=crossentropyloss#torch.nn.CrossEntropyLoss)_\n",
        "criterion combines ``nn.LogSoftmax()`` and ``nn.NLLLoss()`` in a single class.\n",
        "It is useful when training a classification problem with C classes.\n",
        "[SGD](https://pytorch.org/docs/stable/_modules/torch/optim/sgd.html)_\n",
        "implements stochastic gradient descent method as the optimizer. The initial\n",
        "learning rate is set to 5.0.\n",
        "[StepLR](https://pytorch.org/docs/master/_modules/torch/optim/lr_scheduler.html#StepLR)_\n",
        "is used here to adjust the learning rate through epochs.\n",
        "\n",
        "\n"
      ]
    },
    {
      "cell_type": "code",
      "source": [
        "def update_optimizer(parameters, training_loader, lr_rate, n_epochs):\n",
        "\n",
        "    # Create the optimizer\n",
        "    optimizer = AdamW(parameters,\n",
        "                      lr=lr_rate,    # Default learning rate\n",
        "                      eps=1e-8    # Default epsilon value\n",
        "                      )\n",
        "\n",
        "    # Total number of training steps\n",
        "    total_steps = len(training_loader) * n_epochs * 2 # get_randpart(data, params, part = 0.5):\n",
        "\n",
        "    # Set up the learning rate scheduler\n",
        "    scheduler = get_linear_schedule_with_warmup(optimizer,\n",
        "                                                num_warmup_steps=5e-5, # Default value\n",
        "                                                num_training_steps=total_steps)\n",
        "\n",
        "    return optimizer, scheduler\n"
      ],
      "metadata": {
        "id": "m4ucf-QAcEXq"
      },
      "execution_count": null,
      "outputs": []
    },
    {
      "cell_type": "markdown",
      "source": [
        "## Start with F1_accuracy"
      ],
      "metadata": {
        "id": "Kj4swpKnFPS5"
      }
    },
    {
      "cell_type": "code",
      "source": [
        "N_EPOCHS = 7\n",
        "LR_RATE = 5e-5\n",
        "optimizer, lr_scheduler = update_optimizer(bert_classifier.parameters(), training_loader, LR_RATE, N_EPOCHS)"
      ],
      "metadata": {
        "id": "lK0uIQR5c0Rb"
      },
      "execution_count": null,
      "outputs": []
    },
    {
      "cell_type": "code",
      "source": [
        "JDUN_TRAIN = 2\n",
        "JDUN_END = 4\n",
        "EPS = 0.85\n",
        "model_loss_saved = False\n",
        "model_acc_saved = False\n",
        "\n",
        "try:\n",
        "  if best_valid_loss and best_valid_acc:\n",
        "    pass\n",
        "except:\n",
        "    best_valid_loss = float('inf')\n",
        "    best_valid_acc = 0.\n",
        "\n",
        "hist_train_loss, hist_valid_loss, hist_train_acc, hist_valid_acc = [], [], [], []\n",
        "hist_lr = []\n",
        "\n",
        "save_dir = '/content/drive/Othercomputers/My_comp/Documents/МФТИ - Наука о данных/NLP_course/DZ/Text_classification/Berta/'\n",
        "path_bestacc_model = save_dir + 'best_acc_aug_model.pt'\n",
        "path_bestloss_model = save_dir + 'best_loss_aug_model.pt'\n",
        "\n",
        "\n",
        "wait_train = 0\n",
        "wait2end = 0\n",
        "\n",
        "for epoch in range(N_EPOCHS):\n",
        "    start_time = time.time()\n",
        "\n",
        "    # take again rand half_part from train_data, valid_data\n",
        "    # training\n",
        "    training_loader = get_randpart(data = train_data, params = train_params, aug = 5)\n",
        "    valid_loader =  get_randpart(data = valid_data, params = valid_params, aug = 5)\n",
        "\n",
        "    train_loss, train_acc, ep_lr = train(bert_classifier, training_loader, optimizer,\n",
        "                                         lr_scheduler, criterion, f1_accuracy)\n",
        "    # write history train\n",
        "    hist_train_loss.append(train_loss)\n",
        "    hist_train_acc.append(train_acc)\n",
        "\n",
        "    # evaluaining\n",
        "    valid_loss, valid_acc = evaluate(bert_classifier, valid_loader, criterion,\n",
        "                                     f1_accuracy)\n",
        "    # write history validate\n",
        "    hist_valid_loss.append(valid_loss)\n",
        "    hist_valid_acc.append(valid_acc)\n",
        "    hist_lr.append(ep_lr)\n",
        "\n",
        "    # timing\n",
        "    end_time = time.time()\n",
        "    epoch_mins, epoch_secs = epoch_time(start_time, end_time)\n",
        "\n",
        "\n",
        "    # compare results  for saving model\n",
        "    text_add = ''\n",
        "    # compare by loss\n",
        "    if valid_loss < best_valid_loss:\n",
        "        best_valid_loss = valid_loss\n",
        "        torch.save(bert_classifier.state_dict(), path_bestloss_model)\n",
        "\n",
        "        model_loss_saved = True\n",
        "        text_add = ' - save best_loss_model'\n",
        "        wait2end = 0\n",
        "        wait_train = 0\n",
        "        k = 0\n",
        "    # compare by acc\n",
        "    if valid_acc > best_valid_acc:\n",
        "        best_valid_acc = valid_acc\n",
        "        torch.save(bert_classifier.state_dict(), path_bestacc_model)\n",
        "\n",
        "        model_acc_saved = True\n",
        "        text_add += ' - save best_acc_model'\n",
        "        wait2end = 0\n",
        "        wait_train = 0\n",
        "        k = 1\n",
        "    else:\n",
        "        wait_train+=1\n",
        "\n",
        "    # checpoint for loading previous best model by loss or acc\n",
        "    if wait_train > JDUN_TRAIN:\n",
        "       if model_loss_saved and k == 0:\n",
        "         bert_classifier.load_state_dict(torch.load(path_bestloss_model))\n",
        "         text_add = ' - load best_loss_model'\n",
        "         k = 1\n",
        "       elif model_acc_saved and k == 1:\n",
        "         bert_classifier.load_state_dict(torch.load(path_bestacc_model))\n",
        "         text_add = ' - load best_acc_model'\n",
        "         k = 0\n",
        "       # update optimizer and lr_scheduler\n",
        "       LR_RATE *= EPS\n",
        "       optimizer, lr_scheduler = update_optimizer(bert_classifier.parameters(),\n",
        "                                                  training_loader,\n",
        "                                                  LR_RATE,\n",
        "                                                  N_EPOCHS - epoch +1\n",
        "                                                  )\n",
        "       # update waitings\n",
        "       wait_train = 0\n",
        "       wait2end+=1\n",
        "\n",
        "    # print loggs\n",
        "    print(f'Epoch: {epoch+1:02} | with lr: {ep_lr:.9f} | Epoch Time: {epoch_mins}m {epoch_secs}s')\n",
        "    print(f'\\tTrain_Loss: {train_loss:.3f} | Train_Acc: {train_acc*100:.2f}%  Val_Loss: {valid_loss:.3f} | Val_Acc: {valid_acc*100:.2f}%' + text_add)\n",
        "\n",
        "    # finish training with loading best to predict\n",
        "    if wait2end > JDUN_END:\n",
        "      if k == 0:\n",
        "        bert_classifier.load_state_dict(torch.load(path_bestloss_model))\n",
        "        text_add = ' - load best_loss_model'\n",
        "\n",
        "      elif k == 1:\n",
        "        bert_classifier.load_state_dict(torch.load(path_bestacc_model))\n",
        "        text_add = ' - load best_acc_model'\n",
        "\n",
        "      print('Stop train, do not best fitness'+ text_add)\n",
        "      break"
      ],
      "metadata": {
        "colab": {
          "base_uri": "https://localhost:8080/"
        },
        "outputId": "e75f5890-c4d4-44f4-c431-0d99f05926ef",
        "id": "TeK6Y4uGS0pO"
      },
      "execution_count": null,
      "outputs": [
        {
          "output_type": "stream",
          "name": "stdout",
          "text": []
        },
        {
          "output_type": "stream",
          "name": "stderr",
          "text": [
            "258it [00:40,  6.35it/s]\n"
          ]
        },
        {
          "output_type": "stream",
          "name": "stdout",
          "text": [
            "Epoch: 01 | with lr: 0.000041713 | Epoch Time: 12m 6s\n",
            "\tTrain_Loss: 0.436 | Train_Acc: 83.65%  Val_Loss: 0.938 | Val_Acc: 66.63% - save best_loss_model - save best_acc_model\n"
          ]
        },
        {
          "output_type": "stream",
          "name": "stderr",
          "text": [
            "258it [00:41,  6.26it/s]\n"
          ]
        },
        {
          "output_type": "stream",
          "name": "stdout",
          "text": [
            "Epoch: 02 | with lr: 0.000038141 | Epoch Time: 12m 19s\n",
            "\tTrain_Loss: 0.427 | Train_Acc: 83.86%  Val_Loss: 0.898 | Val_Acc: 64.14% - save best_loss_model\n"
          ]
        },
        {
          "output_type": "stream",
          "name": "stderr",
          "text": [
            "258it [00:41,  6.15it/s]\n"
          ]
        },
        {
          "output_type": "stream",
          "name": "stdout",
          "text": [
            "Epoch: 03 | with lr: 0.000034570 | Epoch Time: 12m 36s\n",
            "\tTrain_Loss: 0.352 | Train_Acc: 86.55%  Val_Loss: 0.993 | Val_Acc: 62.73%\n"
          ]
        },
        {
          "output_type": "stream",
          "name": "stderr",
          "text": [
            "258it [00:40,  6.32it/s]\n"
          ]
        },
        {
          "output_type": "stream",
          "name": "stdout",
          "text": [
            "Epoch: 04 | with lr: 0.000030999 | Epoch Time: 12m 30s\n",
            "\tTrain_Loss: 0.331 | Train_Acc: 87.23%  Val_Loss: 0.926 | Val_Acc: 65.66% - load best_loss_model\n"
          ]
        },
        {
          "output_type": "stream",
          "name": "stderr",
          "text": [
            "258it [00:41,  6.29it/s]\n"
          ]
        },
        {
          "output_type": "stream",
          "name": "stdout",
          "text": [
            "Epoch: 05 | with lr: 0.000038258 | Epoch Time: 12m 35s\n",
            "\tTrain_Loss: 0.381 | Train_Acc: 85.77%  Val_Loss: 0.869 | Val_Acc: 64.22% - save best_loss_model\n"
          ]
        },
        {
          "output_type": "stream",
          "name": "stderr",
          "text": [
            "258it [00:43,  5.96it/s]\n"
          ]
        },
        {
          "output_type": "stream",
          "name": "stdout",
          "text": [
            "Epoch: 06 | with lr: 0.000034008 | Epoch Time: 12m 46s\n",
            "\tTrain_Loss: 0.359 | Train_Acc: 87.11%  Val_Loss: 0.937 | Val_Acc: 64.44%\n"
          ]
        },
        {
          "output_type": "stream",
          "name": "stderr",
          "text": [
            "258it [00:42,  6.10it/s]\n"
          ]
        },
        {
          "output_type": "stream",
          "name": "stdout",
          "text": [
            "Epoch: 07 | with lr: 0.000029758 | Epoch Time: 12m 49s\n",
            "\tTrain_Loss: 0.361 | Train_Acc: 86.61%  Val_Loss: 1.005 | Val_Acc: 63.93% - load best_loss_model\n"
          ]
        }
      ]
    },
    {
      "cell_type": "code",
      "execution_count": null,
      "metadata": {
        "colab": {
          "base_uri": "https://localhost:8080/",
          "height": 487
        },
        "outputId": "ef25e897-10ba-4a97-b36b-4db278158783",
        "id": "ElmwqG2iaDf9"
      },
      "outputs": [
        {
          "output_type": "display_data",
          "data": {
            "text/plain": [
              "<Figure size 1800x500 with 3 Axes>"
            ],
            "image/png": "[encoded data removed]"
          },
          "metadata": {}
        }
      ],
      "source": [
        "train_ephs = len(hist_train_loss)\n",
        "losses = (hist_train_loss, hist_valid_loss)\n",
        "accuracy = (hist_train_acc, hist_valid_acc)\n",
        "plot_graph(train_ephs, losses, accuracy, hist_lr)"
      ]
    },
    {
      "cell_type": "markdown",
      "source": [
        "На текущем этапе в сложных условиях тренировки и с аугментацией случайной и на train и на val проверка на тесте около 72%.\n",
        "То есть лучше чем на валидации. Для условий соревнования можно оставить проверку на F1, но валидации убрать аугментацию"
      ],
      "metadata": {
        "id": "jerK65QE9HUG"
      }
    },
    {
      "cell_type": "markdown",
      "source": [
        "## Next train"
      ],
      "metadata": {
        "id": "11Is-8LJGLA_"
      }
    },
    {
      "cell_type": "markdown",
      "source": [
        "### Load saved model"
      ],
      "metadata": {
        "id": "4KlUslxCGeGc"
      }
    },
    {
      "cell_type": "code",
      "source": [
        "load_dir = '/content/drive/Othercomputers/My_comp/Documents/МФТИ - Наука о данных/NLP_course/DZ/Text_classification/Berta/'"
      ],
      "metadata": {
        "id": "OAxEGd9dGeGw"
      },
      "execution_count": null,
      "outputs": []
    },
    {
      "cell_type": "code",
      "source": [
        "k = 1 # 1 - will loaded best_acc_model, 1 - will loaded best_loss_model\n",
        "if k == 0:\n",
        "  bert_classifier.load_state_dict(torch.load(load_dir + 'best_loss_aug_model.pt'))\n",
        "  text_add = ' - best_loss_model'\n",
        "  model_saved = True\n",
        "\n",
        "elif k == 1:\n",
        "  bert_classifier.load_state_dict(torch.load(load_dir + 'best_acc_aug_model.pt'))\n",
        "  text_add = ' - best_acc_model'\n",
        "  model_saved = True\n",
        "print('load' + text_add)"
      ],
      "metadata": {
        "colab": {
          "base_uri": "https://localhost:8080/"
        },
        "outputId": "5868d703-c812-47cc-e8e3-c452837a0743",
        "id": "FPE7dstAGeGx"
      },
      "execution_count": null,
      "outputs": [
        {
          "output_type": "stream",
          "name": "stdout",
          "text": [
            "load - best_acc_model\n"
          ]
        }
      ]
    },
    {
      "cell_type": "code",
      "source": [
        "N_EPOCHS = 7\n",
        "LR_RATE = 3e-5\n",
        "optimizer, lr_scheduler = update_optimizer(bert_classifier.parameters(), training_loader, LR_RATE, N_EPOCHS)"
      ],
      "metadata": {
        "id": "DcQsX-WAGLBW"
      },
      "execution_count": null,
      "outputs": []
    },
    {
      "cell_type": "code",
      "source": [
        "JDUN_TRAIN = 2\n",
        "JDUN_END = 4\n",
        "EPS = 0.85\n",
        "model_loss_saved = True\n",
        "model_acc_saved = True\n",
        "\n",
        "\n",
        "try:\n",
        "  if best_valid_loss and best_valid_acc:\n",
        "    pass\n",
        "except:\n",
        "    best_valid_loss = 0.869 #float('inf')\n",
        "    best_valid_acc = 0.6663\n",
        "\n",
        "hist_train_loss, hist_valid_loss, hist_train_acc, hist_valid_acc = [], [], [], []\n",
        "hist_lr = []\n",
        "\n",
        "save_dir = '/content/drive/Othercomputers/My_comp/Documents/МФТИ - Наука о данных/NLP_course/DZ/Text_classification/Berta/'\n",
        "path_bestacc_model = save_dir + 'best_acc_aug_model.pt'\n",
        "path_bestloss_model = save_dir + 'best_loss_aug_model.pt'\n",
        "\n",
        "\n",
        "wait_train = 0\n",
        "wait2end = 0\n",
        "\n",
        "for epoch in range(N_EPOCHS):\n",
        "    start_time = time.time()\n",
        "\n",
        "    # take again rand half_part from train_data, valid_data\n",
        "    # training\n",
        "    training_loader = get_randpart(data = train_data, params = train_params,\n",
        "                                   aug = 5,\n",
        "                                   part = 0.5\n",
        "                                   )\n",
        "    valid_loader =  get_randpart(data = valid_data, params = valid_params,\n",
        "                                 aug =0,\n",
        "                                 part = 1.\n",
        "                                 )\n",
        "\n",
        "    train_loss, train_acc, ep_lr = train(bert_classifier, training_loader, optimizer,\n",
        "                                         lr_scheduler, criterion, f1_accuracy)\n",
        "    # write history train\n",
        "    hist_train_loss.append(train_loss)\n",
        "    hist_train_acc.append(train_acc)\n",
        "\n",
        "    # evaluaining\n",
        "    valid_loss, valid_acc = evaluate(bert_classifier, valid_loader, criterion,\n",
        "                                     f1_accuracy)\n",
        "    # write history validate\n",
        "    hist_valid_loss.append(valid_loss)\n",
        "    hist_valid_acc.append(valid_acc)\n",
        "    hist_lr.append(ep_lr)\n",
        "\n",
        "    # timing\n",
        "    end_time = time.time()\n",
        "    epoch_mins, epoch_secs = epoch_time(start_time, end_time)\n",
        "\n",
        "\n",
        "    # compare results  for saving model\n",
        "    text_add = ''\n",
        "    # compare by loss\n",
        "    if valid_loss < best_valid_loss:\n",
        "        best_valid_loss = valid_loss\n",
        "        torch.save(bert_classifier.state_dict(), path_bestloss_model)\n",
        "\n",
        "        model_loss_saved = True\n",
        "        text_add = ' - save best_loss_model'\n",
        "        wait2end = 0\n",
        "        wait_train = 0\n",
        "        k = 0\n",
        "    # compare by acc\n",
        "    if valid_acc > best_valid_acc:\n",
        "        best_valid_acc = valid_acc\n",
        "        torch.save(bert_classifier.state_dict(), path_bestacc_model)\n",
        "\n",
        "        model_acc_saved = True\n",
        "        text_add += ' - save best_acc_model'\n",
        "        wait2end = 0\n",
        "        wait_train = 0\n",
        "        k = 1\n",
        "    else:\n",
        "        wait_train+=1\n",
        "\n",
        "    # checpoint for loading previous best model by loss or acc\n",
        "    if wait_train > JDUN_TRAIN:\n",
        "       if model_loss_saved and k == 0:\n",
        "         bert_classifier.load_state_dict(torch.load(path_bestloss_model))\n",
        "         text_add = ' - load best_loss_model'\n",
        "         k = 1\n",
        "       elif model_acc_saved and k == 1:\n",
        "         bert_classifier.load_state_dict(torch.load(path_bestacc_model))\n",
        "         text_add = ' - load best_acc_model'\n",
        "         k = 0\n",
        "       # update optimizer and lr_scheduler\n",
        "       LR_RATE *= EPS\n",
        "       optimizer, lr_scheduler = update_optimizer(bert_classifier.parameters(),\n",
        "                                                  training_loader,\n",
        "                                                  LR_RATE,\n",
        "                                                  N_EPOCHS - epoch +1\n",
        "                                                  )\n",
        "       # update waitings\n",
        "       wait_train = 0\n",
        "       wait2end+=1\n",
        "\n",
        "    # print loggs\n",
        "    print(f'Epoch: {epoch+1:02} | with lr: {ep_lr:.9f} | Epoch Time: {epoch_mins}m {epoch_secs}s')\n",
        "    print(f'\\tTrain_Loss: {train_loss:.3f} | Train_Acc: {train_acc*100:.2f}%  Val_Loss: {valid_loss:.3f} | Val_Acc: {valid_acc*100:.2f}%' + text_add)\n",
        "\n",
        "    # finish training with loading best to predict\n",
        "    if wait2end > JDUN_END:\n",
        "      if k == 0:\n",
        "        bert_classifier.load_state_dict(torch.load(path_bestloss_model))\n",
        "        text_add = ' - load best_loss_model'\n",
        "\n",
        "      elif k == 1:\n",
        "        bert_classifier.load_state_dict(torch.load(path_bestacc_model))\n",
        "        text_add = ' - load best_acc_model'\n",
        "\n",
        "      print('Stop train, do not best fitness'+ text_add)\n",
        "      break"
      ],
      "metadata": {
        "colab": {
          "base_uri": "https://localhost:8080/"
        },
        "outputId": "1b9a4bd1-5748-48a6-e003-34ad5a897255",
        "id": "REHNiGMoIVuz"
      },
      "execution_count": null,
      "outputs": [
        {
          "metadata": {
            "tags": null
          },
          "name": "stdout",
          "output_type": "stream",
          "text": [
            ""
          ]
        },
        {
          "metadata": {
            "tags": null
          },
          "name": "stderr",
          "output_type": "stream",
          "text": [
            "515it [01:05,  7.90it/s]\n"
          ]
        },
        {
          "output_type": "stream",
          "name": "stdout",
          "text": [
            "Epoch: 01 | with lr: 0.000027861 | Epoch Time: 13m 15s\n",
            "\tTrain_Loss: 0.384 | Train_Acc: 85.74%  Val_Loss: 0.888 | Val_Acc: 67.29% - save best_acc_model\n"
          ]
        },
        {
          "output_type": "stream",
          "name": "stderr",
          "text": [
            "515it [01:05,  7.89it/s]\n"
          ]
        },
        {
          "output_type": "stream",
          "name": "stdout",
          "text": [
            "Epoch: 02 | with lr: 0.000025718 | Epoch Time: 13m 17s\n",
            "\tTrain_Loss: 0.326 | Train_Acc: 87.33%  Val_Loss: 0.856 | Val_Acc: 68.63% - save best_loss_model - save best_acc_model\n"
          ]
        },
        {
          "output_type": "stream",
          "name": "stderr",
          "text": [
            "515it [01:04,  7.94it/s]\n"
          ]
        },
        {
          "output_type": "stream",
          "name": "stdout",
          "text": [
            "Epoch: 03 | with lr: 0.000023576 | Epoch Time: 13m 18s\n",
            "\tTrain_Loss: 0.304 | Train_Acc: 88.24%  Val_Loss: 0.825 | Val_Acc: 68.84% - save best_loss_model - save best_acc_model\n"
          ]
        },
        {
          "output_type": "stream",
          "name": "stderr",
          "text": [
            "515it [01:05,  7.90it/s]\n"
          ]
        },
        {
          "output_type": "stream",
          "name": "stdout",
          "text": [
            "Epoch: 04 | with lr: 0.000021433 | Epoch Time: 13m 20s\n",
            "\tTrain_Loss: 0.290 | Train_Acc: 88.83%  Val_Loss: 0.901 | Val_Acc: 69.41% - save best_acc_model\n"
          ]
        },
        {
          "output_type": "stream",
          "name": "stderr",
          "text": [
            "515it [01:05,  7.90it/s]\n"
          ]
        },
        {
          "output_type": "stream",
          "name": "stdout",
          "text": [
            "Epoch: 05 | with lr: 0.000019290 | Epoch Time: 13m 18s\n",
            "\tTrain_Loss: 0.280 | Train_Acc: 89.68%  Val_Loss: 0.911 | Val_Acc: 69.06%\n"
          ]
        },
        {
          "output_type": "stream",
          "name": "stderr",
          "text": [
            "515it [01:04,  7.94it/s]\n"
          ]
        },
        {
          "output_type": "stream",
          "name": "stdout",
          "text": [
            "Epoch: 06 | with lr: 0.000017147 | Epoch Time: 13m 17s\n",
            "\tTrain_Loss: 0.234 | Train_Acc: 91.46%  Val_Loss: 0.991 | Val_Acc: 68.45%\n"
          ]
        },
        {
          "output_type": "stream",
          "name": "stderr",
          "text": [
            "515it [01:04,  7.96it/s]\n"
          ]
        },
        {
          "output_type": "stream",
          "name": "stdout",
          "text": [
            "Epoch: 07 | with lr: 0.000015004 | Epoch Time: 13m 14s\n",
            "\tTrain_Loss: 0.207 | Train_Acc: 92.47%  Val_Loss: 0.994 | Val_Acc: 68.85% - load best_acc_model\n"
          ]
        }
      ]
    },
    {
      "cell_type": "code",
      "execution_count": null,
      "metadata": {
        "colab": {
          "base_uri": "https://localhost:8080/",
          "height": 487
        },
        "outputId": "c4ce0053-7bb4-450d-8ffc-f8a73fce1787",
        "id": "eAJiHW7IGLBZ"
      },
      "outputs": [
        {
          "output_type": "display_data",
          "data": {
            "text/plain": [
              "<Figure size 1800x500 with 3 Axes>"
            ],
            "image/png": "[encoded data removed]"
          },
          "metadata": {}
        }
      ],
      "source": [
        "train_ephs = len(hist_train_loss)\n",
        "losses = (hist_train_loss, hist_valid_loss)\n",
        "accuracy = (hist_train_acc, hist_valid_acc)\n",
        "plot_graph(train_ephs, losses, accuracy, hist_lr)"
      ]
    },
    {
      "cell_type": "markdown",
      "source": [
        "## Next with accuracy"
      ],
      "metadata": {
        "id": "atMUWgyZ8QaV"
      }
    },
    {
      "cell_type": "code",
      "execution_count": null,
      "metadata": {
        "id": "YrA58_Fm7rKz"
      },
      "outputs": [],
      "source": [
        "def accuracy(preds, y):\n",
        "    \"\"\"\n",
        "    Returns accuracy per batch, i.e. if you get 8/10 right, this returns 0.8, NOT 8\n",
        "    \"\"\"\n",
        "\n",
        "    preds = torch.argmax(preds, dim=1)\n",
        "\n",
        "    correct = (preds == y).float()\n",
        "    acc = correct.sum() / len(correct)\n",
        "    return acc"
      ]
    },
    {
      "cell_type": "code",
      "source": [
        "N_EPOCHS = 12\n",
        "LR_RATE = 2e-5\n",
        "optimizer, lr_scheduler = update_optimizer(bert_classifier, training_loader, LR_RATE, N_EPOCHS)"
      ],
      "metadata": {
        "id": "K6nOXtTXxOD7"
      },
      "execution_count": null,
      "outputs": []
    },
    {
      "cell_type": "code",
      "source": [
        "JDUN_TRAIN = 2\n",
        "JDUN_END = 4\n",
        "EPS = 0.85\n",
        "model_loss_saved = True\n",
        "model_acc_saved = True\n",
        "\n",
        "\n",
        "try:\n",
        "  if best_valid_loss and best_valid_acc:\n",
        "    pass\n",
        "except:\n",
        "    best_valid_loss = 0.699 #float('inf')\n",
        "    best_valid_acc = 0.709\n",
        "\n",
        "hist_train_loss, hist_valid_loss, hist_train_acc, hist_valid_acc = [], [], [], []\n",
        "hist_lr = []\n",
        "\n",
        "save_dir = '/content/drive/Othercomputers/My_comp/Documents/МФТИ - Наука о данных/NLP_course/DZ/Text_classification/Berta/'\n",
        "path_bestacc_model = save_dir + 'best_acc_aug_model.pt'\n",
        "path_bestloss_model = save_dir + 'best_loss_aug_model.pt'\n",
        "\n",
        "\n",
        "wait_train = 0\n",
        "wait2end = 0\n",
        "\n",
        "for epoch in range(N_EPOCHS):\n",
        "    start_time = time.time()\n",
        "\n",
        "    # take again rand half_part from train_data, valid_data\n",
        "    # training\n",
        "    training_loader = get_randpart(data = train_data, params = train_params,\n",
        "                                   aug = 7,\n",
        "                                   part = 0.7\n",
        "                                   )\n",
        "    valid_loader =  get_randpart(data = valid_data, params = valid_params,\n",
        "                                 aug = 0,\n",
        "                                 part = 1.\n",
        "                                 )\n",
        "\n",
        "    train_loss, train_acc, ep_lr = train(bert_classifier, training_loader, optimizer,\n",
        "                                         lr_scheduler, criterion, accuracy)\n",
        "    # write history train\n",
        "    hist_train_loss.append(train_loss)\n",
        "    hist_train_acc.append(train_acc)\n",
        "\n",
        "    # evaluaining\n",
        "    valid_loss, valid_acc = evaluate(bert_classifier, valid_loader, criterion,\n",
        "                                     accuracy)\n",
        "    # write history validate\n",
        "    hist_valid_loss.append(valid_loss)\n",
        "    hist_valid_acc.append(valid_acc)\n",
        "    hist_lr.append(ep_lr)\n",
        "\n",
        "    # timing\n",
        "    end_time = time.time()\n",
        "    epoch_mins, epoch_secs = epoch_time(start_time, end_time)\n",
        "\n",
        "\n",
        "    # compare results  for saving model\n",
        "    text_add = ''\n",
        "    # compare by loss\n",
        "    if valid_loss < best_valid_loss:\n",
        "        best_valid_loss = valid_loss\n",
        "        torch.save(bert_classifier.state_dict(), path_bestloss_model)\n",
        "\n",
        "        model_loss_saved = True\n",
        "        text_add = ' - save best_loss_model'\n",
        "        wait2end = 0\n",
        "        wait_train = 0\n",
        "        k = 0\n",
        "    # compare by acc\n",
        "    if valid_acc > best_valid_acc:\n",
        "        best_valid_acc = valid_acc\n",
        "        torch.save(bert_classifier.state_dict(), path_bestacc_model)\n",
        "\n",
        "        model_acc_saved = True\n",
        "        text_add += ' - save best_acc_model'\n",
        "        wait2end = 0\n",
        "        wait_train = 0\n",
        "        k = 1\n",
        "    else:\n",
        "        wait_train+=1\n",
        "\n",
        "    # checpoint for loading previous best model by loss or acc\n",
        "    if wait_train > JDUN_TRAIN:\n",
        "       if model_loss_saved and k == 0:\n",
        "         bert_classifier.load_state_dict(torch.load(path_bestloss_model))\n",
        "         text_add = ' - load best_loss_model'\n",
        "         k = 1\n",
        "       elif model_acc_saved and k == 1:\n",
        "         bert_classifier.load_state_dict(torch.load(path_bestacc_model))\n",
        "         text_add = ' - load best_acc_model'\n",
        "         k = 0\n",
        "       # update optimizer and lr_scheduler\n",
        "       LR_RATE *= EPS\n",
        "       optimizer, lr_scheduler = update_optimizer(bert_classifier.parameters(),\n",
        "                                                  training_loader,\n",
        "                                                  LR_RATE,\n",
        "                                                  N_EPOCHS - epoch +1\n",
        "                                                  )\n",
        "       # update waitings\n",
        "       wait_train = 0\n",
        "       wait2end+=1\n",
        "\n",
        "    # print loggs\n",
        "    print(f'Epoch: {epoch+1:02} | with lr: {ep_lr:.9f} | Epoch Time: {epoch_mins}m {epoch_secs}s')\n",
        "    print(f'\\tTrain_Loss: {train_loss:.3f} | Train_Acc: {train_acc*100:.2f}%  Val_Loss: {valid_loss:.3f} | Val_Acc: {valid_acc*100:.2f}%' + text_add)\n",
        "\n",
        "    # finish training with loading best to predict\n",
        "    if wait2end > JDUN_END:\n",
        "      if k == 0:\n",
        "        bert_classifier.load_state_dict(torch.load(path_bestloss_model))\n",
        "        text_add = ' - load best_loss_model'\n",
        "\n",
        "      elif k == 1:\n",
        "        bert_classifier.load_state_dict(torch.load(path_bestacc_model))\n",
        "        text_add = ' - load best_acc_model'\n",
        "\n",
        "      print('Stop train, do not best fitness'+ text_add)\n",
        "      break"
      ],
      "metadata": {
        "colab": {
          "base_uri": "https://localhost:8080/"
        },
        "outputId": "0c252725-32e2-4979-f8c2-a640aff333ac",
        "id": "sUVDQlBQxOEP"
      },
      "execution_count": null,
      "outputs": [
        {
          "output_type": "stream",
          "name": "stdout",
          "text": []
        },
        {
          "output_type": "stream",
          "name": "stderr",
          "text": [
            "515it [01:05,  7.83it/s]\n"
          ]
        },
        {
          "output_type": "stream",
          "name": "stdout",
          "text": [
            "Epoch: 01 | with lr: 0.000019502 | Epoch Time: 8m 43s\n",
            "\tTrain_Loss: 0.383 | Train_Acc: 86.13%  Val_Loss: 0.739 | Val_Acc: 74.06% - save best_acc_model\n"
          ]
        },
        {
          "output_type": "stream",
          "name": "stderr",
          "text": [
            "515it [01:04,  7.99it/s]\n"
          ]
        },
        {
          "output_type": "stream",
          "name": "stdout",
          "text": [
            "Epoch: 02 | with lr: 0.000019002 | Epoch Time: 8m 50s\n",
            "\tTrain_Loss: 0.410 | Train_Acc: 84.95%  Val_Loss: 0.732 | Val_Acc: 73.94%\n"
          ]
        },
        {
          "output_type": "stream",
          "name": "stderr",
          "text": [
            "515it [01:05,  7.91it/s]\n"
          ]
        },
        {
          "output_type": "stream",
          "name": "stdout",
          "text": [
            "Epoch: 03 | with lr: 0.000018502 | Epoch Time: 8m 43s\n",
            "\tTrain_Loss: 0.372 | Train_Acc: 86.32%  Val_Loss: 0.742 | Val_Acc: 74.08% - save best_acc_model\n"
          ]
        },
        {
          "output_type": "stream",
          "name": "stderr",
          "text": [
            "515it [01:05,  7.89it/s]\n"
          ]
        },
        {
          "output_type": "stream",
          "name": "stdout",
          "text": [
            "Epoch: 04 | with lr: 0.000018002 | Epoch Time: 8m 47s\n",
            "\tTrain_Loss: 0.380 | Train_Acc: 86.13%  Val_Loss: 0.797 | Val_Acc: 74.15% - save best_acc_model\n"
          ]
        },
        {
          "output_type": "stream",
          "name": "stderr",
          "text": [
            "515it [01:05,  7.89it/s]\n"
          ]
        },
        {
          "output_type": "stream",
          "name": "stdout",
          "text": [
            "Epoch: 05 | with lr: 0.000017502 | Epoch Time: 8m 53s\n",
            "\tTrain_Loss: 0.365 | Train_Acc: 86.69%  Val_Loss: 0.799 | Val_Acc: 73.33%\n"
          ]
        },
        {
          "output_type": "stream",
          "name": "stderr",
          "text": [
            "515it [01:05,  7.86it/s]\n"
          ]
        },
        {
          "output_type": "stream",
          "name": "stdout",
          "text": [
            "Epoch: 06 | with lr: 0.000017002 | Epoch Time: 8m 52s\n",
            "\tTrain_Loss: 0.356 | Train_Acc: 86.81%  Val_Loss: 0.784 | Val_Acc: 74.83% - save best_acc_model\n"
          ]
        },
        {
          "output_type": "stream",
          "name": "stderr",
          "text": [
            "515it [01:05,  7.88it/s]\n"
          ]
        },
        {
          "output_type": "stream",
          "name": "stdout",
          "text": [
            "Epoch: 07 | with lr: 0.000016502 | Epoch Time: 8m 53s\n",
            "\tTrain_Loss: 0.347 | Train_Acc: 87.15%  Val_Loss: 0.797 | Val_Acc: 74.39%\n"
          ]
        },
        {
          "output_type": "stream",
          "name": "stderr",
          "text": [
            "515it [01:05,  7.92it/s]\n"
          ]
        },
        {
          "output_type": "stream",
          "name": "stdout",
          "text": [
            "Epoch: 08 | with lr: 0.000016002 | Epoch Time: 8m 52s\n",
            "\tTrain_Loss: 0.322 | Train_Acc: 88.18%  Val_Loss: 0.813 | Val_Acc: 74.05%\n"
          ]
        },
        {
          "output_type": "stream",
          "name": "stderr",
          "text": [
            "515it [01:05,  7.86it/s]\n"
          ]
        },
        {
          "output_type": "stream",
          "name": "stdout",
          "text": [
            "Epoch: 09 | with lr: 0.000015502 | Epoch Time: 8m 51s\n",
            "\tTrain_Loss: 0.326 | Train_Acc: 87.86%  Val_Loss: 0.842 | Val_Acc: 74.33% - load best_acc_model\n"
          ]
        },
        {
          "output_type": "stream",
          "name": "stderr",
          "text": [
            "515it [01:05,  7.92it/s]\n"
          ]
        },
        {
          "output_type": "stream",
          "name": "stdout",
          "text": [
            "Epoch: 10 | with lr: 0.000015306 | Epoch Time: 8m 55s\n",
            "\tTrain_Loss: 0.356 | Train_Acc: 86.85%  Val_Loss: 0.812 | Val_Acc: 73.28%\n"
          ]
        },
        {
          "output_type": "stream",
          "name": "stderr",
          "text": [
            "515it [01:04,  7.94it/s]\n"
          ]
        },
        {
          "output_type": "stream",
          "name": "stdout",
          "text": [
            "Epoch: 11 | with lr: 0.000013606 | Epoch Time: 8m 50s\n",
            "\tTrain_Loss: 0.293 | Train_Acc: 89.41%  Val_Loss: 0.892 | Val_Acc: 72.99%\n"
          ]
        },
        {
          "output_type": "stream",
          "name": "stderr",
          "text": [
            "515it [01:05,  7.91it/s]\n"
          ]
        },
        {
          "output_type": "stream",
          "name": "stdout",
          "text": [
            "Epoch: 12 | with lr: 0.000011906 | Epoch Time: 8m 52s\n",
            "\tTrain_Loss: 0.321 | Train_Acc: 88.39%  Val_Loss: 0.861 | Val_Acc: 73.26% - load best_loss_model\n"
          ]
        }
      ]
    },
    {
      "cell_type": "code",
      "execution_count": null,
      "metadata": {
        "colab": {
          "base_uri": "https://localhost:8080/",
          "height": 487
        },
        "outputId": "600ac670-17da-4cb9-a990-d4c75201efb2",
        "id": "PbIizqfTLBle"
      },
      "outputs": [
        {
          "output_type": "display_data",
          "data": {
            "text/plain": [
              "<Figure size 1800x500 with 3 Axes>"
            ],
            "image/png": "[encoded data removed]"
          },
          "metadata": {}
        }
      ],
      "source": [
        "train_ephs = len(hist_train_loss)\n",
        "losses = (hist_train_loss, hist_valid_loss)\n",
        "accuracy = (hist_train_acc, hist_valid_acc)\n",
        "plot_graph(train_ephs, losses, accuracy, hist_lr)"
      ]
    },
    {
      "cell_type": "markdown",
      "source": [
        "## Train with layer-Wise Learning Rate in PyTorch\n",
        "https://colab.research.google.com/github/kozodoi/website/blob/master/_notebooks/2022-03-29-discriminative-lr.ipynb#scrollTo=whn9QMjvUrwW"
      ],
      "metadata": {
        "id": "tSmsfWYVWyOV"
      }
    },
    {
      "cell_type": "code",
      "source": [
        "def wise_learning_rate(model, lr, lr_mult,  show = False):\n",
        "\n",
        "    # save layer names\n",
        "    layer_names = []\n",
        "    for name, param in model.named_parameters():\n",
        "        layer_names.append(name)\n",
        "\n",
        "    # reverse layers.\n",
        "    layer_names.reverse()\n",
        "\n",
        "    # placeholder\n",
        "    parameters     = []\n",
        "    prev_group_name = layer_names[0].split('.')[0]\n",
        "\n",
        "    # store params & learning rates\n",
        "    for idx, name in enumerate(layer_names):\n",
        "\n",
        "        # parameter group name\n",
        "        cur_group_name = name.split('.')[0]\n",
        "\n",
        "        # update learning rate\n",
        "        if cur_group_name != prev_group_name:\n",
        "            lr *= lr_mult\n",
        "        prev_group_name = cur_group_name\n",
        "\n",
        "        # display info\n",
        "        if show:\n",
        "          print(f'{idx}: lr = {lr:.6f}, {name}')\n",
        "\n",
        "        # append layer parameters\n",
        "        parameters += [{'params': [p for n, p in model.named_parameters() if n == name and p.requires_grad],\n",
        "                        'lr':     lr}]\n",
        "\n",
        "    return parameters"
      ],
      "metadata": {
        "id": "hzRo5aBBONHR"
      },
      "execution_count": null,
      "outputs": []
    },
    {
      "cell_type": "code",
      "source": [
        "# learning rate\n",
        "LR_RATE = 3e-3\n",
        "parameters = wise_learning_rate(bert_classifier, LR_RATE, lr_mult = 0.09,  show = True)"
      ],
      "metadata": {
        "colab": {
          "base_uri": "https://localhost:8080/"
        },
        "id": "uqLnldOORNG9",
        "outputId": "84018691-9399-4cf9-d001-d612f578ca84"
      },
      "execution_count": null,
      "outputs": [
        {
          "output_type": "stream",
          "name": "stdout",
          "text": [
            "0: lr = 0.003000, classifier.bias\n",
            "1: lr = 0.003000, classifier.weight\n",
            "2: lr = 0.000270, pre_classifier_2.0.bias\n",
            "3: lr = 0.000270, pre_classifier_2.0.weight\n",
            "4: lr = 0.000024, pre_classifier_1.0.bias\n",
            "5: lr = 0.000024, pre_classifier_1.0.weight\n",
            "6: lr = 0.000002, bert.pooler.dense.bias\n",
            "7: lr = 0.000002, bert.pooler.dense.weight\n",
            "8: lr = 0.000002, bert.encoder.layer.11.output.LayerNorm.bias\n",
            "9: lr = 0.000002, bert.encoder.layer.11.output.LayerNorm.weight\n",
            "10: lr = 0.000002, bert.encoder.layer.11.output.dense.bias\n",
            "11: lr = 0.000002, bert.encoder.layer.11.output.dense.weight\n",
            "12: lr = 0.000002, bert.encoder.layer.11.intermediate.dense.bias\n",
            "13: lr = 0.000002, bert.encoder.layer.11.intermediate.dense.weight\n",
            "14: lr = 0.000002, bert.encoder.layer.11.attention.output.LayerNorm.bias\n",
            "15: lr = 0.000002, bert.encoder.layer.11.attention.output.LayerNorm.weight\n",
            "16: lr = 0.000002, bert.encoder.layer.11.attention.output.dense.bias\n",
            "17: lr = 0.000002, bert.encoder.layer.11.attention.output.dense.weight\n",
            "18: lr = 0.000002, bert.encoder.layer.11.attention.self.value.bias\n",
            "19: lr = 0.000002, bert.encoder.layer.11.attention.self.value.weight\n",
            "20: lr = 0.000002, bert.encoder.layer.11.attention.self.key.bias\n",
            "21: lr = 0.000002, bert.encoder.layer.11.attention.self.key.weight\n",
            "22: lr = 0.000002, bert.encoder.layer.11.attention.self.query.bias\n",
            "23: lr = 0.000002, bert.encoder.layer.11.attention.self.query.weight\n",
            "24: lr = 0.000002, bert.encoder.layer.10.output.LayerNorm.bias\n",
            "25: lr = 0.000002, bert.encoder.layer.10.output.LayerNorm.weight\n",
            "26: lr = 0.000002, bert.encoder.layer.10.output.dense.bias\n",
            "27: lr = 0.000002, bert.encoder.layer.10.output.dense.weight\n",
            "28: lr = 0.000002, bert.encoder.layer.10.intermediate.dense.bias\n",
            "29: lr = 0.000002, bert.encoder.layer.10.intermediate.dense.weight\n",
            "30: lr = 0.000002, bert.encoder.layer.10.attention.output.LayerNorm.bias\n",
            "31: lr = 0.000002, bert.encoder.layer.10.attention.output.LayerNorm.weight\n",
            "32: lr = 0.000002, bert.encoder.layer.10.attention.output.dense.bias\n",
            "33: lr = 0.000002, bert.encoder.layer.10.attention.output.dense.weight\n",
            "34: lr = 0.000002, bert.encoder.layer.10.attention.self.value.bias\n",
            "35: lr = 0.000002, bert.encoder.layer.10.attention.self.value.weight\n",
            "36: lr = 0.000002, bert.encoder.layer.10.attention.self.key.bias\n",
            "37: lr = 0.000002, bert.encoder.layer.10.attention.self.key.weight\n",
            "38: lr = 0.000002, bert.encoder.layer.10.attention.self.query.bias\n",
            "39: lr = 0.000002, bert.encoder.layer.10.attention.self.query.weight\n",
            "40: lr = 0.000002, bert.encoder.layer.9.output.LayerNorm.bias\n",
            "41: lr = 0.000002, bert.encoder.layer.9.output.LayerNorm.weight\n",
            "42: lr = 0.000002, bert.encoder.layer.9.output.dense.bias\n",
            "43: lr = 0.000002, bert.encoder.layer.9.output.dense.weight\n",
            "44: lr = 0.000002, bert.encoder.layer.9.intermediate.dense.bias\n",
            "45: lr = 0.000002, bert.encoder.layer.9.intermediate.dense.weight\n",
            "46: lr = 0.000002, bert.encoder.layer.9.attention.output.LayerNorm.bias\n",
            "47: lr = 0.000002, bert.encoder.layer.9.attention.output.LayerNorm.weight\n",
            "48: lr = 0.000002, bert.encoder.layer.9.attention.output.dense.bias\n",
            "49: lr = 0.000002, bert.encoder.layer.9.attention.output.dense.weight\n",
            "50: lr = 0.000002, bert.encoder.layer.9.attention.self.value.bias\n",
            "51: lr = 0.000002, bert.encoder.layer.9.attention.self.value.weight\n",
            "52: lr = 0.000002, bert.encoder.layer.9.attention.self.key.bias\n",
            "53: lr = 0.000002, bert.encoder.layer.9.attention.self.key.weight\n",
            "54: lr = 0.000002, bert.encoder.layer.9.attention.self.query.bias\n",
            "55: lr = 0.000002, bert.encoder.layer.9.attention.self.query.weight\n",
            "56: lr = 0.000002, bert.encoder.layer.8.output.LayerNorm.bias\n",
            "57: lr = 0.000002, bert.encoder.layer.8.output.LayerNorm.weight\n",
            "58: lr = 0.000002, bert.encoder.layer.8.output.dense.bias\n",
            "59: lr = 0.000002, bert.encoder.layer.8.output.dense.weight\n",
            "60: lr = 0.000002, bert.encoder.layer.8.intermediate.dense.bias\n",
            "61: lr = 0.000002, bert.encoder.layer.8.intermediate.dense.weight\n",
            "62: lr = 0.000002, bert.encoder.layer.8.attention.output.LayerNorm.bias\n",
            "63: lr = 0.000002, bert.encoder.layer.8.attention.output.LayerNorm.weight\n",
            "64: lr = 0.000002, bert.encoder.layer.8.attention.output.dense.bias\n",
            "65: lr = 0.000002, bert.encoder.layer.8.attention.output.dense.weight\n",
            "66: lr = 0.000002, bert.encoder.layer.8.attention.self.value.bias\n",
            "67: lr = 0.000002, bert.encoder.layer.8.attention.self.value.weight\n",
            "68: lr = 0.000002, bert.encoder.layer.8.attention.self.key.bias\n",
            "69: lr = 0.000002, bert.encoder.layer.8.attention.self.key.weight\n",
            "70: lr = 0.000002, bert.encoder.layer.8.attention.self.query.bias\n",
            "71: lr = 0.000002, bert.encoder.layer.8.attention.self.query.weight\n",
            "72: lr = 0.000002, bert.encoder.layer.7.output.LayerNorm.bias\n",
            "73: lr = 0.000002, bert.encoder.layer.7.output.LayerNorm.weight\n",
            "74: lr = 0.000002, bert.encoder.layer.7.output.dense.bias\n",
            "75: lr = 0.000002, bert.encoder.layer.7.output.dense.weight\n",
            "76: lr = 0.000002, bert.encoder.layer.7.intermediate.dense.bias\n",
            "77: lr = 0.000002, bert.encoder.layer.7.intermediate.dense.weight\n",
            "78: lr = 0.000002, bert.encoder.layer.7.attention.output.LayerNorm.bias\n",
            "79: lr = 0.000002, bert.encoder.layer.7.attention.output.LayerNorm.weight\n",
            "80: lr = 0.000002, bert.encoder.layer.7.attention.output.dense.bias\n",
            "81: lr = 0.000002, bert.encoder.layer.7.attention.output.dense.weight\n",
            "82: lr = 0.000002, bert.encoder.layer.7.attention.self.value.bias\n",
            "83: lr = 0.000002, bert.encoder.layer.7.attention.self.value.weight\n",
            "84: lr = 0.000002, bert.encoder.layer.7.attention.self.key.bias\n",
            "85: lr = 0.000002, bert.encoder.layer.7.attention.self.key.weight\n",
            "86: lr = 0.000002, bert.encoder.layer.7.attention.self.query.bias\n",
            "87: lr = 0.000002, bert.encoder.layer.7.attention.self.query.weight\n",
            "88: lr = 0.000002, bert.encoder.layer.6.output.LayerNorm.bias\n",
            "89: lr = 0.000002, bert.encoder.layer.6.output.LayerNorm.weight\n",
            "90: lr = 0.000002, bert.encoder.layer.6.output.dense.bias\n",
            "91: lr = 0.000002, bert.encoder.layer.6.output.dense.weight\n",
            "92: lr = 0.000002, bert.encoder.layer.6.intermediate.dense.bias\n",
            "93: lr = 0.000002, bert.encoder.layer.6.intermediate.dense.weight\n",
            "94: lr = 0.000002, bert.encoder.layer.6.attention.output.LayerNorm.bias\n",
            "95: lr = 0.000002, bert.encoder.layer.6.attention.output.LayerNorm.weight\n",
            "96: lr = 0.000002, bert.encoder.layer.6.attention.output.dense.bias\n",
            "97: lr = 0.000002, bert.encoder.layer.6.attention.output.dense.weight\n",
            "98: lr = 0.000002, bert.encoder.layer.6.attention.self.value.bias\n",
            "99: lr = 0.000002, bert.encoder.layer.6.attention.self.value.weight\n",
            "100: lr = 0.000002, bert.encoder.layer.6.attention.self.key.bias\n",
            "101: lr = 0.000002, bert.encoder.layer.6.attention.self.key.weight\n",
            "102: lr = 0.000002, bert.encoder.layer.6.attention.self.query.bias\n",
            "103: lr = 0.000002, bert.encoder.layer.6.attention.self.query.weight\n",
            "104: lr = 0.000002, bert.encoder.layer.5.output.LayerNorm.bias\n",
            "105: lr = 0.000002, bert.encoder.layer.5.output.LayerNorm.weight\n",
            "106: lr = 0.000002, bert.encoder.layer.5.output.dense.bias\n",
            "107: lr = 0.000002, bert.encoder.layer.5.output.dense.weight\n",
            "108: lr = 0.000002, bert.encoder.layer.5.intermediate.dense.bias\n",
            "109: lr = 0.000002, bert.encoder.layer.5.intermediate.dense.weight\n",
            "110: lr = 0.000002, bert.encoder.layer.5.attention.output.LayerNorm.bias\n",
            "111: lr = 0.000002, bert.encoder.layer.5.attention.output.LayerNorm.weight\n",
            "112: lr = 0.000002, bert.encoder.layer.5.attention.output.dense.bias\n",
            "113: lr = 0.000002, bert.encoder.layer.5.attention.output.dense.weight\n",
            "114: lr = 0.000002, bert.encoder.layer.5.attention.self.value.bias\n",
            "115: lr = 0.000002, bert.encoder.layer.5.attention.self.value.weight\n",
            "116: lr = 0.000002, bert.encoder.layer.5.attention.self.key.bias\n",
            "117: lr = 0.000002, bert.encoder.layer.5.attention.self.key.weight\n",
            "118: lr = 0.000002, bert.encoder.layer.5.attention.self.query.bias\n",
            "119: lr = 0.000002, bert.encoder.layer.5.attention.self.query.weight\n",
            "120: lr = 0.000002, bert.encoder.layer.4.output.LayerNorm.bias\n",
            "121: lr = 0.000002, bert.encoder.layer.4.output.LayerNorm.weight\n",
            "122: lr = 0.000002, bert.encoder.layer.4.output.dense.bias\n",
            "123: lr = 0.000002, bert.encoder.layer.4.output.dense.weight\n",
            "124: lr = 0.000002, bert.encoder.layer.4.intermediate.dense.bias\n",
            "125: lr = 0.000002, bert.encoder.layer.4.intermediate.dense.weight\n",
            "126: lr = 0.000002, bert.encoder.layer.4.attention.output.LayerNorm.bias\n",
            "127: lr = 0.000002, bert.encoder.layer.4.attention.output.LayerNorm.weight\n",
            "128: lr = 0.000002, bert.encoder.layer.4.attention.output.dense.bias\n",
            "129: lr = 0.000002, bert.encoder.layer.4.attention.output.dense.weight\n",
            "130: lr = 0.000002, bert.encoder.layer.4.attention.self.value.bias\n",
            "131: lr = 0.000002, bert.encoder.layer.4.attention.self.value.weight\n",
            "132: lr = 0.000002, bert.encoder.layer.4.attention.self.key.bias\n",
            "133: lr = 0.000002, bert.encoder.layer.4.attention.self.key.weight\n",
            "134: lr = 0.000002, bert.encoder.layer.4.attention.self.query.bias\n",
            "135: lr = 0.000002, bert.encoder.layer.4.attention.self.query.weight\n",
            "136: lr = 0.000002, bert.encoder.layer.3.output.LayerNorm.bias\n",
            "137: lr = 0.000002, bert.encoder.layer.3.output.LayerNorm.weight\n",
            "138: lr = 0.000002, bert.encoder.layer.3.output.dense.bias\n",
            "139: lr = 0.000002, bert.encoder.layer.3.output.dense.weight\n",
            "140: lr = 0.000002, bert.encoder.layer.3.intermediate.dense.bias\n",
            "141: lr = 0.000002, bert.encoder.layer.3.intermediate.dense.weight\n",
            "142: lr = 0.000002, bert.encoder.layer.3.attention.output.LayerNorm.bias\n",
            "143: lr = 0.000002, bert.encoder.layer.3.attention.output.LayerNorm.weight\n",
            "144: lr = 0.000002, bert.encoder.layer.3.attention.output.dense.bias\n",
            "145: lr = 0.000002, bert.encoder.layer.3.attention.output.dense.weight\n",
            "146: lr = 0.000002, bert.encoder.layer.3.attention.self.value.bias\n",
            "147: lr = 0.000002, bert.encoder.layer.3.attention.self.value.weight\n",
            "148: lr = 0.000002, bert.encoder.layer.3.attention.self.key.bias\n",
            "149: lr = 0.000002, bert.encoder.layer.3.attention.self.key.weight\n",
            "150: lr = 0.000002, bert.encoder.layer.3.attention.self.query.bias\n",
            "151: lr = 0.000002, bert.encoder.layer.3.attention.self.query.weight\n",
            "152: lr = 0.000002, bert.encoder.layer.2.output.LayerNorm.bias\n",
            "153: lr = 0.000002, bert.encoder.layer.2.output.LayerNorm.weight\n",
            "154: lr = 0.000002, bert.encoder.layer.2.output.dense.bias\n",
            "155: lr = 0.000002, bert.encoder.layer.2.output.dense.weight\n",
            "156: lr = 0.000002, bert.encoder.layer.2.intermediate.dense.bias\n",
            "157: lr = 0.000002, bert.encoder.layer.2.intermediate.dense.weight\n",
            "158: lr = 0.000002, bert.encoder.layer.2.attention.output.LayerNorm.bias\n",
            "159: lr = 0.000002, bert.encoder.layer.2.attention.output.LayerNorm.weight\n",
            "160: lr = 0.000002, bert.encoder.layer.2.attention.output.dense.bias\n",
            "161: lr = 0.000002, bert.encoder.layer.2.attention.output.dense.weight\n",
            "162: lr = 0.000002, bert.encoder.layer.2.attention.self.value.bias\n",
            "163: lr = 0.000002, bert.encoder.layer.2.attention.self.value.weight\n",
            "164: lr = 0.000002, bert.encoder.layer.2.attention.self.key.bias\n",
            "165: lr = 0.000002, bert.encoder.layer.2.attention.self.key.weight\n",
            "166: lr = 0.000002, bert.encoder.layer.2.attention.self.query.bias\n",
            "167: lr = 0.000002, bert.encoder.layer.2.attention.self.query.weight\n",
            "168: lr = 0.000002, bert.encoder.layer.1.output.LayerNorm.bias\n",
            "169: lr = 0.000002, bert.encoder.layer.1.output.LayerNorm.weight\n",
            "170: lr = 0.000002, bert.encoder.layer.1.output.dense.bias\n",
            "171: lr = 0.000002, bert.encoder.layer.1.output.dense.weight\n",
            "172: lr = 0.000002, bert.encoder.layer.1.intermediate.dense.bias\n",
            "173: lr = 0.000002, bert.encoder.layer.1.intermediate.dense.weight\n",
            "174: lr = 0.000002, bert.encoder.layer.1.attention.output.LayerNorm.bias\n",
            "175: lr = 0.000002, bert.encoder.layer.1.attention.output.LayerNorm.weight\n",
            "176: lr = 0.000002, bert.encoder.layer.1.attention.output.dense.bias\n",
            "177: lr = 0.000002, bert.encoder.layer.1.attention.output.dense.weight\n",
            "178: lr = 0.000002, bert.encoder.layer.1.attention.self.value.bias\n",
            "179: lr = 0.000002, bert.encoder.layer.1.attention.self.value.weight\n",
            "180: lr = 0.000002, bert.encoder.layer.1.attention.self.key.bias\n",
            "181: lr = 0.000002, bert.encoder.layer.1.attention.self.key.weight\n",
            "182: lr = 0.000002, bert.encoder.layer.1.attention.self.query.bias\n",
            "183: lr = 0.000002, bert.encoder.layer.1.attention.self.query.weight\n",
            "184: lr = 0.000002, bert.encoder.layer.0.output.LayerNorm.bias\n",
            "185: lr = 0.000002, bert.encoder.layer.0.output.LayerNorm.weight\n",
            "186: lr = 0.000002, bert.encoder.layer.0.output.dense.bias\n",
            "187: lr = 0.000002, bert.encoder.layer.0.output.dense.weight\n",
            "188: lr = 0.000002, bert.encoder.layer.0.intermediate.dense.bias\n",
            "189: lr = 0.000002, bert.encoder.layer.0.intermediate.dense.weight\n",
            "190: lr = 0.000002, bert.encoder.layer.0.attention.output.LayerNorm.bias\n",
            "191: lr = 0.000002, bert.encoder.layer.0.attention.output.LayerNorm.weight\n",
            "192: lr = 0.000002, bert.encoder.layer.0.attention.output.dense.bias\n",
            "193: lr = 0.000002, bert.encoder.layer.0.attention.output.dense.weight\n",
            "194: lr = 0.000002, bert.encoder.layer.0.attention.self.value.bias\n",
            "195: lr = 0.000002, bert.encoder.layer.0.attention.self.value.weight\n",
            "196: lr = 0.000002, bert.encoder.layer.0.attention.self.key.bias\n",
            "197: lr = 0.000002, bert.encoder.layer.0.attention.self.key.weight\n",
            "198: lr = 0.000002, bert.encoder.layer.0.attention.self.query.bias\n",
            "199: lr = 0.000002, bert.encoder.layer.0.attention.self.query.weight\n",
            "200: lr = 0.000002, bert.embeddings.LayerNorm.bias\n",
            "201: lr = 0.000002, bert.embeddings.LayerNorm.weight\n",
            "202: lr = 0.000002, bert.embeddings.token_type_embeddings.weight\n",
            "203: lr = 0.000002, bert.embeddings.position_embeddings.weight\n",
            "204: lr = 0.000002, bert.embeddings.word_embeddings.weight\n"
          ]
        }
      ]
    },
    {
      "cell_type": "markdown",
      "source": [
        "### Load saved model"
      ],
      "metadata": {
        "id": "fM5ROBIvBbET"
      }
    },
    {
      "cell_type": "code",
      "source": [
        "load_dir = '/content/drive/Othercomputers/My_comp/Documents/МФТИ - Наука о данных/NLP_course/DZ/Text_classification/Berta/'"
      ],
      "metadata": {
        "id": "wzg_xXEilG6L"
      },
      "execution_count": null,
      "outputs": []
    },
    {
      "cell_type": "code",
      "source": [
        "k = 1 # 1 - will loaded best_acc_model, 1 - will loaded best_loss_model\n",
        "if k == 0:\n",
        "  bert_classifier.load_state_dict(torch.load(load_dir + 'best_loss_aug_model.pt'))\n",
        "  text_add = ' - best_loss_model'\n",
        "  model_saved = True\n",
        "\n",
        "elif k == 1:\n",
        "  bert_classifier.load_state_dict(torch.load(load_dir + 'best_acc_aug_model.pt'))\n",
        "  text_add = ' - best_acc_model'\n",
        "  model_saved = True\n",
        "print('load' + text_add)"
      ],
      "metadata": {
        "colab": {
          "base_uri": "https://localhost:8080/"
        },
        "outputId": "e6f3eeba-8ecb-43ad-e196-97a5307e9a70",
        "id": "nYHk0tlNlG6M"
      },
      "execution_count": null,
      "outputs": [
        {
          "output_type": "stream",
          "name": "stdout",
          "text": [
            "load - best_acc_model\n"
          ]
        }
      ]
    },
    {
      "cell_type": "code",
      "source": [
        "# take again rand half_part from train_data, valid_data\n",
        "# training\n",
        "training_loader = get_randpart(data = train_data, params = train_params,\n",
        "                                aug = 0,\n",
        "                                part = 1.\n",
        "                                )\n",
        "valid_loader =  get_randpart(data = valid_data, params = valid_params,\n",
        "                              aug = 0,\n",
        "                              part = 1.\n",
        "                              )"
      ],
      "metadata": {
        "id": "fhHvKyY3cVHr"
      },
      "execution_count": null,
      "outputs": []
    },
    {
      "cell_type": "code",
      "source": [
        "criterion = nn.CrossEntropyLoss().to(DEVICE) # учет весов классов не сильно момогает в результате\n",
        "N_EPOCHS = 8\n",
        "# learning rate\n",
        "LR_RATE = 2e-3\n",
        "parameters = wise_learning_rate(bert_classifier, LR_RATE, lr_mult = 0.09,  show = False)\n",
        "optimizer, lr_scheduler = update_optimizer(parameters, training_loader, LR_RATE, N_EPOCHS)"
      ],
      "metadata": {
        "id": "ITZXdF8EMAjk"
      },
      "execution_count": null,
      "outputs": []
    },
    {
      "cell_type": "code",
      "source": [
        "JDUN_TRAIN = 2\n",
        "JDUN_END = 4\n",
        "EPS = 0.85\n",
        "model_loss_saved = True\n",
        "model_acc_saved = True\n",
        "\n",
        "\n",
        "try:\n",
        "  if best_valid_loss and best_valid_acc:\n",
        "    pass\n",
        "except:\n",
        "    best_valid_loss = 0.699 #float('inf')\n",
        "    best_valid_acc = 0.7814\n",
        "\n",
        "hist_train_loss, hist_valid_loss, hist_train_acc, hist_valid_acc = [], [], [], []\n",
        "hist_lr = []\n",
        "\n",
        "save_dir = '/content/drive/Othercomputers/My_comp/Documents/МФТИ - Наука о данных/NLP_course/DZ/Text_classification/Berta/'\n",
        "path_bestacc_model = save_dir + 'best_acc_aug_model.pt'\n",
        "path_bestloss_model = save_dir + 'best_loss_aug_model.pt'\n",
        "\n",
        "\n",
        "wait_train = 0\n",
        "wait2end = 0\n",
        "\n",
        "for epoch in range(N_EPOCHS):\n",
        "    start_time = time.time()\n",
        "\n",
        "    train_loss, train_acc, ep_lr = train(bert_classifier, training_loader, optimizer,\n",
        "                                         lr_scheduler, criterion, accuracy)\n",
        "    # write history train\n",
        "    hist_train_loss.append(train_loss)\n",
        "    hist_train_acc.append(train_acc)\n",
        "\n",
        "    # evaluaining\n",
        "    valid_loss, valid_acc = evaluate(bert_classifier, valid_loader, criterion,\n",
        "                                     accuracy)\n",
        "    # write history validate\n",
        "    hist_valid_loss.append(valid_loss)\n",
        "    hist_valid_acc.append(valid_acc)\n",
        "    hist_lr.append(ep_lr)\n",
        "\n",
        "    # timing\n",
        "    end_time = time.time()\n",
        "    epoch_mins, epoch_secs = epoch_time(start_time, end_time)\n",
        "\n",
        "\n",
        "    # compare results  for saving model\n",
        "    text_add = ''\n",
        "    # compare by loss\n",
        "    if valid_loss < best_valid_loss:\n",
        "        best_valid_loss = valid_loss\n",
        "        torch.save(bert_classifier.state_dict(), path_bestloss_model)\n",
        "\n",
        "        model_loss_saved = True\n",
        "        text_add = ' - save best_loss_model'\n",
        "        wait2end = 0\n",
        "        wait_train = 0\n",
        "        k = 0\n",
        "    # compare by acc\n",
        "    if valid_acc > best_valid_acc:\n",
        "        best_valid_acc = valid_acc\n",
        "        torch.save(bert_classifier.state_dict(), path_bestacc_model)\n",
        "\n",
        "        model_acc_saved = True\n",
        "        text_add += ' - save best_acc_model'\n",
        "        wait2end = 0\n",
        "        wait_train = 0\n",
        "        k = 1\n",
        "    else:\n",
        "        wait_train+=1\n",
        "\n",
        "    # checpoint for loading previous best model by loss or acc\n",
        "    if wait_train > JDUN_TRAIN:\n",
        "       if model_loss_saved and k == 0:\n",
        "         bert_classifier.load_state_dict(torch.load(path_bestloss_model))\n",
        "         text_add = ' - load best_loss_model'\n",
        "         k = 1\n",
        "       elif model_acc_saved and k == 1:\n",
        "         bert_classifier.load_state_dict(torch.load(path_bestacc_model))\n",
        "         text_add = ' - load best_acc_model'\n",
        "         k = 0\n",
        "       # update optimizer and lr_scheduler\n",
        "       LR_RATE *= EPS\n",
        "       parameters = wise_learning_rate(bert_classifier, LR_RATE,\n",
        "                                       lr_mult = 0.09,  show = False)\n",
        "\n",
        "       optimizer, lr_scheduler = update_optimizer(parameters,\n",
        "                                                  training_loader,\n",
        "                                                  LR_RATE,\n",
        "                                                  N_EPOCHS - epoch +1\n",
        "                                                  )\n",
        "       # update waitings\n",
        "       wait_train = 0\n",
        "       wait2end += 1\n",
        "\n",
        "    # print loggs\n",
        "    print(f'Epoch: {epoch+1:02} | with lr: {ep_lr:.9f} | Epoch Time: {epoch_mins}m {epoch_secs}s')\n",
        "    print(f'\\tTrain_Loss: {train_loss:.3f} | Train_Acc: {train_acc*100:.2f}%  Val_Loss: {valid_loss:.3f} | Val_Acc: {valid_acc*100:.2f}%' + text_add)\n",
        "\n",
        "    # finish training with loading best to predict\n",
        "    if wait2end > JDUN_END:\n",
        "      if k == 0:\n",
        "        bert_classifier.load_state_dict(torch.load(path_bestloss_model))\n",
        "        text_add = ' - load best_loss_model'\n",
        "\n",
        "      elif k == 1:\n",
        "        bert_classifier.load_state_dict(torch.load(path_bestacc_model))\n",
        "        text_add = ' - load best_acc_model'\n",
        "\n",
        "      print('Stop train, do not best fitness'+ text_add)\n",
        "      break"
      ],
      "metadata": {
        "colab": {
          "base_uri": "https://localhost:8080/"
        },
        "outputId": "1c16542e-f9db-465e-d0fc-2a89946e44b7",
        "id": "KWS5YOP7cMtm"
      },
      "execution_count": null,
      "outputs": [
        {
          "metadata": {
            "tags": null
          },
          "name": "stdout",
          "output_type": "stream",
          "text": [
            ""
          ]
        },
        {
          "metadata": {
            "tags": null
          },
          "name": "stderr",
          "output_type": "stream",
          "text": [
            "515it [01:08,  7.50it/s]\n"
          ]
        },
        {
          "metadata": {
            "tags": null
          },
          "name": "stdout",
          "output_type": "stream",
          "text": [
            "Epoch: 01 | with lr: 0.001874879 | Epoch Time: 21m 9s\n",
            "\tTrain_Loss: 0.058 | Train_Acc: 98.33%  Val_Loss: 1.545 | Val_Acc: 77.91%\n"
          ]
        },
        {
          "metadata": {
            "tags": null
          },
          "name": "stderr",
          "output_type": "stream",
          "text": [
            "515it [01:09,  7.45it/s]\n"
          ]
        },
        {
          "metadata": {
            "tags": null
          },
          "name": "stdout",
          "output_type": "stream",
          "text": [
            "Epoch: 02 | with lr: 0.001749879 | Epoch Time: 21m 21s\n",
            "\tTrain_Loss: 0.055 | Train_Acc: 98.48%  Val_Loss: 1.519 | Val_Acc: 77.95%\n"
          ]
        },
        {
          "metadata": {
            "tags": null
          },
          "name": "stderr",
          "output_type": "stream",
          "text": [
            "515it [01:08,  7.47it/s]\n"
          ]
        },
        {
          "metadata": {
            "tags": null
          },
          "name": "stdout",
          "output_type": "stream",
          "text": [
            "Epoch: 03 | with lr: 0.001624879 | Epoch Time: 21m 13s\n",
            "\tTrain_Loss: 0.046 | Train_Acc: 98.61%  Val_Loss: 1.666 | Val_Acc: 77.89% - load best_acc_model\n"
          ]
        },
        {
          "metadata": {
            "tags": null
          },
          "name": "stderr",
          "output_type": "stream",
          "text": [
            "515it [01:08,  7.48it/s]\n"
          ]
        },
        {
          "output_type": "stream",
          "name": "stdout",
          "text": [
            "Epoch: 04 | with lr: 0.001578689 | Epoch Time: 21m 15s\n",
            "\tTrain_Loss: 0.057 | Train_Acc: 98.40%  Val_Loss: 1.577 | Val_Acc: 78.19% - save best_acc_model\n"
          ]
        },
        {
          "output_type": "stream",
          "name": "stderr",
          "text": [
            "515it [01:08,  7.48it/s]\n"
          ]
        },
        {
          "output_type": "stream",
          "name": "stdout",
          "text": [
            "Epoch: 05 | with lr: 0.001457261 | Epoch Time: 21m 15s\n",
            "\tTrain_Loss: 0.054 | Train_Acc: 98.45%  Val_Loss: 1.540 | Val_Acc: 77.89%\n"
          ]
        },
        {
          "output_type": "stream",
          "name": "stderr",
          "text": [
            "515it [01:08,  7.51it/s]\n"
          ]
        },
        {
          "output_type": "stream",
          "name": "stdout",
          "text": [
            "Epoch: 06 | with lr: 0.001335832 | Epoch Time: 21m 9s\n",
            "\tTrain_Loss: 0.048 | Train_Acc: 98.64%  Val_Loss: 1.600 | Val_Acc: 77.90%\n"
          ]
        },
        {
          "output_type": "stream",
          "name": "stderr",
          "text": [
            "515it [01:09,  7.46it/s]\n"
          ]
        },
        {
          "output_type": "stream",
          "name": "stdout",
          "text": [
            "Epoch: 07 | with lr: 0.001214404 | Epoch Time: 21m 12s\n",
            "\tTrain_Loss: 0.045 | Train_Acc: 98.69%  Val_Loss: 1.613 | Val_Acc: 78.10% - load best_acc_model\n"
          ]
        },
        {
          "output_type": "stream",
          "name": "stderr",
          "text": [
            "515it [01:08,  7.57it/s]"
          ]
        },
        {
          "output_type": "stream",
          "name": "stdout",
          "text": [
            "Epoch: 08 | with lr: 0.001204401 | Epoch Time: 20m 53s\n",
            "\tTrain_Loss: 0.049 | Train_Acc: 98.67%  Val_Loss: 1.708 | Val_Acc: 77.99%\n"
          ]
        },
        {
          "output_type": "stream",
          "name": "stderr",
          "text": [
            "\n"
          ]
        }
      ]
    },
    {
      "cell_type": "code",
      "execution_count": null,
      "metadata": {
        "colab": {
          "base_uri": "https://localhost:8080/",
          "height": 487
        },
        "outputId": "ba33cd24-9732-4604-fb8f-149655784e98",
        "id": "d43-tFnJd65S"
      },
      "outputs": [
        {
          "output_type": "display_data",
          "data": {
            "text/plain": [
              "<Figure size 1800x500 with 3 Axes>"
            ],
            "image/png": "[encoded data removed]"
          },
          "metadata": {}
        }
      ],
      "source": [
        "train_ephs = len(hist_train_loss)\n",
        "losses = (hist_train_loss, hist_valid_loss)\n",
        "accuracy = (hist_train_acc, hist_valid_acc)\n",
        "plot_graph(train_ephs, losses, accuracy, hist_lr)"
      ]
    },
    {
      "cell_type": "markdown",
      "metadata": {
        "id": "Z933IF6TKEyv"
      },
      "source": [
        "# Plot_confusion_matrix"
      ]
    },
    {
      "cell_type": "code",
      "execution_count": null,
      "metadata": {
        "id": "2kC7B7goASoR"
      },
      "outputs": [],
      "source": [
        "def confusion_matrix(y_true, y_pred, labels=None, normalize=None,\n",
        "                     cmap=\"Blues\", encoded_labels=True,\n",
        "                     plot=True, verbose = False):\n",
        "    \"\"\"\n",
        "    Args:\n",
        "        y_true (ndarray)\n",
        "        y_pred (ndarray)\n",
        "        labels (list)\n",
        "        normalise (str) : {'all', None}\n",
        "        cmap (maplotlib.pyplot.cmap)\n",
        "        encoded_labels (bool): Need to be False if labels are not one hot encoded\n",
        "        plot (bool): If False, plot will not appear for confusion matrix\n",
        "\n",
        "    Return:\n",
        "        conf_mat (tuple): TN, FP, FN, TP\n",
        "    \"\"\"\n",
        "\n",
        "    import seaborn as sns\n",
        "    from sklearn.metrics import confusion_matrix\n",
        "\n",
        "    if normalize not in ('all', None):\n",
        "        raise ValueError(\"normalize must be one of {'all', None}\")\n",
        "\n",
        "    conf_labels = None if encoded_labels else labels\n",
        "    fmt = 'g' if normalize == None else '.2%'\n",
        "\n",
        "    conf_mat = confusion_matrix(y_true, y_pred, normalize=normalize, labels=conf_labels)\n",
        "\n",
        "    if plot:\n",
        "        plt.figure(figsize = (10,10))\n",
        "        ax = sns.heatmap(conf_mat, cmap=cmap,\n",
        "                         square=True, cbar=False,\n",
        "                         annot=True, fmt=fmt,\n",
        "                         annot_kws={'fontsize': 15,\n",
        "                                    'fontweight': 'bold',\n",
        "                                    'fontfamily': 'serif',\n",
        "                                    }\n",
        "                         )\n",
        "        ax.set_title(\"Confusion Matrix\", fontsize=18)\n",
        "        ax.set_xlabel(\"Predicted\", fontsize=11, color = \"red\")\n",
        "        ax.set_ylabel(\"Actual\", fontsize=11, color = \"red\")\n",
        "        if labels != None:\n",
        "            ax.set_yticklabels(labels,  fontsize=12)\n",
        "            ax.set_xticklabels(labels,  fontsize=12)\n",
        "    if verbose: return conf_mat"
      ]
    },
    {
      "cell_type": "code",
      "execution_count": null,
      "metadata": {
        "id": "dPbMvn3mfuov",
        "colab": {
          "base_uri": "https://localhost:8080/"
        },
        "outputId": "bd535419-2051-4d1e-fdf9-a48d1cc8d248"
      },
      "outputs": [
        {
          "output_type": "stream",
          "name": "stderr",
          "text": [
            "515it [01:06,  7.80it/s]\n"
          ]
        }
      ],
      "source": [
        "pred_lbls, y_val_lbls = predict_both(bert_classifier, valid_loader)"
      ]
    },
    {
      "cell_type": "code",
      "execution_count": null,
      "metadata": {
        "id": "2l6vwFjKSYw0",
        "colab": {
          "base_uri": "https://localhost:8080/",
          "height": 882
        },
        "outputId": "866d84f4-2f75-4c84-c862-6f3445cedaad"
      },
      "outputs": [
        {
          "output_type": "display_data",
          "data": {
            "text/plain": [
              "<Figure size 1000x1000 with 1 Axes>"
            ],
            "image/png": "[encoded data removed]"
          },
          "metadata": {}
        }
      ],
      "source": [
        "confusion_matrix(y_val_lbls, pred_lbls, labels=dict_sent_to_lbl.keys()) #, normalize='all')"
      ]
    },
    {
      "cell_type": "markdown",
      "metadata": {
        "id": "pB5O6OtoR-h5"
      },
      "source": [
        "# Predict test"
      ]
    },
    {
      "cell_type": "code",
      "source": [
        "sentiments = []\n",
        "\n",
        "bert_classifier.eval()\n",
        "with torch.inference_mode():\n",
        "    for i, row in tqdm(test_ds.iterrows(), total=test_ds.shape[0]):\n",
        "\n",
        "        # Cleanup and tokenize the sentence\n",
        "        text = row['Text_clean']\n",
        "\n",
        "        inputs = tokenizer.encode_plus(\n",
        "                                        text,\n",
        "                                        None,\n",
        "                                        add_special_tokens=True,\n",
        "                                        max_length=MAX_LEN,\n",
        "                                        pad_to_max_length=True,\n",
        "                                        return_token_type_ids=True\n",
        "                                    )\n",
        "        # get input_ids, attention_mask, token_type_ids\n",
        "        input_ids = inputs['input_ids']\n",
        "        attention_mask = inputs['attention_mask']\n",
        "        #token_type_ids = inputs[\"token_type_ids\"]\n",
        "        input_ids = torch.tensor([input_ids], dtype=torch.long).to(DEVICE)\n",
        "        attention_mask = torch.tensor([attention_mask], dtype=torch.long).to(DEVICE)\n",
        "        #token_type_ids = torch.tensor([token_type_ids], dtype=torch.long).to(DEVICE)\n",
        "\n",
        "\n",
        "        # Get predictions\n",
        "        logits = bert_classifier(\n",
        "                                  input_ids,\n",
        "                                  attention_mask=attention_mask,\n",
        "                                  #token_type_ids = token_type_ids\n",
        "                                 )\n",
        "        pred = torch.argmax(logits, 1)\n",
        "        # Convert the integer category value to its actual name and save in predictions list\n",
        "        sentiments.append(dict_lbl_to_sent[pred.item()])\n",
        "\n",
        "# Save the predictions in Pandas column\n",
        "test_ds['Sentiment'] = sentiments"
      ],
      "metadata": {
        "execution": {
          "iopub.status.busy": "2023-01-08T14:11:34.899520Z",
          "iopub.execute_input": "2023-01-08T14:11:34.899913Z",
          "iopub.status.idle": "2023-01-08T14:12:02.898013Z",
          "shell.execute_reply.started": "2023-01-08T14:11:34.899861Z",
          "shell.execute_reply": "2023-01-08T14:12:02.896863Z"
        },
        "trusted": true,
        "id": "5M1w0DhONa5S",
        "colab": {
          "base_uri": "https://localhost:8080/"
        },
        "outputId": "6a4ccb65-5ea1-4770-a98e-b1d67cdbfce8"
      },
      "execution_count": null,
      "outputs": [
        {
          "output_type": "stream",
          "name": "stderr",
          "text": [
            "100%|██████████| 3798/3798 [00:55<00:00, 68.99it/s]\n"
          ]
        }
      ]
    },
    {
      "cell_type": "code",
      "execution_count": null,
      "metadata": {
        "colab": {
          "base_uri": "https://localhost:8080/",
          "height": 206
        },
        "id": "Z6rSpN05R-iA",
        "outputId": "abd0e29c-c3cb-4171-fff1-644bb1798e57"
      },
      "outputs": [
        {
          "output_type": "execute_result",
          "data": {
            "text/plain": [
              "                                     id           Sentiment\n",
              "0  787bc85b-20d4-46d8-84a0-562a2527f684            Negative\n",
              "1  17e934cd-ba94-4d4f-9ac0-ead202abe241            Positive\n",
              "2  5914534b-2b0f-4de8-bb8a-e25587697e0d            Positive\n",
              "3  cdf06cfe-29ae-48ee-ac6d-be448103ba45  Extremely Negative\n",
              "4  aff63979-0256-4fb9-a2d9-86a3d3ca5470             Neutral"
            ],
            "text/html": [
              "\n",
              "  <div id=\"df-b44d824f-34a5-423f-aff6-12b04f57ba8f\" class=\"colab-df-container\">\n",
              "    <div>\n",
              "<style scoped>\n",
              "    .dataframe tbody tr th:only-of-type {\n",
              "        vertical-align: middle;\n",
              "    }\n",
              "\n",
              "    .dataframe tbody tr th {\n",
              "        vertical-align: top;\n",
              "    }\n",
              "\n",
              "    .dataframe thead th {\n",
              "        text-align: right;\n",
              "    }\n",
              "</style>\n",
              "<table border=\"1\" class=\"dataframe\">\n",
              "  <thead>\n",
              "    <tr style=\"text-align: right;\">\n",
              "      <th></th>\n",
              "      <th>id</th>\n",
              "      <th>Sentiment</th>\n",
              "    </tr>\n",
              "  </thead>\n",
              "  <tbody>\n",
              "    <tr>\n",
              "      <th>0</th>\n",
              "      <td>787bc85b-20d4-46d8-84a0-562a2527f684</td>\n",
              "      <td>Negative</td>\n",
              "    </tr>\n",
              "    <tr>\n",
              "      <th>1</th>\n",
              "      <td>17e934cd-ba94-4d4f-9ac0-ead202abe241</td>\n",
              "      <td>Positive</td>\n",
              "    </tr>\n",
              "    <tr>\n",
              "      <th>2</th>\n",
              "      <td>5914534b-2b0f-4de8-bb8a-e25587697e0d</td>\n",
              "      <td>Positive</td>\n",
              "    </tr>\n",
              "    <tr>\n",
              "      <th>3</th>\n",
              "      <td>cdf06cfe-29ae-48ee-ac6d-be448103ba45</td>\n",
              "      <td>Extremely Negative</td>\n",
              "    </tr>\n",
              "    <tr>\n",
              "      <th>4</th>\n",
              "      <td>aff63979-0256-4fb9-a2d9-86a3d3ca5470</td>\n",
              "      <td>Neutral</td>\n",
              "    </tr>\n",
              "  </tbody>\n",
              "</table>\n",
              "</div>\n",
              "    <div class=\"colab-df-buttons\">\n",
              "\n",
              "  <div class=\"colab-df-container\">\n",
              "    <button class=\"colab-df-convert\" onclick=\"convertToInteractive('df-b44d824f-34a5-423f-aff6-12b04f57ba8f')\"\n",
              "            title=\"Convert this dataframe to an interactive table.\"\n",
              "            style=\"display:none;\">\n",
              "\n",
              "  <svg xmlns=\"http://www.w3.org/2000/svg\" height=\"24px\" viewBox=\"0 -960 960 960\">\n",
              "    <path d=\"M120-120v-720h720v720H120Zm60-500h600v-160H180v160Zm220 220h160v-160H400v160Zm0 220h160v-160H400v160ZM180-400h160v-160H180v160Zm440 0h160v-160H620v160ZM180-180h160v-160H180v160Zm440 0h160v-160H620v160Z\"/>\n",
              "  </svg>\n",
              "    </button>\n",
              "\n",
              "  <style>\n",
              "    .colab-df-container {\n",
              "      display:flex;\n",
              "      gap: 12px;\n",
              "    }\n",
              "\n",
              "    .colab-df-convert {\n",
              "      background-color: #E8F0FE;\n",
              "      border: none;\n",
              "      border-radius: 50%;\n",
              "      cursor: pointer;\n",
              "      display: none;\n",
              "      fill: #1967D2;\n",
              "      height: 32px;\n",
              "      padding: 0 0 0 0;\n",
              "      width: 32px;\n",
              "    }\n",
              "\n",
              "    .colab-df-convert:hover {\n",
              "      background-color: #E2EBFA;\n",
              "      box-shadow: 0px 1px 2px rgba(60, 64, 67, 0.3), 0px 1px 3px 1px rgba(60, 64, 67, 0.15);\n",
              "      fill: #174EA6;\n",
              "    }\n",
              "\n",
              "    .colab-df-buttons div {\n",
              "      margin-bottom: 4px;\n",
              "    }\n",
              "\n",
              "    [theme=dark] .colab-df-convert {\n",
              "      background-color: #3B4455;\n",
              "      fill: #D2E3FC;\n",
              "    }\n",
              "\n",
              "    [theme=dark] .colab-df-convert:hover {\n",
              "      background-color: #434B5C;\n",
              "      box-shadow: 0px 1px 3px 1px rgba(0, 0, 0, 0.15);\n",
              "      filter: drop-shadow(0px 1px 2px rgba(0, 0, 0, 0.3));\n",
              "      fill: #FFFFFF;\n",
              "    }\n",
              "  </style>\n",
              "\n",
              "    <script>\n",
              "      const buttonEl =\n",
              "        document.querySelector('#df-b44d824f-34a5-423f-aff6-12b04f57ba8f button.colab-df-convert');\n",
              "      buttonEl.style.display =\n",
              "        google.colab.kernel.accessAllowed ? 'block' : 'none';\n",
              "\n",
              "      async function convertToInteractive(key) {\n",
              "        const element = document.querySelector('#df-b44d824f-34a5-423f-aff6-12b04f57ba8f');\n",
              "        const dataTable =\n",
              "          await google.colab.kernel.invokeFunction('convertToInteractive',\n",
              "                                                    [key], {});\n",
              "        if (!dataTable) return;\n",
              "\n",
              "        const docLinkHtml = 'Like what you see? Visit the ' +\n",
              "          '<a target=\"_blank\" href=https://colab.research.google.com/notebooks/data_table.ipynb>data table notebook</a>'\n",
              "          + ' to learn more about interactive tables.';\n",
              "        element.innerHTML = '';\n",
              "        dataTable['output_type'] = 'display_data';\n",
              "        await google.colab.output.renderOutput(dataTable, element);\n",
              "        const docLink = document.createElement('div');\n",
              "        docLink.innerHTML = docLinkHtml;\n",
              "        element.appendChild(docLink);\n",
              "      }\n",
              "    </script>\n",
              "  </div>\n",
              "\n",
              "\n",
              "<div id=\"df-89be3e40-deb0-4c57-bba3-d8f939fc42e2\">\n",
              "  <button class=\"colab-df-quickchart\" onclick=\"quickchart('df-89be3e40-deb0-4c57-bba3-d8f939fc42e2')\"\n",
              "            title=\"Suggest charts.\"\n",
              "            style=\"display:none;\">\n",
              "\n",
              "<svg xmlns=\"http://www.w3.org/2000/svg\" height=\"24px\"viewBox=\"0 0 24 24\"\n",
              "     width=\"24px\">\n",
              "    <g>\n",
              "        <path d=\"M19 3H5c-1.1 0-2 .9-2 2v14c0 1.1.9 2 2 2h14c1.1 0 2-.9 2-2V5c0-1.1-.9-2-2-2zM9 17H7v-7h2v7zm4 0h-2V7h2v10zm4 0h-2v-4h2v4z\"/>\n",
              "    </g>\n",
              "</svg>\n",
              "  </button>\n",
              "\n",
              "<style>\n",
              "  .colab-df-quickchart {\n",
              "      --bg-color: #E8F0FE;\n",
              "      --fill-color: #1967D2;\n",
              "      --hover-bg-color: #E2EBFA;\n",
              "      --hover-fill-color: #174EA6;\n",
              "      --disabled-fill-color: #AAA;\n",
              "      --disabled-bg-color: #DDD;\n",
              "  }\n",
              "\n",
              "  [theme=dark] .colab-df-quickchart {\n",
              "      --bg-color: #3B4455;\n",
              "      --fill-color: #D2E3FC;\n",
              "      --hover-bg-color: #434B5C;\n",
              "      --hover-fill-color: #FFFFFF;\n",
              "      --disabled-bg-color: #3B4455;\n",
              "      --disabled-fill-color: #666;\n",
              "  }\n",
              "\n",
              "  .colab-df-quickchart {\n",
              "    background-color: var(--bg-color);\n",
              "    border: none;\n",
              "    border-radius: 50%;\n",
              "    cursor: pointer;\n",
              "    display: none;\n",
              "    fill: var(--fill-color);\n",
              "    height: 32px;\n",
              "    padding: 0;\n",
              "    width: 32px;\n",
              "  }\n",
              "\n",
              "  .colab-df-quickchart:hover {\n",
              "    background-color: var(--hover-bg-color);\n",
              "    box-shadow: 0 1px 2px rgba(60, 64, 67, 0.3), 0 1px 3px 1px rgba(60, 64, 67, 0.15);\n",
              "    fill: var(--button-hover-fill-color);\n",
              "  }\n",
              "\n",
              "  .colab-df-quickchart-complete:disabled,\n",
              "  .colab-df-quickchart-complete:disabled:hover {\n",
              "    background-color: var(--disabled-bg-color);\n",
              "    fill: var(--disabled-fill-color);\n",
              "    box-shadow: none;\n",
              "  }\n",
              "\n",
              "  .colab-df-spinner {\n",
              "    border: 2px solid var(--fill-color);\n",
              "    border-color: transparent;\n",
              "    border-bottom-color: var(--fill-color);\n",
              "    animation:\n",
              "      spin 1s steps(1) infinite;\n",
              "  }\n",
              "\n",
              "  @keyframes spin {\n",
              "    0% {\n",
              "      border-color: transparent;\n",
              "      border-bottom-color: var(--fill-color);\n",
              "      border-left-color: var(--fill-color);\n",
              "    }\n",
              "    20% {\n",
              "      border-color: transparent;\n",
              "      border-left-color: var(--fill-color);\n",
              "      border-top-color: var(--fill-color);\n",
              "    }\n",
              "    30% {\n",
              "      border-color: transparent;\n",
              "      border-left-color: var(--fill-color);\n",
              "      border-top-color: var(--fill-color);\n",
              "      border-right-color: var(--fill-color);\n",
              "    }\n",
              "    40% {\n",
              "      border-color: transparent;\n",
              "      border-right-color: var(--fill-color);\n",
              "      border-top-color: var(--fill-color);\n",
              "    }\n",
              "    60% {\n",
              "      border-color: transparent;\n",
              "      border-right-color: var(--fill-color);\n",
              "    }\n",
              "    80% {\n",
              "      border-color: transparent;\n",
              "      border-right-color: var(--fill-color);\n",
              "      border-bottom-color: var(--fill-color);\n",
              "    }\n",
              "    90% {\n",
              "      border-color: transparent;\n",
              "      border-bottom-color: var(--fill-color);\n",
              "    }\n",
              "  }\n",
              "</style>\n",
              "\n",
              "  <script>\n",
              "    async function quickchart(key) {\n",
              "      const quickchartButtonEl =\n",
              "        document.querySelector('#' + key + ' button');\n",
              "      quickchartButtonEl.disabled = true;  // To prevent multiple clicks.\n",
              "      quickchartButtonEl.classList.add('colab-df-spinner');\n",
              "      try {\n",
              "        const charts = await google.colab.kernel.invokeFunction(\n",
              "            'suggestCharts', [key], {});\n",
              "      } catch (error) {\n",
              "        console.error('Error during call to suggestCharts:', error);\n",
              "      }\n",
              "      quickchartButtonEl.classList.remove('colab-df-spinner');\n",
              "      quickchartButtonEl.classList.add('colab-df-quickchart-complete');\n",
              "    }\n",
              "    (() => {\n",
              "      let quickchartButtonEl =\n",
              "        document.querySelector('#df-89be3e40-deb0-4c57-bba3-d8f939fc42e2 button');\n",
              "      quickchartButtonEl.style.display =\n",
              "        google.colab.kernel.accessAllowed ? 'block' : 'none';\n",
              "    })();\n",
              "  </script>\n",
              "</div>\n",
              "    </div>\n",
              "  </div>\n"
            ]
          },
          "metadata": {},
          "execution_count": 118
        }
      ],
      "source": [
        "sample_submission.Sentiment = test_ds['Sentiment'].values\n",
        "sample_submission.head()"
      ]
    },
    {
      "cell_type": "markdown",
      "metadata": {
        "id": "kvA93_HO-pFZ"
      },
      "source": [
        "# Сабмит в Kaggle сразу"
      ]
    },
    {
      "cell_type": "code",
      "execution_count": null,
      "metadata": {
        "id": "8XdCWvRf-e2F"
      },
      "outputs": [],
      "source": [
        "file_name = 'submission.csv'\n",
        "# сохраняем с колонкой Id\n",
        "sample_submission.to_csv(file_name, index=False)"
      ]
    },
    {
      "cell_type": "markdown",
      "metadata": {
        "id": "GoNoaMB4-ImF"
      },
      "source": [
        "Старый для проб"
      ]
    },
    {
      "cell_type": "code",
      "execution_count": null,
      "metadata": {
        "colab": {
          "base_uri": "https://localhost:8080/"
        },
        "id": "uaEbgEXj-U51",
        "outputId": "b605375f-2a47-44c7-949c-b473d1de9033"
      },
      "outputs": [
        {
          "output_type": "stream",
          "name": "stdout",
          "text": [
            "Warning: Looks like you're using an outdated API Version, please consider updating (server 1.5.15 / client 1.5.12)\n",
            "100% 182k/182k [00:01<00:00, 139kB/s]\n",
            "Successfully submitted to Unit 3 - Text Classification"
          ]
        }
      ],
      "source": [
        "!kaggle competitions submit -c nlp-txt-classification -f submission.csv -m \"from colab_tests\""
      ]
    },
    {
      "cell_type": "markdown",
      "metadata": {
        "id": "0CegpWIx-C6J"
      },
      "source": [
        "Основной"
      ]
    },
    {
      "cell_type": "code",
      "execution_count": null,
      "metadata": {
        "colab": {
          "base_uri": "https://localhost:8080/"
        },
        "id": "5bMM3NZH9GYh",
        "outputId": "1b3c4b3b-bfa7-4d96-8fc3-03b91876ca50"
      },
      "outputs": [
        {
          "metadata": {
            "tags": null
          },
          "name": "stdout",
          "output_type": "stream",
          "text": [
            "Warning: Looks like you're using an outdated API Version, please consider updating (server 1.5.15 / client 1.5.12)\n",
            "100% 183k/183k [00:04<00:00, 44.6kB/s]\n",
            "Successfully submitted to Unit 3 - Классификация текстов"
          ]
        }
      ],
      "source": [
        "!kaggle competitions submit -c unit-3-nlp-txt-classification -f submission.csv -m \"From colab - Berta\""
      ]
    }
  ],
  "metadata": {
    "colab": {
      "provenance": [],
      "gpuType": "T4",
      "include_colab_link": true
    },
    "kernelspec": {
      "display_name": "Python 3",
      "name": "python3"
    },
    "language_info": {
      "codemirror_mode": {
        "name": "ipython",
        "version": 3
      },
      "file_extension": ".py",
      "mimetype": "text/x-python",
      "name": "python",
      "nbconvert_exporter": "python",
      "pygments_lexer": "ipython3",
      "version": "3.6.4"
    },
    "widgets": {
      "application/vnd.jupyter.widget-state+json": {
        "907395f796d44f118cf6e2658ff634b4": {
          "model_module": "@jupyter-widgets/controls",
          "model_name": "HBoxModel",
          "model_module_version": "1.5.0",
          "state": {
            "_dom_classes": [],
            "_model_module": "@jupyter-widgets/controls",
            "_model_module_version": "1.5.0",
            "_model_name": "HBoxModel",
            "_view_count": null,
            "_view_module": "@jupyter-widgets/controls",
            "_view_module_version": "1.5.0",
            "_view_name": "HBoxView",
            "box_style": "",
            "children": [
              "IPY_MODEL_5cc356172ca84cd5a282d6a33d584bcf",
              "IPY_MODEL_813113b4cbaa4867ab75e865050913ce",
              "IPY_MODEL_783330bbd93147128f71e9eed019be0c"
            ],
            "layout": "IPY_MODEL_07e71ee501d146b6a2c5c4e44e709e74"
          }
        },
        "5cc356172ca84cd5a282d6a33d584bcf": {
          "model_module": "@jupyter-widgets/controls",
          "model_name": "HTMLModel",
          "model_module_version": "1.5.0",
          "state": {
            "_dom_classes": [],
            "_model_module": "@jupyter-widgets/controls",
            "_model_module_version": "1.5.0",
            "_model_name": "HTMLModel",
            "_view_count": null,
            "_view_module": "@jupyter-widgets/controls",
            "_view_module_version": "1.5.0",
            "_view_name": "HTMLView",
            "description": "",
            "description_tooltip": null,
            "layout": "IPY_MODEL_6399c0dfe7854a9e91ffd1145ee97423",
            "placeholder": "​",
            "style": "IPY_MODEL_0b0213804afe43e8a08cee389b5b2939",
            "value": "Downloading (…)okenizer_config.json: 100%"
          }
        },
        "813113b4cbaa4867ab75e865050913ce": {
          "model_module": "@jupyter-widgets/controls",
          "model_name": "FloatProgressModel",
          "model_module_version": "1.5.0",
          "state": {
            "_dom_classes": [],
            "_model_module": "@jupyter-widgets/controls",
            "_model_module_version": "1.5.0",
            "_model_name": "FloatProgressModel",
            "_view_count": null,
            "_view_module": "@jupyter-widgets/controls",
            "_view_module_version": "1.5.0",
            "_view_name": "ProgressView",
            "bar_style": "success",
            "description": "",
            "description_tooltip": null,
            "layout": "IPY_MODEL_23531c7e8f544fea8d7d4f49055c1e82",
            "max": 28,
            "min": 0,
            "orientation": "horizontal",
            "style": "IPY_MODEL_328d71a3c13546ca969729a843bdb416",
            "value": 28
          }
        },
        "783330bbd93147128f71e9eed019be0c": {
          "model_module": "@jupyter-widgets/controls",
          "model_name": "HTMLModel",
          "model_module_version": "1.5.0",
          "state": {
            "_dom_classes": [],
            "_model_module": "@jupyter-widgets/controls",
            "_model_module_version": "1.5.0",
            "_model_name": "HTMLModel",
            "_view_count": null,
            "_view_module": "@jupyter-widgets/controls",
            "_view_module_version": "1.5.0",
            "_view_name": "HTMLView",
            "description": "",
            "description_tooltip": null,
            "layout": "IPY_MODEL_12ee72ff33aa4ee2ace4132778369981",
            "placeholder": "​",
            "style": "IPY_MODEL_bc7df024564d4eea991c596bca098273",
            "value": " 28.0/28.0 [00:00&lt;00:00, 1.44kB/s]"
          }
        },
        "07e71ee501d146b6a2c5c4e44e709e74": {
          "model_module": "@jupyter-widgets/base",
          "model_name": "LayoutModel",
          "model_module_version": "1.2.0",
          "state": {
            "_model_module": "@jupyter-widgets/base",
            "_model_module_version": "1.2.0",
            "_model_name": "LayoutModel",
            "_view_count": null,
            "_view_module": "@jupyter-widgets/base",
            "_view_module_version": "1.2.0",
            "_view_name": "LayoutView",
            "align_content": null,
            "align_items": null,
            "align_self": null,
            "border": null,
            "bottom": null,
            "display": null,
            "flex": null,
            "flex_flow": null,
            "grid_area": null,
            "grid_auto_columns": null,
            "grid_auto_flow": null,
            "grid_auto_rows": null,
            "grid_column": null,
            "grid_gap": null,
            "grid_row": null,
            "grid_template_areas": null,
            "grid_template_columns": null,
            "grid_template_rows": null,
            "height": null,
            "justify_content": null,
            "justify_items": null,
            "left": null,
            "margin": null,
            "max_height": null,
            "max_width": null,
            "min_height": null,
            "min_width": null,
            "object_fit": null,
            "object_position": null,
            "order": null,
            "overflow": null,
            "overflow_x": null,
            "overflow_y": null,
            "padding": null,
            "right": null,
            "top": null,
            "visibility": null,
            "width": null
          }
        },
        "6399c0dfe7854a9e91ffd1145ee97423": {
          "model_module": "@jupyter-widgets/base",
          "model_name": "LayoutModel",
          "model_module_version": "1.2.0",
          "state": {
            "_model_module": "@jupyter-widgets/base",
            "_model_module_version": "1.2.0",
            "_model_name": "LayoutModel",
            "_view_count": null,
            "_view_module": "@jupyter-widgets/base",
            "_view_module_version": "1.2.0",
            "_view_name": "LayoutView",
            "align_content": null,
            "align_items": null,
            "align_self": null,
            "border": null,
            "bottom": null,
            "display": null,
            "flex": null,
            "flex_flow": null,
            "grid_area": null,
            "grid_auto_columns": null,
            "grid_auto_flow": null,
            "grid_auto_rows": null,
            "grid_column": null,
            "grid_gap": null,
            "grid_row": null,
            "grid_template_areas": null,
            "grid_template_columns": null,
            "grid_template_rows": null,
            "height": null,
            "justify_content": null,
            "justify_items": null,
            "left": null,
            "margin": null,
            "max_height": null,
            "max_width": null,
            "min_height": null,
            "min_width": null,
            "object_fit": null,
            "object_position": null,
            "order": null,
            "overflow": null,
            "overflow_x": null,
            "overflow_y": null,
            "padding": null,
            "right": null,
            "top": null,
            "visibility": null,
            "width": null
          }
        },
        "0b0213804afe43e8a08cee389b5b2939": {
          "model_module": "@jupyter-widgets/controls",
          "model_name": "DescriptionStyleModel",
          "model_module_version": "1.5.0",
          "state": {
            "_model_module": "@jupyter-widgets/controls",
            "_model_module_version": "1.5.0",
            "_model_name": "DescriptionStyleModel",
            "_view_count": null,
            "_view_module": "@jupyter-widgets/base",
            "_view_module_version": "1.2.0",
            "_view_name": "StyleView",
            "description_width": ""
          }
        },
        "23531c7e8f544fea8d7d4f49055c1e82": {
          "model_module": "@jupyter-widgets/base",
          "model_name": "LayoutModel",
          "model_module_version": "1.2.0",
          "state": {
            "_model_module": "@jupyter-widgets/base",
            "_model_module_version": "1.2.0",
            "_model_name": "LayoutModel",
            "_view_count": null,
            "_view_module": "@jupyter-widgets/base",
            "_view_module_version": "1.2.0",
            "_view_name": "LayoutView",
            "align_content": null,
            "align_items": null,
            "align_self": null,
            "border": null,
            "bottom": null,
            "display": null,
            "flex": null,
            "flex_flow": null,
            "grid_area": null,
            "grid_auto_columns": null,
            "grid_auto_flow": null,
            "grid_auto_rows": null,
            "grid_column": null,
            "grid_gap": null,
            "grid_row": null,
            "grid_template_areas": null,
            "grid_template_columns": null,
            "grid_template_rows": null,
            "height": null,
            "justify_content": null,
            "justify_items": null,
            "left": null,
            "margin": null,
            "max_height": null,
            "max_width": null,
            "min_height": null,
            "min_width": null,
            "object_fit": null,
            "object_position": null,
            "order": null,
            "overflow": null,
            "overflow_x": null,
            "overflow_y": null,
            "padding": null,
            "right": null,
            "top": null,
            "visibility": null,
            "width": null
          }
        },
        "328d71a3c13546ca969729a843bdb416": {
          "model_module": "@jupyter-widgets/controls",
          "model_name": "ProgressStyleModel",
          "model_module_version": "1.5.0",
          "state": {
            "_model_module": "@jupyter-widgets/controls",
            "_model_module_version": "1.5.0",
            "_model_name": "ProgressStyleModel",
            "_view_count": null,
            "_view_module": "@jupyter-widgets/base",
            "_view_module_version": "1.2.0",
            "_view_name": "StyleView",
            "bar_color": null,
            "description_width": ""
          }
        },
        "12ee72ff33aa4ee2ace4132778369981": {
          "model_module": "@jupyter-widgets/base",
          "model_name": "LayoutModel",
          "model_module_version": "1.2.0",
          "state": {
            "_model_module": "@jupyter-widgets/base",
            "_model_module_version": "1.2.0",
            "_model_name": "LayoutModel",
            "_view_count": null,
            "_view_module": "@jupyter-widgets/base",
            "_view_module_version": "1.2.0",
            "_view_name": "LayoutView",
            "align_content": null,
            "align_items": null,
            "align_self": null,
            "border": null,
            "bottom": null,
            "display": null,
            "flex": null,
            "flex_flow": null,
            "grid_area": null,
            "grid_auto_columns": null,
            "grid_auto_flow": null,
            "grid_auto_rows": null,
            "grid_column": null,
            "grid_gap": null,
            "grid_row": null,
            "grid_template_areas": null,
            "grid_template_columns": null,
            "grid_template_rows": null,
            "height": null,
            "justify_content": null,
            "justify_items": null,
            "left": null,
            "margin": null,
            "max_height": null,
            "max_width": null,
            "min_height": null,
            "min_width": null,
            "object_fit": null,
            "object_position": null,
            "order": null,
            "overflow": null,
            "overflow_x": null,
            "overflow_y": null,
            "padding": null,
            "right": null,
            "top": null,
            "visibility": null,
            "width": null
          }
        },
        "bc7df024564d4eea991c596bca098273": {
          "model_module": "@jupyter-widgets/controls",
          "model_name": "DescriptionStyleModel",
          "model_module_version": "1.5.0",
          "state": {
            "_model_module": "@jupyter-widgets/controls",
            "_model_module_version": "1.5.0",
            "_model_name": "DescriptionStyleModel",
            "_view_count": null,
            "_view_module": "@jupyter-widgets/base",
            "_view_module_version": "1.2.0",
            "_view_name": "StyleView",
            "description_width": ""
          }
        },
        "e2c9644a4b114e798e037611761084ee": {
          "model_module": "@jupyter-widgets/controls",
          "model_name": "HBoxModel",
          "model_module_version": "1.5.0",
          "state": {
            "_dom_classes": [],
            "_model_module": "@jupyter-widgets/controls",
            "_model_module_version": "1.5.0",
            "_model_name": "HBoxModel",
            "_view_count": null,
            "_view_module": "@jupyter-widgets/controls",
            "_view_module_version": "1.5.0",
            "_view_name": "HBoxView",
            "box_style": "",
            "children": [
              "IPY_MODEL_62340e4d9a2140e6aac641677d26d468",
              "IPY_MODEL_ebc07fa93bd94eb28ff5521fa1243437",
              "IPY_MODEL_fc852b4983d747379bc5d33f0a53d416"
            ],
            "layout": "IPY_MODEL_19caffdb348f43faab0d0387d870824f"
          }
        },
        "62340e4d9a2140e6aac641677d26d468": {
          "model_module": "@jupyter-widgets/controls",
          "model_name": "HTMLModel",
          "model_module_version": "1.5.0",
          "state": {
            "_dom_classes": [],
            "_model_module": "@jupyter-widgets/controls",
            "_model_module_version": "1.5.0",
            "_model_name": "HTMLModel",
            "_view_count": null,
            "_view_module": "@jupyter-widgets/controls",
            "_view_module_version": "1.5.0",
            "_view_name": "HTMLView",
            "description": "",
            "description_tooltip": null,
            "layout": "IPY_MODEL_9cf03e3f97b14ef8ae9008ed37e014df",
            "placeholder": "​",
            "style": "IPY_MODEL_42d1403ddbc44b0faa4ec1f1615fa6a8",
            "value": "Downloading (…)solve/main/vocab.txt: 100%"
          }
        },
        "ebc07fa93bd94eb28ff5521fa1243437": {
          "model_module": "@jupyter-widgets/controls",
          "model_name": "FloatProgressModel",
          "model_module_version": "1.5.0",
          "state": {
            "_dom_classes": [],
            "_model_module": "@jupyter-widgets/controls",
            "_model_module_version": "1.5.0",
            "_model_name": "FloatProgressModel",
            "_view_count": null,
            "_view_module": "@jupyter-widgets/controls",
            "_view_module_version": "1.5.0",
            "_view_name": "ProgressView",
            "bar_style": "success",
            "description": "",
            "description_tooltip": null,
            "layout": "IPY_MODEL_20c7e7de51584002b8f98fbc11c7945f",
            "max": 231508,
            "min": 0,
            "orientation": "horizontal",
            "style": "IPY_MODEL_b97bb68acf0a4366a95bd3c37615aeae",
            "value": 231508
          }
        },
        "fc852b4983d747379bc5d33f0a53d416": {
          "model_module": "@jupyter-widgets/controls",
          "model_name": "HTMLModel",
          "model_module_version": "1.5.0",
          "state": {
            "_dom_classes": [],
            "_model_module": "@jupyter-widgets/controls",
            "_model_module_version": "1.5.0",
            "_model_name": "HTMLModel",
            "_view_count": null,
            "_view_module": "@jupyter-widgets/controls",
            "_view_module_version": "1.5.0",
            "_view_name": "HTMLView",
            "description": "",
            "description_tooltip": null,
            "layout": "IPY_MODEL_ed2f184e241f423ebba0f09ba0f5fe23",
            "placeholder": "​",
            "style": "IPY_MODEL_1fd0866bcb834c94af8b85db93078895",
            "value": " 232k/232k [00:00&lt;00:00, 3.17MB/s]"
          }
        },
        "19caffdb348f43faab0d0387d870824f": {
          "model_module": "@jupyter-widgets/base",
          "model_name": "LayoutModel",
          "model_module_version": "1.2.0",
          "state": {
            "_model_module": "@jupyter-widgets/base",
            "_model_module_version": "1.2.0",
            "_model_name": "LayoutModel",
            "_view_count": null,
            "_view_module": "@jupyter-widgets/base",
            "_view_module_version": "1.2.0",
            "_view_name": "LayoutView",
            "align_content": null,
            "align_items": null,
            "align_self": null,
            "border": null,
            "bottom": null,
            "display": null,
            "flex": null,
            "flex_flow": null,
            "grid_area": null,
            "grid_auto_columns": null,
            "grid_auto_flow": null,
            "grid_auto_rows": null,
            "grid_column": null,
            "grid_gap": null,
            "grid_row": null,
            "grid_template_areas": null,
            "grid_template_columns": null,
            "grid_template_rows": null,
            "height": null,
            "justify_content": null,
            "justify_items": null,
            "left": null,
            "margin": null,
            "max_height": null,
            "max_width": null,
            "min_height": null,
            "min_width": null,
            "object_fit": null,
            "object_position": null,
            "order": null,
            "overflow": null,
            "overflow_x": null,
            "overflow_y": null,
            "padding": null,
            "right": null,
            "top": null,
            "visibility": null,
            "width": null
          }
        },
        "9cf03e3f97b14ef8ae9008ed37e014df": {
          "model_module": "@jupyter-widgets/base",
          "model_name": "LayoutModel",
          "model_module_version": "1.2.0",
          "state": {
            "_model_module": "@jupyter-widgets/base",
            "_model_module_version": "1.2.0",
            "_model_name": "LayoutModel",
            "_view_count": null,
            "_view_module": "@jupyter-widgets/base",
            "_view_module_version": "1.2.0",
            "_view_name": "LayoutView",
            "align_content": null,
            "align_items": null,
            "align_self": null,
            "border": null,
            "bottom": null,
            "display": null,
            "flex": null,
            "flex_flow": null,
            "grid_area": null,
            "grid_auto_columns": null,
            "grid_auto_flow": null,
            "grid_auto_rows": null,
            "grid_column": null,
            "grid_gap": null,
            "grid_row": null,
            "grid_template_areas": null,
            "grid_template_columns": null,
            "grid_template_rows": null,
            "height": null,
            "justify_content": null,
            "justify_items": null,
            "left": null,
            "margin": null,
            "max_height": null,
            "max_width": null,
            "min_height": null,
            "min_width": null,
            "object_fit": null,
            "object_position": null,
            "order": null,
            "overflow": null,
            "overflow_x": null,
            "overflow_y": null,
            "padding": null,
            "right": null,
            "top": null,
            "visibility": null,
            "width": null
          }
        },
        "42d1403ddbc44b0faa4ec1f1615fa6a8": {
          "model_module": "@jupyter-widgets/controls",
          "model_name": "DescriptionStyleModel",
          "model_module_version": "1.5.0",
          "state": {
            "_model_module": "@jupyter-widgets/controls",
            "_model_module_version": "1.5.0",
            "_model_name": "DescriptionStyleModel",
            "_view_count": null,
            "_view_module": "@jupyter-widgets/base",
            "_view_module_version": "1.2.0",
            "_view_name": "StyleView",
            "description_width": ""
          }
        },
        "20c7e7de51584002b8f98fbc11c7945f": {
          "model_module": "@jupyter-widgets/base",
          "model_name": "LayoutModel",
          "model_module_version": "1.2.0",
          "state": {
            "_model_module": "@jupyter-widgets/base",
            "_model_module_version": "1.2.0",
            "_model_name": "LayoutModel",
            "_view_count": null,
            "_view_module": "@jupyter-widgets/base",
            "_view_module_version": "1.2.0",
            "_view_name": "LayoutView",
            "align_content": null,
            "align_items": null,
            "align_self": null,
            "border": null,
            "bottom": null,
            "display": null,
            "flex": null,
            "flex_flow": null,
            "grid_area": null,
            "grid_auto_columns": null,
            "grid_auto_flow": null,
            "grid_auto_rows": null,
            "grid_column": null,
            "grid_gap": null,
            "grid_row": null,
            "grid_template_areas": null,
            "grid_template_columns": null,
            "grid_template_rows": null,
            "height": null,
            "justify_content": null,
            "justify_items": null,
            "left": null,
            "margin": null,
            "max_height": null,
            "max_width": null,
            "min_height": null,
            "min_width": null,
            "object_fit": null,
            "object_position": null,
            "order": null,
            "overflow": null,
            "overflow_x": null,
            "overflow_y": null,
            "padding": null,
            "right": null,
            "top": null,
            "visibility": null,
            "width": null
          }
        },
        "b97bb68acf0a4366a95bd3c37615aeae": {
          "model_module": "@jupyter-widgets/controls",
          "model_name": "ProgressStyleModel",
          "model_module_version": "1.5.0",
          "state": {
            "_model_module": "@jupyter-widgets/controls",
            "_model_module_version": "1.5.0",
            "_model_name": "ProgressStyleModel",
            "_view_count": null,
            "_view_module": "@jupyter-widgets/base",
            "_view_module_version": "1.2.0",
            "_view_name": "StyleView",
            "bar_color": null,
            "description_width": ""
          }
        },
        "ed2f184e241f423ebba0f09ba0f5fe23": {
          "model_module": "@jupyter-widgets/base",
          "model_name": "LayoutModel",
          "model_module_version": "1.2.0",
          "state": {
            "_model_module": "@jupyter-widgets/base",
            "_model_module_version": "1.2.0",
            "_model_name": "LayoutModel",
            "_view_count": null,
            "_view_module": "@jupyter-widgets/base",
            "_view_module_version": "1.2.0",
            "_view_name": "LayoutView",
            "align_content": null,
            "align_items": null,
            "align_self": null,
            "border": null,
            "bottom": null,
            "display": null,
            "flex": null,
            "flex_flow": null,
            "grid_area": null,
            "grid_auto_columns": null,
            "grid_auto_flow": null,
            "grid_auto_rows": null,
            "grid_column": null,
            "grid_gap": null,
            "grid_row": null,
            "grid_template_areas": null,
            "grid_template_columns": null,
            "grid_template_rows": null,
            "height": null,
            "justify_content": null,
            "justify_items": null,
            "left": null,
            "margin": null,
            "max_height": null,
            "max_width": null,
            "min_height": null,
            "min_width": null,
            "object_fit": null,
            "object_position": null,
            "order": null,
            "overflow": null,
            "overflow_x": null,
            "overflow_y": null,
            "padding": null,
            "right": null,
            "top": null,
            "visibility": null,
            "width": null
          }
        },
        "1fd0866bcb834c94af8b85db93078895": {
          "model_module": "@jupyter-widgets/controls",
          "model_name": "DescriptionStyleModel",
          "model_module_version": "1.5.0",
          "state": {
            "_model_module": "@jupyter-widgets/controls",
            "_model_module_version": "1.5.0",
            "_model_name": "DescriptionStyleModel",
            "_view_count": null,
            "_view_module": "@jupyter-widgets/base",
            "_view_module_version": "1.2.0",
            "_view_name": "StyleView",
            "description_width": ""
          }
        },
        "1163661fd1954ecb944df5ff0bb2f19e": {
          "model_module": "@jupyter-widgets/controls",
          "model_name": "HBoxModel",
          "model_module_version": "1.5.0",
          "state": {
            "_dom_classes": [],
            "_model_module": "@jupyter-widgets/controls",
            "_model_module_version": "1.5.0",
            "_model_name": "HBoxModel",
            "_view_count": null,
            "_view_module": "@jupyter-widgets/controls",
            "_view_module_version": "1.5.0",
            "_view_name": "HBoxView",
            "box_style": "",
            "children": [
              "IPY_MODEL_cf73fc37976a4488b2f737c9bf757d20",
              "IPY_MODEL_e8f0a3af36424c8cbc575c07ee8ad483",
              "IPY_MODEL_d03c26d8ff2e41e9a3a5ee398faa39f3"
            ],
            "layout": "IPY_MODEL_7e9ee0c3ef6b42dd89f7f23f79ea0f87"
          }
        },
        "cf73fc37976a4488b2f737c9bf757d20": {
          "model_module": "@jupyter-widgets/controls",
          "model_name": "HTMLModel",
          "model_module_version": "1.5.0",
          "state": {
            "_dom_classes": [],
            "_model_module": "@jupyter-widgets/controls",
            "_model_module_version": "1.5.0",
            "_model_name": "HTMLModel",
            "_view_count": null,
            "_view_module": "@jupyter-widgets/controls",
            "_view_module_version": "1.5.0",
            "_view_name": "HTMLView",
            "description": "",
            "description_tooltip": null,
            "layout": "IPY_MODEL_15e56ab7122e49558cfa6aa74fcc8c3d",
            "placeholder": "​",
            "style": "IPY_MODEL_2549acf8bea54706b99f59078b80e81c",
            "value": "Downloading (…)/main/tokenizer.json: 100%"
          }
        },
        "e8f0a3af36424c8cbc575c07ee8ad483": {
          "model_module": "@jupyter-widgets/controls",
          "model_name": "FloatProgressModel",
          "model_module_version": "1.5.0",
          "state": {
            "_dom_classes": [],
            "_model_module": "@jupyter-widgets/controls",
            "_model_module_version": "1.5.0",
            "_model_name": "FloatProgressModel",
            "_view_count": null,
            "_view_module": "@jupyter-widgets/controls",
            "_view_module_version": "1.5.0",
            "_view_name": "ProgressView",
            "bar_style": "success",
            "description": "",
            "description_tooltip": null,
            "layout": "IPY_MODEL_18b00fc6bf83422d91fd3a3b903ee014",
            "max": 466062,
            "min": 0,
            "orientation": "horizontal",
            "style": "IPY_MODEL_fa8cd05f855440368b92f3004c6ab27f",
            "value": 466062
          }
        },
        "d03c26d8ff2e41e9a3a5ee398faa39f3": {
          "model_module": "@jupyter-widgets/controls",
          "model_name": "HTMLModel",
          "model_module_version": "1.5.0",
          "state": {
            "_dom_classes": [],
            "_model_module": "@jupyter-widgets/controls",
            "_model_module_version": "1.5.0",
            "_model_name": "HTMLModel",
            "_view_count": null,
            "_view_module": "@jupyter-widgets/controls",
            "_view_module_version": "1.5.0",
            "_view_name": "HTMLView",
            "description": "",
            "description_tooltip": null,
            "layout": "IPY_MODEL_4f42fb1a93da49b3a5ce7d4c838417bb",
            "placeholder": "​",
            "style": "IPY_MODEL_95e07567c25d4f87afb760a4dfec9ee6",
            "value": " 466k/466k [00:00&lt;00:00, 9.23MB/s]"
          }
        },
        "7e9ee0c3ef6b42dd89f7f23f79ea0f87": {
          "model_module": "@jupyter-widgets/base",
          "model_name": "LayoutModel",
          "model_module_version": "1.2.0",
          "state": {
            "_model_module": "@jupyter-widgets/base",
            "_model_module_version": "1.2.0",
            "_model_name": "LayoutModel",
            "_view_count": null,
            "_view_module": "@jupyter-widgets/base",
            "_view_module_version": "1.2.0",
            "_view_name": "LayoutView",
            "align_content": null,
            "align_items": null,
            "align_self": null,
            "border": null,
            "bottom": null,
            "display": null,
            "flex": null,
            "flex_flow": null,
            "grid_area": null,
            "grid_auto_columns": null,
            "grid_auto_flow": null,
            "grid_auto_rows": null,
            "grid_column": null,
            "grid_gap": null,
            "grid_row": null,
            "grid_template_areas": null,
            "grid_template_columns": null,
            "grid_template_rows": null,
            "height": null,
            "justify_content": null,
            "justify_items": null,
            "left": null,
            "margin": null,
            "max_height": null,
            "max_width": null,
            "min_height": null,
            "min_width": null,
            "object_fit": null,
            "object_position": null,
            "order": null,
            "overflow": null,
            "overflow_x": null,
            "overflow_y": null,
            "padding": null,
            "right": null,
            "top": null,
            "visibility": null,
            "width": null
          }
        },
        "15e56ab7122e49558cfa6aa74fcc8c3d": {
          "model_module": "@jupyter-widgets/base",
          "model_name": "LayoutModel",
          "model_module_version": "1.2.0",
          "state": {
            "_model_module": "@jupyter-widgets/base",
            "_model_module_version": "1.2.0",
            "_model_name": "LayoutModel",
            "_view_count": null,
            "_view_module": "@jupyter-widgets/base",
            "_view_module_version": "1.2.0",
            "_view_name": "LayoutView",
            "align_content": null,
            "align_items": null,
            "align_self": null,
            "border": null,
            "bottom": null,
            "display": null,
            "flex": null,
            "flex_flow": null,
            "grid_area": null,
            "grid_auto_columns": null,
            "grid_auto_flow": null,
            "grid_auto_rows": null,
            "grid_column": null,
            "grid_gap": null,
            "grid_row": null,
            "grid_template_areas": null,
            "grid_template_columns": null,
            "grid_template_rows": null,
            "height": null,
            "justify_content": null,
            "justify_items": null,
            "left": null,
            "margin": null,
            "max_height": null,
            "max_width": null,
            "min_height": null,
            "min_width": null,
            "object_fit": null,
            "object_position": null,
            "order": null,
            "overflow": null,
            "overflow_x": null,
            "overflow_y": null,
            "padding": null,
            "right": null,
            "top": null,
            "visibility": null,
            "width": null
          }
        },
        "2549acf8bea54706b99f59078b80e81c": {
          "model_module": "@jupyter-widgets/controls",
          "model_name": "DescriptionStyleModel",
          "model_module_version": "1.5.0",
          "state": {
            "_model_module": "@jupyter-widgets/controls",
            "_model_module_version": "1.5.0",
            "_model_name": "DescriptionStyleModel",
            "_view_count": null,
            "_view_module": "@jupyter-widgets/base",
            "_view_module_version": "1.2.0",
            "_view_name": "StyleView",
            "description_width": ""
          }
        },
        "18b00fc6bf83422d91fd3a3b903ee014": {
          "model_module": "@jupyter-widgets/base",
          "model_name": "LayoutModel",
          "model_module_version": "1.2.0",
          "state": {
            "_model_module": "@jupyter-widgets/base",
            "_model_module_version": "1.2.0",
            "_model_name": "LayoutModel",
            "_view_count": null,
            "_view_module": "@jupyter-widgets/base",
            "_view_module_version": "1.2.0",
            "_view_name": "LayoutView",
            "align_content": null,
            "align_items": null,
            "align_self": null,
            "border": null,
            "bottom": null,
            "display": null,
            "flex": null,
            "flex_flow": null,
            "grid_area": null,
            "grid_auto_columns": null,
            "grid_auto_flow": null,
            "grid_auto_rows": null,
            "grid_column": null,
            "grid_gap": null,
            "grid_row": null,
            "grid_template_areas": null,
            "grid_template_columns": null,
            "grid_template_rows": null,
            "height": null,
            "justify_content": null,
            "justify_items": null,
            "left": null,
            "margin": null,
            "max_height": null,
            "max_width": null,
            "min_height": null,
            "min_width": null,
            "object_fit": null,
            "object_position": null,
            "order": null,
            "overflow": null,
            "overflow_x": null,
            "overflow_y": null,
            "padding": null,
            "right": null,
            "top": null,
            "visibility": null,
            "width": null
          }
        },
        "fa8cd05f855440368b92f3004c6ab27f": {
          "model_module": "@jupyter-widgets/controls",
          "model_name": "ProgressStyleModel",
          "model_module_version": "1.5.0",
          "state": {
            "_model_module": "@jupyter-widgets/controls",
            "_model_module_version": "1.5.0",
            "_model_name": "ProgressStyleModel",
            "_view_count": null,
            "_view_module": "@jupyter-widgets/base",
            "_view_module_version": "1.2.0",
            "_view_name": "StyleView",
            "bar_color": null,
            "description_width": ""
          }
        },
        "4f42fb1a93da49b3a5ce7d4c838417bb": {
          "model_module": "@jupyter-widgets/base",
          "model_name": "LayoutModel",
          "model_module_version": "1.2.0",
          "state": {
            "_model_module": "@jupyter-widgets/base",
            "_model_module_version": "1.2.0",
            "_model_name": "LayoutModel",
            "_view_count": null,
            "_view_module": "@jupyter-widgets/base",
            "_view_module_version": "1.2.0",
            "_view_name": "LayoutView",
            "align_content": null,
            "align_items": null,
            "align_self": null,
            "border": null,
            "bottom": null,
            "display": null,
            "flex": null,
            "flex_flow": null,
            "grid_area": null,
            "grid_auto_columns": null,
            "grid_auto_flow": null,
            "grid_auto_rows": null,
            "grid_column": null,
            "grid_gap": null,
            "grid_row": null,
            "grid_template_areas": null,
            "grid_template_columns": null,
            "grid_template_rows": null,
            "height": null,
            "justify_content": null,
            "justify_items": null,
            "left": null,
            "margin": null,
            "max_height": null,
            "max_width": null,
            "min_height": null,
            "min_width": null,
            "object_fit": null,
            "object_position": null,
            "order": null,
            "overflow": null,
            "overflow_x": null,
            "overflow_y": null,
            "padding": null,
            "right": null,
            "top": null,
            "visibility": null,
            "width": null
          }
        },
        "95e07567c25d4f87afb760a4dfec9ee6": {
          "model_module": "@jupyter-widgets/controls",
          "model_name": "DescriptionStyleModel",
          "model_module_version": "1.5.0",
          "state": {
            "_model_module": "@jupyter-widgets/controls",
            "_model_module_version": "1.5.0",
            "_model_name": "DescriptionStyleModel",
            "_view_count": null,
            "_view_module": "@jupyter-widgets/base",
            "_view_module_version": "1.2.0",
            "_view_name": "StyleView",
            "description_width": ""
          }
        },
        "4a2c0c08feca417db5b381e95b9e6fe6": {
          "model_module": "@jupyter-widgets/controls",
          "model_name": "HBoxModel",
          "model_module_version": "1.5.0",
          "state": {
            "_dom_classes": [],
            "_model_module": "@jupyter-widgets/controls",
            "_model_module_version": "1.5.0",
            "_model_name": "HBoxModel",
            "_view_count": null,
            "_view_module": "@jupyter-widgets/controls",
            "_view_module_version": "1.5.0",
            "_view_name": "HBoxView",
            "box_style": "",
            "children": [
              "IPY_MODEL_e8450bb3c83a4b779a2edfa3cc18e575",
              "IPY_MODEL_725359cf863b4c55a1a21c5f0ef4f524",
              "IPY_MODEL_5a61ae5afcc24695af1a798c8e4f2bad"
            ],
            "layout": "IPY_MODEL_1f1d5da8b3d845c1a043a701c5874316"
          }
        },
        "e8450bb3c83a4b779a2edfa3cc18e575": {
          "model_module": "@jupyter-widgets/controls",
          "model_name": "HTMLModel",
          "model_module_version": "1.5.0",
          "state": {
            "_dom_classes": [],
            "_model_module": "@jupyter-widgets/controls",
            "_model_module_version": "1.5.0",
            "_model_name": "HTMLModel",
            "_view_count": null,
            "_view_module": "@jupyter-widgets/controls",
            "_view_module_version": "1.5.0",
            "_view_name": "HTMLView",
            "description": "",
            "description_tooltip": null,
            "layout": "IPY_MODEL_f5b8455ac5af4ee980d2fe27d1355001",
            "placeholder": "​",
            "style": "IPY_MODEL_6257974d0b4543baa00748f0237a7381",
            "value": "Downloading (…)lve/main/config.json: 100%"
          }
        },
        "725359cf863b4c55a1a21c5f0ef4f524": {
          "model_module": "@jupyter-widgets/controls",
          "model_name": "FloatProgressModel",
          "model_module_version": "1.5.0",
          "state": {
            "_dom_classes": [],
            "_model_module": "@jupyter-widgets/controls",
            "_model_module_version": "1.5.0",
            "_model_name": "FloatProgressModel",
            "_view_count": null,
            "_view_module": "@jupyter-widgets/controls",
            "_view_module_version": "1.5.0",
            "_view_name": "ProgressView",
            "bar_style": "success",
            "description": "",
            "description_tooltip": null,
            "layout": "IPY_MODEL_979386d2ef6d458fa1158d6b9c973b75",
            "max": 570,
            "min": 0,
            "orientation": "horizontal",
            "style": "IPY_MODEL_78a338738c144cdca6ed276c85ab2b0b",
            "value": 570
          }
        },
        "5a61ae5afcc24695af1a798c8e4f2bad": {
          "model_module": "@jupyter-widgets/controls",
          "model_name": "HTMLModel",
          "model_module_version": "1.5.0",
          "state": {
            "_dom_classes": [],
            "_model_module": "@jupyter-widgets/controls",
            "_model_module_version": "1.5.0",
            "_model_name": "HTMLModel",
            "_view_count": null,
            "_view_module": "@jupyter-widgets/controls",
            "_view_module_version": "1.5.0",
            "_view_name": "HTMLView",
            "description": "",
            "description_tooltip": null,
            "layout": "IPY_MODEL_18efa076a0e74e528d8e64d87ba15454",
            "placeholder": "​",
            "style": "IPY_MODEL_431d9c07528740a989f2d3ba9bb27345",
            "value": " 570/570 [00:00&lt;00:00, 43.3kB/s]"
          }
        },
        "1f1d5da8b3d845c1a043a701c5874316": {
          "model_module": "@jupyter-widgets/base",
          "model_name": "LayoutModel",
          "model_module_version": "1.2.0",
          "state": {
            "_model_module": "@jupyter-widgets/base",
            "_model_module_version": "1.2.0",
            "_model_name": "LayoutModel",
            "_view_count": null,
            "_view_module": "@jupyter-widgets/base",
            "_view_module_version": "1.2.0",
            "_view_name": "LayoutView",
            "align_content": null,
            "align_items": null,
            "align_self": null,
            "border": null,
            "bottom": null,
            "display": null,
            "flex": null,
            "flex_flow": null,
            "grid_area": null,
            "grid_auto_columns": null,
            "grid_auto_flow": null,
            "grid_auto_rows": null,
            "grid_column": null,
            "grid_gap": null,
            "grid_row": null,
            "grid_template_areas": null,
            "grid_template_columns": null,
            "grid_template_rows": null,
            "height": null,
            "justify_content": null,
            "justify_items": null,
            "left": null,
            "margin": null,
            "max_height": null,
            "max_width": null,
            "min_height": null,
            "min_width": null,
            "object_fit": null,
            "object_position": null,
            "order": null,
            "overflow": null,
            "overflow_x": null,
            "overflow_y": null,
            "padding": null,
            "right": null,
            "top": null,
            "visibility": null,
            "width": null
          }
        },
        "f5b8455ac5af4ee980d2fe27d1355001": {
          "model_module": "@jupyter-widgets/base",
          "model_name": "LayoutModel",
          "model_module_version": "1.2.0",
          "state": {
            "_model_module": "@jupyter-widgets/base",
            "_model_module_version": "1.2.0",
            "_model_name": "LayoutModel",
            "_view_count": null,
            "_view_module": "@jupyter-widgets/base",
            "_view_module_version": "1.2.0",
            "_view_name": "LayoutView",
            "align_content": null,
            "align_items": null,
            "align_self": null,
            "border": null,
            "bottom": null,
            "display": null,
            "flex": null,
            "flex_flow": null,
            "grid_area": null,
            "grid_auto_columns": null,
            "grid_auto_flow": null,
            "grid_auto_rows": null,
            "grid_column": null,
            "grid_gap": null,
            "grid_row": null,
            "grid_template_areas": null,
            "grid_template_columns": null,
            "grid_template_rows": null,
            "height": null,
            "justify_content": null,
            "justify_items": null,
            "left": null,
            "margin": null,
            "max_height": null,
            "max_width": null,
            "min_height": null,
            "min_width": null,
            "object_fit": null,
            "object_position": null,
            "order": null,
            "overflow": null,
            "overflow_x": null,
            "overflow_y": null,
            "padding": null,
            "right": null,
            "top": null,
            "visibility": null,
            "width": null
          }
        },
        "6257974d0b4543baa00748f0237a7381": {
          "model_module": "@jupyter-widgets/controls",
          "model_name": "DescriptionStyleModel",
          "model_module_version": "1.5.0",
          "state": {
            "_model_module": "@jupyter-widgets/controls",
            "_model_module_version": "1.5.0",
            "_model_name": "DescriptionStyleModel",
            "_view_count": null,
            "_view_module": "@jupyter-widgets/base",
            "_view_module_version": "1.2.0",
            "_view_name": "StyleView",
            "description_width": ""
          }
        },
        "979386d2ef6d458fa1158d6b9c973b75": {
          "model_module": "@jupyter-widgets/base",
          "model_name": "LayoutModel",
          "model_module_version": "1.2.0",
          "state": {
            "_model_module": "@jupyter-widgets/base",
            "_model_module_version": "1.2.0",
            "_model_name": "LayoutModel",
            "_view_count": null,
            "_view_module": "@jupyter-widgets/base",
            "_view_module_version": "1.2.0",
            "_view_name": "LayoutView",
            "align_content": null,
            "align_items": null,
            "align_self": null,
            "border": null,
            "bottom": null,
            "display": null,
            "flex": null,
            "flex_flow": null,
            "grid_area": null,
            "grid_auto_columns": null,
            "grid_auto_flow": null,
            "grid_auto_rows": null,
            "grid_column": null,
            "grid_gap": null,
            "grid_row": null,
            "grid_template_areas": null,
            "grid_template_columns": null,
            "grid_template_rows": null,
            "height": null,
            "justify_content": null,
            "justify_items": null,
            "left": null,
            "margin": null,
            "max_height": null,
            "max_width": null,
            "min_height": null,
            "min_width": null,
            "object_fit": null,
            "object_position": null,
            "order": null,
            "overflow": null,
            "overflow_x": null,
            "overflow_y": null,
            "padding": null,
            "right": null,
            "top": null,
            "visibility": null,
            "width": null
          }
        },
        "78a338738c144cdca6ed276c85ab2b0b": {
          "model_module": "@jupyter-widgets/controls",
          "model_name": "ProgressStyleModel",
          "model_module_version": "1.5.0",
          "state": {
            "_model_module": "@jupyter-widgets/controls",
            "_model_module_version": "1.5.0",
            "_model_name": "ProgressStyleModel",
            "_view_count": null,
            "_view_module": "@jupyter-widgets/base",
            "_view_module_version": "1.2.0",
            "_view_name": "StyleView",
            "bar_color": null,
            "description_width": ""
          }
        },
        "18efa076a0e74e528d8e64d87ba15454": {
          "model_module": "@jupyter-widgets/base",
          "model_name": "LayoutModel",
          "model_module_version": "1.2.0",
          "state": {
            "_model_module": "@jupyter-widgets/base",
            "_model_module_version": "1.2.0",
            "_model_name": "LayoutModel",
            "_view_count": null,
            "_view_module": "@jupyter-widgets/base",
            "_view_module_version": "1.2.0",
            "_view_name": "LayoutView",
            "align_content": null,
            "align_items": null,
            "align_self": null,
            "border": null,
            "bottom": null,
            "display": null,
            "flex": null,
            "flex_flow": null,
            "grid_area": null,
            "grid_auto_columns": null,
            "grid_auto_flow": null,
            "grid_auto_rows": null,
            "grid_column": null,
            "grid_gap": null,
            "grid_row": null,
            "grid_template_areas": null,
            "grid_template_columns": null,
            "grid_template_rows": null,
            "height": null,
            "justify_content": null,
            "justify_items": null,
            "left": null,
            "margin": null,
            "max_height": null,
            "max_width": null,
            "min_height": null,
            "min_width": null,
            "object_fit": null,
            "object_position": null,
            "order": null,
            "overflow": null,
            "overflow_x": null,
            "overflow_y": null,
            "padding": null,
            "right": null,
            "top": null,
            "visibility": null,
            "width": null
          }
        },
        "431d9c07528740a989f2d3ba9bb27345": {
          "model_module": "@jupyter-widgets/controls",
          "model_name": "DescriptionStyleModel",
          "model_module_version": "1.5.0",
          "state": {
            "_model_module": "@jupyter-widgets/controls",
            "_model_module_version": "1.5.0",
            "_model_name": "DescriptionStyleModel",
            "_view_count": null,
            "_view_module": "@jupyter-widgets/base",
            "_view_module_version": "1.2.0",
            "_view_name": "StyleView",
            "description_width": ""
          }
        },
        "b4987c43c2834a4f997644e03e6e3e3c": {
          "model_module": "@jupyter-widgets/controls",
          "model_name": "HBoxModel",
          "model_module_version": "1.5.0",
          "state": {
            "_dom_classes": [],
            "_model_module": "@jupyter-widgets/controls",
            "_model_module_version": "1.5.0",
            "_model_name": "HBoxModel",
            "_view_count": null,
            "_view_module": "@jupyter-widgets/controls",
            "_view_module_version": "1.5.0",
            "_view_name": "HBoxView",
            "box_style": "",
            "children": [
              "IPY_MODEL_bfb408d7b2d6497db5c4662d207a60ef",
              "IPY_MODEL_4e00a638a2904829b72deaaf1423a247",
              "IPY_MODEL_800af506bf594b0baf8b0448ed5b661f"
            ],
            "layout": "IPY_MODEL_d249b0c93d2e484fb0fa0d372caf873d"
          }
        },
        "bfb408d7b2d6497db5c4662d207a60ef": {
          "model_module": "@jupyter-widgets/controls",
          "model_name": "HTMLModel",
          "model_module_version": "1.5.0",
          "state": {
            "_dom_classes": [],
            "_model_module": "@jupyter-widgets/controls",
            "_model_module_version": "1.5.0",
            "_model_name": "HTMLModel",
            "_view_count": null,
            "_view_module": "@jupyter-widgets/controls",
            "_view_module_version": "1.5.0",
            "_view_name": "HTMLView",
            "description": "",
            "description_tooltip": null,
            "layout": "IPY_MODEL_3f7faf0063354fb89d11b7025196a861",
            "placeholder": "​",
            "style": "IPY_MODEL_08178f7a657e46a99c6e61d66770d641",
            "value": "Downloading model.safetensors: 100%"
          }
        },
        "4e00a638a2904829b72deaaf1423a247": {
          "model_module": "@jupyter-widgets/controls",
          "model_name": "FloatProgressModel",
          "model_module_version": "1.5.0",
          "state": {
            "_dom_classes": [],
            "_model_module": "@jupyter-widgets/controls",
            "_model_module_version": "1.5.0",
            "_model_name": "FloatProgressModel",
            "_view_count": null,
            "_view_module": "@jupyter-widgets/controls",
            "_view_module_version": "1.5.0",
            "_view_name": "ProgressView",
            "bar_style": "success",
            "description": "",
            "description_tooltip": null,
            "layout": "IPY_MODEL_39fbdbb76e6e483da70f08209580ddc3",
            "max": 440449768,
            "min": 0,
            "orientation": "horizontal",
            "style": "IPY_MODEL_a176361e16b1418d85bf9f233e5adf9f",
            "value": 440449768
          }
        },
        "800af506bf594b0baf8b0448ed5b661f": {
          "model_module": "@jupyter-widgets/controls",
          "model_name": "HTMLModel",
          "model_module_version": "1.5.0",
          "state": {
            "_dom_classes": [],
            "_model_module": "@jupyter-widgets/controls",
            "_model_module_version": "1.5.0",
            "_model_name": "HTMLModel",
            "_view_count": null,
            "_view_module": "@jupyter-widgets/controls",
            "_view_module_version": "1.5.0",
            "_view_name": "HTMLView",
            "description": "",
            "description_tooltip": null,
            "layout": "IPY_MODEL_9df489e2888546fe9cf5cb3756680653",
            "placeholder": "​",
            "style": "IPY_MODEL_3ba34413e4b44d179e6c1e943a1f1b03",
            "value": " 440M/440M [00:02&lt;00:00, 228MB/s]"
          }
        },
        "d249b0c93d2e484fb0fa0d372caf873d": {
          "model_module": "@jupyter-widgets/base",
          "model_name": "LayoutModel",
          "model_module_version": "1.2.0",
          "state": {
            "_model_module": "@jupyter-widgets/base",
            "_model_module_version": "1.2.0",
            "_model_name": "LayoutModel",
            "_view_count": null,
            "_view_module": "@jupyter-widgets/base",
            "_view_module_version": "1.2.0",
            "_view_name": "LayoutView",
            "align_content": null,
            "align_items": null,
            "align_self": null,
            "border": null,
            "bottom": null,
            "display": null,
            "flex": null,
            "flex_flow": null,
            "grid_area": null,
            "grid_auto_columns": null,
            "grid_auto_flow": null,
            "grid_auto_rows": null,
            "grid_column": null,
            "grid_gap": null,
            "grid_row": null,
            "grid_template_areas": null,
            "grid_template_columns": null,
            "grid_template_rows": null,
            "height": null,
            "justify_content": null,
            "justify_items": null,
            "left": null,
            "margin": null,
            "max_height": null,
            "max_width": null,
            "min_height": null,
            "min_width": null,
            "object_fit": null,
            "object_position": null,
            "order": null,
            "overflow": null,
            "overflow_x": null,
            "overflow_y": null,
            "padding": null,
            "right": null,
            "top": null,
            "visibility": null,
            "width": null
          }
        },
        "3f7faf0063354fb89d11b7025196a861": {
          "model_module": "@jupyter-widgets/base",
          "model_name": "LayoutModel",
          "model_module_version": "1.2.0",
          "state": {
            "_model_module": "@jupyter-widgets/base",
            "_model_module_version": "1.2.0",
            "_model_name": "LayoutModel",
            "_view_count": null,
            "_view_module": "@jupyter-widgets/base",
            "_view_module_version": "1.2.0",
            "_view_name": "LayoutView",
            "align_content": null,
            "align_items": null,
            "align_self": null,
            "border": null,
            "bottom": null,
            "display": null,
            "flex": null,
            "flex_flow": null,
            "grid_area": null,
            "grid_auto_columns": null,
            "grid_auto_flow": null,
            "grid_auto_rows": null,
            "grid_column": null,
            "grid_gap": null,
            "grid_row": null,
            "grid_template_areas": null,
            "grid_template_columns": null,
            "grid_template_rows": null,
            "height": null,
            "justify_content": null,
            "justify_items": null,
            "left": null,
            "margin": null,
            "max_height": null,
            "max_width": null,
            "min_height": null,
            "min_width": null,
            "object_fit": null,
            "object_position": null,
            "order": null,
            "overflow": null,
            "overflow_x": null,
            "overflow_y": null,
            "padding": null,
            "right": null,
            "top": null,
            "visibility": null,
            "width": null
          }
        },
        "08178f7a657e46a99c6e61d66770d641": {
          "model_module": "@jupyter-widgets/controls",
          "model_name": "DescriptionStyleModel",
          "model_module_version": "1.5.0",
          "state": {
            "_model_module": "@jupyter-widgets/controls",
            "_model_module_version": "1.5.0",
            "_model_name": "DescriptionStyleModel",
            "_view_count": null,
            "_view_module": "@jupyter-widgets/base",
            "_view_module_version": "1.2.0",
            "_view_name": "StyleView",
            "description_width": ""
          }
        },
        "39fbdbb76e6e483da70f08209580ddc3": {
          "model_module": "@jupyter-widgets/base",
          "model_name": "LayoutModel",
          "model_module_version": "1.2.0",
          "state": {
            "_model_module": "@jupyter-widgets/base",
            "_model_module_version": "1.2.0",
            "_model_name": "LayoutModel",
            "_view_count": null,
            "_view_module": "@jupyter-widgets/base",
            "_view_module_version": "1.2.0",
            "_view_name": "LayoutView",
            "align_content": null,
            "align_items": null,
            "align_self": null,
            "border": null,
            "bottom": null,
            "display": null,
            "flex": null,
            "flex_flow": null,
            "grid_area": null,
            "grid_auto_columns": null,
            "grid_auto_flow": null,
            "grid_auto_rows": null,
            "grid_column": null,
            "grid_gap": null,
            "grid_row": null,
            "grid_template_areas": null,
            "grid_template_columns": null,
            "grid_template_rows": null,
            "height": null,
            "justify_content": null,
            "justify_items": null,
            "left": null,
            "margin": null,
            "max_height": null,
            "max_width": null,
            "min_height": null,
            "min_width": null,
            "object_fit": null,
            "object_position": null,
            "order": null,
            "overflow": null,
            "overflow_x": null,
            "overflow_y": null,
            "padding": null,
            "right": null,
            "top": null,
            "visibility": null,
            "width": null
          }
        },
        "a176361e16b1418d85bf9f233e5adf9f": {
          "model_module": "@jupyter-widgets/controls",
          "model_name": "ProgressStyleModel",
          "model_module_version": "1.5.0",
          "state": {
            "_model_module": "@jupyter-widgets/controls",
            "_model_module_version": "1.5.0",
            "_model_name": "ProgressStyleModel",
            "_view_count": null,
            "_view_module": "@jupyter-widgets/base",
            "_view_module_version": "1.2.0",
            "_view_name": "StyleView",
            "bar_color": null,
            "description_width": ""
          }
        },
        "9df489e2888546fe9cf5cb3756680653": {
          "model_module": "@jupyter-widgets/base",
          "model_name": "LayoutModel",
          "model_module_version": "1.2.0",
          "state": {
            "_model_module": "@jupyter-widgets/base",
            "_model_module_version": "1.2.0",
            "_model_name": "LayoutModel",
            "_view_count": null,
            "_view_module": "@jupyter-widgets/base",
            "_view_module_version": "1.2.0",
            "_view_name": "LayoutView",
            "align_content": null,
            "align_items": null,
            "align_self": null,
            "border": null,
            "bottom": null,
            "display": null,
            "flex": null,
            "flex_flow": null,
            "grid_area": null,
            "grid_auto_columns": null,
            "grid_auto_flow": null,
            "grid_auto_rows": null,
            "grid_column": null,
            "grid_gap": null,
            "grid_row": null,
            "grid_template_areas": null,
            "grid_template_columns": null,
            "grid_template_rows": null,
            "height": null,
            "justify_content": null,
            "justify_items": null,
            "left": null,
            "margin": null,
            "max_height": null,
            "max_width": null,
            "min_height": null,
            "min_width": null,
            "object_fit": null,
            "object_position": null,
            "order": null,
            "overflow": null,
            "overflow_x": null,
            "overflow_y": null,
            "padding": null,
            "right": null,
            "top": null,
            "visibility": null,
            "width": null
          }
        },
        "3ba34413e4b44d179e6c1e943a1f1b03": {
          "model_module": "@jupyter-widgets/controls",
          "model_name": "DescriptionStyleModel",
          "model_module_version": "1.5.0",
          "state": {
            "_model_module": "@jupyter-widgets/controls",
            "_model_module_version": "1.5.0",
            "_model_name": "DescriptionStyleModel",
            "_view_count": null,
            "_view_module": "@jupyter-widgets/base",
            "_view_module_version": "1.2.0",
            "_view_name": "StyleView",
            "description_width": ""
          }
        }
      }
    },
    "accelerator": "GPU"
  },
  "nbformat": 4,
  "nbformat_minor": 0
}