{
  "cells": [
    {
      "cell_type": "markdown",
      "metadata": {
        "id": "view-in-github",
        "colab_type": "text"
      },
      "source": [
        "<a href=\"https://colab.research.google.com/github/Mike030668/MIPT_magistratura/blob/main/NLP/DZ_2_text_classification_roberta.ipynb\" target=\"_parent\"><img src=\"https://colab.research.google.com/assets/colab-badge.svg\" alt=\"Open In Colab\"/></a>"
      ]
    },
    {
      "cell_type": "markdown",
      "metadata": {
        "id": "aHUTEoHpY_FD"
      },
      "source": [
        "# Задание"
      ]
    },
    {
      "cell_type": "markdown",
      "metadata": {
        "id": "CtH45pJzY7iP"
      },
      "source": [
        "Для закрепления материала модуля предлагаем вам поучаствовать в учебном [Kaggle-соревновании](https://www.kaggle.com/competitions/unit-3-nlp-txt-classification/data).\n",
        "\n",
        "Вам необходимо решить задачу классификации текстов, используя рекуррентные сети.\n",
        "______\n",
        "\n",
        "При выполнении проекта разрешается пользоваться любыми средствами для векторных представлений текстов, кроме трансформеров, и любыми вариантами рекуррентных сетей. Для достижения наилучшего результата уделите внимание подбору гиперапарметров как в плане архитектуры, так и в плане обучения модели.\n",
        "______\n",
        "\n",
        "Критерии самооценивания проекта:\n",
        "\n",
        "- общее качество кода и следование PEP-8;\n",
        "- использование рекуррентных сетей;\n",
        "- итоговое значение метрики качества."
      ]
    },
    {
      "cell_type": "markdown",
      "metadata": {
        "id": "R4_NDLHvsg7Q"
      },
      "source": [
        "# Подключение к Kaggle"
      ]
    },
    {
      "cell_type": "code",
      "execution_count": null,
      "metadata": {
        "id": "iJtqBHcmLZi5"
      },
      "outputs": [],
      "source": [
        "api_token = {\"username\":\"mikepuzitsky\",\"key\":\"4dfb8b2919eb3a2ec341589ef092065f\"}  #{\"username\":\"...\",\"key\":\"...\"}\n",
        "\n",
        "import json\n",
        "\n",
        "with open('/content/kaggle.json', 'w') as file:\n",
        "  json.dump(api_token, file)"
      ]
    },
    {
      "cell_type": "code",
      "execution_count": null,
      "metadata": {
        "id": "cb495_3nzQd6"
      },
      "outputs": [],
      "source": [
        "# Загрузка датасета с Кеггла\n",
        "!pip install kaggle -q\n",
        "!mkdir -p ~/.kaggle\n",
        "!cp kaggle.json ~/.kaggle/\n",
        "!chmod 600 ~/.kaggle/kaggle.json\n",
        "!pip install --upgrade --force-reinstall --no-deps kaggle==1.5.12 -q\n",
        "!kaggle --version"
      ]
    },
    {
      "cell_type": "markdown",
      "metadata": {
        "id": "PFu-VpWRtIVc"
      },
      "source": [
        "# Загрузка данных соревнования"
      ]
    },
    {
      "cell_type": "code",
      "execution_count": null,
      "metadata": {
        "id": "xSM-30zvSjMD"
      },
      "outputs": [],
      "source": [
        "!kaggle competitions download -c unit-3-nlp-txt-classification\n",
        "!unzip '/content/unit-3-nlp-txt-classification.zip' -d'/content/data/'"
      ]
    },
    {
      "cell_type": "code",
      "execution_count": null,
      "metadata": {
        "id": "fjyxYOg_R-g9"
      },
      "outputs": [],
      "source": [
        "import os\n",
        "import pandas as pd\n",
        "import numpy as np\n",
        "import warnings\n",
        "warnings.filterwarnings('ignore')\n",
        "\n",
        "os.listdir() # корневая папка"
      ]
    },
    {
      "cell_type": "markdown",
      "metadata": {
        "id": "TPHH-QlgR-g_"
      },
      "source": [
        "## Читаем все в датафреймы."
      ]
    },
    {
      "cell_type": "code",
      "execution_count": null,
      "metadata": {
        "id": "u2-8I5zHR-hE"
      },
      "outputs": [],
      "source": [
        "INPUT_PATH = '/content/data'  # папка с данными\n",
        "# данные для обучения\n",
        "main_ds = pd.read_csv(os.path.join(INPUT_PATH, 'train.csv'), index_col=0)\n",
        "# тестовые данные\n",
        "test_ds = pd.read_csv(os.path.join(INPUT_PATH, 'test.csv'), index_col=0)\n",
        "# пример для загрузки ответов\n",
        "sample_submission = pd.read_csv(os.path.join(INPUT_PATH, 'sample_submission.csv'))\n",
        "# размер данных\n",
        "main_ds.shape, test_ds.shape, sample_submission.shape"
      ]
    },
    {
      "cell_type": "code",
      "execution_count": null,
      "metadata": {
        "id": "zowC_UbwR-hF"
      },
      "outputs": [],
      "source": [
        "# train dataset\n",
        "main_ds.head()"
      ]
    },
    {
      "cell_type": "code",
      "execution_count": null,
      "metadata": {
        "id": "kYzlm71HQ6jL"
      },
      "outputs": [],
      "source": [
        "main_ds.sample(1).Text.tolist()[0]"
      ]
    },
    {
      "cell_type": "code",
      "execution_count": null,
      "metadata": {
        "id": "mYtKAqx3R-hG"
      },
      "outputs": [],
      "source": [
        "# train dataset Sentiment.value_counts()\n",
        "main_ds.Sentiment.value_counts()"
      ]
    },
    {
      "cell_type": "code",
      "execution_count": null,
      "metadata": {
        "id": "AQQORH0nR-hK"
      },
      "outputs": [],
      "source": [
        "# test dataset\n",
        "main_ds.head()"
      ]
    },
    {
      "cell_type": "code",
      "execution_count": null,
      "metadata": {
        "id": "fQEZiMM5R-hO"
      },
      "outputs": [],
      "source": [
        "# sample_submission\n",
        "print(sample_submission.Sentiment.value_counts())\n",
        "print()\n",
        "sample_submission.head()\n"
      ]
    },
    {
      "cell_type": "markdown",
      "metadata": {
        "id": "SSVfhyaDR-hQ"
      },
      "source": [
        "## Импорты и константы"
      ]
    },
    {
      "cell_type": "code",
      "execution_count": null,
      "metadata": {
        "id": "mjtbtC5ZR-hS"
      },
      "outputs": [],
      "source": [
        "import time\n",
        "import re\n",
        "from tqdm import tqdm\n",
        "\n"
      ]
    },
    {
      "cell_type": "code",
      "execution_count": null,
      "metadata": {
        "id": "M7oE1mTqR-hS"
      },
      "outputs": [],
      "source": [
        "NUM_CLASSES = len(main_ds.Sentiment.value_counts().index)\n",
        "print(f'NUM_CLASSES = {NUM_CLASSES}')\n"
      ]
    },
    {
      "cell_type": "markdown",
      "metadata": {
        "id": "_H5lfhb2Px19"
      },
      "source": [
        "## Чистка и предобработка"
      ]
    },
    {
      "cell_type": "code",
      "execution_count": null,
      "metadata": {
        "id": "u1_Mm3DpR-hT"
      },
      "outputs": [],
      "source": [
        "# пропуски\n",
        "main_ds.isna().sum()"
      ]
    },
    {
      "cell_type": "markdown",
      "metadata": {
        "id": "n0g7sS2SR-hT"
      },
      "source": [
        "Есть совсем немного (от 4 до 6) NaNов в 41159 строках. Проще от них избавиться."
      ]
    },
    {
      "cell_type": "code",
      "execution_count": null,
      "metadata": {
        "id": "n2DtoYSwR-hU"
      },
      "outputs": [],
      "source": [
        "# удаляем\n",
        "main_ds = main_ds.dropna()\n",
        "main_ds.isna().sum()"
      ]
    },
    {
      "cell_type": "markdown",
      "metadata": {
        "id": "pgM7mozzR-hW"
      },
      "source": [
        "## Есть ли баланс в данных?"
      ]
    },
    {
      "cell_type": "code",
      "execution_count": null,
      "metadata": {
        "id": "68f636ce"
      },
      "outputs": [],
      "source": [
        "# давайте посмотрим распределение оценок\n",
        "import matplotlib.pyplot as plt\n",
        "%matplotlib inline\n",
        "# value_counts () - a command that allows you to calculate the number of unique values\n",
        "vc = main_ds.Sentiment.value_counts()\n",
        "vc = vc.sort_index()\n",
        "print(vc)\n",
        "vc.plot(kind='bar');"
      ]
    },
    {
      "cell_type": "markdown",
      "metadata": {
        "id": "NIy5iGkOR-hW"
      },
      "source": [
        "Самый частый класс больше самого редкого в два раза. Пока как есть пробуем.\n",
        "\n",
        "На следующем этаме можно добавить аугментацию"
      ]
    },
    {
      "cell_type": "markdown",
      "metadata": {
        "id": "YvkcKteQs3NX"
      },
      "source": [
        "Посмотрим на длину текстов."
      ]
    },
    {
      "cell_type": "code",
      "execution_count": null,
      "metadata": {
        "id": "0hE7Ktaf-T2h"
      },
      "outputs": [],
      "source": [
        "lens = main_ds.Text.apply(lambda s: len(s))\n",
        "lens.plot.hist(bins=50);"
      ]
    },
    {
      "cell_type": "code",
      "execution_count": null,
      "metadata": {
        "id": "wmQeBsIB_LAl"
      },
      "outputs": [],
      "source": [
        "lens.quantile(0.95), max(lens)"
      ]
    },
    {
      "cell_type": "code",
      "execution_count": null,
      "metadata": {
        "id": "cQm2NaVDs3NY"
      },
      "outputs": [],
      "source": [
        "lens = main_ds.Text.apply(lambda s: len(s))\n",
        "lens.plot.hist(bins=50);"
      ]
    },
    {
      "cell_type": "code",
      "execution_count": null,
      "metadata": {
        "id": "n4GKgiS0s3NY"
      },
      "outputs": [],
      "source": [
        "lens.quantile(0.95), max(lens)"
      ]
    },
    {
      "cell_type": "markdown",
      "metadata": {
        "id": "mJwZvG9XsJfH"
      },
      "source": [
        "# Sentences cleaning"
      ]
    },
    {
      "cell_type": "markdown",
      "metadata": {
        "id": "zdMZJVrjyGoZ"
      },
      "source": [
        "Подберем то, что мы очищаем в данных"
      ]
    },
    {
      "cell_type": "markdown",
      "metadata": {
        "id": "c_nHJFHq0GYQ"
      },
      "source": [
        "## abbreviaturs clearning"
      ]
    },
    {
      "cell_type": "code",
      "execution_count": null,
      "metadata": {
        "id": "E4OgkDRxzajW"
      },
      "outputs": [],
      "source": [
        "# Thanks to https://www.kaggle.com/rftexas/text-only-kfold-bert\n",
        "abbreviations = {\n",
        "    \"Â\": \"'\",\n",
        "    \"$\" : \" dollar \",\n",
        "    \"€\" : \" euro \",\n",
        "    \"Â\" : \"\",\n",
        "    \"4ao\" : \"for adults only\",\n",
        "    \"a.m\" : \"before midday\",\n",
        "    \"a3\" : \"anytime anywhere anyplace\",\n",
        "    \"aamof\" : \"as a matter of fact\",\n",
        "    \"acct\" : \"account\",\n",
        "    \"adih\" : \"another day in hell\",\n",
        "    \"afaic\" : \"as far as i am concerned\",\n",
        "    \"afaict\" : \"as far as i can tell\",\n",
        "    \"afaik\" : \"as far as i know\",\n",
        "    \"afair\" : \"as far as i remember\",\n",
        "    \"afk\" : \"away from keyboard\",\n",
        "    \"app\" : \"application\",\n",
        "    \"approx\" : \"approximately\",\n",
        "    \"apps\" : \"applications\",\n",
        "    \"asap\" : \"as soon as possible\",\n",
        "    \"asl\" : \"age, sex, location\",\n",
        "    \"atk\" : \"at the keyboard\",\n",
        "    \"ave.\" : \"avenue\",\n",
        "    \"aymm\" : \"are you my mother\",\n",
        "    \"ayor\" : \"at your own risk\",\n",
        "    \"b&b\" : \"bed and breakfast\",\n",
        "    \"b+b\" : \"bed and breakfast\",\n",
        "    \"b.c\" : \"before christ\",\n",
        "    \"b2b\" : \"business to business\",\n",
        "    \"b2c\" : \"business to customer\",\n",
        "    \"b4\" : \"before\",\n",
        "    \"b4n\" : \"bye for now\",\n",
        "    \"b@u\" : \"back at you\",\n",
        "    \"bae\" : \"before anyone else\",\n",
        "    \"bak\" : \"back at keyboard\",\n",
        "    \"bbbg\" : \"bye bye be good\",\n",
        "    \"bbc\" : \"british broadcasting corporation\",\n",
        "    \"bbias\" : \"be back in a second\",\n",
        "    \"bbl\" : \"be back later\",\n",
        "    \"bbs\" : \"be back soon\",\n",
        "    \"be4\" : \"before\",\n",
        "    \"bfn\" : \"bye for now\",\n",
        "    \"blvd\" : \"boulevard\",\n",
        "    \"bout\" : \"about\",\n",
        "    \"brb\" : \"be right back\",\n",
        "    \"bros\" : \"brothers\",\n",
        "    \"brt\" : \"be right there\",\n",
        "    \"bsaaw\" : \"big smile and a wink\",\n",
        "    \"btw\" : \"by the way\",\n",
        "    \"bwl\" : \"bursting with laughter\",\n",
        "    \"c/o\" : \"care of\",\n",
        "    \"cet\" : \"central european time\",\n",
        "    \"cf\" : \"compare\",\n",
        "    \"cia\" : \"central intelligence agency\",\n",
        "    \"csl\" : \"can not stop laughing\",\n",
        "    \"cu\" : \"see you\",\n",
        "    \"cul8r\" : \"see you later\",\n",
        "    \"cv\" : \"curriculum vitae\",\n",
        "    \"cwot\" : \"complete waste of time\",\n",
        "    \"cya\" : \"see you\",\n",
        "    \"cyt\" : \"see you tomorrow\",\n",
        "    \"dae\" : \"does anyone else\",\n",
        "    \"dbmib\" : \"do not bother me i am busy\",\n",
        "    \"diy\" : \"do it yourself\",\n",
        "    \"dm\" : \"direct message\",\n",
        "    \"dwh\" : \"during work hours\",\n",
        "    \"e123\" : \"easy as one two three\",\n",
        "    \"eet\" : \"eastern european time\",\n",
        "    \"eg\" : \"example\",\n",
        "    \"embm\" : \"early morning business meeting\",\n",
        "    \"encl\" : \"enclosed\",\n",
        "    \"encl.\" : \"enclosed\",\n",
        "    \"etc\" : \"and so on\",\n",
        "    \"faq\" : \"frequently asked questions\",\n",
        "    \"fawc\" : \"for anyone who cares\",\n",
        "    \"fb\" : \"facebook\",\n",
        "    \"fc\" : \"fingers crossed\",\n",
        "    \"fig\" : \"figure\",\n",
        "    \"fimh\" : \"forever in my heart\",\n",
        "    \"ft.\" : \"feet\",\n",
        "    \"ft\" : \"featuring\",\n",
        "    \"ftl\" : \"for the loss\",\n",
        "    \"ftw\" : \"for the win\",\n",
        "    \"fwiw\" : \"for what it is worth\",\n",
        "    \"fyi\" : \"for your information\",\n",
        "    \"g9\" : \"genius\",\n",
        "    \"gahoy\" : \"get a hold of yourself\",\n",
        "    \"gal\" : \"get a life\",\n",
        "    \"gcse\" : \"general certificate of secondary education\",\n",
        "    \"gfn\" : \"gone for now\",\n",
        "    \"gg\" : \"good game\",\n",
        "    \"gl\" : \"good luck\",\n",
        "    \"glhf\" : \"good luck have fun\",\n",
        "    \"gmt\" : \"greenwich mean time\",\n",
        "    \"gmta\" : \"great minds think alike\",\n",
        "    \"gn\" : \"good night\",\n",
        "    \"g.o.a.t\" : \"greatest of all time\",\n",
        "    \"goat\" : \"greatest of all time\",\n",
        "    \"goi\" : \"get over it\",\n",
        "    \"gps\" : \"global positioning system\",\n",
        "    \"gr8\" : \"great\",\n",
        "    \"gratz\" : \"congratulations\",\n",
        "    \"gyal\" : \"girl\",\n",
        "    \"h&c\" : \"hot and cold\",\n",
        "    \"hp\" : \"horsepower\",\n",
        "    \"hr\" : \"hour\",\n",
        "    \"hrh\" : \"his royal highness\",\n",
        "    \"ht\" : \"height\",\n",
        "    \"ibrb\" : \"i will be right back\",\n",
        "    \"ic\" : \"i see\",\n",
        "    \"icq\" : \"i seek you\",\n",
        "    \"icymi\" : \"in case you missed it\",\n",
        "    \"idc\" : \"i do not care\",\n",
        "    \"idgadf\" : \"i do not give a damn fuck\",\n",
        "    \"idgaf\" : \"i do not give a fuck\",\n",
        "    \"idk\" : \"i do not know\",\n",
        "    \"ie\" : \"that is\",\n",
        "    \"i.e\" : \"that is\",\n",
        "    \"ifyp\" : \"i feel your pain\",\n",
        "    \"IG\" : \"instagram\",\n",
        "    \"iirc\" : \"if i remember correctly\",\n",
        "    \"ilu\" : \"i love you\",\n",
        "    \"ily\" : \"i love you\",\n",
        "    \"imho\" : \"in my humble opinion\",\n",
        "    \"imo\" : \"in my opinion\",\n",
        "    \"imu\" : \"i miss you\",\n",
        "    \"iow\" : \"in other words\",\n",
        "    \"irl\" : \"in real life\",\n",
        "    \"j4f\" : \"just for fun\",\n",
        "    \"jic\" : \"just in case\",\n",
        "    \"jk\" : \"just kidding\",\n",
        "    \"jsyk\" : \"just so you know\",\n",
        "    \"l8r\" : \"later\",\n",
        "    \"lb\" : \"pound\",\n",
        "    \"lbs\" : \"pounds\",\n",
        "    \"ldr\" : \"long distance relationship\",\n",
        "    \"lmao\" : \"laugh my ass off\",\n",
        "    \"lmfao\" : \"laugh my fucking ass off\",\n",
        "    \"lol\" : \"laughing out loud\",\n",
        "    \"ltd\" : \"limited\",\n",
        "    \"ltns\" : \"long time no see\",\n",
        "    \"m8\" : \"mate\",\n",
        "    \"mf\" : \"motherfucker\",\n",
        "    \"mfs\" : \"motherfuckers\",\n",
        "    \"mfw\" : \"my face when\",\n",
        "    \"mofo\" : \"motherfucker\",\n",
        "    \"mph\" : \"miles per hour\",\n",
        "    \"mr\" : \"mister\",\n",
        "    \"mrw\" : \"my reaction when\",\n",
        "    \"ms\" : \"miss\",\n",
        "    \"mte\" : \"my thoughts exactly\",\n",
        "    \"nagi\" : \"not a good idea\",\n",
        "    \"nbc\" : \"national broadcasting company\",\n",
        "    \"nbd\" : \"not big deal\",\n",
        "    \"nfs\" : \"not for sale\",\n",
        "    \"ngl\" : \"not going to lie\",\n",
        "    \"nhs\" : \"national health service\",\n",
        "    \"nrn\" : \"no reply necessary\",\n",
        "    \"nsfl\" : \"not safe for life\",\n",
        "    \"nsfw\" : \"not safe for work\",\n",
        "    \"nth\" : \"nice to have\",\n",
        "    \"nvr\" : \"never\",\n",
        "    \"nyc\" : \"new york city\",\n",
        "    \"oc\" : \"original content\",\n",
        "    \"og\" : \"original\",\n",
        "    \"ohp\" : \"overhead projector\",\n",
        "    \"oic\" : \"oh i see\",\n",
        "    \"omdb\" : \"over my dead body\",\n",
        "    \"omg\" : \"oh my god\",\n",
        "    \"omw\" : \"on my way\",\n",
        "    \"p.a\" : \"per annum\",\n",
        "    \"p.m\" : \"after midday\",\n",
        "    \"pm\" : \"prime minister\",\n",
        "    \"poc\" : \"people of color\",\n",
        "    \"pov\" : \"point of view\",\n",
        "    \"pp\" : \"pages\",\n",
        "    \"ppl\" : \"people\",\n",
        "    \"prw\" : \"parents are watching\",\n",
        "    \"ps\" : \"postscript\",\n",
        "    \"pt\" : \"point\",\n",
        "    \"ptb\" : \"please text back\",\n",
        "    \"pto\" : \"please turn over\",\n",
        "    \"qpsa\" : \"what happens\", #\"que pasa\",\n",
        "    \"ratchet\" : \"rude\",\n",
        "    \"rbtl\" : \"read between the lines\",\n",
        "    \"rlrt\" : \"real life retweet\",\n",
        "    \"rofl\" : \"rolling on the floor laughing\",\n",
        "    \"roflol\" : \"rolling on the floor laughing out loud\",\n",
        "    \"rotflmao\" : \"rolling on the floor laughing my ass off\",\n",
        "    \"rt\" : \"retweet\",\n",
        "    \"ruok\" : \"are you ok\",\n",
        "    \"sfw\" : \"safe for work\",\n",
        "    \"sk8\" : \"skate\",\n",
        "    \"smh\" : \"shake my head\",\n",
        "    \"sq\" : \"square\",\n",
        "    \"srsly\" : \"seriously\",\n",
        "    \"ssdd\" : \"same stuff different day\",\n",
        "    \"tbh\" : \"to be honest\",\n",
        "    \"tbs\" : \"tablespooful\",\n",
        "    \"tbsp\" : \"tablespooful\",\n",
        "    \"tfw\" : \"that feeling when\",\n",
        "    \"thks\" : \"thank you\",\n",
        "    \"tho\" : \"though\",\n",
        "    \"thx\" : \"thank you\",\n",
        "    \"tia\" : \"thanks in advance\",\n",
        "    \"til\" : \"today i learned\",\n",
        "    \"tl;dr\" : \"too long i did not read\",\n",
        "    \"tldr\" : \"too long i did not read\",\n",
        "    \"tmb\" : \"tweet me back\",\n",
        "    \"tntl\" : \"trying not to laugh\",\n",
        "    \"ttyl\" : \"talk to you later\",\n",
        "    \"u\" : \"you\",\n",
        "    \"u2\" : \"you too\",\n",
        "    \"u4e\" : \"yours for ever\",\n",
        "    \"utc\" : \"coordinated universal time\",\n",
        "    \"w/\" : \"with\",\n",
        "    \"w/o\" : \"without\",\n",
        "    \"w8\" : \"wait\",\n",
        "    \"wassup\" : \"what is up\",\n",
        "    \"wb\" : \"welcome back\",\n",
        "    \"wtf\" : \"what the fuck\",\n",
        "    \"wtg\" : \"way to go\",\n",
        "    \"wtpa\" : \"where the party at\",\n",
        "    \"wuf\" : \"where are you from\",\n",
        "    \"wuzup\" : \"what is up\",\n",
        "    \"wywh\" : \"wish you were here\",\n",
        "    \"yd\" : \"yard\",\n",
        "    \"ygtr\" : \"you got that right\",\n",
        "    \"ynk\" : \"you never know\",\n",
        "    \"zzz\" : \"sleeping bored and tired\",\n",
        "}"
      ]
    },
    {
      "cell_type": "code",
      "execution_count": null,
      "metadata": {
        "id": "X1oEiLPbreJG"
      },
      "outputs": [],
      "source": [
        "def convert_abbrev(text):\n",
        "    new_text = ''\n",
        "    for word in text.split():\n",
        "      if word.lower() in abbreviations.keys():\n",
        "        new_text += ' ' + word[0] + abbreviations[word.lower()][1:]\n",
        "      else:\n",
        "        new_text += ' ' + word\n",
        "    return ' '.join(new_text.split())"
      ]
    },
    {
      "cell_type": "code",
      "execution_count": null,
      "metadata": {
        "id": "VTkFXQn70kpf"
      },
      "outputs": [],
      "source": [
        "#sentence = main_ds.sample().Text.values[0]\n",
        "sentence = \"So ygtr now weÂre NOT supposed to go to the grocery store??  Really? Did I miss this before? #TrumpPressBriefing #COVID2019\"\n",
        "print(sentence)\n",
        "print()\n",
        "sentence = convert_abbrev(sentence)\n",
        "print(sentence)"
      ]
    },
    {
      "cell_type": "markdown",
      "metadata": {
        "id": "G1J6V515Ay3E"
      },
      "source": [
        "## Phrases with apostrophes\n",
        "\n",
        "Словосочетания с апострофами в английском лушче раскрыть."
      ]
    },
    {
      "cell_type": "code",
      "execution_count": null,
      "metadata": {
        "id": "4NoMoZXyR-hZ"
      },
      "outputs": [],
      "source": [
        "contraction_dict = {\"ain't\": \"is not\",\n",
        "                    \"aren't\": \"are not\",\n",
        "                    \"can't\": \"can not\",\n",
        "                    \"'cause\": \"because\",\n",
        "                    \"could've\": \"could have\",\n",
        "                    \"couldn't\": \"could not\",\n",
        "                    \"didn't\": \"did not\",\n",
        "                    \"doesn't\": \"does not\",\n",
        "                    \"don't\": \"do not\",\n",
        "                    \"hadn't\": \"had not\",\n",
        "                    \"hasn't\": \"has not\",\n",
        "                    \"haven't\": \"have not\",\n",
        "                    \"he'd\": \"he would\",\n",
        "                    \"he'll\": \"he will\",\n",
        "                    \"he's\": \"he is\",\n",
        "                    \"how'd\": \"how did\",\n",
        "                    \"how'd'y\": \"how do you\",\n",
        "                    \"how'll\": \"how will\",\n",
        "                    \"how's\": \"how is\",\n",
        "                    \"I'd\": \"I would\",\n",
        "                    \"I'd've\": \"I would have\",\n",
        "                    \"I'll\": \"I will\",\n",
        "                    \"I'll've\": \"I will have\",\n",
        "                    \"I'm\": \"I am\",\n",
        "                    \"I've\": \"I have\",\n",
        "                    \"i'd\": \"i would\",\n",
        "                    \"i'd've\": \"i would have\",\n",
        "                    \"i'll\": \"i will\",\n",
        "                    \"i'll've\": \"i will have\",\n",
        "                    \"i'm\": \"i am\",\n",
        "                    \"i've\": \"i have\",\n",
        "                    \"isn't\": \"is not\",\n",
        "                    \"it'd\": \"it would\",\n",
        "                    \"it'd've\": \"it would have\",\n",
        "                    \"it'll\": \"it will\",\n",
        "                    \"it'll've\": \"it will have\",\n",
        "                    \"it's\": \"it is\",\n",
        "                    \"let's\": \"let us\",\n",
        "                    \"ma'am\": \"madam\",\n",
        "                    \"mayn't\": \"may not\",\n",
        "                    \"might've\": \"might have\",\n",
        "                    \"mightn't\": \"might not\",\n",
        "                    \"mightn't've\": \"might not have\",\n",
        "                    \"must've\": \"must have\",\n",
        "                    \"mustn't\": \"must not\",\n",
        "                    \"mustn't've\": \"must not have\",\n",
        "                    \"needn't\": \"need not\",\n",
        "                    \"needn't've\": \"need not have\",\n",
        "                    \"o'clock\": \"of the clock\",\n",
        "                    \"oughtn't\": \"ought not\",\n",
        "                    \"oughtn't've\": \"ought not have\",\n",
        "                    \"shan't\": \"shall not\",\n",
        "                    \"sha'n't\": \"shall not\",\n",
        "                    \"shan't've\": \"shall not have\",\n",
        "                    \"she'd\": \"she would\",\n",
        "                    \"she'd've\": \"she would have\",\n",
        "                    \"she'll\": \"she will\",\n",
        "                    \"she'll've\": \"she will have\",\n",
        "                    \"she's\": \"she is\",\n",
        "                    \"should've\": \"should have\",\n",
        "                    \"shouldn't\": \"should not\",\n",
        "                    \"shouldn't've\": \"should not have\",\n",
        "                    \"so've\": \"so have\",\n",
        "                    \"so's\": \"so as\",\n",
        "                    \"this's\": \"this is\",\n",
        "                    \"that'd\": \"that would\",\n",
        "                    \"that'd've\": \"that would have\",\n",
        "                    \"that's\": \"that is\",\n",
        "                    \"there'd\": \"there would\",\n",
        "                    \"there'd've\": \"there would have\",\n",
        "                    \"there's\": \"there is\",\n",
        "                    \"here's\": \"here is\",\n",
        "                    \"they'd\": \"they would\",\n",
        "                    \"they'd've\": \"they would have\",\n",
        "                    \"they'll\": \"they will\",\n",
        "                    \"they'll've\": \"they will have\",\n",
        "                    \"they're\": \"they are\",\n",
        "                    \"they've\": \"they have\",\n",
        "                    \"to've\": \"to have\",\n",
        "                    \"wasn't\": \"was not\",\n",
        "                    \"we'd\": \"we would\",\n",
        "                    \"we'd've\": \"we would have\",\n",
        "                    \"we'll\": \"we will\",\n",
        "                    \"we'll've\": \"we will have\",\n",
        "                    \"we're\": \"we are\",\n",
        "                    \"we've\": \"we have\",\n",
        "                    \"weren't\": \"were not\",\n",
        "                    \"what'll\": \"what will\",\n",
        "                    \"what'll've\": \"what will have\",\n",
        "                    \"what're\": \"what are\",\n",
        "                    \"what's\": \"what is\",\n",
        "                    \"what've\": \"what have\",\n",
        "                    \"when's\": \"when is\",\n",
        "                    \"when've\": \"when have\",\n",
        "                    \"where'd\": \"where did\",\n",
        "                    \"where's\": \"where is\",\n",
        "                    \"where've\": \"where have\",\n",
        "                    \"who'll\": \"who will\",\n",
        "                    \"who'll've\": \"who will have\",\n",
        "                    \"who's\": \"who is\",\n",
        "                    \"who've\": \"who have\",\n",
        "                    \"why's\": \"why is\",\n",
        "                    \"why've\": \"why have\",\n",
        "                    \"will've\": \"will have\",\n",
        "                    \"won't\": \"will not\",\n",
        "                    \"won't've\": \"will not have\",\n",
        "                    \"would've\": \"would have\",\n",
        "                    \"wouldn't\": \"would not\",\n",
        "                    \"wouldn't've\": \"would not have\",\n",
        "                    \"y'all\": \"you all\",\n",
        "                    \"y'all'd\": \"you all would\",\n",
        "                    \"y'all'd've\": \"you all would have\",\n",
        "                    \"y'all're\": \"you all are\",\n",
        "                    \"y'all've\": \"you all have\",\n",
        "                    \"you'd\": \"you would\",\n",
        "                    \"you'd've\": \"you would have\",\n",
        "                    \"you'll\": \"you will\",\n",
        "                    \"you'll've\": \"you will have\",\n",
        "                    \"you're\": \"you are\",\n",
        "                    \"you've\": \"you have\"}"
      ]
    },
    {
      "cell_type": "code",
      "execution_count": null,
      "metadata": {
        "id": "sDuI2IPipqRX"
      },
      "outputs": [],
      "source": [
        "def convert_contractions(text):\n",
        "    new_text = ''\n",
        "    for word in text.split():\n",
        "      if word.lower() in contraction_dict.keys():\n",
        "        new_text += ' ' + word[0] + contraction_dict[word.lower()][1:]\n",
        "      else:\n",
        "        new_text += ' ' + word\n",
        "    return ' '.join(new_text.split())"
      ]
    },
    {
      "cell_type": "code",
      "source": [
        "sentence = \"We're running as much product as we can, harvesting as many chickens as we can, (and) we are working Saturdays if we have the supply\" #\n",
        "print(sentence)\n",
        "print()\n",
        "print(convert_contractions(sentence))"
      ],
      "metadata": {
        "id": "U3G3OJv3adQ8"
      },
      "execution_count": null,
      "outputs": []
    },
    {
      "cell_type": "markdown",
      "metadata": {
        "id": "yodlzh8iDiI4"
      },
      "source": [
        "##Convert Emojis"
      ]
    },
    {
      "cell_type": "code",
      "source": [
        "!pip install demoji -q"
      ],
      "metadata": {
        "id": "oE---zs8hU-C"
      },
      "execution_count": null,
      "outputs": []
    },
    {
      "cell_type": "code",
      "source": [
        "import demoji\n",
        "\n",
        "demoji.download_codes()"
      ],
      "metadata": {
        "id": "ukGDqs9ig6Yb"
      },
      "execution_count": null,
      "outputs": []
    },
    {
      "cell_type": "code",
      "source": [
        "#converting Emojis\n",
        "def convert_emoji(text):\n",
        "  new_text = ''\n",
        "  for word in text.split():\n",
        "    emj = demoji.findall_list(word)\n",
        "    if len(emj):\n",
        "      new_text+=' ' + ''.join((c +' ') for c in emj)\n",
        "    else: new_text+=' ' +word\n",
        "  return new_text"
      ],
      "metadata": {
        "id": "1U5hGpNvkdlp"
      },
      "execution_count": null,
      "outputs": []
    },
    {
      "cell_type": "code",
      "execution_count": null,
      "metadata": {
        "id": "i8Tda7TalmCu"
      },
      "outputs": [],
      "source": [
        "sentence = main_ds.sample().Text.values[0] + \"\\U0001F600-\\U0001F64F\"\n",
        "print(sentence)\n",
        "print()\n",
        "print(convert_emoji(sentence))"
      ]
    },
    {
      "cell_type": "markdown",
      "metadata": {
        "id": "e3j54en9IQil"
      },
      "source": [
        "## Remove special characters"
      ]
    },
    {
      "cell_type": "code",
      "source": [
        "import string\n",
        "from bs4 import BeautifulSoup\n",
        "#Removing the html strips\n",
        "def strip_html(text):\n",
        "    soup = BeautifulSoup(text, \"html.parser\")\n",
        "    return soup.get_text()\n",
        "\n",
        "#Removing the square brackets\n",
        "def remove_between_square_brackets(text):\n",
        "    return re.sub('\\[[^]]*\\]', '', text)\n",
        "\n",
        "#Removing punctuations\n",
        "def remove_punct(text):\n",
        "    table=str.maketrans('','',string.punctuation)\n",
        "    return text.translate(table)\n",
        "\n",
        "#Removing URL\n",
        "def remove_URL(text):\n",
        "    url = re.compile(r'https?://\\S+|www\\.\\S+')\n",
        "    return url.sub(r'',text)\n",
        "\n",
        "#Removing the noisy text\n",
        "def denoise_text(text):\n",
        "    text = remove_URL(text)\n",
        "    text = remove_between_square_brackets(text)\n",
        "    text = remove_punct(text)\n",
        "    return text"
      ],
      "metadata": {
        "id": "_4Mxm5O_e3Jc"
      },
      "execution_count": null,
      "outputs": []
    },
    {
      "cell_type": "code",
      "execution_count": null,
      "metadata": {
        "id": "9MKHz5sZH1Sd"
      },
      "outputs": [],
      "source": [
        "sentence = main_ds.sample().Text.values[0]\n",
        "print(sentence)\n",
        "print()\n",
        "print(denoise_text(sentence))"
      ]
    },
    {
      "cell_type": "code",
      "execution_count": null,
      "metadata": {
        "id": "DHqVGecvsJfJ"
      },
      "outputs": [],
      "source": [
        "def remove_special_characters(text, remove_digits=True):\n",
        "    text = re.sub('http://\\S+|https://\\S+|www.\\S+|\\n|#|\\r', '', text)\n",
        "    pattern = r'[^a-zA-z0-9\\s]' if not remove_digits else r'[^a-zA-z\\s]'\n",
        "    text = re.sub(pattern, '', text)\n",
        "    return text.strip()"
      ]
    },
    {
      "cell_type": "code",
      "source": [
        "re.sub('[^a-zA-z\\s]', '', text).strip()"
      ],
      "metadata": {
        "id": "WbNx88JLsCdz"
      },
      "execution_count": null,
      "outputs": []
    },
    {
      "cell_type": "code",
      "execution_count": null,
      "metadata": {
        "id": "pDHbbjCQIEjS"
      },
      "outputs": [],
      "source": [
        "print(sentence)\n",
        "print()\n",
        "remove_special_characters(sentence)"
      ]
    },
    {
      "cell_type": "code",
      "source": [
        "def convert2several_words(text):\n",
        "  return \"\".join((\" \" + w if (w.isupper() and i) else w) for i, w in enumerate(text))#.strip().split() #' '.join(w for w in re.findall('[A-Z][^A-Z]*', text))"
      ],
      "metadata": {
        "id": "WiT0lm0ydt94"
      },
      "execution_count": null,
      "outputs": []
    },
    {
      "cell_type": "code",
      "source": [
        "def convert2several_words(text):\n",
        "  new_text = ''\n",
        "  for word in text.split():\n",
        "    if not word.isupper():\n",
        "      word = \"\".join((\" \" + w if (w.isupper() and i) else w) for i, w in enumerate(word))\n",
        "      new_text+= \" \" + word\n",
        "    else:\n",
        "      new_text+=' '+word\n",
        "  return ' '.join(new_text.split())"
      ],
      "metadata": {
        "id": "1dG-WWncgudv"
      },
      "execution_count": null,
      "outputs": []
    },
    {
      "cell_type": "code",
      "source": [
        "sentence = 'With apologies this is that Talkwalker post consumer trends for content in coronavirus times DigitalMarketing'\n",
        "convert2several_words(sentence)"
      ],
      "metadata": {
        "id": "ZFdwp7NweOXY"
      },
      "execution_count": null,
      "outputs": []
    },
    {
      "cell_type": "markdown",
      "metadata": {
        "id": "2sH1gnQ-J56E"
      },
      "source": [
        "## Mix clearing"
      ]
    },
    {
      "cell_type": "code",
      "execution_count": null,
      "metadata": {
        "id": "watwR6GaNa4w"
      },
      "outputs": [],
      "source": [
        "#Collect all functions\n",
        "def clean_text(text):\n",
        "    text = remove_URL(text)\n",
        "    text = convert_emoji(text)\n",
        "    text = convert_abbrev(text)\n",
        "    text = convert_contractions(text)\n",
        "    text = convert2several_words(text)\n",
        "    text = denoise_text(text)\n",
        "    ext = remove_special_characters(text)\n",
        "    #text = remove_stopwords(text)\n",
        "    return ' '.join(text.split())"
      ]
    },
    {
      "cell_type": "code",
      "execution_count": null,
      "metadata": {
        "id": "mxDZnXTuKpq_"
      },
      "outputs": [],
      "source": [
        "sentence = main_ds.sample().Text.values[0]\n",
        "print(sentence)\n",
        "print()\n",
        "print(clean_text(sentence))"
      ]
    },
    {
      "cell_type": "code",
      "execution_count": null,
      "metadata": {
        "id": "oBhMGdXxMte4"
      },
      "outputs": [],
      "source": [
        "%timeit\n",
        "main_ds['Text_clean'] = main_ds['Text'].apply(clean_text)\n",
        "test_ds['Text_clean'] = test_ds['Text'].apply(clean_text)\n",
        "main_ds.head()"
      ]
    },
    {
      "cell_type": "code",
      "source": [
        "main_ds.sample(10)"
      ],
      "metadata": {
        "id": "uRBEbAShqtlL"
      },
      "execution_count": null,
      "outputs": []
    },
    {
      "cell_type": "markdown",
      "metadata": {
        "id": "RlIAdg4JbwUf"
      },
      "source": [
        "# Look again"
      ]
    },
    {
      "cell_type": "code",
      "execution_count": null,
      "metadata": {
        "id": "fW8GPhbtW7sA"
      },
      "outputs": [],
      "source": [
        "def length(text):\n",
        "    '''a function which returns the length of text'''\n",
        "    return len(text)"
      ]
    },
    {
      "cell_type": "markdown",
      "metadata": {
        "id": "0utHLCovj9qx"
      },
      "source": [
        "Сьлвари для первода из имени класса в номер класса и обратно"
      ]
    },
    {
      "cell_type": "code",
      "execution_count": null,
      "metadata": {
        "id": "sHo5mGQ_b1_9"
      },
      "outputs": [],
      "source": [
        "dict_lbl_to_sent = {k: v for k, v in enumerate(main_ds['Sentiment'].unique())}\n",
        "dict_sent_to_lbl = {v: k for k, v in dict_lbl_to_sent.items()}\n",
        "print(f'Encoded sentiment values: {dict_sent_to_lbl}')"
      ]
    },
    {
      "cell_type": "markdown",
      "metadata": {
        "id": "q7xgjJzYjvKM"
      },
      "source": [
        "Добавим номера классов"
      ]
    },
    {
      "cell_type": "code",
      "execution_count": null,
      "metadata": {
        "id": "-8Zc4mxSjXPT"
      },
      "outputs": [],
      "source": [
        "main_ds['Label'] = main_ds['Sentiment'].apply(lambda x: dict_sent_to_lbl[x])"
      ]
    },
    {
      "cell_type": "markdown",
      "metadata": {
        "id": "Md9Nv-_Rj3uN"
      },
      "source": [
        "Добавим длину текстов"
      ]
    },
    {
      "cell_type": "code",
      "execution_count": null,
      "metadata": {
        "id": "vVs82teOW7sJ"
      },
      "outputs": [],
      "source": [
        "main_ds['length_text_clean'] = main_ds['Text_clean'].apply(length)\n",
        "test_ds['length_text_clean'] = test_ds['Text_clean'].apply(length)"
      ]
    },
    {
      "cell_type": "markdown",
      "metadata": {
        "id": "AVuUk6SweEQ8"
      },
      "source": [
        "## Number of characters in text"
      ]
    },
    {
      "cell_type": "code",
      "execution_count": null,
      "metadata": {
        "id": "jGnC6rlAW7sJ"
      },
      "outputs": [],
      "source": [
        "plt.rcParams['figure.figsize'] = (18.0, 6.0)\n",
        "bins = 50\n",
        "plt.hist(main_ds.Text.apply(length), alpha = 0.6, bins=bins, label='Before cleaning text')\n",
        "plt.hist(main_ds['length_text_clean'], alpha = 0.6, bins=bins, label='After cleaning text')\n",
        "plt.xlabel('length_text')\n",
        "plt.ylabel('numbers')\n",
        "plt.title('Number of characters in text')\n",
        "plt.legend(loc='upper right')\n",
        "plt.grid()\n",
        "plt.show()"
      ]
    },
    {
      "cell_type": "markdown",
      "metadata": {
        "id": "vLCyfu7GeREv"
      },
      "source": [
        "## Number of words in a text"
      ]
    },
    {
      "cell_type": "code",
      "execution_count": null,
      "metadata": {
        "id": "A26leDHiW7sK"
      },
      "outputs": [],
      "source": [
        "plt.rcParams['figure.figsize'] = (18.0, 6.0)\n",
        "bins = 30\n",
        "text_len=main_ds['Text'].str.split().map(lambda x: len(x))\n",
        "text_len_clean=main_ds['Text_clean'].str.split().map(lambda x: len(x))\n",
        "plt.hist(text_len, alpha = 0.6, bins=bins, label='Before cleaning text')\n",
        "plt.hist(text_len_clean, alpha = 0.6, bins=bins, label='After cleaning text')\n",
        "plt.xlabel('length')\n",
        "plt.ylabel('numbers')\n",
        "plt.title('Number of words in a text')\n",
        "plt.legend(loc='upper right')\n",
        "plt.grid()\n",
        "plt.show()"
      ]
    },
    {
      "cell_type": "markdown",
      "metadata": {
        "id": "BRrZp4b6elXG"
      },
      "source": [
        "## Removing blank lines\n"
      ]
    },
    {
      "cell_type": "code",
      "execution_count": null,
      "metadata": {
        "id": "T3Kp-hfbfIcw"
      },
      "outputs": [],
      "source": [
        "main_ds[main_ds.length_text_clean == 0]"
      ]
    },
    {
      "cell_type": "code",
      "execution_count": null,
      "metadata": {
        "id": "a4RTTneyeoXz"
      },
      "outputs": [],
      "source": [
        "main_ds = main_ds.drop(main_ds[main_ds.length_text_clean == 0].index)"
      ]
    },
    {
      "cell_type": "markdown",
      "metadata": {
        "id": "JlG6JNC1gPrp"
      },
      "source": [
        "В тестовом стоит также почистить перед предиктом, а этим поставить - `Neutral`"
      ]
    },
    {
      "cell_type": "code",
      "execution_count": null,
      "metadata": {
        "id": "-RzW2gF4__Bq"
      },
      "outputs": [],
      "source": [
        "main_ds[main_ds.length_text_clean == 4]"
      ]
    },
    {
      "cell_type": "code",
      "execution_count": null,
      "metadata": {
        "id": "tH36nkRShJTm"
      },
      "outputs": [],
      "source": [
        "# value_counts () - a command that allows you to calculate the number of unique values\n",
        "vc = main_ds.Sentiment.value_counts()\n",
        "vc = vc.sort_index()\n",
        "print(vc)\n",
        "vc.plot(kind='bar');"
      ]
    },
    {
      "cell_type": "markdown",
      "metadata": {
        "id": "SPkPJ769hTHz"
      },
      "source": [
        "Дисбаланс класссов можно решить через аугментацию в следующем варианте"
      ]
    },
    {
      "cell_type": "markdown",
      "source": [
        "# RoBERTa\n",
        "\n",
        "https://colab.research.google.com/github/DhavalTaunk08/NLP_scripts/blob/master/sentiment_analysis_using_roberta.ipynb#scrollTo=nvXxpfNCGER2"
      ],
      "metadata": {
        "id": "B07jCvJCstRF"
      }
    },
    {
      "cell_type": "code",
      "source": [
        "!pip install  transformers -q"
      ],
      "metadata": {
        "id": "0w8B8P-Punh6"
      },
      "execution_count": null,
      "outputs": []
    },
    {
      "cell_type": "code",
      "source": [
        "import transformers\n",
        "from transformers import pipeline\n",
        "from transformers import AdamW\n",
        "from torch.utils.data import Dataset, DataLoader\n",
        "from transformers import RobertaModel, RobertaTokenizer"
      ],
      "metadata": {
        "id": "w9wzU4souejw"
      },
      "execution_count": null,
      "outputs": []
    },
    {
      "cell_type": "code",
      "source": [
        "tokenizer = RobertaTokenizer.from_pretrained(\"roberta-base\")"
      ],
      "metadata": {
        "execution": {
          "iopub.status.busy": "2023-01-08T13:14:54.420630Z",
          "iopub.execute_input": "2023-01-08T13:14:54.421248Z",
          "iopub.status.idle": "2023-01-08T13:14:55.666826Z",
          "shell.execute_reply.started": "2023-01-08T13:14:54.421209Z",
          "shell.execute_reply": "2023-01-08T13:14:55.665918Z"
        },
        "trusted": true,
        "id": "4ZrkMzPBstRF"
      },
      "execution_count": null,
      "outputs": []
    },
    {
      "cell_type": "markdown",
      "metadata": {
        "id": "_KjBI13j3Hi2"
      },
      "source": [
        "## DataLoader, Dataset"
      ]
    },
    {
      "cell_type": "code",
      "source": [
        "import torch\n",
        "from torch import nn\n",
        "import torch.optim as optim"
      ],
      "metadata": {
        "id": "wrpu9W2O2AGL"
      },
      "execution_count": null,
      "outputs": []
    },
    {
      "cell_type": "code",
      "source": [
        "new_df = main_ds[['Text_clean', 'Label']]"
      ],
      "metadata": {
        "id": "VsafCByEwnD5"
      },
      "execution_count": null,
      "outputs": []
    },
    {
      "cell_type": "code",
      "metadata": {
        "id": "3vWRDemOGxJD"
      },
      "source": [
        "class SentimentData(Dataset):\n",
        "    def __init__(self, dataframe, tokenizer, max_len):\n",
        "        self.tokenizer = tokenizer\n",
        "        self.data = dataframe\n",
        "        self.text = dataframe.Text_clean\n",
        "        self.targets = self.data.Label\n",
        "        self.max_len = max_len\n",
        "\n",
        "    def __len__(self):\n",
        "        return len(self.text)\n",
        "\n",
        "    def __getitem__(self, index):\n",
        "        text = str(self.text[index])\n",
        "        text = \" \".join(text.split())\n",
        "\n",
        "        inputs = self.tokenizer.encode_plus(\n",
        "            text,\n",
        "            None,\n",
        "            add_special_tokens=True,\n",
        "            max_length=self.max_len,\n",
        "            pad_to_max_length=True,\n",
        "            return_token_type_ids=True\n",
        "        )\n",
        "        ids = inputs['input_ids']\n",
        "        mask = inputs['attention_mask']\n",
        "        token_type_ids = inputs[\"token_type_ids\"]\n",
        "\n",
        "\n",
        "        return {\n",
        "            'ids': torch.tensor(ids, dtype=torch.long),\n",
        "            'mask': torch.tensor(mask, dtype=torch.long),\n",
        "            'token_type_ids': torch.tensor(token_type_ids, dtype=torch.long),\n",
        "            'targets': torch.tensor(self.targets[index], dtype=torch.float)\n",
        "        }"
      ],
      "execution_count": null,
      "outputs": []
    },
    {
      "cell_type": "code",
      "metadata": {
        "id": "7Gpe9D1QHoCd"
      },
      "source": [
        "train_size = 0.8\n",
        "MAX_LEN = 126\n",
        "train_data=new_df.sample(frac=train_size, random_state=200)\n",
        "valid_data=new_df.drop(train_data.index).reset_index(drop=True)\n",
        "train_data = train_data.reset_index(drop=True)\n",
        "\n",
        "\n",
        "print(\"FULL Dataset: {}\".format(new_df.shape))\n",
        "print(\"TRAIN Dataset: {}\".format(train_data.shape))\n",
        "print(\"VALID Dataset: {}\".format(valid_data.shape))\n",
        "\n",
        "training_set = SentimentData(train_data, tokenizer, MAX_LEN)\n",
        "valid_set = SentimentData(valid_data, tokenizer, MAX_LEN)"
      ],
      "execution_count": null,
      "outputs": []
    },
    {
      "cell_type": "code",
      "metadata": {
        "trusted": true,
        "_uuid": "9fc198d13d7f33dc70588c3f22bc7b7c4f4ebb45",
        "id": "c1tInLk2Eadt"
      },
      "source": [
        "TRAIN_BATCH_SIZE = 32\n",
        "VALID_BATCH_SIZE = 16\n",
        "\n",
        "train_params = {'batch_size': TRAIN_BATCH_SIZE,\n",
        "                'shuffle': True,\n",
        "                'num_workers': 0\n",
        "                }\n",
        "\n",
        "valid_params = {'batch_size': VALID_BATCH_SIZE,\n",
        "                'shuffle': True,\n",
        "                'num_workers': 0\n",
        "                }\n",
        "\n",
        "training_loader = DataLoader(training_set, **train_params)\n",
        "valid_loader = DataLoader(valid_set, **valid_params)"
      ],
      "execution_count": null,
      "outputs": []
    },
    {
      "cell_type": "code",
      "execution_count": null,
      "metadata": {
        "id": "clz94Yzc7rKr"
      },
      "outputs": [],
      "source": [
        "dataiter = iter(training_loader)\n",
        "sample = next(dataiter)"
      ]
    },
    {
      "cell_type": "code",
      "execution_count": null,
      "metadata": {
        "id": "beqyvP9-7rKs"
      },
      "outputs": [],
      "source": [
        "print('Sample ids input size', sample['ids'].size())\n",
        "print('Sample mask input: \\n', sample['mask'].size())\n",
        "print('Sample token_type_ids input: \\n', sample['token_type_ids'].size())\n",
        "print('Sample targets input: \\n', sample['targets'].size())\n",
        "print('\\nSample ids input size', sample['ids'])\n",
        "print('Sample label: \\n', sample['targets'])"
      ]
    },
    {
      "cell_type": "markdown",
      "metadata": {
        "id": "uZXDYEdK23rW"
      },
      "source": [
        "# Build model"
      ]
    },
    {
      "cell_type": "markdown",
      "metadata": {
        "id": "gsRa7gY3qE0n"
      },
      "source": [
        "<a id='section05'></a>\n",
        "### Fine Tuning the Model\n",
        "\n",
        "After all the effort of loading and preparing the data and datasets, creating the model and defining its loss and optimizer. This is probably the easier steps in the process.\n",
        "\n",
        "Here we define a training function that trains the model on the training dataset created above, specified number of times (EPOCH), An epoch defines how many times the complete data will be passed through the network.\n",
        "\n",
        "Following events happen in this function to fine tune the neural network:\n",
        "- The dataloader passes data to the model based on the batch size.\n",
        "- Subsequent output from the model and the actual category are compared to calculate the loss.\n",
        "- Loss value is used to optimize the weights of the neurons in the network.\n",
        "- After every 5000 steps the loss value is printed in the console.\n",
        "\n",
        "As you can see just in 1 epoch by the final step the model was working with a loss of 0.8141926634122427."
      ]
    },
    {
      "cell_type": "code",
      "source": [
        "class Roberta_Class(torch.nn.Module):\n",
        "    def __init__(self, num_classes, hidden_size=768, num_layers=3):\n",
        "        super(Roberta_Class, self).__init__()\n",
        "        self.roberta = RobertaModel.from_pretrained(\"roberta-base\")\n",
        "\n",
        "        #self.lstm = torch.nn.LSTM(input_size=768, hidden_size=hidden_size,\n",
        "                         #num_layers=num_layers, batch_first=True)\n",
        "\n",
        "        self.pre_classifier = torch.nn.Linear(2304, 128) #hidden_size, 768)\n",
        "        self.dropout = torch.nn.Dropout(0.3)\n",
        "        self.classifier = torch.nn.Linear(128, num_classes) # 768, num_classes)\n",
        "\n",
        "    def forward(self, input_ids, attention_mask, token_type_ids):\n",
        "        output_1 = self.roberta(input_ids=input_ids,\n",
        "                                attention_mask=attention_mask,\n",
        "                                token_type_ids=token_type_ids)\n",
        "        hidden_state = output_1[0]\n",
        "        avg_pool = torch.mean(hidden_state, 1)\n",
        "        max_pool, _ = torch.max(hidden_state, 1)\n",
        "        conc = torch.cat((avg_pool, max_pool, hidden_state[:, 0]), 1)\n",
        "\n",
        "        #hidden_state, _ = self.lstm(hidden_state)\n",
        "        #pooler = hidden_state[:, 0]\n",
        "\n",
        "        pooler = self.pre_classifier(conc)\n",
        "        pooler = torch.nn.ReLU()(pooler)\n",
        "        pooler = self.dropout(pooler)\n",
        "        output = self.classifier(pooler)\n",
        "        return output\n"
      ],
      "metadata": {
        "id": "FVqxWM2XvtR2"
      },
      "execution_count": null,
      "outputs": []
    },
    {
      "cell_type": "code",
      "source": [
        "device = torch.device('cuda' if torch.cuda.is_available() else 'cpu')"
      ],
      "metadata": {
        "id": "5tcj764k2Ncg"
      },
      "execution_count": null,
      "outputs": []
    },
    {
      "cell_type": "code",
      "metadata": {
        "id": "sZ55mIPZIkp_"
      },
      "source": [
        "model = Roberta_Class(NUM_CLASSES)\n",
        "model.to(device)"
      ],
      "execution_count": null,
      "outputs": []
    },
    {
      "cell_type": "markdown",
      "metadata": {
        "id": "3zEGSf0nJjI3"
      },
      "source": [
        "# Сonstruction train loop\n",
        "\n",
        "Принцип построение - https://colab.research.google.com/github/mrdbourke/pytorch-deep-learning/blob/main/02_pytorch_classification.ipynb#scrollTo=C_EsAE3VHC7-"
      ]
    },
    {
      "cell_type": "code",
      "source": [
        "from google.colab import drive\n",
        "drive.mount('/content/drive')"
      ],
      "metadata": {
        "colab": {
          "base_uri": "https://localhost:8080/"
        },
        "id": "xXnxCcAZPe1t",
        "outputId": "26fdcf5d-7707-4338-a75a-141fb6443385"
      },
      "execution_count": null,
      "outputs": [
        {
          "output_type": "stream",
          "name": "stdout",
          "text": [
            "Mounted at /content/drive\n"
          ]
        }
      ]
    },
    {
      "cell_type": "markdown",
      "metadata": {
        "id": "DiqfuHNzwV5v"
      },
      "source": [
        "## Functions"
      ]
    },
    {
      "cell_type": "code",
      "source": [
        "import torch\n",
        "\n",
        "def f1_accuracy(preds, labels):\n",
        "\n",
        "    preds_np = preds.detach().cpu().numpy()\n",
        "    labels_np = labels.detach().cpu().numpy()\n",
        "\n",
        "    num_classes = preds.size(1)\n",
        "\n",
        "    preds = torch.argmax(preds, dim=1)\n",
        "\n",
        "    f1_scores = []\n",
        "    for class_idx in range(num_classes):\n",
        "        TP = torch.sum((preds == class_idx) & (labels == class_idx))\n",
        "        FP = torch.sum((preds == class_idx) & (labels != class_idx))\n",
        "        FN = torch.sum((preds != class_idx) & (labels == class_idx))\n",
        "\n",
        "        precision = TP / (TP + FP + 1e-8)\n",
        "        recall = TP / (TP + FN + 1e-8)\n",
        "        class_f1 = 2 * (precision * recall) / (precision + recall + 1e-8)\n",
        "\n",
        "        f1_scores.append(class_f1)\n",
        "\n",
        "    macro_f1 = sum(f1_scores) / len(f1_scores)\n",
        "\n",
        "    return macro_f1\n",
        "\n",
        "\n",
        "# Example usage:\n",
        "batch_size = 16\n",
        "num = 5\n",
        "\n",
        "# Generate some random predictions and labels (assuming batch size of 16)\n",
        "preds = torch.randn(batch_size, num)  # Random prediction scores\n",
        "labels = torch.randint(0, num, (batch_size,))  # Random true labels\n",
        "\n",
        "f1_score = f1_accuracy(preds, labels)\n",
        "print(\"Macro F1 Score:\", f1_score)\n",
        "\n"
      ],
      "metadata": {
        "colab": {
          "base_uri": "https://localhost:8080/"
        },
        "id": "WTVmK2NNWtEz",
        "outputId": "10074788-7509-4f37-932d-4b8c9fb38af2"
      },
      "execution_count": null,
      "outputs": [
        {
          "output_type": "stream",
          "name": "stdout",
          "text": [
            "Macro F1 Score: tensor(0.1371)\n"
          ]
        }
      ]
    },
    {
      "cell_type": "code",
      "source": [
        "class RunningAverage:\n",
        "    \"\"\"\n",
        "    Class to save and update the running average\n",
        "    \"\"\"\n",
        "\n",
        "    def __init__(self) -> None:\n",
        "        self.count = 0\n",
        "        self.total = 0.0\n",
        "\n",
        "    def update(self, n: float) -> None:\n",
        "        \"\"\"\n",
        "        Updates running average with new value\n",
        "        Parameters\n",
        "        ----------\n",
        "        n (float): value to add to the running average\n",
        "        \"\"\"\n",
        "        self.total += n\n",
        "        self.count += 1\n",
        "\n",
        "    def __call__(self) -> float:\n",
        "        \"\"\"\n",
        "        Returns current running average\n",
        "        Returns\n",
        "        -------\n",
        "        running_avg (float): Current running average\n",
        "        \"\"\"\n",
        "        running_avg = self.total / (self.count + 1e-15)\n",
        "        return running_avg"
      ],
      "metadata": {
        "execution": {
          "iopub.status.busy": "2023-01-08T13:15:40.376854Z",
          "iopub.execute_input": "2023-01-08T13:15:40.377264Z",
          "iopub.status.idle": "2023-01-08T13:15:42.234099Z",
          "shell.execute_reply.started": "2023-01-08T13:15:40.377236Z",
          "shell.execute_reply": "2023-01-08T13:15:42.232985Z"
        },
        "trusted": true,
        "id": "O0Wa6ZjvNa5R"
      },
      "execution_count": null,
      "outputs": []
    },
    {
      "cell_type": "code",
      "execution_count": null,
      "metadata": {
        "id": "ZxtxBLy-V5Mp"
      },
      "outputs": [],
      "source": [
        "import gc\n",
        "import sys\n",
        "def train(model, iterator, optimizer, scheduler, criterion, accuracy):\n",
        "\n",
        "    epoch_loss = 0\n",
        "    epoch_acc = 0\n",
        "\n",
        "    loss_avg = RunningAverage()\n",
        "\n",
        "    model.train()\n",
        "    with tqdm(total=len(iterator), leave=False, file=sys.stdout) as t:\n",
        "        #t.set_description()#f'Epoch {e + 1}')\n",
        "        for _, data in enumerate(iterator, 0):\n",
        "            # Force the garbage collection\n",
        "            torch.cuda.empty_cache()\n",
        "            gc.collect()\n",
        "\n",
        "            # Put data to target device\n",
        "            ids = data['ids'].to(device, dtype = torch.long)\n",
        "            mask = data['mask'].to(device, dtype = torch.long)\n",
        "            token_type_ids = data['token_type_ids'].to(device, dtype = torch.long)\n",
        "            targets = data['targets'].to(device, dtype = torch.long)\n",
        "\n",
        "            #optimizer.zero_grad()\n",
        "            model.zero_grad()\n",
        "\n",
        "            outputs = model(ids, mask, token_type_ids)\n",
        "            loss = criterion(outputs, targets)\n",
        "            loss_avg.update(loss.item())\n",
        "\n",
        "            predictions = torch.softmax(outputs, dim=1)\n",
        "            acc = accuracy(predictions, targets) #torch.argmax inside for F1\n",
        "\n",
        "            t.set_postfix({'stats': f'train_loss: {loss_avg():.4f}'})\n",
        "            t.update()\n",
        "            stats_time_elapsed = t.format_interval(t.format_dict['elapsed'])\n",
        "\n",
        "            loss.backward()\n",
        "            optimizer.step()\n",
        "\n",
        "            epoch_loss += loss.item()\n",
        "            epoch_acc += acc.item()\n",
        "\n",
        "            cur_lr = scheduler.get_lr()[0]\n",
        "            scheduler.step()\n",
        "\n",
        "    return epoch_loss / len(iterator), epoch_acc / len(iterator), cur_lr"
      ]
    },
    {
      "cell_type": "code",
      "execution_count": null,
      "metadata": {
        "id": "l0XuUx4O9byt"
      },
      "outputs": [],
      "source": [
        "device = torch.device('cuda' if torch.cuda.is_available() else 'cpu')\n",
        "LR_RATE = 1e-05\n",
        "optimizer = optim.SGD(model.parameters(), lr=LR_RATE)\n",
        "\n",
        "lr_scheduler = optim.lr_scheduler.CyclicLR(optimizer, base_lr=LR_RATE, max_lr=LR_RATE*3,\n",
        "                                           step_size_up=5,mode=\"exp_range\",gamma=0.85)"
      ]
    },
    {
      "cell_type": "code",
      "source": [
        "# Calculate class frequencies\n",
        "class_frequencies = main_ds.Label.value_counts().sort_index()\n",
        "\n",
        "# Calculate class weights inversely proportional to class frequencies\n",
        "total_samples = len(main_ds)\n",
        "class_weights = total_samples / (len(class_frequencies) * class_frequencies)\n",
        "\n",
        "# Convert class weights to a PyTorch tensor\n",
        "class_weights_tensor = torch.tensor(class_weights.values, dtype=torch.float)"
      ],
      "metadata": {
        "id": "eTD9SwnK1Cpf"
      },
      "execution_count": null,
      "outputs": []
    },
    {
      "cell_type": "code",
      "execution_count": null,
      "metadata": {
        "id": "Gqwx_bCj1Cpg"
      },
      "outputs": [],
      "source": [
        "criterion = nn.CrossEntropyLoss(weight=class_weights_tensor)\n",
        "\n",
        "model = model.to(device)\n",
        "criterion = criterion.to(device)"
      ]
    },
    {
      "cell_type": "code",
      "source": [
        "EPOCHS = 1\n",
        "for epoch in range(EPOCHS):\n",
        "   train_loss, train_acc, ep_lr = train(model, training_loader, optimizer,\n",
        "                                         lr_scheduler, criterion, f1_accuracy)"
      ],
      "metadata": {
        "colab": {
          "base_uri": "https://localhost:8080/"
        },
        "id": "H_loy1hr88Ye",
        "outputId": "27dc14f7-c443-4f4f-b2f6-f9dfea18dfc8"
      },
      "execution_count": null,
      "outputs": [
        {
          "output_type": "stream",
          "name": "stdout",
          "text": []
        }
      ]
    },
    {
      "cell_type": "code",
      "source": [
        "train_loss, train_acc"
      ],
      "metadata": {
        "colab": {
          "base_uri": "https://localhost:8080/"
        },
        "id": "H4QY6KM8JZpP",
        "outputId": "4759b43f-c167-4208-f752-d3f2b6eb6048"
      },
      "execution_count": null,
      "outputs": [
        {
          "output_type": "execute_result",
          "data": {
            "text/plain": [
              "(1.6150420920378497, 0.17821345693885238)"
            ]
          },
          "metadata": {},
          "execution_count": 70
        }
      ]
    },
    {
      "cell_type": "code",
      "execution_count": null,
      "metadata": {
        "id": "_Z59zHV_7rK1"
      },
      "outputs": [],
      "source": [
        "def evaluate(model, iterator, criterion, accuracy):\n",
        "\n",
        "    epoch_loss = 0\n",
        "    epoch_acc = 0\n",
        "\n",
        "    ### Testing\n",
        "    model.eval()\n",
        "\n",
        "    with torch.no_grad():\n",
        "\n",
        "        for _,data in tqdm(enumerate(iterator, 0)):\n",
        "\n",
        "            # Put data to target device\n",
        "            ids = data['ids'].to(device, dtype = torch.long)\n",
        "            mask = data['mask'].to(device, dtype = torch.long)\n",
        "            token_type_ids = data['token_type_ids'].to(device, dtype = torch.long)\n",
        "            targets = data['targets'].to(device, dtype = torch.long)\n",
        "\n",
        "            outputs = model(ids, mask, token_type_ids)\n",
        "            loss = criterion(outputs, targets)\n",
        "\n",
        "            predictions = torch.softmax(outputs, dim=1)\n",
        "            acc = accuracy(predictions, targets) #torch.argmax inside for F1\n",
        "\n",
        "            epoch_loss += loss.item()\n",
        "            epoch_acc += acc.item()\n",
        "\n",
        "    return epoch_loss / len(iterator), epoch_acc / len(iterator)"
      ]
    },
    {
      "cell_type": "code",
      "source": [
        "evaluate(model, valid_loader, criterion, f1_accuracy)"
      ],
      "metadata": {
        "colab": {
          "base_uri": "https://localhost:8080/"
        },
        "id": "G6ysqVVOIKbY",
        "outputId": "6d020fab-dfb2-439b-896a-de3afcd00ee6"
      },
      "execution_count": null,
      "outputs": [
        {
          "output_type": "stream",
          "name": "stderr",
          "text": [
            "515it [00:34, 15.13it/s]\n"
          ]
        },
        {
          "output_type": "execute_result",
          "data": {
            "text/plain": [
              "(1.6099820819873254, 0.0783893430261936)"
            ]
          },
          "metadata": {},
          "execution_count": 72
        }
      ]
    },
    {
      "cell_type": "code",
      "execution_count": null,
      "metadata": {
        "id": "yXREuJiY01lx"
      },
      "outputs": [],
      "source": [
        "def predict(model, iterator):\n",
        "\n",
        "    ### Testing\n",
        "    model.eval()\n",
        "\n",
        "    predicts = []\n",
        "\n",
        "    with torch.no_grad():\n",
        "          for _, data in tqdm(enumerate(iterator, 0)):\n",
        "            # Put data to target device\n",
        "            ids = data['ids'].to(device, dtype = torch.long)\n",
        "            mask = data['mask'].to(device, dtype = torch.long)\n",
        "            token_type_ids = data['token_type_ids'].to(device,\n",
        "                                                       dtype = torch.long)\n",
        "\n",
        "\n",
        "            outputs = model(ids, mask, token_type_ids)\n",
        "            test_pred = torch.softmax(outputs, dim=1)\n",
        "            test_pred = torch.argmax(test_pred, dim=1)\n",
        "\n",
        "            # 3. Caculate loss/accuracy\n",
        "            predicts.append(test_pred.cpu().numpy())\n",
        "\n",
        "    return np.hstack(predicts)"
      ]
    },
    {
      "cell_type": "code",
      "execution_count": null,
      "metadata": {
        "id": "jzzUqwfC7rK1"
      },
      "outputs": [],
      "source": [
        "import time\n",
        "\n",
        "def epoch_time(start_time, end_time):\n",
        "    elapsed_time = end_time - start_time\n",
        "    elapsed_mins = int(elapsed_time / 60)\n",
        "    elapsed_secs = int(elapsed_time - (elapsed_mins * 60))\n",
        "    return elapsed_mins, elapsed_secs"
      ]
    },
    {
      "cell_type": "code",
      "execution_count": null,
      "metadata": {
        "id": "VFXnN2jOKWGf"
      },
      "outputs": [],
      "source": [
        "def plot_graph(epochs, losses, accuracy, learning_rate):\n",
        "    fig, axs = plt.subplots(1, 3, figsize=(18, 5))\n",
        "    axs[0].set_title(\"Train/Validation Loss\")\n",
        "    axs[0].plot(list(np.arange(epochs) + 1), losses[0], label='train')\n",
        "    axs[0].plot(list(np.arange(epochs) + 1), losses[1], label='validation')\n",
        "    axs[0].set(xlabel='num_epochs', ylabel='loss')\n",
        "\n",
        "    axs[1].set_title(\"Train/Validation Accuracy\")\n",
        "    axs[1].plot(list(np.arange(epochs) + 1), accuracy[0], label='train')\n",
        "    axs[1].plot(list(np.arange(epochs) + 1), accuracy[1], label='validation')\n",
        "    axs[1].set(xlabel='num_epochs', ylabel='acc')\n",
        "\n",
        "    axs[2].set_title(\"History learning_rate\")\n",
        "    axs[2].plot(list(np.arange(epochs) + 1), learning_rate)\n",
        "    axs[2].set(xlabel='num_epochs', ylabel='lr')"
      ]
    },
    {
      "cell_type": "markdown",
      "metadata": {
        "id": "r40S8Ki9J99X"
      },
      "source": [
        "# Run the model\n",
        "\n",
        "[CrossEntropyLoss](https://pytorch.org/docs/stable/nn.html?highlight=crossentropyloss#torch.nn.CrossEntropyLoss)_\n",
        "criterion combines ``nn.LogSoftmax()`` and ``nn.NLLLoss()`` in a single class.\n",
        "It is useful when training a classification problem with C classes.\n",
        "[SGD](https://pytorch.org/docs/stable/_modules/torch/optim/sgd.html)_\n",
        "implements stochastic gradient descent method as the optimizer. The initial\n",
        "learning rate is set to 5.0.\n",
        "[StepLR](https://pytorch.org/docs/master/_modules/torch/optim/lr_scheduler.html#StepLR)_\n",
        "is used here to adjust the learning rate through epochs.\n",
        "\n",
        "\n"
      ]
    },
    {
      "cell_type": "markdown",
      "source": [
        "## Calculate class weights"
      ],
      "metadata": {
        "id": "YFeu-W_Uwx2C"
      }
    },
    {
      "cell_type": "code",
      "source": [
        "# Calculate class frequencies\n",
        "class_frequencies = main_ds.Label.value_counts().sort_index()\n",
        "\n",
        "# Calculate class weights inversely proportional to class frequencies\n",
        "total_samples = len(main_ds)\n",
        "class_weights = total_samples / (len(class_frequencies) * class_frequencies)\n",
        "\n",
        "# Convert class weights to a PyTorch tensor\n",
        "class_weights_tensor = torch.tensor(class_weights.values, dtype=torch.float)"
      ],
      "metadata": {
        "id": "AC8ny5zqs5tK"
      },
      "execution_count": null,
      "outputs": []
    },
    {
      "cell_type": "code",
      "execution_count": null,
      "metadata": {
        "id": "MbucejHVs5tL"
      },
      "outputs": [],
      "source": [
        "criterion = nn.CrossEntropyLoss(weight=class_weights_tensor)\n",
        "\n",
        "model = model.to(device)\n",
        "criterion = criterion.to(device)"
      ]
    },
    {
      "cell_type": "code",
      "execution_count": null,
      "metadata": {
        "id": "5aax0BvHJ4LN"
      },
      "outputs": [],
      "source": [
        "device = torch.device('cuda' if torch.cuda.is_available() else 'cpu')\n",
        "LR_RATE = 0.001\n",
        "optimizer = optim.SGD(model.parameters(), lr=LR_RATE)\n",
        "\n",
        "lr_scheduler = optim.lr_scheduler.CyclicLR(optimizer, base_lr=LR_RATE, max_lr=LR_RATE*3,\n",
        "                                           step_size_up=5,mode=\"exp_range\",gamma=0.85)"
      ]
    },
    {
      "cell_type": "markdown",
      "source": [
        "## Start train"
      ],
      "metadata": {
        "id": "MCmhJJcNDKC9"
      }
    },
    {
      "cell_type": "code",
      "source": [
        "N_EPOCHS = 5\n",
        "EPS = 0.95\n",
        "\n",
        "\n",
        "JDUN_TRAIN = 3\n",
        "JDUN_END = 10\n",
        "\n",
        "try:\n",
        "  if best_valid_loss and best_valid_acc:\n",
        "    pass\n",
        "except:\n",
        "    best_valid_loss = float('inf')\n",
        "    best_valid_acc = 0.\n",
        "\n",
        "hist_train_loss, hist_valid_loss, hist_train_acc, hist_valid_acc = [], [], [], []\n",
        "hist_lr = []\n",
        "\n",
        "path_bestacc_model = 'best_acc_model.pt'\n",
        "path_bestloss_model = 'best_loss_model.pt'\n",
        "\n",
        "wait_train = 0\n",
        "wait2end = 0\n",
        "\n",
        "model_saved = True\n",
        "\n",
        "for epoch in range(N_EPOCHS):\n",
        "    start_time = time.time()\n",
        "\n",
        "    train_loss, train_acc, ep_lr = train(model, training_loader, optimizer,\n",
        "                                         lr_scheduler, criterion, f1_accuracy)\n",
        "    hist_train_loss.append(train_loss)\n",
        "    hist_train_acc.append(train_acc)\n",
        "\n",
        "    valid_loss, valid_acc = evaluate(model, valid_loader, criterion,\n",
        "                                     f1_accuracy)\n",
        "    hist_valid_loss.append(valid_loss)\n",
        "    hist_valid_acc.append(valid_acc)\n",
        "    hist_lr.append(ep_lr)\n",
        "\n",
        "    end_time = time.time()\n",
        "\n",
        "    epoch_mins, epoch_secs = epoch_time(start_time, end_time)\n",
        "\n",
        "    text_add = ''\n",
        "    if valid_loss < best_valid_loss:\n",
        "        best_valid_loss = valid_loss\n",
        "        torch.save(model.state_dict(), path_bestloss_model)\n",
        "\n",
        "        model_saved = True\n",
        "        text_add = ' - save best_loss_model'\n",
        "        wait2end = 0\n",
        "        wait_train = 0\n",
        "        k = 0\n",
        "\n",
        "    if valid_acc > best_valid_acc:\n",
        "        best_valid_acc = valid_acc\n",
        "        torch.save(model.state_dict(), path_bestacc_model)\n",
        "\n",
        "        model_saved = True\n",
        "        text_add += ' - save best_acc_model'\n",
        "        wait2end = 0\n",
        "        wait_train = 0\n",
        "        k = 1\n",
        "\n",
        "    else:\n",
        "        wait_train+=1\n",
        "\n",
        "\n",
        "    if wait_train > JDUN_TRAIN and model_saved:\n",
        "       if k == 0:\n",
        "         model.load_state_dict(torch.load(path_bestloss_model))\n",
        "         text_add = ' - load best_loss_model'\n",
        "\n",
        "       elif k == 1:\n",
        "         model.load_state_dict(torch.load(path_bestacc_model))\n",
        "         text_add = ' - load best_acc_model'\n",
        "       LR_RATE *= EPS\n",
        "       lr_scheduler = optim.lr_scheduler.CyclicLR(optimizer,\n",
        "                                                  base_lr=LR_RATE,\n",
        "                                                  max_lr=LR_RATE*3,\n",
        "                                                  step_size_up = 3,\n",
        "                                                  mode=\"exp_range\",\n",
        "                                                  gamma=0.85)\n",
        "       wait_train = 0\n",
        "       wait2end+=1\n",
        "\n",
        "    print(f'Epoch: {epoch+1:02} | with lr: {ep_lr:.9f} | Epoch Time: {epoch_mins}m {epoch_secs}s')\n",
        "    print(f'\\tTrain_Loss: {train_loss:.3f} | Train_Acc: {train_acc*100:.2f}%  Val_Loss: {valid_loss:.3f} | Val_Acc: {valid_acc*100:.2f}%' + text_add)\n",
        "\n",
        "    if wait2end > JDUN_END:\n",
        "\n",
        "      if k == 0:\n",
        "        model.load_state_dict(torch.load(path_bestloss_model))\n",
        "        text_add = ' - load best_loss_model'\n",
        "\n",
        "      elif k == 1:\n",
        "        model.load_state_dict(torch.load(path_bestacc_model))\n",
        "        text_add = ' - load best_acc_model'\n",
        "\n",
        "      print('Stop train, do not best fitness'+ text_add)\n",
        "\n",
        "      break"
      ],
      "metadata": {
        "colab": {
          "base_uri": "https://localhost:8080/"
        },
        "id": "oxWYxDrBSQTW",
        "outputId": "b22205f6-3cb0-4ef2-db04-546974a55ab8"
      },
      "execution_count": null,
      "outputs": [
        {
          "metadata": {
            "tags": null
          },
          "name": "stdout",
          "output_type": "stream",
          "text": [
            ""
          ]
        },
        {
          "metadata": {
            "tags": null
          },
          "name": "stderr",
          "output_type": "stream",
          "text": [
            "515it [00:59,  8.63it/s]\n"
          ]
        },
        {
          "output_type": "stream",
          "name": "stdout",
          "text": [
            "Epoch: 01 | with lr: 0.001000000 | Epoch Time: 17m 47s\n",
            "\tTrain_Loss: 1.249 | Train_Acc: 38.55%  Val_Loss: 1.035 | Val_Acc: 42.05% - save best_loss_model - save best_acc_model\n"
          ]
        },
        {
          "output_type": "stream",
          "name": "stderr",
          "text": [
            "515it [00:58,  8.83it/s]\n"
          ]
        },
        {
          "output_type": "stream",
          "name": "stdout",
          "text": [
            "Epoch: 02 | with lr: 0.001000000 | Epoch Time: 17m 37s\n",
            "\tTrain_Loss: 0.889 | Train_Acc: 61.13%  Val_Loss: 0.880 | Val_Acc: 53.86% - save best_loss_model - save best_acc_model\n"
          ]
        },
        {
          "output_type": "stream",
          "name": "stderr",
          "text": [
            "515it [00:57,  8.88it/s]\n"
          ]
        },
        {
          "output_type": "stream",
          "name": "stdout",
          "text": [
            "Epoch: 03 | with lr: 0.001000000 | Epoch Time: 17m 30s\n",
            "\tTrain_Loss: 0.748 | Train_Acc: 68.11%  Val_Loss: 0.688 | Val_Acc: 66.36% - save best_loss_model - save best_acc_model\n"
          ]
        },
        {
          "output_type": "stream",
          "name": "stderr",
          "text": [
            "515it [00:58,  8.84it/s]\n"
          ]
        },
        {
          "output_type": "stream",
          "name": "stdout",
          "text": [
            "Epoch: 04 | with lr: 0.001000000 | Epoch Time: 17m 29s\n",
            "\tTrain_Loss: 0.650 | Train_Acc: 72.96%  Val_Loss: 0.645 | Val_Acc: 69.36% - save best_loss_model - save best_acc_model\n"
          ]
        },
        {
          "output_type": "stream",
          "name": "stderr",
          "text": [
            "515it [00:58,  8.86it/s]"
          ]
        },
        {
          "output_type": "stream",
          "name": "stdout",
          "text": [
            "Epoch: 05 | with lr: 0.001000000 | Epoch Time: 17m 28s\n",
            "\tTrain_Loss: 0.577 | Train_Acc: 76.03%  Val_Loss: 0.727 | Val_Acc: 62.12%\n"
          ]
        },
        {
          "output_type": "stream",
          "name": "stderr",
          "text": [
            "\n"
          ]
        }
      ]
    },
    {
      "cell_type": "code",
      "execution_count": null,
      "metadata": {
        "id": "FF7kRoDBzxm6",
        "colab": {
          "base_uri": "https://localhost:8080/",
          "height": 487
        },
        "outputId": "4a5cf90c-19dc-4414-e758-c1f44d4dc436"
      },
      "outputs": [
        {
          "output_type": "display_data",
          "data": {
            "text/plain": [
              "<Figure size 1800x500 with 3 Axes>"
            ],
            "image/png": "[encoded data removed]"
          },
          "metadata": {}
        }
      ],
      "source": [
        "train_ephs = len(hist_train_loss)\n",
        "losses = (hist_train_loss, hist_valid_loss)\n",
        "accuracy = (hist_train_acc, hist_valid_acc)\n",
        "plot_graph(train_ephs, losses, accuracy, hist_lr)"
      ]
    },
    {
      "cell_type": "markdown",
      "source": [
        "## Next train"
      ],
      "metadata": {
        "id": "iy7ZFh18C7MP"
      }
    },
    {
      "cell_type": "code",
      "source": [
        "N_EPOCHS = 50\n",
        "EPS = 0.95\n",
        "\n",
        "\n",
        "JDUN_TRAIN = 1\n",
        "JDUN_END = 5\n",
        "\n",
        "try:\n",
        "  if best_valid_loss and best_valid_acc:\n",
        "    pass\n",
        "except:\n",
        "    best_valid_loss = float('inf')\n",
        "    best_valid_acc = 0.\n",
        "\n",
        "hist_train_loss, hist_valid_loss, hist_train_acc, hist_valid_acc = [], [], [], []\n",
        "hist_lr = []\n",
        "\n",
        "path_bestacc_model = 'best_acc_model.pt'\n",
        "path_bestloss_model = 'best_loss_model.pt'\n",
        "\n",
        "wait_train = 0\n",
        "wait2end = 0\n",
        "\n",
        "model_saved = True\n",
        "\n",
        "for epoch in range(N_EPOCHS):\n",
        "    start_time = time.time()\n",
        "\n",
        "    train_loss, train_acc, ep_lr = train(model, training_loader, optimizer,\n",
        "                                         lr_scheduler, criterion, f1_accuracy)\n",
        "    hist_train_loss.append(train_loss)\n",
        "    hist_train_acc.append(train_acc)\n",
        "\n",
        "    valid_loss, valid_acc = evaluate(model, valid_loader, criterion,\n",
        "                                     f1_accuracy)\n",
        "    hist_valid_loss.append(valid_loss)\n",
        "    hist_valid_acc.append(valid_acc)\n",
        "    hist_lr.append(ep_lr)\n",
        "\n",
        "    end_time = time.time()\n",
        "\n",
        "    epoch_mins, epoch_secs = epoch_time(start_time, end_time)\n",
        "\n",
        "    text_add = ''\n",
        "    if valid_loss < best_valid_loss:\n",
        "        best_valid_loss = valid_loss\n",
        "        torch.save(model.state_dict(), path_bestloss_model)\n",
        "\n",
        "        model_saved = True\n",
        "        text_add = ' - save best_loss_model'\n",
        "        wait2end = 0\n",
        "        wait_train = 0\n",
        "        k = 0\n",
        "\n",
        "    if valid_acc > best_valid_acc:\n",
        "        best_valid_acc = valid_acc\n",
        "        torch.save(model.state_dict(), path_bestacc_model)\n",
        "\n",
        "        model_saved = True\n",
        "        text_add += ' - save best_acc_model'\n",
        "        wait2end = 0\n",
        "        wait_train = 0\n",
        "        k = 1\n",
        "\n",
        "    else:\n",
        "        wait_train+=1\n",
        "\n",
        "\n",
        "    if wait_train > JDUN_TRAIN and model_saved:\n",
        "       if k == 0:\n",
        "         model.load_state_dict(torch.load(path_bestloss_model))\n",
        "         text_add = ' - load best_loss_model'\n",
        "         k = 1\n",
        "       elif k == 1:\n",
        "         model.load_state_dict(torch.load(path_bestacc_model))\n",
        "         text_add = ' - load best_acc_model'\n",
        "         k = 0\n",
        "       LR_RATE *= EPS\n",
        "       lr_scheduler = optim.lr_scheduler.CyclicLR(optimizer,\n",
        "                                                  base_lr=LR_RATE,\n",
        "                                                  max_lr=LR_RATE*3,\n",
        "                                                  step_size_up = 3,\n",
        "                                                  mode=\"exp_range\",\n",
        "                                                  gamma=0.85)\n",
        "       wait_train = 0\n",
        "       wait2end+=1\n",
        "\n",
        "    print(f'Epoch: {epoch+1:02} | with lr: {ep_lr:.9f} | Epoch Time: {epoch_mins}m {epoch_secs}s')\n",
        "    print(f'\\tTrain_Loss: {train_loss:.3f} | Train_Acc: {train_acc*100:.2f}%  Val_Loss: {valid_loss:.3f} | Val_Acc: {valid_acc*100:.2f}%' + text_add)\n",
        "\n",
        "    if wait2end > JDUN_END:\n",
        "\n",
        "      if k == 0:\n",
        "        model.load_state_dict(torch.load(path_bestloss_model))\n",
        "        text_add = ' - load best_loss_model'\n",
        "\n",
        "      elif k == 1:\n",
        "        model.load_state_dict(torch.load(path_bestacc_model))\n",
        "        text_add = ' - load best_acc_model'\n",
        "\n",
        "      print('Stop train, do not best fitness'+ text_add)\n",
        "\n",
        "      break"
      ],
      "metadata": {
        "colab": {
          "base_uri": "https://localhost:8080/"
        },
        "outputId": "fdacd108-85b0-45e3-f218-76adbdea5946",
        "id": "sP4JX5HUC-Mu"
      },
      "execution_count": null,
      "outputs": [
        {
          "output_type": "stream",
          "name": "stdout",
          "text": []
        },
        {
          "output_type": "stream",
          "name": "stderr",
          "text": [
            "515it [00:57,  8.90it/s]\n"
          ]
        },
        {
          "output_type": "stream",
          "name": "stdout",
          "text": [
            "Epoch: 01 | with lr: 0.001000000 | Epoch Time: 17m 37s\n",
            "\tTrain_Loss: 0.404 | Train_Acc: 83.72%  Val_Loss: 0.614 | Val_Acc: 70.51% - save best_loss_model - save best_acc_model\n"
          ]
        },
        {
          "output_type": "stream",
          "name": "stderr",
          "text": [
            "515it [00:57,  8.90it/s]\n"
          ]
        },
        {
          "output_type": "stream",
          "name": "stdout",
          "text": [
            "Epoch: 02 | with lr: 0.001000000 | Epoch Time: 17m 35s\n",
            "\tTrain_Loss: 0.364 | Train_Acc: 85.19%  Val_Loss: 0.600 | Val_Acc: 71.41% - save best_loss_model - save best_acc_model\n"
          ]
        },
        {
          "output_type": "stream",
          "name": "stderr",
          "text": [
            "515it [00:58,  8.82it/s]\n"
          ]
        },
        {
          "output_type": "stream",
          "name": "stdout",
          "text": [
            "Epoch: 03 | with lr: 0.001000000 | Epoch Time: 17m 32s\n",
            "\tTrain_Loss: 0.317 | Train_Acc: 87.30%  Val_Loss: 0.755 | Val_Acc: 68.34%\n"
          ]
        },
        {
          "output_type": "stream",
          "name": "stderr",
          "text": [
            "515it [00:57,  8.95it/s]\n"
          ]
        },
        {
          "output_type": "stream",
          "name": "stdout",
          "text": [
            "Epoch: 04 | with lr: 0.001000000 | Epoch Time: 17m 30s\n",
            "\tTrain_Loss: 0.290 | Train_Acc: 88.42%  Val_Loss: 0.648 | Val_Acc: 71.69% - save best_acc_model\n"
          ]
        },
        {
          "output_type": "stream",
          "name": "stderr",
          "text": [
            "515it [00:58,  8.87it/s]\n"
          ]
        },
        {
          "output_type": "stream",
          "name": "stdout",
          "text": [
            "Epoch: 05 | with lr: 0.001000000 | Epoch Time: 17m 32s\n",
            "\tTrain_Loss: 0.265 | Train_Acc: 89.39%  Val_Loss: 0.742 | Val_Acc: 71.60%\n"
          ]
        },
        {
          "output_type": "stream",
          "name": "stderr",
          "text": [
            "515it [00:58,  8.88it/s]\n"
          ]
        },
        {
          "output_type": "stream",
          "name": "stdout",
          "text": [
            "Epoch: 06 | with lr: 0.001000000 | Epoch Time: 17m 33s\n",
            "\tTrain_Loss: 0.241 | Train_Acc: 90.47%  Val_Loss: 0.671 | Val_Acc: 73.37% - save best_acc_model\n"
          ]
        },
        {
          "output_type": "stream",
          "name": "stderr",
          "text": [
            "515it [00:57,  8.89it/s]\n"
          ]
        },
        {
          "output_type": "stream",
          "name": "stdout",
          "text": [
            "Epoch: 07 | with lr: 0.001000000 | Epoch Time: 17m 32s\n",
            "\tTrain_Loss: 0.221 | Train_Acc: 91.05%  Val_Loss: 0.705 | Val_Acc: 73.52% - save best_acc_model\n"
          ]
        },
        {
          "output_type": "stream",
          "name": "stderr",
          "text": [
            "515it [00:57,  8.89it/s]\n"
          ]
        },
        {
          "output_type": "stream",
          "name": "stdout",
          "text": [
            "Epoch: 08 | with lr: 0.001000000 | Epoch Time: 17m 30s\n",
            "\tTrain_Loss: 0.202 | Train_Acc: 91.94%  Val_Loss: 0.686 | Val_Acc: 74.49% - save best_acc_model\n"
          ]
        },
        {
          "output_type": "stream",
          "name": "stderr",
          "text": [
            "515it [00:57,  8.90it/s]\n"
          ]
        },
        {
          "output_type": "stream",
          "name": "stdout",
          "text": [
            "Epoch: 09 | with lr: 0.001000000 | Epoch Time: 17m 37s\n",
            "\tTrain_Loss: 0.189 | Train_Acc: 92.57%  Val_Loss: 0.730 | Val_Acc: 73.84%\n"
          ]
        },
        {
          "output_type": "stream",
          "name": "stderr",
          "text": [
            "515it [00:57,  8.90it/s]\n"
          ]
        },
        {
          "output_type": "stream",
          "name": "stdout",
          "text": [
            "Epoch: 10 | with lr: 0.001000000 | Epoch Time: 17m 33s\n",
            "\tTrain_Loss: 0.174 | Train_Acc: 92.85%  Val_Loss: 0.702 | Val_Acc: 74.30% - load best_acc_model\n"
          ]
        },
        {
          "output_type": "stream",
          "name": "stderr",
          "text": [
            "515it [00:57,  8.89it/s]\n"
          ]
        },
        {
          "output_type": "stream",
          "name": "stdout",
          "text": [
            "Epoch: 11 | with lr: 0.000950000 | Epoch Time: 17m 34s\n",
            "\tTrain_Loss: 0.182 | Train_Acc: 92.47%  Val_Loss: 0.758 | Val_Acc: 71.77%\n"
          ]
        },
        {
          "output_type": "stream",
          "name": "stderr",
          "text": [
            "515it [00:58,  8.83it/s]\n"
          ]
        },
        {
          "output_type": "stream",
          "name": "stdout",
          "text": [
            "Epoch: 12 | with lr: 0.000950000 | Epoch Time: 17m 47s\n",
            "\tTrain_Loss: 0.170 | Train_Acc: 93.09%  Val_Loss: 0.823 | Val_Acc: 71.42% - load best_acc_model\n"
          ]
        },
        {
          "output_type": "stream",
          "name": "stderr",
          "text": [
            "515it [00:58,  8.87it/s]\n"
          ]
        },
        {
          "output_type": "stream",
          "name": "stdout",
          "text": [
            "Epoch: 13 | with lr: 0.000902500 | Epoch Time: 17m 48s\n",
            "\tTrain_Loss: 0.179 | Train_Acc: 92.69%  Val_Loss: 0.753 | Val_Acc: 74.06%\n"
          ]
        },
        {
          "output_type": "stream",
          "name": "stderr",
          "text": [
            "515it [00:58,  8.86it/s]\n"
          ]
        },
        {
          "output_type": "stream",
          "name": "stdout",
          "text": [
            "Epoch: 14 | with lr: 0.000902500 | Epoch Time: 17m 44s\n",
            "\tTrain_Loss: 0.168 | Train_Acc: 93.41%  Val_Loss: 0.736 | Val_Acc: 74.00% - load best_acc_model\n"
          ]
        },
        {
          "output_type": "stream",
          "name": "stderr",
          "text": [
            "515it [00:58,  8.85it/s]\n"
          ]
        },
        {
          "output_type": "stream",
          "name": "stdout",
          "text": [
            "Epoch: 15 | with lr: 0.000857375 | Epoch Time: 17m 48s\n",
            "\tTrain_Loss: 0.182 | Train_Acc: 92.61%  Val_Loss: 0.842 | Val_Acc: 71.88%\n"
          ]
        },
        {
          "output_type": "stream",
          "name": "stderr",
          "text": [
            "515it [00:58,  8.82it/s]\n"
          ]
        },
        {
          "output_type": "stream",
          "name": "stdout",
          "text": [
            "Epoch: 16 | with lr: 0.000857375 | Epoch Time: 17m 43s\n",
            "\tTrain_Loss: 0.162 | Train_Acc: 93.42%  Val_Loss: 0.728 | Val_Acc: 75.13% - save best_acc_model\n"
          ]
        },
        {
          "output_type": "stream",
          "name": "stderr",
          "text": [
            "515it [00:58,  8.86it/s]\n"
          ]
        },
        {
          "output_type": "stream",
          "name": "stdout",
          "text": [
            "Epoch: 17 | with lr: 0.000857375 | Epoch Time: 17m 41s\n",
            "\tTrain_Loss: 0.194 | Train_Acc: 92.38%  Val_Loss: 0.702 | Val_Acc: 72.93%\n"
          ]
        },
        {
          "output_type": "stream",
          "name": "stderr",
          "text": [
            "515it [00:57,  8.91it/s]\n"
          ]
        },
        {
          "output_type": "stream",
          "name": "stdout",
          "text": [
            "Epoch: 18 | with lr: 0.000857375 | Epoch Time: 17m 33s\n",
            "\tTrain_Loss: 0.171 | Train_Acc: 93.34%  Val_Loss: 0.683 | Val_Acc: 74.55% - load best_acc_model\n"
          ]
        },
        {
          "output_type": "stream",
          "name": "stderr",
          "text": [
            "515it [00:57,  8.92it/s]\n"
          ]
        },
        {
          "output_type": "stream",
          "name": "stdout",
          "text": [
            "Epoch: 19 | with lr: 0.000814506 | Epoch Time: 17m 35s\n",
            "\tTrain_Loss: 0.147 | Train_Acc: 93.82%  Val_Loss: 0.749 | Val_Acc: 75.49% - save best_acc_model\n"
          ]
        },
        {
          "output_type": "stream",
          "name": "stderr",
          "text": [
            "515it [00:57,  8.90it/s]\n"
          ]
        },
        {
          "output_type": "stream",
          "name": "stdout",
          "text": [
            "Epoch: 20 | with lr: 0.000814506 | Epoch Time: 17m 34s\n",
            "\tTrain_Loss: 0.140 | Train_Acc: 94.17%  Val_Loss: 0.784 | Val_Acc: 73.54%\n"
          ]
        },
        {
          "output_type": "stream",
          "name": "stderr",
          "text": [
            "515it [00:57,  8.89it/s]\n"
          ]
        },
        {
          "output_type": "stream",
          "name": "stdout",
          "text": [
            "Epoch: 21 | with lr: 0.000814506 | Epoch Time: 17m 34s\n",
            "\tTrain_Loss: 0.130 | Train_Acc: 94.79%  Val_Loss: 0.775 | Val_Acc: 74.28% - load best_acc_model\n"
          ]
        },
        {
          "output_type": "stream",
          "name": "stderr",
          "text": [
            "515it [00:57,  8.89it/s]\n"
          ]
        },
        {
          "output_type": "stream",
          "name": "stdout",
          "text": [
            "Epoch: 22 | with lr: 0.000773781 | Epoch Time: 17m 37s\n",
            "\tTrain_Loss: 0.131 | Train_Acc: 94.58%  Val_Loss: 0.762 | Val_Acc: 74.44%\n"
          ]
        },
        {
          "output_type": "stream",
          "name": "stderr",
          "text": [
            "515it [00:58,  8.87it/s]\n"
          ]
        },
        {
          "output_type": "stream",
          "name": "stdout",
          "text": [
            "Epoch: 23 | with lr: 0.000773781 | Epoch Time: 17m 35s\n",
            "\tTrain_Loss: 0.130 | Train_Acc: 94.88%  Val_Loss: 0.786 | Val_Acc: 73.11% - load best_acc_model\n"
          ]
        },
        {
          "output_type": "stream",
          "name": "stderr",
          "text": [
            "515it [00:57,  8.88it/s]\n"
          ]
        },
        {
          "output_type": "stream",
          "name": "stdout",
          "text": [
            "Epoch: 24 | with lr: 0.000735092 | Epoch Time: 17m 33s\n",
            "\tTrain_Loss: 0.130 | Train_Acc: 94.84%  Val_Loss: 0.875 | Val_Acc: 72.54%\n"
          ]
        },
        {
          "output_type": "stream",
          "name": "stderr",
          "text": [
            "515it [00:58,  8.88it/s]\n"
          ]
        },
        {
          "output_type": "stream",
          "name": "stdout",
          "text": [
            "Epoch: 25 | with lr: 0.000735092 | Epoch Time: 17m 31s\n",
            "\tTrain_Loss: 0.123 | Train_Acc: 95.03%  Val_Loss: 0.802 | Val_Acc: 74.91% - load best_acc_model\n"
          ]
        },
        {
          "output_type": "stream",
          "name": "stderr",
          "text": [
            "515it [00:57,  8.89it/s]\n"
          ]
        },
        {
          "output_type": "stream",
          "name": "stdout",
          "text": [
            "Epoch: 26 | with lr: 0.000698337 | Epoch Time: 17m 33s\n",
            "\tTrain_Loss: 0.128 | Train_Acc: 94.65%  Val_Loss: 0.843 | Val_Acc: 74.98%\n"
          ]
        },
        {
          "output_type": "stream",
          "name": "stderr",
          "text": [
            "515it [00:57,  8.92it/s]\n"
          ]
        },
        {
          "output_type": "stream",
          "name": "stdout",
          "text": [
            "Epoch: 27 | with lr: 0.000698337 | Epoch Time: 17m 29s\n",
            "\tTrain_Loss: 0.118 | Train_Acc: 95.38%  Val_Loss: 0.804 | Val_Acc: 73.70% - load best_acc_model\n"
          ]
        },
        {
          "output_type": "stream",
          "name": "stderr",
          "text": [
            "515it [00:58,  8.79it/s]\n"
          ]
        },
        {
          "output_type": "stream",
          "name": "stdout",
          "text": [
            "Epoch: 28 | with lr: 0.000663420 | Epoch Time: 17m 48s\n",
            "\tTrain_Loss: 0.126 | Train_Acc: 94.89%  Val_Loss: 0.834 | Val_Acc: 74.06%\n"
          ]
        },
        {
          "output_type": "stream",
          "name": "stderr",
          "text": [
            "515it [00:57,  8.89it/s]\n"
          ]
        },
        {
          "output_type": "stream",
          "name": "stdout",
          "text": [
            "Epoch: 29 | with lr: 0.000663420 | Epoch Time: 17m 35s\n",
            "\tTrain_Loss: 0.116 | Train_Acc: 95.23%  Val_Loss: 0.860 | Val_Acc: 74.08% - load best_acc_model\n"
          ]
        },
        {
          "output_type": "stream",
          "name": "stderr",
          "text": [
            "515it [00:58,  8.85it/s]\n"
          ]
        },
        {
          "output_type": "stream",
          "name": "stdout",
          "text": [
            "Epoch: 30 | with lr: 0.000630249 | Epoch Time: 17m 38s\n",
            "\tTrain_Loss: 0.125 | Train_Acc: 94.89%  Val_Loss: 0.776 | Val_Acc: 74.75%\n"
          ]
        },
        {
          "output_type": "stream",
          "name": "stderr",
          "text": [
            "515it [00:58,  8.81it/s]\n"
          ]
        },
        {
          "output_type": "stream",
          "name": "stdout",
          "text": [
            "Epoch: 31 | with lr: 0.000630249 | Epoch Time: 18m 21s\n",
            "\tTrain_Loss: 0.110 | Train_Acc: 95.42%  Val_Loss: 0.846 | Val_Acc: 74.49% - load best_acc_model\n",
            "Stop train, do not best fitness - load best_acc_model\n"
          ]
        }
      ]
    },
    {
      "cell_type": "code",
      "execution_count": null,
      "metadata": {
        "colab": {
          "base_uri": "https://localhost:8080/",
          "height": 487
        },
        "outputId": "eb5d44f0-5f61-4750-9504-8925d815e00c",
        "id": "ohopf9oJDEMc"
      },
      "outputs": [
        {
          "output_type": "display_data",
          "data": {
            "text/plain": [
              "<Figure size 1800x500 with 3 Axes>"
            ],
            "image/png": "[encoded data removed]"
          },
          "metadata": {}
        }
      ],
      "source": [
        "train_ephs = len(hist_train_loss)\n",
        "losses = (hist_train_loss, hist_valid_loss)\n",
        "accuracy = (hist_train_acc, hist_valid_acc)\n",
        "plot_graph(train_ephs, losses, accuracy, hist_lr)"
      ]
    },
    {
      "cell_type": "markdown",
      "source": [
        "## Next with accuracy"
      ],
      "metadata": {
        "id": "atMUWgyZ8QaV"
      }
    },
    {
      "cell_type": "code",
      "execution_count": null,
      "metadata": {
        "id": "YrA58_Fm7rKz"
      },
      "outputs": [],
      "source": [
        "def accuracy(preds, y):\n",
        "    \"\"\"\n",
        "    Returns accuracy per batch, i.e. if you get 8/10 right, this returns 0.8, NOT 8\n",
        "    \"\"\"\n",
        "    preds = torch.argmax(preds, dim=1)\n",
        "\n",
        "    correct = (preds == y).float()\n",
        "    acc = correct.sum() / len(correct)\n",
        "    return acc"
      ]
    },
    {
      "cell_type": "code",
      "source": [
        "N_EPOCHS = 50\n",
        "EPS = 0.85\n",
        "\n",
        "\n",
        "JDUN_TRAIN = 1\n",
        "JDUN_END = 7\n",
        "\n",
        "try:\n",
        "  if best_valid_loss and best_valid_acc:\n",
        "    pass\n",
        "except:\n",
        "    best_valid_loss = float('inf')\n",
        "    best_valid_acc = 0.\n",
        "\n",
        "hist_train_loss, hist_valid_loss, hist_train_acc, hist_valid_acc = [], [], [], []\n",
        "hist_lr = []\n",
        "\n",
        "path_bestacc_model = 'best_acc_model.pt'\n",
        "path_bestloss_model = 'best_loss_model.pt'\n",
        "\n",
        "wait_train = 0\n",
        "wait2end = 0\n",
        "\n",
        "model_saved = True\n",
        "\n",
        "for epoch in range(N_EPOCHS):\n",
        "    start_time = time.time()\n",
        "\n",
        "    train_loss, train_acc, ep_lr = train(model, training_loader, optimizer,\n",
        "                                         lr_scheduler, criterion, accuracy)\n",
        "    hist_train_loss.append(train_loss)\n",
        "    hist_train_acc.append(train_acc)\n",
        "\n",
        "    valid_loss, valid_acc = evaluate(model, valid_loader, criterion,\n",
        "                                     accuracy)\n",
        "    hist_valid_loss.append(valid_loss)\n",
        "    hist_valid_acc.append(valid_acc)\n",
        "    hist_lr.append(ep_lr)\n",
        "\n",
        "    end_time = time.time()\n",
        "\n",
        "    epoch_mins, epoch_secs = epoch_time(start_time, end_time)\n",
        "\n",
        "    text_add = ''\n",
        "    if valid_loss < best_valid_loss:\n",
        "        best_valid_loss = valid_loss\n",
        "        torch.save(model.state_dict(), path_bestloss_model)\n",
        "\n",
        "        model_saved = True\n",
        "        text_add = ' - save best_loss_model'\n",
        "        wait2end = 0\n",
        "        wait_train = 0\n",
        "        k = 0\n",
        "\n",
        "    if valid_acc > best_valid_acc:\n",
        "        best_valid_acc = valid_acc\n",
        "        torch.save(model.state_dict(), path_bestacc_model)\n",
        "\n",
        "        model_saved = True\n",
        "        text_add += ' - save best_acc_model'\n",
        "        wait2end = 0\n",
        "        wait_train = 0\n",
        "        k = 1\n",
        "\n",
        "    else:\n",
        "        wait_train+=1\n",
        "\n",
        "\n",
        "    if wait_train > JDUN_TRAIN and model_saved:\n",
        "       if k == 0:\n",
        "         model.load_state_dict(torch.load(path_bestloss_model))\n",
        "         text_add = ' - load best_loss_model'\n",
        "         k = 1\n",
        "       elif k == 1:\n",
        "         model.load_state_dict(torch.load(path_bestacc_model))\n",
        "         text_add = ' - load best_acc_model'\n",
        "         k = 0\n",
        "\n",
        "       LR_RATE *= EPS\n",
        "       lr_scheduler = optim.lr_scheduler.CyclicLR(optimizer,\n",
        "                                                  base_lr=LR_RATE,\n",
        "                                                  max_lr=LR_RATE*3,\n",
        "                                                  step_size_up = 3,\n",
        "                                                  mode=\"exp_range\",\n",
        "                                                  gamma=0.85)\n",
        "       wait_train = 0\n",
        "       wait2end+=1\n",
        "\n",
        "    print(f'Epoch: {epoch+1:02} | with lr: {ep_lr:.9f} | Epoch Time: {epoch_mins}m {epoch_secs}s')\n",
        "    print(f'\\tTrain_Loss: {train_loss:.3f} | Train_Acc: {train_acc*100:.2f}%  Val_Loss: {valid_loss:.3f} | Val_Acc: {valid_acc*100:.2f}%' + text_add)\n",
        "\n",
        "    if wait2end > JDUN_END:\n",
        "\n",
        "      if k == 0:\n",
        "        model.load_state_dict(torch.load(path_bestloss_model))\n",
        "        text_add = ' - load best_loss_model'\n",
        "\n",
        "      elif k == 1:\n",
        "        model.load_state_dict(torch.load(path_bestacc_model))\n",
        "        text_add = ' - load best_acc_model'\n",
        "\n",
        "      print('Stop train, do not best fitness'+ text_add)\n",
        "\n",
        "      break"
      ],
      "metadata": {
        "colab": {
          "base_uri": "https://localhost:8080/"
        },
        "outputId": "a4f2f583-a5a1-48ee-9e2f-2cf90b536744",
        "id": "EePZ2MbS8iX6"
      },
      "execution_count": null,
      "outputs": [
        {
          "metadata": {
            "tags": null
          },
          "name": "stdout",
          "output_type": "stream",
          "text": [
            ""
          ]
        },
        {
          "metadata": {
            "tags": null
          },
          "name": "stderr",
          "output_type": "stream",
          "text": [
            "515it [00:57,  8.99it/s]\n"
          ]
        },
        {
          "metadata": {
            "tags": null
          },
          "name": "stdout",
          "output_type": "stream",
          "text": [
            "Epoch: 01 | with lr: 0.000598737 | Epoch Time: 17m 39s\n",
            "\tTrain_Loss: 0.121 | Train_Acc: 95.50%  Val_Loss: 0.860 | Val_Acc: 78.32% - save best_acc_model\n"
          ]
        },
        {
          "metadata": {
            "tags": null
          },
          "name": "stderr",
          "output_type": "stream",
          "text": [
            "515it [00:56,  9.12it/s]\n"
          ]
        },
        {
          "metadata": {
            "tags": null
          },
          "name": "stdout",
          "output_type": "stream",
          "text": [
            "Epoch: 02 | with lr: 0.000598737 | Epoch Time: 17m 32s\n",
            "\tTrain_Loss: 0.107 | Train_Acc: 96.03%  Val_Loss: 0.873 | Val_Acc: 79.63% - save best_acc_model\n"
          ]
        },
        {
          "metadata": {
            "tags": null
          },
          "name": "stderr",
          "output_type": "stream",
          "text": [
            "515it [00:57,  8.95it/s]\n"
          ]
        },
        {
          "metadata": {
            "tags": null
          },
          "name": "stdout",
          "output_type": "stream",
          "text": [
            "Epoch: 03 | with lr: 0.000598737 | Epoch Time: 17m 13s\n",
            "\tTrain_Loss: 0.104 | Train_Acc: 96.22%  Val_Loss: 0.791 | Val_Acc: 79.98% - save best_acc_model\n"
          ]
        },
        {
          "metadata": {
            "tags": null
          },
          "name": "stderr",
          "output_type": "stream",
          "text": [
            "515it [00:57,  8.98it/s]\n"
          ]
        },
        {
          "metadata": {
            "tags": null
          },
          "name": "stdout",
          "output_type": "stream",
          "text": [
            "Epoch: 04 | with lr: 0.000598737 | Epoch Time: 17m 32s\n",
            "\tTrain_Loss: 0.100 | Train_Acc: 96.34%  Val_Loss: 0.926 | Val_Acc: 77.16%\n"
          ]
        },
        {
          "metadata": {
            "tags": null
          },
          "name": "stderr",
          "output_type": "stream",
          "text": [
            "515it [00:57,  8.97it/s]\n"
          ]
        },
        {
          "metadata": {
            "tags": null
          },
          "name": "stdout",
          "output_type": "stream",
          "text": [
            "Epoch: 05 | with lr: 0.000598737 | Epoch Time: 17m 30s\n",
            "\tTrain_Loss: 0.089 | Train_Acc: 96.79%  Val_Loss: 0.849 | Val_Acc: 79.37% - load best_acc_model\n"
          ]
        },
        {
          "metadata": {
            "tags": null
          },
          "name": "stderr",
          "output_type": "stream",
          "text": [
            "515it [00:57,  8.95it/s]\n"
          ]
        },
        {
          "metadata": {
            "tags": null
          },
          "name": "stdout",
          "output_type": "stream",
          "text": [
            "Epoch: 06 | with lr: 0.000508926 | Epoch Time: 17m 36s\n",
            "\tTrain_Loss: 0.091 | Train_Acc: 96.61%  Val_Loss: 0.907 | Val_Acc: 77.51%\n"
          ]
        },
        {
          "metadata": {
            "tags": null
          },
          "name": "stderr",
          "output_type": "stream",
          "text": [
            "515it [00:57,  8.94it/s]\n"
          ]
        },
        {
          "metadata": {
            "tags": null
          },
          "name": "stdout",
          "output_type": "stream",
          "text": [
            "Epoch: 07 | with lr: 0.000508926 | Epoch Time: 17m 31s\n",
            "\tTrain_Loss: 0.087 | Train_Acc: 96.83%  Val_Loss: 0.898 | Val_Acc: 78.51% - load best_loss_model\n"
          ]
        },
        {
          "metadata": {
            "tags": null
          },
          "name": "stderr",
          "output_type": "stream",
          "text": [
            "515it [00:57,  8.95it/s]\n"
          ]
        },
        {
          "metadata": {
            "tags": null
          },
          "name": "stdout",
          "output_type": "stream",
          "text": [
            "Epoch: 08 | with lr: 0.000432587 | Epoch Time: 17m 38s\n",
            "\tTrain_Loss: 0.276 | Train_Acc: 89.53%  Val_Loss: 0.614 | Val_Acc: 77.66%\n"
          ]
        },
        {
          "metadata": {
            "tags": null
          },
          "name": "stderr",
          "output_type": "stream",
          "text": [
            "515it [00:57,  8.95it/s]\n"
          ]
        },
        {
          "metadata": {
            "tags": null
          },
          "name": "stdout",
          "output_type": "stream",
          "text": [
            "Epoch: 09 | with lr: 0.000432587 | Epoch Time: 17m 41s\n",
            "\tTrain_Loss: 0.242 | Train_Acc: 91.00%  Val_Loss: 0.712 | Val_Acc: 75.86% - load best_acc_model\n"
          ]
        },
        {
          "metadata": {
            "tags": null
          },
          "name": "stderr",
          "output_type": "stream",
          "text": [
            "515it [00:57,  8.92it/s]\n"
          ]
        },
        {
          "metadata": {
            "tags": null
          },
          "name": "stdout",
          "output_type": "stream",
          "text": [
            "Epoch: 10 | with lr: 0.000367699 | Epoch Time: 17m 37s\n",
            "\tTrain_Loss: 0.082 | Train_Acc: 97.04%  Val_Loss: 0.840 | Val_Acc: 80.58% - save best_acc_model\n"
          ]
        },
        {
          "metadata": {
            "tags": null
          },
          "name": "stderr",
          "output_type": "stream",
          "text": [
            "515it [00:57,  8.95it/s]\n"
          ]
        },
        {
          "metadata": {
            "tags": null
          },
          "name": "stdout",
          "output_type": "stream",
          "text": [
            "Epoch: 11 | with lr: 0.000367699 | Epoch Time: 17m 44s\n",
            "\tTrain_Loss: 0.075 | Train_Acc: 97.24%  Val_Loss: 0.879 | Val_Acc: 79.39%\n"
          ]
        },
        {
          "metadata": {
            "tags": null
          },
          "name": "stderr",
          "output_type": "stream",
          "text": [
            "515it [00:57,  8.94it/s]\n"
          ]
        },
        {
          "metadata": {
            "tags": null
          },
          "name": "stdout",
          "output_type": "stream",
          "text": [
            "Epoch: 12 | with lr: 0.000367699 | Epoch Time: 17m 40s\n",
            "\tTrain_Loss: 0.071 | Train_Acc: 97.36%  Val_Loss: 0.905 | Val_Acc: 80.52% - load best_acc_model\n"
          ]
        },
        {
          "metadata": {
            "tags": null
          },
          "name": "stderr",
          "output_type": "stream",
          "text": [
            "515it [00:57,  8.92it/s]\n"
          ]
        },
        {
          "metadata": {
            "tags": null
          },
          "name": "stdout",
          "output_type": "stream",
          "text": [
            "Epoch: 13 | with lr: 0.000312544 | Epoch Time: 17m 38s\n",
            "\tTrain_Loss: 0.072 | Train_Acc: 97.25%  Val_Loss: 0.876 | Val_Acc: 80.19%\n"
          ]
        },
        {
          "metadata": {
            "tags": null
          },
          "name": "stderr",
          "output_type": "stream",
          "text": [
            "515it [00:55,  9.26it/s]\n"
          ]
        },
        {
          "metadata": {
            "tags": null
          },
          "name": "stdout",
          "output_type": "stream",
          "text": [
            "Epoch: 14 | with lr: 0.000312544 | Epoch Time: 17m 15s\n",
            "\tTrain_Loss: 0.067 | Train_Acc: 97.60%  Val_Loss: 0.871 | Val_Acc: 80.90% - save best_acc_model\n"
          ]
        },
        {
          "metadata": {
            "tags": null
          },
          "name": "stderr",
          "output_type": "stream",
          "text": [
            "515it [00:55,  9.26it/s]\n"
          ]
        },
        {
          "metadata": {
            "tags": null
          },
          "name": "stdout",
          "output_type": "stream",
          "text": [
            "Epoch: 15 | with lr: 0.000312544 | Epoch Time: 17m 5s\n",
            "\tTrain_Loss: 0.063 | Train_Acc: 97.74%  Val_Loss: 0.925 | Val_Acc: 80.24%\n"
          ]
        },
        {
          "metadata": {
            "tags": null
          },
          "name": "stderr",
          "output_type": "stream",
          "text": [
            "515it [00:55,  9.25it/s]\n"
          ]
        },
        {
          "metadata": {
            "tags": null
          },
          "name": "stdout",
          "output_type": "stream",
          "text": [
            "Epoch: 16 | with lr: 0.000312544 | Epoch Time: 17m 6s\n",
            "\tTrain_Loss: 0.060 | Train_Acc: 97.84%  Val_Loss: 0.962 | Val_Acc: 79.44% - load best_acc_model\n"
          ]
        },
        {
          "metadata": {
            "tags": null
          },
          "name": "stderr",
          "output_type": "stream",
          "text": [
            "515it [00:55,  9.29it/s]\n"
          ]
        },
        {
          "metadata": {
            "tags": null
          },
          "name": "stdout",
          "output_type": "stream",
          "text": [
            "Epoch: 17 | with lr: 0.000265663 | Epoch Time: 17m 5s\n",
            "\tTrain_Loss: 0.061 | Train_Acc: 97.73%  Val_Loss: 0.939 | Val_Acc: 80.31%\n"
          ]
        },
        {
          "metadata": {
            "tags": null
          },
          "name": "stderr",
          "output_type": "stream",
          "text": [
            "515it [00:57,  8.93it/s]\n"
          ]
        },
        {
          "metadata": {
            "tags": null
          },
          "name": "stdout",
          "output_type": "stream",
          "text": [
            "Epoch: 18 | with lr: 0.000265663 | Epoch Time: 17m 18s\n",
            "\tTrain_Loss: 0.059 | Train_Acc: 97.80%  Val_Loss: 0.962 | Val_Acc: 80.53% - load best_loss_model\n"
          ]
        },
        {
          "metadata": {
            "tags": null
          },
          "name": "stderr",
          "output_type": "stream",
          "text": [
            "515it [00:57,  8.97it/s]\n"
          ]
        },
        {
          "metadata": {
            "tags": null
          },
          "name": "stdout",
          "output_type": "stream",
          "text": [
            "Epoch: 19 | with lr: 0.000225813 | Epoch Time: 17m 32s\n",
            "\tTrain_Loss: 0.262 | Train_Acc: 90.14%  Val_Loss: 0.725 | Val_Acc: 75.69%\n"
          ]
        },
        {
          "metadata": {
            "tags": null
          },
          "name": "stderr",
          "output_type": "stream",
          "text": [
            "515it [00:57,  9.01it/s]\n"
          ]
        },
        {
          "metadata": {
            "tags": null
          },
          "name": "stdout",
          "output_type": "stream",
          "text": [
            "Epoch: 20 | with lr: 0.000225813 | Epoch Time: 17m 29s\n",
            "\tTrain_Loss: 0.230 | Train_Acc: 91.32%  Val_Loss: 0.650 | Val_Acc: 78.58% - load best_acc_model\n"
          ]
        },
        {
          "metadata": {
            "tags": null
          },
          "name": "stderr",
          "output_type": "stream",
          "text": [
            "515it [00:56,  9.09it/s]\n"
          ]
        },
        {
          "metadata": {
            "tags": null
          },
          "name": "stdout",
          "output_type": "stream",
          "text": [
            "Epoch: 21 | with lr: 0.000191941 | Epoch Time: 17m 35s\n",
            "\tTrain_Loss: 0.059 | Train_Acc: 97.83%  Val_Loss: 0.953 | Val_Acc: 79.90%\n"
          ]
        },
        {
          "metadata": {
            "tags": null
          },
          "name": "stderr",
          "output_type": "stream",
          "text": [
            "515it [00:55,  9.22it/s]\n"
          ]
        },
        {
          "metadata": {
            "tags": null
          },
          "name": "stdout",
          "output_type": "stream",
          "text": [
            "Epoch: 22 | with lr: 0.000191941 | Epoch Time: 17m 18s\n",
            "\tTrain_Loss: 0.055 | Train_Acc: 97.95%  Val_Loss: 0.983 | Val_Acc: 79.95% - load best_loss_model\n"
          ]
        },
        {
          "metadata": {
            "tags": null
          },
          "name": "stderr",
          "output_type": "stream",
          "text": [
            "515it [00:55,  9.22it/s]\n"
          ]
        },
        {
          "metadata": {
            "tags": null
          },
          "name": "stdout",
          "output_type": "stream",
          "text": [
            "Epoch: 23 | with lr: 0.000163150 | Epoch Time: 17m 11s\n",
            "\tTrain_Loss: 0.260 | Train_Acc: 90.35%  Val_Loss: 0.660 | Val_Acc: 76.48%\n"
          ]
        },
        {
          "metadata": {
            "tags": null
          },
          "name": "stderr",
          "output_type": "stream",
          "text": [
            "515it [00:55,  9.23it/s]\n"
          ]
        },
        {
          "metadata": {
            "tags": null
          },
          "name": "stdout",
          "output_type": "stream",
          "text": [
            "Epoch: 24 | with lr: 0.000163150 | Epoch Time: 17m 5s\n",
            "\tTrain_Loss: 0.234 | Train_Acc: 91.17%  Val_Loss: 0.704 | Val_Acc: 77.05% - load best_acc_model\n"
          ]
        },
        {
          "metadata": {
            "tags": null
          },
          "name": "stderr",
          "output_type": "stream",
          "text": [
            "515it [00:56,  9.16it/s]\n"
          ]
        },
        {
          "output_type": "stream",
          "name": "stdout",
          "text": [
            "Epoch: 25 | with lr: 0.000138678 | Epoch Time: 17m 10s\n",
            "\tTrain_Loss: 0.058 | Train_Acc: 97.89%  Val_Loss: 0.952 | Val_Acc: 80.30%\n"
          ]
        },
        {
          "output_type": "stream",
          "name": "stderr",
          "text": [
            "515it [00:57,  8.96it/s]\n"
          ]
        },
        {
          "output_type": "stream",
          "name": "stdout",
          "text": [
            "Epoch: 26 | with lr: 0.000138678 | Epoch Time: 17m 23s\n",
            "\tTrain_Loss: 0.053 | Train_Acc: 97.99%  Val_Loss: 0.950 | Val_Acc: 80.30% - load best_loss_model\n"
          ]
        },
        {
          "output_type": "stream",
          "name": "stderr",
          "text": [
            "515it [00:57,  8.97it/s]\n"
          ]
        },
        {
          "output_type": "stream",
          "name": "stdout",
          "text": [
            "Epoch: 27 | with lr: 0.000117876 | Epoch Time: 17m 27s\n",
            "\tTrain_Loss: 0.258 | Train_Acc: 90.25%  Val_Loss: 0.655 | Val_Acc: 78.11%\n"
          ]
        },
        {
          "output_type": "stream",
          "name": "stderr",
          "text": [
            "515it [00:57,  8.94it/s]\n"
          ]
        },
        {
          "output_type": "stream",
          "name": "stdout",
          "text": [
            "Epoch: 28 | with lr: 0.000117876 | Epoch Time: 17m 25s\n",
            "\tTrain_Loss: 0.235 | Train_Acc: 91.18%  Val_Loss: 0.708 | Val_Acc: 76.94% - load best_acc_model\n"
          ]
        },
        {
          "output_type": "stream",
          "name": "stderr",
          "text": [
            "515it [00:57,  8.97it/s]\n"
          ]
        },
        {
          "output_type": "stream",
          "name": "stdout",
          "text": [
            "Epoch: 29 | with lr: 0.000100195 | Epoch Time: 17m 27s\n",
            "\tTrain_Loss: 0.058 | Train_Acc: 97.91%  Val_Loss: 0.925 | Val_Acc: 80.87%\n"
          ]
        },
        {
          "output_type": "stream",
          "name": "stderr",
          "text": [
            "515it [00:55,  9.29it/s]\n"
          ]
        },
        {
          "output_type": "stream",
          "name": "stdout",
          "text": [
            "Epoch: 30 | with lr: 0.000100195 | Epoch Time: 16m 58s\n",
            "\tTrain_Loss: 0.053 | Train_Acc: 98.16%  Val_Loss: 0.960 | Val_Acc: 80.34% - load best_loss_model\n",
            "Stop train, do not best fitness - load best_acc_model\n"
          ]
        }
      ]
    },
    {
      "cell_type": "code",
      "execution_count": null,
      "metadata": {
        "colab": {
          "base_uri": "https://localhost:8080/",
          "height": 487
        },
        "id": "eAw3Pzz88iX-",
        "outputId": "96a074ed-dac4-42e1-8819-80d6a793db73"
      },
      "outputs": [
        {
          "output_type": "display_data",
          "data": {
            "text/plain": [
              "<Figure size 1800x500 with 3 Axes>"
            ],
            "image/png": "[encoded data removed]"
          },
          "metadata": {}
        }
      ],
      "source": [
        "train_ephs = len(hist_train_loss)\n",
        "losses = (hist_train_loss, hist_valid_loss)\n",
        "accuracy = (hist_train_acc, hist_valid_acc)\n",
        "plot_graph(train_ephs, losses, accuracy, hist_lr)"
      ]
    },
    {
      "cell_type": "markdown",
      "source": [
        "# Run with Augmentation"
      ],
      "metadata": {
        "id": "tttzlyKRc7oX"
      }
    },
    {
      "cell_type": "code",
      "execution_count": null,
      "metadata": {
        "id": "T46tEiWiJ2nI"
      },
      "outputs": [],
      "source": [
        "def predict_both(model, iterator):\n",
        "\n",
        "    ### Testing\n",
        "    model.eval()\n",
        "\n",
        "    predicts = []\n",
        "    y_true = []\n",
        "\n",
        "    with torch.no_grad():\n",
        "          for _, data in tqdm(enumerate(iterator, 0)):\n",
        "            # Put data to target device\n",
        "            ids = data['ids'].to(device, dtype = torch.long)\n",
        "            mask = data['mask'].to(device, dtype = torch.long)\n",
        "            token_type_ids = data['token_type_ids'].to(device,\n",
        "                                                       dtype = torch.long)\n",
        "\n",
        "            targets = data['targets']\n",
        "\n",
        "            outputs = model(ids, mask, token_type_ids)\n",
        "            test_pred = torch.softmax(outputs, dim=1)\n",
        "            test_pred = torch.argmax(test_pred, dim=1)\n",
        "\n",
        "            # 3. Caculate loss/accuracy\n",
        "            predicts.append(test_pred.cpu().numpy())\n",
        "            y_true.append(targets.cpu().numpy())\n",
        "\n",
        "    return np.hstack(predicts), np.hstack(y_true)"
      ]
    },
    {
      "cell_type": "markdown",
      "source": [
        "load"
      ],
      "metadata": {
        "id": "FdhvIgVTlG6K"
      }
    },
    {
      "cell_type": "code",
      "source": [
        "load_dir = '/content/drive/Othercomputers/My_comp/Documents/МФТИ - Наука о данных/NLP_course/DZ/Text_classification/Roberta/'"
      ],
      "metadata": {
        "id": "wzg_xXEilG6L"
      },
      "execution_count": null,
      "outputs": []
    },
    {
      "cell_type": "code",
      "source": [
        "k = 1\n",
        "if k == 0:\n",
        "  model.load_state_dict(torch.load(load_dir + 'best_loss_model.pt'))\n",
        "  text_add = ' - best_loss_model'\n",
        "  model_saved = True\n",
        "\n",
        "elif k == 1:\n",
        "  model.load_state_dict(torch.load(load_dir + 'best_acc_model.pt'))\n",
        "  text_add = ' - best_acc_model'\n",
        "  model_saved = True\n",
        "print('load' + text_add)"
      ],
      "metadata": {
        "colab": {
          "base_uri": "https://localhost:8080/"
        },
        "outputId": "26ddad69-812e-4c4f-badf-70dcc91dd77b",
        "id": "nYHk0tlNlG6M"
      },
      "execution_count": null,
      "outputs": [
        {
          "output_type": "stream",
          "name": "stdout",
          "text": [
            "load - best_acc_model\n"
          ]
        }
      ]
    },
    {
      "cell_type": "code",
      "source": [
        "!pip install nlpaug -q"
      ],
      "metadata": {
        "colab": {
          "base_uri": "https://localhost:8080/"
        },
        "id": "DsJK935SdLVb",
        "outputId": "36f4ed23-70fd-45ba-dbe0-62514659565b"
      },
      "execution_count": null,
      "outputs": [
        {
          "output_type": "stream",
          "name": "stdout",
          "text": [
            "\u001b[?25l     \u001b[90m━━━━━━━━━━━━━━━━━━━━━━━━━━━━━━━━━━━━━━━━\u001b[0m \u001b[32m0.0/410.5 kB\u001b[0m \u001b[31m?\u001b[0m eta \u001b[36m-:--:--\u001b[0m\r\u001b[2K     \u001b[91m━━\u001b[0m\u001b[91m╸\u001b[0m\u001b[90m━━━━━━━━━━━━━━━━━━━━━━━━━━━━━━━━━━━\u001b[0m \u001b[32m30.7/410.5 kB\u001b[0m \u001b[31m898.3 kB/s\u001b[0m eta \u001b[36m0:00:01\u001b[0m\r\u001b[2K     \u001b[91m━━━━━━━━\u001b[0m\u001b[91m╸\u001b[0m\u001b[90m━━━━━━━━━━━━━━━━━━━━━━━━━━━━━━━\u001b[0m \u001b[32m92.2/410.5 kB\u001b[0m \u001b[31m1.2 MB/s\u001b[0m eta \u001b[36m0:00:01\u001b[0m\r\u001b[2K     \u001b[91m━━━━━━━━━━━━━━━━━━━━━━━━━━━━━━━━━━━━━━\u001b[0m\u001b[91m╸\u001b[0m \u001b[32m409.6/410.5 kB\u001b[0m \u001b[31m4.1 MB/s\u001b[0m eta \u001b[36m0:00:01\u001b[0m\r\u001b[2K     \u001b[90m━━━━━━━━━━━━━━━━━━━━━━━━━━━━━━━━━━━━━━━\u001b[0m \u001b[32m410.5/410.5 kB\u001b[0m \u001b[31m3.6 MB/s\u001b[0m eta \u001b[36m0:00:00\u001b[0m\n",
            "\u001b[?25h"
          ]
        }
      ]
    },
    {
      "cell_type": "code",
      "source": [
        "import nlpaug\n",
        "import nlpaug.augmenter.word as naw\n",
        "import random"
      ],
      "metadata": {
        "id": "VN19lMibdRbC"
      },
      "execution_count": null,
      "outputs": []
    },
    {
      "cell_type": "code",
      "source": [
        "AUG =[\n",
        "       naw.SynonymAug(aug_src='wordnet', aug_min=1, aug_max=2),\n",
        "       #naw.ContextualWordEmbsAug(model_path='bert-base-multilingual-uncased', aug_p=0.07)  # ДОЛГО - закомитил\n",
        "       ]\n",
        "\n"
      ],
      "metadata": {
        "id": "e_QhRRdffm3u",
        "colab": {
          "base_uri": "https://localhost:8080/"
        },
        "outputId": "3b026bbc-3b97-43c7-cfa5-6dc5bf56cd4f"
      },
      "execution_count": null,
      "outputs": [
        {
          "output_type": "stream",
          "name": "stderr",
          "text": [
            "[nltk_data] Downloading package wordnet to /root/nltk_data...\n",
            "[nltk_data] Downloading package omw-1.4 to /root/nltk_data...\n"
          ]
        }
      ]
    },
    {
      "cell_type": "code",
      "metadata": {
        "id": "54F86Ds3dsij"
      },
      "source": [
        "class SentimentData_1(Dataset):\n",
        "    \"\"\"\n",
        "    add augmentation\n",
        "    \"\"\"\n",
        "    def __init__(self, dataframe, tokenizer, max_len):\n",
        "        self.tokenizer = tokenizer\n",
        "        self.data = dataframe\n",
        "\n",
        "        self.text = self.data.Text_clean\n",
        "        self.targets = self.data.Label\n",
        "        self.max_len = max_len\n",
        "\n",
        "    def __len__(self):\n",
        "        return len(self.text)\n",
        "\n",
        "    def __getitem__(self, index):\n",
        "        text = random.choice(AUG).augment(self.text[index])\n",
        "        text = str(text)\n",
        "        text = \" \".join(text.split())\n",
        "\n",
        "        inputs = self.tokenizer.encode_plus(\n",
        "            text,\n",
        "            None,\n",
        "            add_special_tokens=True,\n",
        "            max_length=self.max_len,\n",
        "            pad_to_max_length=True,\n",
        "            return_token_type_ids=True\n",
        "        )\n",
        "        ids = inputs['input_ids']\n",
        "        mask = inputs['attention_mask']\n",
        "        token_type_ids = inputs[\"token_type_ids\"]\n",
        "\n",
        "\n",
        "        return {\n",
        "            'ids': torch.tensor(ids, dtype=torch.long),\n",
        "            'mask': torch.tensor(mask, dtype=torch.long),\n",
        "            'token_type_ids': torch.tensor(token_type_ids, dtype=torch.long),\n",
        "            'targets': torch.tensor(self.targets[index], dtype=torch.float)\n",
        "        }"
      ],
      "execution_count": null,
      "outputs": []
    },
    {
      "cell_type": "code",
      "source": [
        "def get_randpart(data, params, part = 0.5):\n",
        "    data, _ = train_test_split(data,\n",
        "                              stratify= data.Label,\n",
        "                              test_size=part)\n",
        "\n",
        "    data = data.reset_index(drop=True)\n",
        "\n",
        "    data_set =  SentimentData_1(data, tokenizer, MAX_LEN)\n",
        "    data_loader = DataLoader(data_set, **params)\n",
        "    return data_loader"
      ],
      "metadata": {
        "id": "nv-xtPQG2ApG"
      },
      "execution_count": null,
      "outputs": []
    },
    {
      "cell_type": "code",
      "source": [
        "from sklearn.model_selection import train_test_split\n",
        "SEED = 200\n",
        "train_size = 0.8\n",
        "MAX_LEN = 126\n",
        "\n",
        "train_data, valid_data = train_test_split(new_df,\n",
        "                                          stratify= new_df.Label,\n",
        "                                          test_size=0.2,\n",
        "                                          random_state=SEED)"
      ],
      "metadata": {
        "id": "CyUsRpC13v2Y"
      },
      "execution_count": null,
      "outputs": []
    },
    {
      "cell_type": "code",
      "metadata": {
        "trusted": true,
        "_uuid": "9fc198d13d7f33dc70588c3f22bc7b7c4f4ebb45",
        "id": "gCR1e4gDeCYr"
      },
      "source": [
        "TRAIN_BATCH_SIZE = 32\n",
        "VALID_BATCH_SIZE = 16\n",
        "\n",
        "train_params = {'batch_size': TRAIN_BATCH_SIZE,\n",
        "                'shuffle': True,\n",
        "                'num_workers': 0\n",
        "                }\n",
        "\n",
        "valid_params = {'batch_size': VALID_BATCH_SIZE,\n",
        "                'shuffle': True,\n",
        "                'num_workers': 0\n",
        "                }\n",
        "\n",
        "training_loader = get_randpart(data = train_data, params = train_params)\n",
        "valid_loader =  get_randpart(data = valid_data, params =  valid_params)"
      ],
      "execution_count": null,
      "outputs": []
    },
    {
      "cell_type": "code",
      "execution_count": null,
      "metadata": {
        "colab": {
          "base_uri": "https://localhost:8080/"
        },
        "outputId": "a5a678cb-1dd3-4078-952f-b8e49b328c18",
        "id": "Q8uIR2LbeoZD"
      },
      "outputs": [
        {
          "output_type": "stream",
          "name": "stderr",
          "text": [
            "[nltk_data] Downloading package averaged_perceptron_tagger to\n",
            "[nltk_data]     /root/nltk_data...\n",
            "[nltk_data]   Unzipping taggers/averaged_perceptron_tagger.zip.\n",
            "Truncation was not explicitly activated but `max_length` is provided a specific value, please use `truncation=True` to explicitly truncate examples to max length. Defaulting to 'longest_first' truncation strategy. If you encode pairs of sequences (GLUE-style) with the tokenizer you can select this strategy more precisely by providing a specific strategy to `truncation`.\n"
          ]
        }
      ],
      "source": [
        "dataiter = iter(training_loader)\n",
        "sample = next(dataiter)"
      ]
    },
    {
      "cell_type": "code",
      "execution_count": null,
      "metadata": {
        "colab": {
          "base_uri": "https://localhost:8080/"
        },
        "outputId": "52f959dc-2b49-4205-df18-27cdd6f4ab6a",
        "id": "vOxn0lJgeoZY"
      },
      "outputs": [
        {
          "output_type": "stream",
          "name": "stdout",
          "text": [
            "Sample ids input size torch.Size([32, 126])\n",
            "Sample mask input: \n",
            " torch.Size([32, 126])\n",
            "Sample token_type_ids input: \n",
            " torch.Size([32, 126])\n",
            "Sample targets input: \n",
            " torch.Size([32])\n",
            "\n",
            "Sample ids input size tensor([[    0, 48759, 13841,  ...,     1,     1,     1],\n",
            "        [    0, 48759, 42390,  ...,     1,     1,     1],\n",
            "        [    0, 48759, 37818,  ...,     1,     1,     1],\n",
            "        ...,\n",
            "        [    0, 48759,  3762,  ...,     1,     1,     1],\n",
            "        [    0, 48759, 16431,  ...,     1,     1,     1],\n",
            "        [    0, 48759,  3972,  ...,     1,     1,     1]])\n",
            "Sample label: \n",
            " tensor([0., 1., 1., 0., 4., 0., 2., 4., 0., 4., 3., 0., 3., 3., 1., 0., 0., 3.,\n",
            "        2., 1., 2., 4., 0., 0., 1., 0., 1., 4., 1., 4., 4., 4.])\n"
          ]
        }
      ],
      "source": [
        "print('Sample ids input size', sample['ids'].size())\n",
        "print('Sample mask input: \\n', sample['mask'].size())\n",
        "print('Sample token_type_ids input: \\n', sample['token_type_ids'].size())\n",
        "print('Sample targets input: \\n', sample['targets'].size())\n",
        "print('\\nSample ids input size', sample['ids'])\n",
        "print('Sample label: \\n', sample['targets'])"
      ]
    },
    {
      "cell_type": "code",
      "execution_count": null,
      "metadata": {
        "id": "o1aRFpI5k5Tn"
      },
      "outputs": [],
      "source": [
        "device = torch.device('cuda' if torch.cuda.is_available() else 'cpu')\n",
        "LR_RATE = 0.0009\n",
        "optimizer = optim.SGD(model.parameters(), lr=LR_RATE)\n",
        "\n",
        "lr_scheduler = optim.lr_scheduler.CyclicLR(optimizer, base_lr=LR_RATE, max_lr=LR_RATE*3,\n",
        "                                           step_size_up=5,mode=\"exp_range\",gamma=0.85)"
      ]
    },
    {
      "cell_type": "code",
      "source": [
        "# Calculate class frequencies\n",
        "class_frequencies = main_ds.Label.value_counts().sort_index()\n",
        "\n",
        "# Calculate class weights inversely proportional to class frequencies\n",
        "total_samples = len(main_ds)\n",
        "class_weights = total_samples / (len(class_frequencies) * class_frequencies)\n",
        "\n",
        "# Convert class weights to a PyTorch tensor\n",
        "class_weights_tensor = torch.tensor(class_weights.values, dtype=torch.float)"
      ],
      "metadata": {
        "id": "l4TTbPaCk5Tp"
      },
      "execution_count": null,
      "outputs": []
    },
    {
      "cell_type": "code",
      "execution_count": null,
      "metadata": {
        "id": "6JU0Rqcdk5Tq"
      },
      "outputs": [],
      "source": [
        "criterion = nn.CrossEntropyLoss(weight=class_weights_tensor)\n",
        "\n",
        "model = model.to(device)\n",
        "criterion = criterion.to(device)"
      ]
    },
    {
      "cell_type": "code",
      "source": [
        "N_EPOCHS = 50\n",
        "EPS = 0.85\n",
        "\n",
        "\n",
        "JDUN_TRAIN = 1\n",
        "JDUN_END = 5\n",
        "\n",
        "try:\n",
        "  if best_valid_loss and best_valid_acc:\n",
        "    pass\n",
        "except:\n",
        "    best_valid_loss = float('inf')\n",
        "    best_valid_acc = 0.\n",
        "\n",
        "hist_train_loss, hist_valid_loss, hist_train_acc, hist_valid_acc = [], [], [], []\n",
        "hist_lr = []\n",
        "\n",
        "save_dir = '/content/drive/Othercomputers/My_comp/Documents/МФТИ - Наука о данных/NLP_course/DZ/Text_classification/Roberta/'\n",
        "path_bestacc_model = save_dir + 'best_acc_aug_model.pt'\n",
        "path_bestloss_model = save_dir + 'best_loss_aug_model.pt'\n",
        "\n",
        "\n",
        "wait_train = 0\n",
        "wait2end = 0\n",
        "\n",
        "model_saved = True\n",
        "\n",
        "for epoch in range(N_EPOCHS):\n",
        "    start_time = time.time()\n",
        "\n",
        "    # take again rand half_part from train_data, valid_data\n",
        "    training_loader = get_randpart(data = train_data, params = train_params)\n",
        "    valid_loader =  get_randpart(data = valid_data, params =  valid_params)\n",
        "\n",
        "    train_loss, train_acc, ep_lr = train(model, training_loader, optimizer,\n",
        "                                         lr_scheduler, criterion, f1_accuracy)\n",
        "    hist_train_loss.append(train_loss)\n",
        "    hist_train_acc.append(train_acc)\n",
        "\n",
        "    valid_loss, valid_acc = evaluate(model, valid_loader, criterion,\n",
        "                                     f1_accuracy)\n",
        "    hist_valid_loss.append(valid_loss)\n",
        "    hist_valid_acc.append(valid_acc)\n",
        "    hist_lr.append(ep_lr)\n",
        "\n",
        "    end_time = time.time()\n",
        "\n",
        "    epoch_mins, epoch_secs = epoch_time(start_time, end_time)\n",
        "\n",
        "    text_add = ''\n",
        "    if valid_loss < best_valid_loss:\n",
        "        best_valid_loss = valid_loss\n",
        "        torch.save(model.state_dict(), path_bestloss_model)\n",
        "\n",
        "        model_saved = True\n",
        "        text_add = ' - save best_loss_model'\n",
        "        wait2end = 0\n",
        "        wait_train = 0\n",
        "        k = 0\n",
        "\n",
        "    if valid_acc > best_valid_acc:\n",
        "        best_valid_acc = valid_acc\n",
        "        torch.save(model.state_dict(), path_bestacc_model)\n",
        "\n",
        "        model_saved = True\n",
        "        text_add += ' - save best_acc_model'\n",
        "        wait2end = 0\n",
        "        wait_train = 0\n",
        "        k = 1\n",
        "\n",
        "    else:\n",
        "        wait_train+=1\n",
        "\n",
        "\n",
        "    if wait_train > JDUN_TRAIN and model_saved:\n",
        "       if k == 0:\n",
        "         model.load_state_dict(torch.load(path_bestloss_model))\n",
        "         text_add = ' - load best_loss_model'\n",
        "         k = 1\n",
        "       elif k == 1:\n",
        "         model.load_state_dict(torch.load(path_bestacc_model))\n",
        "         text_add = ' - load best_acc_model'\n",
        "         k = 0\n",
        "\n",
        "       LR_RATE *= EPS\n",
        "       lr_scheduler = optim.lr_scheduler.CyclicLR(optimizer,\n",
        "                                                  base_lr=LR_RATE,\n",
        "                                                  max_lr=LR_RATE*3,\n",
        "                                                  step_size_up = 3,\n",
        "                                                  mode=\"exp_range\",\n",
        "                                                  gamma=0.85)\n",
        "       wait_train = 0\n",
        "       wait2end+=1\n",
        "\n",
        "    print(f'Epoch: {epoch+1:02} | with lr: {ep_lr:.9f} | Epoch Time: {epoch_mins}m {epoch_secs}s')\n",
        "    print(f'\\tTrain_Loss: {train_loss:.3f} | Train_Acc: {train_acc*100:.2f}%  Val_Loss: {valid_loss:.3f} | Val_Acc: {valid_acc*100:.2f}%' + text_add)\n",
        "\n",
        "    if wait2end > JDUN_END:\n",
        "\n",
        "      if k == 0:\n",
        "        model.load_state_dict(torch.load(path_bestloss_model))\n",
        "        text_add = ' - load best_loss_model'\n",
        "\n",
        "      elif k == 1:\n",
        "        model.load_state_dict(torch.load(path_bestacc_model))\n",
        "        text_add = ' - load best_acc_model'\n",
        "\n",
        "      print('Stop train, do not best fitness'+ text_add)\n",
        "\n",
        "      break"
      ],
      "metadata": {
        "colab": {
          "base_uri": "https://localhost:8080/"
        },
        "outputId": "b22d8190-bf61-42bd-98d7-5eaf96e0b7fe",
        "id": "IDRSIBsARbDI"
      },
      "execution_count": null,
      "outputs": [
        {
          "output_type": "stream",
          "name": "stdout",
          "text": []
        },
        {
          "output_type": "stream",
          "name": "stderr",
          "text": [
            "258it [00:40,  6.38it/s]\n"
          ]
        },
        {
          "output_type": "stream",
          "name": "stdout",
          "text": [
            "Epoch: 01 | with lr: 0.000900000 | Epoch Time: 12m 54s\n",
            "\tTrain_Loss: 0.407 | Train_Acc: 85.62%  Val_Loss: 0.512 | Val_Acc: 75.08%\n"
          ]
        },
        {
          "output_type": "stream",
          "name": "stderr",
          "text": [
            "258it [00:39,  6.57it/s]\n"
          ]
        },
        {
          "output_type": "stream",
          "name": "stdout",
          "text": [
            "Epoch: 02 | with lr: 0.000900000 | Epoch Time: 12m 36s\n",
            "\tTrain_Loss: 0.391 | Train_Acc: 86.02%  Val_Loss: 0.420 | Val_Acc: 81.21% - save best_acc_model\n"
          ]
        },
        {
          "output_type": "stream",
          "name": "stderr",
          "text": [
            "258it [00:39,  6.47it/s]\n"
          ]
        },
        {
          "output_type": "stream",
          "name": "stdout",
          "text": [
            "Epoch: 03 | with lr: 0.000900000 | Epoch Time: 12m 45s\n",
            "\tTrain_Loss: 0.365 | Train_Acc: 86.70%  Val_Loss: 0.401 | Val_Acc: 81.32% - save best_loss_model - save best_acc_model\n"
          ]
        },
        {
          "output_type": "stream",
          "name": "stderr",
          "text": [
            "258it [00:38,  6.66it/s]\n"
          ]
        },
        {
          "output_type": "stream",
          "name": "stdout",
          "text": [
            "Epoch: 04 | with lr: 0.000900000 | Epoch Time: 12m 46s\n",
            "\tTrain_Loss: 0.372 | Train_Acc: 86.97%  Val_Loss: 0.406 | Val_Acc: 81.05%\n"
          ]
        },
        {
          "output_type": "stream",
          "name": "stderr",
          "text": [
            "258it [00:39,  6.47it/s]\n"
          ]
        },
        {
          "output_type": "stream",
          "name": "stdout",
          "text": [
            "Epoch: 05 | with lr: 0.000900000 | Epoch Time: 12m 48s\n",
            "\tTrain_Loss: 0.355 | Train_Acc: 87.44%  Val_Loss: 0.363 | Val_Acc: 82.70% - save best_loss_model - save best_acc_model\n"
          ]
        },
        {
          "output_type": "stream",
          "name": "stderr",
          "text": [
            "258it [00:39,  6.53it/s]\n"
          ]
        },
        {
          "output_type": "stream",
          "name": "stdout",
          "text": [
            "Epoch: 06 | with lr: 0.000900000 | Epoch Time: 12m 58s\n",
            "\tTrain_Loss: 0.335 | Train_Acc: 88.24%  Val_Loss: 0.406 | Val_Acc: 81.82%\n"
          ]
        },
        {
          "output_type": "stream",
          "name": "stderr",
          "text": [
            "258it [00:39,  6.48it/s]\n"
          ]
        },
        {
          "output_type": "stream",
          "name": "stdout",
          "text": [
            "Epoch: 07 | with lr: 0.000900000 | Epoch Time: 12m 59s\n",
            "\tTrain_Loss: 0.336 | Train_Acc: 88.41%  Val_Loss: 0.481 | Val_Acc: 77.48% - load best_acc_model\n"
          ]
        },
        {
          "output_type": "stream",
          "name": "stderr",
          "text": [
            "258it [00:40,  6.44it/s]\n"
          ]
        },
        {
          "output_type": "stream",
          "name": "stdout",
          "text": [
            "Epoch: 08 | with lr: 0.000765000 | Epoch Time: 12m 59s\n",
            "\tTrain_Loss: 0.337 | Train_Acc: 88.03%  Val_Loss: 0.395 | Val_Acc: 81.54%\n"
          ]
        },
        {
          "output_type": "stream",
          "name": "stderr",
          "text": [
            "258it [00:39,  6.47it/s]\n"
          ]
        },
        {
          "output_type": "stream",
          "name": "stdout",
          "text": [
            "Epoch: 09 | with lr: 0.000765000 | Epoch Time: 13m 2s\n",
            "\tTrain_Loss: 0.342 | Train_Acc: 87.86%  Val_Loss: 0.358 | Val_Acc: 82.07% - save best_loss_model\n"
          ]
        },
        {
          "output_type": "stream",
          "name": "stderr",
          "text": [
            "258it [00:39,  6.53it/s]\n"
          ]
        },
        {
          "output_type": "stream",
          "name": "stdout",
          "text": [
            "Epoch: 10 | with lr: 0.000765000 | Epoch Time: 13m 4s\n",
            "\tTrain_Loss: 0.325 | Train_Acc: 88.63%  Val_Loss: 0.354 | Val_Acc: 83.44% - save best_loss_model - save best_acc_model\n"
          ]
        },
        {
          "output_type": "stream",
          "name": "stderr",
          "text": [
            "258it [00:39,  6.47it/s]\n"
          ]
        },
        {
          "output_type": "stream",
          "name": "stdout",
          "text": [
            "Epoch: 11 | with lr: 0.000765000 | Epoch Time: 13m 5s\n",
            "\tTrain_Loss: 0.318 | Train_Acc: 88.73%  Val_Loss: 0.417 | Val_Acc: 81.72%\n"
          ]
        },
        {
          "output_type": "stream",
          "name": "stderr",
          "text": [
            "258it [00:39,  6.55it/s]\n"
          ]
        },
        {
          "output_type": "stream",
          "name": "stdout",
          "text": [
            "Epoch: 12 | with lr: 0.000765000 | Epoch Time: 13m 3s\n",
            "\tTrain_Loss: 0.308 | Train_Acc: 89.35%  Val_Loss: 0.431 | Val_Acc: 79.68% - load best_acc_model\n"
          ]
        },
        {
          "output_type": "stream",
          "name": "stderr",
          "text": [
            "258it [00:40,  6.36it/s]\n"
          ]
        },
        {
          "output_type": "stream",
          "name": "stdout",
          "text": [
            "Epoch: 13 | with lr: 0.000650250 | Epoch Time: 13m 10s\n",
            "\tTrain_Loss: 0.320 | Train_Acc: 88.61%  Val_Loss: 0.425 | Val_Acc: 80.45%\n"
          ]
        },
        {
          "output_type": "stream",
          "name": "stderr",
          "text": [
            "258it [00:39,  6.56it/s]\n"
          ]
        },
        {
          "output_type": "stream",
          "name": "stdout",
          "text": [
            "Epoch: 14 | with lr: 0.000650250 | Epoch Time: 13m 10s\n",
            "\tTrain_Loss: 0.306 | Train_Acc: 89.36%  Val_Loss: 0.416 | Val_Acc: 80.71% - load best_loss_model\n"
          ]
        },
        {
          "output_type": "stream",
          "name": "stderr",
          "text": [
            "258it [00:39,  6.54it/s]\n"
          ]
        },
        {
          "output_type": "stream",
          "name": "stdout",
          "text": [
            "Epoch: 15 | with lr: 0.000552712 | Epoch Time: 13m 13s\n",
            "\tTrain_Loss: 0.300 | Train_Acc: 89.15%  Val_Loss: 0.390 | Val_Acc: 81.67%\n"
          ]
        },
        {
          "output_type": "stream",
          "name": "stderr",
          "text": [
            "258it [00:39,  6.46it/s]\n"
          ]
        },
        {
          "output_type": "stream",
          "name": "stdout",
          "text": [
            "Epoch: 16 | with lr: 0.000552712 | Epoch Time: 13m 17s\n",
            "\tTrain_Loss: 0.298 | Train_Acc: 89.41%  Val_Loss: 0.426 | Val_Acc: 80.30% - load best_acc_model\n"
          ]
        },
        {
          "output_type": "stream",
          "name": "stderr",
          "text": [
            "258it [00:39,  6.51it/s]\n"
          ]
        },
        {
          "output_type": "stream",
          "name": "stdout",
          "text": [
            "Epoch: 17 | with lr: 0.000469806 | Epoch Time: 13m 17s\n",
            "\tTrain_Loss: 0.313 | Train_Acc: 88.70%  Val_Loss: 0.394 | Val_Acc: 81.10%\n"
          ]
        },
        {
          "output_type": "stream",
          "name": "stderr",
          "text": [
            "258it [00:39,  6.57it/s]\n"
          ]
        },
        {
          "output_type": "stream",
          "name": "stdout",
          "text": [
            "Epoch: 18 | with lr: 0.000469806 | Epoch Time: 13m 16s\n",
            "\tTrain_Loss: 0.288 | Train_Acc: 89.87%  Val_Loss: 0.430 | Val_Acc: 79.80% - load best_loss_model\n"
          ]
        },
        {
          "output_type": "stream",
          "name": "stderr",
          "text": [
            "258it [00:39,  6.57it/s]\n"
          ]
        },
        {
          "output_type": "stream",
          "name": "stdout",
          "text": [
            "Epoch: 19 | with lr: 0.000399335 | Epoch Time: 13m 15s\n",
            "\tTrain_Loss: 0.299 | Train_Acc: 89.77%  Val_Loss: 0.381 | Val_Acc: 82.27%\n"
          ]
        },
        {
          "output_type": "stream",
          "name": "stderr",
          "text": [
            "258it [00:39,  6.54it/s]\n"
          ]
        },
        {
          "output_type": "stream",
          "name": "stdout",
          "text": [
            "Epoch: 20 | with lr: 0.000399335 | Epoch Time: 13m 17s\n",
            "\tTrain_Loss: 0.290 | Train_Acc: 90.13%  Val_Loss: 0.379 | Val_Acc: 81.83% - load best_acc_model\n",
            " 23%|██▎       | 117/515 [02:53<10:03,  1.52s/it, stats=train_loss: 0.2948]"
          ]
        }
      ]
    },
    {
      "cell_type": "markdown",
      "source": [
        "К сожалению гугл забанил!!"
      ],
      "metadata": {
        "id": "6JEVCXTLc4vP"
      }
    },
    {
      "cell_type": "markdown",
      "source": [
        "# Run with Augmentation and lr_wise\n",
        "https://stackoverflow.com/questions/51801648/how-to-apply-layer-wise-learning-rate-in-pytorch"
      ],
      "metadata": {
        "id": "u_I5IaL5c0Bl"
      }
    },
    {
      "cell_type": "code",
      "source": [
        "l = [module for module in model.modules() if not isinstance(module, nn.Sequential)]\n",
        "l"
      ],
      "metadata": {
        "colab": {
          "base_uri": "https://localhost:8080/"
        },
        "id": "qa6PUr3sgEqY",
        "outputId": "ef1e4fad-e58f-4b5b-822a-bec032161200"
      },
      "execution_count": null,
      "outputs": [
        {
          "output_type": "execute_result",
          "data": {
            "text/plain": [
              "[Roberta_Class(\n",
              "   (roberta): RobertaModel(\n",
              "     (embeddings): RobertaEmbeddings(\n",
              "       (word_embeddings): Embedding(50265, 768, padding_idx=1)\n",
              "       (position_embeddings): Embedding(514, 768, padding_idx=1)\n",
              "       (token_type_embeddings): Embedding(1, 768)\n",
              "       (LayerNorm): LayerNorm((768,), eps=1e-05, elementwise_affine=True)\n",
              "       (dropout): Dropout(p=0.1, inplace=False)\n",
              "     )\n",
              "     (encoder): RobertaEncoder(\n",
              "       (layer): ModuleList(\n",
              "         (0-11): 12 x RobertaLayer(\n",
              "           (attention): RobertaAttention(\n",
              "             (self): RobertaSelfAttention(\n",
              "               (query): Linear(in_features=768, out_features=768, bias=True)\n",
              "               (key): Linear(in_features=768, out_features=768, bias=True)\n",
              "               (value): Linear(in_features=768, out_features=768, bias=True)\n",
              "               (dropout): Dropout(p=0.1, inplace=False)\n",
              "             )\n",
              "             (output): RobertaSelfOutput(\n",
              "               (dense): Linear(in_features=768, out_features=768, bias=True)\n",
              "               (LayerNorm): LayerNorm((768,), eps=1e-05, elementwise_affine=True)\n",
              "               (dropout): Dropout(p=0.1, inplace=False)\n",
              "             )\n",
              "           )\n",
              "           (intermediate): RobertaIntermediate(\n",
              "             (dense): Linear(in_features=768, out_features=3072, bias=True)\n",
              "             (intermediate_act_fn): GELUActivation()\n",
              "           )\n",
              "           (output): RobertaOutput(\n",
              "             (dense): Linear(in_features=3072, out_features=768, bias=True)\n",
              "             (LayerNorm): LayerNorm((768,), eps=1e-05, elementwise_affine=True)\n",
              "             (dropout): Dropout(p=0.1, inplace=False)\n",
              "           )\n",
              "         )\n",
              "       )\n",
              "     )\n",
              "     (pooler): RobertaPooler(\n",
              "       (dense): Linear(in_features=768, out_features=768, bias=True)\n",
              "       (activation): Tanh()\n",
              "     )\n",
              "   )\n",
              "   (pre_classifier): Linear(in_features=2304, out_features=128, bias=True)\n",
              "   (dropout): Dropout(p=0.3, inplace=False)\n",
              "   (classifier): Linear(in_features=128, out_features=5, bias=True)\n",
              " ),\n",
              " RobertaModel(\n",
              "   (embeddings): RobertaEmbeddings(\n",
              "     (word_embeddings): Embedding(50265, 768, padding_idx=1)\n",
              "     (position_embeddings): Embedding(514, 768, padding_idx=1)\n",
              "     (token_type_embeddings): Embedding(1, 768)\n",
              "     (LayerNorm): LayerNorm((768,), eps=1e-05, elementwise_affine=True)\n",
              "     (dropout): Dropout(p=0.1, inplace=False)\n",
              "   )\n",
              "   (encoder): RobertaEncoder(\n",
              "     (layer): ModuleList(\n",
              "       (0-11): 12 x RobertaLayer(\n",
              "         (attention): RobertaAttention(\n",
              "           (self): RobertaSelfAttention(\n",
              "             (query): Linear(in_features=768, out_features=768, bias=True)\n",
              "             (key): Linear(in_features=768, out_features=768, bias=True)\n",
              "             (value): Linear(in_features=768, out_features=768, bias=True)\n",
              "             (dropout): Dropout(p=0.1, inplace=False)\n",
              "           )\n",
              "           (output): RobertaSelfOutput(\n",
              "             (dense): Linear(in_features=768, out_features=768, bias=True)\n",
              "             (LayerNorm): LayerNorm((768,), eps=1e-05, elementwise_affine=True)\n",
              "             (dropout): Dropout(p=0.1, inplace=False)\n",
              "           )\n",
              "         )\n",
              "         (intermediate): RobertaIntermediate(\n",
              "           (dense): Linear(in_features=768, out_features=3072, bias=True)\n",
              "           (intermediate_act_fn): GELUActivation()\n",
              "         )\n",
              "         (output): RobertaOutput(\n",
              "           (dense): Linear(in_features=3072, out_features=768, bias=True)\n",
              "           (LayerNorm): LayerNorm((768,), eps=1e-05, elementwise_affine=True)\n",
              "           (dropout): Dropout(p=0.1, inplace=False)\n",
              "         )\n",
              "       )\n",
              "     )\n",
              "   )\n",
              "   (pooler): RobertaPooler(\n",
              "     (dense): Linear(in_features=768, out_features=768, bias=True)\n",
              "     (activation): Tanh()\n",
              "   )\n",
              " ),\n",
              " RobertaEmbeddings(\n",
              "   (word_embeddings): Embedding(50265, 768, padding_idx=1)\n",
              "   (position_embeddings): Embedding(514, 768, padding_idx=1)\n",
              "   (token_type_embeddings): Embedding(1, 768)\n",
              "   (LayerNorm): LayerNorm((768,), eps=1e-05, elementwise_affine=True)\n",
              "   (dropout): Dropout(p=0.1, inplace=False)\n",
              " ),\n",
              " Embedding(50265, 768, padding_idx=1),\n",
              " Embedding(514, 768, padding_idx=1),\n",
              " Embedding(1, 768),\n",
              " LayerNorm((768,), eps=1e-05, elementwise_affine=True),\n",
              " Dropout(p=0.1, inplace=False),\n",
              " RobertaEncoder(\n",
              "   (layer): ModuleList(\n",
              "     (0-11): 12 x RobertaLayer(\n",
              "       (attention): RobertaAttention(\n",
              "         (self): RobertaSelfAttention(\n",
              "           (query): Linear(in_features=768, out_features=768, bias=True)\n",
              "           (key): Linear(in_features=768, out_features=768, bias=True)\n",
              "           (value): Linear(in_features=768, out_features=768, bias=True)\n",
              "           (dropout): Dropout(p=0.1, inplace=False)\n",
              "         )\n",
              "         (output): RobertaSelfOutput(\n",
              "           (dense): Linear(in_features=768, out_features=768, bias=True)\n",
              "           (LayerNorm): LayerNorm((768,), eps=1e-05, elementwise_affine=True)\n",
              "           (dropout): Dropout(p=0.1, inplace=False)\n",
              "         )\n",
              "       )\n",
              "       (intermediate): RobertaIntermediate(\n",
              "         (dense): Linear(in_features=768, out_features=3072, bias=True)\n",
              "         (intermediate_act_fn): GELUActivation()\n",
              "       )\n",
              "       (output): RobertaOutput(\n",
              "         (dense): Linear(in_features=3072, out_features=768, bias=True)\n",
              "         (LayerNorm): LayerNorm((768,), eps=1e-05, elementwise_affine=True)\n",
              "         (dropout): Dropout(p=0.1, inplace=False)\n",
              "       )\n",
              "     )\n",
              "   )\n",
              " ),\n",
              " ModuleList(\n",
              "   (0-11): 12 x RobertaLayer(\n",
              "     (attention): RobertaAttention(\n",
              "       (self): RobertaSelfAttention(\n",
              "         (query): Linear(in_features=768, out_features=768, bias=True)\n",
              "         (key): Linear(in_features=768, out_features=768, bias=True)\n",
              "         (value): Linear(in_features=768, out_features=768, bias=True)\n",
              "         (dropout): Dropout(p=0.1, inplace=False)\n",
              "       )\n",
              "       (output): RobertaSelfOutput(\n",
              "         (dense): Linear(in_features=768, out_features=768, bias=True)\n",
              "         (LayerNorm): LayerNorm((768,), eps=1e-05, elementwise_affine=True)\n",
              "         (dropout): Dropout(p=0.1, inplace=False)\n",
              "       )\n",
              "     )\n",
              "     (intermediate): RobertaIntermediate(\n",
              "       (dense): Linear(in_features=768, out_features=3072, bias=True)\n",
              "       (intermediate_act_fn): GELUActivation()\n",
              "     )\n",
              "     (output): RobertaOutput(\n",
              "       (dense): Linear(in_features=3072, out_features=768, bias=True)\n",
              "       (LayerNorm): LayerNorm((768,), eps=1e-05, elementwise_affine=True)\n",
              "       (dropout): Dropout(p=0.1, inplace=False)\n",
              "     )\n",
              "   )\n",
              " ),\n",
              " RobertaLayer(\n",
              "   (attention): RobertaAttention(\n",
              "     (self): RobertaSelfAttention(\n",
              "       (query): Linear(in_features=768, out_features=768, bias=True)\n",
              "       (key): Linear(in_features=768, out_features=768, bias=True)\n",
              "       (value): Linear(in_features=768, out_features=768, bias=True)\n",
              "       (dropout): Dropout(p=0.1, inplace=False)\n",
              "     )\n",
              "     (output): RobertaSelfOutput(\n",
              "       (dense): Linear(in_features=768, out_features=768, bias=True)\n",
              "       (LayerNorm): LayerNorm((768,), eps=1e-05, elementwise_affine=True)\n",
              "       (dropout): Dropout(p=0.1, inplace=False)\n",
              "     )\n",
              "   )\n",
              "   (intermediate): RobertaIntermediate(\n",
              "     (dense): Linear(in_features=768, out_features=3072, bias=True)\n",
              "     (intermediate_act_fn): GELUActivation()\n",
              "   )\n",
              "   (output): RobertaOutput(\n",
              "     (dense): Linear(in_features=3072, out_features=768, bias=True)\n",
              "     (LayerNorm): LayerNorm((768,), eps=1e-05, elementwise_affine=True)\n",
              "     (dropout): Dropout(p=0.1, inplace=False)\n",
              "   )\n",
              " ),\n",
              " RobertaAttention(\n",
              "   (self): RobertaSelfAttention(\n",
              "     (query): Linear(in_features=768, out_features=768, bias=True)\n",
              "     (key): Linear(in_features=768, out_features=768, bias=True)\n",
              "     (value): Linear(in_features=768, out_features=768, bias=True)\n",
              "     (dropout): Dropout(p=0.1, inplace=False)\n",
              "   )\n",
              "   (output): RobertaSelfOutput(\n",
              "     (dense): Linear(in_features=768, out_features=768, bias=True)\n",
              "     (LayerNorm): LayerNorm((768,), eps=1e-05, elementwise_affine=True)\n",
              "     (dropout): Dropout(p=0.1, inplace=False)\n",
              "   )\n",
              " ),\n",
              " RobertaSelfAttention(\n",
              "   (query): Linear(in_features=768, out_features=768, bias=True)\n",
              "   (key): Linear(in_features=768, out_features=768, bias=True)\n",
              "   (value): Linear(in_features=768, out_features=768, bias=True)\n",
              "   (dropout): Dropout(p=0.1, inplace=False)\n",
              " ),\n",
              " Linear(in_features=768, out_features=768, bias=True),\n",
              " Linear(in_features=768, out_features=768, bias=True),\n",
              " Linear(in_features=768, out_features=768, bias=True),\n",
              " Dropout(p=0.1, inplace=False),\n",
              " RobertaSelfOutput(\n",
              "   (dense): Linear(in_features=768, out_features=768, bias=True)\n",
              "   (LayerNorm): LayerNorm((768,), eps=1e-05, elementwise_affine=True)\n",
              "   (dropout): Dropout(p=0.1, inplace=False)\n",
              " ),\n",
              " Linear(in_features=768, out_features=768, bias=True),\n",
              " LayerNorm((768,), eps=1e-05, elementwise_affine=True),\n",
              " Dropout(p=0.1, inplace=False),\n",
              " RobertaIntermediate(\n",
              "   (dense): Linear(in_features=768, out_features=3072, bias=True)\n",
              "   (intermediate_act_fn): GELUActivation()\n",
              " ),\n",
              " Linear(in_features=768, out_features=3072, bias=True),\n",
              " GELUActivation(),\n",
              " RobertaOutput(\n",
              "   (dense): Linear(in_features=3072, out_features=768, bias=True)\n",
              "   (LayerNorm): LayerNorm((768,), eps=1e-05, elementwise_affine=True)\n",
              "   (dropout): Dropout(p=0.1, inplace=False)\n",
              " ),\n",
              " Linear(in_features=3072, out_features=768, bias=True),\n",
              " LayerNorm((768,), eps=1e-05, elementwise_affine=True),\n",
              " Dropout(p=0.1, inplace=False),\n",
              " RobertaLayer(\n",
              "   (attention): RobertaAttention(\n",
              "     (self): RobertaSelfAttention(\n",
              "       (query): Linear(in_features=768, out_features=768, bias=True)\n",
              "       (key): Linear(in_features=768, out_features=768, bias=True)\n",
              "       (value): Linear(in_features=768, out_features=768, bias=True)\n",
              "       (dropout): Dropout(p=0.1, inplace=False)\n",
              "     )\n",
              "     (output): RobertaSelfOutput(\n",
              "       (dense): Linear(in_features=768, out_features=768, bias=True)\n",
              "       (LayerNorm): LayerNorm((768,), eps=1e-05, elementwise_affine=True)\n",
              "       (dropout): Dropout(p=0.1, inplace=False)\n",
              "     )\n",
              "   )\n",
              "   (intermediate): RobertaIntermediate(\n",
              "     (dense): Linear(in_features=768, out_features=3072, bias=True)\n",
              "     (intermediate_act_fn): GELUActivation()\n",
              "   )\n",
              "   (output): RobertaOutput(\n",
              "     (dense): Linear(in_features=3072, out_features=768, bias=True)\n",
              "     (LayerNorm): LayerNorm((768,), eps=1e-05, elementwise_affine=True)\n",
              "     (dropout): Dropout(p=0.1, inplace=False)\n",
              "   )\n",
              " ),\n",
              " RobertaAttention(\n",
              "   (self): RobertaSelfAttention(\n",
              "     (query): Linear(in_features=768, out_features=768, bias=True)\n",
              "     (key): Linear(in_features=768, out_features=768, bias=True)\n",
              "     (value): Linear(in_features=768, out_features=768, bias=True)\n",
              "     (dropout): Dropout(p=0.1, inplace=False)\n",
              "   )\n",
              "   (output): RobertaSelfOutput(\n",
              "     (dense): Linear(in_features=768, out_features=768, bias=True)\n",
              "     (LayerNorm): LayerNorm((768,), eps=1e-05, elementwise_affine=True)\n",
              "     (dropout): Dropout(p=0.1, inplace=False)\n",
              "   )\n",
              " ),\n",
              " RobertaSelfAttention(\n",
              "   (query): Linear(in_features=768, out_features=768, bias=True)\n",
              "   (key): Linear(in_features=768, out_features=768, bias=True)\n",
              "   (value): Linear(in_features=768, out_features=768, bias=True)\n",
              "   (dropout): Dropout(p=0.1, inplace=False)\n",
              " ),\n",
              " Linear(in_features=768, out_features=768, bias=True),\n",
              " Linear(in_features=768, out_features=768, bias=True),\n",
              " Linear(in_features=768, out_features=768, bias=True),\n",
              " Dropout(p=0.1, inplace=False),\n",
              " RobertaSelfOutput(\n",
              "   (dense): Linear(in_features=768, out_features=768, bias=True)\n",
              "   (LayerNorm): LayerNorm((768,), eps=1e-05, elementwise_affine=True)\n",
              "   (dropout): Dropout(p=0.1, inplace=False)\n",
              " ),\n",
              " Linear(in_features=768, out_features=768, bias=True),\n",
              " LayerNorm((768,), eps=1e-05, elementwise_affine=True),\n",
              " Dropout(p=0.1, inplace=False),\n",
              " RobertaIntermediate(\n",
              "   (dense): Linear(in_features=768, out_features=3072, bias=True)\n",
              "   (intermediate_act_fn): GELUActivation()\n",
              " ),\n",
              " Linear(in_features=768, out_features=3072, bias=True),\n",
              " GELUActivation(),\n",
              " RobertaOutput(\n",
              "   (dense): Linear(in_features=3072, out_features=768, bias=True)\n",
              "   (LayerNorm): LayerNorm((768,), eps=1e-05, elementwise_affine=True)\n",
              "   (dropout): Dropout(p=0.1, inplace=False)\n",
              " ),\n",
              " Linear(in_features=3072, out_features=768, bias=True),\n",
              " LayerNorm((768,), eps=1e-05, elementwise_affine=True),\n",
              " Dropout(p=0.1, inplace=False),\n",
              " RobertaLayer(\n",
              "   (attention): RobertaAttention(\n",
              "     (self): RobertaSelfAttention(\n",
              "       (query): Linear(in_features=768, out_features=768, bias=True)\n",
              "       (key): Linear(in_features=768, out_features=768, bias=True)\n",
              "       (value): Linear(in_features=768, out_features=768, bias=True)\n",
              "       (dropout): Dropout(p=0.1, inplace=False)\n",
              "     )\n",
              "     (output): RobertaSelfOutput(\n",
              "       (dense): Linear(in_features=768, out_features=768, bias=True)\n",
              "       (LayerNorm): LayerNorm((768,), eps=1e-05, elementwise_affine=True)\n",
              "       (dropout): Dropout(p=0.1, inplace=False)\n",
              "     )\n",
              "   )\n",
              "   (intermediate): RobertaIntermediate(\n",
              "     (dense): Linear(in_features=768, out_features=3072, bias=True)\n",
              "     (intermediate_act_fn): GELUActivation()\n",
              "   )\n",
              "   (output): RobertaOutput(\n",
              "     (dense): Linear(in_features=3072, out_features=768, bias=True)\n",
              "     (LayerNorm): LayerNorm((768,), eps=1e-05, elementwise_affine=True)\n",
              "     (dropout): Dropout(p=0.1, inplace=False)\n",
              "   )\n",
              " ),\n",
              " RobertaAttention(\n",
              "   (self): RobertaSelfAttention(\n",
              "     (query): Linear(in_features=768, out_features=768, bias=True)\n",
              "     (key): Linear(in_features=768, out_features=768, bias=True)\n",
              "     (value): Linear(in_features=768, out_features=768, bias=True)\n",
              "     (dropout): Dropout(p=0.1, inplace=False)\n",
              "   )\n",
              "   (output): RobertaSelfOutput(\n",
              "     (dense): Linear(in_features=768, out_features=768, bias=True)\n",
              "     (LayerNorm): LayerNorm((768,), eps=1e-05, elementwise_affine=True)\n",
              "     (dropout): Dropout(p=0.1, inplace=False)\n",
              "   )\n",
              " ),\n",
              " RobertaSelfAttention(\n",
              "   (query): Linear(in_features=768, out_features=768, bias=True)\n",
              "   (key): Linear(in_features=768, out_features=768, bias=True)\n",
              "   (value): Linear(in_features=768, out_features=768, bias=True)\n",
              "   (dropout): Dropout(p=0.1, inplace=False)\n",
              " ),\n",
              " Linear(in_features=768, out_features=768, bias=True),\n",
              " Linear(in_features=768, out_features=768, bias=True),\n",
              " Linear(in_features=768, out_features=768, bias=True),\n",
              " Dropout(p=0.1, inplace=False),\n",
              " RobertaSelfOutput(\n",
              "   (dense): Linear(in_features=768, out_features=768, bias=True)\n",
              "   (LayerNorm): LayerNorm((768,), eps=1e-05, elementwise_affine=True)\n",
              "   (dropout): Dropout(p=0.1, inplace=False)\n",
              " ),\n",
              " Linear(in_features=768, out_features=768, bias=True),\n",
              " LayerNorm((768,), eps=1e-05, elementwise_affine=True),\n",
              " Dropout(p=0.1, inplace=False),\n",
              " RobertaIntermediate(\n",
              "   (dense): Linear(in_features=768, out_features=3072, bias=True)\n",
              "   (intermediate_act_fn): GELUActivation()\n",
              " ),\n",
              " Linear(in_features=768, out_features=3072, bias=True),\n",
              " GELUActivation(),\n",
              " RobertaOutput(\n",
              "   (dense): Linear(in_features=3072, out_features=768, bias=True)\n",
              "   (LayerNorm): LayerNorm((768,), eps=1e-05, elementwise_affine=True)\n",
              "   (dropout): Dropout(p=0.1, inplace=False)\n",
              " ),\n",
              " Linear(in_features=3072, out_features=768, bias=True),\n",
              " LayerNorm((768,), eps=1e-05, elementwise_affine=True),\n",
              " Dropout(p=0.1, inplace=False),\n",
              " RobertaLayer(\n",
              "   (attention): RobertaAttention(\n",
              "     (self): RobertaSelfAttention(\n",
              "       (query): Linear(in_features=768, out_features=768, bias=True)\n",
              "       (key): Linear(in_features=768, out_features=768, bias=True)\n",
              "       (value): Linear(in_features=768, out_features=768, bias=True)\n",
              "       (dropout): Dropout(p=0.1, inplace=False)\n",
              "     )\n",
              "     (output): RobertaSelfOutput(\n",
              "       (dense): Linear(in_features=768, out_features=768, bias=True)\n",
              "       (LayerNorm): LayerNorm((768,), eps=1e-05, elementwise_affine=True)\n",
              "       (dropout): Dropout(p=0.1, inplace=False)\n",
              "     )\n",
              "   )\n",
              "   (intermediate): RobertaIntermediate(\n",
              "     (dense): Linear(in_features=768, out_features=3072, bias=True)\n",
              "     (intermediate_act_fn): GELUActivation()\n",
              "   )\n",
              "   (output): RobertaOutput(\n",
              "     (dense): Linear(in_features=3072, out_features=768, bias=True)\n",
              "     (LayerNorm): LayerNorm((768,), eps=1e-05, elementwise_affine=True)\n",
              "     (dropout): Dropout(p=0.1, inplace=False)\n",
              "   )\n",
              " ),\n",
              " RobertaAttention(\n",
              "   (self): RobertaSelfAttention(\n",
              "     (query): Linear(in_features=768, out_features=768, bias=True)\n",
              "     (key): Linear(in_features=768, out_features=768, bias=True)\n",
              "     (value): Linear(in_features=768, out_features=768, bias=True)\n",
              "     (dropout): Dropout(p=0.1, inplace=False)\n",
              "   )\n",
              "   (output): RobertaSelfOutput(\n",
              "     (dense): Linear(in_features=768, out_features=768, bias=True)\n",
              "     (LayerNorm): LayerNorm((768,), eps=1e-05, elementwise_affine=True)\n",
              "     (dropout): Dropout(p=0.1, inplace=False)\n",
              "   )\n",
              " ),\n",
              " RobertaSelfAttention(\n",
              "   (query): Linear(in_features=768, out_features=768, bias=True)\n",
              "   (key): Linear(in_features=768, out_features=768, bias=True)\n",
              "   (value): Linear(in_features=768, out_features=768, bias=True)\n",
              "   (dropout): Dropout(p=0.1, inplace=False)\n",
              " ),\n",
              " Linear(in_features=768, out_features=768, bias=True),\n",
              " Linear(in_features=768, out_features=768, bias=True),\n",
              " Linear(in_features=768, out_features=768, bias=True),\n",
              " Dropout(p=0.1, inplace=False),\n",
              " RobertaSelfOutput(\n",
              "   (dense): Linear(in_features=768, out_features=768, bias=True)\n",
              "   (LayerNorm): LayerNorm((768,), eps=1e-05, elementwise_affine=True)\n",
              "   (dropout): Dropout(p=0.1, inplace=False)\n",
              " ),\n",
              " Linear(in_features=768, out_features=768, bias=True),\n",
              " LayerNorm((768,), eps=1e-05, elementwise_affine=True),\n",
              " Dropout(p=0.1, inplace=False),\n",
              " RobertaIntermediate(\n",
              "   (dense): Linear(in_features=768, out_features=3072, bias=True)\n",
              "   (intermediate_act_fn): GELUActivation()\n",
              " ),\n",
              " Linear(in_features=768, out_features=3072, bias=True),\n",
              " GELUActivation(),\n",
              " RobertaOutput(\n",
              "   (dense): Linear(in_features=3072, out_features=768, bias=True)\n",
              "   (LayerNorm): LayerNorm((768,), eps=1e-05, elementwise_affine=True)\n",
              "   (dropout): Dropout(p=0.1, inplace=False)\n",
              " ),\n",
              " Linear(in_features=3072, out_features=768, bias=True),\n",
              " LayerNorm((768,), eps=1e-05, elementwise_affine=True),\n",
              " Dropout(p=0.1, inplace=False),\n",
              " RobertaLayer(\n",
              "   (attention): RobertaAttention(\n",
              "     (self): RobertaSelfAttention(\n",
              "       (query): Linear(in_features=768, out_features=768, bias=True)\n",
              "       (key): Linear(in_features=768, out_features=768, bias=True)\n",
              "       (value): Linear(in_features=768, out_features=768, bias=True)\n",
              "       (dropout): Dropout(p=0.1, inplace=False)\n",
              "     )\n",
              "     (output): RobertaSelfOutput(\n",
              "       (dense): Linear(in_features=768, out_features=768, bias=True)\n",
              "       (LayerNorm): LayerNorm((768,), eps=1e-05, elementwise_affine=True)\n",
              "       (dropout): Dropout(p=0.1, inplace=False)\n",
              "     )\n",
              "   )\n",
              "   (intermediate): RobertaIntermediate(\n",
              "     (dense): Linear(in_features=768, out_features=3072, bias=True)\n",
              "     (intermediate_act_fn): GELUActivation()\n",
              "   )\n",
              "   (output): RobertaOutput(\n",
              "     (dense): Linear(in_features=3072, out_features=768, bias=True)\n",
              "     (LayerNorm): LayerNorm((768,), eps=1e-05, elementwise_affine=True)\n",
              "     (dropout): Dropout(p=0.1, inplace=False)\n",
              "   )\n",
              " ),\n",
              " RobertaAttention(\n",
              "   (self): RobertaSelfAttention(\n",
              "     (query): Linear(in_features=768, out_features=768, bias=True)\n",
              "     (key): Linear(in_features=768, out_features=768, bias=True)\n",
              "     (value): Linear(in_features=768, out_features=768, bias=True)\n",
              "     (dropout): Dropout(p=0.1, inplace=False)\n",
              "   )\n",
              "   (output): RobertaSelfOutput(\n",
              "     (dense): Linear(in_features=768, out_features=768, bias=True)\n",
              "     (LayerNorm): LayerNorm((768,), eps=1e-05, elementwise_affine=True)\n",
              "     (dropout): Dropout(p=0.1, inplace=False)\n",
              "   )\n",
              " ),\n",
              " RobertaSelfAttention(\n",
              "   (query): Linear(in_features=768, out_features=768, bias=True)\n",
              "   (key): Linear(in_features=768, out_features=768, bias=True)\n",
              "   (value): Linear(in_features=768, out_features=768, bias=True)\n",
              "   (dropout): Dropout(p=0.1, inplace=False)\n",
              " ),\n",
              " Linear(in_features=768, out_features=768, bias=True),\n",
              " Linear(in_features=768, out_features=768, bias=True),\n",
              " Linear(in_features=768, out_features=768, bias=True),\n",
              " Dropout(p=0.1, inplace=False),\n",
              " RobertaSelfOutput(\n",
              "   (dense): Linear(in_features=768, out_features=768, bias=True)\n",
              "   (LayerNorm): LayerNorm((768,), eps=1e-05, elementwise_affine=True)\n",
              "   (dropout): Dropout(p=0.1, inplace=False)\n",
              " ),\n",
              " Linear(in_features=768, out_features=768, bias=True),\n",
              " LayerNorm((768,), eps=1e-05, elementwise_affine=True),\n",
              " Dropout(p=0.1, inplace=False),\n",
              " RobertaIntermediate(\n",
              "   (dense): Linear(in_features=768, out_features=3072, bias=True)\n",
              "   (intermediate_act_fn): GELUActivation()\n",
              " ),\n",
              " Linear(in_features=768, out_features=3072, bias=True),\n",
              " GELUActivation(),\n",
              " RobertaOutput(\n",
              "   (dense): Linear(in_features=3072, out_features=768, bias=True)\n",
              "   (LayerNorm): LayerNorm((768,), eps=1e-05, elementwise_affine=True)\n",
              "   (dropout): Dropout(p=0.1, inplace=False)\n",
              " ),\n",
              " Linear(in_features=3072, out_features=768, bias=True),\n",
              " LayerNorm((768,), eps=1e-05, elementwise_affine=True),\n",
              " Dropout(p=0.1, inplace=False),\n",
              " RobertaLayer(\n",
              "   (attention): RobertaAttention(\n",
              "     (self): RobertaSelfAttention(\n",
              "       (query): Linear(in_features=768, out_features=768, bias=True)\n",
              "       (key): Linear(in_features=768, out_features=768, bias=True)\n",
              "       (value): Linear(in_features=768, out_features=768, bias=True)\n",
              "       (dropout): Dropout(p=0.1, inplace=False)\n",
              "     )\n",
              "     (output): RobertaSelfOutput(\n",
              "       (dense): Linear(in_features=768, out_features=768, bias=True)\n",
              "       (LayerNorm): LayerNorm((768,), eps=1e-05, elementwise_affine=True)\n",
              "       (dropout): Dropout(p=0.1, inplace=False)\n",
              "     )\n",
              "   )\n",
              "   (intermediate): RobertaIntermediate(\n",
              "     (dense): Linear(in_features=768, out_features=3072, bias=True)\n",
              "     (intermediate_act_fn): GELUActivation()\n",
              "   )\n",
              "   (output): RobertaOutput(\n",
              "     (dense): Linear(in_features=3072, out_features=768, bias=True)\n",
              "     (LayerNorm): LayerNorm((768,), eps=1e-05, elementwise_affine=True)\n",
              "     (dropout): Dropout(p=0.1, inplace=False)\n",
              "   )\n",
              " ),\n",
              " RobertaAttention(\n",
              "   (self): RobertaSelfAttention(\n",
              "     (query): Linear(in_features=768, out_features=768, bias=True)\n",
              "     (key): Linear(in_features=768, out_features=768, bias=True)\n",
              "     (value): Linear(in_features=768, out_features=768, bias=True)\n",
              "     (dropout): Dropout(p=0.1, inplace=False)\n",
              "   )\n",
              "   (output): RobertaSelfOutput(\n",
              "     (dense): Linear(in_features=768, out_features=768, bias=True)\n",
              "     (LayerNorm): LayerNorm((768,), eps=1e-05, elementwise_affine=True)\n",
              "     (dropout): Dropout(p=0.1, inplace=False)\n",
              "   )\n",
              " ),\n",
              " RobertaSelfAttention(\n",
              "   (query): Linear(in_features=768, out_features=768, bias=True)\n",
              "   (key): Linear(in_features=768, out_features=768, bias=True)\n",
              "   (value): Linear(in_features=768, out_features=768, bias=True)\n",
              "   (dropout): Dropout(p=0.1, inplace=False)\n",
              " ),\n",
              " Linear(in_features=768, out_features=768, bias=True),\n",
              " Linear(in_features=768, out_features=768, bias=True),\n",
              " Linear(in_features=768, out_features=768, bias=True),\n",
              " Dropout(p=0.1, inplace=False),\n",
              " RobertaSelfOutput(\n",
              "   (dense): Linear(in_features=768, out_features=768, bias=True)\n",
              "   (LayerNorm): LayerNorm((768,), eps=1e-05, elementwise_affine=True)\n",
              "   (dropout): Dropout(p=0.1, inplace=False)\n",
              " ),\n",
              " Linear(in_features=768, out_features=768, bias=True),\n",
              " LayerNorm((768,), eps=1e-05, elementwise_affine=True),\n",
              " Dropout(p=0.1, inplace=False),\n",
              " RobertaIntermediate(\n",
              "   (dense): Linear(in_features=768, out_features=3072, bias=True)\n",
              "   (intermediate_act_fn): GELUActivation()\n",
              " ),\n",
              " Linear(in_features=768, out_features=3072, bias=True),\n",
              " GELUActivation(),\n",
              " RobertaOutput(\n",
              "   (dense): Linear(in_features=3072, out_features=768, bias=True)\n",
              "   (LayerNorm): LayerNorm((768,), eps=1e-05, elementwise_affine=True)\n",
              "   (dropout): Dropout(p=0.1, inplace=False)\n",
              " ),\n",
              " Linear(in_features=3072, out_features=768, bias=True),\n",
              " LayerNorm((768,), eps=1e-05, elementwise_affine=True),\n",
              " Dropout(p=0.1, inplace=False),\n",
              " RobertaLayer(\n",
              "   (attention): RobertaAttention(\n",
              "     (self): RobertaSelfAttention(\n",
              "       (query): Linear(in_features=768, out_features=768, bias=True)\n",
              "       (key): Linear(in_features=768, out_features=768, bias=True)\n",
              "       (value): Linear(in_features=768, out_features=768, bias=True)\n",
              "       (dropout): Dropout(p=0.1, inplace=False)\n",
              "     )\n",
              "     (output): RobertaSelfOutput(\n",
              "       (dense): Linear(in_features=768, out_features=768, bias=True)\n",
              "       (LayerNorm): LayerNorm((768,), eps=1e-05, elementwise_affine=True)\n",
              "       (dropout): Dropout(p=0.1, inplace=False)\n",
              "     )\n",
              "   )\n",
              "   (intermediate): RobertaIntermediate(\n",
              "     (dense): Linear(in_features=768, out_features=3072, bias=True)\n",
              "     (intermediate_act_fn): GELUActivation()\n",
              "   )\n",
              "   (output): RobertaOutput(\n",
              "     (dense): Linear(in_features=3072, out_features=768, bias=True)\n",
              "     (LayerNorm): LayerNorm((768,), eps=1e-05, elementwise_affine=True)\n",
              "     (dropout): Dropout(p=0.1, inplace=False)\n",
              "   )\n",
              " ),\n",
              " RobertaAttention(\n",
              "   (self): RobertaSelfAttention(\n",
              "     (query): Linear(in_features=768, out_features=768, bias=True)\n",
              "     (key): Linear(in_features=768, out_features=768, bias=True)\n",
              "     (value): Linear(in_features=768, out_features=768, bias=True)\n",
              "     (dropout): Dropout(p=0.1, inplace=False)\n",
              "   )\n",
              "   (output): RobertaSelfOutput(\n",
              "     (dense): Linear(in_features=768, out_features=768, bias=True)\n",
              "     (LayerNorm): LayerNorm((768,), eps=1e-05, elementwise_affine=True)\n",
              "     (dropout): Dropout(p=0.1, inplace=False)\n",
              "   )\n",
              " ),\n",
              " RobertaSelfAttention(\n",
              "   (query): Linear(in_features=768, out_features=768, bias=True)\n",
              "   (key): Linear(in_features=768, out_features=768, bias=True)\n",
              "   (value): Linear(in_features=768, out_features=768, bias=True)\n",
              "   (dropout): Dropout(p=0.1, inplace=False)\n",
              " ),\n",
              " Linear(in_features=768, out_features=768, bias=True),\n",
              " Linear(in_features=768, out_features=768, bias=True),\n",
              " Linear(in_features=768, out_features=768, bias=True),\n",
              " Dropout(p=0.1, inplace=False),\n",
              " RobertaSelfOutput(\n",
              "   (dense): Linear(in_features=768, out_features=768, bias=True)\n",
              "   (LayerNorm): LayerNorm((768,), eps=1e-05, elementwise_affine=True)\n",
              "   (dropout): Dropout(p=0.1, inplace=False)\n",
              " ),\n",
              " Linear(in_features=768, out_features=768, bias=True),\n",
              " LayerNorm((768,), eps=1e-05, elementwise_affine=True),\n",
              " Dropout(p=0.1, inplace=False),\n",
              " RobertaIntermediate(\n",
              "   (dense): Linear(in_features=768, out_features=3072, bias=True)\n",
              "   (intermediate_act_fn): GELUActivation()\n",
              " ),\n",
              " Linear(in_features=768, out_features=3072, bias=True),\n",
              " GELUActivation(),\n",
              " RobertaOutput(\n",
              "   (dense): Linear(in_features=3072, out_features=768, bias=True)\n",
              "   (LayerNorm): LayerNorm((768,), eps=1e-05, elementwise_affine=True)\n",
              "   (dropout): Dropout(p=0.1, inplace=False)\n",
              " ),\n",
              " Linear(in_features=3072, out_features=768, bias=True),\n",
              " LayerNorm((768,), eps=1e-05, elementwise_affine=True),\n",
              " Dropout(p=0.1, inplace=False),\n",
              " RobertaLayer(\n",
              "   (attention): RobertaAttention(\n",
              "     (self): RobertaSelfAttention(\n",
              "       (query): Linear(in_features=768, out_features=768, bias=True)\n",
              "       (key): Linear(in_features=768, out_features=768, bias=True)\n",
              "       (value): Linear(in_features=768, out_features=768, bias=True)\n",
              "       (dropout): Dropout(p=0.1, inplace=False)\n",
              "     )\n",
              "     (output): RobertaSelfOutput(\n",
              "       (dense): Linear(in_features=768, out_features=768, bias=True)\n",
              "       (LayerNorm): LayerNorm((768,), eps=1e-05, elementwise_affine=True)\n",
              "       (dropout): Dropout(p=0.1, inplace=False)\n",
              "     )\n",
              "   )\n",
              "   (intermediate): RobertaIntermediate(\n",
              "     (dense): Linear(in_features=768, out_features=3072, bias=True)\n",
              "     (intermediate_act_fn): GELUActivation()\n",
              "   )\n",
              "   (output): RobertaOutput(\n",
              "     (dense): Linear(in_features=3072, out_features=768, bias=True)\n",
              "     (LayerNorm): LayerNorm((768,), eps=1e-05, elementwise_affine=True)\n",
              "     (dropout): Dropout(p=0.1, inplace=False)\n",
              "   )\n",
              " ),\n",
              " RobertaAttention(\n",
              "   (self): RobertaSelfAttention(\n",
              "     (query): Linear(in_features=768, out_features=768, bias=True)\n",
              "     (key): Linear(in_features=768, out_features=768, bias=True)\n",
              "     (value): Linear(in_features=768, out_features=768, bias=True)\n",
              "     (dropout): Dropout(p=0.1, inplace=False)\n",
              "   )\n",
              "   (output): RobertaSelfOutput(\n",
              "     (dense): Linear(in_features=768, out_features=768, bias=True)\n",
              "     (LayerNorm): LayerNorm((768,), eps=1e-05, elementwise_affine=True)\n",
              "     (dropout): Dropout(p=0.1, inplace=False)\n",
              "   )\n",
              " ),\n",
              " RobertaSelfAttention(\n",
              "   (query): Linear(in_features=768, out_features=768, bias=True)\n",
              "   (key): Linear(in_features=768, out_features=768, bias=True)\n",
              "   (value): Linear(in_features=768, out_features=768, bias=True)\n",
              "   (dropout): Dropout(p=0.1, inplace=False)\n",
              " ),\n",
              " Linear(in_features=768, out_features=768, bias=True),\n",
              " Linear(in_features=768, out_features=768, bias=True),\n",
              " Linear(in_features=768, out_features=768, bias=True),\n",
              " Dropout(p=0.1, inplace=False),\n",
              " RobertaSelfOutput(\n",
              "   (dense): Linear(in_features=768, out_features=768, bias=True)\n",
              "   (LayerNorm): LayerNorm((768,), eps=1e-05, elementwise_affine=True)\n",
              "   (dropout): Dropout(p=0.1, inplace=False)\n",
              " ),\n",
              " Linear(in_features=768, out_features=768, bias=True),\n",
              " LayerNorm((768,), eps=1e-05, elementwise_affine=True),\n",
              " Dropout(p=0.1, inplace=False),\n",
              " RobertaIntermediate(\n",
              "   (dense): Linear(in_features=768, out_features=3072, bias=True)\n",
              "   (intermediate_act_fn): GELUActivation()\n",
              " ),\n",
              " Linear(in_features=768, out_features=3072, bias=True),\n",
              " GELUActivation(),\n",
              " RobertaOutput(\n",
              "   (dense): Linear(in_features=3072, out_features=768, bias=True)\n",
              "   (LayerNorm): LayerNorm((768,), eps=1e-05, elementwise_affine=True)\n",
              "   (dropout): Dropout(p=0.1, inplace=False)\n",
              " ),\n",
              " Linear(in_features=3072, out_features=768, bias=True),\n",
              " LayerNorm((768,), eps=1e-05, elementwise_affine=True),\n",
              " Dropout(p=0.1, inplace=False),\n",
              " RobertaLayer(\n",
              "   (attention): RobertaAttention(\n",
              "     (self): RobertaSelfAttention(\n",
              "       (query): Linear(in_features=768, out_features=768, bias=True)\n",
              "       (key): Linear(in_features=768, out_features=768, bias=True)\n",
              "       (value): Linear(in_features=768, out_features=768, bias=True)\n",
              "       (dropout): Dropout(p=0.1, inplace=False)\n",
              "     )\n",
              "     (output): RobertaSelfOutput(\n",
              "       (dense): Linear(in_features=768, out_features=768, bias=True)\n",
              "       (LayerNorm): LayerNorm((768,), eps=1e-05, elementwise_affine=True)\n",
              "       (dropout): Dropout(p=0.1, inplace=False)\n",
              "     )\n",
              "   )\n",
              "   (intermediate): RobertaIntermediate(\n",
              "     (dense): Linear(in_features=768, out_features=3072, bias=True)\n",
              "     (intermediate_act_fn): GELUActivation()\n",
              "   )\n",
              "   (output): RobertaOutput(\n",
              "     (dense): Linear(in_features=3072, out_features=768, bias=True)\n",
              "     (LayerNorm): LayerNorm((768,), eps=1e-05, elementwise_affine=True)\n",
              "     (dropout): Dropout(p=0.1, inplace=False)\n",
              "   )\n",
              " ),\n",
              " RobertaAttention(\n",
              "   (self): RobertaSelfAttention(\n",
              "     (query): Linear(in_features=768, out_features=768, bias=True)\n",
              "     (key): Linear(in_features=768, out_features=768, bias=True)\n",
              "     (value): Linear(in_features=768, out_features=768, bias=True)\n",
              "     (dropout): Dropout(p=0.1, inplace=False)\n",
              "   )\n",
              "   (output): RobertaSelfOutput(\n",
              "     (dense): Linear(in_features=768, out_features=768, bias=True)\n",
              "     (LayerNorm): LayerNorm((768,), eps=1e-05, elementwise_affine=True)\n",
              "     (dropout): Dropout(p=0.1, inplace=False)\n",
              "   )\n",
              " ),\n",
              " RobertaSelfAttention(\n",
              "   (query): Linear(in_features=768, out_features=768, bias=True)\n",
              "   (key): Linear(in_features=768, out_features=768, bias=True)\n",
              "   (value): Linear(in_features=768, out_features=768, bias=True)\n",
              "   (dropout): Dropout(p=0.1, inplace=False)\n",
              " ),\n",
              " Linear(in_features=768, out_features=768, bias=True),\n",
              " Linear(in_features=768, out_features=768, bias=True),\n",
              " Linear(in_features=768, out_features=768, bias=True),\n",
              " Dropout(p=0.1, inplace=False),\n",
              " RobertaSelfOutput(\n",
              "   (dense): Linear(in_features=768, out_features=768, bias=True)\n",
              "   (LayerNorm): LayerNorm((768,), eps=1e-05, elementwise_affine=True)\n",
              "   (dropout): Dropout(p=0.1, inplace=False)\n",
              " ),\n",
              " Linear(in_features=768, out_features=768, bias=True),\n",
              " LayerNorm((768,), eps=1e-05, elementwise_affine=True),\n",
              " Dropout(p=0.1, inplace=False),\n",
              " RobertaIntermediate(\n",
              "   (dense): Linear(in_features=768, out_features=3072, bias=True)\n",
              "   (intermediate_act_fn): GELUActivation()\n",
              " ),\n",
              " Linear(in_features=768, out_features=3072, bias=True),\n",
              " GELUActivation(),\n",
              " RobertaOutput(\n",
              "   (dense): Linear(in_features=3072, out_features=768, bias=True)\n",
              "   (LayerNorm): LayerNorm((768,), eps=1e-05, elementwise_affine=True)\n",
              "   (dropout): Dropout(p=0.1, inplace=False)\n",
              " ),\n",
              " Linear(in_features=3072, out_features=768, bias=True),\n",
              " LayerNorm((768,), eps=1e-05, elementwise_affine=True),\n",
              " Dropout(p=0.1, inplace=False),\n",
              " RobertaLayer(\n",
              "   (attention): RobertaAttention(\n",
              "     (self): RobertaSelfAttention(\n",
              "       (query): Linear(in_features=768, out_features=768, bias=True)\n",
              "       (key): Linear(in_features=768, out_features=768, bias=True)\n",
              "       (value): Linear(in_features=768, out_features=768, bias=True)\n",
              "       (dropout): Dropout(p=0.1, inplace=False)\n",
              "     )\n",
              "     (output): RobertaSelfOutput(\n",
              "       (dense): Linear(in_features=768, out_features=768, bias=True)\n",
              "       (LayerNorm): LayerNorm((768,), eps=1e-05, elementwise_affine=True)\n",
              "       (dropout): Dropout(p=0.1, inplace=False)\n",
              "     )\n",
              "   )\n",
              "   (intermediate): RobertaIntermediate(\n",
              "     (dense): Linear(in_features=768, out_features=3072, bias=True)\n",
              "     (intermediate_act_fn): GELUActivation()\n",
              "   )\n",
              "   (output): RobertaOutput(\n",
              "     (dense): Linear(in_features=3072, out_features=768, bias=True)\n",
              "     (LayerNorm): LayerNorm((768,), eps=1e-05, elementwise_affine=True)\n",
              "     (dropout): Dropout(p=0.1, inplace=False)\n",
              "   )\n",
              " ),\n",
              " RobertaAttention(\n",
              "   (self): RobertaSelfAttention(\n",
              "     (query): Linear(in_features=768, out_features=768, bias=True)\n",
              "     (key): Linear(in_features=768, out_features=768, bias=True)\n",
              "     (value): Linear(in_features=768, out_features=768, bias=True)\n",
              "     (dropout): Dropout(p=0.1, inplace=False)\n",
              "   )\n",
              "   (output): RobertaSelfOutput(\n",
              "     (dense): Linear(in_features=768, out_features=768, bias=True)\n",
              "     (LayerNorm): LayerNorm((768,), eps=1e-05, elementwise_affine=True)\n",
              "     (dropout): Dropout(p=0.1, inplace=False)\n",
              "   )\n",
              " ),\n",
              " RobertaSelfAttention(\n",
              "   (query): Linear(in_features=768, out_features=768, bias=True)\n",
              "   (key): Linear(in_features=768, out_features=768, bias=True)\n",
              "   (value): Linear(in_features=768, out_features=768, bias=True)\n",
              "   (dropout): Dropout(p=0.1, inplace=False)\n",
              " ),\n",
              " Linear(in_features=768, out_features=768, bias=True),\n",
              " Linear(in_features=768, out_features=768, bias=True),\n",
              " Linear(in_features=768, out_features=768, bias=True),\n",
              " Dropout(p=0.1, inplace=False),\n",
              " RobertaSelfOutput(\n",
              "   (dense): Linear(in_features=768, out_features=768, bias=True)\n",
              "   (LayerNorm): LayerNorm((768,), eps=1e-05, elementwise_affine=True)\n",
              "   (dropout): Dropout(p=0.1, inplace=False)\n",
              " ),\n",
              " Linear(in_features=768, out_features=768, bias=True),\n",
              " LayerNorm((768,), eps=1e-05, elementwise_affine=True),\n",
              " Dropout(p=0.1, inplace=False),\n",
              " RobertaIntermediate(\n",
              "   (dense): Linear(in_features=768, out_features=3072, bias=True)\n",
              "   (intermediate_act_fn): GELUActivation()\n",
              " ),\n",
              " Linear(in_features=768, out_features=3072, bias=True),\n",
              " GELUActivation(),\n",
              " RobertaOutput(\n",
              "   (dense): Linear(in_features=3072, out_features=768, bias=True)\n",
              "   (LayerNorm): LayerNorm((768,), eps=1e-05, elementwise_affine=True)\n",
              "   (dropout): Dropout(p=0.1, inplace=False)\n",
              " ),\n",
              " Linear(in_features=3072, out_features=768, bias=True),\n",
              " LayerNorm((768,), eps=1e-05, elementwise_affine=True),\n",
              " Dropout(p=0.1, inplace=False),\n",
              " RobertaLayer(\n",
              "   (attention): RobertaAttention(\n",
              "     (self): RobertaSelfAttention(\n",
              "       (query): Linear(in_features=768, out_features=768, bias=True)\n",
              "       (key): Linear(in_features=768, out_features=768, bias=True)\n",
              "       (value): Linear(in_features=768, out_features=768, bias=True)\n",
              "       (dropout): Dropout(p=0.1, inplace=False)\n",
              "     )\n",
              "     (output): RobertaSelfOutput(\n",
              "       (dense): Linear(in_features=768, out_features=768, bias=True)\n",
              "       (LayerNorm): LayerNorm((768,), eps=1e-05, elementwise_affine=True)\n",
              "       (dropout): Dropout(p=0.1, inplace=False)\n",
              "     )\n",
              "   )\n",
              "   (intermediate): RobertaIntermediate(\n",
              "     (dense): Linear(in_features=768, out_features=3072, bias=True)\n",
              "     (intermediate_act_fn): GELUActivation()\n",
              "   )\n",
              "   (output): RobertaOutput(\n",
              "     (dense): Linear(in_features=3072, out_features=768, bias=True)\n",
              "     (LayerNorm): LayerNorm((768,), eps=1e-05, elementwise_affine=True)\n",
              "     (dropout): Dropout(p=0.1, inplace=False)\n",
              "   )\n",
              " ),\n",
              " RobertaAttention(\n",
              "   (self): RobertaSelfAttention(\n",
              "     (query): Linear(in_features=768, out_features=768, bias=True)\n",
              "     (key): Linear(in_features=768, out_features=768, bias=True)\n",
              "     (value): Linear(in_features=768, out_features=768, bias=True)\n",
              "     (dropout): Dropout(p=0.1, inplace=False)\n",
              "   )\n",
              "   (output): RobertaSelfOutput(\n",
              "     (dense): Linear(in_features=768, out_features=768, bias=True)\n",
              "     (LayerNorm): LayerNorm((768,), eps=1e-05, elementwise_affine=True)\n",
              "     (dropout): Dropout(p=0.1, inplace=False)\n",
              "   )\n",
              " ),\n",
              " RobertaSelfAttention(\n",
              "   (query): Linear(in_features=768, out_features=768, bias=True)\n",
              "   (key): Linear(in_features=768, out_features=768, bias=True)\n",
              "   (value): Linear(in_features=768, out_features=768, bias=True)\n",
              "   (dropout): Dropout(p=0.1, inplace=False)\n",
              " ),\n",
              " Linear(in_features=768, out_features=768, bias=True),\n",
              " Linear(in_features=768, out_features=768, bias=True),\n",
              " Linear(in_features=768, out_features=768, bias=True),\n",
              " Dropout(p=0.1, inplace=False),\n",
              " RobertaSelfOutput(\n",
              "   (dense): Linear(in_features=768, out_features=768, bias=True)\n",
              "   (LayerNorm): LayerNorm((768,), eps=1e-05, elementwise_affine=True)\n",
              "   (dropout): Dropout(p=0.1, inplace=False)\n",
              " ),\n",
              " Linear(in_features=768, out_features=768, bias=True),\n",
              " LayerNorm((768,), eps=1e-05, elementwise_affine=True),\n",
              " Dropout(p=0.1, inplace=False),\n",
              " RobertaIntermediate(\n",
              "   (dense): Linear(in_features=768, out_features=3072, bias=True)\n",
              "   (intermediate_act_fn): GELUActivation()\n",
              " ),\n",
              " Linear(in_features=768, out_features=3072, bias=True),\n",
              " GELUActivation(),\n",
              " RobertaOutput(\n",
              "   (dense): Linear(in_features=3072, out_features=768, bias=True)\n",
              "   (LayerNorm): LayerNorm((768,), eps=1e-05, elementwise_affine=True)\n",
              "   (dropout): Dropout(p=0.1, inplace=False)\n",
              " ),\n",
              " Linear(in_features=3072, out_features=768, bias=True),\n",
              " LayerNorm((768,), eps=1e-05, elementwise_affine=True),\n",
              " Dropout(p=0.1, inplace=False),\n",
              " RobertaLayer(\n",
              "   (attention): RobertaAttention(\n",
              "     (self): RobertaSelfAttention(\n",
              "       (query): Linear(in_features=768, out_features=768, bias=True)\n",
              "       (key): Linear(in_features=768, out_features=768, bias=True)\n",
              "       (value): Linear(in_features=768, out_features=768, bias=True)\n",
              "       (dropout): Dropout(p=0.1, inplace=False)\n",
              "     )\n",
              "     (output): RobertaSelfOutput(\n",
              "       (dense): Linear(in_features=768, out_features=768, bias=True)\n",
              "       (LayerNorm): LayerNorm((768,), eps=1e-05, elementwise_affine=True)\n",
              "       (dropout): Dropout(p=0.1, inplace=False)\n",
              "     )\n",
              "   )\n",
              "   (intermediate): RobertaIntermediate(\n",
              "     (dense): Linear(in_features=768, out_features=3072, bias=True)\n",
              "     (intermediate_act_fn): GELUActivation()\n",
              "   )\n",
              "   (output): RobertaOutput(\n",
              "     (dense): Linear(in_features=3072, out_features=768, bias=True)\n",
              "     (LayerNorm): LayerNorm((768,), eps=1e-05, elementwise_affine=True)\n",
              "     (dropout): Dropout(p=0.1, inplace=False)\n",
              "   )\n",
              " ),\n",
              " RobertaAttention(\n",
              "   (self): RobertaSelfAttention(\n",
              "     (query): Linear(in_features=768, out_features=768, bias=True)\n",
              "     (key): Linear(in_features=768, out_features=768, bias=True)\n",
              "     (value): Linear(in_features=768, out_features=768, bias=True)\n",
              "     (dropout): Dropout(p=0.1, inplace=False)\n",
              "   )\n",
              "   (output): RobertaSelfOutput(\n",
              "     (dense): Linear(in_features=768, out_features=768, bias=True)\n",
              "     (LayerNorm): LayerNorm((768,), eps=1e-05, elementwise_affine=True)\n",
              "     (dropout): Dropout(p=0.1, inplace=False)\n",
              "   )\n",
              " ),\n",
              " RobertaSelfAttention(\n",
              "   (query): Linear(in_features=768, out_features=768, bias=True)\n",
              "   (key): Linear(in_features=768, out_features=768, bias=True)\n",
              "   (value): Linear(in_features=768, out_features=768, bias=True)\n",
              "   (dropout): Dropout(p=0.1, inplace=False)\n",
              " ),\n",
              " Linear(in_features=768, out_features=768, bias=True),\n",
              " Linear(in_features=768, out_features=768, bias=True),\n",
              " Linear(in_features=768, out_features=768, bias=True),\n",
              " Dropout(p=0.1, inplace=False),\n",
              " RobertaSelfOutput(\n",
              "   (dense): Linear(in_features=768, out_features=768, bias=True)\n",
              "   (LayerNorm): LayerNorm((768,), eps=1e-05, elementwise_affine=True)\n",
              "   (dropout): Dropout(p=0.1, inplace=False)\n",
              " ),\n",
              " Linear(in_features=768, out_features=768, bias=True),\n",
              " LayerNorm((768,), eps=1e-05, elementwise_affine=True),\n",
              " Dropout(p=0.1, inplace=False),\n",
              " RobertaIntermediate(\n",
              "   (dense): Linear(in_features=768, out_features=3072, bias=True)\n",
              "   (intermediate_act_fn): GELUActivation()\n",
              " ),\n",
              " Linear(in_features=768, out_features=3072, bias=True),\n",
              " GELUActivation(),\n",
              " RobertaOutput(\n",
              "   (dense): Linear(in_features=3072, out_features=768, bias=True)\n",
              "   (LayerNorm): LayerNorm((768,), eps=1e-05, elementwise_affine=True)\n",
              "   (dropout): Dropout(p=0.1, inplace=False)\n",
              " ),\n",
              " Linear(in_features=3072, out_features=768, bias=True),\n",
              " LayerNorm((768,), eps=1e-05, elementwise_affine=True),\n",
              " Dropout(p=0.1, inplace=False),\n",
              " RobertaPooler(\n",
              "   (dense): Linear(in_features=768, out_features=768, bias=True)\n",
              "   (activation): Tanh()\n",
              " ),\n",
              " Linear(in_features=768, out_features=768, bias=True),\n",
              " Tanh(),\n",
              " Linear(in_features=2304, out_features=128, bias=True),\n",
              " Dropout(p=0.3, inplace=False),\n",
              " Linear(in_features=128, out_features=5, bias=True)]"
            ]
          },
          "metadata": {},
          "execution_count": 85
        }
      ]
    },
    {
      "cell_type": "code",
      "source": [
        "\n",
        "LR_RATE = 0.001\n",
        "\n",
        "optimizer = optim.SGD(\n",
        "    [\n",
        "        {\"params\": model.roberta.pooler.parameters(), \"lr\": LR_RATE*0.1*0.001},\n",
        "        {\"params\": model.pre_classifier.parameters(), \"lr\": LR_RATE*0.1},\n",
        "        {\"params\": model.classifier.parameters(), \"lr\": LR_RATE},\n",
        "    ],\n",
        "    lr=LR_RATE,\n",
        ")\n",
        "\n",
        "lr_scheduler = optim.lr_scheduler.CyclicLR(optimizer,\n",
        "                                           base_lr=LR_RATE,\n",
        "                                           max_lr=LR_RATE*3,\n",
        "                                           step_size_up=5,\n",
        "                                           mode=\"exp_range\",\n",
        "                                           gamma=0.85)"
      ],
      "metadata": {
        "id": "UsYMdzkrd_kv"
      },
      "execution_count": null,
      "outputs": []
    },
    {
      "cell_type": "code",
      "source": [
        "# Calculate class frequencies\n",
        "class_frequencies = main_ds.Label.value_counts().sort_index()\n",
        "\n",
        "# Calculate class weights inversely proportional to class frequencies\n",
        "total_samples = len(main_ds)\n",
        "class_weights = total_samples / (len(class_frequencies) * class_frequencies)\n",
        "\n",
        "# Convert class weights to a PyTorch tensor\n",
        "class_weights_tensor = torch.tensor(class_weights.values, dtype=torch.float)"
      ],
      "metadata": {
        "id": "gpvHO421dwVo"
      },
      "execution_count": null,
      "outputs": []
    },
    {
      "cell_type": "code",
      "execution_count": null,
      "metadata": {
        "id": "VrV09MGxdwVp"
      },
      "outputs": [],
      "source": [
        "device = torch.device('cuda' if torch.cuda.is_available() else 'cpu')\n",
        "criterion = nn.CrossEntropyLoss(weight=class_weights_tensor)\n",
        "\n",
        "model = model.to(device)\n",
        "criterion = criterion.to(device)"
      ]
    },
    {
      "cell_type": "code",
      "source": [
        "N_EPOCHS = 40\n",
        "EPS = 0.85\n",
        "\n",
        "\n",
        "JDUN_TRAIN = 1\n",
        "JDUN_END = 5\n",
        "\n",
        "try:\n",
        "  if best_valid_loss and best_valid_acc:\n",
        "    pass\n",
        "except:\n",
        "    best_valid_loss = 0.35 #float('inf')\n",
        "    best_valid_acc = 0.8643\n",
        "\n",
        "hist_train_loss, hist_valid_loss, hist_train_acc, hist_valid_acc = [], [], [], []\n",
        "hist_lr = []\n",
        "\n",
        "save_dir = '/content/drive/Othercomputers/My_comp/Documents/МФТИ - Наука о данных/NLP_course/DZ/Text_classification/Roberta/'\n",
        "path_bestacc_model = save_dir + 'best_acc_aug_model_layer_wise.pt'\n",
        "path_bestloss_model = save_dir + 'best_loss_aug_model_layer_wise.pt'\n",
        "\n",
        "\n",
        "wait_train = 0\n",
        "wait2end = 0\n",
        "\n",
        "model_loss_saved = False\n",
        "model_acc_saved = True\n",
        "\n",
        "for epoch in range(N_EPOCHS):\n",
        "    start_time = time.time()\n",
        "\n",
        "    # take again rand half_part from train_data, valid_data\n",
        "    training_loader = get_randpart(data = train_data, params = train_params)\n",
        "    valid_loader =  get_randpart(data = valid_data, params =  valid_params)\n",
        "\n",
        "    train_loss, train_acc, ep_lr = train(model, training_loader, optimizer,\n",
        "                                         lr_scheduler, criterion, accuracy)\n",
        "    hist_train_loss.append(train_loss)\n",
        "    hist_train_acc.append(train_acc)\n",
        "\n",
        "    valid_loss, valid_acc = evaluate(model, valid_loader, criterion,\n",
        "                                     accuracy)\n",
        "    hist_valid_loss.append(valid_loss)\n",
        "    hist_valid_acc.append(valid_acc)\n",
        "    hist_lr.append(ep_lr)\n",
        "\n",
        "    end_time = time.time()\n",
        "\n",
        "    epoch_mins, epoch_secs = epoch_time(start_time, end_time)\n",
        "\n",
        "    text_add = ''\n",
        "    if valid_loss < best_valid_loss:\n",
        "        best_valid_loss = valid_loss\n",
        "        torch.save(model.state_dict(), path_bestloss_model)\n",
        "\n",
        "        model_loss_saved = True\n",
        "        text_add = ' - save best_loss_model'\n",
        "        wait2end = 0\n",
        "        wait_train = 0\n",
        "        k = 0\n",
        "\n",
        "    if valid_acc > best_valid_acc:\n",
        "        best_valid_acc = valid_acc\n",
        "        torch.save(model.state_dict(), path_bestacc_model)\n",
        "\n",
        "        model_acc_saved = True\n",
        "        text_add += ' - save best_acc_model'\n",
        "        wait2end = 0\n",
        "        wait_train = 0\n",
        "        k = 1\n",
        "\n",
        "    else:\n",
        "        wait_train+=1\n",
        "\n",
        "\n",
        "    if wait_train > JDUN_TRAIN:\n",
        "       if model_loss_saved and k == 0:\n",
        "         model.load_state_dict(torch.load(path_bestloss_model))\n",
        "         text_add = ' - load best_loss_model'\n",
        "         k = 1\n",
        "       elif model_acc_saved and k == 1:\n",
        "         model.load_state_dict(torch.load(path_bestacc_model))\n",
        "         text_add = ' - load best_acc_model'\n",
        "         k = 0\n",
        "\n",
        "       LR_RATE *= EPS\n",
        "       lr_scheduler = optim.lr_scheduler.CyclicLR(optimizer,\n",
        "                                                  base_lr=LR_RATE,\n",
        "                                                  max_lr=LR_RATE*3,\n",
        "                                                  step_size_up = 3,\n",
        "                                                  mode=\"exp_range\",\n",
        "                                                  gamma=0.85)\n",
        "       wait_train = 0\n",
        "       wait2end+=1\n",
        "\n",
        "    print(f'Epoch: {epoch+1:02} | with lr: {ep_lr:.9f} | Epoch Time: {epoch_mins}m {epoch_secs}s')\n",
        "    print(f'\\tTrain_Loss: {train_loss:.3f} | Train_Acc: {train_acc*100:.2f}%  Val_Loss: {valid_loss:.3f} | Val_Acc: {valid_acc*100:.2f}%' + text_add)\n",
        "\n",
        "    if wait2end > JDUN_END:\n",
        "\n",
        "      if k == 0:\n",
        "        model.load_state_dict(torch.load(path_bestloss_model))\n",
        "        text_add = ' - load best_loss_model'\n",
        "\n",
        "      elif k == 1:\n",
        "        model.load_state_dict(torch.load(path_bestacc_model))\n",
        "        text_add = ' - load best_acc_model'\n",
        "\n",
        "      print('Stop train, do not best fitness'+ text_add)\n",
        "\n",
        "      break"
      ],
      "metadata": {
        "colab": {
          "base_uri": "https://localhost:8080/",
          "height": 1000
        },
        "outputId": "5513a363-7320-489a-fa6d-f3eacd9277e0",
        "id": "FInPLz8KhIAx"
      },
      "execution_count": null,
      "outputs": [
        {
          "output_type": "stream",
          "name": "stdout",
          "text": []
        },
        {
          "output_type": "stream",
          "name": "stderr",
          "text": [
            "258it [00:37,  6.87it/s]\n"
          ]
        },
        {
          "output_type": "stream",
          "name": "stdout",
          "text": [
            "Epoch: 01 | with lr: 0.000722500 | Epoch Time: 12m 25s\n",
            "\tTrain_Loss: 0.407 | Train_Acc: 86.72%  Val_Loss: 0.416 | Val_Acc: 86.14%\n"
          ]
        },
        {
          "output_type": "stream",
          "name": "stderr",
          "text": [
            "258it [00:38,  6.71it/s]\n"
          ]
        },
        {
          "output_type": "stream",
          "name": "stdout",
          "text": [
            "Epoch: 02 | with lr: 0.000722500 | Epoch Time: 12m 28s\n",
            "\tTrain_Loss: 0.412 | Train_Acc: 86.49%  Val_Loss: 0.443 | Val_Acc: 85.25%\n"
          ]
        },
        {
          "output_type": "stream",
          "name": "stderr",
          "text": [
            "258it [00:37,  6.81it/s]\n"
          ]
        },
        {
          "output_type": "stream",
          "name": "stdout",
          "text": [
            "Epoch: 03 | with lr: 0.000614125 | Epoch Time: 12m 28s\n",
            "\tTrain_Loss: 0.410 | Train_Acc: 86.51%  Val_Loss: 0.421 | Val_Acc: 86.34%\n"
          ]
        },
        {
          "output_type": "stream",
          "name": "stderr",
          "text": [
            "258it [00:39,  6.59it/s]\n"
          ]
        },
        {
          "output_type": "stream",
          "name": "stdout",
          "text": [
            "Epoch: 04 | with lr: 0.000614125 | Epoch Time: 12m 33s\n",
            "\tTrain_Loss: 0.409 | Train_Acc: 86.61%  Val_Loss: 0.433 | Val_Acc: 85.22%\n"
          ]
        },
        {
          "output_type": "stream",
          "name": "stderr",
          "text": [
            "258it [00:39,  6.54it/s]\n"
          ]
        },
        {
          "output_type": "stream",
          "name": "stdout",
          "text": [
            "Epoch: 05 | with lr: 0.000522006 | Epoch Time: 12m 39s\n",
            "\tTrain_Loss: 0.413 | Train_Acc: 86.50%  Val_Loss: 0.420 | Val_Acc: 85.95%\n"
          ]
        },
        {
          "output_type": "stream",
          "name": "stderr",
          "text": [
            "258it [00:37,  6.79it/s]\n"
          ]
        },
        {
          "output_type": "stream",
          "name": "stdout",
          "text": [
            "Epoch: 06 | with lr: 0.000522006 | Epoch Time: 12m 33s\n",
            "\tTrain_Loss: 0.420 | Train_Acc: 86.42%  Val_Loss: 0.399 | Val_Acc: 86.36%\n"
          ]
        },
        {
          "output_type": "stream",
          "name": "stderr",
          "text": [
            "258it [00:38,  6.77it/s]\n"
          ]
        },
        {
          "output_type": "stream",
          "name": "stdout",
          "text": [
            "Epoch: 07 | with lr: 0.000443705 | Epoch Time: 12m 33s\n",
            "\tTrain_Loss: 0.414 | Train_Acc: 86.58%  Val_Loss: 0.421 | Val_Acc: 85.71%\n"
          ]
        },
        {
          "output_type": "stream",
          "name": "stderr",
          "text": [
            "258it [00:38,  6.75it/s]\n"
          ]
        },
        {
          "output_type": "stream",
          "name": "stdout",
          "text": [
            "Epoch: 08 | with lr: 0.000443705 | Epoch Time: 12m 34s\n",
            "\tTrain_Loss: 0.411 | Train_Acc: 86.57%  Val_Loss: 0.404 | Val_Acc: 86.53% - save best_acc_model\n"
          ]
        },
        {
          "output_type": "stream",
          "name": "stderr",
          "text": [
            "258it [00:38,  6.72it/s]\n"
          ]
        },
        {
          "output_type": "stream",
          "name": "stdout",
          "text": [
            "Epoch: 09 | with lr: 0.000443705 | Epoch Time: 12m 36s\n",
            "\tTrain_Loss: 0.421 | Train_Acc: 86.42%  Val_Loss: 0.413 | Val_Acc: 85.85%\n"
          ]
        },
        {
          "output_type": "stream",
          "name": "stderr",
          "text": [
            "258it [00:38,  6.76it/s]\n"
          ]
        },
        {
          "output_type": "stream",
          "name": "stdout",
          "text": [
            "Epoch: 10 | with lr: 0.000443705 | Epoch Time: 12m 35s\n",
            "\tTrain_Loss: 0.402 | Train_Acc: 86.79%  Val_Loss: 0.447 | Val_Acc: 85.25% - load best_acc_model\n"
          ]
        },
        {
          "output_type": "stream",
          "name": "stderr",
          "text": [
            "258it [00:38,  6.75it/s]\n"
          ]
        },
        {
          "output_type": "stream",
          "name": "stdout",
          "text": [
            "Epoch: 11 | with lr: 0.000377150 | Epoch Time: 12m 37s\n",
            "\tTrain_Loss: 0.407 | Train_Acc: 86.89%  Val_Loss: 0.417 | Val_Acc: 86.09%\n"
          ]
        },
        {
          "output_type": "stream",
          "name": "stderr",
          "text": [
            "258it [00:38,  6.69it/s]\n"
          ]
        },
        {
          "output_type": "stream",
          "name": "stdout",
          "text": [
            "Epoch: 12 | with lr: 0.000377150 | Epoch Time: 12m 43s\n",
            "\tTrain_Loss: 0.421 | Train_Acc: 86.27%  Val_Loss: 0.398 | Val_Acc: 86.63% - save best_acc_model\n"
          ]
        },
        {
          "output_type": "stream",
          "name": "stderr",
          "text": [
            "258it [00:37,  6.82it/s]\n"
          ]
        },
        {
          "output_type": "stream",
          "name": "stdout",
          "text": [
            "Epoch: 13 | with lr: 0.000377150 | Epoch Time: 12m 53s\n",
            "\tTrain_Loss: 0.414 | Train_Acc: 86.33%  Val_Loss: 0.445 | Val_Acc: 85.30%\n"
          ]
        },
        {
          "output_type": "stream",
          "name": "stderr",
          "text": [
            "258it [00:40,  6.42it/s]\n"
          ]
        },
        {
          "output_type": "stream",
          "name": "stdout",
          "text": [
            "Epoch: 14 | with lr: 0.000377150 | Epoch Time: 12m 43s\n",
            "\tTrain_Loss: 0.406 | Train_Acc: 86.65%  Val_Loss: 0.423 | Val_Acc: 86.02% - load best_acc_model\n"
          ]
        },
        {
          "output_type": "stream",
          "name": "stderr",
          "text": [
            "258it [00:38,  6.68it/s]\n"
          ]
        },
        {
          "output_type": "stream",
          "name": "stdout",
          "text": [
            "Epoch: 15 | with lr: 0.000320577 | Epoch Time: 12m 45s\n",
            "\tTrain_Loss: 0.411 | Train_Acc: 86.67%  Val_Loss: 0.439 | Val_Acc: 85.47%\n"
          ]
        },
        {
          "output_type": "stream",
          "name": "stderr",
          "text": [
            "258it [00:37,  6.80it/s]\n"
          ]
        },
        {
          "output_type": "stream",
          "name": "stdout",
          "text": [
            "Epoch: 16 | with lr: 0.000320577 | Epoch Time: 12m 44s\n",
            "\tTrain_Loss: 0.409 | Train_Acc: 86.66%  Val_Loss: 0.401 | Val_Acc: 86.22%\n"
          ]
        },
        {
          "output_type": "stream",
          "name": "stderr",
          "text": [
            "258it [00:38,  6.79it/s]\n"
          ]
        },
        {
          "output_type": "stream",
          "name": "stdout",
          "text": [
            "Epoch: 17 | with lr: 0.000272491 | Epoch Time: 12m 56s\n",
            "\tTrain_Loss: 0.410 | Train_Acc: 86.73%  Val_Loss: 0.416 | Val_Acc: 86.31%\n"
          ]
        },
        {
          "output_type": "stream",
          "name": "stderr",
          "text": [
            "258it [00:38,  6.74it/s]\n"
          ]
        },
        {
          "output_type": "stream",
          "name": "stdout",
          "text": [
            "Epoch: 18 | with lr: 0.000272491 | Epoch Time: 12m 37s\n",
            "\tTrain_Loss: 0.404 | Train_Acc: 86.70%  Val_Loss: 0.416 | Val_Acc: 86.39%\n"
          ]
        },
        {
          "output_type": "stream",
          "name": "stderr",
          "text": [
            "258it [00:37,  6.89it/s]\n"
          ]
        },
        {
          "output_type": "stream",
          "name": "stdout",
          "text": [
            "Epoch: 19 | with lr: 0.000231617 | Epoch Time: 12m 36s\n",
            "\tTrain_Loss: 0.416 | Train_Acc: 86.36%  Val_Loss: 0.415 | Val_Acc: 86.29%\n"
          ]
        },
        {
          "output_type": "stream",
          "name": "stderr",
          "text": [
            "258it [00:37,  6.87it/s]\n"
          ]
        },
        {
          "output_type": "stream",
          "name": "stdout",
          "text": [
            "Epoch: 20 | with lr: 0.000231617 | Epoch Time: 12m 38s\n",
            "\tTrain_Loss: 0.420 | Train_Acc: 86.60%  Val_Loss: 0.416 | Val_Acc: 86.19%\n"
          ]
        },
        {
          "output_type": "stream",
          "name": "stderr",
          "text": [
            "258it [00:38,  6.74it/s]\n"
          ]
        },
        {
          "output_type": "stream",
          "name": "stdout",
          "text": [
            "Epoch: 21 | with lr: 0.000196874 | Epoch Time: 12m 39s\n",
            "\tTrain_Loss: 0.414 | Train_Acc: 86.37%  Val_Loss: 0.400 | Val_Acc: 86.26%\n"
          ]
        },
        {
          "output_type": "stream",
          "name": "stderr",
          "text": [
            "258it [00:37,  6.90it/s]\n"
          ]
        },
        {
          "output_type": "stream",
          "name": "stdout",
          "text": [
            "Epoch: 22 | with lr: 0.000196874 | Epoch Time: 12m 39s\n",
            "\tTrain_Loss: 0.400 | Train_Acc: 86.97%  Val_Loss: 0.431 | Val_Acc: 85.49%\n"
          ]
        },
        {
          "output_type": "stream",
          "name": "stderr",
          "text": [
            "258it [00:37,  6.81it/s]\n"
          ]
        },
        {
          "output_type": "stream",
          "name": "stdout",
          "text": [
            "Epoch: 23 | with lr: 0.000167343 | Epoch Time: 12m 38s\n",
            "\tTrain_Loss: 0.405 | Train_Acc: 86.80%  Val_Loss: 0.433 | Val_Acc: 85.68%\n"
          ]
        },
        {
          "output_type": "stream",
          "name": "stderr",
          "text": [
            "258it [00:38,  6.78it/s]"
          ]
        },
        {
          "output_type": "stream",
          "name": "stdout",
          "text": [
            "Epoch: 24 | with lr: 0.000167343 | Epoch Time: 12m 40s\n",
            "\tTrain_Loss: 0.401 | Train_Acc: 86.81%  Val_Loss: 0.412 | Val_Acc: 86.56%\n"
          ]
        },
        {
          "output_type": "stream",
          "name": "stderr",
          "text": [
            "\n"
          ]
        },
        {
          "output_type": "error",
          "ename": "FileNotFoundError",
          "evalue": "ignored",
          "traceback": [
            "\u001b[0;31m---------------------------------------------------------------------------\u001b[0m",
            "\u001b[0;31mFileNotFoundError\u001b[0m                         Traceback (most recent call last)",
            "\u001b[0;32m<ipython-input-111-8b5f962dc07b>\u001b[0m in \u001b[0;36m<cell line: 29>\u001b[0;34m()\u001b[0m\n\u001b[1;32m    100\u001b[0m \u001b[0;34m\u001b[0m\u001b[0m\n\u001b[1;32m    101\u001b[0m       \u001b[0;32mif\u001b[0m \u001b[0mk\u001b[0m \u001b[0;34m==\u001b[0m \u001b[0;36m0\u001b[0m\u001b[0;34m:\u001b[0m\u001b[0;34m\u001b[0m\u001b[0;34m\u001b[0m\u001b[0m\n\u001b[0;32m--> 102\u001b[0;31m         \u001b[0mmodel\u001b[0m\u001b[0;34m.\u001b[0m\u001b[0mload_state_dict\u001b[0m\u001b[0;34m(\u001b[0m\u001b[0mtorch\u001b[0m\u001b[0;34m.\u001b[0m\u001b[0mload\u001b[0m\u001b[0;34m(\u001b[0m\u001b[0mpath_bestloss_model\u001b[0m\u001b[0;34m)\u001b[0m\u001b[0;34m)\u001b[0m\u001b[0;34m\u001b[0m\u001b[0;34m\u001b[0m\u001b[0m\n\u001b[0m\u001b[1;32m    103\u001b[0m         \u001b[0mtext_add\u001b[0m \u001b[0;34m=\u001b[0m \u001b[0;34m' - load best_loss_model'\u001b[0m\u001b[0;34m\u001b[0m\u001b[0;34m\u001b[0m\u001b[0m\n\u001b[1;32m    104\u001b[0m \u001b[0;34m\u001b[0m\u001b[0m\n",
            "\u001b[0;32m/usr/local/lib/python3.10/dist-packages/torch/serialization.py\u001b[0m in \u001b[0;36mload\u001b[0;34m(f, map_location, pickle_module, weights_only, **pickle_load_args)\u001b[0m\n\u001b[1;32m    789\u001b[0m         \u001b[0mpickle_load_args\u001b[0m\u001b[0;34m[\u001b[0m\u001b[0;34m'encoding'\u001b[0m\u001b[0;34m]\u001b[0m \u001b[0;34m=\u001b[0m \u001b[0;34m'utf-8'\u001b[0m\u001b[0;34m\u001b[0m\u001b[0;34m\u001b[0m\u001b[0m\n\u001b[1;32m    790\u001b[0m \u001b[0;34m\u001b[0m\u001b[0m\n\u001b[0;32m--> 791\u001b[0;31m     \u001b[0;32mwith\u001b[0m \u001b[0m_open_file_like\u001b[0m\u001b[0;34m(\u001b[0m\u001b[0mf\u001b[0m\u001b[0;34m,\u001b[0m \u001b[0;34m'rb'\u001b[0m\u001b[0;34m)\u001b[0m \u001b[0;32mas\u001b[0m \u001b[0mopened_file\u001b[0m\u001b[0;34m:\u001b[0m\u001b[0;34m\u001b[0m\u001b[0;34m\u001b[0m\u001b[0m\n\u001b[0m\u001b[1;32m    792\u001b[0m         \u001b[0;32mif\u001b[0m \u001b[0m_is_zipfile\u001b[0m\u001b[0;34m(\u001b[0m\u001b[0mopened_file\u001b[0m\u001b[0;34m)\u001b[0m\u001b[0;34m:\u001b[0m\u001b[0;34m\u001b[0m\u001b[0;34m\u001b[0m\u001b[0m\n\u001b[1;32m    793\u001b[0m             \u001b[0;31m# The zipfile reader is going to advance the current file position.\u001b[0m\u001b[0;34m\u001b[0m\u001b[0;34m\u001b[0m\u001b[0m\n",
            "\u001b[0;32m/usr/local/lib/python3.10/dist-packages/torch/serialization.py\u001b[0m in \u001b[0;36m_open_file_like\u001b[0;34m(name_or_buffer, mode)\u001b[0m\n\u001b[1;32m    269\u001b[0m \u001b[0;32mdef\u001b[0m \u001b[0m_open_file_like\u001b[0m\u001b[0;34m(\u001b[0m\u001b[0mname_or_buffer\u001b[0m\u001b[0;34m,\u001b[0m \u001b[0mmode\u001b[0m\u001b[0;34m)\u001b[0m\u001b[0;34m:\u001b[0m\u001b[0;34m\u001b[0m\u001b[0;34m\u001b[0m\u001b[0m\n\u001b[1;32m    270\u001b[0m     \u001b[0;32mif\u001b[0m \u001b[0m_is_path\u001b[0m\u001b[0;34m(\u001b[0m\u001b[0mname_or_buffer\u001b[0m\u001b[0;34m)\u001b[0m\u001b[0;34m:\u001b[0m\u001b[0;34m\u001b[0m\u001b[0;34m\u001b[0m\u001b[0m\n\u001b[0;32m--> 271\u001b[0;31m         \u001b[0;32mreturn\u001b[0m \u001b[0m_open_file\u001b[0m\u001b[0;34m(\u001b[0m\u001b[0mname_or_buffer\u001b[0m\u001b[0;34m,\u001b[0m \u001b[0mmode\u001b[0m\u001b[0;34m)\u001b[0m\u001b[0;34m\u001b[0m\u001b[0;34m\u001b[0m\u001b[0m\n\u001b[0m\u001b[1;32m    272\u001b[0m     \u001b[0;32melse\u001b[0m\u001b[0;34m:\u001b[0m\u001b[0;34m\u001b[0m\u001b[0;34m\u001b[0m\u001b[0m\n\u001b[1;32m    273\u001b[0m         \u001b[0;32mif\u001b[0m \u001b[0;34m'w'\u001b[0m \u001b[0;32min\u001b[0m \u001b[0mmode\u001b[0m\u001b[0;34m:\u001b[0m\u001b[0;34m\u001b[0m\u001b[0;34m\u001b[0m\u001b[0m\n",
            "\u001b[0;32m/usr/local/lib/python3.10/dist-packages/torch/serialization.py\u001b[0m in \u001b[0;36m__init__\u001b[0;34m(self, name, mode)\u001b[0m\n\u001b[1;32m    250\u001b[0m \u001b[0;32mclass\u001b[0m \u001b[0m_open_file\u001b[0m\u001b[0;34m(\u001b[0m\u001b[0m_opener\u001b[0m\u001b[0;34m)\u001b[0m\u001b[0;34m:\u001b[0m\u001b[0;34m\u001b[0m\u001b[0;34m\u001b[0m\u001b[0m\n\u001b[1;32m    251\u001b[0m     \u001b[0;32mdef\u001b[0m \u001b[0m__init__\u001b[0m\u001b[0;34m(\u001b[0m\u001b[0mself\u001b[0m\u001b[0;34m,\u001b[0m \u001b[0mname\u001b[0m\u001b[0;34m,\u001b[0m \u001b[0mmode\u001b[0m\u001b[0;34m)\u001b[0m\u001b[0;34m:\u001b[0m\u001b[0;34m\u001b[0m\u001b[0;34m\u001b[0m\u001b[0m\n\u001b[0;32m--> 252\u001b[0;31m         \u001b[0msuper\u001b[0m\u001b[0;34m(\u001b[0m\u001b[0;34m)\u001b[0m\u001b[0;34m.\u001b[0m\u001b[0m__init__\u001b[0m\u001b[0;34m(\u001b[0m\u001b[0mopen\u001b[0m\u001b[0;34m(\u001b[0m\u001b[0mname\u001b[0m\u001b[0;34m,\u001b[0m \u001b[0mmode\u001b[0m\u001b[0;34m)\u001b[0m\u001b[0;34m)\u001b[0m\u001b[0;34m\u001b[0m\u001b[0;34m\u001b[0m\u001b[0m\n\u001b[0m\u001b[1;32m    253\u001b[0m \u001b[0;34m\u001b[0m\u001b[0m\n\u001b[1;32m    254\u001b[0m     \u001b[0;32mdef\u001b[0m \u001b[0m__exit__\u001b[0m\u001b[0;34m(\u001b[0m\u001b[0mself\u001b[0m\u001b[0;34m,\u001b[0m \u001b[0;34m*\u001b[0m\u001b[0margs\u001b[0m\u001b[0;34m)\u001b[0m\u001b[0;34m:\u001b[0m\u001b[0;34m\u001b[0m\u001b[0;34m\u001b[0m\u001b[0m\n",
            "\u001b[0;31mFileNotFoundError\u001b[0m: [Errno 2] No such file or directory: '/content/drive/Othercomputers/My_comp/Documents/МФТИ - Наука о данных/NLP_course/DZ/Text_classification/Roberta/best_loss_aug_model_layer_wise.pt'"
          ]
        }
      ]
    },
    {
      "cell_type": "markdown",
      "source": [
        "Запуск после перерыва"
      ],
      "metadata": {
        "id": "qkdpQcGuc-A-"
      }
    },
    {
      "cell_type": "code",
      "execution_count": null,
      "metadata": {
        "colab": {
          "base_uri": "https://localhost:8080/",
          "height": 487
        },
        "outputId": "d0501412-9113-4a39-eabd-f13a3ec59654",
        "id": "y57RosZQRbDc"
      },
      "outputs": [
        {
          "output_type": "display_data",
          "data": {
            "text/plain": [
              "<Figure size 1800x500 with 3 Axes>"
            ],
            "image/png": "[encoded data removed]"
          },
          "metadata": {}
        }
      ],
      "source": [
        "train_ephs = len(hist_train_loss)\n",
        "losses = (hist_train_loss, hist_valid_loss)\n",
        "accuracy = (hist_train_acc, hist_valid_acc)\n",
        "plot_graph(train_ephs, losses, accuracy, hist_lr)"
      ]
    },
    {
      "cell_type": "markdown",
      "metadata": {
        "id": "Z933IF6TKEyv"
      },
      "source": [
        "# Plot_confusion_matrix"
      ]
    },
    {
      "cell_type": "code",
      "execution_count": null,
      "metadata": {
        "id": "2kC7B7goASoR"
      },
      "outputs": [],
      "source": [
        "def confusion_matrix(y_true, y_pred, labels=None, normalize=None,\n",
        "                     cmap=\"Blues\", encoded_labels=True,\n",
        "                     plot=True, verbose = False):\n",
        "    \"\"\"\n",
        "    Args:\n",
        "        y_true (ndarray)\n",
        "        y_pred (ndarray)\n",
        "        labels (list)\n",
        "        normalise (str) : {'all', None}\n",
        "        cmap (maplotlib.pyplot.cmap)\n",
        "        encoded_labels (bool): Need to be False if labels are not one hot encoded\n",
        "        plot (bool): If False, plot will not appear for confusion matrix\n",
        "\n",
        "    Return:\n",
        "        conf_mat (tuple): TN, FP, FN, TP\n",
        "    \"\"\"\n",
        "\n",
        "    import seaborn as sns\n",
        "    from sklearn.metrics import confusion_matrix\n",
        "\n",
        "    if normalize not in ('all', None):\n",
        "        raise ValueError(\"normalize must be one of {'all', None}\")\n",
        "\n",
        "    conf_labels = None if encoded_labels else labels\n",
        "    fmt = 'g' if normalize == None else '.2%'\n",
        "\n",
        "    conf_mat = confusion_matrix(y_true, y_pred, normalize=normalize, labels=conf_labels)\n",
        "\n",
        "    if plot:\n",
        "        plt.figure(figsize = (10,10))\n",
        "        ax = sns.heatmap(conf_mat, cmap=cmap,\n",
        "                         square=True, cbar=False,\n",
        "                         annot=True, fmt=fmt,\n",
        "                         annot_kws={'fontsize': 15,\n",
        "                                    'fontweight': 'bold',\n",
        "                                    'fontfamily': 'serif',\n",
        "                                    }\n",
        "                         )\n",
        "        ax.set_title(\"Confusion Matrix\", fontsize=18)\n",
        "        ax.set_xlabel(\"Predicted\", fontsize=11, color = \"red\")\n",
        "        ax.set_ylabel(\"Actual\", fontsize=11, color = \"red\")\n",
        "        if labels != None:\n",
        "            ax.set_yticklabels(labels,  fontsize=12)\n",
        "            ax.set_xticklabels(labels,  fontsize=12)\n",
        "    if verbose: return conf_mat"
      ]
    },
    {
      "cell_type": "code",
      "execution_count": null,
      "metadata": {
        "id": "dPbMvn3mfuov",
        "colab": {
          "base_uri": "https://localhost:8080/"
        },
        "outputId": "6e32480a-421f-4f8b-b470-67e1434d42ce"
      },
      "outputs": [
        {
          "output_type": "stream",
          "name": "stderr",
          "text": [
            "258it [00:39,  6.61it/s]\n"
          ]
        }
      ],
      "source": [
        "pred_lbls, y_val_lbls = predict_both(model, valid_loader)"
      ]
    },
    {
      "cell_type": "code",
      "execution_count": null,
      "metadata": {
        "id": "2l6vwFjKSYw0",
        "colab": {
          "base_uri": "https://localhost:8080/",
          "height": 882
        },
        "outputId": "fb5e9a5e-44e1-4e41-eb0c-3cfd9738003d"
      },
      "outputs": [
        {
          "output_type": "display_data",
          "data": {
            "text/plain": [
              "<Figure size 1000x1000 with 1 Axes>"
            ],
            "image/png": "[encoded data removed]"
          },
          "metadata": {}
        }
      ],
      "source": [
        "confusion_matrix(y_val_lbls, pred_lbls, labels=dict_sent_to_lbl.keys())#, normalize='all')"
      ]
    },
    {
      "cell_type": "markdown",
      "metadata": {
        "id": "pB5O6OtoR-h5"
      },
      "source": [
        "# Predict test"
      ]
    },
    {
      "cell_type": "code",
      "source": [
        "sentiments = []\n",
        "\n",
        "model.eval()\n",
        "with torch.inference_mode():\n",
        "    for i, row in tqdm(test_ds.iterrows(), total=test_ds.shape[0]):\n",
        "\n",
        "        # Cleanup and tokenize the sentence\n",
        "        text = row['Text_clean']\n",
        "\n",
        "        inputs = tokenizer.encode_plus(\n",
        "                                        text,\n",
        "                                        None,\n",
        "                                        add_special_tokens=True,\n",
        "                                        max_length=MAX_LEN,\n",
        "                                        pad_to_max_length=True,\n",
        "                                        return_token_type_ids=True\n",
        "                                    )\n",
        "        # get input_ids, attention_mask, token_type_ids\n",
        "        input_ids = inputs['input_ids']\n",
        "        attention_mask = inputs['attention_mask']\n",
        "        token_type_ids = inputs[\"token_type_ids\"]\n",
        "        input_ids = torch.tensor([input_ids], dtype=torch.long).to(device)\n",
        "        attention_mask = torch.tensor([attention_mask], dtype=torch.long).to(device)\n",
        "        token_type_ids = torch.tensor([token_type_ids], dtype=torch.long).to(device)\n",
        "\n",
        "\n",
        "        # Get predictions\n",
        "        logits = model(input_ids,\n",
        "                       attention_mask=attention_mask,\n",
        "                       token_type_ids = token_type_ids)\n",
        "        pred = torch.argmax(logits, 1)\n",
        "        # Convert the integer category value to its actual name and save in predictions list\n",
        "        sentiments.append(dict_lbl_to_sent[pred.item()])\n",
        "\n",
        "# Save the predictions in Pandas column\n",
        "test_ds['Sentiment'] = sentiments"
      ],
      "metadata": {
        "execution": {
          "iopub.status.busy": "2023-01-08T14:11:34.899520Z",
          "iopub.execute_input": "2023-01-08T14:11:34.899913Z",
          "iopub.status.idle": "2023-01-08T14:12:02.898013Z",
          "shell.execute_reply.started": "2023-01-08T14:11:34.899861Z",
          "shell.execute_reply": "2023-01-08T14:12:02.896863Z"
        },
        "trusted": true,
        "id": "5M1w0DhONa5S",
        "colab": {
          "base_uri": "https://localhost:8080/"
        },
        "outputId": "53f9f3a0-060d-48f0-8864-7c70fe958f58"
      },
      "execution_count": null,
      "outputs": [
        {
          "output_type": "stream",
          "name": "stderr",
          "text": [
            "100%|██████████| 3798/3798 [00:50<00:00, 75.05it/s]\n"
          ]
        }
      ]
    },
    {
      "cell_type": "code",
      "execution_count": null,
      "metadata": {
        "colab": {
          "base_uri": "https://localhost:8080/",
          "height": 206
        },
        "id": "Z6rSpN05R-iA",
        "outputId": "ff3b7f71-298f-4054-bf3e-664194341012"
      },
      "outputs": [
        {
          "output_type": "execute_result",
          "data": {
            "text/plain": [
              "                                     id           Sentiment\n",
              "0  787bc85b-20d4-46d8-84a0-562a2527f684            Negative\n",
              "1  17e934cd-ba94-4d4f-9ac0-ead202abe241            Positive\n",
              "2  5914534b-2b0f-4de8-bb8a-e25587697e0d  Extremely Positive\n",
              "3  cdf06cfe-29ae-48ee-ac6d-be448103ba45  Extremely Negative\n",
              "4  aff63979-0256-4fb9-a2d9-86a3d3ca5470             Neutral"
            ],
            "text/html": [
              "\n",
              "  <div id=\"df-bd8b75d9-43ba-42b5-9d59-75de48de29ff\" class=\"colab-df-container\">\n",
              "    <div>\n",
              "<style scoped>\n",
              "    .dataframe tbody tr th:only-of-type {\n",
              "        vertical-align: middle;\n",
              "    }\n",
              "\n",
              "    .dataframe tbody tr th {\n",
              "        vertical-align: top;\n",
              "    }\n",
              "\n",
              "    .dataframe thead th {\n",
              "        text-align: right;\n",
              "    }\n",
              "</style>\n",
              "<table border=\"1\" class=\"dataframe\">\n",
              "  <thead>\n",
              "    <tr style=\"text-align: right;\">\n",
              "      <th></th>\n",
              "      <th>id</th>\n",
              "      <th>Sentiment</th>\n",
              "    </tr>\n",
              "  </thead>\n",
              "  <tbody>\n",
              "    <tr>\n",
              "      <th>0</th>\n",
              "      <td>787bc85b-20d4-46d8-84a0-562a2527f684</td>\n",
              "      <td>Negative</td>\n",
              "    </tr>\n",
              "    <tr>\n",
              "      <th>1</th>\n",
              "      <td>17e934cd-ba94-4d4f-9ac0-ead202abe241</td>\n",
              "      <td>Positive</td>\n",
              "    </tr>\n",
              "    <tr>\n",
              "      <th>2</th>\n",
              "      <td>5914534b-2b0f-4de8-bb8a-e25587697e0d</td>\n",
              "      <td>Extremely Positive</td>\n",
              "    </tr>\n",
              "    <tr>\n",
              "      <th>3</th>\n",
              "      <td>cdf06cfe-29ae-48ee-ac6d-be448103ba45</td>\n",
              "      <td>Extremely Negative</td>\n",
              "    </tr>\n",
              "    <tr>\n",
              "      <th>4</th>\n",
              "      <td>aff63979-0256-4fb9-a2d9-86a3d3ca5470</td>\n",
              "      <td>Neutral</td>\n",
              "    </tr>\n",
              "  </tbody>\n",
              "</table>\n",
              "</div>\n",
              "    <div class=\"colab-df-buttons\">\n",
              "\n",
              "  <div class=\"colab-df-container\">\n",
              "    <button class=\"colab-df-convert\" onclick=\"convertToInteractive('df-bd8b75d9-43ba-42b5-9d59-75de48de29ff')\"\n",
              "            title=\"Convert this dataframe to an interactive table.\"\n",
              "            style=\"display:none;\">\n",
              "\n",
              "  <svg xmlns=\"http://www.w3.org/2000/svg\" height=\"24px\" viewBox=\"0 -960 960 960\">\n",
              "    <path d=\"M120-120v-720h720v720H120Zm60-500h600v-160H180v160Zm220 220h160v-160H400v160Zm0 220h160v-160H400v160ZM180-400h160v-160H180v160Zm440 0h160v-160H620v160ZM180-180h160v-160H180v160Zm440 0h160v-160H620v160Z\"/>\n",
              "  </svg>\n",
              "    </button>\n",
              "\n",
              "  <style>\n",
              "    .colab-df-container {\n",
              "      display:flex;\n",
              "      gap: 12px;\n",
              "    }\n",
              "\n",
              "    .colab-df-convert {\n",
              "      background-color: #E8F0FE;\n",
              "      border: none;\n",
              "      border-radius: 50%;\n",
              "      cursor: pointer;\n",
              "      display: none;\n",
              "      fill: #1967D2;\n",
              "      height: 32px;\n",
              "      padding: 0 0 0 0;\n",
              "      width: 32px;\n",
              "    }\n",
              "\n",
              "    .colab-df-convert:hover {\n",
              "      background-color: #E2EBFA;\n",
              "      box-shadow: 0px 1px 2px rgba(60, 64, 67, 0.3), 0px 1px 3px 1px rgba(60, 64, 67, 0.15);\n",
              "      fill: #174EA6;\n",
              "    }\n",
              "\n",
              "    .colab-df-buttons div {\n",
              "      margin-bottom: 4px;\n",
              "    }\n",
              "\n",
              "    [theme=dark] .colab-df-convert {\n",
              "      background-color: #3B4455;\n",
              "      fill: #D2E3FC;\n",
              "    }\n",
              "\n",
              "    [theme=dark] .colab-df-convert:hover {\n",
              "      background-color: #434B5C;\n",
              "      box-shadow: 0px 1px 3px 1px rgba(0, 0, 0, 0.15);\n",
              "      filter: drop-shadow(0px 1px 2px rgba(0, 0, 0, 0.3));\n",
              "      fill: #FFFFFF;\n",
              "    }\n",
              "  </style>\n",
              "\n",
              "    <script>\n",
              "      const buttonEl =\n",
              "        document.querySelector('#df-bd8b75d9-43ba-42b5-9d59-75de48de29ff button.colab-df-convert');\n",
              "      buttonEl.style.display =\n",
              "        google.colab.kernel.accessAllowed ? 'block' : 'none';\n",
              "\n",
              "      async function convertToInteractive(key) {\n",
              "        const element = document.querySelector('#df-bd8b75d9-43ba-42b5-9d59-75de48de29ff');\n",
              "        const dataTable =\n",
              "          await google.colab.kernel.invokeFunction('convertToInteractive',\n",
              "                                                    [key], {});\n",
              "        if (!dataTable) return;\n",
              "\n",
              "        const docLinkHtml = 'Like what you see? Visit the ' +\n",
              "          '<a target=\"_blank\" href=https://colab.research.google.com/notebooks/data_table.ipynb>data table notebook</a>'\n",
              "          + ' to learn more about interactive tables.';\n",
              "        element.innerHTML = '';\n",
              "        dataTable['output_type'] = 'display_data';\n",
              "        await google.colab.output.renderOutput(dataTable, element);\n",
              "        const docLink = document.createElement('div');\n",
              "        docLink.innerHTML = docLinkHtml;\n",
              "        element.appendChild(docLink);\n",
              "      }\n",
              "    </script>\n",
              "  </div>\n",
              "\n",
              "\n",
              "<div id=\"df-9bc32f07-7c73-4026-b2aa-dd163fd8ffcf\">\n",
              "  <button class=\"colab-df-quickchart\" onclick=\"quickchart('df-9bc32f07-7c73-4026-b2aa-dd163fd8ffcf')\"\n",
              "            title=\"Suggest charts.\"\n",
              "            style=\"display:none;\">\n",
              "\n",
              "<svg xmlns=\"http://www.w3.org/2000/svg\" height=\"24px\"viewBox=\"0 0 24 24\"\n",
              "     width=\"24px\">\n",
              "    <g>\n",
              "        <path d=\"M19 3H5c-1.1 0-2 .9-2 2v14c0 1.1.9 2 2 2h14c1.1 0 2-.9 2-2V5c0-1.1-.9-2-2-2zM9 17H7v-7h2v7zm4 0h-2V7h2v10zm4 0h-2v-4h2v4z\"/>\n",
              "    </g>\n",
              "</svg>\n",
              "  </button>\n",
              "\n",
              "<style>\n",
              "  .colab-df-quickchart {\n",
              "      --bg-color: #E8F0FE;\n",
              "      --fill-color: #1967D2;\n",
              "      --hover-bg-color: #E2EBFA;\n",
              "      --hover-fill-color: #174EA6;\n",
              "      --disabled-fill-color: #AAA;\n",
              "      --disabled-bg-color: #DDD;\n",
              "  }\n",
              "\n",
              "  [theme=dark] .colab-df-quickchart {\n",
              "      --bg-color: #3B4455;\n",
              "      --fill-color: #D2E3FC;\n",
              "      --hover-bg-color: #434B5C;\n",
              "      --hover-fill-color: #FFFFFF;\n",
              "      --disabled-bg-color: #3B4455;\n",
              "      --disabled-fill-color: #666;\n",
              "  }\n",
              "\n",
              "  .colab-df-quickchart {\n",
              "    background-color: var(--bg-color);\n",
              "    border: none;\n",
              "    border-radius: 50%;\n",
              "    cursor: pointer;\n",
              "    display: none;\n",
              "    fill: var(--fill-color);\n",
              "    height: 32px;\n",
              "    padding: 0;\n",
              "    width: 32px;\n",
              "  }\n",
              "\n",
              "  .colab-df-quickchart:hover {\n",
              "    background-color: var(--hover-bg-color);\n",
              "    box-shadow: 0 1px 2px rgba(60, 64, 67, 0.3), 0 1px 3px 1px rgba(60, 64, 67, 0.15);\n",
              "    fill: var(--button-hover-fill-color);\n",
              "  }\n",
              "\n",
              "  .colab-df-quickchart-complete:disabled,\n",
              "  .colab-df-quickchart-complete:disabled:hover {\n",
              "    background-color: var(--disabled-bg-color);\n",
              "    fill: var(--disabled-fill-color);\n",
              "    box-shadow: none;\n",
              "  }\n",
              "\n",
              "  .colab-df-spinner {\n",
              "    border: 2px solid var(--fill-color);\n",
              "    border-color: transparent;\n",
              "    border-bottom-color: var(--fill-color);\n",
              "    animation:\n",
              "      spin 1s steps(1) infinite;\n",
              "  }\n",
              "\n",
              "  @keyframes spin {\n",
              "    0% {\n",
              "      border-color: transparent;\n",
              "      border-bottom-color: var(--fill-color);\n",
              "      border-left-color: var(--fill-color);\n",
              "    }\n",
              "    20% {\n",
              "      border-color: transparent;\n",
              "      border-left-color: var(--fill-color);\n",
              "      border-top-color: var(--fill-color);\n",
              "    }\n",
              "    30% {\n",
              "      border-color: transparent;\n",
              "      border-left-color: var(--fill-color);\n",
              "      border-top-color: var(--fill-color);\n",
              "      border-right-color: var(--fill-color);\n",
              "    }\n",
              "    40% {\n",
              "      border-color: transparent;\n",
              "      border-right-color: var(--fill-color);\n",
              "      border-top-color: var(--fill-color);\n",
              "    }\n",
              "    60% {\n",
              "      border-color: transparent;\n",
              "      border-right-color: var(--fill-color);\n",
              "    }\n",
              "    80% {\n",
              "      border-color: transparent;\n",
              "      border-right-color: var(--fill-color);\n",
              "      border-bottom-color: var(--fill-color);\n",
              "    }\n",
              "    90% {\n",
              "      border-color: transparent;\n",
              "      border-bottom-color: var(--fill-color);\n",
              "    }\n",
              "  }\n",
              "</style>\n",
              "\n",
              "  <script>\n",
              "    async function quickchart(key) {\n",
              "      const quickchartButtonEl =\n",
              "        document.querySelector('#' + key + ' button');\n",
              "      quickchartButtonEl.disabled = true;  // To prevent multiple clicks.\n",
              "      quickchartButtonEl.classList.add('colab-df-spinner');\n",
              "      try {\n",
              "        const charts = await google.colab.kernel.invokeFunction(\n",
              "            'suggestCharts', [key], {});\n",
              "      } catch (error) {\n",
              "        console.error('Error during call to suggestCharts:', error);\n",
              "      }\n",
              "      quickchartButtonEl.classList.remove('colab-df-spinner');\n",
              "      quickchartButtonEl.classList.add('colab-df-quickchart-complete');\n",
              "    }\n",
              "    (() => {\n",
              "      let quickchartButtonEl =\n",
              "        document.querySelector('#df-9bc32f07-7c73-4026-b2aa-dd163fd8ffcf button');\n",
              "      quickchartButtonEl.style.display =\n",
              "        google.colab.kernel.accessAllowed ? 'block' : 'none';\n",
              "    })();\n",
              "  </script>\n",
              "</div>\n",
              "    </div>\n",
              "  </div>\n"
            ]
          },
          "metadata": {},
          "execution_count": 117
        }
      ],
      "source": [
        "sample_submission.Sentiment = test_ds['Sentiment'].values\n",
        "sample_submission.head()"
      ]
    },
    {
      "cell_type": "markdown",
      "metadata": {
        "id": "kvA93_HO-pFZ"
      },
      "source": [
        "# Сабмит в Kaggle сразу"
      ]
    },
    {
      "cell_type": "code",
      "execution_count": null,
      "metadata": {
        "id": "8XdCWvRf-e2F"
      },
      "outputs": [],
      "source": [
        "file_name = 'submission.csv'\n",
        "# сохраняем с колонкой Id\n",
        "sample_submission.to_csv(file_name, index=False)"
      ]
    },
    {
      "cell_type": "markdown",
      "metadata": {
        "id": "GoNoaMB4-ImF"
      },
      "source": [
        "Старый для проб"
      ]
    },
    {
      "cell_type": "code",
      "execution_count": null,
      "metadata": {
        "colab": {
          "base_uri": "https://localhost:8080/"
        },
        "id": "uaEbgEXj-U51",
        "outputId": "398fcb41-371a-468e-c4cb-05c9981805ac"
      },
      "outputs": [
        {
          "output_type": "stream",
          "name": "stdout",
          "text": [
            "Warning: Looks like you're using an outdated API Version, please consider updating (server 1.5.15 / client 1.5.12)\n",
            "100% 184k/184k [00:02<00:00, 63.5kB/s]\n",
            "Successfully submitted to Unit 3 - Text Classification"
          ]
        }
      ],
      "source": [
        "!kaggle competitions submit -c nlp-txt-classification -f submission.csv -m \"from colab_tests\""
      ]
    },
    {
      "cell_type": "markdown",
      "metadata": {
        "id": "0CegpWIx-C6J"
      },
      "source": [
        "Основной"
      ]
    },
    {
      "cell_type": "code",
      "execution_count": null,
      "metadata": {
        "colab": {
          "base_uri": "https://localhost:8080/"
        },
        "id": "5bMM3NZH9GYh",
        "outputId": "1b3c4b3b-bfa7-4d96-8fc3-03b91876ca50"
      },
      "outputs": [
        {
          "metadata": {
            "tags": null
          },
          "name": "stdout",
          "output_type": "stream",
          "text": [
            "Warning: Looks like you're using an outdated API Version, please consider updating (server 1.5.15 / client 1.5.12)\n",
            "100% 183k/183k [00:04<00:00, 44.6kB/s]\n",
            "Successfully submitted to Unit 3 - Классификация текстов"
          ]
        }
      ],
      "source": [
        "!kaggle competitions submit -c unit-3-nlp-txt-classification -f submission.csv -m \"From colab - Roberta_1\""
      ]
    }
  ],
  "metadata": {
    "accelerator": "GPU",
    "colab": {
      "provenance": [],
      "toc_visible": true,
      "name": "DZ_2_text_classification_roberta.ipynb",
      "include_colab_link": true
    },
    "kernelspec": {
      "display_name": "Python 3",
      "name": "python3"
    },
    "language_info": {
      "codemirror_mode": {
        "name": "ipython",
        "version": 3
      },
      "file_extension": ".py",
      "mimetype": "text/x-python",
      "name": "python",
      "nbconvert_exporter": "python",
      "pygments_lexer": "ipython3",
      "version": "3.6.4"
    }
  },
  "nbformat": 4,
  "nbformat_minor": 0
}