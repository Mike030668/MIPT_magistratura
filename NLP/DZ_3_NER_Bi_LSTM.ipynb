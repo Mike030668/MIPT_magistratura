{
  "cells": [
    {
      "cell_type": "markdown",
      "metadata": {
        "id": "view-in-github",
        "colab_type": "text"
      },
      "source": [
        "<a href=\"https://colab.research.google.com/github/Mike030668/MIPT_magistratura/blob/main/NLP/DZ_3_NER_Bi_LSTM.ipynb\" target=\"_parent\"><img src=\"https://colab.research.google.com/assets/colab-badge.svg\" alt=\"Open In Colab\"/></a>"
      ]
    },
    {
      "cell_type": "markdown",
      "source": [
        "# Token Classification. Практическое задание (PJ)\n",
        "\n",
        "Для закрепления материала модуля вам необходимо решить задачу NER для предоставленного датасета, используя любые доступные вам средства. Модель должна обучаться на файле `train.txt`, валидироваться на файле `dev.txt`, а её качество необходимо оценить на файле `test.txt`.\n",
        "\n",
        "Для достижения наилучшего результата уделите внимание подбору гиперпарметров как в плане архитектуры, так и в плане обучения модели.\n",
        "\n",
        "Критерии оценивания проекта:\n",
        "\n",
        "- общее качество кода и следование PEP-8;\n",
        "- использование рекуррентных сетей;\n",
        "- использованы варианты архитектур, близкие к state of the art для данной задачи;\n",
        "- произведен подбор гиперпараметров;\n",
        "- использованы техники изменения learning rate (lr scheduler);\n",
        "- использована адекватная задаче функция потерь;\n",
        "- использованы техники регуляризации;\n",
        "- корректно проведена валидация модели;\n",
        "- использованы техники ensemble;\n",
        "- использованы дополнительные данные;\n",
        "\n",
        "- итоговое значение метрики качества > 0.6 (f1)\n",
        "\n",
        "[датасет](https://lms.skillfactory.ru/asset-v1:SkillFactory+MFTIDS+SEP2023+type@asset+block@FactRuEval.zip)"
      ],
      "metadata": {
        "id": "1eRXgS4d7pCW"
      }
    },
    {
      "cell_type": "markdown",
      "metadata": {
        "id": "3_UxAHDXFXuN"
      },
      "source": [
        "## Reading the data"
      ]
    },
    {
      "cell_type": "code",
      "source": [
        "import numpy as np\n",
        "import pandas as pd"
      ],
      "metadata": {
        "id": "AcAssJKA8TKT"
      },
      "execution_count": null,
      "outputs": []
    },
    {
      "cell_type": "code",
      "source": [
        "loaded_path = '/content/data.zip'\n",
        "!wget https://lms.skillfactory.ru/asset-v1:SkillFactory+MFTIDS+SEP2023+type@asset+block@FactRuEval.zip -O {loaded_path}\n"
      ],
      "metadata": {
        "colab": {
          "base_uri": "https://localhost:8080/"
        },
        "id": "5WzTaKLW9FEp",
        "outputId": "6ec8e5e4-003c-47a3-b470-936ef454b9cf"
      },
      "execution_count": null,
      "outputs": [
        {
          "output_type": "stream",
          "name": "stdout",
          "text": [
            "--2023-10-04 08:54:42--  https://lms.skillfactory.ru/asset-v1:SkillFactory+MFTIDS+SEP2023+type@asset+block@FactRuEval.zip\n",
            "Resolving lms.skillfactory.ru (lms.skillfactory.ru)... 51.250.7.2\n",
            "Connecting to lms.skillfactory.ru (lms.skillfactory.ru)|51.250.7.2|:443... connected.\n",
            "HTTP request sent, awaiting response... 200 OK\n",
            "Length: 870425 (850K) [application/x-zip-compressed]\n",
            "Saving to: ‘/content/data.zip’\n",
            "\n",
            "/content/data.zip   100%[===================>] 850.02K  1.02MB/s    in 0.8s    \n",
            "\n",
            "2023-10-04 08:54:44 (1.02 MB/s) - ‘/content/data.zip’ saved [870425/870425]\n",
            "\n"
          ]
        }
      ]
    },
    {
      "cell_type": "code",
      "source": [
        "!unzip {loaded_path}"
      ],
      "metadata": {
        "colab": {
          "base_uri": "https://localhost:8080/"
        },
        "id": "XPxjgCpd_CZ_",
        "outputId": "cc88281e-ae8f-47e7-8006-69fc47fca959"
      },
      "execution_count": null,
      "outputs": [
        {
          "output_type": "stream",
          "name": "stdout",
          "text": [
            "Archive:  /content/data.zip\n",
            "  inflating: dev.txt                 \n",
            "  inflating: test.txt                \n",
            "  inflating: train.txt               \n"
          ]
        }
      ]
    },
    {
      "cell_type": "code",
      "source": [
        "import json\n",
        "\n",
        "def txt2json(file_path):\n",
        "\n",
        "    save_path = f\"{file_path.split('.')[0]}\"+'.json'\n",
        "    out_d = dict()\n",
        "    with open(file_path, 'r') as in_file:\n",
        "\n",
        "      stripped = (line.strip('\\n') for line in in_file)\n",
        "      line_dict = dict()\n",
        "\n",
        "      txt = []\n",
        "      lbl = []\n",
        "      j = 0\n",
        "      for i, line in enumerate(stripped):\n",
        "        if line:\n",
        "          t, l =  line.split(' ')\n",
        "          txt.append(t)\n",
        "          lbl.append(l)\n",
        "        if not line:\n",
        "          line_dict['token'] = txt\n",
        "          line_dict['ner'] = lbl\n",
        "          out_d.update({j: line_dict})\n",
        "          txt = []\n",
        "          lbl = []\n",
        "          line_dict = dict()\n",
        "          j+=1\n",
        "\n",
        "    with open(save_path, 'w', encoding='utf-8') as f:\n",
        "        json.dump(out_d, f, ensure_ascii=False, indent=4)\n",
        "\n",
        "\n",
        "\n"
      ],
      "metadata": {
        "id": "q7HxfVbLudpO"
      },
      "execution_count": null,
      "outputs": []
    },
    {
      "cell_type": "code",
      "source": [
        "txt2json('train.txt')\n",
        "txt2json('dev.txt')\n",
        "txt2json('test.txt')"
      ],
      "metadata": {
        "id": "vBVxhpRqvIhq"
      },
      "execution_count": null,
      "outputs": []
    },
    {
      "cell_type": "markdown",
      "source": [
        "https://github.com/urigoren/nlp_ner_workshop/tree/master/notebooks\n",
        "https://colab.research.google.com/github/urigoren/nlp_ner_workshop/blob/master/notebooks/NER_with_Pytorch_Bi_LSTM.ipynb#scrollTo=pSvkcXmTzHxh"
      ],
      "metadata": {
        "id": "pSvkcXmTzHxh"
      }
    },
    {
      "cell_type": "code",
      "execution_count": null,
      "metadata": {
        "id": "ytuVNXcEA6x-"
      },
      "outputs": [],
      "source": [
        "import json\n",
        "import collections\n",
        "import numpy as np\n",
        "import torch\n",
        "import torch.autograd as autograd\n",
        "import torch.nn as nn\n",
        "import torch.optim as optim\n",
        "torch.manual_seed(1)\n",
        "from matplotlib import pyplot as plt"
      ]
    },
    {
      "cell_type": "markdown",
      "metadata": {
        "id": "TZQlIHojA6yC"
      },
      "source": [
        "Our data consists of legal documents that have been pre-processed, tokenized and tagged. They're stored in one zip file of JSON files. To save space we'll read the files directly from the zip.\n",
        "Let's see what one of them looks like."
      ]
    },
    {
      "cell_type": "markdown",
      "metadata": {
        "id": "twWbvDyRA6yG"
      },
      "source": [
        "Next, we'll concatenate all of these sequences into one big dataset.  \n",
        "**NOTE**: Due to memory/time constraints we will limit the number of documents we use for training."
      ]
    },
    {
      "cell_type": "code",
      "source": [
        "# Read JSON file\n",
        "def read_json(file_path):\n",
        "  with open(file_path) as data_file:\n",
        "      return json.load(data_file)"
      ],
      "metadata": {
        "id": "vppz2x8zNOVi"
      },
      "execution_count": null,
      "outputs": []
    },
    {
      "cell_type": "code",
      "source": [
        "train_sequences = read_json('train.json')\n",
        "valid_sequences = read_json('dev.json')\n",
        "test_sequences = read_json('test.json')"
      ],
      "metadata": {
        "id": "qM1pQ_lIwBnp"
      },
      "execution_count": null,
      "outputs": []
    },
    {
      "cell_type": "markdown",
      "metadata": {
        "id": "SvXbhoFaA6yK"
      },
      "source": [
        "Since our RNN will work on sequences, we need to determine the maximum sequence length we'll use. The length of the sequence will impact the memory our model uses and the time it takes to train it.   \n",
        "We'll choose a maximum sequence length of 256 so that almost 98% of our data will be used in the model."
      ]
    },
    {
      "cell_type": "code",
      "execution_count": null,
      "metadata": {
        "id": "OevrN_ecns5y"
      },
      "outputs": [],
      "source": [
        "def filter_sequences(sequences, max_length=256):\n",
        "    lengths = [len(sequences[str(i)]['token']) for i in range(len(sequences))]\n",
        "    print(f'Maximum length: {max(lengths)}')\n",
        "    print(f'Minimum length: {min(lengths)}')\n",
        "    print(f'Average length: {sum(lengths)/len(lengths)}')\n",
        "\n",
        "    short_sequences = []\n",
        "    for i in range(len(sequences)):\n",
        "      seq = sequences[str(i)]\n",
        "      if len(seq['token']) <= max_length:\n",
        "        short_sequences.append(seq)\n",
        "\n",
        "    print(f'% of short sequences: {100 * len(short_sequences)/len(sequences)}')\n",
        "\n",
        "    X = [[c for c in x['token']] for x in short_sequences] #[' '.join(c for c in x['token']) for x in short_sequences] #\n",
        "    y = [[c for c in y['ner']] for y in short_sequences]\n",
        "    lengths = [len(x) for x in X]\n",
        "    print(f'Maximum cleared length: {max(lengths)}')\n",
        "    return X, y"
      ]
    },
    {
      "cell_type": "code",
      "source": [
        "short_sequences = []\n",
        "for i in range(len(train_sequences)):\n",
        "  seq = train_sequences[str(i)]\n",
        "  if len(seq['token']) < 256:\n",
        "    short_sequences.append(seq)"
      ],
      "metadata": {
        "id": "YP6g7RBH1Wek"
      },
      "execution_count": null,
      "outputs": []
    },
    {
      "cell_type": "code",
      "execution_count": null,
      "metadata": {
        "colab": {
          "base_uri": "https://localhost:8080/"
        },
        "id": "N4o8sjxgA6yM",
        "outputId": "32afa2f8-ccd5-478c-f3a3-4b6b09ffab70"
      },
      "outputs": [
        {
          "output_type": "stream",
          "name": "stdout",
          "text": [
            "Maximum length: 103\n",
            "Minimum length: 1\n",
            "Average length: 20.2285050348567\n",
            "% of short sequences: 100.0\n",
            "Maximum cleared length: 103\n",
            "\n",
            "Maximum length: 207\n",
            "Minimum length: 2\n",
            "Average length: 19.824167312161116\n",
            "% of short sequences: 99.96127033307513\n",
            "Maximum cleared length: 150\n",
            "\n",
            "Maximum length: 222\n",
            "Minimum length: 2\n",
            "Average length: 20.541440743609606\n",
            "% of short sequences: 99.96127033307513\n",
            "Maximum cleared length: 116\n"
          ]
        }
      ],
      "source": [
        "max_length_allowed = 200\n",
        "X_train, y_train = filter_sequences(train_sequences, max_length_allowed)\n",
        "print()\n",
        "X_valid, y_valid = filter_sequences(valid_sequences, max_length_allowed)\n",
        "print()\n",
        "X_test, y_test = filter_sequences(test_sequences, max_length_allowed)"
      ]
    },
    {
      "cell_type": "code",
      "source": [
        "j = 10\n",
        "len(X_valid[j]), len(y_valid[j])\n"
      ],
      "metadata": {
        "colab": {
          "base_uri": "https://localhost:8080/"
        },
        "id": "vc_bAuTp9cET",
        "outputId": "737ffcc4-403f-47d7-af01-d6fd4ac76308"
      },
      "execution_count": null,
      "outputs": [
        {
          "output_type": "execute_result",
          "data": {
            "text/plain": [
              "(12, 12)"
            ]
          },
          "metadata": {},
          "execution_count": 113
        }
      ]
    },
    {
      "cell_type": "markdown",
      "metadata": {
        "id": "e8s7WDUMA6yP"
      },
      "source": [
        "## Encoding the sequences"
      ]
    },
    {
      "cell_type": "markdown",
      "metadata": {
        "id": "p_wfXKFwA6yQ"
      },
      "source": [
        "Now that we have our word sequences ready we need to represent them in a machine readable (=numerical) format. To do that, we'll merge all of the tokens into one big corpus and assign each token a unique number.  \n",
        "**NOTE**: We will remove words that appear less than `min_token_frequency` since we can't learn much from them."
      ]
    },
    {
      "cell_type": "code",
      "source": [
        "import collections"
      ],
      "metadata": {
        "id": "NjljE6T3rJ5N"
      },
      "execution_count": null,
      "outputs": []
    },
    {
      "cell_type": "code",
      "execution_count": null,
      "metadata": {
        "id": "TP-6RYyLA6yQ"
      },
      "outputs": [],
      "source": [
        "min_token_frequency = 2\n",
        "ALL = X_train + X_valid\n",
        "corpus = (token for sequence in ALL for token in sequence)\n",
        "\n",
        "## Reserve the first two indexes for padding and uknowns\n",
        "index2token = [\"{unk}\"] + [token for token, count in collections.Counter(corpus).items() if count >= min_token_frequency]\n",
        "token2index = collections.defaultdict(lambda: 1, {token: index for index, token in enumerate(index2token)})\n",
        "\n",
        "index2label = list(set([label for target in y_train for label in target]))\n",
        "label2index = {label: index for index, label in enumerate(index2label)}\n"
      ]
    },
    {
      "cell_type": "code",
      "source": [
        "index2label"
      ],
      "metadata": {
        "colab": {
          "base_uri": "https://localhost:8080/"
        },
        "id": "jxnpN9u5xqoV",
        "outputId": "96f02422-dbb4-48fc-dd40-54f1d5cfbb73"
      },
      "execution_count": null,
      "outputs": [
        {
          "output_type": "execute_result",
          "data": {
            "text/plain": [
              "['B-LOC', 'B-PER', 'B-ORG', 'I-LOC', 'O', 'I-PER', 'I-ORG']"
            ]
          },
          "metadata": {},
          "execution_count": 68
        }
      ]
    },
    {
      "cell_type": "code",
      "source": [
        "label2index"
      ],
      "metadata": {
        "colab": {
          "base_uri": "https://localhost:8080/"
        },
        "id": "zSXgLf-RxtKi",
        "outputId": "826af6c6-6e75-4248-c86e-b08ed7091e5c"
      },
      "execution_count": null,
      "outputs": [
        {
          "output_type": "execute_result",
          "data": {
            "text/plain": [
              "{'B-LOC': 0,\n",
              " 'B-PER': 1,\n",
              " 'B-ORG': 2,\n",
              " 'I-LOC': 3,\n",
              " 'O': 4,\n",
              " 'I-PER': 5,\n",
              " 'I-ORG': 6}"
            ]
          },
          "metadata": {},
          "execution_count": 69
        }
      ]
    },
    {
      "cell_type": "markdown",
      "metadata": {
        "id": "50fk8mqRA6yS"
      },
      "source": [
        "Let's see some stats about our data"
      ]
    },
    {
      "cell_type": "code",
      "execution_count": null,
      "metadata": {
        "colab": {
          "base_uri": "https://localhost:8080/"
        },
        "id": "PVNkGvsFA6yT",
        "outputId": "18893548-bd42-4a31-bdd8-46162aa7943a"
      },
      "outputs": [
        {
          "output_type": "stream",
          "name": "stdout",
          "text": [
            "Text vocabulary size:  43026\n",
            "Label vocabulary size:  7\n",
            "Maximum sequence length:  150\n"
          ]
        }
      ],
      "source": [
        "max_sequence_length = max([len(x) for x in ALL])\n",
        "\n",
        "NUM_CLASSES = len(label2index)\n",
        "\n",
        "print('Text vocabulary size: ', len(token2index))\n",
        "print('Label vocabulary size: ', NUM_CLASSES)\n",
        "print('Maximum sequence length: ', max_sequence_length)"
      ]
    },
    {
      "cell_type": "markdown",
      "metadata": {
        "id": "kq-Vcf80A6yV"
      },
      "source": [
        "Next, we will use the dictionaries we've just created to encode our data.  \n",
        "**NOTE**: padding is not required as every exemple as its own model. If we decide to pad it may improve the performance, but we pad each batch individually."
      ]
    },
    {
      "cell_type": "code",
      "execution_count": null,
      "metadata": {
        "id": "NU_6z0bVA6yV"
      },
      "outputs": [],
      "source": [
        "X_enc_train = [[token2index[token] for token in sequence] for sequence in X_train]\n",
        "y_enc_train = [[label2index[label] for label in target] for target in y_train]\n",
        "\n",
        "X_enc_valid = [[token2index[token] for token in sequence] for sequence in X_valid]\n",
        "y_enc_valid = [[label2index[label] for label in target] for target in y_valid]\n",
        "\n",
        "X_enc_test = [[token2index[token] for token in sequence] for sequence in X_test]\n",
        "y_enc_test = [[label2index[label] for label in target] for target in y_test]"
      ]
    },
    {
      "cell_type": "code",
      "source": [
        "j = 10\n",
        "len(X_enc_valid[j]), len(y_enc_valid[j])\n"
      ],
      "metadata": {
        "colab": {
          "base_uri": "https://localhost:8080/"
        },
        "id": "oR6g3C_u6aE2",
        "outputId": "1fec9296-5319-4f68-b3b8-ee1412ce5bf5"
      },
      "execution_count": null,
      "outputs": [
        {
          "output_type": "execute_result",
          "data": {
            "text/plain": [
              "(12, 12)"
            ]
          },
          "metadata": {},
          "execution_count": 191
        }
      ]
    },
    {
      "cell_type": "markdown",
      "metadata": {
        "id": "3xuYcaGGA6yZ"
      },
      "source": [
        "## Building the model"
      ]
    },
    {
      "cell_type": "markdown",
      "metadata": {
        "id": "ntgltzCFA6ya"
      },
      "source": [
        "Before building our model, let's define some parameters which we'll need later"
      ]
    },
    {
      "cell_type": "code",
      "execution_count": null,
      "metadata": {
        "id": "hfshK5b6A6ya"
      },
      "outputs": [],
      "source": [
        "vocabulary_size = len(token2index)\n",
        "tags_size = NUM_CLASSES\n",
        "embedding_size = 128\n",
        "hidden_size = 128\n",
        "batch_size = 2048\n",
        "epochs = 5"
      ]
    },
    {
      "cell_type": "markdown",
      "metadata": {
        "id": "5I2t-yzWA6yc"
      },
      "source": [
        "To build our LSTM RNN, we're going to use Pytorch. We'll build it one layer at a time, explaining each layer as we go.\n",
        "This is an auxiliary function.\n",
        "\n"
      ]
    },
    {
      "cell_type": "code",
      "execution_count": null,
      "metadata": {
        "id": "hiM-uFJTA6yd"
      },
      "outputs": [],
      "source": [
        "def prepare_sequence(seq):\n",
        "    device = torch.device('cuda' if torch.cuda.is_available() else 'cpu')\n",
        "    return torch.tensor(seq, dtype=torch.long).to(device)"
      ]
    },
    {
      "cell_type": "code",
      "source": [
        "prepare_sequence(X_enc_valid[0])"
      ],
      "metadata": {
        "colab": {
          "base_uri": "https://localhost:8080/"
        },
        "id": "tLBJ6sjj8Lxt",
        "outputId": "bfba2606-0ce2-4d53-aade-d18b13d16fd0"
      },
      "execution_count": null,
      "outputs": [
        {
          "output_type": "execute_result",
          "data": {
            "text/plain": [
              "tensor([195, 395, 396, 397, 398, 399,  33, 400, 248,   8, 401, 402, 403, 404,\n",
              "        405, 406, 248,  36])"
            ]
          },
          "metadata": {},
          "execution_count": 76
        }
      ]
    },
    {
      "cell_type": "code",
      "execution_count": null,
      "metadata": {
        "id": "Y-B6DPZutl2J"
      },
      "outputs": [],
      "source": [
        "\n",
        "class LSTMTagger(nn.Module):\n",
        "    def __init__(self, embedding_dim, hidden_dim, vocab_size, tagset_size):\n",
        "        super(LSTMTagger, self).__init__()\n",
        "        self.hidden_dim = hidden_dim\n",
        "\n",
        "        self.word_embeddings = nn.Embedding(vocab_size,\n",
        "                                            embedding_dim)  # lookup table that switch word (word index) with vector\n",
        "\n",
        "        # The LSTM takes word embeddings as inputs, and outputs hidden states\n",
        "        # with dimensionality hidden_dim.\n",
        "        self.lstm = nn.LSTM(embedding_dim, hidden_dim, bidirectional=True)\n",
        "\n",
        "        # The linear layer that maps from hidden state space to tag space\n",
        "        self.hidden2tag = nn.Linear(2 * hidden_dim,\n",
        "                                    tagset_size)  # 2 times the hidden size due to the concatanation of the direction\n",
        "        self.hidden = self.init_hidden()\n",
        "\n",
        "    def init_hidden(self):\n",
        "        # Before we've done anything, we dont have any hidden state.\n",
        "        # Refer to the Pytorch documentation to see exactly\n",
        "        # why they have this dimensionality.\n",
        "        # The axes semantics are (num_layers, minibatch_size, hidden_dim)\n",
        "        device = torch.device('cuda' if torch.cuda.is_available() else 'cpu')\n",
        "        return (autograd.Variable(torch.zeros(2, 1, self.hidden_dim).to(device)),\n",
        "                autograd.Variable(\n",
        "                    torch.zeros(2, 1, self.hidden_dim).to(device)))  # <- change here: first dim of hidden needs to be doubled\n",
        "\n",
        "    def forward(self, sentence):\n",
        "        embeds = self.word_embeddings(sentence)\n",
        "        lstm_out, self.hidden = self.lstm(embeds.view(len(sentence), 1, -1), self.hidden)\n",
        "        tag_space = self.hidden2tag(lstm_out.view(len(sentence), -1))\n",
        "        return tag_space\n",
        "\n",
        "    def predict(self, sentence):\n",
        "        embeds = self.word_embeddings(sentence)\n",
        "        lstm_out, self.hidden = self.lstm(embeds.view(len(sentence), 1, -1), self.hidden)\n",
        "        logits = self.hidden2tag(lstm_out.view(len(sentence), -1))\n",
        "        pred = torch.softmax(logits, dim=1)\n",
        "        pred = torch.argmax(pred, dim=1)\n",
        "        return pred\n"
      ]
    },
    {
      "cell_type": "code",
      "execution_count": null,
      "metadata": {
        "id": "xTK5wHikvtI9",
        "outputId": "7985c921-2999-4052-8287-5a93c51167e5",
        "colab": {
          "base_uri": "https://localhost:8080/"
        }
      },
      "outputs": [
        {
          "output_type": "execute_result",
          "data": {
            "text/plain": [
              "LSTMTagger(\n",
              "  (word_embeddings): Embedding(35630, 128)\n",
              "  (lstm): LSTM(128, 128, bidirectional=True)\n",
              "  (hidden2tag): Linear(in_features=256, out_features=7, bias=True)\n",
              ")"
            ]
          },
          "metadata": {},
          "execution_count": 208
        }
      ],
      "source": [
        "model = LSTMTagger(embedding_size,hidden_size,vocabulary_size,tags_size)\n",
        "device = torch.device('cuda' if torch.cuda.is_available() else 'cpu')\n",
        "model.to(device)"
      ]
    },
    {
      "cell_type": "code",
      "execution_count": null,
      "metadata": {
        "id": "0lwc8H8BJIK_"
      },
      "outputs": [],
      "source": [
        "def eval_on_dev(X_dev,y_dev):\n",
        "    sum_loss = 0.0\n",
        "    good = 0.0\n",
        "    bad = 0.0\n",
        "    ### Testing\n",
        "    model.eval()\n",
        "    for sentence_in, targets in zip(X_dev,y_dev):\n",
        "      # Step 1. Remember that Pytorch accumulates gradients.\n",
        "      # We need to clear them out before each instance\n",
        "\n",
        "      # Also, we need to clear out the hidden state of the LSTM,\n",
        "      # detaching it from its history on the last instance.\n",
        "      model.hidden = model.init_hidden()\n",
        "\n",
        "      # Step 3. Run our forward pass.\n",
        "      logits = model(prepare_sequence(sentence_in))\n",
        "\n",
        "      # Step 4. Compute the loss, gradients, and update the parameters by\n",
        "      targets = prepare_sequence(targets)\n",
        "      loss = loss_function(logits, targets)\n",
        "      preds = torch.softmax(logits, dim=1)\n",
        "      preds = torch.argmax(preds, dim=1)\n",
        "\n",
        "      sum_loss += loss.item()\n",
        "      correct = (preds == targets).sum().item()\n",
        "      good += correct\n",
        "      bad  += len(targets) - correct\n",
        "\n",
        "    return sum_loss/len(X_dev), good / (good + bad)\n",
        "\n"
      ]
    },
    {
      "cell_type": "markdown",
      "metadata": {
        "id": "uQ3WhuMVA6yt"
      },
      "source": [
        "## Training the model"
      ]
    },
    {
      "cell_type": "code",
      "execution_count": null,
      "metadata": {
        "colab": {
          "base_uri": "https://localhost:8080/"
        },
        "id": "08Ilcct5wOUY",
        "outputId": "3af59497-ea2c-4bdc-8699-d53bf415692a"
      },
      "outputs": [
        {
          "output_type": "stream",
          "name": "stdout",
          "text": [
            "\n",
            "Train on epoch 1\n",
            "5.16% train with loss 0.6121 |   val_loss 0.5640, val_acc 0.8503\n",
            "10.33% train with loss 0.5549 |   val_loss 0.5132, val_acc 0.8590\n",
            "15.49% train with loss 0.4859 |   val_loss 0.4577, val_acc 0.8688\n",
            "\n",
            "Train on epoch 2\n",
            "20.66% train with loss 0.4299 |   val_loss 0.4233, val_acc 0.8761\n",
            "25.82% train with loss 0.4007 |   val_loss 0.4126, val_acc 0.8811\n",
            "30.98% train with loss 0.3610 |   val_loss 0.3753, val_acc 0.8870\n",
            "36.15% train with loss 0.3241 |   val_loss 0.3568, val_acc 0.8930\n",
            "\n",
            "Train on epoch 3\n",
            "41.31% train with loss 0.3033 |   val_loss 0.3343, val_acc 0.8971\n",
            "46.48% train with loss 0.2851 |   val_loss 0.3221, val_acc 0.9007\n",
            "51.64% train with loss 0.2428 |   val_loss 0.3109, val_acc 0.9068\n",
            "56.80% train with loss 0.2187 |   val_loss 0.2926, val_acc 0.9115\n",
            "\n",
            "Train on epoch 4\n",
            "61.97% train with loss 0.2069 |   val_loss 0.2866, val_acc 0.9119\n",
            "67.13% train with loss 0.1922 |   val_loss 0.3144, val_acc 0.8996\n",
            "72.30% train with loss 0.1651 |   val_loss 0.2864, val_acc 0.9081\n",
            "77.46% train with loss 0.1444 |   val_loss 0.2653, val_acc 0.9207\n",
            "\n",
            "Train on epoch 5\n",
            "82.62% train with loss 0.1391 |   val_loss 0.2597, val_acc 0.9198\n",
            "87.79% train with loss 0.1316 |   val_loss 0.2551, val_acc 0.9231\n",
            "92.95% train with loss 0.1084 |   val_loss 0.2597, val_acc 0.9254\n",
            "98.12% train with loss 0.0942 |   val_loss 0.2556, val_acc 0.9225\n"
          ]
        }
      ],
      "source": [
        "eval_number = 1000\n",
        "loss_function = nn.CrossEntropyLoss()\n",
        "optimizer = optim.SGD(model.parameters(), lr=0.1)\n",
        "loss_history = []\n",
        "dev_history = []\n",
        "dev_acc_history = []\n",
        "sum_loss = 0.0\n",
        "\n",
        "reduce_train_size = 2\n",
        "stop = int(len(X_enc_train)/reduce_train_size)\n",
        "\n",
        "for epoch in range(epochs):\n",
        "    i = 0\n",
        "for epoch in range(epochs):\n",
        "    print(f'\\nTrain on epoch {epoch+1}')\n",
        "    for sentence_in, targets in zip(X_enc_train[:stop], y_enc_train[:stop]):\n",
        "        i+=1\n",
        "         #every eval_number check you accuracy and loss on the dev set\n",
        "        if (i % eval_number == 0):\n",
        "            t = 100 * i/(epochs*stop)\n",
        "            loss_history.append(sum_loss / eval_number)\n",
        "            dev_loss, dev_acc = eval_on_dev(X_enc_valid, y_enc_valid)\n",
        "            dev_history.append(dev_loss)\n",
        "            dev_acc_history.append(dev_acc)\n",
        "            print(f'{t:.2f}% train with loss {sum_loss / eval_number:.4f} |   val_loss {dev_loss:.4f}, val_acc {dev_acc:.4f}')\n",
        "            sum_loss = 0.0\n",
        "\n",
        "        # Step 1. Remember that Pytorch accumulates gradients.\n",
        "        # We need to clear them out before each instance\n",
        "        model.zero_grad()\n",
        "        #model.train()\n",
        "\n",
        "        # Also, we need to clear out the hidden state of the LSTM,\n",
        "        # detaching it from its history on the last instance.\n",
        "        model.hidden = model.init_hidden()\n",
        "\n",
        "        # Step 3. Run our forward pass.\n",
        "        tag_scores = model(prepare_sequence(sentence_in))\n",
        "\n",
        "        # Step 4. Compute the loss, gradients, and update the parameters by\n",
        "        #  calling optimizer.step(\n",
        "        targets = prepare_sequence(targets)\n",
        "        loss = loss_function(tag_scores, targets)\n",
        "\n",
        "        sum_loss += loss.item()\n",
        "        loss.backward()\n",
        "        optimizer.step()\n",
        "\n",
        "\n",
        "\n"
      ]
    },
    {
      "cell_type": "markdown",
      "metadata": {
        "id": "uJNiD_O4A6yu"
      },
      "source": [
        "Let's examine the learning process"
      ]
    },
    {
      "cell_type": "code",
      "execution_count": null,
      "metadata": {
        "colab": {
          "base_uri": "https://localhost:8080/",
          "height": 430
        },
        "id": "NbGpxJOIA6yx",
        "outputId": "dcbe4492-376e-4aa7-8efd-e80280197b7f"
      },
      "outputs": [
        {
          "output_type": "display_data",
          "data": {
            "text/plain": [
              "<Figure size 640x480 with 1 Axes>"
            ],
            "image/png": "[encoded data removed]"
          },
          "metadata": {}
        }
      ],
      "source": [
        "# plot some data\n",
        "plt.plot(loss_history, label='loss')\n",
        "plt.plot(dev_history, label='validate_loss')\n",
        "plt.legend();"
      ]
    },
    {
      "cell_type": "code",
      "execution_count": null,
      "metadata": {
        "colab": {
          "base_uri": "https://localhost:8080/",
          "height": 430
        },
        "id": "Yo9WSbGIA6yz",
        "outputId": "9a121cb4-ffee-41c4-aa5f-8632c3f052f6"
      },
      "outputs": [
        {
          "output_type": "display_data",
          "data": {
            "text/plain": [
              "<Figure size 640x480 with 1 Axes>"
            ],
            "image/png": "[encoded data removed]"
          },
          "metadata": {}
        }
      ],
      "source": [
        "# accuracies\n",
        "plt.plot(dev_acc_history, label='accuracy')\n",
        "plt.legend();"
      ]
    },
    {
      "cell_type": "markdown",
      "metadata": {
        "id": "0KvhBMqiwWwN"
      },
      "source": [
        "## Test\n"
      ]
    },
    {
      "cell_type": "code",
      "source": [
        "test_loss, test_acc = eval_on_dev(X_enc_test, y_enc_test)\n",
        "test_loss, test_acc"
      ],
      "metadata": {
        "colab": {
          "base_uri": "https://localhost:8080/"
        },
        "id": "Vm7OJhxwZcFV",
        "outputId": "030ac535-f6b1-4a54-88c4-4fccfcffa025"
      },
      "execution_count": null,
      "outputs": [
        {
          "output_type": "execute_result",
          "data": {
            "text/plain": [
              "(0.24495130375448473, 0.9242464404725841)"
            ]
          },
          "metadata": {},
          "execution_count": 213
        }
      ]
    },
    {
      "cell_type": "code",
      "source": [
        "preds = []\n",
        "for sentence_in in X_enc_test:\n",
        "    model.eval()\n",
        "    model.hidden = model.init_hidden()\n",
        "\n",
        "    # Step 3. Run our forward pass.\n",
        "    logits = model(prepare_sequence(sentence_in))\n",
        "\n",
        "    # Step 4. Compute the loss, gradients, and update the parameters by\n",
        "    targets = prepare_sequence(targets)\n",
        "    pred = torch.softmax(logits, dim=1)\n",
        "    pred = torch.argmax(pred, dim=1)\n",
        "    preds.append(pred.cpu().numpy())\n",
        "\n",
        "#preds = [[index2label[y_] for y_ in y] for y in preds]"
      ],
      "metadata": {
        "id": "vzHPKwIfYzB0",
        "colab": {
          "base_uri": "https://localhost:8080/"
        },
        "outputId": "834569f0-3226-413c-af2e-1285ca265115"
      },
      "execution_count": null,
      "outputs": [
        {
          "output_type": "stream",
          "name": "stderr",
          "text": [
            "<ipython-input-119-039af80a889d>:3: UserWarning: To copy construct from a tensor, it is recommended to use sourceTensor.clone().detach() or sourceTensor.clone().detach().requires_grad_(True), rather than torch.tensor(sourceTensor).\n",
            "  return torch.tensor(seq, dtype=torch.long).to(device)\n"
          ]
        }
      ]
    },
    {
      "cell_type": "code",
      "source": [
        "correct  = 0\n",
        "incorrect = 0\n",
        "for i in range(len(X_enc_test)):\n",
        "  y_pred = preds[i]\n",
        "  y_true = np.array(y_enc_test[i])\n",
        "  correct += np.nonzero(y_pred == y_true)[0].shape[0]\n",
        "  incorrect += np.nonzero(y_pred != y_true)[0].shape[0]\n",
        "\n",
        "print(\"Correct predicted classes:\", correct)\n",
        "print(\"Incorrect predicted classes:\", incorrect)\n",
        "print(correct / (correct + incorrect))"
      ],
      "metadata": {
        "colab": {
          "base_uri": "https://localhost:8080/"
        },
        "id": "opdyTTvHwN05",
        "outputId": "17259cad-01f9-416f-d12b-b7663a5d2ce7"
      },
      "execution_count": null,
      "outputs": [
        {
          "output_type": "stream",
          "name": "stdout",
          "text": [
            "Correct predicted classes: 48815\n",
            "Incorrect predicted classes: 4001\n",
            "0.9242464404725841\n"
          ]
        }
      ]
    },
    {
      "cell_type": "code",
      "source": [
        "from sklearn.metrics import classification_report"
      ],
      "metadata": {
        "id": "egd3MBYu-n9A"
      },
      "execution_count": null,
      "outputs": []
    },
    {
      "cell_type": "code",
      "source": [
        "def flat_lists(seqs):\n",
        "  out = []\n",
        "  for s in seqs:\n",
        "    out.extend(s)\n",
        "  return out"
      ],
      "metadata": {
        "id": "_XI3nAcB033s"
      },
      "execution_count": null,
      "outputs": []
    },
    {
      "cell_type": "code",
      "execution_count": null,
      "metadata": {
        "_uuid": "bc3bfd05450aaee55c9e5edc7fb84d884c1d3e0b",
        "colab": {
          "base_uri": "https://localhost:8080/"
        },
        "id": "UKVQnF0TRVmt",
        "outputId": "4ceda7ea-ddd5-49b7-9174-df390ca1dbcf"
      },
      "outputs": [
        {
          "output_type": "stream",
          "name": "stdout",
          "text": [
            "              precision    recall  f1-score   support\n",
            "\n",
            "       B-LOC       0.84      0.75      0.79      1508\n",
            "       B-PER       0.64      0.67      0.65      2132\n",
            "       B-ORG       0.78      0.60      0.68      1734\n",
            "       I-LOC       0.88      0.65      0.75       342\n",
            "           O       0.95      0.97      0.96     44706\n",
            "       I-PER       0.76      0.70      0.73      1304\n",
            "       I-ORG       0.68      0.48      0.57      1090\n",
            "\n",
            "    accuracy                           0.92     52816\n",
            "   macro avg       0.79      0.69      0.73     52816\n",
            "weighted avg       0.92      0.92      0.92     52816\n",
            "\n"
          ]
        }
      ],
      "source": [
        "print(classification_report(flat_lists(y_enc_test), flat_lists(preds), target_names=index2label))"
      ]
    }
  ],
  "metadata": {
    "colab": {
      "provenance": [],
      "include_colab_link": true
    },
    "kernelspec": {
      "display_name": "Python 3",
      "language": "python",
      "name": "python3"
    },
    "language_info": {
      "codemirror_mode": {
        "name": "ipython",
        "version": 3
      },
      "file_extension": ".py",
      "mimetype": "text/x-python",
      "name": "python",
      "nbconvert_exporter": "python",
      "pygments_lexer": "ipython3",
      "version": "3.6.7"
    }
  },
  "nbformat": 4,
  "nbformat_minor": 0
}