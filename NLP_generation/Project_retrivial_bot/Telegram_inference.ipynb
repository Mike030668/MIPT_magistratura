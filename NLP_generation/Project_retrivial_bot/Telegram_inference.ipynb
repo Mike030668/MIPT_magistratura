{
  "nbformat": 4,
  "nbformat_minor": 0,
  "metadata": {
    "colab": {
      "provenance": [],
      "gpuType": "T4",
      "authorship_tag": "ABX9TyPCe6G+AQOwemqtMoZVh+Yb",
      "include_colab_link": true
    },
    "kernelspec": {
      "name": "python3",
      "display_name": "Python 3"
    },
    "language_info": {
      "name": "python"
    },
    "accelerator": "GPU"
  },
  "cells": [
    {
      "cell_type": "markdown",
      "metadata": {
        "id": "view-in-github",
        "colab_type": "text"
      },
      "source": [
        "<a href=\"https://colab.research.google.com/github/Mike030668/MIPT_magistratura/blob/main/NLP_generation/Project_retrivial_bot/Telegram_inference.ipynb\" target=\"_parent\"><img src=\"https://colab.research.google.com/assets/colab-badge.svg\" alt=\"Open In Colab\"/></a>"
      ]
    },
    {
      "cell_type": "code",
      "execution_count": null,
      "metadata": {
        "colab": {
          "base_uri": "https://localhost:8080/"
        },
        "id": "2egJAS69M_PU",
        "outputId": "a85a2360-e6d7-4b5b-8e64-290e0744094c"
      },
      "outputs": [
        {
          "output_type": "stream",
          "name": "stdout",
          "text": [
            "\u001b[?25l     \u001b[90m━━━━━━━━━━━━━━━━━━━━━━━━━━━━━━━━━━━━━━━━\u001b[0m \u001b[32m0.0/232.2 kB\u001b[0m \u001b[31m?\u001b[0m eta \u001b[36m-:--:--\u001b[0m\r\u001b[2K     \u001b[91m━━━━━━━━━━━━━━━━━━━━━━━━━━━━━\u001b[0m\u001b[91m╸\u001b[0m\u001b[90m━━━━━━━━━━\u001b[0m \u001b[32m174.1/232.2 kB\u001b[0m \u001b[31m5.0 MB/s\u001b[0m eta \u001b[36m0:00:01\u001b[0m\r\u001b[2K     \u001b[90m━━━━━━━━━━━━━━━━━━━━━━━━━━━━━━━━━━━━━━━━\u001b[0m \u001b[32m232.2/232.2 kB\u001b[0m \u001b[31m5.0 MB/s\u001b[0m eta \u001b[36m0:00:00\u001b[0m\n",
            "\u001b[?25hPlease wait messsage - READY\n",
            "\n",
            "Load weights and model\n",
            "\n",
            "Downloading...\n",
            "From (original): https://drive.google.com/uc?id=1yj0VuOJmpwio0h9cLuBs50oG_YzVr86a\n",
            "From (redirected): https://drive.google.com/uc?id=1yj0VuOJmpwio0h9cLuBs50oG_YzVr86a&confirm=t&uuid=aa135708-28df-43c4-b055-3c73ff479324\n",
            "To: /content/MIPT_magistratura/NLP_generation/Project_retrivial_bot/models/cross_encoder/model.pt\n",
            "100% 266M/266M [00:02<00:00, 122MB/s]\n",
            "Model loaded\n",
            "\n",
            "READY\n",
            "\n"
          ]
        }
      ],
      "source": [
        "!git clone https://github.com/Mike030668/MIPT_magistratura.git -q\n",
        "!pip3 install pytelegrambotapi -q\n",
        "!python /content/MIPT_magistratura/NLP_generation/Project_retrivial_bot/utils/telegram_bot.py"
      ]
    }
  ]
}